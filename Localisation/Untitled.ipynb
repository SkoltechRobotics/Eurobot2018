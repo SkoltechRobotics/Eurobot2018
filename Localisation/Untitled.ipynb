{
 "cells": [
  {
   "cell_type": "code",
   "execution_count": 26,
   "metadata": {},
   "outputs": [],
   "source": [
    "import sympy\n",
    "from sympy import cos, sin\n",
    "import numpy as np\n",
    "sympy.init_printing()"
   ]
  },
  {
   "cell_type": "code",
   "execution_count": 6,
   "metadata": {},
   "outputs": [],
   "source": [
    "X, Y, A = sympy.symbols(\"X Y A\")\n",
    "x, y, a = sympy.symbols(\"x y a\")\n",
    "x1, y1, a1 = sympy.symbols(\"x_1 y_1 a_1\")"
   ]
  },
  {
   "cell_type": "code",
   "execution_count": 9,
   "metadata": {},
   "outputs": [],
   "source": [
    "def transform_matrix(x, y, a):\n",
    "    return sympy.Matrix([[cos(a), -sin(a), x], [sin(a), cos(a), y], [0, 0, 1]])"
   ]
  },
  {
   "cell_type": "code",
   "execution_count": 10,
   "metadata": {},
   "outputs": [],
   "source": [
    "Ml = transform_matrix(x, y, a)\n",
    "Mg = transform_matrix(x1, y1, a1)\n",
    "Mgl = transform_matrix(X, Y, A)"
   ]
  },
  {
   "cell_type": "code",
   "execution_count": 14,
   "metadata": {},
   "outputs": [
    {
     "data": {
      "text/latex": [
       "$$\\left[\\begin{matrix}\\cos{\\left (A + a \\right )} & - \\sin{\\left (A + a \\right )} & X + x \\cos{\\left (A \\right )} - y \\sin{\\left (A \\right )}\\\\\\sin{\\left (A + a \\right )} & \\cos{\\left (A + a \\right )} & Y + x \\sin{\\left (A \\right )} + y \\cos{\\left (A \\right )}\\\\0 & 0 & 1\\end{matrix}\\right]$$"
      ],
      "text/plain": [
       "⎡cos(A + a)  -sin(A + a)  X + x⋅cos(A) - y⋅sin(A)⎤\n",
       "⎢                                                ⎥\n",
       "⎢sin(A + a)  cos(A + a)   Y + x⋅sin(A) + y⋅cos(A)⎥\n",
       "⎢                                                ⎥\n",
       "⎣    0            0                  1           ⎦"
      ]
     },
     "execution_count": 14,
     "metadata": {},
     "output_type": "execute_result"
    }
   ],
   "source": [
    "sympy.simplify(Mgl * Ml)"
   ]
  },
  {
   "cell_type": "code",
   "execution_count": 23,
   "metadata": {},
   "outputs": [
    {
     "data": {
      "text/latex": [
       "$$\\left[\\begin{matrix}\\cos{\\left (a - a_{1} \\right )} & \\sin{\\left (a - a_{1} \\right )} & - x \\cos{\\left (a - a_{1} \\right )} + x_{1} - y \\sin{\\left (a - a_{1} \\right )}\\\\- \\sin{\\left (a - a_{1} \\right )} & \\cos{\\left (a - a_{1} \\right )} & x \\sin{\\left (a - a_{1} \\right )} - y \\cos{\\left (a - a_{1} \\right )} + y_{1}\\\\0 & 0 & 1\\end{matrix}\\right]$$"
      ],
      "text/plain": [
       "⎡cos(a - a₁)   sin(a - a₁)  -x⋅cos(a - a₁) + x₁ - y⋅sin(a - a₁)⎤\n",
       "⎢                                                              ⎥\n",
       "⎢-sin(a - a₁)  cos(a - a₁)  x⋅sin(a - a₁) - y⋅cos(a - a₁) + y₁ ⎥\n",
       "⎢                                                              ⎥\n",
       "⎣     0             0                        1                 ⎦"
      ]
     },
     "execution_count": 23,
     "metadata": {},
     "output_type": "execute_result"
    }
   ],
   "source": [
    "sympy.simplify(Mg * sympy.simplify(Ml.inv()))"
   ]
  },
  {
   "cell_type": "code",
   "execution_count": 24,
   "metadata": {},
   "outputs": [
    {
     "data": {
      "text/latex": [
       "$$\\left[\\begin{matrix}\\cos{\\left (A - a_{1} \\right )} & \\sin{\\left (A - a_{1} \\right )} & - X \\cos{\\left (A \\right )} - Y \\sin{\\left (A \\right )} + x_{1} \\cos{\\left (A \\right )} + y_{1} \\sin{\\left (A \\right )}\\\\- \\sin{\\left (A - a_{1} \\right )} & \\cos{\\left (A - a_{1} \\right )} & X \\sin{\\left (A \\right )} - Y \\cos{\\left (A \\right )} - x_{1} \\sin{\\left (A \\right )} + y_{1} \\cos{\\left (A \\right )}\\\\0 & 0 & 1\\end{matrix}\\right]$$"
      ],
      "text/plain": [
       "⎡cos(A - a₁)   sin(A - a₁)  -X⋅cos(A) - Y⋅sin(A) + x₁⋅cos(A) + y₁⋅sin(A)⎤\n",
       "⎢                                                                       ⎥\n",
       "⎢-sin(A - a₁)  cos(A - a₁)  X⋅sin(A) - Y⋅cos(A) - x₁⋅sin(A) + y₁⋅cos(A) ⎥\n",
       "⎢                                                                       ⎥\n",
       "⎣     0             0                            1                      ⎦"
      ]
     },
     "execution_count": 24,
     "metadata": {},
     "output_type": "execute_result"
    }
   ],
   "source": [
    "sympy.simplify(sympy.simplify(Mgl.inv()) * Mg)"
   ]
  },
  {
   "cell_type": "code",
   "execution_count": 50,
   "metadata": {},
   "outputs": [],
   "source": [
    "a = np.arange(54).reshape(9, 3, 2)"
   ]
  },
  {
   "cell_type": "code",
   "execution_count": 51,
   "metadata": {},
   "outputs": [],
   "source": [
    "ind = np.random.randint(0, 3, (9, 5))"
   ]
  },
  {
   "cell_type": "code",
   "execution_count": 52,
   "metadata": {},
   "outputs": [
    {
     "data": {
      "text/plain": [
       "array([[0, 2, 0, 0, 1],\n",
       "       [2, 1, 0, 2, 0],\n",
       "       [0, 1, 0, 0, 1],\n",
       "       [0, 1, 0, 1, 2],\n",
       "       [2, 1, 2, 2, 0],\n",
       "       [1, 1, 0, 1, 1],\n",
       "       [0, 0, 0, 1, 1],\n",
       "       [2, 0, 1, 0, 2],\n",
       "       [1, 1, 1, 0, 2]])"
      ]
     },
     "execution_count": 52,
     "metadata": {},
     "output_type": "execute_result"
    }
   ],
   "source": [
    "ind"
   ]
  },
  {
   "cell_type": "code",
   "execution_count": 53,
   "metadata": {},
   "outputs": [
    {
     "data": {
      "text/plain": [
       "array([[[ 0,  1],\n",
       "        [ 2,  3],\n",
       "        [ 4,  5]],\n",
       "\n",
       "       [[ 6,  7],\n",
       "        [ 8,  9],\n",
       "        [10, 11]],\n",
       "\n",
       "       [[12, 13],\n",
       "        [14, 15],\n",
       "        [16, 17]],\n",
       "\n",
       "       [[18, 19],\n",
       "        [20, 21],\n",
       "        [22, 23]],\n",
       "\n",
       "       [[24, 25],\n",
       "        [26, 27],\n",
       "        [28, 29]],\n",
       "\n",
       "       [[30, 31],\n",
       "        [32, 33],\n",
       "        [34, 35]],\n",
       "\n",
       "       [[36, 37],\n",
       "        [38, 39],\n",
       "        [40, 41]],\n",
       "\n",
       "       [[42, 43],\n",
       "        [44, 45],\n",
       "        [46, 47]],\n",
       "\n",
       "       [[48, 49],\n",
       "        [50, 51],\n",
       "        [52, 53]]])"
      ]
     },
     "execution_count": 53,
     "metadata": {},
     "output_type": "execute_result"
    }
   ],
   "source": [
    "a"
   ]
  },
  {
   "cell_type": "code",
   "execution_count": 54,
   "metadata": {},
   "outputs": [
    {
     "data": {
      "text/plain": [
       "array([[[ 0,  1],\n",
       "        [ 4,  5],\n",
       "        [ 0,  1],\n",
       "        [ 0,  1],\n",
       "        [ 2,  3]],\n",
       "\n",
       "       [[10, 11],\n",
       "        [ 8,  9],\n",
       "        [ 6,  7],\n",
       "        [10, 11],\n",
       "        [ 6,  7]],\n",
       "\n",
       "       [[12, 13],\n",
       "        [14, 15],\n",
       "        [12, 13],\n",
       "        [12, 13],\n",
       "        [14, 15]],\n",
       "\n",
       "       [[18, 19],\n",
       "        [20, 21],\n",
       "        [18, 19],\n",
       "        [20, 21],\n",
       "        [22, 23]],\n",
       "\n",
       "       [[28, 29],\n",
       "        [26, 27],\n",
       "        [28, 29],\n",
       "        [28, 29],\n",
       "        [24, 25]],\n",
       "\n",
       "       [[32, 33],\n",
       "        [32, 33],\n",
       "        [30, 31],\n",
       "        [32, 33],\n",
       "        [32, 33]],\n",
       "\n",
       "       [[36, 37],\n",
       "        [36, 37],\n",
       "        [36, 37],\n",
       "        [38, 39],\n",
       "        [38, 39]],\n",
       "\n",
       "       [[46, 47],\n",
       "        [42, 43],\n",
       "        [44, 45],\n",
       "        [42, 43],\n",
       "        [46, 47]],\n",
       "\n",
       "       [[50, 51],\n",
       "        [50, 51],\n",
       "        [50, 51],\n",
       "        [48, 49],\n",
       "        [52, 53]]])"
      ]
     },
     "execution_count": 54,
     "metadata": {},
     "output_type": "execute_result"
    }
   ],
   "source": [
    "a[np.arange(9).reshape(9, 1), ind]"
   ]
  },
  {
   "cell_type": "code",
   "execution_count": 46,
   "metadata": {},
   "outputs": [
    {
     "data": {
      "text/plain": [
       "array([[[ 1,  0,  0],\n",
       "        [ 0,  0,  1],\n",
       "        [ 1,  0,  0],\n",
       "        [ 1,  1,  1],\n",
       "        [ 1,  0,  0],\n",
       "        [ 1,  0,  0],\n",
       "        [ 1,  1,  1],\n",
       "        [ 1,  1,  1],\n",
       "        [ 0,  1,  0]],\n",
       "\n",
       "       [[ 3,  2,  2],\n",
       "        [ 2,  2,  3],\n",
       "        [ 3,  2,  2],\n",
       "        [ 3,  3,  3],\n",
       "        [ 3,  2,  2],\n",
       "        [ 3,  2,  2],\n",
       "        [ 3,  3,  3],\n",
       "        [ 3,  3,  3],\n",
       "        [ 2,  3,  2]],\n",
       "\n",
       "       [[ 5,  4,  4],\n",
       "        [ 4,  4,  5],\n",
       "        [ 5,  4,  4],\n",
       "        [ 5,  5,  5],\n",
       "        [ 5,  4,  4],\n",
       "        [ 5,  4,  4],\n",
       "        [ 5,  5,  5],\n",
       "        [ 5,  5,  5],\n",
       "        [ 4,  5,  4]],\n",
       "\n",
       "       [[ 7,  6,  6],\n",
       "        [ 6,  6,  7],\n",
       "        [ 7,  6,  6],\n",
       "        [ 7,  7,  7],\n",
       "        [ 7,  6,  6],\n",
       "        [ 7,  6,  6],\n",
       "        [ 7,  7,  7],\n",
       "        [ 7,  7,  7],\n",
       "        [ 6,  7,  6]],\n",
       "\n",
       "       [[ 9,  8,  8],\n",
       "        [ 8,  8,  9],\n",
       "        [ 9,  8,  8],\n",
       "        [ 9,  9,  9],\n",
       "        [ 9,  8,  8],\n",
       "        [ 9,  8,  8],\n",
       "        [ 9,  9,  9],\n",
       "        [ 9,  9,  9],\n",
       "        [ 8,  9,  8]],\n",
       "\n",
       "       [[11, 10, 10],\n",
       "        [10, 10, 11],\n",
       "        [11, 10, 10],\n",
       "        [11, 11, 11],\n",
       "        [11, 10, 10],\n",
       "        [11, 10, 10],\n",
       "        [11, 11, 11],\n",
       "        [11, 11, 11],\n",
       "        [10, 11, 10]],\n",
       "\n",
       "       [[13, 12, 12],\n",
       "        [12, 12, 13],\n",
       "        [13, 12, 12],\n",
       "        [13, 13, 13],\n",
       "        [13, 12, 12],\n",
       "        [13, 12, 12],\n",
       "        [13, 13, 13],\n",
       "        [13, 13, 13],\n",
       "        [12, 13, 12]],\n",
       "\n",
       "       [[15, 14, 14],\n",
       "        [14, 14, 15],\n",
       "        [15, 14, 14],\n",
       "        [15, 15, 15],\n",
       "        [15, 14, 14],\n",
       "        [15, 14, 14],\n",
       "        [15, 15, 15],\n",
       "        [15, 15, 15],\n",
       "        [14, 15, 14]],\n",
       "\n",
       "       [[17, 16, 16],\n",
       "        [16, 16, 17],\n",
       "        [17, 16, 16],\n",
       "        [17, 17, 17],\n",
       "        [17, 16, 16],\n",
       "        [17, 16, 16],\n",
       "        [17, 17, 17],\n",
       "        [17, 17, 17],\n",
       "        [16, 17, 16]]])"
      ]
     },
     "execution_count": 46,
     "metadata": {},
     "output_type": "execute_result"
    }
   ],
   "source": [
    "a[:, ind]"
   ]
  },
  {
   "cell_type": "code",
   "execution_count": null,
   "metadata": {},
   "outputs": [],
   "source": []
  }
 ],
 "metadata": {
  "kernelspec": {
   "display_name": "Python 3",
   "language": "python",
   "name": "python3"
  },
  "language_info": {
   "codemirror_mode": {
    "name": "ipython",
    "version": 3
   },
   "file_extension": ".py",
   "mimetype": "text/x-python",
   "name": "python",
   "nbconvert_exporter": "python",
   "pygments_lexer": "ipython3",
   "version": "3.5.2"
  },
  "toc": {
   "nav_menu": {},
   "number_sections": true,
   "sideBar": true,
   "skip_h1_title": false,
   "toc_cell": false,
   "toc_position": {},
   "toc_section_display": "block",
   "toc_window_display": false
  }
 },
 "nbformat": 4,
 "nbformat_minor": 2
}
