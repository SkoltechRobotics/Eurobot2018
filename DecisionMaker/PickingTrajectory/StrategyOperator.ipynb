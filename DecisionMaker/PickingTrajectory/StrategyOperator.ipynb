{
 "cells": [
  {
   "cell_type": "code",
   "execution_count": 1,
   "metadata": {},
   "outputs": [
    {
     "name": "stdout",
     "output_type": "stream",
     "text": [
      "[[], [0], []]\n",
      "[[], [1], []]\n",
      "[[], [2], []]\n",
      "[[], [4], []]\n",
      "[[3], [], []]\n",
      "[[0], [], []]\n",
      "[[1], [], [3]]\n",
      "[[], [], [4]]\n",
      "[[2], [], []]\n",
      "[[], [3], [0]]\n",
      "[[], [], [1]]\n",
      "[[4], [], []]\n",
      "[[], [], [2]]\n",
      "55.2\n"
     ]
    }
   ],
   "source": [
    "from cubesequence import *\n",
    "\n",
    "optimizer = CubePickingOptimizer()\n",
    "optimizer.set_plan([0, 1, 2])\n",
    "time = optimizer.get_fun_time(2, 2, 2.4)\n",
    "seq = optimizer.find_optimal_sequence(time)\n",
    "for s in seq:\n",
    "    print(s)\n",
    "print(time(seq))\n"
   ]
  },
  {
   "cell_type": "code",
   "execution_count": 2,
   "metadata": {},
   "outputs": [],
   "source": [
    "import json\n",
    "\n",
    "def construct_string(*args, **kvargs):\n",
    "        sep = \"_\"\n",
    "        if \"sep\" in kvargs:\n",
    "            sep = kvargs[\"sep\"]\n",
    "        node_name = \"\"\n",
    "        for a in args[:-1]:\n",
    "            node_name += str(a) + sep\n",
    "        return node_name + str(args[-1])\n",
    "\n",
    "\n",
    "class StrategyOperator:\n",
    "    possible_plans = [\n",
    "        ['orange','black','green'],\n",
    "        ['yellow','black','blue'],\n",
    "        ['blue','green','orange'],\n",
    "        ['yellow','green','black'],\n",
    "        ['black','yellow','orange'],\n",
    "        ['green','yellow','blue'],\n",
    "        ['blue','orange','black'],\n",
    "        ['green','orange','yellow'],\n",
    "        ['black','blue','green'],\n",
    "        ['orange','blue','yellow']\n",
    "    ]\n",
    "    mapping_heaps = {\n",
    "        'orange': ['black','green','blue','orange','yellow'],\n",
    "        'green': ['black','orange','blue','green','yellow']\n",
    "    }\n",
    "    \n",
    "    def __init__(self, **kvargs):\n",
    "        self.optimizer = None # object with real-time optimizer\n",
    "        self.bank = None # object with loaded from json-loaded saved strategies\n",
    "        \n",
    "        if 'file' in kvargs:\n",
    "            self.read_file(kvargs['file'])\n",
    "        if 'optimizer' in kvargs:\n",
    "            self.optimizer = kvargs['optimizer']\n",
    "            \n",
    "        self.init_bank()\n",
    "        self.time_params = { # to be loaded with rospy.params\n",
    "            'rotate': 2,\n",
    "            'pick': 2.5,\n",
    "            'move': 1.5\n",
    "        }\n",
    "        if 'time_params' in kvargs:\n",
    "            self.time_params = kvargs['time_params']\n",
    "        \n",
    "    def init_bank(self):\n",
    "        if self.bank == None:\n",
    "            self.bank = {}\n",
    "            self.bank['cubes'] = {}\n",
    "            self.bank['routes'] = {}\n",
    "        \n",
    "    def read_file(self, filename, mode='r'):\n",
    "        with open(filename, mode) as f:\n",
    "            self.bank = json.load(f)\n",
    "    \n",
    "    def save_file(self, filename, mode='w'):\n",
    "        with open(filename, mode) as f:\n",
    "            json.dump(self.bank, f)\n",
    "            \n",
    "    # colors in format ['orange','blue','green'] also 'black', 'yellow'\n",
    "    # for orange and green sides there is a different cubes order\n",
    "    \n",
    "    def add_cubes_picking_strategy(self, strategy, time, colors, mask=\"ooo\"):\n",
    "        cubes_strategy_name = construct_string(*(colors+[mask]),sep=' ')\n",
    "        self.bank['cubes'][cubes_strategy_name] = (strategy, time)\n",
    "    \n",
    "    def get_color_number(self,color,side='orange'):\n",
    "        if isinstance(color,str):\n",
    "            return self.mapping_heaps[side].index(color)\n",
    "        elif isinstance(color,int) or isinstance(color,float):\n",
    "            color = int(color)\n",
    "            return self.mapping_heaps[side][color]\n",
    "    \n",
    "    def set_bank_from_cube_optimizer(self, cube_opt, with_mask=False):\n",
    "        if with_mask:\n",
    "            pass # TODO: improve cubes optimizer\n",
    "        else:\n",
    "            for color_plan in self.possible_plans:\n",
    "                num_plan = [self.get_color_number(color) for color in color_plan]\n",
    "                cube_opt.set_plan(num_plan)\n",
    "                opt_time_params = [self.time_params[k] for k in ['rotate','move','pick']]\n",
    "                timer = cube_opt.get_fun_time(*opt_time_params)\n",
    "                seq = cube_opt.find_optimal_sequence(timer)\n",
    "                self.add_cubes_picking_strategy(seq, timer(seq), color_plan)\n",
    "    def get_cubes_strategy(self, colors, mask=\"ooo\"):\n",
    "        cubes_strategy_name = construct_string(*(colors+[mask]),sep=' ')\n",
    "        if not cubes_strategy_name in self.bank['cubes']:\n",
    "            return [None, None]\n",
    "        else:\n",
    "            return self.bank['cubes'][cubes_strategy_name]"
   ]
  },
  {
   "cell_type": "code",
   "execution_count": 3,
   "metadata": {},
   "outputs": [],
   "source": [
    "a = StrategyOperator(time_params={\n",
    "    'rotate':1,\n",
    "    'move':1.5,\n",
    "    'pick':2.5\n",
    "})"
   ]
  },
  {
   "cell_type": "code",
   "execution_count": 4,
   "metadata": {},
   "outputs": [],
   "source": [
    "a.set_bank_from_cube_optimizer(optimizer)"
   ]
  },
  {
   "cell_type": "code",
   "execution_count": 5,
   "metadata": {},
   "outputs": [],
   "source": [
    "a.save_file('second_bank.txt')"
   ]
  },
  {
   "cell_type": "code",
   "execution_count": 6,
   "metadata": {},
   "outputs": [],
   "source": [
    "b = StrategyOperator()"
   ]
  },
  {
   "cell_type": "code",
   "execution_count": 7,
   "metadata": {},
   "outputs": [],
   "source": [
    "b.read_file('first_bank.txt')"
   ]
  },
  {
   "cell_type": "code",
   "execution_count": 11,
   "metadata": {},
   "outputs": [
    {
     "name": "stdout",
     "output_type": "stream",
     "text": [
      "['orange', 'black', 'green'] 53.5\n",
      "['yellow', 'black', 'blue'] 50.5\n",
      "['blue', 'green', 'orange'] 51.5\n",
      "['yellow', 'green', 'black'] 43.0\n",
      "['black', 'yellow', 'orange'] 44.5\n",
      "['green', 'yellow', 'blue'] 44.5\n",
      "['blue', 'orange', 'black'] 53.5\n",
      "['green', 'orange', 'yellow'] 50.5\n",
      "['black', 'blue', 'green'] 51.5\n",
      "['orange', 'blue', 'yellow'] 43.0\n"
     ]
    }
   ],
   "source": [
    "for p in StrategyOperator.possible_plans:\n",
    "    print(p, b.get_cubes_strategy(p)[1])"
   ]
  },
  {
   "cell_type": "code",
   "execution_count": null,
   "metadata": {},
   "outputs": [],
   "source": []
  }
 ],
 "metadata": {
  "kernelspec": {
   "display_name": "Python 3",
   "language": "python",
   "name": "python3"
  },
  "language_info": {
   "codemirror_mode": {
    "name": "ipython",
    "version": 3
   },
   "file_extension": ".py",
   "mimetype": "text/x-python",
   "name": "python",
   "nbconvert_exporter": "python",
   "pygments_lexer": "ipython3",
   "version": "3.6.3"
  }
 },
 "nbformat": 4,
 "nbformat_minor": 2
}
