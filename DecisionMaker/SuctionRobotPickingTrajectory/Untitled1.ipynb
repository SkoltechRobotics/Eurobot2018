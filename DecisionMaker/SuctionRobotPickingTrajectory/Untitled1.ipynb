{
 "cells": [
  {
   "cell_type": "code",
   "execution_count": 1,
   "metadata": {},
   "outputs": [],
   "source": [
    "import gurobipy as grb\n",
    "import numpy as np\n",
    "import itertools\n",
    "import sys\n",
    "import copy\n",
    "import collections\n",
    "import functools"
   ]
  },
  {
   "cell_type": "code",
   "execution_count": 2,
   "metadata": {},
   "outputs": [],
   "source": [
    "def iterer(*args):\n",
    "    return itertools.product(*[x_ if isinstance(x_,collections.Iterable) else range(x_) for x_ in args])"
   ]
  },
  {
   "cell_type": "code",
   "execution_count": 3,
   "metadata": {},
   "outputs": [],
   "source": [
    "possible_plans = [\n",
    "        ['orange','black','green'],\n",
    "        ['blue','black','yellow'],\n",
    "        ['blue','green','orange'],\n",
    "        ['yellow','green','black'],\n",
    "        ['black','yellow','orange'],\n",
    "        ['green','yellow','blue'],\n",
    "        ['blue','orange','black'],\n",
    "        ['green','orange','yellow'],\n",
    "        ['black','blue','green'],\n",
    "        ['orange','blue','yellow']\n",
    "    ]\n",
    "\n",
    "colormap = {\n",
    "    'black'  : 0,\n",
    "    'green'  : 1,\n",
    "    'blue'   : 2,\n",
    "    'orange' : 3,\n",
    "    'yellow' : 4\n",
    "}"
   ]
  },
  {
   "cell_type": "code",
   "execution_count": 4,
   "metadata": {},
   "outputs": [],
   "source": [
    "\"\"\"\n",
    "    places in heaps: (1 is closer to orange side, 0 to central tracking device)\n",
    "       | 1|\n",
    "    | 0| 4| 2|\n",
    "       | 3|\n",
    "\n",
    "    colors of cubes: (same as for orange side)\n",
    "    \n",
    "    black  -- 0\n",
    "    green  -- 1\n",
    "    blue   -- 2\n",
    "    orange -- 3\n",
    "    yellow -- 4\n",
    "    \n",
    "    numbers of heaps - 0,1,2,3,4,5 CCW starting from closest heap to central tracking device on the orange side\n",
    "    \n",
    "    man = 0, 1, 2 (picking 1 4 3 if from 0 for orange!)\n",
    "    \n",
    "    cubes:\n",
    "    -1 - none\n",
    "    \n",
    "\"\"\";\n"
   ]
  },
  {
   "cell_type": "code",
   "execution_count": 5,
   "metadata": {},
   "outputs": [],
   "source": [
    "class STNode():\n",
    "    def __init__(self, state, upper):\n",
    "        self.state = state\n",
    "        self.upper = upper\n",
    "        self.nexts = []\n",
    "        \n",
    "    def __str__(self):\n",
    "        return str(self.state)\n",
    "    \n",
    "    def gen_reversed_path(self):\n",
    "        sn = self\n",
    "        while sn != None:\n",
    "            yield sn\n",
    "            sn = sn.upper\n",
    "    \n",
    "    def get_path(self):\n",
    "        return reversed(list(self.gen_reversed_path()))"
   ]
  },
  {
   "cell_type": "code",
   "execution_count": 6,
   "metadata": {},
   "outputs": [],
   "source": [
    "orange_heap = np.array([\n",
    "                        [-1, 0,-1],\n",
    "                        [ 1, 4, 3],\n",
    "                        [-1, 2,-1]\n",
    "                    ],dtype=np.float)\n",
    "green_heap  = np.array([\n",
    "                        [-1, 0,-1],\n",
    "                        [ 3, 4, 1],\n",
    "                        [-1, 2,-1]\n",
    "                 ],dtype=np.float)\n",
    "orange_heap[orange_heap == -1] = np.nan\n",
    "green_heap[green_heap == -1] = np.nan\n",
    "def get_heap(heap_num, side):\n",
    "    heap = None\n",
    "    if heap_num in [0,1,2]:\n",
    "        heap = orange_heap\n",
    "    if heap_num in [3,4,5]:\n",
    "        heap = green_heap\n",
    "    return np.rot90(heap,side)"
   ]
  },
  {
   "cell_type": "code",
   "execution_count": 155,
   "metadata": {},
   "outputs": [],
   "source": [
    "class CubesState():\n",
    "    initial_cubes = np.ones((3,5),dtype=np.int)*np.nan\n",
    "    magic_color = 7\n",
    "    def __init__(self, heap_num, cubes = None, **kvargs):\n",
    "        self.heap_num = heap_num\n",
    "        self.heap = get_heap(heap_num,0)\n",
    "        self.cubes = cubes if cubes else copy.deepcopy(self.initial_cubes)\n",
    "        self.vars = kvargs\n",
    "        self.n_picks = 0\n",
    "        self.time = 0\n",
    "        self.x = np.zeros((2,),dtype=np.int)\n",
    "        self.a = 0\n",
    "        self.params = kvargs\n",
    "        self.set_defaults()\n",
    "    \n",
    "    def set_defaults(self):\n",
    "        pass\n",
    "    \n",
    "    def remove_color(self, color):\n",
    "        self.heap[self.heap == color] = np.nan\n",
    "        \n",
    "    def cubes_left(self):\n",
    "        return np.sum(self.heap == self.heap)\n",
    "    \n",
    "    def get_cubes_coords(self):\n",
    "        for i,j in iterer(3,3):\n",
    "            if self.heap[i][j] == self.heap[i][j]:\n",
    "                yield i,j\n",
    "    \n",
    "    def pick_cube_by(self, color, man, remove=True):\n",
    "        if remove:\n",
    "            self.remove_color(color)\n",
    "        self.cubes[man] = np.roll(self.cubes[man],1)\n",
    "        self.cubes[man][0] = int(color)\n",
    "    \n",
    "    def has_free_space(self,man):\n",
    "        return not np.all(self.cubes[man] == self.cubes[man])\n",
    "    \n",
    "    def pick_cubes(self,colors,mans):\n",
    "        for c,m in zip(colors, mans):\n",
    "            self.pick_cube_by(c,m)\n",
    "    \n",
    "    def test_pick_cubes(self, colors, mans):\n",
    "        for c, m in zip(colors,mans):\n",
    "            if not self.has_free_space(m) or c != c:\n",
    "                return False\n",
    "        return True\n",
    "    \n",
    "    def is_full(self):\n",
    "        return np.all(self.cubes == self.cubes)\n",
    "    \n",
    "    @staticmethod\n",
    "    def equal_to_plan(subs, plan):\n",
    "        tp = copy.deepcopy(subs)\n",
    "        tp2 = np.array(list(reversed(subs)))\n",
    "        for i, c in enumerate(tp):\n",
    "            if c == self.magic_color:\n",
    "                tp[i] = plan[i]\n",
    "        for i, c in enumerate(tp2):\n",
    "            if c == self.magic_color:\n",
    "                tp2[i] = plan[i]\n",
    "        return np.all(tp==plan) or np.all(tp2==plan)\n",
    "    \n",
    "    def count_plans(self, plan):\n",
    "        rev_plan = np.array(list(reversed(plan)))\n",
    "        has_plan = np.zeros((3,), dtype=np.bool)\n",
    "        for man, s in iterer(3,3):\n",
    "            has_plan[man] = has_plan[man] or self.equal_to_plan(self.cubes[man][s:s+3],plan)\n",
    "        return np.sum(has_plan)\n",
    "    \n",
    "    @staticmethod\n",
    "    def sum_cubes(c1,c2):\n",
    "        h1 = (c1 == c1).argmin(axis=1) + 5*(not np.any(c1 != c1))\n",
    "        h2 = (c2 == c2).argmin(axis=1) + 5*(not np.any(c2 != c2))\n",
    "        if np.any(h1 + h2 > 5):\n",
    "            return None\n",
    "        c = c1 + 0\n",
    "        for m in range(3):\n",
    "            c[m][h1[m]:h2[m]+h1[m]] = c2[m][:h2[m]]\n",
    "    \n",
    "    def sum_with_other_state(self, s):\n",
    "        ns = copy.deepcopy(self)\n",
    "        for man in range(3):\n",
    "            for c in reversed(s.cubes[man]):\n",
    "                if c == c and self.has_free_space(man):\n",
    "                    ns.pick_cube_by(c,man,False)\n",
    "        ns.time = s.time + self.time\n",
    "        return ns\n",
    "    \n",
    "    def __str__(self):\n",
    "        s = \"---STATE---\" + '\\n'\n",
    "        for l in self.heap:\n",
    "            s += str(l) + '\\n'\n",
    "        s += \"x: %d\\ty: %d\\ta: %d\\n\"%(self.x[0], self.x[1], self.a)\n",
    "        #for k,v in self.vars.items():\n",
    "        #    s += \"%s : %s\\t\"%(str(k),str(v))\n",
    "        for m in self.cubes:\n",
    "            for c in m:\n",
    "                if c == c:\n",
    "                    s += \"%d \"%c\n",
    "            s += '\\n'\n",
    "        s += '-----------'\n",
    "        return s\n",
    "    \n",
    "    def next_picks(self):\n",
    "        pass\n",
    "    \n",
    "    def next_moves(self):\n",
    "        pass"
   ]
  },
  {
   "cell_type": "code",
   "execution_count": 156,
   "metadata": {},
   "outputs": [],
   "source": [
    "class MainRobotState(CubesState):\n",
    "    defaults = {\n",
    "            'move_time'  :1,\n",
    "            'pick_time'  :1,\n",
    "            'rotate_time':1\n",
    "        }\n",
    "    banned_x = {'0' : {},\n",
    "                '1' : {},\n",
    "                '2' : {},\n",
    "                '3' : {},\n",
    "                '4' : {},\n",
    "                '5' : {}\n",
    "    }\n",
    "    shift = np.array([[-1,0],[0,-1],[1,0],[0,1]])\n",
    "    mans_shift = np.array([-1,0,1])\n",
    "    manipulator_masks = [list(x) for x in itertools.product([0,1], repeat=3)][1:]\n",
    "    def find_a_by_shift(self, sh):\n",
    "        #print(self.shift, sh)\n",
    "        return np.where((self.shift == sh).all(axis=1))[0][0]\n",
    "    \n",
    "    def set_defaults(self):\n",
    "        for k,v in self.defaults.items():\n",
    "            if k not in self.params:\n",
    "                self.params[k] = v\n",
    "    \n",
    "    def new_state_x(self, x, a):\n",
    "        if self.allowed_position(x,a):\n",
    "            s = copy.deepcopy(self)\n",
    "            s.a = a\n",
    "            s.x = x\n",
    "            s.time += self.get_time_between(s)\n",
    "            yield s\n",
    "    \n",
    "    def new_state_p(self, mans):\n",
    "        s = copy.deepcopy(self)\n",
    "        s.time += self.params['pick_time']\n",
    "        ms = [i for i, m in enumerate(mans) if m]\n",
    "        x = self.get_mans_x()\n",
    "        colors = [self.heap[tuple(x[m])] for m in ms]\n",
    "        s.pick_cubes(colors, ms)\n",
    "        return s\n",
    "    \n",
    "    def get_mans_x(self):\n",
    "        x = np.zeros((3,2),dtype=np.int)\n",
    "        x += self.x + 1\n",
    "        a_index = (self.mans_shift + self.a) % 4\n",
    "        # print(a_index)\n",
    "        return x + self.shift[a_index]\n",
    "    \n",
    "    def check_mans_x(self):\n",
    "        X = self.get_mans_x()\n",
    "        R =[np.all(np.logical_and(x >= 0, x < 3)) and self.heap[tuple(x)] == self.heap[tuple(x)] and self.has_free_space(i) for i,x in enumerate(X)]\n",
    "        return R\n",
    "        \n",
    "    def get_time_between(self, s):\n",
    "        return np.max(np.abs(self.x - s.x))*self.params['move_time'] + \\\n",
    "                np.min([np.abs(self.a - s.a), np.abs(self.a - s.a - 4), np.abs(self.a - s.a + 4)])*self.params['rotate_time']\n",
    "    \n",
    "    def allowed_position(self,x,a):\n",
    "        return True\n",
    "    \n",
    "    def next_moves(self):\n",
    "        cubes_left = self.cubes_left()\n",
    "        if cubes_left in [3,4,5]:\n",
    "            for a in range(4):\n",
    "                yield from self.new_state_x(self.x, a)\n",
    "        elif cubes_left == 2:\n",
    "            x = np.array(list([i,j] for i,j in self.get_cubes_coords()))\n",
    "            rest_cube = x.sum(axis=0)\n",
    "            a0 = self.find_a_by_shift(rest_cube - 2)\n",
    "            for da in range(-1,2):\n",
    "                a = (a0+da)%4\n",
    "                yield from self.new_state_x(self.x, a)\n",
    "            for da in range(-1,2):\n",
    "                a = (4-a0+da)%4\n",
    "                yield from self.new_state_x(rest_cube[0], a)\n",
    "        else:\n",
    "            for a,da in iterer(3,range(-1,2)):\n",
    "                yield from self.new_state_x(-self.shift[(a+da)%4], a)\n",
    "                \n",
    "    def next_picks(self):\n",
    "        mans_can_pick = self.check_mans_x()\n",
    "        # print(mans_can_pick)\n",
    "        for mans in self.manipulator_masks:\n",
    "            # print(np.logical_or(mans_can_pick, np.logical_not(mans)))\n",
    "            if np.all(np.logical_or(mans_can_pick, np.logical_not(mans))): \n",
    "                yield self.new_state_p(mans)\n",
    "                \n",
    "    def new_states(self):\n",
    "        for s in self.next_moves():\n",
    "            yield from s.next_picks()"
   ]
  },
  {
   "cell_type": "code",
   "execution_count": 163,
   "metadata": {},
   "outputs": [],
   "source": [
    "class PickQueryOptimizer():\n",
    "    defaults = {\n",
    "        'plan': [0,1,2],\n",
    "        'heaps': [0,1,2],\n",
    "        \n",
    "    }\n",
    "    def __init__(self, StateClass, initial_cubes = None, **kvargs):\n",
    "        self.StateClass = StateClass\n",
    "        self.initial_cubes = initial_cubes\n",
    "        self.params = {}\n",
    "        for k,v in self.defaults.items():\n",
    "            self.params[k] = copy.copy(v)\n",
    "            \n",
    "        for k,v in kvargs.items():\n",
    "            if k in self.params.keys():\n",
    "                self.params[k] = copy.copy(v)\n",
    "                \n",
    "    def set_plan(self, plan):\n",
    "        if isinstance(plan[0], str):\n",
    "            self.params['plan'] = [colormap[c] for c in plan]\n",
    "        else:\n",
    "            self.params['plan'] = plan\n",
    "        \n",
    "    def get_plan(self, num = None):\n",
    "        if num == None:\n",
    "            return self.params['plan']\n",
    "        elif num in [0,1,2]:\n",
    "            return self.params['plan'][num]\n",
    "        return self.params['plan']\n",
    "    \n",
    "    def checker_node_for_plans(self, x):\n",
    "        def f(sn):\n",
    "            return sn.state.count_plans() == x\n",
    "        return f\n",
    "    \n",
    "    def reduce_by_colors(self, final_states):\n",
    "        extra_colors = set([0,1,2,3,4]) - set(self.get_plan())\n",
    "        cubes = {}\n",
    "        for sn in final_states:\n",
    "            s = sn.state\n",
    "            tokey = copy.deepcopy(s.cubes)\n",
    "            for ec in extra_colors:\n",
    "                tokey[tokey == ec] = 6\n",
    "            key = str(tokey)\n",
    "            if key in cubes:\n",
    "                if cubes[key].state.time > s.time:\n",
    "                    cubes[key] = sn\n",
    "            else:\n",
    "                cubes[key] = sn\n",
    "        return list(cubes.values())\n",
    "    \n",
    "    def build_solution_tree(self, heap_num, use_initial_cubes=True, only_good=False):\n",
    "        initial_state = self.StateClass(heap_num, self.initial_cubes if use_initial_cubes else None)\n",
    "        root = STNode(initial_state, None)\n",
    "        this_wave = [root]\n",
    "        next_wave = []\n",
    "        N = 0\n",
    "        final_states = []\n",
    "        while len(this_wave) > 0:\n",
    "            for node in this_wave:\n",
    "                if node.state.cubes_left() == 0:\n",
    "                    final_states.append(node)\n",
    "                node.nexts = [STNode(x,node) for x in node.state.new_states()]\n",
    "                next_wave.extend(node.nexts)\n",
    "            if len(next_wave) > 0:\n",
    "                N = len(next_wave)\n",
    "            this_wave = next_wave\n",
    "            next_wave = []\n",
    "        \n",
    "        print(len(final_states))\n",
    "        # fss = self.reduce_final_states(final_states)\n",
    "        fss2 = self.reduce_by_colors(final_states)\n",
    "        print(len(fss2))\n",
    "        if only_good:\n",
    "            return root, list(filter(self.checker_node_for_plans(1), fss2))\n",
    "        else:\n",
    "            return root, fss2\n",
    "    \n",
    "    def save(self, heaps=None, only_good=False):\n",
    "        heaps = heaps if heaps else self.params['heaps']\n",
    "        self.fs = [self.build_solution_tree(hn, i==0,only_good)[1] for i,hn in enumerate(heaps)]\n",
    "        \n",
    "    \n",
    "    def count_final_states(self, heaps=None, only_good=False):\n",
    "        c = [[s.cubes for s in f] for f in self.fs]\n",
    "        for f1,f2 in iterer(fs[0],fs[1]):\n",
    "            s1 = f1.state\n",
    "            s2 = f2.state\n",
    "            sf = s1.sum_with_other_state(s2)\n",
    "            key = str(sf.cubes)\n",
    "            if key in cubes2:\n",
    "                if cubes2[key].time > sf.time:\n",
    "                    cubes2[key] = sf\n",
    "            else:\n",
    "                cubes2[key] = sf\n",
    "            \n",
    "        print(len(cubes2.values()))\n",
    "            \n",
    "    "
   ]
  },
  {
   "cell_type": "code",
   "execution_count": 164,
   "metadata": {},
   "outputs": [],
   "source": [
    "pqo = PickQueryOptimizer(MainRobotState)"
   ]
  },
  {
   "cell_type": "code",
   "execution_count": 165,
   "metadata": {},
   "outputs": [
    {
     "name": "stdout",
     "output_type": "stream",
     "text": [
      "1791\n",
      "144\n",
      "1791\n",
      "144\n",
      "1791\n",
      "144\n"
     ]
    }
   ],
   "source": [
    "pqo.save()"
   ]
  },
  {
   "cell_type": "code",
   "execution_count": 158,
   "metadata": {},
   "outputs": [
    {
     "ename": "AttributeError",
     "evalue": "'PickQueryOptimizer' object has no attribute 'fs'",
     "output_type": "error",
     "traceback": [
      "\u001b[0;31m---------------------------------------------------------------------------\u001b[0m",
      "\u001b[0;31mAttributeError\u001b[0m                            Traceback (most recent call last)",
      "\u001b[0;32m<ipython-input-158-a5c1c9f94b60>\u001b[0m in \u001b[0;36m<module>\u001b[0;34m()\u001b[0m\n\u001b[0;32m----> 1\u001b[0;31m \u001b[0mfs\u001b[0m \u001b[0;34m=\u001b[0m \u001b[0mpqo\u001b[0m\u001b[0;34m.\u001b[0m\u001b[0mfs\u001b[0m\u001b[0;34m\u001b[0m\u001b[0m\n\u001b[0m",
      "\u001b[0;31mAttributeError\u001b[0m: 'PickQueryOptimizer' object has no attribute 'fs'"
     ]
    }
   ],
   "source": [
    "fs = pqo.fs"
   ]
  },
  {
   "cell_type": "code",
   "execution_count": 138,
   "metadata": {},
   "outputs": [
    {
     "name": "stdout",
     "output_type": "stream",
     "text": [
      "---STATE---\n",
      "[nan nan nan]\n",
      "[1. 4. 3.]\n",
      "[nan  2. nan]\n",
      "x: 0\ty: 0\ta: 0\n",
      "\n",
      "\n",
      "\n",
      "-----------\n"
     ]
    }
   ],
   "source": [
    "s = MainRobotState(0)\n",
    "print(s)"
   ]
  },
  {
   "cell_type": "code",
   "execution_count": 94,
   "metadata": {},
   "outputs": [
    {
     "name": "stdout",
     "output_type": "stream",
     "text": [
      "(0, 1)\n",
      "(1, 0)\n",
      "(1, 1)\n",
      "(1, 2)\n",
      "(2, 1)\n"
     ]
    }
   ],
   "source": [
    "for ns in s.get_cubes_coords():\n",
    "    print(ns)"
   ]
  },
  {
   "cell_type": "code",
   "execution_count": 75,
   "metadata": {},
   "outputs": [],
   "source": [
    "a = np.array([[1,2],[3,0]])"
   ]
  },
  {
   "cell_type": "code",
   "execution_count": 80,
   "metadata": {},
   "outputs": [
    {
     "data": {
      "text/plain": [
       "array([3, 1])"
      ]
     },
     "execution_count": 80,
     "metadata": {},
     "output_type": "execute_result"
    }
   ],
   "source": [
    "a.sum(axis=0) - 1"
   ]
  },
  {
   "cell_type": "code",
   "execution_count": 139,
   "metadata": {},
   "outputs": [],
   "source": [
    "s.pick_cube_by(0,1)"
   ]
  },
  {
   "cell_type": "code",
   "execution_count": 140,
   "metadata": {},
   "outputs": [
    {
     "data": {
      "text/plain": [
       "array([[nan, nan, nan, nan, nan],\n",
       "       [ 0., nan, nan, nan, nan],\n",
       "       [nan, nan, nan, nan, nan]])"
      ]
     },
     "execution_count": 140,
     "metadata": {},
     "output_type": "execute_result"
    }
   ],
   "source": [
    "s.cubes"
   ]
  },
  {
   "cell_type": "code",
   "execution_count": 145,
   "metadata": {},
   "outputs": [],
   "source": [
    "z= (s.cubes == s.cubes).argmin(axis=1)"
   ]
  },
  {
   "cell_type": "code",
   "execution_count": 154,
   "metadata": {},
   "outputs": [
    {
     "data": {
      "text/plain": [
       "array([0.])"
      ]
     },
     "execution_count": 154,
     "metadata": {},
     "output_type": "execute_result"
    }
   ],
   "source": [
    "s.cubes[1,0:1]"
   ]
  },
  {
   "cell_type": "code",
   "execution_count": null,
   "metadata": {},
   "outputs": [],
   "source": []
  }
 ],
 "metadata": {
  "kernelspec": {
   "display_name": "Python 3",
   "language": "python",
   "name": "python3"
  },
  "language_info": {
   "codemirror_mode": {
    "name": "ipython",
    "version": 3
   },
   "file_extension": ".py",
   "mimetype": "text/x-python",
   "name": "python",
   "nbconvert_exporter": "python",
   "pygments_lexer": "ipython3",
   "version": "3.6.3"
  }
 },
 "nbformat": 4,
 "nbformat_minor": 2
}
