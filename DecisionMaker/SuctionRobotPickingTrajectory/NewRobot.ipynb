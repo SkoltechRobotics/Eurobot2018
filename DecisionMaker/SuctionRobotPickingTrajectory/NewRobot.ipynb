{
 "cells": [
  {
   "cell_type": "code",
   "execution_count": 1,
   "metadata": {},
   "outputs": [],
   "source": [
    "import gurobipy as grb\n",
    "import numpy as np\n",
    "import itertools\n",
    "import sys\n",
    "import copy\n",
    "import collections"
   ]
  },
  {
   "cell_type": "code",
   "execution_count": 26,
   "metadata": {},
   "outputs": [],
   "source": [
    "def iterer(*args):\n",
    "    return itertools.product(*[x_ if isinstance(x_,collections.Iterable) else range(x_) for x_ in args])"
   ]
  },
  {
   "cell_type": "code",
   "execution_count": 149,
   "metadata": {},
   "outputs": [],
   "source": [
    "\"\"\"\n",
    "    places in heaps: (1 is closer to orange side, 0 to central tracking device)\n",
    "       | 1|\n",
    "    | 0| 4| 2|\n",
    "       | 3|\n",
    "\n",
    "    colors of cubes: (same as for orange side)\n",
    "    \n",
    "    black  -- 0\n",
    "    grean  -- 1\n",
    "    blue   -- 2\n",
    "    orange -- 3\n",
    "    yellow -- 4\n",
    "    \n",
    "    numbers of heaps - 0,1,2,3,4,5 CCW starting from closest heap to central tracking device on the orange side\n",
    "    \n",
    "    man = 0, 1, 2 (picking 1 4 3 if from 0 for orange!)\n",
    "\"\"\"\n",
    "class STNode():\n",
    "    def __init__(self, state, upper):\n",
    "        self.state = state\n",
    "        self.upper = upper\n",
    "        self.nexts = []\n",
    "        \n",
    "\n",
    "class SimpleTree():\n",
    "    def __init__(self, root)\n",
    "\n",
    "class State():\n",
    "    X = [0,1,2]\n",
    "    def __init__(self, lines, heights = [0,0,0], x = 0, y = 0, time = 0):\n",
    "        self.lines = lines\n",
    "        self.heights = heights\n",
    "        self.x = x\n",
    "        self.y = y\n",
    "        self.time = time\n",
    "    \n",
    "       \n",
    "    def get_next_allowed_cube(self):\n",
    "        a = 4\n",
    "        for l in self.lines:\n",
    "            for c in l:\n",
    "                if c > 0:\n",
    "                    a = min(c, a)\n",
    "        # return 4 if whole plan picked\n",
    "        return a\n",
    "    \n",
    "    def get_next_line(self):\n",
    "        for x, l in zip(self.X, self.lines):\n",
    "            any_cube = False\n",
    "            for c in l:\n",
    "                if c != -1:\n",
    "                    any_cube = True\n",
    "            if any_cube:\n",
    "                return x,l\n",
    "            \n",
    "    def __str__(self):\n",
    "        s = \"---STATE---\" + '\\n'\n",
    "        for l in self.lines:\n",
    "            s += str(l) + '\\n'\n",
    "        s += \"x=%d, y=%d, time=%f\\n\"%(self.x, self.y, self.time)\n",
    "        s += \"height = \" + str(self.heights) + '\\n'\n",
    "        s += '-----------'\n",
    "        return s\n",
    "    \n",
    "    def is_final(self):\n",
    "        # if all is -1\n",
    "        return sum(sum(lines)) == -9\n",
    "    \n",
    "class SuctionRobotStrategyOptimizer():\n",
    "    defaults = {\n",
    "        'plan': [0,1,2],\n",
    "        'allowed_sides': [\n",
    "            [False, True, True, True],\n",
    "            [True, False, True, True],\n",
    "            [True, True, False, True],\n",
    "            [True, True, False, True],\n",
    "            [True, True, False, True],\n",
    "            [True, True, True, False]\n",
    "        ],\n",
    "        'heaps': [0,1,2],\n",
    "        'pick_time': 1,\n",
    "        'move_time': 1,\n",
    "        'heap': {'orange':np.array([\n",
    "                        [-1, 0,-1],\n",
    "                        [ 1, 4, 3],\n",
    "                        [-1, 2,-1]\n",
    "                    ]),\n",
    "                 'green':np.array([\n",
    "                        [-1, 0,-1],\n",
    "                        [ 3, 4, 1],\n",
    "                        [-1, 2,-1]\n",
    "                 ])\n",
    "            }\n",
    "    }\n",
    "    def __init__(self, **kvargs):\n",
    "        self.params = {}\n",
    "        for k,v in self.defaults.items():\n",
    "            self.params[k] = copy.copy(v)\n",
    "            \n",
    "        for k,v in kvargs.items():\n",
    "            if k in self.params.keys():\n",
    "                self.params[k] = copy.copy(v)\n",
    "                \n",
    "        self.manipulator_masks = [list(x) for x in itertools.product([0,1], repeat=3)][1:]\n",
    "        \n",
    "    def rotate_heap(self, heap, side):\n",
    "        return np.rot90(heap, side)\n",
    "    \n",
    "    def get_heap(self, number = 0, side = 0):\n",
    "        heap = None\n",
    "        if number in [0,1,2]:\n",
    "            heap = self.params['heap']['orange']\n",
    "        if number in [4,5,6]:\n",
    "            heap = self.params['heap']['green']\n",
    "        return self.rotate_heap(heap,side)\n",
    "    \n",
    "    def set_plan(self, plan):\n",
    "        self.params['plan'] = plan\n",
    "        \n",
    "    def get_plan(self, num = None):\n",
    "        if num == None:\n",
    "            return self.params['plan']\n",
    "        elif num in [0,1,2]:\n",
    "            return self.params['plan'][num]\n",
    "        return self.params['plan']\n",
    "    \n",
    "    def reverse_plan(self):\n",
    "        self.params['plan'] = self.params['plan'][::-1]\n",
    "        \n",
    "    def get_move_time(self, dx, dy):\n",
    "        return max(abs(dx),abs(dy))*self.params['move_time']\n",
    "    \n",
    "    def get_lines_by_plan_and_heap(self, heap):\n",
    "        lines = copy.copy(heap)\n",
    "        for i, j in iterer(3,3):\n",
    "            if heap[i][j] in range(5):\n",
    "                if heap[i][j] in self.get_plan():\n",
    "                    lines[i][j] = self.get_plan().index(heap[i][j]) + 1\n",
    "                else:\n",
    "                    lines[i][j] = 0\n",
    "        return lines\n",
    "    \n",
    "    def try_to_pick(self, state, y, l, c, x, man, mans):\n",
    "        picked = [-1,-1,-1]\n",
    "        for i in range(3): # run over mans\n",
    "            if mans[i] == 1: # if need to pick by i-th man\n",
    "                if i + y in [0,1,2] and l[i+y] >= 0: # check if we pick existing cube\n",
    "                    # print(i,y)\n",
    "                    if (i == man and (c == l[i+y] or c == 1)) or (i != man and c != l[i+y]) : # if we can pick this cube according to plan \n",
    "                        picked[i] = l[i+y] # add to picked (why?)\n",
    "                        state.heights[i] += 1 # increase height of i-th man\n",
    "                        state.lines[x][i+y] = -1 # remove cube from heap\n",
    "                        # print(i, y, i+y)\n",
    "                    else:\n",
    "                        return None\n",
    "                else:\n",
    "                    return None\n",
    "        # if still not return, add time and return new state\n",
    "        state.time += self.params['pick_time']\n",
    "        state.time += self.get_move_time(x-state.x, y-state.y)\n",
    "        state.x = x\n",
    "        state.y = y\n",
    "        return state\n",
    "    \n",
    "    def get_new_states(self, state, man):\n",
    "        c = state.get_next_allowed_cube()\n",
    "        x, l = state.get_next_line()\n",
    "        \n",
    "        for mans, y in iterer(self.manipulator_masks, range(-2,3)):\n",
    "            new_state = self.try_to_pick(copy.deepcopy(state), y, l, c, x, man, mans)\n",
    "            if new_state != None:\n",
    "                # print(y, mans)\n",
    "                yield new_state\n",
    "                \n",
    "        \n",
    "        \n",
    "    def get_sequence_1tower(self, heap_num, side, man):\n",
    "        h = self.get_heap(heap_num, side)\n",
    "        if h[1][-1] == self.get_plan(1):\n",
    "            # not possible to pick\n",
    "            return None \n",
    "        "
   ]
  },
  {
   "cell_type": "code",
   "execution_count": 150,
   "metadata": {},
   "outputs": [],
   "source": [
    "opt = SuctionRobotStrategyOptimizer()"
   ]
  },
  {
   "cell_type": "code",
   "execution_count": 151,
   "metadata": {},
   "outputs": [],
   "source": [
    "s = State(opt.get_lines_by_plan_and_heap(opt.get_heap()))"
   ]
  },
  {
   "cell_type": "code",
   "execution_count": 152,
   "metadata": {},
   "outputs": [
    {
     "name": "stdout",
     "output_type": "stream",
     "text": [
      "---STATE---\n",
      "[-1  1 -1]\n",
      "[2 0 0]\n",
      "[-1  3 -1]\n",
      "x=0, y=0, time=0.000000\n",
      "height = [0, 0, 0]\n",
      "-----------\n"
     ]
    }
   ],
   "source": [
    "print(s)"
   ]
  },
  {
   "cell_type": "code",
   "execution_count": 160,
   "metadata": {},
   "outputs": [],
   "source": [
    "nexts = [ns for ns in opt.get_new_states(s, 0)]\n",
    "next_one = None\n",
    "for nxt in nexts:\n",
    "    for ns in opt.get_new_states(nxt, 0):\n",
    "        if ns.heights == [2,1,1]:\n",
    "            next_one = ns\n",
    "    "
   ]
  },
  {
   "cell_type": "code",
   "execution_count": 161,
   "metadata": {},
   "outputs": [
    {
     "name": "stdout",
     "output_type": "stream",
     "text": [
      "---STATE---\n",
      "[-1 -1 -1]\n",
      "[-1 -1 -1]\n",
      "[-1  3 -1]\n",
      "x=1, y=0, time=4.000000\n",
      "height = [2, 1, 1]\n",
      "-----------\n"
     ]
    }
   ],
   "source": [
    "print(next_one)"
   ]
  },
  {
   "cell_type": "code",
   "execution_count": 162,
   "metadata": {},
   "outputs": [
    {
     "name": "stdout",
     "output_type": "stream",
     "text": [
      "---STATE---\n",
      "[-1 -1 -1]\n",
      "[-1 -1 -1]\n",
      "[-1 -1 -1]\n",
      "x=2, y=1, time=6.000000\n",
      "height = [3, 1, 1]\n",
      "-----------\n"
     ]
    }
   ],
   "source": [
    "for ns in opt.get_new_states(next_one, 0):\n",
    "    print(ns)"
   ]
  },
  {
   "cell_type": "code",
   "execution_count": 136,
   "metadata": {},
   "outputs": [
    {
     "name": "stdout",
     "output_type": "stream",
     "text": [
      "1 0\n",
      "1 0 1\n",
      "---STATE---\n",
      "[-1 -1 -1]\n",
      "[ 2 -1  0]\n",
      "[-1  3 -1]\n",
      "x=1, y=0, time=2.000000\n",
      "height = [0, 3, 1]\n",
      "-----------\n"
     ]
    }
   ],
   "source": [
    "c = s.get_next_allowed_cube()\n",
    "x, l = s.get_next_line()\n",
    "mans = [0,1,0]\n",
    "y = 0\n",
    "man = 0\n",
    "new_state = opt.try_to_pick(copy.deepcopy(s), y, l, c, x, man, mans)\n",
    "print(new_state)"
   ]
  },
  {
   "cell_type": "code",
   "execution_count": 166,
   "metadata": {},
   "outputs": [
    {
     "data": {
      "text/plain": [
       "2"
      ]
     },
     "execution_count": 166,
     "metadata": {},
     "output_type": "execute_result"
    }
   ],
   "source": [
    "sum(sum(s.lines))"
   ]
  },
  {
   "cell_type": "code",
   "execution_count": 167,
   "metadata": {},
   "outputs": [
    {
     "data": {
      "text/plain": [
       "array([[-1,  1, -1],\n",
       "       [ 2,  0,  0],\n",
       "       [-1,  3, -1]])"
      ]
     },
     "execution_count": 167,
     "metadata": {},
     "output_type": "execute_result"
    }
   ],
   "source": [
    "s.lines"
   ]
  },
  {
   "cell_type": "code",
   "execution_count": null,
   "metadata": {},
   "outputs": [],
   "source": []
  }
 ],
 "metadata": {
  "kernelspec": {
   "display_name": "Python 3",
   "language": "python",
   "name": "python3"
  },
  "language_info": {
   "codemirror_mode": {
    "name": "ipython",
    "version": 3
   },
   "file_extension": ".py",
   "mimetype": "text/x-python",
   "name": "python",
   "nbconvert_exporter": "python",
   "pygments_lexer": "ipython3",
   "version": "3.6.3"
  }
 },
 "nbformat": 4,
 "nbformat_minor": 2
}
