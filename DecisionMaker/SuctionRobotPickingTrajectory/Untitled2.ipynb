{
 "cells": [
  {
   "cell_type": "code",
   "execution_count": 1,
   "metadata": {},
   "outputs": [],
   "source": [
    "import gurobipy as grb\n",
    "import numpy as np\n",
    "import itertools\n",
    "import sys\n",
    "import copy\n",
    "import collections\n",
    "import functools\n",
    "import pickle"
   ]
  },
  {
   "cell_type": "code",
   "execution_count": 2,
   "metadata": {},
   "outputs": [],
   "source": [
    "def iterer(*args):\n",
    "    return itertools.product(*[x_ if isinstance(x_,collections.Iterable) else range(x_) for x_ in args])"
   ]
  },
  {
   "cell_type": "code",
   "execution_count": 3,
   "metadata": {},
   "outputs": [],
   "source": [
    "possible_plans = [\n",
    "        ['orange','black','green'],\n",
    "        ['blue','black','yellow'],\n",
    "        ['blue','green','orange'],\n",
    "        ['yellow','green','black'],\n",
    "        ['black','yellow','orange'],\n",
    "        ['green','yellow','blue'],\n",
    "        ['blue','orange','black'],\n",
    "        ['green','orange','yellow'],\n",
    "        ['black','blue','green'],\n",
    "        ['orange','blue','yellow']\n",
    "    ]\n",
    "\n",
    "colormap = {\n",
    "    'black'  : 0,\n",
    "    'green'  : 1,\n",
    "    'blue'   : 2,\n",
    "    'orange' : 3,\n",
    "    'yellow' : 4\n",
    "}"
   ]
  },
  {
   "cell_type": "code",
   "execution_count": 4,
   "metadata": {},
   "outputs": [],
   "source": [
    "\"\"\"\n",
    "    places in heaps: (1 is closer to orange side, 0 to central tracking device)\n",
    "       | 1|\n",
    "    | 0| 4| 2|\n",
    "       | 3|\n",
    "\n",
    "    colors of cubes: (same as for orange side)\n",
    "    \n",
    "    black  -- 0\n",
    "    green  -- 1\n",
    "    blue   -- 2\n",
    "    orange -- 3\n",
    "    yellow -- 4\n",
    "    \n",
    "    numbers of heaps - 0,1,2,3,4,5 CCW starting from closest heap to central tracking device on the orange side\n",
    "    \n",
    "    man = 0, 1, 2 (picking 1 4 3 if from 0 for orange!)\n",
    "    \n",
    "    cubes:\n",
    "    -1 - none\n",
    "    \n",
    "\"\"\";\n"
   ]
  },
  {
   "cell_type": "code",
   "execution_count": 5,
   "metadata": {},
   "outputs": [],
   "source": [
    "class STNode():\n",
    "    def __init__(self, state, upper, ref = None):\n",
    "        self.state = state\n",
    "        self.upper = upper\n",
    "        self.nexts = []\n",
    "        self.id = ref\n",
    "        \n",
    "    def __str__(self):\n",
    "        return str(self.state)\n",
    "    \n",
    "    def gen_reversed_path(self):\n",
    "        sn = self\n",
    "        while sn != None:\n",
    "            yield sn\n",
    "            sn = sn.upper\n",
    "    \n",
    "    def get_path(self):\n",
    "        return reversed(list(self.gen_reversed_path()))"
   ]
  },
  {
   "cell_type": "code",
   "execution_count": 6,
   "metadata": {},
   "outputs": [],
   "source": [
    "orange_heap = np.array([\n",
    "                        [-1, 0,-1],\n",
    "                        [ 1, 4, 3],\n",
    "                        [-1, 2,-1]\n",
    "                    ],dtype=np.float)\n",
    "green_heap  = np.array([\n",
    "                        [-1, 0,-1],\n",
    "                        [ 3, 4, 1],\n",
    "                        [-1, 2,-1]\n",
    "                 ],dtype=np.float)\n",
    "orange_heap[orange_heap == -1] = np.nan\n",
    "green_heap[green_heap == -1] = np.nan\n",
    "def get_heap(heap_num, side):\n",
    "    heap = None\n",
    "    if heap_num in [0,1,2]:\n",
    "        heap = orange_heap\n",
    "    if heap_num in [3,4,5]:\n",
    "        heap = green_heap\n",
    "    return np.rot90(heap,side)"
   ]
  },
  {
   "cell_type": "code",
   "execution_count": 396,
   "metadata": {},
   "outputs": [],
   "source": [
    "class CubesState():\n",
    "    initial_cubes = np.ones((3,5),dtype=np.int)*np.nan\n",
    "    magic_color = 7\n",
    "    def __init__(self, heap_num, cubes = None, **kvargs):\n",
    "        self.heap_num = heap_num\n",
    "        self.heap = get_heap(heap_num,0)\n",
    "        self.cubes = cubes if cubes else copy.deepcopy(self.initial_cubes)\n",
    "        self.vars = kvargs\n",
    "        self.n_picks = 0\n",
    "        self.time = 0\n",
    "        self.x = np.zeros((2,),dtype=np.int)\n",
    "        self.a = 0\n",
    "        self.params = kvargs\n",
    "        self.set_defaults()\n",
    "        self.last_pick = None\n",
    "    \n",
    "    def set_defaults(self):\n",
    "        pass\n",
    "    \n",
    "    def remove_color(self, color):\n",
    "        self.heap[self.heap == color] = np.nan\n",
    "        \n",
    "    def cubes_left(self):\n",
    "        return np.sum(self.heap == self.heap)\n",
    "    \n",
    "    def get_cubes_coords(self):\n",
    "        for i,j in iterer(3,3):\n",
    "            if self.heap[i][j] == self.heap[i][j]:\n",
    "                yield i,j\n",
    "    \n",
    "    def pick_cube_by(self, color, man, remove=True):\n",
    "        if remove:\n",
    "            self.remove_color(color)\n",
    "        self.cubes[man] = np.roll(self.cubes[man],1)\n",
    "        self.cubes[man][0] = int(color)\n",
    "    \n",
    "    def has_free_space(self,man):\n",
    "        return not np.all(self.cubes[man] == self.cubes[man])\n",
    "    \n",
    "    def pick_cubes(self,colors,mans):\n",
    "        for c,m in zip(colors, mans):\n",
    "            self.pick_cube_by(c,m)\n",
    "        self.n_picks += 1\n",
    "        self.last_pick = mans\n",
    "    \n",
    "    def test_pick_cubes(self, colors, mans):\n",
    "        for c, m in zip(colors,mans):\n",
    "            if not self.has_free_space(m) or c != c:\n",
    "                return False\n",
    "        return True\n",
    "    \n",
    "    def is_full(self):\n",
    "        return np.all(self.cubes == self.cubes)\n",
    "    \n",
    "    @staticmethod\n",
    "    def equal_to_plan( subs, plan):\n",
    "        tp = copy.deepcopy(subs)\n",
    "        tp2 = np.array(list(reversed(subs)))\n",
    "        for i, c in enumerate(tp):\n",
    "            if c == CubesState.magic_color:\n",
    "                tp[i] = plan[i]\n",
    "        for i, c in enumerate(tp2):\n",
    "            if c == CubesState.magic_color:\n",
    "                tp2[i] = plan[i]\n",
    "        return np.all(tp==plan) or np.all(tp2==plan)\n",
    "    \n",
    "    @staticmethod\n",
    "    def count_plans_cubes(cubes,plan):\n",
    "        rev_plan = np.array(list(reversed(plan)))\n",
    "        has_plan = np.zeros((3,), dtype=np.bool)\n",
    "        for man, s in iterer(3,3):\n",
    "            has_plan[man] = has_plan[man] or CubesState.equal_to_plan(cubes[man][s:s+3],plan)\n",
    "        return np.sum(has_plan)\n",
    "    \n",
    "    def count_plans(self, plan):\n",
    "        rev_plan = np.array(list(reversed(plan)))\n",
    "        has_plan = np.zeros((3,), dtype=np.bool)\n",
    "        for man, s in iterer(3,3):\n",
    "            has_plan[man] = has_plan[man] or CubesState.equal_to_plan(self.cubes[man][s:s+3],plan)\n",
    "        return np.sum(has_plan)\n",
    "    \n",
    "    @staticmethod\n",
    "    def sum_cubes(c1,c2):\n",
    "        h1 = np.sum(c1 == c1, axis=1)\n",
    "        h2 = np.sum(c2 == c2, axis=1)\n",
    "        if np.any(h1 + h2 > 5):\n",
    "            return None\n",
    "        c = c1 + 0\n",
    "        for m in range(3):\n",
    "            c[m][h1[m]:h2[m]+h1[m]] = c2[m][:h2[m]]\n",
    "        return c\n",
    "    \n",
    "    def sum_with_other_state(self, s):\n",
    "        ns = copy.deepcopy(self)\n",
    "        for man in range(3):\n",
    "            for c in reversed(s.cubes[man]):\n",
    "                if c == c and self.has_free_space(man):\n",
    "                    ns.pick_cube_by(c,man,False)\n",
    "        ns.time = s.time + self.time\n",
    "        return ns\n",
    "    \n",
    "    def __str__(self):\n",
    "        s = \"---STATE---\" + '\\n'\n",
    "        for l in self.heap:\n",
    "            s += str(l) + '\\n'\n",
    "        s += \"x: %d\\ty: %d\\ta: %d\\n\"%(self.x[0], self.x[1], self.a)\n",
    "        #for k,v in self.vars.items():\n",
    "        #    s += \"%s : %s\\t\"%(str(k),str(v))\n",
    "        for m in self.cubes:\n",
    "            for c in m:\n",
    "                if c == c:\n",
    "                    s += \"%d \"%c\n",
    "            s += '\\n'\n",
    "        s += 'time %f\\tpicks %d'%(self.time, self.n_picks)\n",
    "        s += '-----------'\n",
    "        return s\n",
    "    \n",
    "    def next_picks(self):\n",
    "        pass\n",
    "    \n",
    "    def next_moves(self):\n",
    "        pass"
   ]
  },
  {
   "cell_type": "code",
   "execution_count": 397,
   "metadata": {},
   "outputs": [],
   "source": [
    "class MainRobotState(CubesState):\n",
    "    defaults = {\n",
    "            'move_time'  :0.7,\n",
    "            'pick_time'  :2+3,\n",
    "            'rotate_time':1.6\n",
    "        }\n",
    "    banned_x = {0 : {},\n",
    "                1 : {(2,0,1),(2,0,3),(1,0,1),(1,0,3)}\n",
    "    }\n",
    "    shift = np.array([[-1,0],[0,-1],[1,0],[0,1]])\n",
    "    mans_shift = np.array([-1,0,1])\n",
    "    manipulator_masks = [list(x) for x in itertools.product([0,1], repeat=3)][1:]\n",
    "    def find_a_by_shift(self, sh):\n",
    "        #print(self.shift, sh)\n",
    "        return np.where((self.shift == sh).all(axis=1))[0][0]\n",
    "    \n",
    "    def set_defaults(self):\n",
    "        for k,v in self.defaults.items():\n",
    "            if k not in self.params:\n",
    "                self.params[k] = v\n",
    "    \n",
    "    def new_state_x(self, x, a):\n",
    "        if self.allowed_position(x,a):\n",
    "            s = copy.deepcopy(self)\n",
    "            s.a = a\n",
    "            s.x = x\n",
    "            s.time += self.get_time_between(s)\n",
    "            yield s\n",
    "    \n",
    "    def new_state_p(self, mans):\n",
    "        s = copy.deepcopy(self)\n",
    "        s.time += self.params['pick_time']\n",
    "        ms = [i for i, m in enumerate(mans) if m]\n",
    "        x = self.get_mans_x()\n",
    "        colors = [self.heap[tuple(x[m])] for m in ms]\n",
    "        s.pick_cubes(colors, ms)\n",
    "        return s\n",
    "    \n",
    "    def get_mans_x(self):\n",
    "        x = np.zeros((3,2),dtype=np.int)\n",
    "        x += self.x + 1\n",
    "        a_index = (self.mans_shift + self.a) % 4\n",
    "        # print(a_index)\n",
    "        return x + self.shift[a_index]\n",
    "    \n",
    "    def check_mans_x(self):\n",
    "        X = self.get_mans_x()\n",
    "        R =[np.all(np.logical_and(x >= 0, x < 3)) and self.heap[tuple(x)] == self.heap[tuple(x)] and self.has_free_space(i) for i,x in enumerate(X)]\n",
    "        return np.array(R)\n",
    "        \n",
    "    def get_time_between(self, s):\n",
    "        return np.max(np.abs(self.x - s.x))*self.params['move_time'] + \\\n",
    "                np.min([np.abs(self.a - s.a), np.abs(self.a - s.a - 4), np.abs(self.a - s.a + 4)])*self.params['rotate_time']\n",
    "    \n",
    "    def allowed_position(self,x,a):\n",
    "        return not (int(x[0]),int(x[1]),a) in self.banned_x[self.heap_num]\n",
    "    \n",
    "    def next_moves(self):\n",
    "        cubes_left = self.cubes_left()\n",
    "        if cubes_left in [3,4,5]:\n",
    "            for a in range(4):\n",
    "                yield from self.new_state_x(self.x, a)\n",
    "        elif cubes_left == 2:\n",
    "            x = np.array(list([i,j] for i,j in self.get_cubes_coords()))\n",
    "            rest_cube = x.sum(axis=0) - 2\n",
    "            a0 = self.find_a_by_shift(rest_cube)\n",
    "            for da in range(-1,2):\n",
    "                a = (a0+da)%4\n",
    "                yield from self.new_state_x(self.x, a)\n",
    "            for da in range(-1,2):\n",
    "                a = (2-a0+da)%4\n",
    "                yield from self.new_state_x(rest_cube, a)\n",
    "        elif cubes_left == 1:\n",
    "            last_cube = list(self.get_cubes_coords())[0]\n",
    "            x = np.array([last_cube[0],last_cube[1]])\n",
    "            for a,da in iterer(3,range(-1,2)):\n",
    "                yield from self.new_state_x(x-1-self.shift[(a+da)%4], a)\n",
    "                \n",
    "    def next_picks(self):\n",
    "        mans_can_pick = self.check_mans_x()\n",
    "        for mans in self.manipulator_masks:\n",
    "            if np.all(np.logical_or(mans_can_pick, np.logical_not(mans))): \n",
    "                yield self.new_state_p(mans)\n",
    "                \n",
    "    def new_states(self):\n",
    "        for s in self.next_moves():\n",
    "            yield from s.next_picks()"
   ]
  },
  {
   "cell_type": "code",
   "execution_count": 398,
   "metadata": {},
   "outputs": [],
   "source": [
    "class PickQueryOptimizer():\n",
    "    defaults = {\n",
    "        'plan': [0,1,2],\n",
    "        'heaps': [0,1,2],\n",
    "        \n",
    "    }\n",
    "    def __init__(self, StateClass, heap_reducer, initial_cubes = None, **kvargs):\n",
    "        self.StateClass = StateClass\n",
    "        self.initial_cubes = initial_cubes\n",
    "        self.params = {}\n",
    "        for k,v in self.defaults.items():\n",
    "            self.params[k] = copy.copy(v)\n",
    "            \n",
    "        for k,v in kvargs.items():\n",
    "            if k in self.params.keys():\n",
    "                self.params[k] = copy.copy(v)\n",
    "                \n",
    "        self.heap_trees_raw = {}\n",
    "        self.heap_finals_safe = {} # [heap number (reduced)][plan index]\n",
    "        self.heap_finals_unsafe = {} # [heap number (reduced)][plan index][num of cubes]\n",
    "        self.best_tracks = {}\n",
    "        self.heap_reducer = heap_reducer\n",
    "                \n",
    "    def set_plan(self, plan):\n",
    "        if isinstance(plan[0], str):\n",
    "            self.params['plan'] = [colormap[c] for c in plan]\n",
    "        else:\n",
    "            self.params['plan'] = plan\n",
    "        \n",
    "    def get_plan(self, num = None):\n",
    "        if num == None:\n",
    "            return self.params['plan']\n",
    "        elif num < 3:\n",
    "            return self.params['plan'][num]\n",
    "        return self.params['plan']\n",
    "    \n",
    "    def get_plan_index(self):\n",
    "        np_plan = np.array(self.get_plan())\n",
    "        for i, p in enumerate(possible_plans):\n",
    "            if np.all(np_plan == np.array([colormap[c] for c in p])):\n",
    "                return i\n",
    "        return None\n",
    "    \n",
    "    def checker_node_for_plans(self, x):\n",
    "        def f(sn):\n",
    "            return sn.state.count_plans(self.get_plan()) == x\n",
    "        return f\n",
    "    \n",
    "    def reduce_by_colors(self, final_states):\n",
    "        extra_colors = set([0,1,2,3,4]) - set(self.get_plan())\n",
    "        cubes = {}\n",
    "        for sn in final_states:\n",
    "            s = sn.state\n",
    "            tokey = copy.deepcopy(s.cubes)\n",
    "            for ec in extra_colors:\n",
    "                tokey[tokey == ec] = 6\n",
    "            key = str(tokey)\n",
    "            if key in cubes:\n",
    "                if cubes[key].state.time > s.time:\n",
    "                    cubes[key] = sn\n",
    "            else:\n",
    "                cubes[key] = sn\n",
    "        return list(cubes.values())\n",
    "    \n",
    "    def build_solution_tree(self, heap_num, use_initial_cubes=True):\n",
    "        initial_state = self.StateClass(heap_num, self.initial_cubes if use_initial_cubes else None)\n",
    "        root = STNode(initial_state, None)\n",
    "        this_wave = [root]\n",
    "        next_wave = []\n",
    "        i = 0\n",
    "        while len(this_wave) > 0:\n",
    "            for node in this_wave:\n",
    "                node.nexts = [STNode(x,node, i + di) for di, x in enumerate(node.state.new_states())]\n",
    "                if len(node.nexts):\n",
    "                    i = node.nexts[-1].id + 1\n",
    "                next_wave.extend(node.nexts)\n",
    "            this_wave = next_wave\n",
    "            next_wave = []\n",
    "        return root\n",
    "    \n",
    "    def gen_final_states(self, ht_root, num_of_cubes = [5]):\n",
    "        this_wave = [ht_root]\n",
    "        next_wave = []\n",
    "        while len(this_wave) > 0:\n",
    "            for node in this_wave:\n",
    "                if 5 - node.state.cubes_left() in num_of_cubes:\n",
    "                    yield node\n",
    "                next_wave.extend(node.nexts)\n",
    "            this_wave = next_wave\n",
    "            next_wave = []\n",
    "        \n",
    "    \n",
    "    def prepare_all_heap_trees(self, status_prints=True):\n",
    "        current_plan = self.get_plan()\n",
    "        \n",
    "        for hn in set(self.heap_reducer[hn] for hn in range(6)):\n",
    "            if status_prints:\n",
    "                print(\"Working on %d heap\"%(hn))\n",
    "            self.heap_trees_raw[hn] = self.build_solution_tree(hn,False)\n",
    "            ht = self.heap_trees_raw[hn]\n",
    "            self.heap_finals_unsafe[hn] = {}\n",
    "            self.heap_finals_safe[hn] = {}\n",
    "            final_states = list(self.gen_final_states(ht))\n",
    "            print(\"final states : %d\"%(len(final_states)))\n",
    "            for i, p in enumerate(possible_plans):\n",
    "                if status_prints:\n",
    "                    print(\"\\tplan %d\"%(i))\n",
    "                self.set_plan(p)\n",
    "                self.heap_finals_unsafe[hn][i] = {}\n",
    "                for n_of_cubes in [3,4,5]:\n",
    "                    self.heap_finals_unsafe[hn][i][n_of_cubes] = self.reduce_by_colors(self.gen_final_states(ht,[n_of_cubes]))\n",
    "                self.heap_finals_safe[hn][i] = list(filter(self.checker_node_for_plans(1),self.heap_finals_unsafe[hn][i][5]))\n",
    "        \n",
    "        self.set_plan(current_plan)\n",
    "    \n",
    "    def count_plans_with_magic(self, *cubes):\n",
    "        cubes_sum = cubes[0]\n",
    "        for cs in cubes[1:]:\n",
    "            cubes_sum = CubesState.sum_cubes(cs, cubes_sum)\n",
    "        return 0 if cubes_sum is None else CubesState.count_plans_cubes(cubes_sum, self.get_plan())\n",
    "    \n",
    "    \n",
    "    \n",
    "            \n",
    "                \n",
    "    \n",
    "    def merge_heap_states(self, fs, n = 2, exclude=None):\n",
    "        cubes = {}\n",
    "        if not n in [2,3]:\n",
    "            return None\n",
    "        \n",
    "        for f in iterer(*fs):\n",
    "            s = None\n",
    "            cubes_sum = None\n",
    "            if n == 2:\n",
    "                s = f[0].state, f[1].state\n",
    "                cubes_sum = MainRobotState.sum_cubes(s[1].cubes,s[0].cubes)\n",
    "            elif n == 3:\n",
    "                s = f[0][0].state, f[0][1].state, f[1].state\n",
    "                cubes_sum = MainRobotState.sum_cubes(s[2].cubes, f[0][2])\n",
    "            if cubes_sum is None:\n",
    "                continue\n",
    "            if exclude and exclude(cubes_sum):\n",
    "                continue\n",
    "            key = str(cubes_sum)\n",
    "            if key in cubes:\n",
    "                all_nodes = None\n",
    "                try:\n",
    "                    if n == 2:\n",
    "                        all_nodes = cubes[key][:2]\n",
    "                    else:\n",
    "                        all_nodes = cubes[key]\n",
    "                except TypeError:\n",
    "                    print(cubes[key][0], cubes[key][1])\n",
    "                if sum(sn.state.time for sn in all_nodes) > sum(st.time for st in s):\n",
    "                    cubes[key] = (f[0][0],f[0][1],f[1]) if n == 3 else (f[0],f[1],cubes_sum)\n",
    "            else:\n",
    "                cubes[key] = (f[0][0],f[0][1],f[1]) if n == 3 else (f[0],f[1],cubes_sum)\n",
    "                \n",
    "        return list(cubes.values())\n",
    "    \n",
    "        \n",
    "        \n",
    "    def choose_best_time(self, variants):\n",
    "        mint,minv = sum( w.state.time for w in variants[0]), variants[0]\n",
    "        for v in variants:\n",
    "            if sum( w.state.time for w in v) > mint:\n",
    "                mint = sum( w.state.time for w in v)\n",
    "                minv = v\n",
    "        print(\"min time %d\"%(mint))\n",
    "        return minv\n",
    "    \n",
    "    \n",
    "    def get_best_track(self, hn_way, magic_mask = np.array([7,np.nan,7]), safe=True):\n",
    "        return self.get_best_track_by_variants(self.get_variants(hn_way,magic_mask,safe), magic_mask)\n",
    "    \n",
    "    def get_variants(self, hn_way, magic_mask = np.array([7,np.nan,7]), safe=True):\n",
    "        variants = [None,None,None]\n",
    "        num_mc = np.sum(magic_mask == magic_mask)\n",
    "        if safe:\n",
    "            variants[:2] = [self.heap_finals_safe[hn][self.get_plan_index()] for hn in hn_way[:2]]\n",
    "        else:\n",
    "            variants[:2] = [self.heap_finals_unsafe[hn][self.get_plan_index()][5] for hn in hn_way[:2]]\n",
    "        if num_mc > 0 or not safe:\n",
    "            variants[2] = self.heap_finals_unsafe[hn_way[-1]][self.get_plan_index()][5-num_mc]\n",
    "        else:\n",
    "            variants[2] = self.heap_finals_safe[hn_way[-1]][self.get_plan_index()]\n",
    "        return variants\n",
    "    \n",
    "    def get_best_track_by_variants(self, variants, magic_mask = np.array([7, np.nan, 7])):\n",
    "        num_mc = np.sum(magic_mask == magic_mask)\n",
    "        # step 0:\n",
    "        remained_indexes0 = [(i, g.state.cubes, g.state.time) for i,g in enumerate(variants[0])]\n",
    "        if num_mc > 0:\n",
    "            remained_indexes0 = self.merge_heap_states_numpy([remained_indexes0,[(0,self.convert_mask_to_mans(magic_mask),0)]],1)\n",
    "        finals1 = [(i, g.state.cubes, g.state.time) for i,g in enumerate(variants[1])]\n",
    "        final_nodes2 = self.merge_heap_states_numpy([finals1, remained_indexes0],2)\n",
    "        \n",
    "        \n",
    "        finals2 = [(i, g.state.cubes, g.state.time) for i,g in enumerate(variants[2])]\n",
    "        \n",
    "        final_nodes3 = self.merge_heap_states_numpy([final_nodes2,finals2],3)\n",
    "        best = min(final_nodes3, key=lambda x : x[-1])\n",
    "        ind = best[0][1][0][1], best[0][1][1],best[0][0]\n",
    "        print(self.get_plan(), best[-1])\n",
    "        return [variants[i][ind[i]].get_path() for i in range(3)]\n",
    "        \n",
    "    def prepare_best_tracks(self, magic_mask=np.array([7,np.nan,7]),safe=True):\n",
    "        def lkey(l):\n",
    "            return \"%d%d%d\"%tuple(l)\n",
    "        def unlkey(s):\n",
    "            return list( int(c) for c in s)\n",
    "        hn_ways = [unlkey(hn_way) for hn_way in set(lkey( self.heap_reducer[hn] for hn in hn_way) for hn_way in itertools.permutations(range(6),3))]\n",
    "        \n",
    "        for p in possible_plans:\n",
    "            print(p)\n",
    "            self.set_plan(p)\n",
    "            self.best_tracks[self.get_plan_index()] = {}\n",
    "            for hn_way in hn_ways:\n",
    "                key = lkey(hn_way)\n",
    "                print('\\tfor way %s'%(key))\n",
    "                self.best_tracks[self.get_plan_index()][key] = self.get_best_track(hn_way, magic_mask,safe)\n",
    "                \n",
    "    def megamatrix_sum_numpy(self, f,s):\n",
    "        megacubes0 = np.empty((len(f), 3, 5))\n",
    "        megacubes1 = np.empty((len(s), 3, 5))\n",
    "        for i,g in enumerate(f):\n",
    "            megacubes0[i,:,:] = g\n",
    "        for i,g in enumerate(s):\n",
    "            megacubes1[i,:,:] = g\n",
    "        megah0 = np.sum(megacubes0 == megacubes0, axis=2)[:,:,np.newaxis]\n",
    "        megah1 = np.sum(megacubes1 == megacubes1, axis=2)[:,:,np.newaxis]\n",
    "\n",
    "        megamatrixh0 = np.repeat(megah0[:,np.newaxis,:,:],len(s),axis=1)\n",
    "        megamatrixh1 = np.repeat(megah1[np.newaxis,:,:,:],len(f),axis=0)\n",
    "        megamatrixc1 = np.repeat(megacubes1[np.newaxis,:,:,:],len(f),axis=0)\n",
    "        megamatrixc0 = np.repeat(megacubes0[:,np.newaxis,:,:],len(s),axis=1)\n",
    "\n",
    "        temp = np.array([range(5),range(5),range(5)])\n",
    "        a = np.repeat(temp[np.newaxis,:,:],len(s),axis=0)\n",
    "        a = np.repeat(a[np.newaxis,:,:,:],len(f), axis=0)\n",
    "\n",
    "        megamatrixh_2   = megamatrixh0 + megamatrixh1\n",
    "\n",
    "        indexesc0_for_2 = np.logical_and(a >= megamatrixh0, a < megamatrixh_2)\n",
    "        \n",
    "        total_height_less_than_5 = np.repeat(np.all(megamatrixh_2 <= 5, axis=2), 3, axis=2)[:,:,:,np.newaxis]\n",
    "        \n",
    "        indexesc0_for_2 = np.logical_and(indexesc0_for_2, total_height_less_than_5)\n",
    "        indexesc1_for_2 = np.logical_and(a < megamatrixh1, total_height_less_than_5)\n",
    "        \n",
    "        #print(indexesc0_for_2, indexesc1_for_2)\n",
    "        megamatrixc0[indexesc0_for_2] = megamatrixc1[indexesc1_for_2]\n",
    "        out_of_range = np.logical_and(a < 6, np.logical_not(total_height_less_than_5))\n",
    "        megamatrixc0[out_of_range] = np.nan\n",
    "        return megamatrixc0\n",
    "    \n",
    "    def convert_mask_to_mans(self, magic_mask):\n",
    "        mask = np.zeros((3,5),dtype=np.float)\n",
    "        mask[:] = np.nan\n",
    "        print(mask[:,0].shape, magic_mask.shape)\n",
    "        mask[:,0] = magic_mask\n",
    "        return mask\n",
    "    \n",
    "    def merge_heap_states_numpy(self, fs, n = 2, safe=True):\n",
    "        cubes = [[g[-2] for g in f] for f in fs]\n",
    "        \n",
    "        megamatrixc0 = self.megamatrix_sum_numpy(cubes[-1],cubes[-2])\n",
    "        man_has_plan = np.zeros((len(fs[1]),len(fs[0]),3), dtype=np.bool)\n",
    "        total_plans  = np.zeros((len(fs[1]),len(fs[0])), dtype=np.int)\n",
    "        plan = np.array(self.get_plan())\n",
    "        megaplan = np.repeat(plan[np.newaxis,:], len(fs[0]),axis=0)\n",
    "        megaplan = np.repeat(megaplan[np.newaxis, :, :], len(fs[1]), axis=0)\n",
    "\n",
    "        for m, shift, direction in iterer(3,3,range(-1,2,2)):\n",
    "            if direction > 0:\n",
    "                candidates = megamatrixc0[:,:,m,shift:shift+3:direction] \n",
    "            elif shift == 0:\n",
    "                candidates = megamatrixc0[:,:,m,shift+2::direction]\n",
    "            else:\n",
    "                candidates = megamatrixc0[:,:,m,shift+2:shift-1:direction]\n",
    "            megaplan_test = megaplan.copy()\n",
    "            megaplan_test[candidates == CubesState.magic_color] = CubesState.magic_color\n",
    "            man_has_plan[:,:,m] = np.logical_or(np.all(megaplan_test == candidates, axis=2), man_has_plan[:,:,m])\n",
    "\n",
    "        total_plans = np.sum(man_has_plan,axis=2)\n",
    "\n",
    "        same_cubes_reduce = {}\n",
    "\n",
    "        for i,j in np.argwhere(total_plans == n):\n",
    "            cubeskey = megamatrixc0[i,j,:,:]\n",
    "            key = str(cubeskey)\n",
    "            t = fs[1][i][-1] + fs[0][j][-1]\n",
    "            if not key in same_cubes_reduce or (key in same_cubes_reduce and same_cubes_reduce[key][-1] > t):\n",
    "                same_cubes_reduce[key] = ((fs[1][i][0],fs[0][j][0]),cubeskey,t)\n",
    "\n",
    "        return list(same_cubes_reduce.values())"
   ]
  },
  {
   "cell_type": "code",
   "execution_count": 399,
   "metadata": {},
   "outputs": [],
   "source": [
    "main_robot_reducer = {\n",
    "    0:0,\n",
    "    1:0,\n",
    "    2:1,\n",
    "    3:1,\n",
    "    4:0,\n",
    "    5:0\n",
    "}\n"
   ]
  },
  {
   "cell_type": "code",
   "execution_count": 400,
   "metadata": {},
   "outputs": [],
   "source": [
    "pqo = PickQueryOptimizer(MainRobotState, main_robot_reducer)"
   ]
  },
  {
   "cell_type": "code",
   "execution_count": 401,
   "metadata": {},
   "outputs": [
    {
     "name": "stdout",
     "output_type": "stream",
     "text": [
      "Working on 0 heap\n",
      "final states : 41670\n",
      "\tplan 0\n",
      "\tplan 1\n",
      "\tplan 2\n",
      "\tplan 3\n",
      "\tplan 4\n",
      "\tplan 5\n",
      "\tplan 6\n",
      "\tplan 7\n",
      "\tplan 8\n",
      "\tplan 9\n",
      "Working on 1 heap\n",
      "final states : 35249\n",
      "\tplan 0\n",
      "\tplan 1\n",
      "\tplan 2\n",
      "\tplan 3\n",
      "\tplan 4\n",
      "\tplan 5\n",
      "\tplan 6\n",
      "\tplan 7\n",
      "\tplan 8\n",
      "\tplan 9\n"
     ]
    }
   ],
   "source": [
    "pqo.prepare_all_heap_trees()"
   ]
  },
  {
   "cell_type": "code",
   "execution_count": 402,
   "metadata": {},
   "outputs": [],
   "source": [
    "saved = pqo.heap_trees_raw, pqo.heap_finals_safe, pqo.heap_finals_unsafe"
   ]
  },
  {
   "cell_type": "code",
   "execution_count": 379,
   "metadata": {},
   "outputs": [],
   "source": [
    "pqo.heap_trees_raw, pqo.heap_finals_safe, pqo.heap_finals_unsafe  = saved"
   ]
  },
  {
   "cell_type": "code",
   "execution_count": 403,
   "metadata": {},
   "outputs": [
    {
     "name": "stdout",
     "output_type": "stream",
     "text": [
      "(3,) (3,)\n",
      "[3, 0, 1] 49.39999999999999\n",
      "CPU times: user 4.94 s, sys: 162 ms, total: 5.1 s\n",
      "Wall time: 5.06 s\n"
     ]
    }
   ],
   "source": [
    "%%time\n",
    "pqo.set_plan(possible_plans[0])\n",
    "bt = pqo.get_best_track([0,0,1],np.array([7,np.nan,7]),False)"
   ]
  },
  {
   "cell_type": "code",
   "execution_count": 393,
   "metadata": {},
   "outputs": [],
   "source": [
    "vs = pqo.get_variants([0,0,1], np.array([7,np.nan,7]), False)"
   ]
  },
  {
   "cell_type": "code",
   "execution_count": 390,
   "metadata": {},
   "outputs": [
    {
     "data": {
      "text/plain": [
       "1122"
      ]
     },
     "execution_count": 390,
     "metadata": {},
     "output_type": "execute_result"
    }
   ],
   "source": [
    "len(pqo.heap_finals_unsafe[0][0][5])"
   ]
  },
  {
   "cell_type": "code",
   "execution_count": 394,
   "metadata": {},
   "outputs": [
    {
     "name": "stdout",
     "output_type": "stream",
     "text": [
      "1122\n",
      "1122\n",
      "240\n"
     ]
    }
   ],
   "source": [
    "for v in vs:\n",
    "    print(len(v))"
   ]
  },
  {
   "cell_type": "code",
   "execution_count": 404,
   "metadata": {},
   "outputs": [
    {
     "data": {
      "text/plain": [
       "[<list_reverseiterator at 0x7f4b59f9b2e8>,\n",
       " <list_reverseiterator at 0x7f4b59f9b320>,\n",
       " <list_reverseiterator at 0x7f4b59f9b400>]"
      ]
     },
     "execution_count": 404,
     "metadata": {},
     "output_type": "execute_result"
    }
   ],
   "source": [
    "bt"
   ]
  },
  {
   "cell_type": "code",
   "execution_count": 406,
   "metadata": {},
   "outputs": [
    {
     "name": "stdout",
     "output_type": "stream",
     "text": [
      "---STATE---\n",
      "[nan  0. nan]\n",
      "[1. 4. 3.]\n",
      "[nan  2. nan]\n",
      "x: 0\ty: 0\ta: 0\n",
      "\n",
      "\n",
      "\n",
      "time 0.000000\tpicks 0-----------\n",
      "---STATE---\n",
      "[nan  0. nan]\n",
      "[ 1.  4. nan]\n",
      "[nan  2. nan]\n",
      "x: 0\ty: 0\ta: 0\n",
      "3 \n",
      "\n",
      "\n",
      "time 5.000000\tpicks 1-----------\n",
      "---STATE---\n",
      "[nan nan nan]\n",
      "[nan  4. nan]\n",
      "[nan nan nan]\n",
      "x: 0\ty: 0\ta: 1\n",
      "0 3 \n",
      "1 \n",
      "2 \n",
      "time 11.600000\tpicks 2-----------\n",
      "---STATE---\n",
      "[nan nan nan]\n",
      "[nan nan nan]\n",
      "[nan nan nan]\n",
      "x: 0\ty: 1\ta: 1\n",
      "0 3 \n",
      "4 1 \n",
      "2 \n",
      "time 17.300000\tpicks 3-----------\n",
      "---STATE---\n",
      "[nan  0. nan]\n",
      "[1. 4. 3.]\n",
      "[nan  2. nan]\n",
      "x: 0\ty: 0\ta: 0\n",
      "\n",
      "\n",
      "\n",
      "time 0.000000\tpicks 0-----------\n",
      "---STATE---\n",
      "[nan  0. nan]\n",
      "[ 1.  4. nan]\n",
      "[nan nan nan]\n",
      "x: 0\ty: 0\ta: 3\n",
      "2 \n",
      "3 \n",
      "\n",
      "time 6.600000\tpicks 1-----------\n",
      "---STATE---\n",
      "[nan nan nan]\n",
      "[nan  4. nan]\n",
      "[nan nan nan]\n",
      "x: 0\ty: 0\ta: 0\n",
      "2 \n",
      "0 3 \n",
      "1 \n",
      "time 13.200000\tpicks 2-----------\n",
      "---STATE---\n",
      "[nan nan nan]\n",
      "[nan nan nan]\n",
      "[nan nan nan]\n",
      "x: 0\ty: -1\ta: 0\n",
      "4 2 \n",
      "0 3 \n",
      "1 \n",
      "time 18.900000\tpicks 3-----------\n",
      "---STATE---\n",
      "[nan  0. nan]\n",
      "[1. 4. 3.]\n",
      "[nan  2. nan]\n",
      "x: 0\ty: 0\ta: 0\n",
      "\n",
      "\n",
      "\n",
      "time 0.000000\tpicks 0-----------\n",
      "---STATE---\n",
      "[nan nan nan]\n",
      "[1. 4. 3.]\n",
      "[nan  2. nan]\n",
      "x: 0\ty: 0\ta: 3\n",
      "\n",
      "\n",
      "0 \n",
      "time 6.600000\tpicks 1-----------\n",
      "---STATE---\n",
      "[nan nan nan]\n",
      "[ 1.  4. nan]\n",
      "[nan nan nan]\n",
      "x: 0\ty: 0\ta: 2\n",
      "\n",
      "2 \n",
      "3 0 \n",
      "time 13.200000\tpicks 2-----------\n"
     ]
    }
   ],
   "source": [
    "for bt_path in bt:\n",
    "    for node in bt_path:\n",
    "        print(node.state)"
   ]
  },
  {
   "cell_type": "code",
   "execution_count": 327,
   "metadata": {},
   "outputs": [],
   "source": [
    "saved2 = saved"
   ]
  },
  {
   "cell_type": "code",
   "execution_count": null,
   "metadata": {},
   "outputs": [
    {
     "name": "stdout",
     "output_type": "stream",
     "text": [
      "['orange', 'black', 'green']\n",
      "\tfor way 000\n",
      "2\n",
      "80631\n",
      "240\n",
      "[0, 0, 0, 0]\n",
      "4871763\n",
      "min time 34\n",
      "\tfor way 101\n",
      "2\n",
      "80431\n",
      "240\n",
      "[0, 0, 0, 0]\n",
      "4857113\n",
      "min time 34\n",
      "\tfor way 011\n",
      "2\n",
      "80591\n",
      "240\n",
      "[0, 0, 0, 0]\n",
      "4870257\n",
      "min time 34\n",
      "\tfor way 001\n",
      "2\n",
      "80631\n",
      "240\n",
      "[0, 0, 0, 0]\n",
      "4871763\n",
      "min time 34\n",
      "\tfor way 110\n",
      "2\n",
      "80391\n",
      "240\n",
      "[0, 0, 0, 0]\n",
      "4855486\n",
      "min time 34\n",
      "\tfor way 100\n",
      "2\n",
      "80431\n",
      "240\n",
      "[0, 0, 0, 0]\n",
      "4857113\n",
      "min time 34\n",
      "\tfor way 010\n",
      "2\n",
      "80591\n",
      "240\n",
      "[0, 0, 0, 0]\n",
      "4870257\n",
      "min time 34\n",
      "['blue', 'black', 'yellow']\n",
      "\tfor way 000\n",
      "2\n",
      "47167\n",
      "120\n",
      "[0, 0, 0, 0]\n",
      "1602295\n",
      "min time 34\n",
      "\tfor way 101\n",
      "2\n",
      "44722\n",
      "120\n",
      "[0, 0, 0, 0]\n",
      "1520038\n",
      "min time 34\n",
      "\tfor way 011\n",
      "2\n",
      "44046\n",
      "120\n",
      "[0, 0, 0, 0]\n",
      "1514517\n",
      "min time 34\n",
      "\tfor way 001\n",
      "2\n",
      "47167\n",
      "120\n",
      "[0, 0, 0, 0]\n",
      "1602295\n",
      "min time 34\n",
      "\tfor way 110\n",
      "2\n",
      "41803\n",
      "120\n",
      "[0, 0, 0, 0]\n",
      "1437804\n",
      "min time 34\n",
      "\tfor way 100\n",
      "2\n",
      "44722\n",
      "120\n",
      "[0, 0, 0, 0]\n",
      "1520038\n",
      "min time 34\n",
      "\tfor way 010\n",
      "2\n",
      "44046\n",
      "120\n",
      "[0, 0, 0, 0]\n",
      "1514517\n",
      "min time 34\n",
      "['blue', 'green', 'orange']\n",
      "\tfor way 000\n",
      "2\n",
      "81149\n",
      "240\n",
      "[0, 0, 0, 0]\n",
      "4891283\n",
      "min time 34\n",
      "\tfor way 101\n",
      "2\n",
      "80683\n",
      "240\n",
      "[0, 0, 0, 0]\n",
      "4871643\n",
      "min time 35\n",
      "\tfor way 011\n",
      "2\n",
      "77638\n",
      "240\n",
      "[0, 0, 0, 0]\n",
      "4761403\n",
      "min time 34\n",
      "\tfor way 001\n",
      "2\n",
      "81149\n",
      "240\n",
      "[0, 0, 0, 0]\n",
      "4891283\n",
      "min time 34\n",
      "\tfor way 110\n",
      "2\n",
      "77106\n",
      "240\n",
      "[0, 0, 0, 0]\n",
      "4735874\n",
      "min time 36\n",
      "\tfor way 100\n",
      "2\n",
      "80683\n",
      "240\n",
      "[0, 0, 0, 0]\n",
      "4871643\n",
      "min time 35\n",
      "\tfor way 010\n",
      "2\n",
      "77638\n",
      "240\n",
      "[0, 0, 0, 0]\n",
      "4761403\n",
      "min time 34\n",
      "['yellow', 'green', 'black']\n",
      "\tfor way 000\n",
      "2\n",
      "53178\n",
      "120\n",
      "[0, 0, 0, 0]\n",
      "1825375\n",
      "min time 33\n",
      "\tfor way 101\n",
      "2\n",
      "53224\n",
      "120\n",
      "[0, 0, 0, 0]\n",
      "1827448\n",
      "min time 33\n",
      "\tfor way 011\n",
      "2\n",
      "52618\n",
      "120\n",
      "[0, 0, 0, 0]\n",
      "1805994\n",
      "min time 33\n",
      "\tfor way 001\n",
      "2\n",
      "53178\n",
      "120\n",
      "[0, 0, 0, 0]\n",
      "1825375\n",
      "min time 33\n",
      "\tfor way 110\n",
      "2\n",
      "52738\n",
      "120\n",
      "[0, 0, 0, 0]\n",
      "1808622\n",
      "min time 33\n",
      "\tfor way 100\n",
      "2\n",
      "53224\n",
      "120\n",
      "[0, 0, 0, 0]\n",
      "1827448\n",
      "min time 33\n",
      "\tfor way 010\n",
      "2\n",
      "52618\n",
      "120\n",
      "[0, 0, 0, 0]\n",
      "1805994\n",
      "min time 33\n",
      "['black', 'yellow', 'orange']\n",
      "\tfor way 000\n",
      "2\n",
      "38356\n",
      "120\n",
      "[0, 0, 0, 0]\n",
      "1346795\n",
      "min time 34\n",
      "\tfor way 101\n",
      "2\n",
      "38356\n",
      "120\n",
      "[0, 0, 0, 0]\n",
      "1346795\n",
      "min time 34\n",
      "\tfor way 011\n",
      "2\n",
      "38038\n",
      "120\n",
      "[0, 0, 0, 0]\n",
      "1334227\n",
      "min time 34\n",
      "\tfor way 001\n",
      "2\n",
      "38356\n",
      "120\n",
      "[0, 0, 0, 0]\n",
      "1346795\n",
      "min time 34\n",
      "\tfor way 110\n",
      "2\n",
      "38038\n",
      "120\n",
      "[0, 0, 0, 0]\n",
      "1334227\n",
      "min time 34\n",
      "\tfor way 100\n",
      "2\n",
      "38356\n",
      "120\n",
      "[0, 0, 0, 0]\n",
      "1346795\n",
      "min time 34\n",
      "\tfor way 010\n",
      "2\n",
      "38038\n",
      "120\n",
      "[0, 0, 0, 0]\n",
      "1334227\n",
      "min time 34\n",
      "['green', 'yellow', 'blue']\n",
      "\tfor way 000\n",
      "2\n",
      "38100\n",
      "120\n",
      "[0, 0, 0, 0]\n",
      "1330895\n",
      "min time 34\n",
      "\tfor way 101\n",
      "2\n",
      "20472\n",
      "120\n",
      "[0, 0, 0, 0]\n",
      "713977\n",
      "min time 34\n",
      "\tfor way 011\n",
      "2\n",
      "35809\n",
      "120\n",
      "[0, 0, 0, 0]\n",
      "1266833\n",
      "min time 34\n",
      "\tfor way 001\n",
      "2\n",
      "38100\n",
      "120\n",
      "[0, 0, 0, 0]\n",
      "1330895\n",
      "min time 34\n",
      "\tfor way 110\n",
      "2\n",
      "19198\n",
      "120\n",
      "[0, 0, 0, 0]\n",
      "677660\n",
      "min time 34\n",
      "\tfor way 100\n",
      "2\n",
      "20472\n",
      "120\n",
      "[0, 0, 0, 0]\n",
      "713977\n",
      "min time 34\n",
      "\tfor way 010\n",
      "2\n",
      "35809\n",
      "120\n",
      "[0, 0, 0, 0]\n",
      "1266833\n",
      "min time 34\n",
      "['blue', 'orange', 'black']\n",
      "\tfor way 000\n",
      "2\n",
      "84646\n",
      "240\n",
      "[0, 0, 0, 0]\n",
      "5067443\n",
      "min time 34\n",
      "\tfor way 101\n",
      "2\n",
      "84259\n",
      "240\n",
      "[0, 0, 0, 0]\n",
      "5050187\n",
      "min time 34\n",
      "\tfor way 011\n",
      "2\n",
      "81515\n",
      "240\n",
      "[0, 0, 0, 0]\n",
      "4954650\n",
      "min time 35\n",
      "\tfor way 001\n",
      "2\n",
      "84646\n",
      "240\n",
      "[0, 0, 0, 0]\n",
      "5067443\n",
      "min time 34\n",
      "\tfor way 110\n",
      "2\n",
      "81064\n",
      "240\n",
      "[0, 0, 0, 0]\n",
      "4932034\n",
      "min time 35\n",
      "\tfor way 100\n",
      "2\n",
      "84259\n",
      "240\n",
      "[0, 0, 0, 0]\n",
      "5050187\n",
      "min time 34\n",
      "\tfor way 010\n",
      "2\n",
      "81515\n",
      "240\n",
      "[0, 0, 0, 0]\n",
      "4954650\n",
      "min time 35\n",
      "['green', 'orange', 'yellow']\n",
      "\tfor way 000\n",
      "2\n",
      "51380\n",
      "120\n",
      "[0, 0, 0, 0]\n",
      "1777958\n",
      "min time 35\n",
      "\tfor way 101\n",
      "2\n",
      "50771\n",
      "120\n",
      "[0, 0, 0, 0]\n",
      "1754946\n",
      "min time 36\n",
      "\tfor way 011\n",
      "2\n",
      "51135\n",
      "120\n"
     ]
    }
   ],
   "source": [
    "%%time\n",
    "pqo.prepare_best_tracks(np.array([[7],[np.nan],[7]]),False)"
   ]
  },
  {
   "cell_type": "code",
   "execution_count": 142,
   "metadata": {},
   "outputs": [
    {
     "data": {
      "text/plain": [
       "dict_keys([5])"
      ]
     },
     "execution_count": 142,
     "metadata": {},
     "output_type": "execute_result"
    }
   ],
   "source": [
    "saved[-1][0][0].keys()"
   ]
  },
  {
   "cell_type": "code",
   "execution_count": 325,
   "metadata": {},
   "outputs": [
    {
     "name": "stdout",
     "output_type": "stream",
     "text": [
      "None\n"
     ]
    }
   ],
   "source": [
    "print(pqo.best_tracks[0]['000'])"
   ]
  },
  {
   "cell_type": "code",
   "execution_count": 252,
   "metadata": {},
   "outputs": [],
   "source": [
    "pqo.fs = fs"
   ]
  },
  {
   "cell_type": "code",
   "execution_count": 254,
   "metadata": {},
   "outputs": [
    {
     "name": "stdout",
     "output_type": "stream",
     "text": [
      "7852\n"
     ]
    }
   ],
   "source": [
    "fs3 = pqo.count_final_states()"
   ]
  },
  {
   "cell_type": "code",
   "execution_count": 255,
   "metadata": {},
   "outputs": [],
   "source": [
    "mt = 100\n",
    "for (f1,f2,f3) in fs3:\n",
    "    if f1.state.time + f2.state.time + f3.state.time < mt:\n",
    "        mt = f1.state.time + f2.state.time + f3.state.time"
   ]
  },
  {
   "cell_type": "code",
   "execution_count": 256,
   "metadata": {},
   "outputs": [
    {
     "data": {
      "text/plain": [
       "22"
      ]
     },
     "execution_count": 256,
     "metadata": {},
     "output_type": "execute_result"
    }
   ],
   "source": [
    "mt"
   ]
  },
  {
   "cell_type": "code",
   "execution_count": 235,
   "metadata": {},
   "outputs": [
    {
     "name": "stdout",
     "output_type": "stream",
     "text": [
      "---STATE---\n",
      "[nan  0. nan]\n",
      "[1. 4. 3.]\n",
      "[nan  2. nan]\n",
      "x: 0\ty: 0\ta: 0\n",
      "\n",
      "\n",
      "\n",
      "time 0.000000\tpicks 0-----------\n"
     ]
    }
   ],
   "source": [
    "s = MainRobotState(0)\n",
    "print(s)"
   ]
  },
  {
   "cell_type": "code",
   "execution_count": 40,
   "metadata": {},
   "outputs": [],
   "source": [
    "s.pick_cube_by(0,1)"
   ]
  },
  {
   "cell_type": "code",
   "execution_count": 41,
   "metadata": {},
   "outputs": [],
   "source": [
    "s.cubes[0][0] = 1\n",
    "s.cubes[0][1] = 2"
   ]
  },
  {
   "cell_type": "code",
   "execution_count": 42,
   "metadata": {},
   "outputs": [
    {
     "data": {
      "text/plain": [
       "array([[ 1.,  2., nan, nan, nan],\n",
       "       [ 0., nan, nan, nan, nan],\n",
       "       [nan, nan, nan, nan, nan]])"
      ]
     },
     "execution_count": 42,
     "metadata": {},
     "output_type": "execute_result"
    }
   ],
   "source": [
    "s.cubes"
   ]
  },
  {
   "cell_type": "code",
   "execution_count": 458,
   "metadata": {},
   "outputs": [],
   "source": [
    "z = MainRobotState(0)"
   ]
  },
  {
   "cell_type": "code",
   "execution_count": 459,
   "metadata": {},
   "outputs": [],
   "source": [
    "z.cubes[0][0] = 1\n",
    "z.cubes[0][1] = 3"
   ]
  },
  {
   "cell_type": "code",
   "execution_count": 45,
   "metadata": {},
   "outputs": [],
   "source": [
    "y = z.sum_with_other_state(s)"
   ]
  },
  {
   "cell_type": "code",
   "execution_count": 46,
   "metadata": {},
   "outputs": [
    {
     "name": "stdout",
     "output_type": "stream",
     "text": [
      "[[ 1.  3.  1.  2. nan]\n",
      " [ 0. nan nan nan nan]\n",
      " [nan nan nan nan nan]]\n"
     ]
    }
   ],
   "source": [
    "print(MainRobotState.sum_cubes(z.cubes, s.cubes))"
   ]
  },
  {
   "cell_type": "code",
   "execution_count": 47,
   "metadata": {},
   "outputs": [
    {
     "data": {
      "text/plain": [
       "array([[ 1.,  2.,  1.,  3., nan],\n",
       "       [ 0., nan, nan, nan, nan],\n",
       "       [nan, nan, nan, nan, nan]])"
      ]
     },
     "execution_count": 47,
     "metadata": {},
     "output_type": "execute_result"
    }
   ],
   "source": [
    "y.cubes"
   ]
  },
  {
   "cell_type": "code",
   "execution_count": 53,
   "metadata": {},
   "outputs": [],
   "source": [
    "A = np.sum(y.cubes == y.cubes,axis=1)"
   ]
  },
  {
   "cell_type": "code",
   "execution_count": 57,
   "metadata": {},
   "outputs": [],
   "source": [
    "B = np.array([True, False,True])"
   ]
  },
  {
   "cell_type": "code",
   "execution_count": 9,
   "metadata": {},
   "outputs": [],
   "source": [
    "z = MainRobotState(0)"
   ]
  },
  {
   "cell_type": "code",
   "execution_count": 20,
   "metadata": {},
   "outputs": [],
   "source": [
    "z = list(z.new_states())[-1]"
   ]
  },
  {
   "cell_type": "code",
   "execution_count": 21,
   "metadata": {},
   "outputs": [
    {
     "name": "stdout",
     "output_type": "stream",
     "text": [
      "---STATE---\n",
      "[nan nan nan]\n",
      "[ 1. nan nan]\n",
      "[nan nan nan]\n",
      "x: 0\ty: -1\ta: 2\n",
      "2 \n",
      "3 \n",
      "4 0 \n",
      "time 5.000000\tpicks 2-----------\n"
     ]
    }
   ],
   "source": [
    "print(z)"
   ]
  },
  {
   "cell_type": "code",
   "execution_count": 13,
   "metadata": {},
   "outputs": [],
   "source": [
    "cubes1 = CubesState.sum_cubes(z.cubes, np.array([[7],[np.nan],[7]]))"
   ]
  },
  {
   "cell_type": "code",
   "execution_count": 14,
   "metadata": {},
   "outputs": [
    {
     "data": {
      "text/plain": [
       "array([[ 2.,  7., nan, nan, nan],\n",
       "       [ 3., nan, nan, nan, nan],\n",
       "       [ 0.,  7., nan, nan, nan]])"
      ]
     },
     "execution_count": 14,
     "metadata": {},
     "output_type": "execute_result"
    }
   ],
   "source": [
    "cubes1"
   ]
  },
  {
   "cell_type": "code",
   "execution_count": 23,
   "metadata": {},
   "outputs": [
    {
     "data": {
      "text/plain": [
       "array([[ 2., nan, nan, nan, nan],\n",
       "       [ 3., nan, nan, nan, nan],\n",
       "       [ 4.,  0., nan, nan, nan]])"
      ]
     },
     "execution_count": 23,
     "metadata": {},
     "output_type": "execute_result"
    }
   ],
   "source": [
    "cubes2 = z.cubes\n",
    "cubes2"
   ]
  },
  {
   "cell_type": "code",
   "execution_count": 19,
   "metadata": {},
   "outputs": [
    {
     "data": {
      "text/plain": [
       "array([[ True,  True, False, False, False],\n",
       "       [ True, False, False, False, False],\n",
       "       [ True,  True, False, False, False]])"
      ]
     },
     "execution_count": 19,
     "metadata": {},
     "output_type": "execute_result"
    }
   ],
   "source": [
    "np.array([range(5),range(5),range(5)]) < np.sum(cubes1 == cubes1,axis=1)[:,np.newaxis]"
   ]
  },
  {
   "cell_type": "code",
   "execution_count": 27,
   "metadata": {},
   "outputs": [
    {
     "data": {
      "text/plain": [
       "array([[ 2.,  2.,  7., nan, nan],\n",
       "       [ 3.,  3., nan, nan, nan],\n",
       "       [ 4.,  0.,  0.,  7., nan]])"
      ]
     },
     "execution_count": 27,
     "metadata": {},
     "output_type": "execute_result"
    }
   ],
   "source": [
    "temp = np.array([range(5),range(5),range(5)])\n",
    "h1 = np.sum(cubes1 == cubes1, axis=1)[:,np.newaxis]\n",
    "h2 = np.sum(cubes2 == cubes2, axis=1)[:,np.newaxis]\n",
    "ij3 = np.logical_and(temp >= h2, temp < h2 + h1)\n",
    "cubes3 = cubes2.copy()\n",
    "cubes3[ij3] = cubes1[temp < h1]\n",
    "cubes3"
   ]
  },
  {
   "cell_type": "code",
   "execution_count": 43,
   "metadata": {},
   "outputs": [],
   "source": [
    "a = (np.repeat(temp[np.newaxis,:],2,axis=0))"
   ]
  },
  {
   "cell_type": "code",
   "execution_count": 44,
   "metadata": {},
   "outputs": [],
   "source": [
    "c = np.repeat(cubes1[np.newaxis,:],2,axis=0)"
   ]
  },
  {
   "cell_type": "code",
   "execution_count": 60,
   "metadata": {},
   "outputs": [],
   "source": [
    "h = np.sum(c == c, axis=2)[:,:,np.newaxis]"
   ]
  },
  {
   "cell_type": "code",
   "execution_count": 61,
   "metadata": {},
   "outputs": [
    {
     "data": {
      "text/plain": [
       "array([[[ True,  True, False, False, False],\n",
       "        [ True, False, False, False, False],\n",
       "        [ True,  True, False, False, False]],\n",
       "\n",
       "       [[ True,  True, False, False, False],\n",
       "        [ True, False, False, False, False],\n",
       "        [ True,  True, False, False, False]]])"
      ]
     },
     "execution_count": 61,
     "metadata": {},
     "output_type": "execute_result"
    }
   ],
   "source": [
    "a < h"
   ]
  },
  {
   "cell_type": "code",
   "execution_count": 62,
   "metadata": {},
   "outputs": [],
   "source": [
    "h1 = h\n",
    "h2 = h\n",
    "cij = np.logical_and(a >= h1, a < h1 + h2)\n",
    "c2 = c.copy()\n",
    "c2[cij] = c[a < h2]\n"
   ]
  },
  {
   "cell_type": "code",
   "execution_count": 109,
   "metadata": {},
   "outputs": [
    {
     "data": {
      "text/plain": [
       "(3, 2, 3, 5)"
      ]
     },
     "execution_count": 109,
     "metadata": {},
     "output_type": "execute_result"
    }
   ],
   "source": [
    "a = (np.repeat(temp[np.newaxis,:],2,axis=0))\n",
    "np.repeat(a[np.newaxis,:,:,:],3, axis=0).shape"
   ]
  },
  {
   "cell_type": "code",
   "execution_count": 94,
   "metadata": {},
   "outputs": [],
   "source": [
    "e = np.repeat(np.all(h1 + h2 < 5,axis=1)[:,:,np.newaxis], 5,axis=2)"
   ]
  },
  {
   "cell_type": "code",
   "execution_count": 96,
   "metadata": {},
   "outputs": [],
   "source": [
    "e1 = np.repeat(e, 3,axis=1)"
   ]
  },
  {
   "cell_type": "code",
   "execution_count": 99,
   "metadata": {},
   "outputs": [
    {
     "data": {
      "text/plain": [
       "array([2., 7., 3., 0., 7., 2., 7., 3., 0., 7.])"
      ]
     },
     "execution_count": 99,
     "metadata": {},
     "output_type": "execute_result"
    }
   ],
   "source": [
    "c2[np.logical_and(e1, cij)]"
   ]
  },
  {
   "cell_type": "code",
   "execution_count": 106,
   "metadata": {},
   "outputs": [
    {
     "data": {
      "text/plain": [
       "array([[[[ 2.,  7.,  2.,  7., nan],\n",
       "         [ 3.,  3., nan, nan, nan],\n",
       "         [ 0.,  7.,  0.,  7., nan]],\n",
       "\n",
       "        [[ 2.,  7.,  2.,  7., nan],\n",
       "         [ 3.,  3., nan, nan, nan],\n",
       "         [ 0.,  7.,  0.,  7., nan]]],\n",
       "\n",
       "\n",
       "       [[[ 2.,  7.,  2.,  7., nan],\n",
       "         [ 3.,  3., nan, nan, nan],\n",
       "         [ 0.,  7.,  0.,  7., nan]],\n",
       "\n",
       "        [[ 2.,  7.,  2.,  7., nan],\n",
       "         [ 3.,  3., nan, nan, nan],\n",
       "         [ 0.,  7.,  0.,  7., nan]]]])"
      ]
     },
     "execution_count": 106,
     "metadata": {},
     "output_type": "execute_result"
    }
   ],
   "source": [
    "np.repeat(c2[np.newaxis,:,:,:], 2, axis=0)"
   ]
  },
  {
   "cell_type": "code",
   "execution_count": 129,
   "metadata": {},
   "outputs": [
    {
     "name": "stdout",
     "output_type": "stream",
     "text": [
      "---STATE---\n",
      "[nan nan nan]\n",
      "[nan nan nan]\n",
      "[nan nan nan]\n",
      "x: -1\ty: -1\ta: 0\n",
      "0 4 2 \n",
      "3 \n",
      "1 \n",
      "time 10.000000\tpicks 4-----------\n",
      "---STATE---\n",
      "[nan nan nan]\n",
      "[nan nan nan]\n",
      "[nan nan nan]\n",
      "x: 0\ty: 0\ta: 0\n",
      "4 2 \n",
      "0 3 \n",
      "1 \n",
      "time 10.000000\tpicks 4-----------\n",
      "---STATE---\n",
      "[nan nan nan]\n",
      "[nan nan nan]\n",
      "[nan nan nan]\n",
      "x: -1\ty: 1\ta: 0\n",
      "4 2 \n",
      "3 \n",
      "0 1 \n",
      "time 10.000000\tpicks 4-----------\n",
      "---STATE---\n",
      "[nan nan nan]\n",
      "[nan nan nan]\n",
      "[nan nan nan]\n",
      "x: 0\ty: 0\ta: 1\n",
      "0 4 2 \n",
      "3 \n",
      "1 \n",
      "time 11.000000\tpicks 4-----------\n",
      "---STATE---\n",
      "[nan nan nan]\n",
      "[nan nan nan]\n",
      "[nan nan nan]\n",
      "x: -1\ty: 1\ta: 1\n",
      "4 2 \n",
      "0 3 \n",
      "1 \n",
      "time 11.000000\tpicks 4-----------\n",
      "---STATE---\n",
      "[nan nan nan]\n",
      "[nan nan nan]\n",
      "[nan nan nan]\n",
      "x: -2\ty: 0\ta: 1\n",
      "4 2 \n",
      "3 \n",
      "0 1 \n",
      "time 11.000000\tpicks 4-----------\n",
      "---STATE---\n",
      "[nan nan nan]\n",
      "[nan nan nan]\n",
      "[nan nan nan]\n",
      "x: -1\ty: 1\ta: 2\n",
      "0 4 2 \n",
      "3 \n",
      "1 \n",
      "time 10.000000\tpicks 4-----------\n",
      "---STATE---\n",
      "[nan nan nan]\n",
      "[nan nan nan]\n",
      "[nan nan nan]\n",
      "x: -2\ty: 0\ta: 2\n",
      "4 2 \n",
      "0 3 \n",
      "1 \n",
      "time 10.000000\tpicks 4-----------\n",
      "---STATE---\n",
      "[nan nan nan]\n",
      "[nan nan nan]\n",
      "[nan nan nan]\n",
      "x: -1\ty: -1\ta: 2\n",
      "4 2 \n",
      "3 \n",
      "0 1 \n",
      "time 10.000000\tpicks 4-----------\n"
     ]
    }
   ],
   "source": [
    "for x in z.new_states():\n",
    "    print(x)"
   ]
  },
  {
   "cell_type": "code",
   "execution_count": 69,
   "metadata": {},
   "outputs": [
    {
     "data": {
      "text/plain": [
       "(1, 2)"
      ]
     },
     "execution_count": 69,
     "metadata": {},
     "output_type": "execute_result"
    }
   ],
   "source": [
    "next(z.get_cubes_coords())"
   ]
  },
  {
   "cell_type": "code",
   "execution_count": 83,
   "metadata": {},
   "outputs": [
    {
     "name": "stdout",
     "output_type": "stream",
     "text": [
      "---STATE---\n",
      "[nan  0. nan]\n",
      "[nan  4. nan]\n",
      "[nan nan nan]\n",
      "x: 0\ty: 0\ta: 3\n",
      "2 \n",
      "3 \n",
      "1 \n",
      "time 5.000000\tpicks 2-----------\n",
      "---STATE---\n",
      "[nan  0. nan]\n",
      "[nan  4. nan]\n",
      "[nan nan nan]\n",
      "x: 0\ty: 0\ta: 0\n",
      "2 \n",
      "3 \n",
      "1 \n",
      "time 4.000000\tpicks 2-----------\n",
      "---STATE---\n",
      "[nan  0. nan]\n",
      "[nan  4. nan]\n",
      "[nan nan nan]\n",
      "x: 0\ty: 0\ta: 1\n",
      "2 \n",
      "3 \n",
      "1 \n",
      "time 5.000000\tpicks 2-----------\n",
      "---STATE---\n",
      "[nan  0. nan]\n",
      "[nan  4. nan]\n",
      "[nan nan nan]\n",
      "x: -1\ty: 0\ta: 3\n",
      "2 \n",
      "3 \n",
      "1 \n",
      "time 6.000000\tpicks 2-----------\n",
      "---STATE---\n",
      "[nan  0. nan]\n",
      "[nan  4. nan]\n",
      "[nan nan nan]\n",
      "x: -1\ty: 0\ta: 0\n",
      "2 \n",
      "3 \n",
      "1 \n",
      "time 5.000000\tpicks 2-----------\n",
      "---STATE---\n",
      "[nan  0. nan]\n",
      "[nan  4. nan]\n",
      "[nan nan nan]\n",
      "x: -1\ty: 0\ta: 1\n",
      "2 \n",
      "3 \n",
      "1 \n",
      "time 6.000000\tpicks 2-----------\n"
     ]
    }
   ],
   "source": [
    "for x in z.next_moves():\n",
    "    print(x)"
   ]
  },
  {
   "cell_type": "code",
   "execution_count": 241,
   "metadata": {},
   "outputs": [
    {
     "ename": "TypeError",
     "evalue": "unhashable type: 'list'",
     "output_type": "error",
     "traceback": [
      "\u001b[0;31m---------------------------------------------------------------------------\u001b[0m",
      "\u001b[0;31mTypeError\u001b[0m                                 Traceback (most recent call last)",
      "\u001b[0;32m<ipython-input-241-4a5722e7ef02>\u001b[0m in \u001b[0;36m<module>\u001b[0;34m()\u001b[0m\n\u001b[0;32m----> 1\u001b[0;31m \u001b[0;34m{\u001b[0m\u001b[0;34m[\u001b[0m\u001b[0;36m1\u001b[0m\u001b[0;34m,\u001b[0m\u001b[0;36m2\u001b[0m\u001b[0;34m]\u001b[0m\u001b[0;34m}\u001b[0m\u001b[0;34m\u001b[0m\u001b[0m\n\u001b[0m",
      "\u001b[0;31mTypeError\u001b[0m: unhashable type: 'list'"
     ]
    }
   ],
   "source": [
    "{[1,2]}"
   ]
  },
  {
   "cell_type": "code",
   "execution_count": 112,
   "metadata": {},
   "outputs": [
    {
     "data": {
      "text/plain": [
       "array([[[[ 7.],\n",
       "         [nan],\n",
       "         [ 7.]],\n",
       "\n",
       "        [[ 7.],\n",
       "         [nan],\n",
       "         [ 7.]],\n",
       "\n",
       "        [[ 7.],\n",
       "         [nan],\n",
       "         [ 7.]]],\n",
       "\n",
       "\n",
       "       [[[ 7.],\n",
       "         [nan],\n",
       "         [ 7.]],\n",
       "\n",
       "        [[ 7.],\n",
       "         [nan],\n",
       "         [ 7.]],\n",
       "\n",
       "        [[ 7.],\n",
       "         [nan],\n",
       "         [ 7.]]]])"
      ]
     },
     "execution_count": 112,
     "metadata": {},
     "output_type": "execute_result"
    }
   ],
   "source": [
    "magic_mask = np.array([[7],[np.nan],[7]])\n",
    "np.repeat(np.repeat(magic_mask[np.newaxis,np.newaxis,:,:],2,axis=0),3,axis=1)"
   ]
  },
  {
   "cell_type": "code",
   "execution_count": null,
   "metadata": {},
   "outputs": [],
   "source": []
  }
 ],
 "metadata": {
  "kernelspec": {
   "display_name": "Python 3",
   "language": "python",
   "name": "python3"
  },
  "language_info": {
   "codemirror_mode": {
    "name": "ipython",
    "version": 3
   },
   "file_extension": ".py",
   "mimetype": "text/x-python",
   "name": "python",
   "nbconvert_exporter": "python",
   "pygments_lexer": "ipython3",
   "version": "3.6.3"
  }
 },
 "nbformat": 4,
 "nbformat_minor": 2
}
