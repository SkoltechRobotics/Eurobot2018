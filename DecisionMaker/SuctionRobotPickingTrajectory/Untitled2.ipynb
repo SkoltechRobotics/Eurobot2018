{
 "cells": [
  {
   "cell_type": "code",
   "execution_count": 1,
   "metadata": {},
   "outputs": [],
   "source": [
    "import gurobipy as grb\n",
    "import numpy as np\n",
    "import itertools\n",
    "import sys\n",
    "import copy\n",
    "import collections\n",
    "import functools\n",
    "import pickle"
   ]
  },
  {
   "cell_type": "code",
   "execution_count": 2,
   "metadata": {},
   "outputs": [],
   "source": [
    "def iterer(*args):\n",
    "    return itertools.product(*[x_ if isinstance(x_,collections.Iterable) else range(x_) for x_ in args])"
   ]
  },
  {
   "cell_type": "code",
   "execution_count": 3,
   "metadata": {},
   "outputs": [],
   "source": [
    "possible_plans = [\n",
    "        ['orange','black','green'],\n",
    "        ['blue','black','yellow'],\n",
    "        ['blue','green','orange'],\n",
    "        ['yellow','green','black'],\n",
    "        ['black','yellow','orange'],\n",
    "        ['green','yellow','blue'],\n",
    "        ['blue','orange','black'],\n",
    "        ['green','orange','yellow'],\n",
    "        ['black','blue','green'],\n",
    "        ['orange','blue','yellow']\n",
    "    ]\n",
    "\n",
    "colormap = {\n",
    "    'black'  : 0,\n",
    "    'green'  : 1,\n",
    "    'blue'   : 2,\n",
    "    'orange' : 3,\n",
    "    'yellow' : 4\n",
    "}"
   ]
  },
  {
   "cell_type": "code",
   "execution_count": 4,
   "metadata": {},
   "outputs": [],
   "source": [
    "\"\"\"\n",
    "    places in heaps: (1 is closer to orange side, 0 to central tracking device)\n",
    "       | 1|\n",
    "    | 0| 4| 2|\n",
    "       | 3|\n",
    "\n",
    "    colors of cubes: (same as for orange side)\n",
    "    \n",
    "    black  -- 0\n",
    "    green  -- 1\n",
    "    blue   -- 2\n",
    "    orange -- 3\n",
    "    yellow -- 4\n",
    "    \n",
    "    numbers of heaps - 0,1,2,3,4,5 CCW starting from closest heap to central tracking device on the orange side\n",
    "    \n",
    "    man = 0, 1, 2 (picking 1 4 3 if from 0 for orange!)\n",
    "    \n",
    "    cubes:\n",
    "    -1 - none\n",
    "    \n",
    "\"\"\";\n"
   ]
  },
  {
   "cell_type": "code",
   "execution_count": 5,
   "metadata": {},
   "outputs": [],
   "source": [
    "class STNode():\n",
    "    def __init__(self, state, upper, ref = None):\n",
    "        self.state = state\n",
    "        self.upper = upper\n",
    "        self.nexts = []\n",
    "        self.id = ref\n",
    "        \n",
    "    def __str__(self):\n",
    "        return str(self.state)\n",
    "    \n",
    "    def gen_reversed_path(self):\n",
    "        sn = self\n",
    "        while sn != None:\n",
    "            yield sn\n",
    "            sn = sn.upper\n",
    "    \n",
    "    def get_path(self):\n",
    "        return reversed(list(self.gen_reversed_path()))"
   ]
  },
  {
   "cell_type": "code",
   "execution_count": 6,
   "metadata": {},
   "outputs": [],
   "source": [
    "orange_heap = np.array([\n",
    "                        [-1, 0,-1],\n",
    "                        [ 1, 4, 3],\n",
    "                        [-1, 2,-1]\n",
    "                    ],dtype=np.float)\n",
    "green_heap  = np.array([\n",
    "                        [-1, 0,-1],\n",
    "                        [ 3, 4, 1],\n",
    "                        [-1, 2,-1]\n",
    "                 ],dtype=np.float)\n",
    "orange_heap[orange_heap == -1] = np.nan\n",
    "green_heap[green_heap == -1] = np.nan\n",
    "def get_heap(heap_num, side):\n",
    "    heap = None\n",
    "    if heap_num in [0,1,2]:\n",
    "        heap = orange_heap\n",
    "    if heap_num in [3,4,5]:\n",
    "        heap = green_heap\n",
    "    return np.rot90(heap,side)"
   ]
  },
  {
   "cell_type": "code",
   "execution_count": 7,
   "metadata": {},
   "outputs": [],
   "source": [
    "class CubesState():\n",
    "    initial_cubes = np.ones((3,5),dtype=np.int)*np.nan\n",
    "    magic_color = 7\n",
    "    def __init__(self, heap_num, cubes = None, **kvargs):\n",
    "        self.heap_num = heap_num\n",
    "        self.heap = get_heap(heap_num,0)\n",
    "        self.cubes = cubes if cubes else copy.deepcopy(self.initial_cubes)\n",
    "        self.vars = kvargs\n",
    "        self.n_picks = 0\n",
    "        self.time = 0\n",
    "        self.x = np.zeros((2,),dtype=np.int)\n",
    "        self.a = 0\n",
    "        self.params = kvargs\n",
    "        self.set_defaults()\n",
    "    \n",
    "    def set_defaults(self):\n",
    "        pass\n",
    "    \n",
    "    def remove_color(self, color):\n",
    "        self.heap[self.heap == color] = np.nan\n",
    "        \n",
    "    def cubes_left(self):\n",
    "        return np.sum(self.heap == self.heap)\n",
    "    \n",
    "    def get_cubes_coords(self):\n",
    "        for i,j in iterer(3,3):\n",
    "            if self.heap[i][j] == self.heap[i][j]:\n",
    "                yield i,j\n",
    "    \n",
    "    def pick_cube_by(self, color, man, remove=True):\n",
    "        if remove:\n",
    "            self.remove_color(color)\n",
    "        self.cubes[man] = np.roll(self.cubes[man],1)\n",
    "        self.cubes[man][0] = int(color)\n",
    "    \n",
    "    def has_free_space(self,man):\n",
    "        return not np.all(self.cubes[man] == self.cubes[man])\n",
    "    \n",
    "    def pick_cubes(self,colors,mans):\n",
    "        for c,m in zip(colors, mans):\n",
    "            self.pick_cube_by(c,m)\n",
    "        self.n_picks += 1\n",
    "    \n",
    "    def test_pick_cubes(self, colors, mans):\n",
    "        for c, m in zip(colors,mans):\n",
    "            if not self.has_free_space(m) or c != c:\n",
    "                return False\n",
    "        return True\n",
    "    \n",
    "    def is_full(self):\n",
    "        return np.all(self.cubes == self.cubes)\n",
    "    \n",
    "    @staticmethod\n",
    "    def equal_to_plan( subs, plan):\n",
    "        tp = copy.deepcopy(subs)\n",
    "        tp2 = np.array(list(reversed(subs)))\n",
    "        for i, c in enumerate(tp):\n",
    "            if c == CubesState.magic_color:\n",
    "                tp[i] = plan[i]\n",
    "        for i, c in enumerate(tp2):\n",
    "            if c == CubesState.magic_color:\n",
    "                tp2[i] = plan[i]\n",
    "        return np.all(tp==plan) or np.all(tp2==plan)\n",
    "    \n",
    "    @staticmethod\n",
    "    def count_plans_cubes(cubes,plan):\n",
    "        rev_plan = np.array(list(reversed(plan)))\n",
    "        has_plan = np.zeros((3,), dtype=np.bool)\n",
    "        for man, s in iterer(3,3):\n",
    "            has_plan[man] = has_plan[man] or CubesState.equal_to_plan(cubes[man][s:s+3],plan)\n",
    "        return np.sum(has_plan)\n",
    "    \n",
    "    def count_plans(self, plan):\n",
    "        rev_plan = np.array(list(reversed(plan)))\n",
    "        has_plan = np.zeros((3,), dtype=np.bool)\n",
    "        for man, s in iterer(3,3):\n",
    "            has_plan[man] = has_plan[man] or CubesState.equal_to_plan(self.cubes[man][s:s+3],plan)\n",
    "        return np.sum(has_plan)\n",
    "    \n",
    "    @staticmethod\n",
    "    def sum_cubes(c1,c2):\n",
    "        h1 = np.sum(c1 == c1, axis=1)\n",
    "        h2 = np.sum(c2 == c2, axis=1)\n",
    "        if np.any(h1 + h2 > 5):\n",
    "            return None\n",
    "        c = c1 + 0\n",
    "        for m in range(3):\n",
    "            c[m][h1[m]:h2[m]+h1[m]] = c2[m][:h2[m]]\n",
    "        return c\n",
    "    \n",
    "    def sum_with_other_state(self, s):\n",
    "        ns = copy.deepcopy(self)\n",
    "        for man in range(3):\n",
    "            for c in reversed(s.cubes[man]):\n",
    "                if c == c and self.has_free_space(man):\n",
    "                    ns.pick_cube_by(c,man,False)\n",
    "        ns.time = s.time + self.time\n",
    "        return ns\n",
    "    \n",
    "    def __str__(self):\n",
    "        s = \"---STATE---\" + '\\n'\n",
    "        for l in self.heap:\n",
    "            s += str(l) + '\\n'\n",
    "        s += \"x: %d\\ty: %d\\ta: %d\\n\"%(self.x[0], self.x[1], self.a)\n",
    "        #for k,v in self.vars.items():\n",
    "        #    s += \"%s : %s\\t\"%(str(k),str(v))\n",
    "        for m in self.cubes:\n",
    "            for c in m:\n",
    "                if c == c:\n",
    "                    s += \"%d \"%c\n",
    "            s += '\\n'\n",
    "        s += 'time %f\\tpicks %d'%(self.time, self.n_picks)\n",
    "        s += '-----------'\n",
    "        return s\n",
    "    \n",
    "    def next_picks(self):\n",
    "        pass\n",
    "    \n",
    "    def next_moves(self):\n",
    "        pass"
   ]
  },
  {
   "cell_type": "code",
   "execution_count": 8,
   "metadata": {},
   "outputs": [],
   "source": [
    "class MainRobotState(CubesState):\n",
    "    defaults = {\n",
    "            'move_time'  :1,\n",
    "            'pick_time'  :1,\n",
    "            'rotate_time':1\n",
    "        }\n",
    "    banned_x = {0 : {},\n",
    "                1 : {(2,0,1),(2,0,3),(1,0,1),(1,0,3)}\n",
    "    }\n",
    "    shift = np.array([[-1,0],[0,-1],[1,0],[0,1]])\n",
    "    mans_shift = np.array([-1,0,1])\n",
    "    manipulator_masks = [list(x) for x in itertools.product([0,1], repeat=3)][1:]\n",
    "    def find_a_by_shift(self, sh):\n",
    "        #print(self.shift, sh)\n",
    "        return np.where((self.shift == sh).all(axis=1))[0][0]\n",
    "    \n",
    "    def set_defaults(self):\n",
    "        for k,v in self.defaults.items():\n",
    "            if k not in self.params:\n",
    "                self.params[k] = v\n",
    "    \n",
    "    def new_state_x(self, x, a):\n",
    "        if self.allowed_position(x,a):\n",
    "            s = copy.deepcopy(self)\n",
    "            s.a = a\n",
    "            s.x = x\n",
    "            s.time += self.get_time_between(s)\n",
    "            yield s\n",
    "    \n",
    "    def new_state_p(self, mans):\n",
    "        s = copy.deepcopy(self)\n",
    "        s.time += self.params['pick_time']\n",
    "        ms = [i for i, m in enumerate(mans) if m]\n",
    "        x = self.get_mans_x()\n",
    "        colors = [self.heap[tuple(x[m])] for m in ms]\n",
    "        s.pick_cubes(colors, ms)\n",
    "        return s\n",
    "    \n",
    "    def get_mans_x(self):\n",
    "        x = np.zeros((3,2),dtype=np.int)\n",
    "        x += self.x + 1\n",
    "        a_index = (self.mans_shift + self.a) % 4\n",
    "        # print(a_index)\n",
    "        return x + self.shift[a_index]\n",
    "    \n",
    "    def check_mans_x(self):\n",
    "        X = self.get_mans_x()\n",
    "        R =[np.all(np.logical_and(x >= 0, x < 3)) and self.heap[tuple(x)] == self.heap[tuple(x)] and self.has_free_space(i) for i,x in enumerate(X)]\n",
    "        return np.array(R)\n",
    "        \n",
    "    def get_time_between(self, s):\n",
    "        return np.max(np.abs(self.x - s.x))*self.params['move_time'] + \\\n",
    "                np.min([np.abs(self.a - s.a), np.abs(self.a - s.a - 4), np.abs(self.a - s.a + 4)])*self.params['rotate_time']\n",
    "    \n",
    "    def allowed_position(self,x,a):\n",
    "        return not (int(x[0]),int(x[1]),a) in self.banned_x[self.heap_num]\n",
    "    \n",
    "    def next_moves(self):\n",
    "        cubes_left = self.cubes_left()\n",
    "        if cubes_left in [3,4,5]:\n",
    "            for a in range(4):\n",
    "                yield from self.new_state_x(self.x, a)\n",
    "        elif cubes_left == 2:\n",
    "            x = np.array(list([i,j] for i,j in self.get_cubes_coords()))\n",
    "            rest_cube = x.sum(axis=0) - 2\n",
    "            a0 = self.find_a_by_shift(rest_cube)\n",
    "            for da in range(-1,2):\n",
    "                a = (a0+da)%4\n",
    "                yield from self.new_state_x(self.x, a)\n",
    "            for da in range(-1,2):\n",
    "                a = (2-a0+da)%4\n",
    "                yield from self.new_state_x(rest_cube, a)\n",
    "        elif cubes_left == 1:\n",
    "            last_cube = list(self.get_cubes_coords())[0]\n",
    "            x = np.array([last_cube[0],last_cube[1]])\n",
    "            for a,da in iterer(3,range(-1,2)):\n",
    "                yield from self.new_state_x(x-1-self.shift[(a+da)%4], a)\n",
    "                \n",
    "    def next_picks(self):\n",
    "        mans_can_pick = self.check_mans_x()\n",
    "        for mans in self.manipulator_masks:\n",
    "            if np.all(np.logical_or(mans_can_pick, np.logical_not(mans))): \n",
    "                yield self.new_state_p(mans)\n",
    "                \n",
    "    def new_states(self):\n",
    "        for s in self.next_moves():\n",
    "            yield from s.next_picks()"
   ]
  },
  {
   "cell_type": "code",
   "execution_count": 510,
   "metadata": {},
   "outputs": [],
   "source": [
    "class PickQueryOptimizer():\n",
    "    defaults = {\n",
    "        'plan': [0,1,2],\n",
    "        'heaps': [0,1,2],\n",
    "        \n",
    "    }\n",
    "    def __init__(self, StateClass, heap_reducer, initial_cubes = None, **kvargs):\n",
    "        self.StateClass = StateClass\n",
    "        self.initial_cubes = initial_cubes\n",
    "        self.params = {}\n",
    "        for k,v in self.defaults.items():\n",
    "            self.params[k] = copy.copy(v)\n",
    "            \n",
    "        for k,v in kvargs.items():\n",
    "            if k in self.params.keys():\n",
    "                self.params[k] = copy.copy(v)\n",
    "                \n",
    "        self.heap_trees_raw = {}\n",
    "        self.heap_finals_safe = {} # [heap number (reduced)][plan index]\n",
    "        self.heap_finals_unsafe = {} # [heap number (reduced)][plan index][num of cubes]\n",
    "        self.best_tracks = {}\n",
    "        self.heap_reducer = heap_reducer\n",
    "                \n",
    "    def set_plan(self, plan):\n",
    "        if isinstance(plan[0], str):\n",
    "            self.params['plan'] = [colormap[c] for c in plan]\n",
    "        else:\n",
    "            self.params['plan'] = plan\n",
    "        \n",
    "    def get_plan(self, num = None):\n",
    "        if num == None:\n",
    "            return self.params['plan']\n",
    "        elif num < 3:\n",
    "            return self.params['plan'][num]\n",
    "        return self.params['plan']\n",
    "    \n",
    "    def get_plan_index(self):\n",
    "        np_plan = np.array(self.get_plan())\n",
    "        for i, p in enumerate(possible_plans):\n",
    "            if np.all(np_plan == np.array([colormap[c] for c in p])):\n",
    "                return i\n",
    "        return None\n",
    "    \n",
    "    def checker_node_for_plans(self, x):\n",
    "        def f(sn):\n",
    "            return sn.state.count_plans(self.get_plan()) == x\n",
    "        return f\n",
    "    \n",
    "    def reduce_by_colors(self, final_states):\n",
    "        extra_colors = set([0,1,2,3,4]) - set(self.get_plan())\n",
    "        cubes = {}\n",
    "        for sn in final_states:\n",
    "            s = sn.state\n",
    "            tokey = copy.deepcopy(s.cubes)\n",
    "            for ec in extra_colors:\n",
    "                tokey[tokey == ec] = 6\n",
    "            key = str(tokey)\n",
    "            if key in cubes:\n",
    "                if cubes[key].state.time > s.time:\n",
    "                    cubes[key] = sn\n",
    "            else:\n",
    "                cubes[key] = sn\n",
    "        return list(cubes.values())\n",
    "    \n",
    "    def build_solution_tree(self, heap_num, use_initial_cubes=True):\n",
    "        initial_state = self.StateClass(heap_num, self.initial_cubes if use_initial_cubes else None)\n",
    "        root = STNode(initial_state, None)\n",
    "        this_wave = [root]\n",
    "        next_wave = []\n",
    "        i = 0\n",
    "        while len(this_wave) > 0:\n",
    "            for node in this_wave:\n",
    "                node.nexts = [STNode(x,node, i + di) for di, x in enumerate(node.state.new_states())]\n",
    "                if len(node.nexts):\n",
    "                    i = node.nexts[-1].id + 1\n",
    "                next_wave.extend(node.nexts)\n",
    "            this_wave = next_wave\n",
    "            next_wave = []\n",
    "        return root\n",
    "    \n",
    "    def gen_final_states(self, ht_root, num_of_cubes = [5]):\n",
    "        this_wave = [ht_root]\n",
    "        next_wave = []\n",
    "        while len(this_wave) > 0:\n",
    "            for node in this_wave:\n",
    "                if 5 - node.state.cubes_left() in num_of_cubes:\n",
    "                    yield node\n",
    "                next_wave.extend(node.nexts)\n",
    "            this_wave = next_wave\n",
    "            next_wave = []\n",
    "        \n",
    "    \n",
    "    def prepare_all_heap_trees(self, status_prints=True):\n",
    "        current_plan = self.get_plan()\n",
    "        \n",
    "        for hn in set(self.heap_reducer[hn] for hn in range(6)):\n",
    "            if status_prints:\n",
    "                print(\"Working on %d heap\"%(hn))\n",
    "            self.heap_trees_raw[hn] = self.build_solution_tree(hn,False)\n",
    "            ht = self.heap_trees_raw[hn]\n",
    "            self.heap_finals_unsafe[hn] = {}\n",
    "            self.heap_finals_safe[hn] = {}\n",
    "            final_states = list(self.gen_final_states(ht))\n",
    "            print(\"final states : %d\"%(len(final_states)))\n",
    "            for i, p in enumerate(possible_plans):\n",
    "                if status_prints:\n",
    "                    print(\"\\tplan %d\"%(i))\n",
    "                self.set_plan(p)\n",
    "                self.heap_finals_unsafe[hn][i] = {}\n",
    "                for n_of_cubes in [3,4,5]:\n",
    "                    self.heap_finals_unsafe[hn][i][n_of_cubes] = self.reduce_by_colors(self.gen_final_states(ht,[n_of_cubes]))\n",
    "                self.heap_finals_safe[hn][i] = list(filter(self.checker_node_for_plans(1),self.heap_finals_unsafe[hn][i][5]))\n",
    "        \n",
    "        self.set_plan(current_plan)\n",
    "    \n",
    "    def count_plans_with_magic(self, *cubes):\n",
    "        cubes_sum = cubes[0]\n",
    "        for cs in cubes[1:]:\n",
    "            cubes_sum = CubesState.sum_cubes(cs, cubes_sum)\n",
    "        return 0 if cubes_sum is None else CubesState.count_plans_cubes(cubes_sum, self.get_plan())\n",
    "    \n",
    "    \n",
    "    \n",
    "            \n",
    "                \n",
    "    \n",
    "    def merge_heap_states(self, fs, n = 2, exclude=None):\n",
    "        cubes = {}\n",
    "        if not n in [2,3]:\n",
    "            return None\n",
    "        \n",
    "        for f in iterer(*fs):\n",
    "            s = None\n",
    "            cubes_sum = None\n",
    "            if n == 2:\n",
    "                s = f[0].state, f[1].state\n",
    "                cubes_sum = MainRobotState.sum_cubes(s[1].cubes,s[0].cubes)\n",
    "            elif n == 3:\n",
    "                s = f[0][0].state, f[0][1].state, f[1].state\n",
    "                cubes_sum = MainRobotState.sum_cubes(s[2].cubes, f[0][2])\n",
    "            if cubes_sum is None:\n",
    "                continue\n",
    "            if exclude and exclude(cubes_sum):\n",
    "                continue\n",
    "            key = str(cubes_sum)\n",
    "            if key in cubes:\n",
    "                all_nodes = None\n",
    "                try:\n",
    "                    if n == 2:\n",
    "                        all_nodes = cubes[key][:2]\n",
    "                    else:\n",
    "                        all_nodes = cubes[key]\n",
    "                except TypeError:\n",
    "                    print(cubes[key][0], cubes[key][1])\n",
    "                if sum(sn.state.time for sn in all_nodes) > sum(st.time for st in s):\n",
    "                    cubes[key] = (f[0][0],f[0][1],f[1]) if n == 3 else (f[0],f[1],cubes_sum)\n",
    "            else:\n",
    "                cubes[key] = (f[0][0],f[0][1],f[1]) if n == 3 else (f[0],f[1],cubes_sum)\n",
    "                \n",
    "        return list(cubes.values())\n",
    "    \n",
    "        \n",
    "        \n",
    "    def choose_best_time(self, variants):\n",
    "        mint,minv = sum( w.state.time for w in variants[0]), variants[0]\n",
    "        for v in variants:\n",
    "            if sum( w.state.time for w in v) > mint:\n",
    "                mint = sum( w.state.time for w in v)\n",
    "                minv = v\n",
    "        print(\"min time %d\"%(mint))\n",
    "        return minv\n",
    "    \n",
    "    def get_best_track(self, hn_way, magic_mask, safe=True):\n",
    "        num_mc = np.sum(magic_mask == magic_mask)\n",
    "        print(num_mc)\n",
    "        # step 0:\n",
    "        \n",
    "        finals = None\n",
    "        if safe:\n",
    "            finals = [self.heap_finals_safe[hn][self.get_plan_index()] for hn in hn_way[:2]]\n",
    "        else:\n",
    "            finals = [self.heap_finals_unsafe[hn][self.get_plan_index()][5] for hn in hn_way[:2]]\n",
    "        \n",
    "        def excluder(num,key=lambda x:x):\n",
    "            def exclude(fin):\n",
    "                return self.count_plans_with_magic(magic_mask, key(fin)) == num\n",
    "            return exclude\n",
    "        \n",
    "        if num_mc > 0:\n",
    "            finals[0] = filter(excluder(1,lambda x:x.state.cubes), finals[0])\n",
    "            \n",
    "        final_nodes2 = self.merge_heap_states(finals,2, excluder(2))\n",
    "        \n",
    "        if num_mc > 0 or not safe:\n",
    "            finals = self.heap_finals_unsafe[hn_way[-1]][self.get_plan_index()][5-num_mc]\n",
    "        else:\n",
    "            finals = self.heap_finals_safe[hn_way[-1]][self.get_plan_index()]\n",
    "        print(len(final_nodes2))\n",
    "        print(len(finals))\n",
    "        total=[0,0,0,0]\n",
    "        num = 3\n",
    "        final_nodes3 = self.merge_heap_states((final_nodes2,finals),3, excluder(3))\n",
    "        print(total)\n",
    "        print(len(final_nodes3))\n",
    "        return self.choose_best_time(final_nodes3)\n",
    "        \n",
    "        \n",
    "    \n",
    "    def prepare_best_tracks(self, magic_mask=np.array([[np.nan],[np.nan],[np.nan]]),safe=True):\n",
    "        def lkey(l):\n",
    "            return \"%d%d%d\"%tuple(l)\n",
    "        def unlkey(s):\n",
    "            return list( int(c) for c in s)\n",
    "        hn_ways = [unlkey(hn_way) for hn_way in set(lkey( self.heap_reducer[hn] for hn in hn_way) for hn_way in itertools.permutations(range(6),3))]\n",
    "        \n",
    "        for p in possible_plans:\n",
    "            print(p)\n",
    "            self.set_plan(p)\n",
    "            self.best_tracks[self.get_plan_index()] = {}\n",
    "            for hn_way in hn_ways:\n",
    "                key = lkey(hn_way)\n",
    "                print('\\tfor way %s'%(key))\n",
    "                self.best_tracks[self.get_plan_index()][key] = self.get_best_track(hn_way, magic_mask,safe)\n",
    "                \n",
    "    def megamatrix_sum_numpy(self, f,s):\n",
    "        megacubes0 = np.empty((len(f), 3, 5))\n",
    "        megacubes1 = np.empty((len(s), 3, 5))\n",
    "        for i,g in enumerate(f):\n",
    "            megacubes0[i,:,:] = g\n",
    "        for i,g in enumerate(s):\n",
    "            megacubes1[i,:,:] = g\n",
    "        megah0 = np.sum(megacubes0 == megacubes0, axis=2)[:,:,np.newaxis]\n",
    "        megah1 = np.sum(megacubes1 == megacubes1, axis=2)[:,:,np.newaxis]\n",
    "\n",
    "        megamatrixh0 = np.repeat(megah0[:,np.newaxis,:,:],len(s),axis=1)\n",
    "        megamatrixh1 = np.repeat(megah1[np.newaxis,:,:,:],len(f),axis=0)\n",
    "        megamatrixc1 = np.repeat(megacubes1[np.newaxis,:,:,:],len(f),axis=0)\n",
    "        megamatrixc0 = np.repeat(megacubes0[:,np.newaxis,:,:],len(s),axis=1)\n",
    "\n",
    "        temp = np.array([range(5),range(5),range(5)])\n",
    "        a = np.repeat(temp[np.newaxis,:,:],len(s),axis=0)\n",
    "        a = np.repeat(a[np.newaxis,:,:,:],len(f), axis=0)\n",
    "\n",
    "        megamatrixh_2   = megamatrixh0 + megamatrixh1\n",
    "\n",
    "        indexesc0_for_2 = np.logical_and(a >= megamatrixh0, a < megamatrixh_2)\n",
    "        \n",
    "        total_height_less_than_5 = np.repeat(np.all(megamatrixh_2 <= 5, axis=2), 3, axis=2)[:,:,:,np.newaxis]\n",
    "        \n",
    "        indexesc0_for_2 = np.logical_and(indexesc0_for_2, total_height_less_than_5)\n",
    "        indexesc1_for_2 = np.logical_and(a < megamatrixh1, total_height_less_than_5)\n",
    "        \n",
    "        #print(indexesc0_for_2, indexesc1_for_2)\n",
    "        megamatrixc0[indexesc0_for_2] = megamatrixc1[indexesc1_for_2]\n",
    "        out_of_range = np.logical_and(a < 6, np.logical_not(total_height_less_than_5))\n",
    "        megamatrixc0[out_of_range] = np.nan\n",
    "        return megamatrixc0\n",
    "    \n",
    "    def merge_heap_states_numpy(self, fs, n = 2, magic_mask = np.array([[7],[np.nan],[7]]), safe=True):\n",
    "        if n == 2:\n",
    "            megacubes0 = np.empty((len(fs[0]), 3, 5))\n",
    "            megacubes1 = np.empty((len(fs[1]), 3, 5))\n",
    "            for i,f in enumerate(fs[0]):\n",
    "                megacubes0[i,:,:] = f.state.cubes\n",
    "            for i,f in enumerate(fs[1]):\n",
    "                megacubes1[i,:,:] = f.state.cubes\n",
    "            megah0 = np.sum(megacubes0 == megacubes0, axis=2)[:,:,np.newaxis]\n",
    "            megah1 = np.sum(megacubes1 == megacubes1, axis=2)[:,:,np.newaxis]\n",
    "            \n",
    "            megamatrixh0 = np.repeat(megah0[:,np.newaxis,:,:],len(fs[1]),axis=1)\n",
    "            megamatrixh1 = np.repeat(megah1[np.newaxis,:,:,:],len(fs[0]),axis=0)\n",
    "            megamatrixc1 = np.repeat(megacubes1[np.newaxis,:,:,:],len(fs[0]),axis=0)\n",
    "            megamatrixc0 = np.repeat(megacubes0[:,np.newaxis,:,:],len(fs[1]),axis=1)\n",
    "            \n",
    "            megamatrixm0 = np.repeat(magic_mask[np.newaxis,:,:],len(fs[1]),axis=0)\n",
    "            megamatrixm0 = np.repeat(megamatrixm0[np.newaxis,:,:,:],len(fs[0]), axis=0)\n",
    "            \n",
    "            temp = np.array([range(5),range(5),range(5)])\n",
    "            a = np.repeat(temp[np.newaxis,:,:],len(fs[1]),axis=0)\n",
    "            a = np.repeat(a[np.newaxis,:,:,:],len(fs[0]), axis=0)\n",
    "            \n",
    "            megamatrixh2 = (megamatrixm0 == megamatrixm0)\n",
    "            \n",
    "            megamatrixh_all = megamatrixh0 + megamatrixh1 + megamatrixh2\n",
    "            megamatrixh_2   = megamatrixh0 + megamatrixh1\n",
    "            \n",
    "            indexesc0_for_2 = np.logical_and(a >= megamatrixh0, a < megamatrixh_2)\n",
    "            indexesc0_for_m = np.logical_and(a >= megamatrixh_2, a < megamatrixh_all)\n",
    "            \n",
    "            total_height_less_than_5 = megamatrixh_all < 5\n",
    "            \n",
    "            indexesc0_for_2 = np.logical_and(indexesc0_for_2, total_height_less_than_5)\n",
    "            indexesc0_for_m = np.logical_and(indexesc0_for_m, total_height_less_than_5)\n",
    "            \n",
    "            indexesc1_for_2 = np.logical_and(a < megamatrixh1, total_height_less_than_5)\n",
    "            indexesm_for_m = np.logical_and(a < megamatrixm0, total_height_less_than_5)[:,:,:,1][:,:,:,np.newaxis]\n",
    "            \n",
    "            #print(indexesc0_for_2, indexesc1_for_2)\n",
    "            megamatrixc0[indexesc0_for_2] = megamatrixc1[indexesc1_for_2]\n",
    "            megamatrixc0[indexesc0_for_m] = megamatrixm0[indexesm_for_m]\n",
    "            \n",
    "            man_has_plan = np.zeros((len(fs[0]),len(fs[1]),3), dtype=np.bool)\n",
    "            total_plans  = np.zeros((len(fs[0]),len(fs[1])), dtype=np.int)\n",
    "            \n",
    "            plan = np.array(self.get_plan())\n",
    "            megaplan = np.repeat(plan[np.newaxis,:], len(fs[1]),axis=0)\n",
    "            megaplan = np.repeat(megaplan[np.newaxis, :, :], len(fs[0]), axis=0)\n",
    "            \n",
    "            for m, shift, direction in iterer(1,1,range(-1,2,2)):\n",
    "                if direction > 0:\n",
    "                    candidates = megamatrixc0[:,:,m,shift:shift+3:direction] \n",
    "                elif shift == 0:\n",
    "                    candidates = megamatrixc0[:,:,m,shift+2::direction]\n",
    "                else:\n",
    "                    candidates = megamatrixc0[:,:,m,shift+2:shift-1:direction]\n",
    "                megaplan_test = megaplan.copy()\n",
    "                megaplan_test[candidates == CubesState.magic_color] = CubesState.magic_color\n",
    "                man_has_plan[:,:,m] = np.logical_or(np.all(megaplan_test == candidates, axis=2), man_has_plan[:,:,m])\n",
    "            \n",
    "            total_plans = np.sum(man_has_plan,axis=2)\n",
    "            print(total_plans)\n",
    "    def check_sum_is_working(self, fs):\n",
    "        arg1 = [f.state.cubes for f in fs[0]]\n",
    "        arg2 = [f.state.cubes for f in fs[1]]\n",
    "        return self.megamatrix_sum_numpy(arg1,arg2)"
   ]
  },
  {
   "cell_type": "code",
   "execution_count": 511,
   "metadata": {},
   "outputs": [],
   "source": [
    "main_robot_reducer = {\n",
    "    0:0,\n",
    "    1:0,\n",
    "    2:1,\n",
    "    3:1,\n",
    "    4:0,\n",
    "    5:0\n",
    "}\n"
   ]
  },
  {
   "cell_type": "code",
   "execution_count": 512,
   "metadata": {},
   "outputs": [],
   "source": [
    "pqo = PickQueryOptimizer(MainRobotState, main_robot_reducer)"
   ]
  },
  {
   "cell_type": "code",
   "execution_count": 513,
   "metadata": {},
   "outputs": [
    {
     "data": {
      "text/plain": [
       "array([[0, 1, 2],\n",
       "       [0, 1, 2],\n",
       "       [0, 1, 2],\n",
       "       [0, 1, 2]])"
      ]
     },
     "execution_count": 513,
     "metadata": {},
     "output_type": "execute_result"
    }
   ],
   "source": [
    "np.repeat(np.array(pqo.get_plan())[np.newaxis, :],4,axis=0)"
   ]
  },
  {
   "cell_type": "code",
   "execution_count": 514,
   "metadata": {},
   "outputs": [
    {
     "name": "stdout",
     "output_type": "stream",
     "text": [
      "---STATE---\n",
      "[nan nan nan]\n",
      "[nan  4. nan]\n",
      "[nan  2. nan]\n",
      "x: 0\ty: 0\ta: 2\n",
      "\n",
      "0 \n",
      "3 1 \n",
      "time 4.000000\tpicks 2-----------\n"
     ]
    }
   ],
   "source": [
    "z = MainRobotState(0)\n",
    "z = list(z.new_states())[2]\n",
    "z = list(z.new_states())[2]\n",
    "print(z)"
   ]
  },
  {
   "cell_type": "code",
   "execution_count": 517,
   "metadata": {},
   "outputs": [],
   "source": [
    "i = 0\n",
    "v = [STNode(x,z, i + di) for di, x in enumerate(list(z.new_states())[:3])]\n",
    "i = 4\n",
    "y = [STNode(x,z, i + di) for di, x in enumerate(list(z.new_states())[3:5])]"
   ]
  },
  {
   "cell_type": "code",
   "execution_count": 518,
   "metadata": {},
   "outputs": [
    {
     "name": "stdout",
     "output_type": "stream",
     "text": [
      "---STATE---\n",
      "[nan nan nan]\n",
      "[nan  4. nan]\n",
      "[nan nan nan]\n",
      "x: 0\ty: 0\ta: 1\n",
      "\n",
      "0 \n",
      "2 3 1 \n",
      "time 6.000000\tpicks 3-----------\n",
      "---STATE---\n",
      "[nan nan nan]\n",
      "[nan  4. nan]\n",
      "[nan nan nan]\n",
      "x: 0\ty: 0\ta: 2\n",
      "\n",
      "2 0 \n",
      "3 1 \n",
      "time 5.000000\tpicks 3-----------\n",
      "---STATE---\n",
      "[nan nan nan]\n",
      "[nan  4. nan]\n",
      "[nan nan nan]\n",
      "x: 0\ty: 0\ta: 3\n",
      "2 \n",
      "0 \n",
      "3 1 \n",
      "time 6.000000\tpicks 3-----------\n",
      "XXXXXXXXXXXXXXXXXXXXXXXXXXXXXXXXX\n",
      "---STATE---\n",
      "[nan nan nan]\n",
      "[nan nan nan]\n",
      "[nan  2. nan]\n",
      "x: 1\ty: 0\ta: 3\n",
      "\n",
      "0 \n",
      "4 3 1 \n",
      "time 7.000000\tpicks 3-----------\n",
      "---STATE---\n",
      "[nan nan nan]\n",
      "[nan nan nan]\n",
      "[nan  2. nan]\n",
      "x: 1\ty: 0\ta: 0\n",
      "\n",
      "4 0 \n",
      "3 1 \n",
      "time 8.000000\tpicks 3-----------\n"
     ]
    },
    {
     "data": {
      "text/plain": [
       "array([[[[nan, nan, nan, nan, nan],\n",
       "         [nan, nan, nan, nan, nan],\n",
       "         [nan, nan, nan, nan, nan]],\n",
       "\n",
       "        [[nan, nan, nan, nan, nan],\n",
       "         [ 0.,  4.,  0., nan, nan],\n",
       "         [ 2.,  3.,  1.,  3.,  1.]]],\n",
       "\n",
       "\n",
       "       [[[nan, nan, nan, nan, nan],\n",
       "         [ 2.,  0.,  0., nan, nan],\n",
       "         [ 3.,  1.,  4.,  3.,  1.]],\n",
       "\n",
       "        [[nan, nan, nan, nan, nan],\n",
       "         [ 2.,  0.,  4.,  0., nan],\n",
       "         [ 3.,  1.,  3.,  1., nan]]],\n",
       "\n",
       "\n",
       "       [[[ 2., nan, nan, nan, nan],\n",
       "         [ 0.,  0., nan, nan, nan],\n",
       "         [ 3.,  1.,  4.,  3.,  1.]],\n",
       "\n",
       "        [[ 2., nan, nan, nan, nan],\n",
       "         [ 0.,  4.,  0., nan, nan],\n",
       "         [ 3.,  1.,  3.,  1., nan]]]])"
      ]
     },
     "execution_count": 518,
     "metadata": {},
     "output_type": "execute_result"
    }
   ],
   "source": [
    "for w in v:\n",
    "    print(w.state)\n",
    "    \n",
    "print('XXXXXXXXXXXXXXXXXXXXXXXXXXXXXXXXX')\n",
    "for w in y:\n",
    "    print(w.state)\n",
    "pqo.check_sum_is_working([v,y])"
   ]
  },
  {
   "cell_type": "code",
   "execution_count": 338,
   "metadata": {},
   "outputs": [
    {
     "data": {
      "text/plain": [
       "array([], dtype=int64)"
      ]
     },
     "execution_count": 338,
     "metadata": {},
     "output_type": "execute_result"
    }
   ],
   "source": [
    "A = np.array([0,1,2,3])\n",
    "A[1::-1]"
   ]
  },
  {
   "cell_type": "code",
   "execution_count": 180,
   "metadata": {},
   "outputs": [
    {
     "name": "stdout",
     "output_type": "stream",
     "text": [
      "Working on 0 heap\n",
      "final states : 41670\n",
      "\tplan 0\n",
      "\tplan 1\n",
      "\tplan 2\n",
      "\tplan 3\n"
     ]
    },
    {
     "ename": "KeyboardInterrupt",
     "evalue": "",
     "output_type": "error",
     "traceback": [
      "\u001b[0;31m---------------------------------------------------------------------------\u001b[0m",
      "\u001b[0;31mKeyboardInterrupt\u001b[0m                         Traceback (most recent call last)",
      "\u001b[0;32m<ipython-input-180-c51a8ec64624>\u001b[0m in \u001b[0;36m<module>\u001b[0;34m()\u001b[0m\n\u001b[0;32m----> 1\u001b[0;31m \u001b[0mpqo\u001b[0m\u001b[0;34m.\u001b[0m\u001b[0mprepare_all_heap_trees\u001b[0m\u001b[0;34m(\u001b[0m\u001b[0;34m)\u001b[0m\u001b[0;34m\u001b[0m\u001b[0m\n\u001b[0m",
      "\u001b[0;32m<ipython-input-175-00eb1ccc8c6a>\u001b[0m in \u001b[0;36mprepare_all_heap_trees\u001b[0;34m(self, status_prints)\u001b[0m\n\u001b[1;32m    109\u001b[0m                 \u001b[0mself\u001b[0m\u001b[0;34m.\u001b[0m\u001b[0mheap_finals_unsafe\u001b[0m\u001b[0;34m[\u001b[0m\u001b[0mhn\u001b[0m\u001b[0;34m]\u001b[0m\u001b[0;34m[\u001b[0m\u001b[0mi\u001b[0m\u001b[0;34m]\u001b[0m \u001b[0;34m=\u001b[0m \u001b[0;34m{\u001b[0m\u001b[0;34m}\u001b[0m\u001b[0;34m\u001b[0m\u001b[0m\n\u001b[1;32m    110\u001b[0m                 \u001b[0;32mfor\u001b[0m \u001b[0mn_of_cubes\u001b[0m \u001b[0;32min\u001b[0m \u001b[0;34m[\u001b[0m\u001b[0;36m3\u001b[0m\u001b[0;34m,\u001b[0m\u001b[0;36m4\u001b[0m\u001b[0;34m,\u001b[0m\u001b[0;36m5\u001b[0m\u001b[0;34m]\u001b[0m\u001b[0;34m:\u001b[0m\u001b[0;34m\u001b[0m\u001b[0m\n\u001b[0;32m--> 111\u001b[0;31m                     \u001b[0mself\u001b[0m\u001b[0;34m.\u001b[0m\u001b[0mheap_finals_unsafe\u001b[0m\u001b[0;34m[\u001b[0m\u001b[0mhn\u001b[0m\u001b[0;34m]\u001b[0m\u001b[0;34m[\u001b[0m\u001b[0mi\u001b[0m\u001b[0;34m]\u001b[0m\u001b[0;34m[\u001b[0m\u001b[0mn_of_cubes\u001b[0m\u001b[0;34m]\u001b[0m \u001b[0;34m=\u001b[0m \u001b[0mself\u001b[0m\u001b[0;34m.\u001b[0m\u001b[0mreduce_by_colors\u001b[0m\u001b[0;34m(\u001b[0m\u001b[0mself\u001b[0m\u001b[0;34m.\u001b[0m\u001b[0mgen_final_states\u001b[0m\u001b[0;34m(\u001b[0m\u001b[0mht\u001b[0m\u001b[0;34m,\u001b[0m\u001b[0;34m[\u001b[0m\u001b[0mn_of_cubes\u001b[0m\u001b[0;34m]\u001b[0m\u001b[0;34m)\u001b[0m\u001b[0;34m)\u001b[0m\u001b[0;34m\u001b[0m\u001b[0m\n\u001b[0m\u001b[1;32m    112\u001b[0m                 \u001b[0mself\u001b[0m\u001b[0;34m.\u001b[0m\u001b[0mheap_finals_safe\u001b[0m\u001b[0;34m[\u001b[0m\u001b[0mhn\u001b[0m\u001b[0;34m]\u001b[0m\u001b[0;34m[\u001b[0m\u001b[0mi\u001b[0m\u001b[0;34m]\u001b[0m \u001b[0;34m=\u001b[0m \u001b[0mlist\u001b[0m\u001b[0;34m(\u001b[0m\u001b[0mfilter\u001b[0m\u001b[0;34m(\u001b[0m\u001b[0mself\u001b[0m\u001b[0;34m.\u001b[0m\u001b[0mchecker_node_for_plans\u001b[0m\u001b[0;34m(\u001b[0m\u001b[0;36m1\u001b[0m\u001b[0;34m)\u001b[0m\u001b[0;34m,\u001b[0m\u001b[0mself\u001b[0m\u001b[0;34m.\u001b[0m\u001b[0mheap_finals_unsafe\u001b[0m\u001b[0;34m[\u001b[0m\u001b[0mhn\u001b[0m\u001b[0;34m]\u001b[0m\u001b[0;34m[\u001b[0m\u001b[0mi\u001b[0m\u001b[0;34m]\u001b[0m\u001b[0;34m[\u001b[0m\u001b[0;36m5\u001b[0m\u001b[0;34m]\u001b[0m\u001b[0;34m)\u001b[0m\u001b[0;34m)\u001b[0m\u001b[0;34m\u001b[0m\u001b[0m\n\u001b[1;32m    113\u001b[0m \u001b[0;34m\u001b[0m\u001b[0m\n",
      "\u001b[0;32m<ipython-input-175-00eb1ccc8c6a>\u001b[0m in \u001b[0;36mreduce_by_colors\u001b[0;34m(self, final_states)\u001b[0m\n\u001b[1;32m     55\u001b[0m             \u001b[0;32mfor\u001b[0m \u001b[0mec\u001b[0m \u001b[0;32min\u001b[0m \u001b[0mextra_colors\u001b[0m\u001b[0;34m:\u001b[0m\u001b[0;34m\u001b[0m\u001b[0m\n\u001b[1;32m     56\u001b[0m                 \u001b[0mtokey\u001b[0m\u001b[0;34m[\u001b[0m\u001b[0mtokey\u001b[0m \u001b[0;34m==\u001b[0m \u001b[0mec\u001b[0m\u001b[0;34m]\u001b[0m \u001b[0;34m=\u001b[0m \u001b[0;36m6\u001b[0m\u001b[0;34m\u001b[0m\u001b[0m\n\u001b[0;32m---> 57\u001b[0;31m             \u001b[0mkey\u001b[0m \u001b[0;34m=\u001b[0m \u001b[0mstr\u001b[0m\u001b[0;34m(\u001b[0m\u001b[0mtokey\u001b[0m\u001b[0;34m)\u001b[0m\u001b[0;34m\u001b[0m\u001b[0m\n\u001b[0m\u001b[1;32m     58\u001b[0m             \u001b[0;32mif\u001b[0m \u001b[0mkey\u001b[0m \u001b[0;32min\u001b[0m \u001b[0mcubes\u001b[0m\u001b[0;34m:\u001b[0m\u001b[0;34m\u001b[0m\u001b[0m\n\u001b[1;32m     59\u001b[0m                 \u001b[0;32mif\u001b[0m \u001b[0mcubes\u001b[0m\u001b[0;34m[\u001b[0m\u001b[0mkey\u001b[0m\u001b[0;34m]\u001b[0m\u001b[0;34m.\u001b[0m\u001b[0mstate\u001b[0m\u001b[0;34m.\u001b[0m\u001b[0mtime\u001b[0m \u001b[0;34m>\u001b[0m \u001b[0ms\u001b[0m\u001b[0;34m.\u001b[0m\u001b[0mtime\u001b[0m\u001b[0;34m:\u001b[0m\u001b[0;34m\u001b[0m\u001b[0m\n",
      "\u001b[0;32m/usr/local/lib/python3.6/dist-packages/numpy/core/arrayprint.py\u001b[0m in \u001b[0;36marray_str\u001b[0;34m(a, max_line_width, precision, suppress_small)\u001b[0m\n\u001b[1;32m   1400\u001b[0m         \u001b[0;32mreturn\u001b[0m \u001b[0mstr\u001b[0m\u001b[0;34m(\u001b[0m\u001b[0ma\u001b[0m\u001b[0;34m[\u001b[0m\u001b[0;34m(\u001b[0m\u001b[0;34m)\u001b[0m\u001b[0;34m]\u001b[0m\u001b[0;34m)\u001b[0m\u001b[0;34m\u001b[0m\u001b[0m\n\u001b[1;32m   1401\u001b[0m \u001b[0;34m\u001b[0m\u001b[0m\n\u001b[0;32m-> 1402\u001b[0;31m     \u001b[0;32mreturn\u001b[0m \u001b[0marray2string\u001b[0m\u001b[0;34m(\u001b[0m\u001b[0ma\u001b[0m\u001b[0;34m,\u001b[0m \u001b[0mmax_line_width\u001b[0m\u001b[0;34m,\u001b[0m \u001b[0mprecision\u001b[0m\u001b[0;34m,\u001b[0m \u001b[0msuppress_small\u001b[0m\u001b[0;34m,\u001b[0m \u001b[0;34m' '\u001b[0m\u001b[0;34m,\u001b[0m \u001b[0;34m\"\"\u001b[0m\u001b[0;34m)\u001b[0m\u001b[0;34m\u001b[0m\u001b[0m\n\u001b[0m\u001b[1;32m   1403\u001b[0m \u001b[0;34m\u001b[0m\u001b[0m\n\u001b[1;32m   1404\u001b[0m \u001b[0;32mdef\u001b[0m \u001b[0mset_string_function\u001b[0m\u001b[0;34m(\u001b[0m\u001b[0mf\u001b[0m\u001b[0;34m,\u001b[0m \u001b[0mrepr\u001b[0m\u001b[0;34m=\u001b[0m\u001b[0;32mTrue\u001b[0m\u001b[0;34m)\u001b[0m\u001b[0;34m:\u001b[0m\u001b[0;34m\u001b[0m\u001b[0m\n",
      "\u001b[0;32m/usr/local/lib/python3.6/dist-packages/numpy/core/arrayprint.py\u001b[0m in \u001b[0;36marray2string\u001b[0;34m(a, max_line_width, precision, suppress_small, separator, prefix, style, formatter, threshold, edgeitems, sign, floatmode, suffix, **kwarg)\u001b[0m\n\u001b[1;32m    620\u001b[0m         \u001b[0;32mreturn\u001b[0m \u001b[0;34m\"[]\"\u001b[0m\u001b[0;34m\u001b[0m\u001b[0m\n\u001b[1;32m    621\u001b[0m \u001b[0;34m\u001b[0m\u001b[0m\n\u001b[0;32m--> 622\u001b[0;31m     \u001b[0;32mreturn\u001b[0m \u001b[0m_array2string\u001b[0m\u001b[0;34m(\u001b[0m\u001b[0ma\u001b[0m\u001b[0;34m,\u001b[0m \u001b[0moptions\u001b[0m\u001b[0;34m,\u001b[0m \u001b[0mseparator\u001b[0m\u001b[0;34m,\u001b[0m \u001b[0mprefix\u001b[0m\u001b[0;34m)\u001b[0m\u001b[0;34m\u001b[0m\u001b[0m\n\u001b[0m\u001b[1;32m    623\u001b[0m \u001b[0;34m\u001b[0m\u001b[0m\n\u001b[1;32m    624\u001b[0m \u001b[0;34m\u001b[0m\u001b[0m\n",
      "\u001b[0;32m/usr/local/lib/python3.6/dist-packages/numpy/core/arrayprint.py\u001b[0m in \u001b[0;36mwrapper\u001b[0;34m(self, *args, **kwargs)\u001b[0m\n\u001b[1;32m    420\u001b[0m             \u001b[0mrepr_running\u001b[0m\u001b[0;34m.\u001b[0m\u001b[0madd\u001b[0m\u001b[0;34m(\u001b[0m\u001b[0mkey\u001b[0m\u001b[0;34m)\u001b[0m\u001b[0;34m\u001b[0m\u001b[0m\n\u001b[1;32m    421\u001b[0m             \u001b[0;32mtry\u001b[0m\u001b[0;34m:\u001b[0m\u001b[0;34m\u001b[0m\u001b[0m\n\u001b[0;32m--> 422\u001b[0;31m                 \u001b[0;32mreturn\u001b[0m \u001b[0mf\u001b[0m\u001b[0;34m(\u001b[0m\u001b[0mself\u001b[0m\u001b[0;34m,\u001b[0m \u001b[0;34m*\u001b[0m\u001b[0margs\u001b[0m\u001b[0;34m,\u001b[0m \u001b[0;34m**\u001b[0m\u001b[0mkwargs\u001b[0m\u001b[0;34m)\u001b[0m\u001b[0;34m\u001b[0m\u001b[0m\n\u001b[0m\u001b[1;32m    423\u001b[0m             \u001b[0;32mfinally\u001b[0m\u001b[0;34m:\u001b[0m\u001b[0;34m\u001b[0m\u001b[0m\n\u001b[1;32m    424\u001b[0m                 \u001b[0mrepr_running\u001b[0m\u001b[0;34m.\u001b[0m\u001b[0mdiscard\u001b[0m\u001b[0;34m(\u001b[0m\u001b[0mkey\u001b[0m\u001b[0;34m)\u001b[0m\u001b[0;34m\u001b[0m\u001b[0m\n",
      "\u001b[0;32m/usr/local/lib/python3.6/dist-packages/numpy/core/arrayprint.py\u001b[0m in \u001b[0;36m_array2string\u001b[0;34m(a, options, separator, prefix)\u001b[0m\n\u001b[1;32m    442\u001b[0m \u001b[0;34m\u001b[0m\u001b[0m\n\u001b[1;32m    443\u001b[0m     \u001b[0;31m# find the right formatting function for the array\u001b[0m\u001b[0;34m\u001b[0m\u001b[0;34m\u001b[0m\u001b[0m\n\u001b[0;32m--> 444\u001b[0;31m     \u001b[0mformat_function\u001b[0m \u001b[0;34m=\u001b[0m \u001b[0m_get_format_function\u001b[0m\u001b[0;34m(\u001b[0m\u001b[0mdata\u001b[0m\u001b[0;34m,\u001b[0m \u001b[0;34m**\u001b[0m\u001b[0moptions\u001b[0m\u001b[0;34m)\u001b[0m\u001b[0;34m\u001b[0m\u001b[0m\n\u001b[0m\u001b[1;32m    445\u001b[0m \u001b[0;34m\u001b[0m\u001b[0m\n\u001b[1;32m    446\u001b[0m     \u001b[0;31m# skip over \"[\"\u001b[0m\u001b[0;34m\u001b[0m\u001b[0;34m\u001b[0m\u001b[0m\n",
      "\u001b[0;32m/usr/local/lib/python3.6/dist-packages/numpy/core/arrayprint.py\u001b[0m in \u001b[0;36m_get_format_function\u001b[0;34m(data, **options)\u001b[0m\n\u001b[1;32m    382\u001b[0m             \u001b[0;32mreturn\u001b[0m \u001b[0mformatdict\u001b[0m\u001b[0;34m[\u001b[0m\u001b[0;34m'longfloat'\u001b[0m\u001b[0;34m]\u001b[0m\u001b[0;34m(\u001b[0m\u001b[0;34m)\u001b[0m\u001b[0;34m\u001b[0m\u001b[0m\n\u001b[1;32m    383\u001b[0m         \u001b[0;32melse\u001b[0m\u001b[0;34m:\u001b[0m\u001b[0;34m\u001b[0m\u001b[0m\n\u001b[0;32m--> 384\u001b[0;31m             \u001b[0;32mreturn\u001b[0m \u001b[0mformatdict\u001b[0m\u001b[0;34m[\u001b[0m\u001b[0;34m'float'\u001b[0m\u001b[0;34m]\u001b[0m\u001b[0;34m(\u001b[0m\u001b[0;34m)\u001b[0m\u001b[0;34m\u001b[0m\u001b[0m\n\u001b[0m\u001b[1;32m    385\u001b[0m     \u001b[0;32melif\u001b[0m \u001b[0missubclass\u001b[0m\u001b[0;34m(\u001b[0m\u001b[0mdtypeobj\u001b[0m\u001b[0;34m,\u001b[0m \u001b[0m_nt\u001b[0m\u001b[0;34m.\u001b[0m\u001b[0mcomplexfloating\u001b[0m\u001b[0;34m)\u001b[0m\u001b[0;34m:\u001b[0m\u001b[0;34m\u001b[0m\u001b[0m\n\u001b[1;32m    386\u001b[0m         \u001b[0;32mif\u001b[0m \u001b[0missubclass\u001b[0m\u001b[0;34m(\u001b[0m\u001b[0mdtypeobj\u001b[0m\u001b[0;34m,\u001b[0m \u001b[0m_nt\u001b[0m\u001b[0;34m.\u001b[0m\u001b[0mclongfloat\u001b[0m\u001b[0;34m)\u001b[0m\u001b[0;34m:\u001b[0m\u001b[0;34m\u001b[0m\u001b[0m\n",
      "\u001b[0;32m/usr/local/lib/python3.6/dist-packages/numpy/core/arrayprint.py\u001b[0m in \u001b[0;36m<lambda>\u001b[0;34m()\u001b[0m\n\u001b[1;32m    318\u001b[0m         \u001b[0;34m'int'\u001b[0m\u001b[0;34m:\u001b[0m \u001b[0;32mlambda\u001b[0m\u001b[0;34m:\u001b[0m \u001b[0mIntegerFormat\u001b[0m\u001b[0;34m(\u001b[0m\u001b[0mdata\u001b[0m\u001b[0;34m)\u001b[0m\u001b[0;34m,\u001b[0m\u001b[0;34m\u001b[0m\u001b[0m\n\u001b[1;32m    319\u001b[0m         \u001b[0;34m'float'\u001b[0m\u001b[0;34m:\u001b[0m \u001b[0;32mlambda\u001b[0m\u001b[0;34m:\u001b[0m\u001b[0;34m\u001b[0m\u001b[0m\n\u001b[0;32m--> 320\u001b[0;31m             \u001b[0mFloatingFormat\u001b[0m\u001b[0;34m(\u001b[0m\u001b[0mdata\u001b[0m\u001b[0;34m,\u001b[0m \u001b[0mprec\u001b[0m\u001b[0;34m,\u001b[0m \u001b[0mfmode\u001b[0m\u001b[0;34m,\u001b[0m \u001b[0msupp\u001b[0m\u001b[0;34m,\u001b[0m \u001b[0msign\u001b[0m\u001b[0;34m,\u001b[0m \u001b[0mlegacy\u001b[0m\u001b[0;34m=\u001b[0m\u001b[0mlegacy\u001b[0m\u001b[0;34m)\u001b[0m\u001b[0;34m,\u001b[0m\u001b[0;34m\u001b[0m\u001b[0m\n\u001b[0m\u001b[1;32m    321\u001b[0m         \u001b[0;34m'longfloat'\u001b[0m\u001b[0;34m:\u001b[0m \u001b[0;32mlambda\u001b[0m\u001b[0;34m:\u001b[0m\u001b[0;34m\u001b[0m\u001b[0m\n\u001b[1;32m    322\u001b[0m             \u001b[0mFloatingFormat\u001b[0m\u001b[0;34m(\u001b[0m\u001b[0mdata\u001b[0m\u001b[0;34m,\u001b[0m \u001b[0mprec\u001b[0m\u001b[0;34m,\u001b[0m \u001b[0mfmode\u001b[0m\u001b[0;34m,\u001b[0m \u001b[0msupp\u001b[0m\u001b[0;34m,\u001b[0m \u001b[0msign\u001b[0m\u001b[0;34m,\u001b[0m \u001b[0mlegacy\u001b[0m\u001b[0;34m=\u001b[0m\u001b[0mlegacy\u001b[0m\u001b[0;34m)\u001b[0m\u001b[0;34m,\u001b[0m\u001b[0;34m\u001b[0m\u001b[0m\n",
      "\u001b[0;32m/usr/local/lib/python3.6/dist-packages/numpy/core/arrayprint.py\u001b[0m in \u001b[0;36m__init__\u001b[0;34m(self, data, precision, floatmode, suppress_small, sign, **kwarg)\u001b[0m\n\u001b[1;32m    776\u001b[0m         \u001b[0mself\u001b[0m\u001b[0;34m.\u001b[0m\u001b[0mlarge_exponent\u001b[0m \u001b[0;34m=\u001b[0m \u001b[0;32mFalse\u001b[0m\u001b[0;34m\u001b[0m\u001b[0m\n\u001b[1;32m    777\u001b[0m \u001b[0;34m\u001b[0m\u001b[0m\n\u001b[0;32m--> 778\u001b[0;31m         \u001b[0mself\u001b[0m\u001b[0;34m.\u001b[0m\u001b[0mfillFormat\u001b[0m\u001b[0;34m(\u001b[0m\u001b[0mdata\u001b[0m\u001b[0;34m)\u001b[0m\u001b[0;34m\u001b[0m\u001b[0m\n\u001b[0m\u001b[1;32m    779\u001b[0m \u001b[0;34m\u001b[0m\u001b[0m\n\u001b[1;32m    780\u001b[0m     \u001b[0;32mdef\u001b[0m \u001b[0mfillFormat\u001b[0m\u001b[0;34m(\u001b[0m\u001b[0mself\u001b[0m\u001b[0;34m,\u001b[0m \u001b[0mdata\u001b[0m\u001b[0;34m)\u001b[0m\u001b[0;34m:\u001b[0m\u001b[0;34m\u001b[0m\u001b[0m\n",
      "\u001b[0;32m/usr/local/lib/python3.6/dist-packages/numpy/core/arrayprint.py\u001b[0m in \u001b[0;36mfillFormat\u001b[0;34m(self, data)\u001b[0m\n\u001b[1;32m    787\u001b[0m             \u001b[0mmax_val\u001b[0m \u001b[0;34m=\u001b[0m \u001b[0mnp\u001b[0m\u001b[0;34m.\u001b[0m\u001b[0mmax\u001b[0m\u001b[0;34m(\u001b[0m\u001b[0mabs_non_zero\u001b[0m\u001b[0;34m)\u001b[0m\u001b[0;34m\u001b[0m\u001b[0m\n\u001b[1;32m    788\u001b[0m             \u001b[0mmin_val\u001b[0m \u001b[0;34m=\u001b[0m \u001b[0mnp\u001b[0m\u001b[0;34m.\u001b[0m\u001b[0mmin\u001b[0m\u001b[0;34m(\u001b[0m\u001b[0mabs_non_zero\u001b[0m\u001b[0;34m)\u001b[0m\u001b[0;34m\u001b[0m\u001b[0m\n\u001b[0;32m--> 789\u001b[0;31m             \u001b[0;32mwith\u001b[0m \u001b[0merrstate\u001b[0m\u001b[0;34m(\u001b[0m\u001b[0mover\u001b[0m\u001b[0;34m=\u001b[0m\u001b[0;34m'ignore'\u001b[0m\u001b[0;34m)\u001b[0m\u001b[0;34m:\u001b[0m  \u001b[0;31m# division can overflow\u001b[0m\u001b[0;34m\u001b[0m\u001b[0m\n\u001b[0m\u001b[1;32m    790\u001b[0m                 if max_val >= 1.e8 or (not self.suppress_small and\n\u001b[1;32m    791\u001b[0m                         (min_val < 0.0001 or max_val/min_val > 1000.)):\n",
      "\u001b[0;32m/usr/local/lib/python3.6/dist-packages/numpy/core/numeric.py\u001b[0m in \u001b[0;36m__init__\u001b[0;34m(self, **kwargs)\u001b[0m\n\u001b[1;32m   2852\u001b[0m \u001b[0;34m\u001b[0m\u001b[0m\n\u001b[1;32m   2853\u001b[0m     \u001b[0;32mdef\u001b[0m \u001b[0m__init__\u001b[0m\u001b[0;34m(\u001b[0m\u001b[0mself\u001b[0m\u001b[0;34m,\u001b[0m \u001b[0;34m**\u001b[0m\u001b[0mkwargs\u001b[0m\u001b[0;34m)\u001b[0m\u001b[0;34m:\u001b[0m\u001b[0;34m\u001b[0m\u001b[0m\n\u001b[0;32m-> 2854\u001b[0;31m         \u001b[0mself\u001b[0m\u001b[0;34m.\u001b[0m\u001b[0mcall\u001b[0m \u001b[0;34m=\u001b[0m \u001b[0mkwargs\u001b[0m\u001b[0;34m.\u001b[0m\u001b[0mpop\u001b[0m\u001b[0;34m(\u001b[0m\u001b[0;34m'call'\u001b[0m\u001b[0;34m,\u001b[0m \u001b[0m_Unspecified\u001b[0m\u001b[0;34m)\u001b[0m\u001b[0;34m\u001b[0m\u001b[0m\n\u001b[0m\u001b[1;32m   2855\u001b[0m         \u001b[0mself\u001b[0m\u001b[0;34m.\u001b[0m\u001b[0mkwargs\u001b[0m \u001b[0;34m=\u001b[0m \u001b[0mkwargs\u001b[0m\u001b[0;34m\u001b[0m\u001b[0m\n\u001b[1;32m   2856\u001b[0m \u001b[0;34m\u001b[0m\u001b[0m\n",
      "\u001b[0;31mKeyboardInterrupt\u001b[0m: "
     ]
    }
   ],
   "source": [
    "pqo.prepare_all_heap_trees()"
   ]
  },
  {
   "cell_type": "code",
   "execution_count": 259,
   "metadata": {},
   "outputs": [],
   "source": [
    "saved = pqo.heap_trees_raw, pqo.heap_finals_safe, pqo.heap_finals_unsafe"
   ]
  },
  {
   "cell_type": "code",
   "execution_count": 343,
   "metadata": {},
   "outputs": [],
   "source": [
    "pqo.heap_trees_raw, pqo.heap_finals_safe, pqo.heap_finals_unsafe  = saved"
   ]
  },
  {
   "cell_type": "code",
   "execution_count": 344,
   "metadata": {},
   "outputs": [
    {
     "name": "stdout",
     "output_type": "stream",
     "text": [
      "[0, 1, 2]\n"
     ]
    }
   ],
   "source": [
    "print(pqo.get_plan())"
   ]
  },
  {
   "cell_type": "code",
   "execution_count": 345,
   "metadata": {},
   "outputs": [
    {
     "name": "stdout",
     "output_type": "stream",
     "text": [
      "2\n",
      "80631\n",
      "240\n"
     ]
    },
    {
     "ename": "KeyboardInterrupt",
     "evalue": "",
     "output_type": "error",
     "traceback": [
      "\u001b[0;31m---------------------------------------------------------------------------\u001b[0m",
      "\u001b[0;31mKeyboardInterrupt\u001b[0m                         Traceback (most recent call last)",
      "\u001b[0;32m<timed exec>\u001b[0m in \u001b[0;36m<module>\u001b[0;34m()\u001b[0m\n",
      "\u001b[0;32m<ipython-input-340-ca8edd7832a3>\u001b[0m in \u001b[0;36mget_best_track\u001b[0;34m(self, hn_way, magic_mask, safe)\u001b[0m\n\u001b[1;32m    195\u001b[0m         \u001b[0mtotal\u001b[0m\u001b[0;34m=\u001b[0m\u001b[0;34m[\u001b[0m\u001b[0;36m0\u001b[0m\u001b[0;34m,\u001b[0m\u001b[0;36m0\u001b[0m\u001b[0;34m,\u001b[0m\u001b[0;36m0\u001b[0m\u001b[0;34m,\u001b[0m\u001b[0;36m0\u001b[0m\u001b[0;34m]\u001b[0m\u001b[0;34m\u001b[0m\u001b[0m\n\u001b[1;32m    196\u001b[0m         \u001b[0mnum\u001b[0m \u001b[0;34m=\u001b[0m \u001b[0;36m3\u001b[0m\u001b[0;34m\u001b[0m\u001b[0m\n\u001b[0;32m--> 197\u001b[0;31m         \u001b[0mfinal_nodes3\u001b[0m \u001b[0;34m=\u001b[0m \u001b[0mself\u001b[0m\u001b[0;34m.\u001b[0m\u001b[0mmerge_heap_states\u001b[0m\u001b[0;34m(\u001b[0m\u001b[0;34m(\u001b[0m\u001b[0mfinal_nodes2\u001b[0m\u001b[0;34m,\u001b[0m\u001b[0mfinals\u001b[0m\u001b[0;34m)\u001b[0m\u001b[0;34m,\u001b[0m\u001b[0;36m3\u001b[0m\u001b[0;34m,\u001b[0m \u001b[0mexcluder\u001b[0m\u001b[0;34m(\u001b[0m\u001b[0;36m3\u001b[0m\u001b[0;34m)\u001b[0m\u001b[0;34m)\u001b[0m\u001b[0;34m\u001b[0m\u001b[0m\n\u001b[0m\u001b[1;32m    198\u001b[0m         \u001b[0mprint\u001b[0m\u001b[0;34m(\u001b[0m\u001b[0mtotal\u001b[0m\u001b[0;34m)\u001b[0m\u001b[0;34m\u001b[0m\u001b[0m\n\u001b[1;32m    199\u001b[0m         \u001b[0mprint\u001b[0m\u001b[0;34m(\u001b[0m\u001b[0mlen\u001b[0m\u001b[0;34m(\u001b[0m\u001b[0mfinal_nodes3\u001b[0m\u001b[0;34m)\u001b[0m\u001b[0;34m)\u001b[0m\u001b[0;34m\u001b[0m\u001b[0m\n",
      "\u001b[0;32m<ipython-input-340-ca8edd7832a3>\u001b[0m in \u001b[0;36mmerge_heap_states\u001b[0;34m(self, fs, n, exclude)\u001b[0m\n\u001b[1;32m    138\u001b[0m             \u001b[0;32mif\u001b[0m \u001b[0mexclude\u001b[0m \u001b[0;32mand\u001b[0m \u001b[0mexclude\u001b[0m\u001b[0;34m(\u001b[0m\u001b[0mcubes_sum\u001b[0m\u001b[0;34m)\u001b[0m\u001b[0;34m:\u001b[0m\u001b[0;34m\u001b[0m\u001b[0m\n\u001b[1;32m    139\u001b[0m                 \u001b[0;32mcontinue\u001b[0m\u001b[0;34m\u001b[0m\u001b[0m\n\u001b[0;32m--> 140\u001b[0;31m             \u001b[0mkey\u001b[0m \u001b[0;34m=\u001b[0m \u001b[0mstr\u001b[0m\u001b[0;34m(\u001b[0m\u001b[0mcubes_sum\u001b[0m\u001b[0;34m)\u001b[0m\u001b[0;34m\u001b[0m\u001b[0m\n\u001b[0m\u001b[1;32m    141\u001b[0m             \u001b[0;32mif\u001b[0m \u001b[0mkey\u001b[0m \u001b[0;32min\u001b[0m \u001b[0mcubes\u001b[0m\u001b[0;34m:\u001b[0m\u001b[0;34m\u001b[0m\u001b[0m\n\u001b[1;32m    142\u001b[0m                 \u001b[0mall_nodes\u001b[0m \u001b[0;34m=\u001b[0m \u001b[0;32mNone\u001b[0m\u001b[0;34m\u001b[0m\u001b[0m\n",
      "\u001b[0;32m/usr/local/lib/python3.6/dist-packages/numpy/core/arrayprint.py\u001b[0m in \u001b[0;36marray_str\u001b[0;34m(a, max_line_width, precision, suppress_small)\u001b[0m\n\u001b[1;32m   1400\u001b[0m         \u001b[0;32mreturn\u001b[0m \u001b[0mstr\u001b[0m\u001b[0;34m(\u001b[0m\u001b[0ma\u001b[0m\u001b[0;34m[\u001b[0m\u001b[0;34m(\u001b[0m\u001b[0;34m)\u001b[0m\u001b[0;34m]\u001b[0m\u001b[0;34m)\u001b[0m\u001b[0;34m\u001b[0m\u001b[0m\n\u001b[1;32m   1401\u001b[0m \u001b[0;34m\u001b[0m\u001b[0m\n\u001b[0;32m-> 1402\u001b[0;31m     \u001b[0;32mreturn\u001b[0m \u001b[0marray2string\u001b[0m\u001b[0;34m(\u001b[0m\u001b[0ma\u001b[0m\u001b[0;34m,\u001b[0m \u001b[0mmax_line_width\u001b[0m\u001b[0;34m,\u001b[0m \u001b[0mprecision\u001b[0m\u001b[0;34m,\u001b[0m \u001b[0msuppress_small\u001b[0m\u001b[0;34m,\u001b[0m \u001b[0;34m' '\u001b[0m\u001b[0;34m,\u001b[0m \u001b[0;34m\"\"\u001b[0m\u001b[0;34m)\u001b[0m\u001b[0;34m\u001b[0m\u001b[0m\n\u001b[0m\u001b[1;32m   1403\u001b[0m \u001b[0;34m\u001b[0m\u001b[0m\n\u001b[1;32m   1404\u001b[0m \u001b[0;32mdef\u001b[0m \u001b[0mset_string_function\u001b[0m\u001b[0;34m(\u001b[0m\u001b[0mf\u001b[0m\u001b[0;34m,\u001b[0m \u001b[0mrepr\u001b[0m\u001b[0;34m=\u001b[0m\u001b[0;32mTrue\u001b[0m\u001b[0;34m)\u001b[0m\u001b[0;34m:\u001b[0m\u001b[0;34m\u001b[0m\u001b[0m\n",
      "\u001b[0;32m/usr/local/lib/python3.6/dist-packages/numpy/core/arrayprint.py\u001b[0m in \u001b[0;36marray2string\u001b[0;34m(a, max_line_width, precision, suppress_small, separator, prefix, style, formatter, threshold, edgeitems, sign, floatmode, suffix, **kwarg)\u001b[0m\n\u001b[1;32m    620\u001b[0m         \u001b[0;32mreturn\u001b[0m \u001b[0;34m\"[]\"\u001b[0m\u001b[0;34m\u001b[0m\u001b[0m\n\u001b[1;32m    621\u001b[0m \u001b[0;34m\u001b[0m\u001b[0m\n\u001b[0;32m--> 622\u001b[0;31m     \u001b[0;32mreturn\u001b[0m \u001b[0m_array2string\u001b[0m\u001b[0;34m(\u001b[0m\u001b[0ma\u001b[0m\u001b[0;34m,\u001b[0m \u001b[0moptions\u001b[0m\u001b[0;34m,\u001b[0m \u001b[0mseparator\u001b[0m\u001b[0;34m,\u001b[0m \u001b[0mprefix\u001b[0m\u001b[0;34m)\u001b[0m\u001b[0;34m\u001b[0m\u001b[0m\n\u001b[0m\u001b[1;32m    623\u001b[0m \u001b[0;34m\u001b[0m\u001b[0m\n\u001b[1;32m    624\u001b[0m \u001b[0;34m\u001b[0m\u001b[0m\n",
      "\u001b[0;32m/usr/local/lib/python3.6/dist-packages/numpy/core/arrayprint.py\u001b[0m in \u001b[0;36mwrapper\u001b[0;34m(self, *args, **kwargs)\u001b[0m\n\u001b[1;32m    420\u001b[0m             \u001b[0mrepr_running\u001b[0m\u001b[0;34m.\u001b[0m\u001b[0madd\u001b[0m\u001b[0;34m(\u001b[0m\u001b[0mkey\u001b[0m\u001b[0;34m)\u001b[0m\u001b[0;34m\u001b[0m\u001b[0m\n\u001b[1;32m    421\u001b[0m             \u001b[0;32mtry\u001b[0m\u001b[0;34m:\u001b[0m\u001b[0;34m\u001b[0m\u001b[0m\n\u001b[0;32m--> 422\u001b[0;31m                 \u001b[0;32mreturn\u001b[0m \u001b[0mf\u001b[0m\u001b[0;34m(\u001b[0m\u001b[0mself\u001b[0m\u001b[0;34m,\u001b[0m \u001b[0;34m*\u001b[0m\u001b[0margs\u001b[0m\u001b[0;34m,\u001b[0m \u001b[0;34m**\u001b[0m\u001b[0mkwargs\u001b[0m\u001b[0;34m)\u001b[0m\u001b[0;34m\u001b[0m\u001b[0m\n\u001b[0m\u001b[1;32m    423\u001b[0m             \u001b[0;32mfinally\u001b[0m\u001b[0;34m:\u001b[0m\u001b[0;34m\u001b[0m\u001b[0m\n\u001b[1;32m    424\u001b[0m                 \u001b[0mrepr_running\u001b[0m\u001b[0;34m.\u001b[0m\u001b[0mdiscard\u001b[0m\u001b[0;34m(\u001b[0m\u001b[0mkey\u001b[0m\u001b[0;34m)\u001b[0m\u001b[0;34m\u001b[0m\u001b[0m\n",
      "\u001b[0;32m/usr/local/lib/python3.6/dist-packages/numpy/core/arrayprint.py\u001b[0m in \u001b[0;36m_array2string\u001b[0;34m(a, options, separator, prefix)\u001b[0m\n\u001b[1;32m    442\u001b[0m \u001b[0;34m\u001b[0m\u001b[0m\n\u001b[1;32m    443\u001b[0m     \u001b[0;31m# find the right formatting function for the array\u001b[0m\u001b[0;34m\u001b[0m\u001b[0;34m\u001b[0m\u001b[0m\n\u001b[0;32m--> 444\u001b[0;31m     \u001b[0mformat_function\u001b[0m \u001b[0;34m=\u001b[0m \u001b[0m_get_format_function\u001b[0m\u001b[0;34m(\u001b[0m\u001b[0mdata\u001b[0m\u001b[0;34m,\u001b[0m \u001b[0;34m**\u001b[0m\u001b[0moptions\u001b[0m\u001b[0;34m)\u001b[0m\u001b[0;34m\u001b[0m\u001b[0m\n\u001b[0m\u001b[1;32m    445\u001b[0m \u001b[0;34m\u001b[0m\u001b[0m\n\u001b[1;32m    446\u001b[0m     \u001b[0;31m# skip over \"[\"\u001b[0m\u001b[0;34m\u001b[0m\u001b[0;34m\u001b[0m\u001b[0m\n",
      "\u001b[0;32m/usr/local/lib/python3.6/dist-packages/numpy/core/arrayprint.py\u001b[0m in \u001b[0;36m_get_format_function\u001b[0;34m(data, **options)\u001b[0m\n\u001b[1;32m    382\u001b[0m             \u001b[0;32mreturn\u001b[0m \u001b[0mformatdict\u001b[0m\u001b[0;34m[\u001b[0m\u001b[0;34m'longfloat'\u001b[0m\u001b[0;34m]\u001b[0m\u001b[0;34m(\u001b[0m\u001b[0;34m)\u001b[0m\u001b[0;34m\u001b[0m\u001b[0m\n\u001b[1;32m    383\u001b[0m         \u001b[0;32melse\u001b[0m\u001b[0;34m:\u001b[0m\u001b[0;34m\u001b[0m\u001b[0m\n\u001b[0;32m--> 384\u001b[0;31m             \u001b[0;32mreturn\u001b[0m \u001b[0mformatdict\u001b[0m\u001b[0;34m[\u001b[0m\u001b[0;34m'float'\u001b[0m\u001b[0;34m]\u001b[0m\u001b[0;34m(\u001b[0m\u001b[0;34m)\u001b[0m\u001b[0;34m\u001b[0m\u001b[0m\n\u001b[0m\u001b[1;32m    385\u001b[0m     \u001b[0;32melif\u001b[0m \u001b[0missubclass\u001b[0m\u001b[0;34m(\u001b[0m\u001b[0mdtypeobj\u001b[0m\u001b[0;34m,\u001b[0m \u001b[0m_nt\u001b[0m\u001b[0;34m.\u001b[0m\u001b[0mcomplexfloating\u001b[0m\u001b[0;34m)\u001b[0m\u001b[0;34m:\u001b[0m\u001b[0;34m\u001b[0m\u001b[0m\n\u001b[1;32m    386\u001b[0m         \u001b[0;32mif\u001b[0m \u001b[0missubclass\u001b[0m\u001b[0;34m(\u001b[0m\u001b[0mdtypeobj\u001b[0m\u001b[0;34m,\u001b[0m \u001b[0m_nt\u001b[0m\u001b[0;34m.\u001b[0m\u001b[0mclongfloat\u001b[0m\u001b[0;34m)\u001b[0m\u001b[0;34m:\u001b[0m\u001b[0;34m\u001b[0m\u001b[0m\n",
      "\u001b[0;32m/usr/local/lib/python3.6/dist-packages/numpy/core/arrayprint.py\u001b[0m in \u001b[0;36m<lambda>\u001b[0;34m()\u001b[0m\n\u001b[1;32m    318\u001b[0m         \u001b[0;34m'int'\u001b[0m\u001b[0;34m:\u001b[0m \u001b[0;32mlambda\u001b[0m\u001b[0;34m:\u001b[0m \u001b[0mIntegerFormat\u001b[0m\u001b[0;34m(\u001b[0m\u001b[0mdata\u001b[0m\u001b[0;34m)\u001b[0m\u001b[0;34m,\u001b[0m\u001b[0;34m\u001b[0m\u001b[0m\n\u001b[1;32m    319\u001b[0m         \u001b[0;34m'float'\u001b[0m\u001b[0;34m:\u001b[0m \u001b[0;32mlambda\u001b[0m\u001b[0;34m:\u001b[0m\u001b[0;34m\u001b[0m\u001b[0m\n\u001b[0;32m--> 320\u001b[0;31m             \u001b[0mFloatingFormat\u001b[0m\u001b[0;34m(\u001b[0m\u001b[0mdata\u001b[0m\u001b[0;34m,\u001b[0m \u001b[0mprec\u001b[0m\u001b[0;34m,\u001b[0m \u001b[0mfmode\u001b[0m\u001b[0;34m,\u001b[0m \u001b[0msupp\u001b[0m\u001b[0;34m,\u001b[0m \u001b[0msign\u001b[0m\u001b[0;34m,\u001b[0m \u001b[0mlegacy\u001b[0m\u001b[0;34m=\u001b[0m\u001b[0mlegacy\u001b[0m\u001b[0;34m)\u001b[0m\u001b[0;34m,\u001b[0m\u001b[0;34m\u001b[0m\u001b[0m\n\u001b[0m\u001b[1;32m    321\u001b[0m         \u001b[0;34m'longfloat'\u001b[0m\u001b[0;34m:\u001b[0m \u001b[0;32mlambda\u001b[0m\u001b[0;34m:\u001b[0m\u001b[0;34m\u001b[0m\u001b[0m\n\u001b[1;32m    322\u001b[0m             \u001b[0mFloatingFormat\u001b[0m\u001b[0;34m(\u001b[0m\u001b[0mdata\u001b[0m\u001b[0;34m,\u001b[0m \u001b[0mprec\u001b[0m\u001b[0;34m,\u001b[0m \u001b[0mfmode\u001b[0m\u001b[0;34m,\u001b[0m \u001b[0msupp\u001b[0m\u001b[0;34m,\u001b[0m \u001b[0msign\u001b[0m\u001b[0;34m,\u001b[0m \u001b[0mlegacy\u001b[0m\u001b[0;34m=\u001b[0m\u001b[0mlegacy\u001b[0m\u001b[0;34m)\u001b[0m\u001b[0;34m,\u001b[0m\u001b[0;34m\u001b[0m\u001b[0m\n",
      "\u001b[0;32m/usr/local/lib/python3.6/dist-packages/numpy/core/arrayprint.py\u001b[0m in \u001b[0;36m__init__\u001b[0;34m(self, data, precision, floatmode, suppress_small, sign, **kwarg)\u001b[0m\n\u001b[1;32m    776\u001b[0m         \u001b[0mself\u001b[0m\u001b[0;34m.\u001b[0m\u001b[0mlarge_exponent\u001b[0m \u001b[0;34m=\u001b[0m \u001b[0;32mFalse\u001b[0m\u001b[0;34m\u001b[0m\u001b[0m\n\u001b[1;32m    777\u001b[0m \u001b[0;34m\u001b[0m\u001b[0m\n\u001b[0;32m--> 778\u001b[0;31m         \u001b[0mself\u001b[0m\u001b[0;34m.\u001b[0m\u001b[0mfillFormat\u001b[0m\u001b[0;34m(\u001b[0m\u001b[0mdata\u001b[0m\u001b[0;34m)\u001b[0m\u001b[0;34m\u001b[0m\u001b[0m\n\u001b[0m\u001b[1;32m    779\u001b[0m \u001b[0;34m\u001b[0m\u001b[0m\n\u001b[1;32m    780\u001b[0m     \u001b[0;32mdef\u001b[0m \u001b[0mfillFormat\u001b[0m\u001b[0;34m(\u001b[0m\u001b[0mself\u001b[0m\u001b[0;34m,\u001b[0m \u001b[0mdata\u001b[0m\u001b[0;34m)\u001b[0m\u001b[0;34m:\u001b[0m\u001b[0;34m\u001b[0m\u001b[0m\n",
      "\u001b[0;32m/usr/local/lib/python3.6/dist-packages/numpy/core/arrayprint.py\u001b[0m in \u001b[0;36mfillFormat\u001b[0;34m(self, data)\u001b[0m\n\u001b[1;32m    854\u001b[0m         \u001b[0;31m# if there are non-finite values, may need to increase pad_left\u001b[0m\u001b[0;34m\u001b[0m\u001b[0;34m\u001b[0m\u001b[0m\n\u001b[1;32m    855\u001b[0m         \u001b[0;32mif\u001b[0m \u001b[0mdata\u001b[0m\u001b[0;34m.\u001b[0m\u001b[0msize\u001b[0m \u001b[0;34m!=\u001b[0m \u001b[0mfinite_vals\u001b[0m\u001b[0;34m.\u001b[0m\u001b[0msize\u001b[0m\u001b[0;34m:\u001b[0m\u001b[0;34m\u001b[0m\u001b[0m\n\u001b[0;32m--> 856\u001b[0;31m             \u001b[0mneginf\u001b[0m \u001b[0;34m=\u001b[0m \u001b[0mself\u001b[0m\u001b[0;34m.\u001b[0m\u001b[0msign\u001b[0m \u001b[0;34m!=\u001b[0m \u001b[0;34m'-'\u001b[0m \u001b[0;32mor\u001b[0m \u001b[0many\u001b[0m\u001b[0;34m(\u001b[0m\u001b[0mdata\u001b[0m\u001b[0;34m[\u001b[0m\u001b[0misinf\u001b[0m\u001b[0;34m(\u001b[0m\u001b[0mdata\u001b[0m\u001b[0;34m)\u001b[0m\u001b[0;34m]\u001b[0m \u001b[0;34m<\u001b[0m \u001b[0;36m0\u001b[0m\u001b[0;34m)\u001b[0m\u001b[0;34m\u001b[0m\u001b[0m\n\u001b[0m\u001b[1;32m    857\u001b[0m             \u001b[0mnanlen\u001b[0m \u001b[0;34m=\u001b[0m \u001b[0mlen\u001b[0m\u001b[0;34m(\u001b[0m\u001b[0m_format_options\u001b[0m\u001b[0;34m[\u001b[0m\u001b[0;34m'nanstr'\u001b[0m\u001b[0;34m]\u001b[0m\u001b[0;34m)\u001b[0m\u001b[0;34m\u001b[0m\u001b[0m\n\u001b[1;32m    858\u001b[0m             \u001b[0minflen\u001b[0m \u001b[0;34m=\u001b[0m \u001b[0mlen\u001b[0m\u001b[0;34m(\u001b[0m\u001b[0m_format_options\u001b[0m\u001b[0;34m[\u001b[0m\u001b[0;34m'infstr'\u001b[0m\u001b[0;34m]\u001b[0m\u001b[0;34m)\u001b[0m \u001b[0;34m+\u001b[0m \u001b[0mneginf\u001b[0m\u001b[0;34m\u001b[0m\u001b[0m\n",
      "\u001b[0;32m/usr/local/lib/python3.6/dist-packages/numpy/core/fromnumeric.py\u001b[0m in \u001b[0;36many\u001b[0;34m(a, axis, out, keepdims)\u001b[0m\n\u001b[1;32m   2016\u001b[0m     \u001b[0;32mif\u001b[0m \u001b[0mkeepdims\u001b[0m \u001b[0;32mis\u001b[0m \u001b[0;32mnot\u001b[0m \u001b[0mnp\u001b[0m\u001b[0;34m.\u001b[0m\u001b[0m_NoValue\u001b[0m\u001b[0;34m:\u001b[0m\u001b[0;34m\u001b[0m\u001b[0m\n\u001b[1;32m   2017\u001b[0m         \u001b[0mkwargs\u001b[0m\u001b[0;34m[\u001b[0m\u001b[0;34m'keepdims'\u001b[0m\u001b[0;34m]\u001b[0m \u001b[0;34m=\u001b[0m \u001b[0mkeepdims\u001b[0m\u001b[0;34m\u001b[0m\u001b[0m\n\u001b[0;32m-> 2018\u001b[0;31m     \u001b[0;32mreturn\u001b[0m \u001b[0marr\u001b[0m\u001b[0;34m.\u001b[0m\u001b[0many\u001b[0m\u001b[0;34m(\u001b[0m\u001b[0maxis\u001b[0m\u001b[0;34m=\u001b[0m\u001b[0maxis\u001b[0m\u001b[0;34m,\u001b[0m \u001b[0mout\u001b[0m\u001b[0;34m=\u001b[0m\u001b[0mout\u001b[0m\u001b[0;34m,\u001b[0m \u001b[0;34m**\u001b[0m\u001b[0mkwargs\u001b[0m\u001b[0;34m)\u001b[0m\u001b[0;34m\u001b[0m\u001b[0m\n\u001b[0m\u001b[1;32m   2019\u001b[0m \u001b[0;34m\u001b[0m\u001b[0m\n\u001b[1;32m   2020\u001b[0m \u001b[0;34m\u001b[0m\u001b[0m\n",
      "\u001b[0;31mKeyboardInterrupt\u001b[0m: "
     ]
    }
   ],
   "source": [
    "%%time\n",
    "pqo.set_plan(possible_plans[0])\n",
    "bt = pqo.get_best_track([0,0,1],np.array([[7],[np.nan],[7]]),False)"
   ]
  },
  {
   "cell_type": "code",
   "execution_count": null,
   "metadata": {},
   "outputs": [
    {
     "name": "stdout",
     "output_type": "stream",
     "text": [
      "['orange', 'black', 'green']\n",
      "\tfor way 000\n",
      "2\n",
      "80631\n",
      "240\n",
      "[0, 0, 0, 0]\n",
      "4871763\n",
      "min time 34\n",
      "\tfor way 101\n",
      "2\n",
      "80431\n",
      "240\n",
      "[0, 0, 0, 0]\n",
      "4857113\n",
      "min time 34\n",
      "\tfor way 011\n",
      "2\n",
      "80591\n",
      "240\n",
      "[0, 0, 0, 0]\n",
      "4870257\n",
      "min time 34\n",
      "\tfor way 001\n",
      "2\n",
      "80631\n",
      "240\n",
      "[0, 0, 0, 0]\n",
      "4871763\n",
      "min time 34\n",
      "\tfor way 110\n",
      "2\n",
      "80391\n",
      "240\n",
      "[0, 0, 0, 0]\n",
      "4855486\n",
      "min time 34\n",
      "\tfor way 100\n",
      "2\n",
      "80431\n",
      "240\n",
      "[0, 0, 0, 0]\n",
      "4857113\n",
      "min time 34\n",
      "\tfor way 010\n",
      "2\n",
      "80591\n",
      "240\n",
      "[0, 0, 0, 0]\n",
      "4870257\n",
      "min time 34\n",
      "['blue', 'black', 'yellow']\n",
      "\tfor way 000\n",
      "2\n",
      "47167\n",
      "120\n",
      "[0, 0, 0, 0]\n",
      "1602295\n",
      "min time 34\n",
      "\tfor way 101\n",
      "2\n",
      "44722\n",
      "120\n",
      "[0, 0, 0, 0]\n",
      "1520038\n",
      "min time 34\n",
      "\tfor way 011\n",
      "2\n",
      "44046\n",
      "120\n",
      "[0, 0, 0, 0]\n",
      "1514517\n",
      "min time 34\n",
      "\tfor way 001\n",
      "2\n",
      "47167\n",
      "120\n",
      "[0, 0, 0, 0]\n",
      "1602295\n",
      "min time 34\n",
      "\tfor way 110\n",
      "2\n",
      "41803\n",
      "120\n",
      "[0, 0, 0, 0]\n",
      "1437804\n",
      "min time 34\n",
      "\tfor way 100\n",
      "2\n",
      "44722\n",
      "120\n",
      "[0, 0, 0, 0]\n",
      "1520038\n",
      "min time 34\n",
      "\tfor way 010\n",
      "2\n",
      "44046\n",
      "120\n",
      "[0, 0, 0, 0]\n",
      "1514517\n",
      "min time 34\n",
      "['blue', 'green', 'orange']\n",
      "\tfor way 000\n",
      "2\n",
      "81149\n",
      "240\n",
      "[0, 0, 0, 0]\n",
      "4891283\n",
      "min time 34\n",
      "\tfor way 101\n",
      "2\n",
      "80683\n",
      "240\n",
      "[0, 0, 0, 0]\n",
      "4871643\n",
      "min time 35\n",
      "\tfor way 011\n",
      "2\n",
      "77638\n",
      "240\n",
      "[0, 0, 0, 0]\n",
      "4761403\n",
      "min time 34\n",
      "\tfor way 001\n",
      "2\n",
      "81149\n",
      "240\n",
      "[0, 0, 0, 0]\n",
      "4891283\n",
      "min time 34\n",
      "\tfor way 110\n",
      "2\n",
      "77106\n",
      "240\n",
      "[0, 0, 0, 0]\n",
      "4735874\n",
      "min time 36\n",
      "\tfor way 100\n",
      "2\n",
      "80683\n",
      "240\n",
      "[0, 0, 0, 0]\n",
      "4871643\n",
      "min time 35\n",
      "\tfor way 010\n",
      "2\n",
      "77638\n",
      "240\n",
      "[0, 0, 0, 0]\n",
      "4761403\n",
      "min time 34\n",
      "['yellow', 'green', 'black']\n",
      "\tfor way 000\n",
      "2\n",
      "53178\n",
      "120\n",
      "[0, 0, 0, 0]\n",
      "1825375\n",
      "min time 33\n",
      "\tfor way 101\n",
      "2\n",
      "53224\n",
      "120\n",
      "[0, 0, 0, 0]\n",
      "1827448\n",
      "min time 33\n",
      "\tfor way 011\n",
      "2\n",
      "52618\n",
      "120\n",
      "[0, 0, 0, 0]\n",
      "1805994\n",
      "min time 33\n",
      "\tfor way 001\n",
      "2\n",
      "53178\n",
      "120\n",
      "[0, 0, 0, 0]\n",
      "1825375\n",
      "min time 33\n",
      "\tfor way 110\n",
      "2\n",
      "52738\n",
      "120\n",
      "[0, 0, 0, 0]\n",
      "1808622\n",
      "min time 33\n",
      "\tfor way 100\n",
      "2\n",
      "53224\n",
      "120\n",
      "[0, 0, 0, 0]\n",
      "1827448\n",
      "min time 33\n",
      "\tfor way 010\n",
      "2\n",
      "52618\n",
      "120\n",
      "[0, 0, 0, 0]\n",
      "1805994\n",
      "min time 33\n",
      "['black', 'yellow', 'orange']\n",
      "\tfor way 000\n",
      "2\n",
      "38356\n",
      "120\n",
      "[0, 0, 0, 0]\n",
      "1346795\n",
      "min time 34\n",
      "\tfor way 101\n",
      "2\n",
      "38356\n",
      "120\n",
      "[0, 0, 0, 0]\n",
      "1346795\n",
      "min time 34\n",
      "\tfor way 011\n",
      "2\n",
      "38038\n",
      "120\n",
      "[0, 0, 0, 0]\n",
      "1334227\n",
      "min time 34\n",
      "\tfor way 001\n",
      "2\n",
      "38356\n",
      "120\n",
      "[0, 0, 0, 0]\n",
      "1346795\n",
      "min time 34\n",
      "\tfor way 110\n",
      "2\n",
      "38038\n",
      "120\n",
      "[0, 0, 0, 0]\n",
      "1334227\n",
      "min time 34\n",
      "\tfor way 100\n",
      "2\n",
      "38356\n",
      "120\n",
      "[0, 0, 0, 0]\n",
      "1346795\n",
      "min time 34\n",
      "\tfor way 010\n",
      "2\n",
      "38038\n",
      "120\n",
      "[0, 0, 0, 0]\n",
      "1334227\n",
      "min time 34\n",
      "['green', 'yellow', 'blue']\n",
      "\tfor way 000\n",
      "2\n",
      "38100\n",
      "120\n",
      "[0, 0, 0, 0]\n",
      "1330895\n",
      "min time 34\n",
      "\tfor way 101\n",
      "2\n",
      "20472\n",
      "120\n",
      "[0, 0, 0, 0]\n",
      "713977\n",
      "min time 34\n",
      "\tfor way 011\n",
      "2\n",
      "35809\n",
      "120\n",
      "[0, 0, 0, 0]\n",
      "1266833\n",
      "min time 34\n",
      "\tfor way 001\n",
      "2\n",
      "38100\n",
      "120\n",
      "[0, 0, 0, 0]\n",
      "1330895\n",
      "min time 34\n",
      "\tfor way 110\n",
      "2\n",
      "19198\n",
      "120\n",
      "[0, 0, 0, 0]\n",
      "677660\n",
      "min time 34\n",
      "\tfor way 100\n",
      "2\n",
      "20472\n",
      "120\n",
      "[0, 0, 0, 0]\n",
      "713977\n",
      "min time 34\n",
      "\tfor way 010\n",
      "2\n",
      "35809\n",
      "120\n",
      "[0, 0, 0, 0]\n",
      "1266833\n",
      "min time 34\n",
      "['blue', 'orange', 'black']\n",
      "\tfor way 000\n",
      "2\n",
      "84646\n",
      "240\n",
      "[0, 0, 0, 0]\n",
      "5067443\n",
      "min time 34\n",
      "\tfor way 101\n",
      "2\n",
      "84259\n",
      "240\n",
      "[0, 0, 0, 0]\n",
      "5050187\n",
      "min time 34\n",
      "\tfor way 011\n",
      "2\n",
      "81515\n",
      "240\n",
      "[0, 0, 0, 0]\n",
      "4954650\n",
      "min time 35\n",
      "\tfor way 001\n",
      "2\n",
      "84646\n",
      "240\n",
      "[0, 0, 0, 0]\n",
      "5067443\n",
      "min time 34\n",
      "\tfor way 110\n",
      "2\n",
      "81064\n",
      "240\n",
      "[0, 0, 0, 0]\n",
      "4932034\n",
      "min time 35\n",
      "\tfor way 100\n",
      "2\n",
      "84259\n",
      "240\n",
      "[0, 0, 0, 0]\n",
      "5050187\n",
      "min time 34\n",
      "\tfor way 010\n",
      "2\n",
      "81515\n",
      "240\n",
      "[0, 0, 0, 0]\n",
      "4954650\n",
      "min time 35\n",
      "['green', 'orange', 'yellow']\n",
      "\tfor way 000\n",
      "2\n",
      "51380\n",
      "120\n",
      "[0, 0, 0, 0]\n",
      "1777958\n",
      "min time 35\n",
      "\tfor way 101\n",
      "2\n",
      "50771\n",
      "120\n",
      "[0, 0, 0, 0]\n",
      "1754946\n",
      "min time 36\n",
      "\tfor way 011\n",
      "2\n",
      "51135\n",
      "120\n"
     ]
    }
   ],
   "source": [
    "%%time\n",
    "pqo.prepare_best_tracks(np.array([[7],[np.nan],[7]]),False)"
   ]
  },
  {
   "cell_type": "code",
   "execution_count": 142,
   "metadata": {},
   "outputs": [
    {
     "data": {
      "text/plain": [
       "dict_keys([5])"
      ]
     },
     "execution_count": 142,
     "metadata": {},
     "output_type": "execute_result"
    }
   ],
   "source": [
    "saved[-1][0][0].keys()"
   ]
  },
  {
   "cell_type": "code",
   "execution_count": 325,
   "metadata": {},
   "outputs": [
    {
     "name": "stdout",
     "output_type": "stream",
     "text": [
      "None\n"
     ]
    }
   ],
   "source": [
    "print(pqo.best_tracks[0]['000'])"
   ]
  },
  {
   "cell_type": "code",
   "execution_count": 252,
   "metadata": {},
   "outputs": [],
   "source": [
    "pqo.fs = fs"
   ]
  },
  {
   "cell_type": "code",
   "execution_count": 254,
   "metadata": {},
   "outputs": [
    {
     "name": "stdout",
     "output_type": "stream",
     "text": [
      "7852\n"
     ]
    }
   ],
   "source": [
    "fs3 = pqo.count_final_states()"
   ]
  },
  {
   "cell_type": "code",
   "execution_count": 255,
   "metadata": {},
   "outputs": [],
   "source": [
    "mt = 100\n",
    "for (f1,f2,f3) in fs3:\n",
    "    if f1.state.time + f2.state.time + f3.state.time < mt:\n",
    "        mt = f1.state.time + f2.state.time + f3.state.time"
   ]
  },
  {
   "cell_type": "code",
   "execution_count": 256,
   "metadata": {},
   "outputs": [
    {
     "data": {
      "text/plain": [
       "22"
      ]
     },
     "execution_count": 256,
     "metadata": {},
     "output_type": "execute_result"
    }
   ],
   "source": [
    "mt"
   ]
  },
  {
   "cell_type": "code",
   "execution_count": 235,
   "metadata": {},
   "outputs": [
    {
     "name": "stdout",
     "output_type": "stream",
     "text": [
      "---STATE---\n",
      "[nan  0. nan]\n",
      "[1. 4. 3.]\n",
      "[nan  2. nan]\n",
      "x: 0\ty: 0\ta: 0\n",
      "\n",
      "\n",
      "\n",
      "time 0.000000\tpicks 0-----------\n"
     ]
    }
   ],
   "source": [
    "s = MainRobotState(0)\n",
    "print(s)"
   ]
  },
  {
   "cell_type": "code",
   "execution_count": 40,
   "metadata": {},
   "outputs": [],
   "source": [
    "s.pick_cube_by(0,1)"
   ]
  },
  {
   "cell_type": "code",
   "execution_count": 41,
   "metadata": {},
   "outputs": [],
   "source": [
    "s.cubes[0][0] = 1\n",
    "s.cubes[0][1] = 2"
   ]
  },
  {
   "cell_type": "code",
   "execution_count": 42,
   "metadata": {},
   "outputs": [
    {
     "data": {
      "text/plain": [
       "array([[ 1.,  2., nan, nan, nan],\n",
       "       [ 0., nan, nan, nan, nan],\n",
       "       [nan, nan, nan, nan, nan]])"
      ]
     },
     "execution_count": 42,
     "metadata": {},
     "output_type": "execute_result"
    }
   ],
   "source": [
    "s.cubes"
   ]
  },
  {
   "cell_type": "code",
   "execution_count": 458,
   "metadata": {},
   "outputs": [],
   "source": [
    "z = MainRobotState(0)"
   ]
  },
  {
   "cell_type": "code",
   "execution_count": 459,
   "metadata": {},
   "outputs": [],
   "source": [
    "z.cubes[0][0] = 1\n",
    "z.cubes[0][1] = 3"
   ]
  },
  {
   "cell_type": "code",
   "execution_count": 45,
   "metadata": {},
   "outputs": [],
   "source": [
    "y = z.sum_with_other_state(s)"
   ]
  },
  {
   "cell_type": "code",
   "execution_count": 46,
   "metadata": {},
   "outputs": [
    {
     "name": "stdout",
     "output_type": "stream",
     "text": [
      "[[ 1.  3.  1.  2. nan]\n",
      " [ 0. nan nan nan nan]\n",
      " [nan nan nan nan nan]]\n"
     ]
    }
   ],
   "source": [
    "print(MainRobotState.sum_cubes(z.cubes, s.cubes))"
   ]
  },
  {
   "cell_type": "code",
   "execution_count": 47,
   "metadata": {},
   "outputs": [
    {
     "data": {
      "text/plain": [
       "array([[ 1.,  2.,  1.,  3., nan],\n",
       "       [ 0., nan, nan, nan, nan],\n",
       "       [nan, nan, nan, nan, nan]])"
      ]
     },
     "execution_count": 47,
     "metadata": {},
     "output_type": "execute_result"
    }
   ],
   "source": [
    "y.cubes"
   ]
  },
  {
   "cell_type": "code",
   "execution_count": 53,
   "metadata": {},
   "outputs": [],
   "source": [
    "A = np.sum(y.cubes == y.cubes,axis=1)"
   ]
  },
  {
   "cell_type": "code",
   "execution_count": 57,
   "metadata": {},
   "outputs": [],
   "source": [
    "B = np.array([True, False,True])"
   ]
  },
  {
   "cell_type": "code",
   "execution_count": 9,
   "metadata": {},
   "outputs": [],
   "source": [
    "z = MainRobotState(0)"
   ]
  },
  {
   "cell_type": "code",
   "execution_count": 20,
   "metadata": {},
   "outputs": [],
   "source": [
    "z = list(z.new_states())[-1]"
   ]
  },
  {
   "cell_type": "code",
   "execution_count": 21,
   "metadata": {},
   "outputs": [
    {
     "name": "stdout",
     "output_type": "stream",
     "text": [
      "---STATE---\n",
      "[nan nan nan]\n",
      "[ 1. nan nan]\n",
      "[nan nan nan]\n",
      "x: 0\ty: -1\ta: 2\n",
      "2 \n",
      "3 \n",
      "4 0 \n",
      "time 5.000000\tpicks 2-----------\n"
     ]
    }
   ],
   "source": [
    "print(z)"
   ]
  },
  {
   "cell_type": "code",
   "execution_count": 13,
   "metadata": {},
   "outputs": [],
   "source": [
    "cubes1 = CubesState.sum_cubes(z.cubes, np.array([[7],[np.nan],[7]]))"
   ]
  },
  {
   "cell_type": "code",
   "execution_count": 14,
   "metadata": {},
   "outputs": [
    {
     "data": {
      "text/plain": [
       "array([[ 2.,  7., nan, nan, nan],\n",
       "       [ 3., nan, nan, nan, nan],\n",
       "       [ 0.,  7., nan, nan, nan]])"
      ]
     },
     "execution_count": 14,
     "metadata": {},
     "output_type": "execute_result"
    }
   ],
   "source": [
    "cubes1"
   ]
  },
  {
   "cell_type": "code",
   "execution_count": 23,
   "metadata": {},
   "outputs": [
    {
     "data": {
      "text/plain": [
       "array([[ 2., nan, nan, nan, nan],\n",
       "       [ 3., nan, nan, nan, nan],\n",
       "       [ 4.,  0., nan, nan, nan]])"
      ]
     },
     "execution_count": 23,
     "metadata": {},
     "output_type": "execute_result"
    }
   ],
   "source": [
    "cubes2 = z.cubes\n",
    "cubes2"
   ]
  },
  {
   "cell_type": "code",
   "execution_count": 19,
   "metadata": {},
   "outputs": [
    {
     "data": {
      "text/plain": [
       "array([[ True,  True, False, False, False],\n",
       "       [ True, False, False, False, False],\n",
       "       [ True,  True, False, False, False]])"
      ]
     },
     "execution_count": 19,
     "metadata": {},
     "output_type": "execute_result"
    }
   ],
   "source": [
    "np.array([range(5),range(5),range(5)]) < np.sum(cubes1 == cubes1,axis=1)[:,np.newaxis]"
   ]
  },
  {
   "cell_type": "code",
   "execution_count": 27,
   "metadata": {},
   "outputs": [
    {
     "data": {
      "text/plain": [
       "array([[ 2.,  2.,  7., nan, nan],\n",
       "       [ 3.,  3., nan, nan, nan],\n",
       "       [ 4.,  0.,  0.,  7., nan]])"
      ]
     },
     "execution_count": 27,
     "metadata": {},
     "output_type": "execute_result"
    }
   ],
   "source": [
    "temp = np.array([range(5),range(5),range(5)])\n",
    "h1 = np.sum(cubes1 == cubes1, axis=1)[:,np.newaxis]\n",
    "h2 = np.sum(cubes2 == cubes2, axis=1)[:,np.newaxis]\n",
    "ij3 = np.logical_and(temp >= h2, temp < h2 + h1)\n",
    "cubes3 = cubes2.copy()\n",
    "cubes3[ij3] = cubes1[temp < h1]\n",
    "cubes3"
   ]
  },
  {
   "cell_type": "code",
   "execution_count": 43,
   "metadata": {},
   "outputs": [],
   "source": [
    "a = (np.repeat(temp[np.newaxis,:],2,axis=0))"
   ]
  },
  {
   "cell_type": "code",
   "execution_count": 44,
   "metadata": {},
   "outputs": [],
   "source": [
    "c = np.repeat(cubes1[np.newaxis,:],2,axis=0)"
   ]
  },
  {
   "cell_type": "code",
   "execution_count": 60,
   "metadata": {},
   "outputs": [],
   "source": [
    "h = np.sum(c == c, axis=2)[:,:,np.newaxis]"
   ]
  },
  {
   "cell_type": "code",
   "execution_count": 61,
   "metadata": {},
   "outputs": [
    {
     "data": {
      "text/plain": [
       "array([[[ True,  True, False, False, False],\n",
       "        [ True, False, False, False, False],\n",
       "        [ True,  True, False, False, False]],\n",
       "\n",
       "       [[ True,  True, False, False, False],\n",
       "        [ True, False, False, False, False],\n",
       "        [ True,  True, False, False, False]]])"
      ]
     },
     "execution_count": 61,
     "metadata": {},
     "output_type": "execute_result"
    }
   ],
   "source": [
    "a < h"
   ]
  },
  {
   "cell_type": "code",
   "execution_count": 62,
   "metadata": {},
   "outputs": [],
   "source": [
    "h1 = h\n",
    "h2 = h\n",
    "cij = np.logical_and(a >= h1, a < h1 + h2)\n",
    "c2 = c.copy()\n",
    "c2[cij] = c[a < h2]\n"
   ]
  },
  {
   "cell_type": "code",
   "execution_count": 109,
   "metadata": {},
   "outputs": [
    {
     "data": {
      "text/plain": [
       "(3, 2, 3, 5)"
      ]
     },
     "execution_count": 109,
     "metadata": {},
     "output_type": "execute_result"
    }
   ],
   "source": [
    "a = (np.repeat(temp[np.newaxis,:],2,axis=0))\n",
    "np.repeat(a[np.newaxis,:,:,:],3, axis=0).shape"
   ]
  },
  {
   "cell_type": "code",
   "execution_count": 94,
   "metadata": {},
   "outputs": [],
   "source": [
    "e = np.repeat(np.all(h1 + h2 < 5,axis=1)[:,:,np.newaxis], 5,axis=2)"
   ]
  },
  {
   "cell_type": "code",
   "execution_count": 96,
   "metadata": {},
   "outputs": [],
   "source": [
    "e1 = np.repeat(e, 3,axis=1)"
   ]
  },
  {
   "cell_type": "code",
   "execution_count": 99,
   "metadata": {},
   "outputs": [
    {
     "data": {
      "text/plain": [
       "array([2., 7., 3., 0., 7., 2., 7., 3., 0., 7.])"
      ]
     },
     "execution_count": 99,
     "metadata": {},
     "output_type": "execute_result"
    }
   ],
   "source": [
    "c2[np.logical_and(e1, cij)]"
   ]
  },
  {
   "cell_type": "code",
   "execution_count": 106,
   "metadata": {},
   "outputs": [
    {
     "data": {
      "text/plain": [
       "array([[[[ 2.,  7.,  2.,  7., nan],\n",
       "         [ 3.,  3., nan, nan, nan],\n",
       "         [ 0.,  7.,  0.,  7., nan]],\n",
       "\n",
       "        [[ 2.,  7.,  2.,  7., nan],\n",
       "         [ 3.,  3., nan, nan, nan],\n",
       "         [ 0.,  7.,  0.,  7., nan]]],\n",
       "\n",
       "\n",
       "       [[[ 2.,  7.,  2.,  7., nan],\n",
       "         [ 3.,  3., nan, nan, nan],\n",
       "         [ 0.,  7.,  0.,  7., nan]],\n",
       "\n",
       "        [[ 2.,  7.,  2.,  7., nan],\n",
       "         [ 3.,  3., nan, nan, nan],\n",
       "         [ 0.,  7.,  0.,  7., nan]]]])"
      ]
     },
     "execution_count": 106,
     "metadata": {},
     "output_type": "execute_result"
    }
   ],
   "source": [
    "np.repeat(c2[np.newaxis,:,:,:], 2, axis=0)"
   ]
  },
  {
   "cell_type": "code",
   "execution_count": 129,
   "metadata": {},
   "outputs": [
    {
     "name": "stdout",
     "output_type": "stream",
     "text": [
      "---STATE---\n",
      "[nan nan nan]\n",
      "[nan nan nan]\n",
      "[nan nan nan]\n",
      "x: -1\ty: -1\ta: 0\n",
      "0 4 2 \n",
      "3 \n",
      "1 \n",
      "time 10.000000\tpicks 4-----------\n",
      "---STATE---\n",
      "[nan nan nan]\n",
      "[nan nan nan]\n",
      "[nan nan nan]\n",
      "x: 0\ty: 0\ta: 0\n",
      "4 2 \n",
      "0 3 \n",
      "1 \n",
      "time 10.000000\tpicks 4-----------\n",
      "---STATE---\n",
      "[nan nan nan]\n",
      "[nan nan nan]\n",
      "[nan nan nan]\n",
      "x: -1\ty: 1\ta: 0\n",
      "4 2 \n",
      "3 \n",
      "0 1 \n",
      "time 10.000000\tpicks 4-----------\n",
      "---STATE---\n",
      "[nan nan nan]\n",
      "[nan nan nan]\n",
      "[nan nan nan]\n",
      "x: 0\ty: 0\ta: 1\n",
      "0 4 2 \n",
      "3 \n",
      "1 \n",
      "time 11.000000\tpicks 4-----------\n",
      "---STATE---\n",
      "[nan nan nan]\n",
      "[nan nan nan]\n",
      "[nan nan nan]\n",
      "x: -1\ty: 1\ta: 1\n",
      "4 2 \n",
      "0 3 \n",
      "1 \n",
      "time 11.000000\tpicks 4-----------\n",
      "---STATE---\n",
      "[nan nan nan]\n",
      "[nan nan nan]\n",
      "[nan nan nan]\n",
      "x: -2\ty: 0\ta: 1\n",
      "4 2 \n",
      "3 \n",
      "0 1 \n",
      "time 11.000000\tpicks 4-----------\n",
      "---STATE---\n",
      "[nan nan nan]\n",
      "[nan nan nan]\n",
      "[nan nan nan]\n",
      "x: -1\ty: 1\ta: 2\n",
      "0 4 2 \n",
      "3 \n",
      "1 \n",
      "time 10.000000\tpicks 4-----------\n",
      "---STATE---\n",
      "[nan nan nan]\n",
      "[nan nan nan]\n",
      "[nan nan nan]\n",
      "x: -2\ty: 0\ta: 2\n",
      "4 2 \n",
      "0 3 \n",
      "1 \n",
      "time 10.000000\tpicks 4-----------\n",
      "---STATE---\n",
      "[nan nan nan]\n",
      "[nan nan nan]\n",
      "[nan nan nan]\n",
      "x: -1\ty: -1\ta: 2\n",
      "4 2 \n",
      "3 \n",
      "0 1 \n",
      "time 10.000000\tpicks 4-----------\n"
     ]
    }
   ],
   "source": [
    "for x in z.new_states():\n",
    "    print(x)"
   ]
  },
  {
   "cell_type": "code",
   "execution_count": 69,
   "metadata": {},
   "outputs": [
    {
     "data": {
      "text/plain": [
       "(1, 2)"
      ]
     },
     "execution_count": 69,
     "metadata": {},
     "output_type": "execute_result"
    }
   ],
   "source": [
    "next(z.get_cubes_coords())"
   ]
  },
  {
   "cell_type": "code",
   "execution_count": 83,
   "metadata": {},
   "outputs": [
    {
     "name": "stdout",
     "output_type": "stream",
     "text": [
      "---STATE---\n",
      "[nan  0. nan]\n",
      "[nan  4. nan]\n",
      "[nan nan nan]\n",
      "x: 0\ty: 0\ta: 3\n",
      "2 \n",
      "3 \n",
      "1 \n",
      "time 5.000000\tpicks 2-----------\n",
      "---STATE---\n",
      "[nan  0. nan]\n",
      "[nan  4. nan]\n",
      "[nan nan nan]\n",
      "x: 0\ty: 0\ta: 0\n",
      "2 \n",
      "3 \n",
      "1 \n",
      "time 4.000000\tpicks 2-----------\n",
      "---STATE---\n",
      "[nan  0. nan]\n",
      "[nan  4. nan]\n",
      "[nan nan nan]\n",
      "x: 0\ty: 0\ta: 1\n",
      "2 \n",
      "3 \n",
      "1 \n",
      "time 5.000000\tpicks 2-----------\n",
      "---STATE---\n",
      "[nan  0. nan]\n",
      "[nan  4. nan]\n",
      "[nan nan nan]\n",
      "x: -1\ty: 0\ta: 3\n",
      "2 \n",
      "3 \n",
      "1 \n",
      "time 6.000000\tpicks 2-----------\n",
      "---STATE---\n",
      "[nan  0. nan]\n",
      "[nan  4. nan]\n",
      "[nan nan nan]\n",
      "x: -1\ty: 0\ta: 0\n",
      "2 \n",
      "3 \n",
      "1 \n",
      "time 5.000000\tpicks 2-----------\n",
      "---STATE---\n",
      "[nan  0. nan]\n",
      "[nan  4. nan]\n",
      "[nan nan nan]\n",
      "x: -1\ty: 0\ta: 1\n",
      "2 \n",
      "3 \n",
      "1 \n",
      "time 6.000000\tpicks 2-----------\n"
     ]
    }
   ],
   "source": [
    "for x in z.next_moves():\n",
    "    print(x)"
   ]
  },
  {
   "cell_type": "code",
   "execution_count": 241,
   "metadata": {},
   "outputs": [
    {
     "ename": "TypeError",
     "evalue": "unhashable type: 'list'",
     "output_type": "error",
     "traceback": [
      "\u001b[0;31m---------------------------------------------------------------------------\u001b[0m",
      "\u001b[0;31mTypeError\u001b[0m                                 Traceback (most recent call last)",
      "\u001b[0;32m<ipython-input-241-4a5722e7ef02>\u001b[0m in \u001b[0;36m<module>\u001b[0;34m()\u001b[0m\n\u001b[0;32m----> 1\u001b[0;31m \u001b[0;34m{\u001b[0m\u001b[0;34m[\u001b[0m\u001b[0;36m1\u001b[0m\u001b[0;34m,\u001b[0m\u001b[0;36m2\u001b[0m\u001b[0;34m]\u001b[0m\u001b[0;34m}\u001b[0m\u001b[0;34m\u001b[0m\u001b[0m\n\u001b[0m",
      "\u001b[0;31mTypeError\u001b[0m: unhashable type: 'list'"
     ]
    }
   ],
   "source": [
    "{[1,2]}"
   ]
  },
  {
   "cell_type": "code",
   "execution_count": 112,
   "metadata": {},
   "outputs": [
    {
     "data": {
      "text/plain": [
       "array([[[[ 7.],\n",
       "         [nan],\n",
       "         [ 7.]],\n",
       "\n",
       "        [[ 7.],\n",
       "         [nan],\n",
       "         [ 7.]],\n",
       "\n",
       "        [[ 7.],\n",
       "         [nan],\n",
       "         [ 7.]]],\n",
       "\n",
       "\n",
       "       [[[ 7.],\n",
       "         [nan],\n",
       "         [ 7.]],\n",
       "\n",
       "        [[ 7.],\n",
       "         [nan],\n",
       "         [ 7.]],\n",
       "\n",
       "        [[ 7.],\n",
       "         [nan],\n",
       "         [ 7.]]]])"
      ]
     },
     "execution_count": 112,
     "metadata": {},
     "output_type": "execute_result"
    }
   ],
   "source": [
    "magic_mask = np.array([[7],[np.nan],[7]])\n",
    "np.repeat(np.repeat(magic_mask[np.newaxis,np.newaxis,:,:],2,axis=0),3,axis=1)"
   ]
  },
  {
   "cell_type": "code",
   "execution_count": null,
   "metadata": {},
   "outputs": [],
   "source": []
  }
 ],
 "metadata": {
  "kernelspec": {
   "display_name": "Python 3",
   "language": "python",
   "name": "python3"
  },
  "language_info": {
   "codemirror_mode": {
    "name": "ipython",
    "version": 3
   },
   "file_extension": ".py",
   "mimetype": "text/x-python",
   "name": "python",
   "nbconvert_exporter": "python",
   "pygments_lexer": "ipython3",
   "version": "3.6.3"
  }
 },
 "nbformat": 4,
 "nbformat_minor": 2
}
