{
 "cells": [
  {
   "cell_type": "code",
   "execution_count": 19,
   "metadata": {},
   "outputs": [],
   "source": [
    "from queue import PriorityQueue\n",
    "import numpy as np"
   ]
  },
  {
   "cell_type": "markdown",
   "metadata": {},
   "source": [
    "## General idea of Behaviour Tree is to deconstruct our robot's actions and decisions to some layers. For example, the root is our specified tactic, its children are general actions such as collect cubes from some particular pack (кучка), their children would be a very strict actions such as well-defined movements, picking actions and so-one. Third layer of tree is considered to be the last for Eurobot 2018 competition (but that's might not remain in other solutions). Third layer's children are gonna to exist not in Python/RPI environment but on STM32 (microcontroller), due to it's faster response and control of certain mechanical movements."
   ]
  },
  {
   "cell_type": "code",
   "execution_count": 17,
   "metadata": {
    "collapsed": true
   },
   "outputs": [],
   "source": [
    "class ExecutionResult(object):\n",
    "    def __init__(self, result, **kvargs):\n",
    "        if len(kvargs) > 0:\n",
    "            self.info = kvargs\n",
    "        self.result = result\n",
    "    def __bool__(self):\n",
    "        return self.result == 0"
   ]
  },
  {
   "cell_type": "code",
   "execution_count": 18,
   "metadata": {
    "collapsed": true
   },
   "outputs": [],
   "source": [
    "class Node(object):\n",
    "    \"\"\"\n",
    "        This is a main super class of BT. Here we should support parallel subtasks execution, \n",
    "        responses to different events, possibility to interrupt and so one. \n",
    "        Hopefully we'll manage to do that!\n",
    "    \"\"\"\n",
    "    def __init__(self):\n",
    "        self.children = PriorityQueue()\n",
    "        self.priority = 0\n",
    "    def execute(self):\n",
    "        while self.children.qsize() > 0:\n",
    "            current_task = self.children.get()\n",
    "            result = current_task.execute()\n",
    "            if result is not True:\n",
    "                pass\n",
    "    def interrupt(self):\n",
    "        pass\n",
    "    def time_left(self):\n",
    "        \"this function will return estimating time left before the successful execution of the task\"\n",
    "        pass\n",
    "    "
   ]
  },
  {
   "cell_type": "code",
   "execution_count": 11,
   "metadata": {
    "collapsed": true
   },
   "outputs": [],
   "source": [
    "class World(object):\n",
    "    \"\"\"\n",
    "        Contain all data corresponding to the world current situation, \n",
    "        e.g. sensors data, data from other robots and innear calculations.\n",
    "    \"\"\"\n",
    "    def __init__(self):\n",
    "        pass\n",
    "    \n",
    "    def get_time(self):\n",
    "        pass"
   ]
  },
  {
   "cell_type": "code",
   "execution_count": null,
   "metadata": {
    "collapsed": true
   },
   "outputs": [],
   "source": [
    "class STMNode(Node):\n",
    "    \"\"\"\n",
    "        Leaf of our tree. Send some command to STM and recieve answer.\n",
    "    \"\"\"\n",
    "    def __init__(self, world, maxtime):\n",
    "        self.maxtime = maxtime\n",
    "        self.world = world\n",
    "        self.start_time = np.nan\n",
    "    \n",
    "    def time_left(self):\n",
    "        return self.world.get_time() - self.start_time\n",
    "    \n",
    "    def execute(self):\n",
    "        \"also we should send something to STM32\"\n",
    "        self.start_time = self.world.get_time()\n",
    "        \n",
    "    \n",
    "\n",
    "class LowLevelNode(Node):\n",
    "    \"\"\"\n",
    "        This is type of nodes which will send certain actions to STM.\n",
    "    \"\"\""
   ]
  },
  {
   "cell_type": "code",
   "execution_count": null,
   "metadata": {
    "collapsed": true
   },
   "outputs": [],
   "source": []
  }
 ],
 "metadata": {
  "kernelspec": {
   "display_name": "Python 3",
   "language": "python",
   "name": "python3"
  },
  "language_info": {
   "codemirror_mode": {
    "name": "ipython",
    "version": 3
   },
   "file_extension": ".py",
   "mimetype": "text/x-python",
   "name": "python",
   "nbconvert_exporter": "python",
   "pygments_lexer": "ipython3",
   "version": "3.6.3"
  }
 },
 "nbformat": 4,
 "nbformat_minor": 2
}
