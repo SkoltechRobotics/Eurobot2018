{
 "cells": [
  {
   "cell_type": "code",
   "execution_count": 1,
   "metadata": {},
   "outputs": [],
   "source": [
    "import numpy as np\n",
    "import re"
   ]
  },
  {
   "cell_type": "code",
   "execution_count": 2,
   "metadata": {},
   "outputs": [],
   "source": [
    "def get_kinematic_matrices(matrix):\n",
    "    print(matrix * np.array([1, -1, -1, 1])[:, np.newaxis])\n",
    "    print(np.linalg.lstsq(matrix, np.eye(4), rcond=None)[0])"
   ]
  },
  {
   "cell_type": "markdown",
   "metadata": {},
   "source": [
    "# Inverse kinematic"
   ]
  },
  {
   "cell_type": "markdown",
   "metadata": {},
   "source": [
    "## Symbol calculations"
   ]
  },
  {
   "cell_type": "code",
   "execution_count": 3,
   "metadata": {
    "run_control": {
     "marked": false
    }
   },
   "outputs": [],
   "source": [
    "import sympy\n",
    "sympy.init_printing()"
   ]
  },
  {
   "cell_type": "code",
   "execution_count": 4,
   "metadata": {},
   "outputs": [],
   "source": [
    "Rx, Ry = sympy.symbols(\"R_x, R_y\")\n",
    "rx, ry = sympy.symbols(\"r_x, r_y\")\n",
    "vx, vy, w = sympy.symbols(\"v_x, v_y, \\omega\")"
   ]
  },
  {
   "cell_type": "code",
   "execution_count": 5,
   "metadata": {},
   "outputs": [],
   "source": [
    "V = sympy.Matrix([vx, vy, 0]) + sympy.Matrix([0, 0, w]).cross(sympy.Matrix([Rx, Ry, 0]))\n",
    "V_m = sympy.Matrix(V[0:2]).dot(sympy.Matrix([rx, ry]))\n",
    "V_m = sympy.expand(V_m)"
   ]
  },
  {
   "cell_type": "code",
   "execution_count": 6,
   "metadata": {},
   "outputs": [
    {
     "data": {
      "text/latex": [
       "$$R_{x} \\omega r_{y} - R_{y} \\omega r_{x} + r_{x} v_{x} + r_{y} v_{y}$$"
      ],
      "text/plain": [
       "Rₓ⋅\\omega⋅r_y - R_y⋅\\omega⋅rₓ + rₓ⋅vₓ + r_y⋅v_y"
      ]
     },
     "execution_count": 6,
     "metadata": {},
     "output_type": "execute_result"
    }
   ],
   "source": [
    "V_m"
   ]
  },
  {
   "cell_type": "markdown",
   "metadata": {},
   "source": [
    "## Numerical calculations"
   ]
  },
  {
   "cell_type": "code",
   "execution_count": 7,
   "metadata": {},
   "outputs": [],
   "source": [
    "Rx1 = 189.09 / 2\n",
    "Ry1 = 169.09 / 2\n",
    "a = np.pi / 4\n",
    "rwheel = 36.9 / 2\n",
    "\n",
    "rx1 = np.cos(a)\n",
    "ry1 = np.sin(a)\n",
    "angles = [np.pi / 4,  45 / 180 * np.pi, ]\n",
    "Rxs = [Rx1, Rx1, -Rx1, -Rx1]\n",
    "Rys = [Ry1, -Ry1, Ry1, -Ry1]\n",
    "rxs = [rx1, -rx1, rx1, -rx1]\n",
    "rys = [-ry1, -ry1, ry1, ry1]"
   ]
  },
  {
   "cell_type": "code",
   "execution_count": 8,
   "metadata": {},
   "outputs": [
    {
     "data": {
      "text/latex": [
       "$$\\left [ 0.7853981633974483, \\quad 0.7853981633974483\\right ]$$"
      ],
      "text/plain": [
       "[0.7853981633974483, 0.7853981633974483]"
      ]
     },
     "execution_count": 8,
     "metadata": {},
     "output_type": "execute_result"
    }
   ],
   "source": [
    "angles"
   ]
  },
  {
   "cell_type": "code",
   "execution_count": 7,
   "metadata": {},
   "outputs": [],
   "source": [
    "forward_matrix = np.zeros((4, 3), dtype=np.float32)\n",
    "for i in range(4):\n",
    "    forward_matrix[i] = np.array([rxs[i], rys[i], Rxs[i] * rys[i] - Rys[i] * rxs[i]])\n",
    "forward_matrix = forward_matrix / rwheel\n",
    "forward_matrix[:, 0:2] = forward_matrix[:, 0:2] * 1000 "
   ]
  },
  {
   "cell_type": "code",
   "execution_count": 8,
   "metadata": {},
   "outputs": [
    {
     "data": {
      "text/plain": [
       "array([[ 24.55231857, -24.55231857,  -5.77973843],\n",
       "       [ 24.55231857,  24.55231857,   5.77973843],\n",
       "       [ 24.55231857,  24.55231857,  -5.77973843],\n",
       "       [ 24.55231857, -24.55231857,   5.77973843]])"
      ]
     },
     "execution_count": 8,
     "metadata": {},
     "output_type": "execute_result"
    }
   ],
   "source": [
    "forward_matrix * np.array([1, -1, 1, -1])[:, np.newaxis]"
   ]
  },
  {
   "cell_type": "markdown",
   "metadata": {},
   "source": [
    "### Forward kinematic"
   ]
  },
  {
   "cell_type": "code",
   "execution_count": 9,
   "metadata": {},
   "outputs": [
    {
     "data": {
      "text/plain": [
       "(array([[ 0.01018234, -0.01018234,  0.01018234, -0.01018234],\n",
       "        [-0.01018234, -0.01018234,  0.01018234,  0.01018234],\n",
       "        [-0.04325455, -0.04325455, -0.04325455, -0.04325455]]),\n",
       " array([0.25, 0.25, 0.25, 0.25]),\n",
       " 3,\n",
       " array([49.10463715, 49.10463715, 11.55947685]))"
      ]
     },
     "execution_count": 9,
     "metadata": {},
     "output_type": "execute_result"
    }
   ],
   "source": [
    "np.linalg.lstsq(forward_matrix, np.eye(4), rcond=None)"
   ]
  },
  {
   "cell_type": "markdown",
   "metadata": {},
   "source": [
    "## Different angles for big robot center in geom center"
   ]
  },
  {
   "cell_type": "markdown",
   "metadata": {},
   "source": [
    "<img src=\"files/photo_big_robot_2.jpg\">"
   ]
  },
  {
   "cell_type": "code",
   "execution_count": 10,
   "metadata": {},
   "outputs": [],
   "source": [
    "Rx1 = 189.09 / 2\n",
    "Ry1 = 169.09 / 2\n",
    "Rx2 = 189.09 / 2\n",
    "Ry2 = 169.09 / 2\n",
    "\n",
    "Rxs = [-Rx1, -Rx2, Rx2, Rx1]\n",
    "Rys = [Ry1, -Ry2, -Ry2, Ry1]\n",
    "alphas = (np.array([180 - 45, 180 + 45, -45, 45]) - 90) * np.pi / 180\n",
    "rxs = np.cos(alphas)\n",
    "rys = np.sin(alphas)"
   ]
  },
  {
   "cell_type": "code",
   "execution_count": 11,
   "metadata": {},
   "outputs": [
    {
     "data": {
      "text/plain": [
       "array([ 0.70710678, -0.70710678, -0.70710678,  0.70710678])"
      ]
     },
     "execution_count": 11,
     "metadata": {},
     "output_type": "execute_result"
    }
   ],
   "source": [
    "rxs"
   ]
  },
  {
   "cell_type": "code",
   "execution_count": 12,
   "metadata": {},
   "outputs": [
    {
     "data": {
      "text/plain": [
       "array([ 0.70710678,  0.70710678, -0.70710678, -0.70710678])"
      ]
     },
     "execution_count": 12,
     "metadata": {},
     "output_type": "execute_result"
    }
   ],
   "source": [
    "rys"
   ]
  },
  {
   "cell_type": "code",
   "execution_count": 13,
   "metadata": {},
   "outputs": [],
   "source": [
    "forward_matrix = np.zeros((4, 3), dtype=np.float32)\n",
    "for i in range(4):\n",
    "    forward_matrix[i] = np.array([rxs[i], rys[i], Rxs[i] * rys[i] - Rys[i] * rxs[i]])\n",
    "forward_matrix = forward_matrix / rwheel\n",
    "forward_matrix[:, 0:2] = forward_matrix[:, 0:2] * 1000 "
   ]
  },
  {
   "cell_type": "code",
   "execution_count": 16,
   "metadata": {},
   "outputs": [
    {
     "data": {
      "text/plain": [
       "array([[ 38.32556534,  38.32556534,  -6.86372614],\n",
       "       [-38.32556534,  38.32556534,  -6.86372614],\n",
       "       [-38.32556534, -38.32556534,  -6.86372614],\n",
       "       [ 38.32556534, -38.32556534,  -6.86372614]])"
      ]
     },
     "execution_count": 16,
     "metadata": {},
     "output_type": "execute_result"
    }
   ],
   "source": [
    "forward_matrix * np.array([1, 1, 1, 1])[:, np.newaxis]"
   ]
  },
  {
   "cell_type": "code",
   "execution_count": 19,
   "metadata": {},
   "outputs": [
    {
     "data": {
      "text/plain": [
       "array([[ 0.00652306, -0.00652306, -0.00652306,  0.00652306],\n",
       "       [ 0.00652306,  0.00652306, -0.00652306, -0.00652306],\n",
       "       [-0.03642336, -0.03642336, -0.03642336, -0.03642336]], dtype=float32)"
      ]
     },
     "execution_count": 19,
     "metadata": {},
     "output_type": "execute_result"
    }
   ],
   "source": [
    "H = forward_matrix\n",
    "(np.linalg.inv(H.T.dot(H))).dot(H.T)"
   ]
  },
  {
   "cell_type": "markdown",
   "metadata": {},
   "source": [
    "# Calibration"
   ]
  },
  {
   "cell_type": "markdown",
   "metadata": {},
   "source": [
    "### New big robot"
   ]
  },
  {
   "cell_type": "code",
   "execution_count": 16,
   "metadata": {},
   "outputs": [],
   "source": [
    "y_exp = 890\n",
    "y_true = 890 - 83 \n",
    "x_exp = 1719\n",
    "x_true = 1719 + 36\n",
    "a_exp = np.pi\n",
    "a_true = np.pi - 1 / 40"
   ]
  },
  {
   "cell_type": "code",
   "execution_count": 17,
   "metadata": {},
   "outputs": [],
   "source": [
    "k = np.array([x_exp / x_true, y_exp / y_true, a_exp / a_true])"
   ]
  },
  {
   "cell_type": "code",
   "execution_count": 18,
   "metadata": {},
   "outputs": [],
   "source": [
    "forward_matrix_1 = forward_matrix * k[np.newaxis, :]"
   ]
  },
  {
   "cell_type": "code",
   "execution_count": 19,
   "metadata": {},
   "outputs": [
    {
     "data": {
      "text/plain": [
       "array([[ 24.04868127,  27.07752606,  -5.85666637],\n",
       "       [ 30.82350247, -16.18349293,   4.53981119],\n",
       "       [-30.82350247, -16.18349293,  -4.53981119],\n",
       "       [-24.04868127,  27.07752606,   5.85666637]])"
      ]
     },
     "execution_count": 19,
     "metadata": {},
     "output_type": "execute_result"
    }
   ],
   "source": [
    "forward_matrix_1 * np.array([1, -1, 1, -1])[:, np.newaxis]"
   ]
  },
  {
   "cell_type": "code",
   "execution_count": 20,
   "metadata": {},
   "outputs": [
    {
     "data": {
      "text/plain": [
       "(array([[ 0.00783538, -0.01010818, -0.01010818,  0.00783538],\n",
       "        [ 0.01360546,  0.00813161, -0.00813161, -0.01360546],\n",
       "        [-0.05319911, -0.04150626, -0.04150626, -0.05319911]]),\n",
       " array([0.13159783, 0.36840217, 0.36840217, 0.13159783]),\n",
       " 3,\n",
       " array([55.28884046, 44.61160972, 10.47949063]))"
      ]
     },
     "execution_count": 20,
     "metadata": {},
     "output_type": "execute_result"
    }
   ],
   "source": [
    "np.linalg.lstsq(forward_matrix_1, np.eye(4), rcond=None)"
   ]
  },
  {
   "cell_type": "markdown",
   "metadata": {},
   "source": [
    "# Calibration data"
   ]
  },
  {
   "cell_type": "code",
   "execution_count": 21,
   "metadata": {},
   "outputs": [],
   "source": [
    "def cvt_local2global(local_point, sc_point):\n",
    "    point = np.zeros(3)\n",
    "    x, y, a = local_point\n",
    "    X, Y, A = sc_point\n",
    "    point[0] = x * np.cos(A) - y * np.sin(A) + X\n",
    "    point[1] = x * np.sin(A) + y * np.cos(A) + Y\n",
    "    point[2] = a + A\n",
    "    return point\n",
    "\n",
    "\n",
    "def cvt_global2local(global_point, sc_point):\n",
    "    point = np.zeros(3)\n",
    "    x, y, a = global_point\n",
    "    X, Y, A = sc_point\n",
    "    point[0] = x * np.cos(A) + y * np.sin(A) - X * np.cos(A) - Y * np.sin(A)\n",
    "    point[1] = -x * np.sin(A) + y * np.cos(A) + X * np.sin(A) - Y * np.cos(A)\n",
    "    point[2] = a - A\n",
    "    return point\n",
    "\n",
    "def get_movement(point):\n",
    "    x, y, a = point\n",
    "    R = np.sqrt(x ** 2 + y ** 2) / 2 / np.abs(np.sin(a / 2))\n",
    "    S = R * a\n",
    "    angle = np.arctan2(y, x) - a / 2\n",
    "    return np.array([S * np.cos(angle), S * np.sin(angle), a])"
   ]
  },
  {
   "cell_type": "code",
   "execution_count": 22,
   "metadata": {},
   "outputs": [],
   "source": [
    "import re"
   ]
  },
  {
   "cell_type": "code",
   "execution_count": 23,
   "metadata": {
    "run_control": {
     "marked": false
    }
   },
   "outputs": [],
   "source": [
    "points = []\n",
    "cmds = []\n",
    "with open(\"calibration_data.txt\", 'r') as file:\n",
    "    for line in file:\n",
    "        m = re.match('- Translation: \\[(.*)\\]', line[:-1]) \n",
    "        if m:        \n",
    "            points.append(np.zeros(3))\n",
    "            points[-1][0:2] = np.fromstring(m.group(1), sep=', ')[0:2]\n",
    "        m = re.match('[ ]*in RPY \\(radian\\) \\[(.*)\\]', line[:-1]) \n",
    "        if m:\n",
    "            points[-1][2] = np.fromstring(m.group(1), sep=', ')[2]\n",
    "        m = re.match('(-?[\\d]+.?[\\d]* -?[\\d]+.?[\\d]* -?[\\d]+.?[\\d]*)', line[:-1])\n",
    "        if m:\n",
    "            cmds.append(np.fromstring(m.group(1), sep=' ', dtype=np.float32))\n",
    "\n",
    "points_1 = np.array(points)\n",
    "cmds = np.array(cmds)"
   ]
  },
  {
   "cell_type": "code",
   "execution_count": 24,
   "metadata": {},
   "outputs": [],
   "source": [
    "points = np.array([cvt_global2local([0, 0, 0], p) for p in points_1])\n",
    "true_movements = np.array([get_movement(cvt_global2local(p2, p1)) for p1, p2 in zip(\n",
    "    points[:-1], np.roll(points, -1, axis=0)[:-1])])"
   ]
  },
  {
   "cell_type": "code",
   "execution_count": 25,
   "metadata": {},
   "outputs": [
    {
     "name": "stdout",
     "output_type": "stream",
     "text": [
      "[ 0.02 -0.03 -0.02]\n",
      "[ 0.01 -0.   -0.03]\n",
      "[ 0.1  -1.68 -3.07]\n",
      "[-1.63 -0.06  0.05]\n",
      "[ 0.    0.01 -0.02]\n",
      "[0.02 1.9  6.04]\n",
      "[-0.04 -0.04 -0.49]\n",
      "[ 0.04 -0.03 -0.41]\n",
      "[-1.99 -0.01  0.02]\n",
      "[ 0.02  0.03 -0.36]\n",
      "[0.45 0.02 5.72]\n",
      "[-0.01 -0.01 -0.57]\n",
      "[ 0.02 -2.01  0.02]\n",
      "[-0.8  -0.    0.01]\n",
      "[-0.    0.    0.01]\n",
      "[-0.  0. -0.]\n",
      "[ 0. -0.  0.]\n",
      "[-0.1   1.01 -0.05]\n",
      "[0.12 0.02 0.01]\n",
      "[ 0.01  0.01 -0.02]\n"
     ]
    }
   ],
   "source": [
    "true_movements.round(2)\n",
    "for i in range(len(cmds) - 1):\n",
    "    print((cmds[i] - true_movements[i]).round(2))"
   ]
  },
  {
   "cell_type": "code",
   "execution_count": 43,
   "metadata": {},
   "outputs": [],
   "source": [
    "errors = cmds[:-1] - true_movements\n",
    "conds = (np.abs(errors[:, 0]) < 0.1) * (np.abs(errors[:, 1]) < 0.1) *\\\n",
    "    (np.abs(errors[:, 2]) < 0.05)\n",
    "X = true_movements[conds]\n",
    "Y = cmds[:-1][conds]"
   ]
  },
  {
   "cell_type": "code",
   "execution_count": 44,
   "metadata": {},
   "outputs": [
    {
     "data": {
      "text/plain": [
       "array([[ 1.01, -0.  , -0.02],\n",
       "       [ 0.03,  0.97, -0.06],\n",
       "       [-0.  ,  0.01,  0.99]])"
      ]
     },
     "execution_count": 44,
     "metadata": {},
     "output_type": "execute_result"
    }
   ],
   "source": [
    "K = np.linalg.inv(X.T.dot(X)).dot(X.T).dot(Y)\n",
    "K.round(2)"
   ]
  },
  {
   "cell_type": "code",
   "execution_count": 45,
   "metadata": {},
   "outputs": [],
   "source": [
    "forward_matrix2 = forward_matrix_1.dot(K.T)"
   ]
  },
  {
   "cell_type": "code",
   "execution_count": 46,
   "metadata": {},
   "outputs": [
    {
     "data": {
      "text/plain": [
       "array([[ 24.4161859 ,  27.2213531 ,  -5.60133577],\n",
       "       [ 31.09554175, -15.04963672,   4.30557195],\n",
       "       [ 31.07573411,  16.22788419,   4.56069397],\n",
       "       [ 24.44932721, -25.11085301,  -6.02819498]])"
      ]
     },
     "execution_count": 46,
     "metadata": {},
     "output_type": "execute_result"
    }
   ],
   "source": [
    "forward_matrix2 * np.array([1, -1, -1, 1])[:, np.newaxis]"
   ]
  },
  {
   "cell_type": "code",
   "execution_count": 47,
   "metadata": {},
   "outputs": [
    {
     "data": {
      "text/plain": [
       "(array([[ 0.00726103, -0.01030299, -0.00983144,  0.00805   ],\n",
       "        [ 0.014515  ,  0.00874849, -0.00807217, -0.01362862],\n",
       "        [-0.0528441 , -0.04170392, -0.04277514, -0.05463641]]),\n",
       " array([0.13159783, 0.36840217, 0.36840217, 0.13159783]),\n",
       " 3,\n",
       " array([55.96902104, 43.07527339, 10.34349934]))"
      ]
     },
     "execution_count": 47,
     "metadata": {},
     "output_type": "execute_result"
    }
   ],
   "source": [
    "np.linalg.lstsq(forward_matrix2, np.eye(4), rcond=None)"
   ]
  },
  {
   "cell_type": "markdown",
   "metadata": {},
   "source": [
    "### With calibration but without not diagonal coefficients"
   ]
  },
  {
   "cell_type": "code",
   "execution_count": 52,
   "metadata": {},
   "outputs": [
    {
     "data": {
      "text/plain": [
       "array([[ 1.01, -0.  , -0.02],\n",
       "       [ 0.03,  0.97, -0.06],\n",
       "       [ 0.  ,  0.  ,  0.99]])"
      ]
     },
     "execution_count": 52,
     "metadata": {},
     "output_type": "execute_result"
    }
   ],
   "source": [
    "K1 = K.copy()\n",
    "K1[2, 0:2] = 0 \n",
    "K1.round(2)"
   ]
  },
  {
   "cell_type": "code",
   "execution_count": 59,
   "metadata": {},
   "outputs": [
    {
     "name": "stdout",
     "output_type": "stream",
     "text": [
      "[[ 24.4161859   27.2213531   -5.77869177]\n",
      " [ 31.09554175 -15.04963672   4.47936896]\n",
      " [ 31.07573411  16.22788419   4.47936896]\n",
      " [ 24.44932721 -25.11085301  -5.77869177]]\n",
      "[[ 0.00735153 -0.01023156 -0.00975818  0.00814357]\n",
      " [ 0.01408402  0.00840837 -0.00842103 -0.01407421]\n",
      " [-0.05287003 -0.04172438 -0.04279612 -0.05466322]]\n"
     ]
    }
   ],
   "source": [
    "get_kinematic_matrices(forward_matrix_1.dot(K1.T))"
   ]
  },
  {
   "cell_type": "code",
   "execution_count": null,
   "metadata": {},
   "outputs": [],
   "source": [
    "np.ndarray.to"
   ]
  }
 ],
 "metadata": {
  "kernelspec": {
   "display_name": "Python 2",
   "language": "python",
   "name": "python2"
  },
  "language_info": {
   "codemirror_mode": {
    "name": "ipython",
    "version": 3
   },
   "file_extension": ".py",
   "mimetype": "text/x-python",
   "name": "python",
   "nbconvert_exporter": "python",
   "pygments_lexer": "ipython3",
   "version": "3.4.6"
  },
  "notify_time": "10",
  "toc": {
   "nav_menu": {},
   "number_sections": true,
   "sideBar": true,
   "skip_h1_title": false,
   "toc_cell": false,
   "toc_position": {},
   "toc_section_display": "block",
   "toc_window_display": false
  }
 },
 "nbformat": 4,
 "nbformat_minor": 2
}
