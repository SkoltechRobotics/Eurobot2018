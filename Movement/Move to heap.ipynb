{
 "cells": [
  {
   "cell_type": "markdown",
   "metadata": {},
   "source": [
    "# Symbolic calculation"
   ]
  },
  {
   "cell_type": "code",
   "execution_count": 4,
   "metadata": {},
   "outputs": [],
   "source": [
    "import sympy\n",
    "from sympy import cos, sin\n",
    "sympy.init_printing()"
   ]
  },
  {
   "cell_type": "code",
   "execution_count": 5,
   "metadata": {},
   "outputs": [],
   "source": [
    "x0, y0, alpha0 = sympy.symbols(\"x_0, y_0, alpha_0\")\n",
    "x, y = sympy.symbols(\"x, y\")\n",
    "l, l1, l2, l3 = sympy.symbols(\"l, l_1, l_2, l_3\")\n",
    "r1, r2, r3, r4 = sympy.symbols(\"r_1, r_2, r_3, r_4\")\n",
    "r01, r02, r03, r04 = sympy.symbols(\"r0_1, r0_2, r0_3, r0_4\")\n",
    "# l_1 - distance between center and 1, 2 sensors\n",
    "# l_2 - distance along y axes from center to 3, 4 sensors\n",
    "# l - side of cubes\n",
    "L_x = sympy.Equality(sin(alpha0) * (x - x0) + cos(alpha0) * (y - y0), 0)\n",
    "L_y = sympy.Equality(cos(alpha0) * (x - x0) + sin(alpha0) * (y - y0), 0)"
   ]
  },
  {
   "cell_type": "code",
   "execution_count": 6,
   "metadata": {},
   "outputs": [],
   "source": [
    "x1, y1 = x0 + cos(alpha0) * 3 * l / 2, y0 + sin(alpha0) * 3 * l / 2\n",
    "x2, y2 = x0 - cos(alpha0) * 3 * l / 2, y0 - sin(alpha0) * 3 * l / 2\n",
    "x3, y3 = x0 - sin(alpha0) * l / 2, y0 + cos(alpha0) * l / 2\n",
    "L1 = sympy.Equality(cos(alpha0) * (x - x1) + sin(alpha0) * (y - y1), 0)\n",
    "L2 = sympy.Equality(cos(alpha0) * (x - x2) + sin(alpha0) * (y - y2), 0)\n",
    "L3 = sympy.Equality(sin(alpha0) * (x - x3) + cos(alpha0) * (y - y3), 0)"
   ]
  },
  {
   "cell_type": "code",
   "execution_count": 7,
   "metadata": {},
   "outputs": [],
   "source": [
    "r_c = [None, None, None, None]"
   ]
  },
  {
   "cell_type": "code",
   "execution_count": 8,
   "metadata": {},
   "outputs": [],
   "source": [
    "r_c[0] = r01 + 3 * l / 2 - sympy.solve(L1.subs(y, 0), x)[0]\n",
    "r_c[3] = r04 + 3 * l / 2 + sympy.solve(L2.subs(y, 0), x)[0]"
   ]
  },
  {
   "cell_type": "code",
   "execution_count": 9,
   "metadata": {},
   "outputs": [
    {
     "data": {
      "image/png": "[encoded data removed]",
      "text/latex": [
       "$$\\frac{3 l}{2} - \\frac{3 l}{2 \\cos{\\left (\\alpha_{0} \\right )}} + r_{0 1} - x_{0} - y_{0} \\tan{\\left (\\alpha_{0} \\right )}$$"
      ],
      "text/plain": [
       "3⋅l      3⋅l                            \n",
       "─── - ───────── + r₀ ₁ - x₀ - y₀⋅tan(α₀)\n",
       " 2    2⋅cos(α₀)                         "
      ]
     },
     "execution_count": 9,
     "metadata": {},
     "output_type": "execute_result"
    }
   ],
   "source": [
    "r_c[0]"
   ]
  },
  {
   "cell_type": "code",
   "execution_count": 10,
   "metadata": {},
   "outputs": [
    {
     "data": {
      "image/png": "[encoded data removed]",
      "text/latex": [
       "$$\\frac{3 l}{2} - \\frac{3 l}{2 \\cos{\\left (\\alpha_{0} \\right )}} + r_{0 4} + x_{0} + y_{0} \\tan{\\left (\\alpha_{0} \\right )}$$"
      ],
      "text/plain": [
       "3⋅l      3⋅l                            \n",
       "─── - ───────── + r₀ ₄ + x₀ + y₀⋅tan(α₀)\n",
       " 2    2⋅cos(α₀)                         "
      ]
     },
     "execution_count": 10,
     "metadata": {},
     "output_type": "execute_result"
    }
   ],
   "source": [
    "r_c[3]"
   ]
  },
  {
   "cell_type": "code",
   "execution_count": 11,
   "metadata": {},
   "outputs": [],
   "source": [
    "r_c[1] = r02 + l / 2 - sympy.solve(L3.subs(x, l2), y)[0]\n",
    "r_c[2] = r03 + l / 2 - sympy.solve(L3.subs(x, -l2), y)[0]"
   ]
  },
  {
   "cell_type": "code",
   "execution_count": 12,
   "metadata": {},
   "outputs": [
    {
     "data": {
      "image/png": "[encoded data removed]",
      "text/latex": [
       "$$- l \\cos{\\left (\\alpha_{0} \\right )} + \\frac{l}{2} + \\frac{l}{2 \\cos{\\left (\\alpha_{0} \\right )}} + l_{2} \\tan{\\left (\\alpha_{0} \\right )} + r_{0 2} - x_{0} \\tan{\\left (\\alpha_{0} \\right )} - y_{0}$$"
      ],
      "text/plain": [
       "             l       l                                          \n",
       "-l⋅cos(α₀) + ─ + ───────── + l₂⋅tan(α₀) + r₀ ₂ - x₀⋅tan(α₀) - y₀\n",
       "             2   2⋅cos(α₀)                                      "
      ]
     },
     "execution_count": 12,
     "metadata": {},
     "output_type": "execute_result"
    }
   ],
   "source": [
    "r_c[1]"
   ]
  },
  {
   "cell_type": "code",
   "execution_count": 13,
   "metadata": {},
   "outputs": [
    {
     "data": {
      "image/png": "[encoded data removed]",
      "text/latex": [
       "$$- l \\cos{\\left (\\alpha_{0} \\right )} + \\frac{l}{2} + \\frac{l}{2 \\cos{\\left (\\alpha_{0} \\right )}} - l_{2} \\tan{\\left (\\alpha_{0} \\right )} + r_{0 3} - x_{0} \\tan{\\left (\\alpha_{0} \\right )} - y_{0}$$"
      ],
      "text/plain": [
       "             l       l                                          \n",
       "-l⋅cos(α₀) + ─ + ───────── - l₂⋅tan(α₀) + r₀ ₃ - x₀⋅tan(α₀) - y₀\n",
       "             2   2⋅cos(α₀)                                      "
      ]
     },
     "execution_count": 13,
     "metadata": {},
     "output_type": "execute_result"
    }
   ],
   "source": [
    "r_c[2]"
   ]
  },
  {
   "cell_type": "code",
   "execution_count": 14,
   "metadata": {},
   "outputs": [],
   "source": [
    "r0s = [r01, r02, r03, r04]"
   ]
  },
  {
   "cell_type": "code",
   "execution_count": 15,
   "metadata": {},
   "outputs": [],
   "source": [
    "r_f = [sympy.lambdify((x0, y0, alpha0, l, l2, y_), x_) for x_, y_ in zip(r_c, r0s)]"
   ]
  },
  {
   "cell_type": "code",
   "execution_count": 16,
   "metadata": {},
   "outputs": [
    {
     "name": "stdout",
     "output_type": "stream",
     "text": [
      "[3*l/2 - 3*l/(2*cos(alpha_0)) + r0_1 - x_0 - y_0*tan(alpha_0), -l*cos(alpha_0) + l/2 + l/(2*cos(alpha_0)) + l_2*tan(alpha_0) + r0_2 - x_0*tan(alpha_0) - y_0, -l*cos(alpha_0) + l/2 + l/(2*cos(alpha_0)) - l_2*tan(alpha_0) + r0_3 - x_0*tan(alpha_0) - y_0, 3*l/2 - 3*l/(2*cos(alpha_0)) + r0_4 + x_0 + y_0*tan(alpha_0)]\n"
     ]
    }
   ],
   "source": [
    "print(r_c)"
   ]
  },
  {
   "cell_type": "markdown",
   "metadata": {},
   "source": [
    "# Numeric "
   ]
  },
  {
   "cell_type": "code",
   "execution_count": 17,
   "metadata": {},
   "outputs": [],
   "source": [
    "import scipy.optimize\n",
    "import numpy as np"
   ]
  },
  {
   "cell_type": "code",
   "execution_count": 18,
   "metadata": {},
   "outputs": [],
   "source": [
    "l = 58\n",
    "l2 = 125 / 2\n",
    "r0s = np.array([35, 85, 85, 35])\n",
    "rs = np.array([33, 95, 75, 33])"
   ]
  },
  {
   "cell_type": "code",
   "execution_count": 19,
   "metadata": {},
   "outputs": [],
   "source": [
    "def fun(X, l, l2, r0s, rs):\n",
    "    return np.array([f_(X[0], X[1], X[2], l, l2, r0_) - r_ for f_, r0_, r_\n",
    "                     in zip(r_f, r0s, rs)])"
   ]
  },
  {
   "cell_type": "code",
   "execution_count": 20,
   "metadata": {},
   "outputs": [
    {
     "data": {
      "text/plain": [
       "array([  2., -10.,  10.,   2.])"
      ]
     },
     "execution_count": 20,
     "metadata": {},
     "output_type": "execute_result"
    }
   ],
   "source": [
    "fun([0, 0, 0], l, l2, r0s, rs)"
   ]
  },
  {
   "cell_type": "code",
   "execution_count": 21,
   "metadata": {},
   "outputs": [],
   "source": [
    "x, y, a = scipy.optimize.least_squares(fun, np.array([0, 0, 0]), \n",
    "                             bounds=[(-30, -30, -np.pi / 6), (30, 30, np.pi / 6)], \n",
    "                             args=[l, l2, r0s, rs]).x"
   ]
  },
  {
   "cell_type": "markdown",
   "metadata": {},
   "source": [
    "# Movement"
   ]
  },
  {
   "cell_type": "code",
   "execution_count": 22,
   "metadata": {},
   "outputs": [],
   "source": [
    "def get_movement(point):\n",
    "    x, y, a = point\n",
    "    R = np.sqrt(x ** 2 + y ** 2) / 2 / np.sin(a / 2)\n",
    "    S = R * a\n",
    "    angle = np.arctan2(y, x) + np.pi - a / 2\n",
    "    return np.array([S * np.cos(angle), S * np.sin(angle), a])"
   ]
  },
  {
   "cell_type": "code",
   "execution_count": 20,
   "metadata": {},
   "outputs": [
    {
     "ename": "NameError",
     "evalue": "name 'X' is not defined",
     "output_type": "error",
     "traceback": [
      "\u001b[0;31m---------------------------------------------------------------------------\u001b[0m",
      "\u001b[0;31mNameError\u001b[0m                                 Traceback (most recent call last)",
      "\u001b[0;32m<ipython-input-20-bbbb9ee81b65>\u001b[0m in \u001b[0;36m<module>\u001b[0;34m()\u001b[0m\n\u001b[0;32m----> 1\u001b[0;31m \u001b[0mX\u001b[0m\u001b[0;34m,\u001b[0m \u001b[0mY\u001b[0m\u001b[0;34m,\u001b[0m \u001b[0mA\u001b[0m\u001b[0;34m\u001b[0m\u001b[0m\n\u001b[0m",
      "\u001b[0;31mNameError\u001b[0m: name 'X' is not defined"
     ]
    }
   ],
   "source": [
    "X, Y, A"
   ]
  },
  {
   "cell_type": "code",
   "execution_count": 138,
   "metadata": {},
   "outputs": [
    {
     "data": {
      "text/plain": [
       "array(<map object at 0x7f3f67c5b438>, dtype=object)"
      ]
     },
     "execution_count": 138,
     "metadata": {},
     "output_type": "execute_result"
    }
   ],
   "source": [
    "sensors"
   ]
  },
  {
   "cell_type": "markdown",
   "metadata": {},
   "source": [
    "# Test movements on robot"
   ]
  },
  {
   "cell_type": "code",
   "execution_count": 1,
   "metadata": {},
   "outputs": [],
   "source": [
    "import sys\n",
    "sys.path.insert(0, r\"/home/mikhail/catkin_ws/src/ros-eurobot-2018/eurobot/scripts/stm_node\")\n",
    "import STMprotocol\n",
    "import serial\n",
    "import time"
   ]
  },
  {
   "cell_type": "code",
   "execution_count": null,
   "metadata": {},
   "outputs": [],
   "source": [
    "protocol = STMprotocol.STMprotocol(\"/dev/USB0\")"
   ]
  },
  {
   "cell_type": "code",
   "execution_count": null,
   "metadata": {},
   "outputs": [],
   "source": [
    "protocol.pure_send_command(0x01, [ord(c) for c in 'ECHO'])"
   ]
  },
  {
   "cell_type": "code",
   "execution_count": 29,
   "metadata": {},
   "outputs": [],
   "source": [
    "ser = serial.Serial(\"/dev/ttyACM0\", timeout=0.02)"
   ]
  },
  {
   "cell_type": "code",
   "execution_count": 52,
   "metadata": {
    "run_control": {
     "marked": true
    }
   },
   "outputs": [
    {
     "name": "stdout",
     "output_type": "stream",
     "text": [
      "b' \\r\\n'\n",
      "[34.85098836 83.39739216 93.39310996 26.95671366]\n",
      "b'\\r\\n'\n",
      "[34.85098836 83.39739216 93.39310996 26.95671366]\n",
      "b'255 77 102 31 \\r\\n'\n",
      "[100.89569185  81.47817451  95.97517698  28.16969956]\n",
      "b'255 77 101 29 \\r\\n'\n",
      "[147.1269843   80.13472216  97.48262388  28.41878969]\n",
      "b'255 78 101 32 \\r\\n'\n",
      "[179.48888901  79.49430551  98.53783672  29.49315279]\n",
      "b'255 78 103 30 \\r\\n'\n",
      "[202.14222231  79.04601386  99.8764857   29.64520695]\n",
      "b'255 75 103 29 \\r\\n'\n",
      "[217.99955561  77.8322097  100.81353999  29.45164487]\n",
      "b'255 78 100 29 \\r\\n'\n",
      "[229.09968893  77.88254679 100.56947799  29.31615141]\n",
      "b'255 77 101 31 \\r\\n'\n",
      "[236.86978225  77.61778275 100.6986346   29.82130598]\n",
      "b'255 78 102 31 \\r\\n'\n",
      "[242.30884758  77.73244793 101.08904422  30.17491419]\n"
     ]
    }
   ],
   "source": [
    "rs = r0s\n",
    "ser.reset_input_buffer()\n",
    "for i in range(10):\n",
    "    s = ser.readline()\n",
    "    print(s)\n",
    "    try:\n",
    "        sensors1 = np.array(list(map(int, s.split())))\n",
    "    except ValueError:\n",
    "        sensors1 = r0s\n",
    "    try:\n",
    "        rs_1 = rs * 0.7 + sensors1 * 0.3\n",
    "    except ValueError:\n",
    "        pass\n",
    "    else:\n",
    "        rs = rs_1\n",
    "    time.sleep(0.01)\n",
    "    print(rs)"
   ]
  },
  {
   "cell_type": "code",
   "execution_count": 26,
   "metadata": {},
   "outputs": [
    {
     "data": {
      "text/plain": [
       "array([34.85098836, 83.39739216, 93.39310996, 26.95671366])"
      ]
     },
     "execution_count": 26,
     "metadata": {},
     "output_type": "execute_result"
    }
   ],
   "source": [
    "r0s = rs\n",
    "r0s"
   ]
  },
  {
   "cell_type": "code",
   "execution_count": 35,
   "metadata": {},
   "outputs": [
    {
     "data": {
      "text/plain": [
       "array([30.52341561, 89.57029471, 79.43071849, 25.68300547])"
      ]
     },
     "execution_count": 35,
     "metadata": {},
     "output_type": "execute_result"
    }
   ],
   "source": [
    "r0s"
   ]
  },
  {
   "cell_type": "code",
   "execution_count": 53,
   "metadata": {
    "run_control": {
     "marked": true
    }
   },
   "outputs": [
    {
     "data": {
      "text/plain": [
       "array([-4.99999696e+01, -9.48848562e-01, -2.36393793e-02])"
      ]
     },
     "execution_count": 53,
     "metadata": {},
     "output_type": "execute_result"
    }
   ],
   "source": [
    "point = scipy.optimize.least_squares(fun, np.array([0, 0, 0]), \n",
    "                             bounds=[(-50, -50, -np.pi / 6), (50, 50, np.pi / 6)], \n",
    "                             args=[l, l2, r0s, rs]).x\n",
    "point"
   ]
  },
  {
   "cell_type": "code",
   "execution_count": 54,
   "metadata": {
    "run_control": {
     "marked": true
    }
   },
   "outputs": [
    {
     "data": {
      "text/plain": [
       "array([ 4.99864260e+01,  1.53978850e+00, -2.36393793e-02])"
      ]
     },
     "execution_count": 54,
     "metadata": {},
     "output_type": "execute_result"
    }
   ],
   "source": [
    "get_movement(point)"
   ]
  }
 ],
 "metadata": {
  "kernelspec": {
   "display_name": "Python 3",
   "language": "python",
   "name": "python3"
  },
  "language_info": {
   "codemirror_mode": {
    "name": "ipython",
    "version": 3
   },
   "file_extension": ".py",
   "mimetype": "text/x-python",
   "name": "python",
   "nbconvert_exporter": "python",
   "pygments_lexer": "ipython3",
   "version": "3.5.2"
  },
  "toc": {
   "nav_menu": {},
   "number_sections": true,
   "sideBar": true,
   "skip_h1_title": false,
   "toc_cell": false,
   "toc_position": {},
   "toc_section_display": "block",
   "toc_window_display": false
  }
 },
 "nbformat": 4,
 "nbformat_minor": 2
}
