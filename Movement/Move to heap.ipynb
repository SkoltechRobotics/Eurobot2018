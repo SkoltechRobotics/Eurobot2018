{
 "cells": [
  {
   "cell_type": "code",
   "execution_count": null,
   "metadata": {},
   "outputs": [],
   "source": [
    "l1 = 22.5\n",
    "l2 = 12.5\n",
    "r01 = 1.5\n",
    "r02 = 7.5\n",
    "r03 = 7.5\n",
    "r04 = 1.5\n",
    "rangefinders = np.array([])"
   ]
  },
  {
   "cell_type": "code",
   "execution_count": 30,
   "metadata": {},
   "outputs": [],
   "source": [
    "import sympy\n",
    "from sympy import cos, sin\n",
    "sympy.init_printing()"
   ]
  },
  {
   "cell_type": "code",
   "execution_count": 43,
   "metadata": {},
   "outputs": [],
   "source": [
    "x0, y0, alpha0 = sympy.symbols(\"x_0, y_0, alpha_0\")\n",
    "x, y = sympy.symbols(\"x, y\")\n",
    "l, l1, l2, l3 = sympy.symbols(\"l, l_1, l_2, l_3\")\n",
    "r1, r2, r3, r4 = sympy.symbols(\"r_1, r_2, r_3, r_4\")\n",
    "# l_1 - distance between center and 1, 2 sensors\n",
    "# l_2 - distance along y axes from center to 3, 4 sensors\n",
    "# l\n",
    "L_x = sympy.Equality(sin(alpha0) * (x - x0) + cos(alpha0) * (y - y0), 0)\n",
    "L_y = sympy.Equality(cos(alpha0) * (x - x0) + sin(alpha0) * (y - y0), 0)"
   ]
  },
  {
   "cell_type": "code",
   "execution_count": 44,
   "metadata": {},
   "outputs": [],
   "source": [
    "x1, y1 = x0 + cos(alpha0) * 3 * l / 2, y0 + sin(alpha0) * 3 * l / 2\n",
    "x2, y2 = x0 - cos(alpha0) * 3 * l / 2, y0 - sin(alpha0) * 3 * l / 2\n",
    "x3, y3 = x0 - sin(alpha0) * l / 2, y0 + cos(alpha0) * l / 2\n",
    "L1 = sympy.Equality(cos(alpha0) * (x - x1) + sin(alpha0) * (y - y1), 0)\n",
    "L2 = sympy.Equality(cos(alpha0) * (x - x2) + sin(alpha0) * (y - y2), 0)\n",
    "L3 = sympy.Equality(sin(alpha0) * (x - x3) + cos(alpha0) * (y - y3), 0)"
   ]
  },
  {
   "cell_type": "code",
   "execution_count": 45,
   "metadata": {},
   "outputs": [],
   "source": [
    "r1_c = l1 - sympy.solve(L1.subs(y, 0), x)[0]\n",
    "r2_c = l1 + sympy.solve(L2.subs(y, 0), x)[0]"
   ]
  },
  {
   "cell_type": "code",
   "execution_count": 46,
   "metadata": {},
   "outputs": [
    {
     "data": {
      "image/png": "[encoded data removed]",
      "text/latex": [
       "$$l \\sin{\\left (\\alpha_{0} \\right )} - \\frac{l}{2 \\sin{\\left (\\alpha_{0} \\right )}} + \\frac{l_{2}}{\\tan{\\left (\\alpha_{0} \\right )}} + l_{3} - x_{0} - \\frac{y_{0}}{\\tan{\\left (\\alpha_{0} \\right )}}$$"
      ],
      "text/plain": [
       "                l          l₂                  y₀  \n",
       "l⋅sin(α₀) - ───────── + ─────── + l₃ - x₀ - ───────\n",
       "            2⋅sin(α₀)   tan(α₀)             tan(α₀)"
      ]
     },
     "execution_count": 46,
     "metadata": {},
     "output_type": "execute_result"
    }
   ],
   "source": [
    "l3 - sympy.solve(L3.subs(y, l2), x)[0]"
   ]
  },
  {
   "cell_type": "code",
   "execution_count": 40,
   "metadata": {},
   "outputs": [
    {
     "data": {
      "image/png": "[encoded data removed]",
      "text/latex": [
       "$$- \\frac{3 l}{2 \\cos{\\left (\\alpha_{0} \\right )}} + l_{1} - x_{0} - y_{0} \\tan{\\left (\\alpha_{0} \\right )}$$"
      ],
      "text/plain": [
       "     3⋅l                          \n",
       "- ───────── + l₁ - x₀ - y₀⋅tan(α₀)\n",
       "  2⋅cos(α₀)                       "
      ]
     },
     "execution_count": 40,
     "metadata": {},
     "output_type": "execute_result"
    }
   ],
   "source": [
    "r1_c"
   ]
  },
  {
   "cell_type": "code",
   "execution_count": null,
   "metadata": {},
   "outputs": [],
   "source": []
  }
 ],
 "metadata": {
  "kernelspec": {
   "display_name": "Python 3",
   "language": "python",
   "name": "python3"
  },
  "language_info": {
   "codemirror_mode": {
    "name": "ipython",
    "version": 3
   },
   "file_extension": ".py",
   "mimetype": "text/x-python",
   "name": "python",
   "nbconvert_exporter": "python",
   "pygments_lexer": "ipython3",
   "version": "3.5.2"
  },
  "toc": {
   "nav_menu": {},
   "number_sections": true,
   "sideBar": true,
   "skip_h1_title": false,
   "toc_cell": false,
   "toc_position": {},
   "toc_section_display": "block",
   "toc_window_display": false
  }
 },
 "nbformat": 4,
 "nbformat_minor": 2
}
