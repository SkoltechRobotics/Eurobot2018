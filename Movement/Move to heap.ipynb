{
 "cells": [
  {
   "cell_type": "markdown",
   "metadata": {},
   "source": [
    "# Symbolic calculation"
   ]
  },
  {
   "cell_type": "code",
   "execution_count": 1,
   "metadata": {},
   "outputs": [],
   "source": [
    "import sympy\n",
    "from sympy import cos, sin\n",
    "sympy.init_printing()"
   ]
  },
  {
   "cell_type": "code",
   "execution_count": 234,
   "metadata": {},
   "outputs": [],
   "source": [
    "x0, y0, alpha0 = sympy.symbols(\"x_0, y_0, alpha_0\")\n",
    "x, y = sympy.symbols(\"x, y\")\n",
    "l, l1, l2, l3 = sympy.symbols(\"l, l_1, l_2, l_3\")\n",
    "r1, r2, r3, r4 = sympy.symbols(\"r_1, r_2, r_3, r_4\")\n",
    "r01, r02, r03, r04 = sympy.symbols(\"r0_1, r0_2, r0_3, r0_4\")\n",
    "# l_1 - distance between center and 1, 2 sensors\n",
    "# l_2 - distance along y axes from center to 3, 4 sensors\n",
    "# l - side of cubes\n",
    "L_x = sympy.Equality(sin(alpha0) * (x - x0) + cos(alpha0) * (y - y0), 0)\n",
    "L_y = sympy.Equality(cos(alpha0) * (x - x0) + sin(alpha0) * (y - y0), 0)"
   ]
  },
  {
   "cell_type": "code",
   "execution_count": 235,
   "metadata": {},
   "outputs": [],
   "source": [
    "x1, y1 = x0 + cos(alpha0) * 3 * l / 2, y0 + sin(alpha0) * 3 * l / 2\n",
    "x2, y2 = x0 - cos(alpha0) * 3 * l / 2, y0 - sin(alpha0) * 3 * l / 2\n",
    "x3, y3 = x0 - sin(alpha0) * l / 2, y0 + cos(alpha0) * l / 2\n",
    "L1 = sympy.Equality(cos(alpha0) * (x - x1) + sin(alpha0) * (y - y1), 0)\n",
    "L2 = sympy.Equality(cos(alpha0) * (x - x2) + sin(alpha0) * (y - y2), 0)\n",
    "L3 = sympy.Equality(-sin(alpha0) * (x - x3) + cos(alpha0) * (y - y3), 0)"
   ]
  },
  {
   "cell_type": "code",
   "execution_count": 236,
   "metadata": {},
   "outputs": [],
   "source": [
    "r_c = [None, None, None, None]"
   ]
  },
  {
   "cell_type": "code",
   "execution_count": 237,
   "metadata": {},
   "outputs": [],
   "source": [
    "r_c[0] = r01 + 3 * l / 2 - sympy.solve(L1.subs(y, 0), x)[0]\n",
    "r_c[3] = r04 + 3 * l / 2 + sympy.solve(L2.subs(y, 0), x)[0]"
   ]
  },
  {
   "cell_type": "code",
   "execution_count": 238,
   "metadata": {},
   "outputs": [
    {
     "data": {
      "image/png": "[encoded data removed]",
      "text/latex": [
       "$$\\frac{3 l}{2} - \\frac{3 l}{2 \\cos{\\left (\\alpha_{0} \\right )}} + r_{0 1} - x_{0} - y_{0} \\tan{\\left (\\alpha_{0} \\right )}$$"
      ],
      "text/plain": [
       "3⋅l      3⋅l                            \n",
       "─── - ───────── + r₀ ₁ - x₀ - y₀⋅tan(α₀)\n",
       " 2    2⋅cos(α₀)                         "
      ]
     },
     "execution_count": 238,
     "metadata": {},
     "output_type": "execute_result"
    }
   ],
   "source": [
    "r_c[0]"
   ]
  },
  {
   "cell_type": "code",
   "execution_count": 239,
   "metadata": {},
   "outputs": [
    {
     "data": {
      "image/png": "[encoded data removed]",
      "text/latex": [
       "$$\\frac{3 l}{2} - \\frac{3 l}{2 \\cos{\\left (\\alpha_{0} \\right )}} + r_{0 4} + x_{0} + y_{0} \\tan{\\left (\\alpha_{0} \\right )}$$"
      ],
      "text/plain": [
       "3⋅l      3⋅l                            \n",
       "─── - ───────── + r₀ ₄ + x₀ + y₀⋅tan(α₀)\n",
       " 2    2⋅cos(α₀)                         "
      ]
     },
     "execution_count": 239,
     "metadata": {},
     "output_type": "execute_result"
    }
   ],
   "source": [
    "r_c[3]"
   ]
  },
  {
   "cell_type": "code",
   "execution_count": 240,
   "metadata": {},
   "outputs": [],
   "source": [
    "r_c[1] = r02 + l / 2 - sympy.solve(L3.subs(x, l2), y)[0]\n",
    "r_c[2] = r03 + l / 2 - sympy.solve(L3.subs(x, -l2), y)[0]"
   ]
  },
  {
   "cell_type": "code",
   "execution_count": 241,
   "metadata": {},
   "outputs": [
    {
     "data": {
      "image/png": "[encoded data removed]",
      "text/latex": [
       "$$\\frac{l}{2} - \\frac{l}{2 \\cos{\\left (\\alpha_{0} \\right )}} - l_{2} \\tan{\\left (\\alpha_{0} \\right )} + r_{0 2} + x_{0} \\tan{\\left (\\alpha_{0} \\right )} - y_{0}$$"
      ],
      "text/plain": [
       "l       l                                          \n",
       "─ - ───────── - l₂⋅tan(α₀) + r₀ ₂ + x₀⋅tan(α₀) - y₀\n",
       "2   2⋅cos(α₀)                                      "
      ]
     },
     "execution_count": 241,
     "metadata": {},
     "output_type": "execute_result"
    }
   ],
   "source": [
    "r_c[1]"
   ]
  },
  {
   "cell_type": "code",
   "execution_count": 242,
   "metadata": {},
   "outputs": [
    {
     "data": {
      "image/png": "[encoded data removed]",
      "text/latex": [
       "$$\\frac{l}{2} - \\frac{l}{2 \\cos{\\left (\\alpha_{0} \\right )}} + l_{2} \\tan{\\left (\\alpha_{0} \\right )} + r_{0 3} + x_{0} \\tan{\\left (\\alpha_{0} \\right )} - y_{0}$$"
      ],
      "text/plain": [
       "l       l                                          \n",
       "─ - ───────── + l₂⋅tan(α₀) + r₀ ₃ + x₀⋅tan(α₀) - y₀\n",
       "2   2⋅cos(α₀)                                      "
      ]
     },
     "execution_count": 242,
     "metadata": {},
     "output_type": "execute_result"
    }
   ],
   "source": [
    "r_c[2]"
   ]
  },
  {
   "cell_type": "code",
   "execution_count": 243,
   "metadata": {},
   "outputs": [],
   "source": [
    "r0s = [r01, r02, r03, r04]"
   ]
  },
  {
   "cell_type": "code",
   "execution_count": 244,
   "metadata": {},
   "outputs": [],
   "source": [
    "r_f = [sympy.lambdify((x0, y0, alpha0, l, l2, y_), x_) for x_, y_ in zip(r_c, r0s)]"
   ]
  },
  {
   "cell_type": "code",
   "execution_count": 312,
   "metadata": {},
   "outputs": [
    {
     "name": "stdout",
     "output_type": "stream",
     "text": [
      "3*l/2 - 3*l/(2*cos(alpha_0)) + r0_1 - x_0 - y_0*tan(alpha_0)\n",
      "l/2 - l/(2*cos(alpha_0)) - l_2*tan(alpha_0) + r0_2 + x_0*tan(alpha_0) - y_0\n",
      "l/2 - l/(2*cos(alpha_0)) + l_2*tan(alpha_0) + r0_3 + x_0*tan(alpha_0) - y_0\n",
      "3*l/2 - 3*l/(2*cos(alpha_0)) + r0_4 + x_0 + y_0*tan(alpha_0)\n"
     ]
    }
   ],
   "source": [
    "for i in range(4):\n",
    "    print(r_c[i])"
   ]
  },
  {
   "cell_type": "markdown",
   "metadata": {},
   "source": [
    "## Linear case"
   ]
  },
  {
   "cell_type": "code",
   "execution_count": 246,
   "metadata": {},
   "outputs": [
    {
     "data": {
      "text/latex": [
       "$$\\left[\\begin{matrix}-1 & 0 & 0\\\\0 & -1 & - l_{2}\\\\0 & -1 & l_{2}\\\\1 & 0 & 0\\end{matrix}\\right]$$"
      ],
      "text/plain": [
       "⎡-1  0    0 ⎤\n",
       "⎢           ⎥\n",
       "⎢0   -1  -l₂⎥\n",
       "⎢           ⎥\n",
       "⎢0   -1  l₂ ⎥\n",
       "⎢           ⎥\n",
       "⎣1   0    0 ⎦"
      ]
     },
     "execution_count": 246,
     "metadata": {},
     "output_type": "execute_result"
    }
   ],
   "source": [
    "init_params = [(x0, 0), (y0, 0), (alpha0, 0)]\n",
    "A_c = sympy.Matrix([[sympy.diff(expr, x_).subs(init_params) for expr in r_c]\n",
    "              for x_ in [x0, y0, alpha0]]).T\n",
    "A_c"
   ]
  },
  {
   "cell_type": "code",
   "execution_count": 247,
   "metadata": {},
   "outputs": [],
   "source": [
    "A = sympy.lambdify(l2, A_c)"
   ]
  },
  {
   "cell_type": "code",
   "execution_count": 248,
   "metadata": {},
   "outputs": [],
   "source": [
    "A_common = sympy.simplify(sympy.Matrix([[sympy.diff(expr, x_) for expr in r_c]\n",
    "              for x_ in [x0, y0, alpha0]]).T)\n",
    "A_common = sympy.lambdify((x0, y0, alpha0, l, l2), A_common)"
   ]
  },
  {
   "cell_type": "markdown",
   "metadata": {},
   "source": [
    "## Second order case"
   ]
  },
  {
   "cell_type": "code",
   "execution_count": 249,
   "metadata": {},
   "outputs": [
    {
     "data": {
      "text/latex": [
       "$$\\left [ \\left[\\begin{matrix}0 & 0 & 0\\\\0 & 0 & -1\\\\0 & -1 & - \\frac{3 l}{2}\\end{matrix}\\right], \\quad \\left[\\begin{matrix}0 & 0 & 1\\\\0 & 0 & 0\\\\1 & 0 & - \\frac{l}{2}\\end{matrix}\\right], \\quad \\left[\\begin{matrix}0 & 0 & 1\\\\0 & 0 & 0\\\\1 & 0 & - \\frac{l}{2}\\end{matrix}\\right], \\quad \\left[\\begin{matrix}0 & 0 & 0\\\\0 & 0 & 1\\\\0 & 1 & - \\frac{3 l}{2}\\end{matrix}\\right]\\right ]$$"
      ],
      "text/plain": [
       "⎡⎡0  0     0  ⎤  ⎡0  0   1 ⎤  ⎡0  0   1 ⎤  ⎡0  0    0  ⎤⎤\n",
       "⎢⎢            ⎥  ⎢         ⎥  ⎢         ⎥  ⎢           ⎥⎥\n",
       "⎢⎢0  0    -1  ⎥  ⎢0  0   0 ⎥  ⎢0  0   0 ⎥  ⎢0  0    1  ⎥⎥\n",
       "⎢⎢            ⎥, ⎢         ⎥, ⎢         ⎥, ⎢           ⎥⎥\n",
       "⎢⎢       -3⋅l ⎥  ⎢      -l ⎥  ⎢      -l ⎥  ⎢      -3⋅l ⎥⎥\n",
       "⎢⎢0  -1  ─────⎥  ⎢1  0  ───⎥  ⎢1  0  ───⎥  ⎢0  1  ─────⎥⎥\n",
       "⎣⎣         2  ⎦  ⎣       2 ⎦  ⎣       2 ⎦  ⎣        2  ⎦⎦"
      ]
     },
     "execution_count": 249,
     "metadata": {},
     "output_type": "execute_result"
    }
   ],
   "source": [
    "A2_c = [None, None, None, None]\n",
    "for i in range(4):\n",
    "    A2_c[i] = sympy.Matrix([[sympy.diff(r_c[i], x_, y_).subs(init_params) for x_ in \n",
    "                          [x0, y0, alpha0]] for y_ in [x0, y0, alpha0]]).T\n",
    "A2_c"
   ]
  },
  {
   "cell_type": "markdown",
   "metadata": {},
   "source": [
    "## Itarative method"
   ]
  },
  {
   "cell_type": "markdown",
   "metadata": {},
   "source": [
    "# Numeric "
   ]
  },
  {
   "cell_type": "code",
   "execution_count": 251,
   "metadata": {},
   "outputs": [],
   "source": [
    "import scipy.optimize\n",
    "import numpy as np"
   ]
  },
  {
   "cell_type": "code",
   "execution_count": 252,
   "metadata": {},
   "outputs": [],
   "source": [
    "l = 58\n",
    "l2 = 125 / 2\n",
    "r0s = np.array([35, 85, 85, 35])\n",
    "rs = np.array([5, 95, 75, 55])"
   ]
  },
  {
   "cell_type": "code",
   "execution_count": 314,
   "metadata": {},
   "outputs": [],
   "source": [
    "rs1 = np.array([r_f[i](20, 40, 0.15, l, l2, r0s[i]) for i in range(4)])\n",
    "rs = rs1"
   ]
  },
  {
   "cell_type": "code",
   "execution_count": 315,
   "metadata": {},
   "outputs": [],
   "source": [
    "def fun(X, l, l2, r0s, rs):\n",
    "    return np.array([f_(X[0], X[1], X[2], l, l2, r0_) - r_ for f_, r0_, r_\n",
    "                     in zip(r_f, r0s, rs)])"
   ]
  },
  {
   "cell_type": "code",
   "execution_count": 316,
   "metadata": {},
   "outputs": [
    {
     "data": {
      "text/plain": [
       "array([ 27.03341923,  46.75258361,  27.86068135, -25.05739821])"
      ]
     },
     "execution_count": 316,
     "metadata": {},
     "output_type": "execute_result"
    }
   ],
   "source": [
    "fun([0, 0, 0], l, l2, r0s, rs)"
   ]
  },
  {
   "cell_type": "code",
   "execution_count": 317,
   "metadata": {},
   "outputs": [
    {
     "data": {
      "text/plain": [
       "array([21.441, 30.   ,  0.116])"
      ]
     },
     "execution_count": 317,
     "metadata": {},
     "output_type": "execute_result"
    }
   ],
   "source": [
    "X_true = scipy.optimize.least_squares(fun, np.array([0, 0, 0]), \n",
    "                             bounds=[(-30, -30, -np.pi / 6), (30, 30, np.pi / 6)], \n",
    "                             args=[l, l2, r0s, rs]).x\n",
    "X_true.round(3)"
   ]
  },
  {
   "cell_type": "markdown",
   "metadata": {},
   "source": [
    "## Linear case"
   ]
  },
  {
   "cell_type": "code",
   "execution_count": 318,
   "metadata": {},
   "outputs": [
    {
     "data": {
      "text/plain": [
       "array([[ -1. ,   0. ,   0. ],\n",
       "       [  0. ,  -1. , -62.5],\n",
       "       [  0. ,  -1. ,  62.5],\n",
       "       [  1. ,   0. ,   0. ]])"
      ]
     },
     "execution_count": 318,
     "metadata": {},
     "output_type": "execute_result"
    }
   ],
   "source": [
    "A(l2)"
   ]
  },
  {
   "cell_type": "code",
   "execution_count": 319,
   "metadata": {},
   "outputs": [
    {
     "data": {
      "text/plain": [
       "array([[-0.5  ,  0.   ,  0.   ,  0.5  ],\n",
       "       [ 0.   , -0.5  , -0.5  ,  0.   ],\n",
       "       [ 0.   , -0.008,  0.008,  0.   ]])"
      ]
     },
     "execution_count": 319,
     "metadata": {},
     "output_type": "execute_result"
    }
   ],
   "source": [
    "A_r = np.linalg.lstsq(A(l2), np.eye(4), rcond=None)[0]\n",
    "A_r.round(4)"
   ]
  },
  {
   "cell_type": "code",
   "execution_count": 320,
   "metadata": {},
   "outputs": [
    {
     "data": {
      "text/plain": [
       "array([26.045, 37.307,  0.151])"
      ]
     },
     "execution_count": 320,
     "metadata": {},
     "output_type": "execute_result"
    }
   ],
   "source": [
    "X = A_r.dot((rs - r0s)[:, np.newaxis])[:, 0]\n",
    "X.round(3)"
   ]
  },
  {
   "cell_type": "markdown",
   "metadata": {},
   "source": [
    "## Iterative"
   ]
  },
  {
   "cell_type": "code",
   "execution_count": 321,
   "metadata": {},
   "outputs": [
    {
     "data": {
      "text/plain": [
       "array([19.85919783, 40.05454498,  0.1500006 ])"
      ]
     },
     "execution_count": 321,
     "metadata": {},
     "output_type": "execute_result"
    }
   ],
   "source": [
    "df1 = fun(X, l, l2, r0s, rs)\n",
    "X = [0, 0, 0]\n",
    "for i in range(3):\n",
    "    f = fun(X, l, l2, r0s, rs)\n",
    "#     A_r = A_common(X[0], X[1], X[2], l, l2)\n",
    "#     A_r = np.linalg.lstsq(A_r, np.eye(4), rcond=None)[0]\n",
    "    dX = A_r.dot(f[:, np.newaxis])[:, 0]\n",
    "    X = X - dX\n",
    "X"
   ]
  },
  {
   "cell_type": "markdown",
   "metadata": {},
   "source": [
    "# Movement"
   ]
  },
  {
   "cell_type": "code",
   "execution_count": 322,
   "metadata": {},
   "outputs": [],
   "source": [
    "def get_movement(point):\n",
    "    x, y, a = point\n",
    "    R = np.sqrt(x ** 2 + y ** 2) / 2 / np.sin(a / 2)\n",
    "    S = R * a\n",
    "    angle = np.arctan2(y, x) + np.pi - a / 2\n",
    "    return np.array([S * np.cos(angle), S * np.sin(angle), a])"
   ]
  },
  {
   "cell_type": "code",
   "execution_count": 323,
   "metadata": {},
   "outputs": [
    {
     "data": {
      "text/plain": [
       "array([-22.8260504 , -38.48996817,   0.1500006 ])"
      ]
     },
     "execution_count": 323,
     "metadata": {},
     "output_type": "execute_result"
    }
   ],
   "source": [
    "get_movement(np.array(X))"
   ]
  },
  {
   "cell_type": "markdown",
   "metadata": {},
   "source": [
    "# Test movements on robot"
   ]
  },
  {
   "cell_type": "code",
   "execution_count": 22,
   "metadata": {},
   "outputs": [],
   "source": [
    "import sys\n",
    "sys.path.insert(0, r\"/home/mikhail/catkin_ws/src/ros-eurobot-2018/eurobot/scripts/stm_node\")\n",
    "import STMprotocol\n",
    "import serial\n",
    "import time"
   ]
  },
  {
   "cell_type": "code",
   "execution_count": 27,
   "metadata": {},
   "outputs": [],
   "source": [
    "protocol = STMprotocol.STMprotocol(\"/dev/ttyUSB0\")"
   ]
  },
  {
   "cell_type": "code",
   "execution_count": 47,
   "metadata": {},
   "outputs": [
    {
     "ename": "error",
     "evalue": "required argument is not an integer",
     "output_type": "error",
     "traceback": [
      "\u001b[0;31m---------------------------------------------------------------------------\u001b[0m",
      "\u001b[0;31merror\u001b[0m                                     Traceback (most recent call last)",
      "\u001b[0;32m<ipython-input-47-880aee6658aa>\u001b[0m in \u001b[0;36m<module>\u001b[0;34m()\u001b[0m\n\u001b[0;32m----> 1\u001b[0;31m \u001b[0mprotocol\u001b[0m\u001b[0;34m.\u001b[0m\u001b[0mpure_send_command\u001b[0m\u001b[0;34m(\u001b[0m\u001b[0;36m0x01\u001b[0m\u001b[0;34m,\u001b[0m \u001b[0;34m[\u001b[0m\u001b[0mc\u001b[0m \u001b[0;32mfor\u001b[0m \u001b[0mc\u001b[0m \u001b[0;32min\u001b[0m \u001b[0;34m'ECHO'\u001b[0m\u001b[0;34m]\u001b[0m\u001b[0;34m)\u001b[0m\u001b[0;34m\u001b[0m\u001b[0m\n\u001b[0m",
      "\u001b[0;32m~/catkin_ws/src/ros-eurobot-2018/eurobot/scripts/stm_node/STMprotocol.py\u001b[0m in \u001b[0;36mpure_send_command\u001b[0;34m(self, cmd, args)\u001b[0m\n\u001b[1;32m     55\u001b[0m         \u001b[0mself\u001b[0m\u001b[0;34m.\u001b[0m\u001b[0mser\u001b[0m\u001b[0;34m.\u001b[0m\u001b[0mreset_input_buffer\u001b[0m\u001b[0;34m(\u001b[0m\u001b[0;34m)\u001b[0m\u001b[0;34m\u001b[0m\u001b[0m\n\u001b[1;32m     56\u001b[0m         \u001b[0;31m# Sending command\u001b[0m\u001b[0;34m\u001b[0m\u001b[0;34m\u001b[0m\u001b[0m\n\u001b[0;32m---> 57\u001b[0;31m         \u001b[0mparameters\u001b[0m \u001b[0;34m=\u001b[0m \u001b[0mbytearray\u001b[0m\u001b[0;34m(\u001b[0m\u001b[0mstruct\u001b[0m\u001b[0;34m.\u001b[0m\u001b[0mpack\u001b[0m\u001b[0;34m(\u001b[0m\u001b[0mself\u001b[0m\u001b[0;34m.\u001b[0m\u001b[0mpack_format\u001b[0m\u001b[0;34m[\u001b[0m\u001b[0mcmd\u001b[0m\u001b[0;34m]\u001b[0m\u001b[0;34m,\u001b[0m \u001b[0;34m*\u001b[0m\u001b[0margs\u001b[0m\u001b[0;34m)\u001b[0m\u001b[0;34m)\u001b[0m\u001b[0;34m\u001b[0m\u001b[0m\n\u001b[0m\u001b[1;32m     58\u001b[0m         \u001b[0mmsg_len\u001b[0m \u001b[0;34m=\u001b[0m \u001b[0mlen\u001b[0m\u001b[0;34m(\u001b[0m\u001b[0mparameters\u001b[0m\u001b[0;34m)\u001b[0m \u001b[0;34m+\u001b[0m \u001b[0;36m5\u001b[0m\u001b[0;34m\u001b[0m\u001b[0m\n\u001b[1;32m     59\u001b[0m         \u001b[0mmsg\u001b[0m \u001b[0;34m=\u001b[0m \u001b[0mbytearray\u001b[0m\u001b[0;34m(\u001b[0m\u001b[0;34m[\u001b[0m\u001b[0;36m0xfa\u001b[0m\u001b[0;34m,\u001b[0m \u001b[0;36m0xaf\u001b[0m\u001b[0;34m,\u001b[0m \u001b[0mmsg_len\u001b[0m\u001b[0;34m,\u001b[0m \u001b[0mcmd\u001b[0m\u001b[0;34m]\u001b[0m\u001b[0;34m)\u001b[0m \u001b[0;34m+\u001b[0m \u001b[0mparameters\u001b[0m\u001b[0;34m\u001b[0m\u001b[0m\n",
      "\u001b[0;31merror\u001b[0m: required argument is not an integer"
     ]
    }
   ],
   "source": [
    "protocol.pure_send_command(0x01, [c for c in 'ECHO'])"
   ]
  },
  {
   "cell_type": "code",
   "execution_count": 55,
   "metadata": {},
   "outputs": [],
   "source": [
    "ser = serial.Serial(\"/dev/ttyACM4\", timeout=0.02)"
   ]
  },
  {
   "cell_type": "code",
   "execution_count": 56,
   "metadata": {
    "run_control": {
     "marked": true
    }
   },
   "outputs": [
    {
     "name": "stdout",
     "output_type": "stream",
     "text": [
      "b'81 20 \\r\\n'\n",
      "[35 85 85 35]\n",
      "b'41 94 83 18 \\r\\n'\n",
      "[36.8 87.7 84.4 29.9]\n",
      "b'42 94 80 19 \\r\\n'\n",
      "[38.36 89.59 83.08 26.63]\n",
      "b'41 94 81 19 \\r\\n'\n",
      "[39.152 90.913 82.456 24.341]\n",
      "b'41 92 80 20 \\r\\n'\n",
      "[39.7064 91.2391 81.7192 23.0387]\n",
      "b'41 95 81 21 \\r\\n'\n",
      "[40.09448 92.36737 81.50344 22.42709]\n",
      "b'43 93 81 19 \\r\\n'\n",
      "[40.966136 92.557159 81.352408 21.398963]\n",
      "b'42 95 83 19 \\r\\n'\n",
      "[41.2762952 93.2900113 81.8466856 20.6792741]\n",
      "b'41 93 81 19 \\r\\n'\n",
      "[41.19340664 93.20300791 81.59267992 20.17549187]\n",
      "b'42 97 84 19 \\r\\n'\n",
      "[41.43538465 94.34210554 82.31487594 19.82284431]\n"
     ]
    }
   ],
   "source": [
    "rs = r0s\n",
    "ser.reset_input_buffer()\n",
    "for i in range(10):\n",
    "    s = ser.readline()\n",
    "    print(s)\n",
    "    try:\n",
    "        sensors1 = np.array(list(map(int, s.split())))\n",
    "    except ValueError:\n",
    "        sensors1 = r0s\n",
    "    try:\n",
    "        rs_1 = rs * 0.7 + sensors1 * 0.3\n",
    "    except ValueError:\n",
    "        pass\n",
    "    else:\n",
    "        rs = rs_1\n",
    "    time.sleep(0.01)\n",
    "    print(rs)"
   ]
  },
  {
   "cell_type": "code",
   "execution_count": 26,
   "metadata": {},
   "outputs": [
    {
     "data": {
      "text/plain": [
       "array([34.85098836, 83.39739216, 93.39310996, 26.95671366])"
      ]
     },
     "execution_count": 26,
     "metadata": {},
     "output_type": "execute_result"
    }
   ],
   "source": [
    "r0s = rs\n",
    "r0s"
   ]
  },
  {
   "cell_type": "code",
   "execution_count": 35,
   "metadata": {},
   "outputs": [
    {
     "data": {
      "text/plain": [
       "array([30.52341561, 89.57029471, 79.43071849, 25.68300547])"
      ]
     },
     "execution_count": 35,
     "metadata": {},
     "output_type": "execute_result"
    }
   ],
   "source": [
    "r0s"
   ]
  },
  {
   "cell_type": "code",
   "execution_count": 53,
   "metadata": {
    "run_control": {
     "marked": true
    }
   },
   "outputs": [
    {
     "data": {
      "text/plain": [
       "array([-4.99999696e+01, -9.48848562e-01, -2.36393793e-02])"
      ]
     },
     "execution_count": 53,
     "metadata": {},
     "output_type": "execute_result"
    }
   ],
   "source": [
    "point = scipy.optimize.least_squares(fun, np.array([0, 0, 0]), \n",
    "                             bounds=[(-50, -50, -np.pi / 6), (50, 50, np.pi / 6)], \n",
    "                             args=[l, l2, r0s, rs]).x\n",
    "point"
   ]
  },
  {
   "cell_type": "code",
   "execution_count": 54,
   "metadata": {
    "run_control": {
     "marked": true
    }
   },
   "outputs": [
    {
     "data": {
      "text/plain": [
       "array([ 4.99864260e+01,  1.53978850e+00, -2.36393793e-02])"
      ]
     },
     "execution_count": 54,
     "metadata": {},
     "output_type": "execute_result"
    }
   ],
   "source": [
    "get_movement(point)"
   ]
  },
  {
   "cell_type": "code",
   "execution_count": 32,
   "metadata": {},
   "outputs": [
    {
     "name": "stdout",
     "output_type": "stream",
     "text": [
      "Exception:\t ord() expected string of length 1, but int found\n",
      "At time:\t 2018-02-12 20:09:56.163191\n",
      "--------------------------\n"
     ]
    },
    {
     "data": {
      "text/plain": [
       "(False, None)"
      ]
     },
     "execution_count": 32,
     "metadata": {},
     "output_type": "execute_result"
    }
   ],
   "source": [
    "x, y, w, sx, sy, sw = 0, 0, 0, 0, 0, 0\n",
    "protocol.send_command(0xa2, [x, y, w, sx, sy, sw])"
   ]
  },
  {
   "cell_type": "code",
   "execution_count": null,
   "metadata": {},
   "outputs": [],
   "source": []
  }
 ],
 "metadata": {
  "kernelspec": {
   "display_name": "Python 3",
   "language": "python",
   "name": "python3"
  },
  "language_info": {
   "codemirror_mode": {
    "name": "ipython",
    "version": 3
   },
   "file_extension": ".py",
   "mimetype": "text/x-python",
   "name": "python",
   "nbconvert_exporter": "python",
   "pygments_lexer": "ipython3",
   "version": "3.5.2"
  },
  "toc": {
   "nav_menu": {},
   "number_sections": true,
   "sideBar": true,
   "skip_h1_title": false,
   "toc_cell": false,
   "toc_position": {},
   "toc_section_display": "block",
   "toc_window_display": false
  }
 },
 "nbformat": 4,
 "nbformat_minor": 2
}
