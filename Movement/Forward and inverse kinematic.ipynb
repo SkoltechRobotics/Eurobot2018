{
 "cells": [
  {
   "cell_type": "code",
   "execution_count": 1,
   "metadata": {},
   "outputs": [],
   "source": [
    "import numpy as np"
   ]
  },
  {
   "cell_type": "markdown",
   "metadata": {},
   "source": [
    "# Inverse kinematic"
   ]
  },
  {
   "cell_type": "markdown",
   "metadata": {},
   "source": [
    "## Symbol calculations"
   ]
  },
  {
   "cell_type": "code",
   "execution_count": 2,
   "metadata": {
    "run_control": {
     "marked": false
    }
   },
   "outputs": [],
   "source": [
    "import sympy\n",
    "sympy.init_printing()"
   ]
  },
  {
   "cell_type": "code",
   "execution_count": 3,
   "metadata": {},
   "outputs": [],
   "source": [
    "Rx, Ry = sympy.symbols(\"R_x, R_y\")\n",
    "rx, ry = sympy.symbols(\"r_x, r_y\")\n",
    "vx, vy, w = sympy.symbols(\"v_x, v_y, \\omega\")"
   ]
  },
  {
   "cell_type": "code",
   "execution_count": 4,
   "metadata": {},
   "outputs": [],
   "source": [
    "V = sympy.Matrix([vx, vy, 0]) + sympy.Matrix([0, 0, w]).cross(sympy.Matrix([Rx, Ry, 0]))\n",
    "V_m = sympy.Matrix(V[0:2]).dot(sympy.Matrix([rx, ry]))\n",
    "V_m = sympy.expand(V_m)"
   ]
  },
  {
   "cell_type": "code",
   "execution_count": 5,
   "metadata": {},
   "outputs": [
    {
     "data": {
      "image/png": "[encoded data removed]",
      "text/latex": [
       "$$R_{x} \\omega r_{y} - R_{y} \\omega r_{x} + r_{x} v_{x} + r_{y} v_{y}$$"
      ],
      "text/plain": [
       "Rₓ⋅\\omega⋅r_y - R_y⋅\\omega⋅rₓ + rₓ⋅vₓ + r_y⋅v_y"
      ]
     },
     "execution_count": 5,
     "metadata": {},
     "output_type": "execute_result"
    }
   ],
   "source": [
    "V_m"
   ]
  },
  {
   "cell_type": "markdown",
   "metadata": {},
   "source": [
    "## Numerical calculations"
   ]
  },
  {
   "cell_type": "code",
   "execution_count": 8,
   "metadata": {},
   "outputs": [],
   "source": [
    "Rx1 = 175.27\n",
    "Ry1 = 120.27 / 2\n",
    "a = np.pi / 4\n",
    "rwheel = 30\n",
    "\n",
    "rx1 = np.cos(a)\n",
    "ry1 = np.sin(a)\n",
    "angles = [np.pi / 4,  65 / 180 * np.pi, ]\n",
    "Rxs = [Rx1, Rx1, -Rx1, -Rx1]\n",
    "Rys = [Ry1, -Ry1, Ry1, -Ry1]\n",
    "rxs = [rx1, -rx1, rx1, -rx1]\n",
    "rys = [-ry1, -ry1, ry1, ry1]"
   ]
  },
  {
   "cell_type": "code",
   "execution_count": null,
   "metadata": {},
   "outputs": [],
   "source": []
  },
  {
   "cell_type": "code",
   "execution_count": 9,
   "metadata": {},
   "outputs": [],
   "source": [
    "forward_matrix = np.zeros((4, 3), dtype=np.float32)\n",
    "for i in range(4):\n",
    "    forward_matrix[i] = np.array([rxs[i], rys[i], Rxs[i] * rys[i] - Rys[i] * rxs[i]])\n",
    "forward_matrix = forward_matrix / rwheel\n",
    "forward_matrix[:, 0:2] = forward_matrix[:, 0:2] * 1000 "
   ]
  },
  {
   "cell_type": "code",
   "execution_count": 10,
   "metadata": {},
   "outputs": [
    {
     "data": {
      "text/plain": [
       "array([[ 23.57022667, -23.57022667,  -5.5485487 ],\n",
       "       [ 23.57022667,  23.57022667,   5.5485487 ],\n",
       "       [ 23.57022667,  23.57022667,  -5.5485487 ],\n",
       "       [ 23.57022667, -23.57022667,   5.5485487 ]])"
      ]
     },
     "execution_count": 10,
     "metadata": {},
     "output_type": "execute_result"
    }
   ],
   "source": [
    "forward_matrix * np.array([1, -1, 1, -1])[:, np.newaxis]"
   ]
  },
  {
   "cell_type": "markdown",
   "metadata": {},
   "source": [
    "# Forward kinematic"
   ]
  },
  {
   "cell_type": "code",
   "execution_count": 7,
   "metadata": {},
   "outputs": [
    {
     "ename": "NameError",
     "evalue": "name 'forward_matrix' is not defined",
     "output_type": "error",
     "traceback": [
      "\u001b[0;31m---------------------------------------------------------------------------\u001b[0m",
      "\u001b[0;31mNameError\u001b[0m                                 Traceback (most recent call last)",
      "\u001b[0;32m<ipython-input-7-41d82885419c>\u001b[0m in \u001b[0;36m<module>\u001b[0;34m()\u001b[0m\n\u001b[0;32m----> 1\u001b[0;31m \u001b[0mnp\u001b[0m\u001b[0;34m.\u001b[0m\u001b[0mlinalg\u001b[0m\u001b[0;34m.\u001b[0m\u001b[0mlstsq\u001b[0m\u001b[0;34m(\u001b[0m\u001b[0mforward_matrix\u001b[0m\u001b[0;34m,\u001b[0m \u001b[0mnp\u001b[0m\u001b[0;34m.\u001b[0m\u001b[0meye\u001b[0m\u001b[0;34m(\u001b[0m\u001b[0;36m4\u001b[0m\u001b[0;34m)\u001b[0m\u001b[0;34m)\u001b[0m\u001b[0;34m\u001b[0m\u001b[0m\n\u001b[0m",
      "\u001b[0;31mNameError\u001b[0m: name 'forward_matrix' is not defined"
     ]
    }
   ],
   "source": [
    "np.linalg.lstsq(forward_matrix, np.eye(4))"
   ]
  },
  {
   "cell_type": "code",
   "execution_count": null,
   "metadata": {},
   "outputs": [],
   "source": []
  },
  {
   "cell_type": "code",
   "execution_count": null,
   "metadata": {},
   "outputs": [],
   "source": []
  }
 ],
 "metadata": {
  "kernelspec": {
   "display_name": "Python 3",
   "language": "python",
   "name": "python3"
  },
  "language_info": {
   "codemirror_mode": {
    "name": "ipython",
    "version": 3
   },
   "file_extension": ".py",
   "mimetype": "text/x-python",
   "name": "python",
   "nbconvert_exporter": "python",
   "pygments_lexer": "ipython3",
   "version": "3.5.2"
  },
  "notify_time": "10",
  "toc": {
   "nav_menu": {},
   "number_sections": true,
   "sideBar": true,
   "skip_h1_title": false,
   "toc_cell": false,
   "toc_position": {},
   "toc_section_display": "block",
   "toc_window_display": false
  }
 },
 "nbformat": 4,
 "nbformat_minor": 2
}
