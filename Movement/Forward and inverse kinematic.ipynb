{
 "cells": [
  {
   "cell_type": "code",
   "execution_count": 1,
   "metadata": {},
   "outputs": [],
   "source": [
    "import numpy as np"
   ]
  },
  {
   "cell_type": "markdown",
   "metadata": {},
   "source": [
    "# Inverse kinematic"
   ]
  },
  {
   "cell_type": "markdown",
   "metadata": {},
   "source": [
    "## Symbol calculations"
   ]
  },
  {
   "cell_type": "code",
   "execution_count": 2,
   "metadata": {
    "run_control": {
     "marked": false
    }
   },
   "outputs": [],
   "source": [
    "import sympy\n",
    "sympy.init_printing()"
   ]
  },
  {
   "cell_type": "code",
   "execution_count": 3,
   "metadata": {},
   "outputs": [],
   "source": [
    "Rx, Ry = sympy.symbols(\"R_x, R_y\")\n",
    "rx, ry = sympy.symbols(\"r_x, r_y\")\n",
    "vx, vy, w = sympy.symbols(\"v_x, v_y, \\omega\")"
   ]
  },
  {
   "cell_type": "code",
   "execution_count": 4,
   "metadata": {},
   "outputs": [],
   "source": [
    "V = sympy.Matrix([vx, vy, 0]) + sympy.Matrix([0, 0, w]).cross(sympy.Matrix([Rx, Ry, 0]))\n",
    "V_m = sympy.Matrix(V[0:2]).dot(sympy.Matrix([rx, ry]))\n",
    "V_m = sympy.expand(V_m)"
   ]
  },
  {
   "cell_type": "code",
   "execution_count": 5,
   "metadata": {},
   "outputs": [
    {
     "data": {
      "image/png": "[encoded data removed]",
      "text/latex": [
       "$$R_{x} \\omega r_{y} - R_{y} \\omega r_{x} + r_{x} v_{x} + r_{y} v_{y}$$"
      ],
      "text/plain": [
       "Rₓ⋅\\omega⋅r_y - R_y⋅\\omega⋅rₓ + rₓ⋅vₓ + r_y⋅v_y"
      ]
     },
     "execution_count": 5,
     "metadata": {},
     "output_type": "execute_result"
    }
   ],
   "source": [
    "V_m"
   ]
  },
  {
   "cell_type": "markdown",
   "metadata": {},
   "source": [
    "## Numerical calculations"
   ]
  },
  {
   "cell_type": "code",
   "execution_count": 26,
   "metadata": {},
   "outputs": [],
   "source": [
    "Rx1 = 175.27\n",
    "Ry1 = 120.27 / 2\n",
    "a = np.pi / 4\n",
    "rwheel = 28.8\n",
    "\n",
    "rx1 = np.cos(a)\n",
    "ry1 = np.sin(a)\n",
    "angles = [np.pi / 4,  65 / 180 * np.pi, ]\n",
    "Rxs = [Rx1, Rx1, -Rx1, -Rx1]\n",
    "Rys = [Ry1, -Ry1, Ry1, -Ry1]\n",
    "rxs = [rx1, -rx1, rx1, -rx1]\n",
    "rys = [-ry1, -ry1, ry1, ry1]"
   ]
  },
  {
   "cell_type": "code",
   "execution_count": 27,
   "metadata": {},
   "outputs": [],
   "source": [
    "forward_matrix = np.zeros((4, 3), dtype=np.float32)\n",
    "for i in range(4):\n",
    "    forward_matrix[i] = np.array([rxs[i], rys[i], Rxs[i] * rys[i] - Rys[i] * rxs[i]])\n",
    "forward_matrix = forward_matrix / rwheel\n",
    "forward_matrix[:, 0:2] = forward_matrix[:, 0:2] * 1000 "
   ]
  },
  {
   "cell_type": "code",
   "execution_count": 28,
   "metadata": {},
   "outputs": [
    {
     "data": {
      "text/plain": [
       "array([[ 24.55231857, -24.55231857,  -5.77973843],\n",
       "       [ 24.55231857,  24.55231857,   5.77973843],\n",
       "       [ 24.55231857,  24.55231857,  -5.77973843],\n",
       "       [ 24.55231857, -24.55231857,   5.77973843]])"
      ]
     },
     "execution_count": 28,
     "metadata": {},
     "output_type": "execute_result"
    }
   ],
   "source": [
    "forward_matrix * np.array([1, -1, 1, -1])[:, np.newaxis]"
   ]
  },
  {
   "cell_type": "markdown",
   "metadata": {},
   "source": [
    "## Different angles for big robot center in geom center"
   ]
  },
  {
   "cell_type": "markdown",
   "metadata": {},
   "source": [
    "<img src=\"files/photo_big_robot_2.jpg\">"
   ]
  },
  {
   "cell_type": "code",
   "execution_count": 34,
   "metadata": {},
   "outputs": [],
   "source": [
    "Rx1 = 175.82\n",
    "Rx2 = 172.15\n",
    "Ry1 = 60.82\n",
    "Ry2 = 62.84\n",
    "\n",
    "Rxs = [-Rx1, -Rx2, Rx2, Rx1]\n",
    "Rys = [Ry1, -Ry2, -Ry2, Ry1]\n",
    "alphas = (np.array([180 - 45, 180 + 65, -65, 45]) - 90) * np.pi / 180\n",
    "rxs = np.cos(alphas)\n",
    "rys = np.sin(alphas)"
   ]
  },
  {
   "cell_type": "code",
   "execution_count": 35,
   "metadata": {},
   "outputs": [],
   "source": [
    "forward_matrix = np.zeros((4, 3), dtype=np.float32)\n",
    "for i in range(4):\n",
    "    forward_matrix[i] = np.array([rxs[i], rys[i], Rxs[i] * rys[i] - Rys[i] * rxs[i]])\n",
    "forward_matrix = forward_matrix / rwheel\n",
    "forward_matrix[:, 0:2] = forward_matrix[:, 0:2] * 1000 "
   ]
  },
  {
   "cell_type": "code",
   "execution_count": 36,
   "metadata": {},
   "outputs": [
    {
     "data": {
      "text/plain": [
       "array([[-24.55231857, -24.55231857,   5.8100605 ],\n",
       "       [-31.46902084,  14.67424583,  -4.50368452],\n",
       "       [-31.46902084, -14.67424583,  -4.50368452],\n",
       "       [-24.55231857,  24.55231857,   5.8100605 ]])"
      ]
     },
     "execution_count": 36,
     "metadata": {},
     "output_type": "execute_result"
    }
   ],
   "source": [
    "forward_matrix * np.array([-1, 1, 1, -1])[:, np.newaxis]"
   ]
  },
  {
   "cell_type": "code",
   "execution_count": 37,
   "metadata": {},
   "outputs": [
    {
     "data": {
      "text/plain": [
       "(array([[ 0.00767466, -0.00990083, -0.00990083,  0.00767466],\n",
       "        [ 0.01500478,  0.00896795, -0.00896795, -0.01500478],\n",
       "        [-0.05362585, -0.04183921, -0.04183921, -0.05362585]]),\n",
       " array([0.13159783, 0.36840217, 0.36840217, 0.13159783]),\n",
       " 3,\n",
       " array([56.44672134, 40.45120117, 10.3960976 ]))"
      ]
     },
     "execution_count": 37,
     "metadata": {},
     "output_type": "execute_result"
    }
   ],
   "source": [
    "np.linalg.lstsq(forward_matrix, np.eye(4), rcond=None)"
   ]
  },
  {
   "cell_type": "markdown",
   "metadata": {},
   "source": [
    "# Forward kinematic"
   ]
  },
  {
   "cell_type": "code",
   "execution_count": 13,
   "metadata": {},
   "outputs": [
    {
     "data": {
      "text/plain": [
       "(array([[ 0.00799443, -0.01031336,  0.00799443, -0.01031336],\n",
       "        [-0.01562998, -0.00934161,  0.01562998,  0.00934161],\n",
       "        [-0.05586025, -0.04358251, -0.05586025, -0.04358251]]),\n",
       " array([0.13159782, 0.36840218, 0.13159782, 0.36840218]),\n",
       " 3,\n",
       " array([54.18885364, 38.83315378,  9.98025398]))"
      ]
     },
     "execution_count": 13,
     "metadata": {},
     "output_type": "execute_result"
    }
   ],
   "source": [
    "np.linalg.lstsq(forward_matrix, np.eye(4), rcond=None)"
   ]
  },
  {
   "cell_type": "markdown",
   "metadata": {},
   "source": [
    "# Calibration"
   ]
  },
  {
   "cell_type": "code",
   "execution_count": 37,
   "metadata": {},
   "outputs": [],
   "source": [
    "y_exp = 1780\n",
    "y_true = 1780 - 85 \n",
    "x_exp = 1780\n",
    "x_true = 1780 - 70\n",
    "a_exp = 2 * np.pi\n",
    "a_true = 2 * np.pi - 0.13"
   ]
  },
  {
   "cell_type": "code",
   "execution_count": 38,
   "metadata": {},
   "outputs": [],
   "source": [
    "k = np.array([x_exp / x_true, y_exp / y_true, a_exp / a_true])"
   ]
  },
  {
   "cell_type": "code",
   "execution_count": 39,
   "metadata": {},
   "outputs": [],
   "source": [
    "forward_matrix_1 = forward_matrix * k[np.newaxis, :]"
   ]
  },
  {
   "cell_type": "code",
   "execution_count": 40,
   "metadata": {},
   "outputs": [
    {
     "data": {
      "text/plain": [
       "array([[ 24.53508975, -24.75221444,  -5.66577438],\n",
       "       [ 24.53508975,  24.75221444,   5.66577438],\n",
       "       [ 24.53508975,  24.75221444,  -5.66577438],\n",
       "       [ 24.53508975, -24.75221444,   5.66577438]])"
      ]
     },
     "execution_count": 40,
     "metadata": {},
     "output_type": "execute_result"
    }
   ],
   "source": [
    "forward_matrix_1 * np.array([1, -1, 1, -1])[:, np.newaxis]"
   ]
  },
  {
   "cell_type": "code",
   "execution_count": 41,
   "metadata": {},
   "outputs": [
    {
     "name": "stderr",
     "output_type": "stream",
     "text": [
      "/home/mikhail/.local/lib/python3.5/site-packages/ipykernel_launcher.py:1: FutureWarning: `rcond` parameter will change to the default of machine precision times ``max(M, N)`` where M and N are the input matrix dimensions.\n",
      "To use the future default and silence this warning we advise to pass `rcond=None`, to keep using the old, explicitly pass `rcond=-1`.\n",
      "  \"\"\"Entry point for launching an IPython kernel.\n"
     ]
    },
    {
     "data": {
      "text/plain": [
       "(array([[ 0.01018949, -0.01018949,  0.01018949, -0.01018949],\n",
       "        [-0.01010011, -0.01010011,  0.01010011,  0.01010011],\n",
       "        [-0.0441246 , -0.0441246 , -0.0441246 , -0.0441246 ]]),\n",
       " array([0.25, 0.25, 0.25, 0.25]),\n",
       " 3,\n",
       " array([49.50442887, 49.0701795 , 11.33154876]))"
      ]
     },
     "execution_count": 41,
     "metadata": {},
     "output_type": "execute_result"
    }
   ],
   "source": [
    "np.linalg.lstsq(forward_matrix_1, np.eye(4))"
   ]
  },
  {
   "cell_type": "code",
   "execution_count": null,
   "metadata": {},
   "outputs": [],
   "source": []
  },
  {
   "cell_type": "code",
   "execution_count": null,
   "metadata": {},
   "outputs": [],
   "source": []
  }
 ],
 "metadata": {
  "kernelspec": {
   "display_name": "Python 3",
   "language": "python",
   "name": "python3"
  },
  "language_info": {
   "codemirror_mode": {
    "name": "ipython",
    "version": 3
   },
   "file_extension": ".py",
   "mimetype": "text/x-python",
   "name": "python",
   "nbconvert_exporter": "python",
   "pygments_lexer": "ipython3",
   "version": "3.5.2"
  },
  "notify_time": "10",
  "toc": {
   "nav_menu": {},
   "number_sections": true,
   "sideBar": true,
   "skip_h1_title": false,
   "toc_cell": false,
   "toc_position": {},
   "toc_section_display": "block",
   "toc_window_display": false
  }
 },
 "nbformat": 4,
 "nbformat_minor": 2
}
