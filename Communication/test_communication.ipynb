{
 "cells": [
  {
   "cell_type": "markdown",
   "metadata": {},
   "source": [
    "# Protocol definition"
   ]
  },
  {
   "cell_type": "code",
   "execution_count": 13,
   "metadata": {
    "collapsed": true
   },
   "outputs": [],
   "source": [
    "# %load STMprotocol.py\n",
    "import serial\n",
    "import struct\n",
    "import datetime\n",
    "import time\n",
    "\n",
    "class STMprotocol:\n",
    "    def __init__(self, serial_port):\n",
    "        self.ser = serial.Serial(serial_port, 115200, timeout=0.2)\n",
    "        self.pack_format = {\n",
    "            0x01: \"=BBBB\",\n",
    "            0x03: \"=Bf\",\n",
    "            0x04: \"=B\",\n",
    "            0x05: \"=B\",\n",
    "            0x06: \"=Bffff\",\n",
    "            0x07: \"=B\",\n",
    "            0x08: \"=fff\",\n",
    "            0x09: \"=\",\n",
    "            0x0a: \"=\",\n",
    "            0x0b: \"=BH\",\n",
    "            0x0c: \"=B\",\n",
    "            0x0d: \"=B\",\n",
    "            \n",
    "            0xa0: \"=fff\",\n",
    "            0xa1: \"=fff\",\n",
    "        }\n",
    "\n",
    "        self.unpack_format = {\n",
    "            0x01: \"=BBBB\",\n",
    "            0x03: \"=BB\",\n",
    "            0x04: \"=BB\",\n",
    "            0x05: \"=BB\",\n",
    "            0x06: \"=BB\",\n",
    "            0x07: \"=ffff\",\n",
    "            0x08: \"=BB\",\n",
    "            0x09: \"=fff\",\n",
    "            0x0a: \"=fff\",\n",
    "            0x0b: \"=BB\",\n",
    "            0x0c: \"=f\",\n",
    "            0x0d: \"=BB\",\n",
    "            \n",
    "            0xa0: \"=Bfff\",\n",
    "            0xa1: \"=BB\",\n",
    "        }\n",
    "\n",
    "    def send_command(self, cmd, args):\n",
    "        # Clear buffer\n",
    "        print(self.ser.read(self.ser.in_waiting))\n",
    "        \n",
    "        parameters = bytearray(struct.pack(self.pack_format[cmd], *args))\n",
    "        print(parameters)\n",
    "        msg_len = len(parameters) + 5\n",
    "        msg = bytearray([0xfa, 0xaf, msg_len, cmd]) + parameters\n",
    "        crc = sum(msg) % 256\n",
    "        msg += bytearray([crc])\n",
    "\n",
    "        print(\"send \", repr(msg))\n",
    "        self.ser.write(msg)\n",
    "\n",
    "        start_time = datetime.datetime.now()\n",
    "        time_threshold = datetime.timedelta(seconds=1)\n",
    "        dt = start_time - start_time\n",
    "        \n",
    "        time.sleep(0.001)\n",
    "        data = self.ser.read()[0]\n",
    "        while (data != 0xfa) and (dt < time_threshold):\n",
    "            data = self.ser.read()[0]\n",
    "\n",
    "            current_time = datetime.datetime.now()\n",
    "            dt = start_time - current_time\n",
    "\n",
    "        adr = self.ser.read()[0]\n",
    "        answer_len = self.ser.read()[0]\n",
    "        answer = bytearray(self.ser.read(answer_len - 3))\n",
    "        print(\"answer \", repr(bytearray([data, adr, answer_len]) + answer))\n",
    "\n",
    "        args = struct.unpack(self.unpack_format[cmd], answer[1:-1])\n",
    "        return args\n"
   ]
  },
  {
   "cell_type": "markdown",
   "metadata": {},
   "source": [
    "# Function of animation of output data"
   ]
  },
  {
   "cell_type": "code",
   "execution_count": 22,
   "metadata": {
    "collapsed": true
   },
   "outputs": [],
   "source": [
    "import matplotlib.pyplot as plt\n",
    "from matplotlib.animation import FuncAnimation\n",
    "%matplotlib notebook\n",
    "def plot_output_data(protocol, cmd, args, param, time_duration=10):\n",
    "    \n",
    "    def generate_data():\n",
    "        while(1): \n",
    "            res = protocol.send_command(cmd, args)\n",
    "            yield res\n",
    "        \n",
    "    fig, ax = plt.subplots()\n",
    "    xdata, ydata = [], []\n",
    "    ln, = ax.plot([], [])\n",
    "    start_time = time.time()\n",
    "    def init():\n",
    "        ax.set_xlim(0, time_duration)\n",
    "        return ln, \n",
    "    \n",
    "    def update(frame):\n",
    "        print(frame)\n",
    "        xdata.append(time.time - start_time)\n",
    "        ydata.append(frame[param])\n",
    "        ln.set_data(xdata, ydata)\n",
    "        if time_duration > xdata[-1]:\n",
    "            ax.set_xlim(xdata[-1] - time_duration, xdata[-1])\n",
    "        return ln, \n",
    "    \n",
    "    ani = FuncAnimation(fig, update, frames=generate_data(),\n",
    "                    init_func=init, blit=True)\n",
    "    plt.show()"
   ]
  },
  {
   "cell_type": "markdown",
   "metadata": {},
   "source": [
    "# Work with STM"
   ]
  },
  {
   "cell_type": "markdown",
   "metadata": {},
   "source": [
    "## Start protocol"
   ]
  },
  {
   "cell_type": "code",
   "execution_count": 14,
   "metadata": {
    "collapsed": true
   },
   "outputs": [],
   "source": [
    "protocol = STMprotocol(\"COM10\")"
   ]
  },
  {
   "cell_type": "markdown",
   "metadata": {},
   "source": [
    "## Test echo"
   ]
  },
  {
   "cell_type": "code",
   "execution_count": 15,
   "metadata": {},
   "outputs": [
    {
     "name": "stdout",
     "output_type": "stream",
     "text": [
      "b''\n",
      "bytearray(b'ECHO')\n",
      "send  bytearray(b'\\xfa\\xaf\\t\\x01ECHO\\xd2')\n",
      "answer  bytearray(b'\\xfa\\xfa\\t\\x01ECHO\\x1d')\n"
     ]
    },
    {
     "data": {
      "text/plain": [
       "(69, 67, 72, 79)"
      ]
     },
     "execution_count": 15,
     "metadata": {},
     "output_type": "execute_result"
    }
   ],
   "source": [
    "# Echo\n",
    "protocol.send_command(0x01, [ord(c) for c in 'ECHO'])"
   ]
  },
  {
   "cell_type": "markdown",
   "metadata": {},
   "source": [
    "## On-line plotting of output data"
   ]
  },
  {
   "cell_type": "code",
   "execution_count": 17,
   "metadata": {},
   "outputs": [
    {
     "data": {
      "application/javascript": [
       "/* Put everything inside the global mpl namespace */\n",
       "window.mpl = {};\n",
       "\n",
       "\n",
       "mpl.get_websocket_type = function() {\n",
       "    if (typeof(WebSocket) !== 'undefined') {\n",
       "        return WebSocket;\n",
       "    } else if (typeof(MozWebSocket) !== 'undefined') {\n",
       "        return MozWebSocket;\n",
       "    } else {\n",
       "        alert('Your browser does not have WebSocket support.' +\n",
       "              'Please try Chrome, Safari or Firefox ≥ 6. ' +\n",
       "              'Firefox 4 and 5 are also supported but you ' +\n",
       "              'have to enable WebSockets in about:config.');\n",
       "    };\n",
       "}\n",
       "\n",
       "mpl.figure = function(figure_id, websocket, ondownload, parent_element) {\n",
       "    this.id = figure_id;\n",
       "\n",
       "    this.ws = websocket;\n",
       "\n",
       "    this.supports_binary = (this.ws.binaryType != undefined);\n",
       "\n",
       "    if (!this.supports_binary) {\n",
       "        var warnings = document.getElementById(\"mpl-warnings\");\n",
       "        if (warnings) {\n",
       "            warnings.style.display = 'block';\n",
       "            warnings.textContent = (\n",
       "                \"This browser does not support binary websocket messages. \" +\n",
       "                    \"Performance may be slow.\");\n",
       "        }\n",
       "    }\n",
       "\n",
       "    this.imageObj = new Image();\n",
       "\n",
       "    this.context = undefined;\n",
       "    this.message = undefined;\n",
       "    this.canvas = undefined;\n",
       "    this.rubberband_canvas = undefined;\n",
       "    this.rubberband_context = undefined;\n",
       "    this.format_dropdown = undefined;\n",
       "\n",
       "    this.image_mode = 'full';\n",
       "\n",
       "    this.root = $('<div/>');\n",
       "    this._root_extra_style(this.root)\n",
       "    this.root.attr('style', 'display: inline-block');\n",
       "\n",
       "    $(parent_element).append(this.root);\n",
       "\n",
       "    this._init_header(this);\n",
       "    this._init_canvas(this);\n",
       "    this._init_toolbar(this);\n",
       "\n",
       "    var fig = this;\n",
       "\n",
       "    this.waiting = false;\n",
       "\n",
       "    this.ws.onopen =  function () {\n",
       "            fig.send_message(\"supports_binary\", {value: fig.supports_binary});\n",
       "            fig.send_message(\"send_image_mode\", {});\n",
       "            if (mpl.ratio != 1) {\n",
       "                fig.send_message(\"set_dpi_ratio\", {'dpi_ratio': mpl.ratio});\n",
       "            }\n",
       "            fig.send_message(\"refresh\", {});\n",
       "        }\n",
       "\n",
       "    this.imageObj.onload = function() {\n",
       "            if (fig.image_mode == 'full') {\n",
       "                // Full images could contain transparency (where diff images\n",
       "                // almost always do), so we need to clear the canvas so that\n",
       "                // there is no ghosting.\n",
       "                fig.context.clearRect(0, 0, fig.canvas.width, fig.canvas.height);\n",
       "            }\n",
       "            fig.context.drawImage(fig.imageObj, 0, 0);\n",
       "        };\n",
       "\n",
       "    this.imageObj.onunload = function() {\n",
       "        this.ws.close();\n",
       "    }\n",
       "\n",
       "    this.ws.onmessage = this._make_on_message_function(this);\n",
       "\n",
       "    this.ondownload = ondownload;\n",
       "}\n",
       "\n",
       "mpl.figure.prototype._init_header = function() {\n",
       "    var titlebar = $(\n",
       "        '<div class=\"ui-dialog-titlebar ui-widget-header ui-corner-all ' +\n",
       "        'ui-helper-clearfix\"/>');\n",
       "    var titletext = $(\n",
       "        '<div class=\"ui-dialog-title\" style=\"width: 100%; ' +\n",
       "        'text-align: center; padding: 3px;\"/>');\n",
       "    titlebar.append(titletext)\n",
       "    this.root.append(titlebar);\n",
       "    this.header = titletext[0];\n",
       "}\n",
       "\n",
       "\n",
       "\n",
       "mpl.figure.prototype._canvas_extra_style = function(canvas_div) {\n",
       "\n",
       "}\n",
       "\n",
       "\n",
       "mpl.figure.prototype._root_extra_style = function(canvas_div) {\n",
       "\n",
       "}\n",
       "\n",
       "mpl.figure.prototype._init_canvas = function() {\n",
       "    var fig = this;\n",
       "\n",
       "    var canvas_div = $('<div/>');\n",
       "\n",
       "    canvas_div.attr('style', 'position: relative; clear: both; outline: 0');\n",
       "\n",
       "    function canvas_keyboard_event(event) {\n",
       "        return fig.key_event(event, event['data']);\n",
       "    }\n",
       "\n",
       "    canvas_div.keydown('key_press', canvas_keyboard_event);\n",
       "    canvas_div.keyup('key_release', canvas_keyboard_event);\n",
       "    this.canvas_div = canvas_div\n",
       "    this._canvas_extra_style(canvas_div)\n",
       "    this.root.append(canvas_div);\n",
       "\n",
       "    var canvas = $('<canvas/>');\n",
       "    canvas.addClass('mpl-canvas');\n",
       "    canvas.attr('style', \"left: 0; top: 0; z-index: 0; outline: 0\")\n",
       "\n",
       "    this.canvas = canvas[0];\n",
       "    this.context = canvas[0].getContext(\"2d\");\n",
       "\n",
       "    var backingStore = this.context.backingStorePixelRatio ||\n",
       "\tthis.context.webkitBackingStorePixelRatio ||\n",
       "\tthis.context.mozBackingStorePixelRatio ||\n",
       "\tthis.context.msBackingStorePixelRatio ||\n",
       "\tthis.context.oBackingStorePixelRatio ||\n",
       "\tthis.context.backingStorePixelRatio || 1;\n",
       "\n",
       "    mpl.ratio = (window.devicePixelRatio || 1) / backingStore;\n",
       "\n",
       "    var rubberband = $('<canvas/>');\n",
       "    rubberband.attr('style', \"position: absolute; left: 0; top: 0; z-index: 1;\")\n",
       "\n",
       "    var pass_mouse_events = true;\n",
       "\n",
       "    canvas_div.resizable({\n",
       "        start: function(event, ui) {\n",
       "            pass_mouse_events = false;\n",
       "        },\n",
       "        resize: function(event, ui) {\n",
       "            fig.request_resize(ui.size.width, ui.size.height);\n",
       "        },\n",
       "        stop: function(event, ui) {\n",
       "            pass_mouse_events = true;\n",
       "            fig.request_resize(ui.size.width, ui.size.height);\n",
       "        },\n",
       "    });\n",
       "\n",
       "    function mouse_event_fn(event) {\n",
       "        if (pass_mouse_events)\n",
       "            return fig.mouse_event(event, event['data']);\n",
       "    }\n",
       "\n",
       "    rubberband.mousedown('button_press', mouse_event_fn);\n",
       "    rubberband.mouseup('button_release', mouse_event_fn);\n",
       "    // Throttle sequential mouse events to 1 every 20ms.\n",
       "    rubberband.mousemove('motion_notify', mouse_event_fn);\n",
       "\n",
       "    rubberband.mouseenter('figure_enter', mouse_event_fn);\n",
       "    rubberband.mouseleave('figure_leave', mouse_event_fn);\n",
       "\n",
       "    canvas_div.on(\"wheel\", function (event) {\n",
       "        event = event.originalEvent;\n",
       "        event['data'] = 'scroll'\n",
       "        if (event.deltaY < 0) {\n",
       "            event.step = 1;\n",
       "        } else {\n",
       "            event.step = -1;\n",
       "        }\n",
       "        mouse_event_fn(event);\n",
       "    });\n",
       "\n",
       "    canvas_div.append(canvas);\n",
       "    canvas_div.append(rubberband);\n",
       "\n",
       "    this.rubberband = rubberband;\n",
       "    this.rubberband_canvas = rubberband[0];\n",
       "    this.rubberband_context = rubberband[0].getContext(\"2d\");\n",
       "    this.rubberband_context.strokeStyle = \"#000000\";\n",
       "\n",
       "    this._resize_canvas = function(width, height) {\n",
       "        // Keep the size of the canvas, canvas container, and rubber band\n",
       "        // canvas in synch.\n",
       "        canvas_div.css('width', width)\n",
       "        canvas_div.css('height', height)\n",
       "\n",
       "        canvas.attr('width', width * mpl.ratio);\n",
       "        canvas.attr('height', height * mpl.ratio);\n",
       "        canvas.attr('style', 'width: ' + width + 'px; height: ' + height + 'px;');\n",
       "\n",
       "        rubberband.attr('width', width);\n",
       "        rubberband.attr('height', height);\n",
       "    }\n",
       "\n",
       "    // Set the figure to an initial 600x600px, this will subsequently be updated\n",
       "    // upon first draw.\n",
       "    this._resize_canvas(600, 600);\n",
       "\n",
       "    // Disable right mouse context menu.\n",
       "    $(this.rubberband_canvas).bind(\"contextmenu\",function(e){\n",
       "        return false;\n",
       "    });\n",
       "\n",
       "    function set_focus () {\n",
       "        canvas.focus();\n",
       "        canvas_div.focus();\n",
       "    }\n",
       "\n",
       "    window.setTimeout(set_focus, 100);\n",
       "}\n",
       "\n",
       "mpl.figure.prototype._init_toolbar = function() {\n",
       "    var fig = this;\n",
       "\n",
       "    var nav_element = $('<div/>')\n",
       "    nav_element.attr('style', 'width: 100%');\n",
       "    this.root.append(nav_element);\n",
       "\n",
       "    // Define a callback function for later on.\n",
       "    function toolbar_event(event) {\n",
       "        return fig.toolbar_button_onclick(event['data']);\n",
       "    }\n",
       "    function toolbar_mouse_event(event) {\n",
       "        return fig.toolbar_button_onmouseover(event['data']);\n",
       "    }\n",
       "\n",
       "    for(var toolbar_ind in mpl.toolbar_items) {\n",
       "        var name = mpl.toolbar_items[toolbar_ind][0];\n",
       "        var tooltip = mpl.toolbar_items[toolbar_ind][1];\n",
       "        var image = mpl.toolbar_items[toolbar_ind][2];\n",
       "        var method_name = mpl.toolbar_items[toolbar_ind][3];\n",
       "\n",
       "        if (!name) {\n",
       "            // put a spacer in here.\n",
       "            continue;\n",
       "        }\n",
       "        var button = $('<button/>');\n",
       "        button.addClass('ui-button ui-widget ui-state-default ui-corner-all ' +\n",
       "                        'ui-button-icon-only');\n",
       "        button.attr('role', 'button');\n",
       "        button.attr('aria-disabled', 'false');\n",
       "        button.click(method_name, toolbar_event);\n",
       "        button.mouseover(tooltip, toolbar_mouse_event);\n",
       "\n",
       "        var icon_img = $('<span/>');\n",
       "        icon_img.addClass('ui-button-icon-primary ui-icon');\n",
       "        icon_img.addClass(image);\n",
       "        icon_img.addClass('ui-corner-all');\n",
       "\n",
       "        var tooltip_span = $('<span/>');\n",
       "        tooltip_span.addClass('ui-button-text');\n",
       "        tooltip_span.html(tooltip);\n",
       "\n",
       "        button.append(icon_img);\n",
       "        button.append(tooltip_span);\n",
       "\n",
       "        nav_element.append(button);\n",
       "    }\n",
       "\n",
       "    var fmt_picker_span = $('<span/>');\n",
       "\n",
       "    var fmt_picker = $('<select/>');\n",
       "    fmt_picker.addClass('mpl-toolbar-option ui-widget ui-widget-content');\n",
       "    fmt_picker_span.append(fmt_picker);\n",
       "    nav_element.append(fmt_picker_span);\n",
       "    this.format_dropdown = fmt_picker[0];\n",
       "\n",
       "    for (var ind in mpl.extensions) {\n",
       "        var fmt = mpl.extensions[ind];\n",
       "        var option = $(\n",
       "            '<option/>', {selected: fmt === mpl.default_extension}).html(fmt);\n",
       "        fmt_picker.append(option)\n",
       "    }\n",
       "\n",
       "    // Add hover states to the ui-buttons\n",
       "    $( \".ui-button\" ).hover(\n",
       "        function() { $(this).addClass(\"ui-state-hover\");},\n",
       "        function() { $(this).removeClass(\"ui-state-hover\");}\n",
       "    );\n",
       "\n",
       "    var status_bar = $('<span class=\"mpl-message\"/>');\n",
       "    nav_element.append(status_bar);\n",
       "    this.message = status_bar[0];\n",
       "}\n",
       "\n",
       "mpl.figure.prototype.request_resize = function(x_pixels, y_pixels) {\n",
       "    // Request matplotlib to resize the figure. Matplotlib will then trigger a resize in the client,\n",
       "    // which will in turn request a refresh of the image.\n",
       "    this.send_message('resize', {'width': x_pixels, 'height': y_pixels});\n",
       "}\n",
       "\n",
       "mpl.figure.prototype.send_message = function(type, properties) {\n",
       "    properties['type'] = type;\n",
       "    properties['figure_id'] = this.id;\n",
       "    this.ws.send(JSON.stringify(properties));\n",
       "}\n",
       "\n",
       "mpl.figure.prototype.send_draw_message = function() {\n",
       "    if (!this.waiting) {\n",
       "        this.waiting = true;\n",
       "        this.ws.send(JSON.stringify({type: \"draw\", figure_id: this.id}));\n",
       "    }\n",
       "}\n",
       "\n",
       "\n",
       "mpl.figure.prototype.handle_save = function(fig, msg) {\n",
       "    var format_dropdown = fig.format_dropdown;\n",
       "    var format = format_dropdown.options[format_dropdown.selectedIndex].value;\n",
       "    fig.ondownload(fig, format);\n",
       "}\n",
       "\n",
       "\n",
       "mpl.figure.prototype.handle_resize = function(fig, msg) {\n",
       "    var size = msg['size'];\n",
       "    if (size[0] != fig.canvas.width || size[1] != fig.canvas.height) {\n",
       "        fig._resize_canvas(size[0], size[1]);\n",
       "        fig.send_message(\"refresh\", {});\n",
       "    };\n",
       "}\n",
       "\n",
       "mpl.figure.prototype.handle_rubberband = function(fig, msg) {\n",
       "    var x0 = msg['x0'] / mpl.ratio;\n",
       "    var y0 = (fig.canvas.height - msg['y0']) / mpl.ratio;\n",
       "    var x1 = msg['x1'] / mpl.ratio;\n",
       "    var y1 = (fig.canvas.height - msg['y1']) / mpl.ratio;\n",
       "    x0 = Math.floor(x0) + 0.5;\n",
       "    y0 = Math.floor(y0) + 0.5;\n",
       "    x1 = Math.floor(x1) + 0.5;\n",
       "    y1 = Math.floor(y1) + 0.5;\n",
       "    var min_x = Math.min(x0, x1);\n",
       "    var min_y = Math.min(y0, y1);\n",
       "    var width = Math.abs(x1 - x0);\n",
       "    var height = Math.abs(y1 - y0);\n",
       "\n",
       "    fig.rubberband_context.clearRect(\n",
       "        0, 0, fig.canvas.width, fig.canvas.height);\n",
       "\n",
       "    fig.rubberband_context.strokeRect(min_x, min_y, width, height);\n",
       "}\n",
       "\n",
       "mpl.figure.prototype.handle_figure_label = function(fig, msg) {\n",
       "    // Updates the figure title.\n",
       "    fig.header.textContent = msg['label'];\n",
       "}\n",
       "\n",
       "mpl.figure.prototype.handle_cursor = function(fig, msg) {\n",
       "    var cursor = msg['cursor'];\n",
       "    switch(cursor)\n",
       "    {\n",
       "    case 0:\n",
       "        cursor = 'pointer';\n",
       "        break;\n",
       "    case 1:\n",
       "        cursor = 'default';\n",
       "        break;\n",
       "    case 2:\n",
       "        cursor = 'crosshair';\n",
       "        break;\n",
       "    case 3:\n",
       "        cursor = 'move';\n",
       "        break;\n",
       "    }\n",
       "    fig.rubberband_canvas.style.cursor = cursor;\n",
       "}\n",
       "\n",
       "mpl.figure.prototype.handle_message = function(fig, msg) {\n",
       "    fig.message.textContent = msg['message'];\n",
       "}\n",
       "\n",
       "mpl.figure.prototype.handle_draw = function(fig, msg) {\n",
       "    // Request the server to send over a new figure.\n",
       "    fig.send_draw_message();\n",
       "}\n",
       "\n",
       "mpl.figure.prototype.handle_image_mode = function(fig, msg) {\n",
       "    fig.image_mode = msg['mode'];\n",
       "}\n",
       "\n",
       "mpl.figure.prototype.updated_canvas_event = function() {\n",
       "    // Called whenever the canvas gets updated.\n",
       "    this.send_message(\"ack\", {});\n",
       "}\n",
       "\n",
       "// A function to construct a web socket function for onmessage handling.\n",
       "// Called in the figure constructor.\n",
       "mpl.figure.prototype._make_on_message_function = function(fig) {\n",
       "    return function socket_on_message(evt) {\n",
       "        if (evt.data instanceof Blob) {\n",
       "            /* FIXME: We get \"Resource interpreted as Image but\n",
       "             * transferred with MIME type text/plain:\" errors on\n",
       "             * Chrome.  But how to set the MIME type?  It doesn't seem\n",
       "             * to be part of the websocket stream */\n",
       "            evt.data.type = \"image/png\";\n",
       "\n",
       "            /* Free the memory for the previous frames */\n",
       "            if (fig.imageObj.src) {\n",
       "                (window.URL || window.webkitURL).revokeObjectURL(\n",
       "                    fig.imageObj.src);\n",
       "            }\n",
       "\n",
       "            fig.imageObj.src = (window.URL || window.webkitURL).createObjectURL(\n",
       "                evt.data);\n",
       "            fig.updated_canvas_event();\n",
       "            fig.waiting = false;\n",
       "            return;\n",
       "        }\n",
       "        else if (typeof evt.data === 'string' && evt.data.slice(0, 21) == \"data:image/png;base64\") {\n",
       "            fig.imageObj.src = evt.data;\n",
       "            fig.updated_canvas_event();\n",
       "            fig.waiting = false;\n",
       "            return;\n",
       "        }\n",
       "\n",
       "        var msg = JSON.parse(evt.data);\n",
       "        var msg_type = msg['type'];\n",
       "\n",
       "        // Call the  \"handle_{type}\" callback, which takes\n",
       "        // the figure and JSON message as its only arguments.\n",
       "        try {\n",
       "            var callback = fig[\"handle_\" + msg_type];\n",
       "        } catch (e) {\n",
       "            console.log(\"No handler for the '\" + msg_type + \"' message type: \", msg);\n",
       "            return;\n",
       "        }\n",
       "\n",
       "        if (callback) {\n",
       "            try {\n",
       "                // console.log(\"Handling '\" + msg_type + \"' message: \", msg);\n",
       "                callback(fig, msg);\n",
       "            } catch (e) {\n",
       "                console.log(\"Exception inside the 'handler_\" + msg_type + \"' callback:\", e, e.stack, msg);\n",
       "            }\n",
       "        }\n",
       "    };\n",
       "}\n",
       "\n",
       "// from http://stackoverflow.com/questions/1114465/getting-mouse-location-in-canvas\n",
       "mpl.findpos = function(e) {\n",
       "    //this section is from http://www.quirksmode.org/js/events_properties.html\n",
       "    var targ;\n",
       "    if (!e)\n",
       "        e = window.event;\n",
       "    if (e.target)\n",
       "        targ = e.target;\n",
       "    else if (e.srcElement)\n",
       "        targ = e.srcElement;\n",
       "    if (targ.nodeType == 3) // defeat Safari bug\n",
       "        targ = targ.parentNode;\n",
       "\n",
       "    // jQuery normalizes the pageX and pageY\n",
       "    // pageX,Y are the mouse positions relative to the document\n",
       "    // offset() returns the position of the element relative to the document\n",
       "    var x = e.pageX - $(targ).offset().left;\n",
       "    var y = e.pageY - $(targ).offset().top;\n",
       "\n",
       "    return {\"x\": x, \"y\": y};\n",
       "};\n",
       "\n",
       "/*\n",
       " * return a copy of an object with only non-object keys\n",
       " * we need this to avoid circular references\n",
       " * http://stackoverflow.com/a/24161582/3208463\n",
       " */\n",
       "function simpleKeys (original) {\n",
       "  return Object.keys(original).reduce(function (obj, key) {\n",
       "    if (typeof original[key] !== 'object')\n",
       "        obj[key] = original[key]\n",
       "    return obj;\n",
       "  }, {});\n",
       "}\n",
       "\n",
       "mpl.figure.prototype.mouse_event = function(event, name) {\n",
       "    var canvas_pos = mpl.findpos(event)\n",
       "\n",
       "    if (name === 'button_press')\n",
       "    {\n",
       "        this.canvas.focus();\n",
       "        this.canvas_div.focus();\n",
       "    }\n",
       "\n",
       "    var x = canvas_pos.x * mpl.ratio;\n",
       "    var y = canvas_pos.y * mpl.ratio;\n",
       "\n",
       "    this.send_message(name, {x: x, y: y, button: event.button,\n",
       "                             step: event.step,\n",
       "                             guiEvent: simpleKeys(event)});\n",
       "\n",
       "    /* This prevents the web browser from automatically changing to\n",
       "     * the text insertion cursor when the button is pressed.  We want\n",
       "     * to control all of the cursor setting manually through the\n",
       "     * 'cursor' event from matplotlib */\n",
       "    event.preventDefault();\n",
       "    return false;\n",
       "}\n",
       "\n",
       "mpl.figure.prototype._key_event_extra = function(event, name) {\n",
       "    // Handle any extra behaviour associated with a key event\n",
       "}\n",
       "\n",
       "mpl.figure.prototype.key_event = function(event, name) {\n",
       "\n",
       "    // Prevent repeat events\n",
       "    if (name == 'key_press')\n",
       "    {\n",
       "        if (event.which === this._key)\n",
       "            return;\n",
       "        else\n",
       "            this._key = event.which;\n",
       "    }\n",
       "    if (name == 'key_release')\n",
       "        this._key = null;\n",
       "\n",
       "    var value = '';\n",
       "    if (event.ctrlKey && event.which != 17)\n",
       "        value += \"ctrl+\";\n",
       "    if (event.altKey && event.which != 18)\n",
       "        value += \"alt+\";\n",
       "    if (event.shiftKey && event.which != 16)\n",
       "        value += \"shift+\";\n",
       "\n",
       "    value += 'k';\n",
       "    value += event.which.toString();\n",
       "\n",
       "    this._key_event_extra(event, name);\n",
       "\n",
       "    this.send_message(name, {key: value,\n",
       "                             guiEvent: simpleKeys(event)});\n",
       "    return false;\n",
       "}\n",
       "\n",
       "mpl.figure.prototype.toolbar_button_onclick = function(name) {\n",
       "    if (name == 'download') {\n",
       "        this.handle_save(this, null);\n",
       "    } else {\n",
       "        this.send_message(\"toolbar_button\", {name: name});\n",
       "    }\n",
       "};\n",
       "\n",
       "mpl.figure.prototype.toolbar_button_onmouseover = function(tooltip) {\n",
       "    this.message.textContent = tooltip;\n",
       "};\n",
       "mpl.toolbar_items = [[\"Home\", \"Reset original view\", \"fa fa-home icon-home\", \"home\"], [\"Back\", \"Back to  previous view\", \"fa fa-arrow-left icon-arrow-left\", \"back\"], [\"Forward\", \"Forward to next view\", \"fa fa-arrow-right icon-arrow-right\", \"forward\"], [\"\", \"\", \"\", \"\"], [\"Pan\", \"Pan axes with left mouse, zoom with right\", \"fa fa-arrows icon-move\", \"pan\"], [\"Zoom\", \"Zoom to rectangle\", \"fa fa-square-o icon-check-empty\", \"zoom\"], [\"\", \"\", \"\", \"\"], [\"Download\", \"Download plot\", \"fa fa-floppy-o icon-save\", \"download\"]];\n",
       "\n",
       "mpl.extensions = [\"eps\", \"jpeg\", \"pdf\", \"png\", \"ps\", \"raw\", \"svg\", \"tif\"];\n",
       "\n",
       "mpl.default_extension = \"png\";var comm_websocket_adapter = function(comm) {\n",
       "    // Create a \"websocket\"-like object which calls the given IPython comm\n",
       "    // object with the appropriate methods. Currently this is a non binary\n",
       "    // socket, so there is still some room for performance tuning.\n",
       "    var ws = {};\n",
       "\n",
       "    ws.close = function() {\n",
       "        comm.close()\n",
       "    };\n",
       "    ws.send = function(m) {\n",
       "        //console.log('sending', m);\n",
       "        comm.send(m);\n",
       "    };\n",
       "    // Register the callback with on_msg.\n",
       "    comm.on_msg(function(msg) {\n",
       "        //console.log('receiving', msg['content']['data'], msg);\n",
       "        // Pass the mpl event to the overriden (by mpl) onmessage function.\n",
       "        ws.onmessage(msg['content']['data'])\n",
       "    });\n",
       "    return ws;\n",
       "}\n",
       "\n",
       "mpl.mpl_figure_comm = function(comm, msg) {\n",
       "    // This is the function which gets called when the mpl process\n",
       "    // starts-up an IPython Comm through the \"matplotlib\" channel.\n",
       "\n",
       "    var id = msg.content.data.id;\n",
       "    // Get hold of the div created by the display call when the Comm\n",
       "    // socket was opened in Python.\n",
       "    var element = $(\"#\" + id);\n",
       "    var ws_proxy = comm_websocket_adapter(comm)\n",
       "\n",
       "    function ondownload(figure, format) {\n",
       "        window.open(figure.imageObj.src);\n",
       "    }\n",
       "\n",
       "    var fig = new mpl.figure(id, ws_proxy,\n",
       "                           ondownload,\n",
       "                           element.get(0));\n",
       "\n",
       "    // Call onopen now - mpl needs it, as it is assuming we've passed it a real\n",
       "    // web socket which is closed, not our websocket->open comm proxy.\n",
       "    ws_proxy.onopen();\n",
       "\n",
       "    fig.parent_element = element.get(0);\n",
       "    fig.cell_info = mpl.find_output_cell(\"<div id='\" + id + \"'></div>\");\n",
       "    if (!fig.cell_info) {\n",
       "        console.error(\"Failed to find cell for figure\", id, fig);\n",
       "        return;\n",
       "    }\n",
       "\n",
       "    var output_index = fig.cell_info[2]\n",
       "    var cell = fig.cell_info[0];\n",
       "\n",
       "};\n",
       "\n",
       "mpl.figure.prototype.handle_close = function(fig, msg) {\n",
       "    var width = fig.canvas.width/mpl.ratio\n",
       "    fig.root.unbind('remove')\n",
       "\n",
       "    // Update the output cell to use the data from the current canvas.\n",
       "    fig.push_to_output();\n",
       "    var dataURL = fig.canvas.toDataURL();\n",
       "    // Re-enable the keyboard manager in IPython - without this line, in FF,\n",
       "    // the notebook keyboard shortcuts fail.\n",
       "    IPython.keyboard_manager.enable()\n",
       "    $(fig.parent_element).html('<img src=\"' + dataURL + '\" width=\"' + width + '\">');\n",
       "    fig.close_ws(fig, msg);\n",
       "}\n",
       "\n",
       "mpl.figure.prototype.close_ws = function(fig, msg){\n",
       "    fig.send_message('closing', msg);\n",
       "    // fig.ws.close()\n",
       "}\n",
       "\n",
       "mpl.figure.prototype.push_to_output = function(remove_interactive) {\n",
       "    // Turn the data on the canvas into data in the output cell.\n",
       "    var width = this.canvas.width/mpl.ratio\n",
       "    var dataURL = this.canvas.toDataURL();\n",
       "    this.cell_info[1]['text/html'] = '<img src=\"' + dataURL + '\" width=\"' + width + '\">';\n",
       "}\n",
       "\n",
       "mpl.figure.prototype.updated_canvas_event = function() {\n",
       "    // Tell IPython that the notebook contents must change.\n",
       "    IPython.notebook.set_dirty(true);\n",
       "    this.send_message(\"ack\", {});\n",
       "    var fig = this;\n",
       "    // Wait a second, then push the new image to the DOM so\n",
       "    // that it is saved nicely (might be nice to debounce this).\n",
       "    setTimeout(function () { fig.push_to_output() }, 1000);\n",
       "}\n",
       "\n",
       "mpl.figure.prototype._init_toolbar = function() {\n",
       "    var fig = this;\n",
       "\n",
       "    var nav_element = $('<div/>')\n",
       "    nav_element.attr('style', 'width: 100%');\n",
       "    this.root.append(nav_element);\n",
       "\n",
       "    // Define a callback function for later on.\n",
       "    function toolbar_event(event) {\n",
       "        return fig.toolbar_button_onclick(event['data']);\n",
       "    }\n",
       "    function toolbar_mouse_event(event) {\n",
       "        return fig.toolbar_button_onmouseover(event['data']);\n",
       "    }\n",
       "\n",
       "    for(var toolbar_ind in mpl.toolbar_items){\n",
       "        var name = mpl.toolbar_items[toolbar_ind][0];\n",
       "        var tooltip = mpl.toolbar_items[toolbar_ind][1];\n",
       "        var image = mpl.toolbar_items[toolbar_ind][2];\n",
       "        var method_name = mpl.toolbar_items[toolbar_ind][3];\n",
       "\n",
       "        if (!name) { continue; };\n",
       "\n",
       "        var button = $('<button class=\"btn btn-default\" href=\"#\" title=\"' + name + '\"><i class=\"fa ' + image + ' fa-lg\"></i></button>');\n",
       "        button.click(method_name, toolbar_event);\n",
       "        button.mouseover(tooltip, toolbar_mouse_event);\n",
       "        nav_element.append(button);\n",
       "    }\n",
       "\n",
       "    // Add the status bar.\n",
       "    var status_bar = $('<span class=\"mpl-message\" style=\"text-align:right; float: right;\"/>');\n",
       "    nav_element.append(status_bar);\n",
       "    this.message = status_bar[0];\n",
       "\n",
       "    // Add the close button to the window.\n",
       "    var buttongrp = $('<div class=\"btn-group inline pull-right\"></div>');\n",
       "    var button = $('<button class=\"btn btn-mini btn-primary\" href=\"#\" title=\"Stop Interaction\"><i class=\"fa fa-power-off icon-remove icon-large\"></i></button>');\n",
       "    button.click(function (evt) { fig.handle_close(fig, {}); } );\n",
       "    button.mouseover('Stop Interaction', toolbar_mouse_event);\n",
       "    buttongrp.append(button);\n",
       "    var titlebar = this.root.find($('.ui-dialog-titlebar'));\n",
       "    titlebar.prepend(buttongrp);\n",
       "}\n",
       "\n",
       "mpl.figure.prototype._root_extra_style = function(el){\n",
       "    var fig = this\n",
       "    el.on(\"remove\", function(){\n",
       "\tfig.close_ws(fig, {});\n",
       "    });\n",
       "}\n",
       "\n",
       "mpl.figure.prototype._canvas_extra_style = function(el){\n",
       "    // this is important to make the div 'focusable\n",
       "    el.attr('tabindex', 0)\n",
       "    // reach out to IPython and tell the keyboard manager to turn it's self\n",
       "    // off when our div gets focus\n",
       "\n",
       "    // location in version 3\n",
       "    if (IPython.notebook.keyboard_manager) {\n",
       "        IPython.notebook.keyboard_manager.register_events(el);\n",
       "    }\n",
       "    else {\n",
       "        // location in version 2\n",
       "        IPython.keyboard_manager.register_events(el);\n",
       "    }\n",
       "\n",
       "}\n",
       "\n",
       "mpl.figure.prototype._key_event_extra = function(event, name) {\n",
       "    var manager = IPython.notebook.keyboard_manager;\n",
       "    if (!manager)\n",
       "        manager = IPython.keyboard_manager;\n",
       "\n",
       "    // Check for shift+enter\n",
       "    if (event.shiftKey && event.which == 13) {\n",
       "        this.canvas_div.blur();\n",
       "        // select the cell after this one\n",
       "        var index = IPython.notebook.find_cell_index(this.cell_info[0]);\n",
       "        IPython.notebook.select(index + 1);\n",
       "    }\n",
       "}\n",
       "\n",
       "mpl.figure.prototype.handle_save = function(fig, msg) {\n",
       "    fig.ondownload(fig, null);\n",
       "}\n",
       "\n",
       "\n",
       "mpl.find_output_cell = function(html_output) {\n",
       "    // Return the cell and output element which can be found *uniquely* in the notebook.\n",
       "    // Note - this is a bit hacky, but it is done because the \"notebook_saving.Notebook\"\n",
       "    // IPython event is triggered only after the cells have been serialised, which for\n",
       "    // our purposes (turning an active figure into a static one), is too late.\n",
       "    var cells = IPython.notebook.get_cells();\n",
       "    var ncells = cells.length;\n",
       "    for (var i=0; i<ncells; i++) {\n",
       "        var cell = cells[i];\n",
       "        if (cell.cell_type === 'code'){\n",
       "            for (var j=0; j<cell.output_area.outputs.length; j++) {\n",
       "                var data = cell.output_area.outputs[j];\n",
       "                if (data.data) {\n",
       "                    // IPython >= 3 moved mimebundle to data attribute of output\n",
       "                    data = data.data;\n",
       "                }\n",
       "                if (data['text/html'] == html_output) {\n",
       "                    return [cell, data, j];\n",
       "                }\n",
       "            }\n",
       "        }\n",
       "    }\n",
       "}\n",
       "\n",
       "// Register the function which deals with the matplotlib target/channel.\n",
       "// The kernel may be null if the page has been refreshed.\n",
       "if (IPython.notebook.kernel != null) {\n",
       "    IPython.notebook.kernel.comm_manager.register_target('matplotlib', mpl.mpl_figure_comm);\n",
       "}\n"
      ],
      "text/plain": [
       "<IPython.core.display.Javascript object>"
      ]
     },
     "metadata": {},
     "output_type": "display_data"
    },
    {
     "data": {
      "text/html": [
       "<img src=\"data:image/png;base64,iVBORw0KGgoAAAANSUhEUgAAAyAAAAJYCAYAAACadoJwAAAfaklEQVR4nO3dX4hm9X3H8U/inybVJqERyoLb7NLI2uJqkUDUXiQt7RLaagN7ZxXSKlbvNORiu1db6hootMlCtUKLumWhAV0SSln1oqC9WAJhvaiQ0lbXm14opfFvi4uN24vzm+yTx2fmmdnZzn7nu68X/Hh2fuecmTNzzszOe54/JwEAAAAAAAAAAAAAAAAAAAAAAAAAAAAAAAAAAAAAAAAAAAAAAAAAAAAAAAAAAAAAAAAAAAAAAAAAAAAAAAAAAAAAAAAAAAAAAAAAAAAAAAAAAAAAAAAAAAAAAAAAAAAAAAAAAAAAAAAAAAAAAAAAAAAAAAAAAAAAAAAAAAAAAAAAAAAAAAAAAAAAAAAAAAAAAAAAAAAAAAAAAAAAAAAAAAAAAAAAAAAAAAAAAAAAAAAAAAAAAAAAAAAAAAAAAAAAAAAAAAAAAAAAAAAAAAAAAAAAAAAAAAAAAAAAAACALffZJHcmuS3JzYZhGIZhGEa5cVum39c+G2jgziRnDcMwDMMwjPLjzkADtyU5e+zYsbOnTp0yDMMwDMMwio1jx46tBMhtF/n3Rrggbk5y9tSpU2cBAKjn1KlTKwFy80X+vREuCAECAFCYAKEbAQIAUJgAoRsBAgBQmAChGwECAFCYAKEbAQIAUJgAoRsBAgBQmAChGwECAFCYAKEbAQIAUJgAoRsBAgBQmAChGwECAFCYAKEbAQIAUJgAoRsBAgBQmAChGwECAFCYAKEbAQIAUJgAoRsBAgBQmAChGwECAFCYAKEbAQIAUJgAoRsBAgBQmAChGwECAFCYAKEbAQIAUJgAoRsBAgBQmAChGwECAFCYAKEbAQIAUJgAoRsBAgBQmAChGwECAFCYAKEbAQIAUJgAoRsBAgBQmAChGwECAFCYAKEbAQIAUJgAoRsBAgBQmAChGwECAFCYAKEbAQIAUJgAoRsBAgBQmAChGwECAFCYAKEbAQIAUJgAoRsBAgBQmAChGwECAFCYAKEbAQIAUJgAoRsBAgBQmAChGwECAFCYAKEbAQIAUJgAoRsBAgBQmAChGwECAFCYAKEbAQIAUJgAoRsBAgBQmAChGwECAFCYAKEbAQIAUJgAoRsBAgBQmAChGwECAFCYAKEbAQIAUJgAoRsBAgBQmAChGwECAFCYAKEbAQIAUJgAoRsBAgBQmABh3mVJDiR5JcmZcXtgzK/HDUlOJHlnjBNjbpkXM52Ixza4v/MECABAYQKEeY9lOiGeSHJvkifH24+uY9vrkryV5HSSh8Z4LcmbY9lq7k7yXgQIAEB7AoRZe5N8mOTI3PyRMb93yfbPZAqJnTNzO8fc06ts85kkr2e6l0WAAAA0J0CYdTjTybB7bn73mH94jW2vzvSQraMLlh1N8n6SqxYs+8sk/5bkyggQAID2BAizns90b8QibyR5bo1tb810It2/YNkDY9ktc/M3J/lxkt8ebwsQAIDmBAizXk5yapVlL43lq9mf6US6fcGyO8ay/TNzH0/y/SR/PzO30QDZkenEnR13RoAAAJQlQJj1apKTqyw7mekVsVZzd6YTad+CZfvGsrtm5u7L9LCsX5qZ22iAHBrbfGQIEACAmgQIs7bqHpBrkvxXkj+dW889IAAAzQkQZm3Vc0COZAqQX0mya2acTfLd8e9PbWC/Z3kOCABAYQKEWY9k7VfBOrzGtsteBevMWCdJvpdVHjo1M75xXp+BAAEAKE2AMOumrH0dkBvH21ckuT7TQ6BmHc90zY9rZ+ZWrgNyfGbui0m+umCcTfLC+Pfnz/NzECAAAIUJEOY9nnNXQr9n3J4d8yt2jbmn5rbdk+TtTFdCf3CM02Nuzzo+tpfhBQBoToAw7/IkBzOFw5lxe3DMr9iVxQGSTPeSPJvk3TGezbl7TpYRIAAAzQkQuhEgAACFCRC6ESAAAIUJELoRIAAAhQkQuhEgAACFCRC6ESAAAIUJELoRIAAAhQkQuhEgAACFCRC6ESAAAIUJELoRIAAAhQkQuhEgAACFCRC6ESAAAIUJELoRIAAAhQkQuhEgAACFCRC6ESAAAIUJELoRIAAAhQkQuhEgAACFCRC6ESAAAIUJELoRIAAAhQkQuhEgAACFCRC6ESAAAIUJELoRIAAAhQkQuhEgAACFCRC6ESAAAIUJELoRIAAAhQkQuhEgAACFCRC6ESAAAIUJELoRIAAAhQkQuhEgAACFCRC6ESAAAIUJELoRIAAAhQkQuhEgAACFCRC6ESAAAIUJELoRIAAAhQkQuhEgAACFCRC6ESAAAIUJELoRIAAAhQkQuhEgAACFCRC6ESAAAIUJELoRIAAAhQkQuhEgAACFCRC6ESAAAIUJELoRIAAAhQkQuhEgAACFCRC6ESAAAIUJELoRIAAAhQkQuhEgAACFCRC6ESAAAIUJELoRIAAAhQkQuhEgAACFCRC6ESAAAIUJELoRIAAAhQkQuhEgAACFCRC6ESAAAIUJELoRIAAAhQkQuhEgAACFCRC6ESAAAIUJELoRIAAAhQkQuhEgAACFCRC6ESAAAIUJELoRIAAAhQkQuhEgAACFCRC6ESAAAIUJELoRIAAAhQkQuhEgAACFCRC6ESAAAIUJELoRIAAAhQkQuhEgAACFCRC6ESAAAIUJELoRIAAAhQkQuhEgAACFCRC6ESAAAIUJEOZdluRAkleSnBm3B8b8etyQ5ESSd8Y4MeZm/WyS+8ey/0jyP0l+mOTPknxmc7svQAAAKhMgzHss0wnxRJJ7kzw53n50Hdtel+StJKeTPDTGa0neHMtW3JDkwyQvJjk4Ps5fJfkgyb8n+dQm9l+AAAAUJkCYtTdTGByZmz8y5vcu2f6ZJO8l2Tkzt3PMPT0zd02SGxds/4eZTsavr3+XP0KAAAAUJkCYdTjTybB7bn73mH94jW2vzvSQraMLlh1N8n6Sq5Z8/J8bH+dv1rOzqxAgAACFCRBmPZ/k9VWWvZHkuTW2vTXTiXT/gmUPjGW3LPn4e8Z631yy3loECABAYQKEWS8nObXKspfG8tXsz3Qi3b5g2R1j2f4lH/9vMz3U66Yl663YkenEnR13RoAAAJQlQJj1apKTqyw7mekVsVZzd6YTad+CZfvGsrvW2P6+sc63lu/mTxwa23xkCBAAgJoECLMu1j0gX03yv0n+Icnl69rTiXtAAAC2GQHCrIvxHJB9mZ6g/mKST657T1fnOSAAAIUJEGY9krVfBevwGtsuexWsM2OdWV/KdBHCH2Rz1/6YJUAAAAoTIMy6KWtfB2Tl2h1XJLk+00OgZh3PdM2Pa2fmVq4Dcnxu3S8meTfTw7p+frM7PkOAAAAUJkCY93jOXQn9nnF7dsyv2DXmnprbdk+StzNdCf3BMU6PuT0z630uyY8yXfn8G5menD47fmsT+y9AAAAKEyDMuzzJwUzhcGbcHsxPPzl8VxYHSDLdS/Jspns33h3/nr/q+ZezyqtXjfHCJvZfgAAAFCZA6EaAAAAUJkDoRoAAABQmQOhGgAAAFCZA6EaAAAAUJkDoRoAAABQmQOhGgAAAFCZA6EaAAAAUJkDoRoAAABQmQOhGgAAAFCZA6EaAAAAUJkDoRoAAABQmQOhGgAAAFCZA6EaAAAAUJkDoRoAAABQmQOhGgAAAFCZA6EaAAAAUJkDoRoAAABQmQOhGgAAAFCZA6EaAAAAUJkDoRoAAABQmQOhGgAAAFCZA6EaAAAAUJkDoRoAAABQmQOhGgAAAFCZA6EaAAAAUJkDoRoAAABQmQOhGgAAAFCZA6EaAAAAUJkDoRoAAABQmQOhGgAAAFCZA6EaAAAAUJkDoRoAAABQmQOhGgAAAFCZA6EaAAAAUJkDoRoAAABQmQOhGgAAAFCZA6EaAAAAUJkDoRoAAABQmQOhGgAAAFCZA6EaAAAAUJkDoRoAAABQmQOhGgAAAFCZA6EaAAAAUJkDoRoAAABQmQOhGgAAAFCZA6EaAAAAUJkDoRoAAABQmQOhGgAAAFCZA6EaAAAAUJkDoRoAAABQmQOhGgAAAFCZA6EaAAAAUJkDoRoAAABQmQOhGgAAAFCZA6EaAAAAUJkDoRoAAABQmQOhGgAAAFCZA6EaAAAAUJkDoRoAAABQmQOhGgAAAFCZA6EaAAAAUJkDoRoAAABQmQOhGgAAAFCZA6EaAAAAUJkDoRoAAABQmQOhGgAAAFCZA6EaAAAAUJkDoRoAAABQmQOhGgAAAFCZA6EaAAAAUJkDoRoAAABQmQJh3WZIDSV5JcmbcHhjz63FDkhNJ3hnjxJjb7LrrJUAAAAoTIMx7LNMJ8USSe5M8Od5+dB3bXpfkrSSnkzw0xmtJ3hzLznfdjRAgAACFCRBm7U3yYZIjc/NHxvzeJds/k+S9JDtn5naOuac3se5GCBAAgMIECLMOZzoZds/N7x7zD6+x7dWZHrJ1dMGyo0neT3LVeay7UQIEAKAwAcKs55O8vsqyN5I8t8a2t2Y6ke5fsOyBseyW81h3owQIAEBhAoRZLyc5tcqyl8by1ezPdCLdvmDZHWPZ/vNYdy07Mp24s+POCBAAgLIECLNeTXJylWUnM70i1mruznQi7VuwbN9Ydtd5rLuWQ2PdjwwBAgBQkwBhlntAAAD4fyVAmOU5IAAA/L8SIMx6JGu/CtbhNbZd9spWZ8Y6G113owQIAEBhAoRZN2Xt64DcON6+Isn1mR4CNet4put4XDszt3Jtj+ObWHcjBAgAQGEChHmP59yV0O8Zt2fH/IpdY+6puW33JHk709XNHxzj9Jjbs4l1N0KAAAAUJkCYd3mSg5li4My4PTjmV+zK4gBJpntJnk3y7hjP5tw9J5tZd70ECABAYQKEbgQIAEBhAoRuBAgAQGEChG4ECABAYQKEbgQIAEBhAoRuBAgAQGEChG4ECABAYQKEbgQIAEBhAoRuBAgAQGEChG4ECABAYQKEbgQIAEBhAoRuBAgAQGEChG4ECABAYQKEbgQIAEBhAoRuBAgAQGEChG4ECABAYQKEbgQIAEBhAoRuBAgAQGEChG4ECABAYQKEbgQIAEBhAoRuBAgAQGEChG4ECABAYQKEbgQIAEBhAoRuBAgAQGEChG4ECABAYQKEbgQIAEBhAoRuBAgAQGEChG4ECABAYQKEbgQIAEBhAoRuBAgAQGEChG4ECABAYQKEbgQIAEBhAoRuBAgAQGEChG4ECABAYQKEbgQIAEBhAoRuBAgAQGEChG4ECABAYQKEbgQIAEBhAoRuBAgAQGEChG4ECABAYQKEbgQIAEBhAoRuBAgAQGEChG4ECABAYQKEbgQIAEBhAoRuBAgAQGEChG4ECABAYQKEbgQIAEBhAoRuBAgAQGEChG4ECABAYQKEbgQIAEBhAoRuBAgAQGEChG4ECABAYQKEbgQIAEBhAoRuBAgAQGEChG4ECABAYQKEbgQIAEBhAoRuBAgAQGEChG4ECABAYQKEbgQIAEBhAoRuBAgAQGEChG4ECABAYQKEbgQIAEBhAoRuBAgAQGEChG4ECABAYQKEbgQIAEBhAoRuBAgAQGEChG4ECABAYQKEbgQIAEBhAoRuBAgAQGEChG4ECABAYQKEbgQIAEBhAoRuBAgAQGEChEVuSHIiyTtjnBhz63VZkgNJXklyZtweGPOzvpDk20n+Ocm7SV5P8o9JfnMT+y5AAAAKEyDMuy7JW0lOJ3lojNeSvDmWrcdjmU6qJ5Lcm+TJ8fajc+s9k+Q/kzye5L4kX0/y8lj3gfPcfwECAFCYAGHeM0neS7JzZm7nmHt6HdvvTfJhkiNz80fG/N6ZuV9L8jNz630yyb8m+VGSy9e91+cIEACAwgQIs67O9JCpowuWHU3yfpKrlryPw5lOqN1z87vH/MPr2I8/H+teu4515wkQAIDCBAizbs10Mty/YNkDY9ktS97H85mey7HIG0meW8d+/F2SDzIF0UYJEACAwgQIs/ZnOhluX7DsjrFs/5L38XKSU6sse2ksX8svZ7oX5viS9ZJkR6YTd3bcGQECAFCWAOnrY0k+sc5x5djm7kwnw74F72/fWHbXko/7apKTqyw7mekVsVbz6SQ/zPQk+M8t+ThJcmjs00eGAAEAqEmA9LUrq/xyvmC8MLa5mPeAfDLJP2V6nsmvL/kYK9wDAgCwzQiQvq5O8rV1jq+MbS7Wc0CuHPMfJPm9Je9/Gc8BAQAoTIAwa9mrYJ3J8ieGP5K1XwXr8Nz85Um+l+THSX5/g/u7iAABAChMgDDveKZrfsy+BO7KdUDmnxi+I8n1Sa6Ymbspa18H5MaZuY8n+U6mE/CPNrvjgwABAChMgDBvT5K3M10J/cExTo+5PXPrPpXp5Nk1N/94zl0J/Z5xe3bMz/qLMf9ipie3z49fOI/9FyAAAIUJEBa5McmzSd4d49n89D0XK57K4gC5PMnBTOFyZtwezEevbP5C1n5y/JfPY98FCABAYQKEbgQIAEBhAoRuBAgAQGEChG4ECABAYQKEbgQIAEBhAoRuBAgAQGEChG4ECABAYQKEbgQIAEBhAoRuBAgAQGEChG4ECABAYQKEbgQIAEBhAoRuBAgAQGEChG4ECABAYQKEbgQIAEBhAoRuBAgAQGEChG4ECABAYQKEbgQIAEBhAoRuBAgAQGEChG4ECABAYQKEbgQIAEBhAoRuBAgAQGEChG4ECABAYQKEbgQIAEBhAoRuBAgAQGEChG4ECABAYQKEbgQIAEBhAoRuBAgAQGEChG4ECABAYQKEbgQIAEBhAoRuBAgAQGEChG4ECABAYQKEbgQIAEBhAoRuBAgAQGEChG4ECABAYQKEbgQIAEBhAoRuBAgAQGEChG4ECABAYQKEbgQIAEBhAoRuBAgAQGEChG4ECABAYQKEbgQIAEBhAoRuBAgAQGEChG4ECABAYQKEbgQIAEBhAoRuBAgAQGEChG4ECABAYQKEbgQIAEBhAoRuBAgAQGEChG4ECABAYQKEbgQIAEBhAoRuBAgAQGEChG4ECABAYQKEbgQIAEBhAoRuBAgAQGEChG4ECABAYQKEbgQIAEBhAoRuBAgAQGEChG4ECABAYQKEbgQIAEBhAoRuBAgAQGEChG4ECABAYQKEbgQIAEBhAoRuBAgAQGEChG4ECABAYQKEbgQIAEBhAoRuBAgAQGEChG4ECABAYQKEbgQIAEBhAoRuBAgAQGEChG4ECABAYQKEbgQIAEBhAoRuBAgAQGEChEVuSHIiyTtjnBhz63VZkgNJXklyZtweGPNr+Y1MJ+PZJJ/f2C7/hAABAChMgDDvuiRvJTmd5KExXkvy5li2Ho9lOqmeSHJvkifH24+usc0VSf4lyXsRIAAAbQkQ5j2TKQJ2zsztHHNPr2P7vUk+THJkbv7ImN+7ynZ/nOSNJN+KAAEAaEuAMOvqTA+ZOrpg2dEk7ye5asn7OJzphNo9N797zD+8YJtfTPLfSf4gyaEIEACAtgQIs27NdDLcv2DZA2PZLUvex/NJXl9l2RtJnlsw/90k30/ysQgQAIDWBAiz9mc6GW5fsOyOsWz/kvfxcpJTqyx7aSyf9TtJfpzkC+PtQ1l/gOzIdOLOjjsjQAAAyhIgfX0sySfWOa4c29yd6WTYt+D97RvL7lrycV9NcnKVZSczvSLWik+M9f96Zu5Q1h8gK+t+ZAgQAICaBEhfu7LKL+cLxgtjm62+B+RPkvwoyTUzc4fiHhAAgLYESF9XJ/naOsdXxjZb+RyQHZme1P7NTLG0Mr49Ps6XMj05faM8BwQAoDABwqxlr4J1Zqyzlkey9qtgHR5v/2qW3zPz3oY/AwECAFCaAGHe8Uy/+F87M7dyHZDjc+vuSHJ9posIrrgpa18H5Mbx9qeTfHXB+E7O3Qvzu+ex/wIEAKAwAcK8PUneznQl9AfHOD3m9syt+1Smk2fX3PzjOXcl9HvG7dkxv8yheBleAIC2BAiL3Jjk2STvjvFszt1zMeupLA6Qy5MczBQuZ8btwTG/zKEIEACAtgQI3QgQAIDCBAjdCBAAgMIECN0IEACAwgQI3QgQAIDCBAjdCBAAgMIECN0IEACAwgQI3QgQAIDCBAjdCBAAgMIECN0IEACAwgQI3QgQAIDCBAjdCBAAgMIECN0IEACAwgQI3QgQAIDCBAjdCBAAgMIECN0IEACAwgQI3QgQAIDCBAjdCBAAgMIECN0IEACAwgQI3QgQAIDCBAjdCBAAgMIECN0IEACAwgQI3QgQAIDCBAjdCBAAgMIECN0IEACAwgQI3QgQAIDCBAjdCBAAgMIECN0IEACAwgQI3QgQAIDCBAjdCBAAgMIECN0IEACAwgQI3QgQAIDCBAjdCBAAgMIECN0IEACAwgQI3QgQAIDCBAjdCBAAgMIECN0IEACAwgQI3QgQAIDCBAjdCBAAgMIECN0IEACAwgQI3QgQAIDCBAjdCBAAgMIECN0IEACAwgQI3QgQAIDCBAjdCBAAgMIECN0IEACAwgQI3QgQAIDCBAjdCBAAgMIECN0IEACAwgQI3QgQAIDCBAjdCBAAgMIECN0IEACAwgQI3QgQAIDCBAjdCBAAgMIECN0IEACAwgQI3QgQAIDCBAjd3Jbk7LFjx86eOnXKMAzDMAzDKDaOHTu2EiC3XeTfG+GCuDPTCW0YhmEYhmHUHncGGvhsppP5tkx36xmbHytRd2eBfTEcv0txOIbbfziG23s4fhd+3Da+np8NwAI3Z/rBe/PF3hHOi+O3/TmG259juL05fgBbzA/e7c3x2/4cw+3PMdzeHD+ALeYH7/bm+G1/juH25xhub44fwBbzg3d7c/y2P8dw+3MMtzfHD2CL7UhyaNyy/Th+259juP05htub4wcAAAAAAAAAAAAAAAAAAAAAAAAA29oNSU4keWeME2NuvS5LciDJK0nOjNsDY34tv5HpNdXPJvn8xnaZOVt1DL+Q5NtJ/jnJu0leT/KPSX5zE/t+qTjf75MVGznGmz0fWGwrjuHPJrl/LPuPJP+T5IdJ/izJZza3+5e8rfwenPVipv/njm1wfwHaui7JW0lOJ3lojNeSvDmWrcdjmX64PpHk3iRPjrcfXWObK5L8S5L3IkA2ayuP4TNJ/jPJ40nuS/L1JC+PdR/YzCdxCTif75MVGznGF+J8YLGtOIY3JPkw0y+tB8fH+askHyT59ySfugCfx6Vqq74HZ92dc//PCRCA4ZlMPxx3zsztHHNPr2P7vZn+szwyN39kzO9dZbs/TvJGkm9FgGzWVh7DX0vyM3PrfTLJvyb5UZLL173Xl5bz/T5ZsZFjvNnzgcW26hhek+TGBdv/YaaflV9f/y4zYyu/B1d8JtO9xAciQAB+4upMd0MfXbDsaJL3k1y15H0czvSDdffc/O4x//CCbX4xyX8n+YNMV5UVIOfvYh3DeX8+1r12HeteijbzNd7IMb4Q5wOLbdUxXM3PjY/zN+vZWT7iYhy/v0zyb0mujAAB+IlbM/1QvH/BsgfGsluWvI/nM/2FZ5E3kjy3YP67Sb6f5GMRIJt1sY7hvL/L9BCRq9ex7qVoM1/jjRzjC3E+sNhWHcPV7BnrfXPJeiy21cfv5iQ/TvLb420BAjDsz/RD8fYFy+4Yy/YveR8vJzm1yrKXxvJZv5Pph/IXxtuHIkA242Icw3m/nOmvg8eXrHcp28zXeCPH+EKcDyy2VcdwNX+b6aFCNy1Zj8W28vh9PNMf2f5+Zk6AAC19LMkn1jmuHNvcnemH4r4F72/fWHbXko/7apKTqyw7melVRlZ8Yqz/1zNzhyJAVmyHYzjv05leoeetJJ9b8nEuZZv5Gm/kGF+I84HFtuoYLnLfWOdby3eTVWzl8bsv08OyfmlmToAALe3KuZe0XTZeGNts9V/P/yTTE5WvmZk7FAGyYlfqH8NZn0zyT5n+o/31JR/jUucekO3vYt0D8tUk/5vkH+JFHjZjq47fNUn+K8mfzq0nQICWrk7ytXWOr4xttvL5Azsy/aL6zUy/aK+Mb4+P86VMT06/lFU/hrOuHPMfJPm9Je8fzwHp4GI8B2Rfpp+bL2YKfs7fVh2/I5kC5Ffy0//Xnc30/Mdd8VLKwCVu2St7nMnyJxU/krVfWeTwePtXs/yv+u9t+DNgK4/hisuTfC/Tc3l+f4P7e6na6Nd41kaO8YU4H1hsq47hii9lugjhD+IX1gthq47f97L8/7pvnNdnANDI8Uy/+M++fOrKa5vPP6l4R5LrM11EcMVNWfu11Vdez/7TmR5KMD++k3N/WfrdzX0ql6ytOobJ9OTKlWP2R5vd8UvIer/GV2Q6Pjvm1tvIMd7IuqzfVh7DLyZ5N9PDgn5+sztOkq07fl/M4v/rVh46+9V4yDFA9iR5O9PVXR8c4/SY2zO37lOZfojumpt/fMw/keSecXt2zC9zKJ4DsllbeQz/Ysy/mOlJl/PjFzb/6bS1nq/xrjH31Ny2GznGG1mXjdmKY/i5TM+V+yDTX8rnv8d+68J9OpecrfoeXMRzQADm3Jjk2Ux/cXt3/HvRlXifyuJfXi9PcjDTD+Mz4/Zg1veEyUMRIBfCVh3DF7L2Qwu+vLlPo7X1fI13ZfEvP8n6j/FG12X9tuIYfjnrewEKNm4rvwfnCRAAAAAAAAAAAAAAAAAAAAAAAAAAAAAAAAAAAAAAAAAAAAAAAAAAAAAAAAAAAAAAAAAAAAAAAAAAAAAAAAAAAAAAAAAAAAAAAAAAAAAAAAAAAAAAAAAAAAAAAAAAAAAAAAAAAAAAAAAAAAAAAAAAAAAAAAAAAAAAAAAAAAAASvs/giR4DD2LC8gAAAAASUVORK5CYII=\" width=\"640\">"
      ],
      "text/plain": [
       "<IPython.core.display.HTML object>"
      ]
     },
     "metadata": {},
     "output_type": "display_data"
    }
   ],
   "source": [
    "plot_output_data(protocol, 0x0a, [], 0)"
   ]
  },
  {
   "cell_type": "code",
   "execution_count": null,
   "metadata": {
    "collapsed": true
   },
   "outputs": [],
   "source": [
    "# Set duty cycle of particular PWM channel\n",
    "channel = 1\n",
    "dutyCycle = 0.1\n",
    "protocol.send_command(0x03, [channel, dutyCycle])"
   ]
  },
  {
   "cell_type": "code",
   "execution_count": null,
   "metadata": {
    "collapsed": true
   },
   "outputs": [],
   "source": [
    "# Set direction bit for particular motor\n",
    "channel = 1\n",
    "protocol.send_command(0x04, [channel])"
   ]
  },
  {
   "cell_type": "code",
   "execution_count": null,
   "metadata": {
    "collapsed": true
   },
   "outputs": [],
   "source": [
    "# Reset direction bit for particular motor\n",
    "channel = 1\n",
    "protocol.send_command(0x05, [channel]);"
   ]
  },
  {
   "cell_type": "code",
   "execution_count": null,
   "metadata": {
    "collapsed": true
   },
   "outputs": [],
   "source": [
    "# Set speed of all motors to 0\n",
    "\n",
    "protocol.send_command(0x06, [4, 0, 0, 0, 0])"
   ]
  },
  {
   "cell_type": "code",
   "execution_count": null,
   "metadata": {
    "collapsed": true
   },
   "outputs": [],
   "source": [
    "# Set speed of all motors in rad/s\n",
    "\n",
    "protocol.send_command(0x06, [4, 6, 6, 6, 6])"
   ]
  },
  {
   "cell_type": "code",
   "execution_count": null,
   "metadata": {
    "collapsed": true
   },
   "outputs": [],
   "source": [
    "# Read speed of all wheels in rad/s\n",
    "numberOfmotors = 4\n",
    "protocol.send_command(0x07, [numberOfmotors])"
   ]
  },
  {
   "cell_type": "code",
   "execution_count": null,
   "metadata": {
    "collapsed": true
   },
   "outputs": [],
   "source": [
    "# Set robot speed in its own coordinate system\n",
    "Vx = 0.0\n",
    "Vy = 0.0\n",
    "Wz = 3.1415/2\n",
    "protocol.send_command(0x08, [Vx, Vy, Wz])"
   ]
  },
  {
   "cell_type": "code",
   "execution_count": null,
   "metadata": {
    "collapsed": true
   },
   "outputs": [],
   "source": [
    "# Set robot speed in its own coordinate system\n",
    "Vx = 0.0\n",
    "Vy = 0.0\n",
    "Wz = 0.0\n",
    "\n",
    "protocol.send_command(0x08, [Vx, Vy, Wz])"
   ]
  },
  {
   "cell_type": "code",
   "execution_count": null,
   "metadata": {
    "collapsed": true
   },
   "outputs": [],
   "source": [
    "# Read robot speed in its own coordinate system\n",
    "protocol.send_command(0x09, [])"
   ]
  },
  {
   "cell_type": "code",
   "execution_count": null,
   "metadata": {
    "collapsed": true
   },
   "outputs": [],
   "source": [
    "# Read robot coord in its own coordinate system\n",
    "protocol.send_command(0x0a, [])"
   ]
  },
  {
   "cell_type": "code",
   "execution_count": 169,
   "metadata": {},
   "outputs": [
    {
     "name": "stdout",
     "output_type": "stream",
     "text": [
      "b''\n",
      "bytearray(b'\\x02\\xff\\x00')\n",
      "send  bytearray(b'\\xfa\\xaf\\x08\\x0b\\x02\\xff\\x00\\xbd')\n",
      "answer  bytearray(b'\\xfa\\xfa\\x07\\x0bOK\\xa0')\n"
     ]
    },
    {
     "data": {
      "text/plain": [
       "(79, 75)"
      ]
     },
     "execution_count": 169,
     "metadata": {},
     "output_type": "execute_result"
    }
   ],
   "source": [
    "# Move servo of particular id (first parameter), to specified angle (second parameter) \n",
    "servoId = 2\n",
    "angle = 255\n",
    "protocol.send_command(0x0b, [servoId, angle])"
   ]
  },
  {
   "cell_type": "code",
   "execution_count": 168,
   "metadata": {},
   "outputs": [
    {
     "name": "stdout",
     "output_type": "stream",
     "text": [
      "b''\n",
      "bytearray(b'\\x02')\n",
      "send  bytearray(b'\\xfa\\xaf\\x06\\x0c\\x02\\xbd')\n",
      "answer  bytearray(b'\\xfa\\xfa\\t\\x0c\\x00\\x00\\x00\\x00\\t')\n"
     ]
    },
    {
     "data": {
      "text/plain": [
       "(0.0,)"
      ]
     },
     "execution_count": 168,
     "metadata": {},
     "output_type": "execute_result"
    }
   ],
   "source": [
    "# Get angle of particular servo\n",
    "servoId = 2\n",
    "protocol.send_command(0x0c, [servoId])"
   ]
  },
  {
   "cell_type": "code",
   "execution_count": null,
   "metadata": {
    "collapsed": true
   },
   "outputs": [],
   "source": [
    "# Turn on/off forward kinematics calculations\n",
    "status = 1\n",
    "protocol.send_command(0x0D, [status])"
   ]
  },
  {
   "cell_type": "code",
   "execution_count": null,
   "metadata": {
    "collapsed": true
   },
   "outputs": [],
   "source": [
    "# Get status\n",
    "protocol.send_command(0xa0, [1, 1, 1])"
   ]
  },
  {
   "cell_type": "code",
   "execution_count": 81,
   "metadata": {
    "collapsed": true
   },
   "outputs": [],
   "source": [
    "# Parameters for right manipulator\n",
    "rightSliderId = 1\n",
    "rightGripperId = 16\n",
    "\n",
    "rightSliderUpPos = 45\n",
    "rightSliderBotPos = 300\n",
    "rightGripperOpened = 40\n",
    "rightGripperClosed = 150"
   ]
  },
  {
   "cell_type": "code",
   "execution_count": 158,
   "metadata": {},
   "outputs": [
    {
     "name": "stdout",
     "output_type": "stream",
     "text": [
      "b''\n",
      "bytearray(b'\\x10(\\x00')\n",
      "send  bytearray(b'\\xfa\\xaf\\x08\\x0b\\x10(\\x00\\xf4')\n",
      "answer  bytearray(b'\\xfa\\xfa\\x07\\x0bOK\\xa0')\n",
      "b''\n",
      "bytearray(b'\\x01,\\x01')\n",
      "send  bytearray(b'\\xfa\\xaf\\x08\\x0b\\x01,\\x01\\xea')\n",
      "answer  bytearray(b'\\xfa\\xfa\\x07\\x0bOK\\xa0')\n"
     ]
    },
    {
     "data": {
      "text/plain": [
       "(79, 75)"
      ]
     },
     "execution_count": 158,
     "metadata": {},
     "output_type": "execute_result"
    }
   ],
   "source": [
    "# Open and lower manipulator\n",
    "protocol.send_command(0x0b, [rightGripperId, rightGripperOpened])\n",
    "time.sleep(0.5)\n",
    "protocol.send_command(0x0b, [rightSliderId, rightSliderBotPos])"
   ]
  },
  {
   "cell_type": "code",
   "execution_count": 159,
   "metadata": {},
   "outputs": [
    {
     "name": "stdout",
     "output_type": "stream",
     "text": [
      "b''\n",
      "bytearray(b'\\x10\\x96\\x00')\n",
      "send  bytearray(b'\\xfa\\xaf\\x08\\x0b\\x10\\x96\\x00b')\n",
      "answer  bytearray(b'\\xfa\\xfa\\x07\\x0bOK\\xa0')\n",
      "b''\n",
      "bytearray(b'\\x01-\\x00')\n",
      "send  bytearray(b'\\xfa\\xaf\\x08\\x0b\\x01-\\x00\\xea')\n",
      "answer  bytearray(b'\\xfa\\xfa\\x07\\x0bOK\\xa0')\n"
     ]
    },
    {
     "data": {
      "text/plain": [
       "(79, 75)"
      ]
     },
     "execution_count": 159,
     "metadata": {},
     "output_type": "execute_result"
    }
   ],
   "source": [
    "# Close and lift manipulator\n",
    "protocol.send_command(0x0b, [rightGripperId, rightGripperClosed])\n",
    "time.sleep(0.5)\n",
    "protocol.send_command(0x0b, [rightSliderId, rightSliderUpPos])"
   ]
  },
  {
   "cell_type": "code",
   "execution_count": 160,
   "metadata": {},
   "outputs": [
    {
     "name": "stdout",
     "output_type": "stream",
     "text": [
      "b''\n",
      "bytearray(b'\\x10(\\x00')\n",
      "send  bytearray(b'\\xfa\\xaf\\x08\\x0b\\x10(\\x00\\xf4')\n",
      "answer  bytearray(b'\\xfa\\xfa\\x07\\x0bOK\\xa0')\n",
      "b''\n",
      "bytearray(b'\\x01,\\x01')\n",
      "send  bytearray(b'\\xfa\\xaf\\x08\\x0b\\x01,\\x01\\xea')\n",
      "answer  bytearray(b'\\xfa\\xfa\\x07\\x0bOK\\xa0')\n"
     ]
    },
    {
     "data": {
      "text/plain": [
       "(79, 75)"
      ]
     },
     "execution_count": 160,
     "metadata": {},
     "output_type": "execute_result"
    }
   ],
   "source": [
    "# Open and lower manipulator\n",
    "protocol.send_command(0x0b, [rightGripperId, rightGripperOpened])\n",
    "time.sleep(0.5)\n",
    "protocol.send_command(0x0b, [rightSliderId, rightSliderBotPos])"
   ]
  },
  {
   "cell_type": "code",
   "execution_count": 161,
   "metadata": {},
   "outputs": [
    {
     "name": "stdout",
     "output_type": "stream",
     "text": [
      "b''\n",
      "bytearray(b'\\x10\\x96\\x00')\n",
      "send  bytearray(b'\\xfa\\xaf\\x08\\x0b\\x10\\x96\\x00b')\n",
      "answer  bytearray(b'\\xfa\\xfa\\x07\\x0bOK\\xa0')\n",
      "b''\n",
      "bytearray(b'\\x01-\\x00')\n",
      "send  bytearray(b'\\xfa\\xaf\\x08\\x0b\\x01-\\x00\\xea')\n",
      "answer  bytearray(b'\\xfa\\xfa\\x07\\x0bOK\\xa0')\n"
     ]
    },
    {
     "data": {
      "text/plain": [
       "(79, 75)"
      ]
     },
     "execution_count": 161,
     "metadata": {},
     "output_type": "execute_result"
    }
   ],
   "source": [
    "# Close and lift manipulator\n",
    "protocol.send_command(0x0b, [rightGripperId, rightGripperClosed])\n",
    "time.sleep(0.5)\n",
    "protocol.send_command(0x0b, [rightSliderId, rightSliderUpPos])"
   ]
  },
  {
   "cell_type": "code",
   "execution_count": 162,
   "metadata": {},
   "outputs": [
    {
     "name": "stdout",
     "output_type": "stream",
     "text": [
      "b''\n",
      "bytearray(b'\\x10(\\x00')\n",
      "send  bytearray(b'\\xfa\\xaf\\x08\\x0b\\x10(\\x00\\xf4')\n",
      "answer  bytearray(b'\\xfa\\xfa\\x07\\x0bOK\\xa0')\n",
      "b''\n",
      "bytearray(b'\\x01,\\x01')\n",
      "send  bytearray(b'\\xfa\\xaf\\x08\\x0b\\x01,\\x01\\xea')\n",
      "answer  bytearray(b'\\xfa\\xfa\\x07\\x0bOK\\xa0')\n"
     ]
    },
    {
     "data": {
      "text/plain": [
       "(79, 75)"
      ]
     },
     "execution_count": 162,
     "metadata": {},
     "output_type": "execute_result"
    }
   ],
   "source": [
    "# Open and lower manipulator\n",
    "protocol.send_command(0x0b, [rightGripperId, rightGripperOpened])\n",
    "time.sleep(0.5)\n",
    "protocol.send_command(0x0b, [rightSliderId, rightSliderBotPos])"
   ]
  },
  {
   "cell_type": "code",
   "execution_count": 167,
   "metadata": {},
   "outputs": [
    {
     "name": "stdout",
     "output_type": "stream",
     "text": [
      "b''\n",
      "bytearray(b'\\x10\\x96\\x00')\n",
      "send  bytearray(b'\\xfa\\xaf\\x08\\x0b\\x10\\x96\\x00b')\n",
      "answer  bytearray(b'\\xfa\\xfa\\x07\\x0bOK\\xa0')\n",
      "b''\n",
      "bytearray(b'\\x01-\\x00')\n",
      "send  bytearray(b'\\xfa\\xaf\\x08\\x0b\\x01-\\x00\\xea')\n",
      "answer  bytearray(b'\\xfa\\xfa\\x07\\x0bOK\\xa0')\n"
     ]
    },
    {
     "data": {
      "text/plain": [
       "(79, 75)"
      ]
     },
     "execution_count": 167,
     "metadata": {},
     "output_type": "execute_result"
    }
   ],
   "source": [
    "# Close and lift manipulator\n",
    "protocol.send_command(0x0b, [rightGripperId, rightGripperClosed])\n",
    "time.sleep(0.5)\n",
    "protocol.send_command(0x0b, [rightSliderId, rightSliderUpPos])"
   ]
  },
  {
   "cell_type": "code",
   "execution_count": 166,
   "metadata": {},
   "outputs": [
    {
     "name": "stdout",
     "output_type": "stream",
     "text": [
      "b''\n",
      "bytearray(b'\\x01,\\x01')\n",
      "send  bytearray(b'\\xfa\\xaf\\x08\\x0b\\x01,\\x01\\xea')\n",
      "answer  bytearray(b'\\xfa\\xfa\\x07\\x0bOK\\xa0')\n",
      "b''\n",
      "bytearray(b'\\x10(\\x00')\n",
      "send  bytearray(b'\\xfa\\xaf\\x08\\x0b\\x10(\\x00\\xf4')\n",
      "answer  bytearray(b'\\xfa\\xfa\\x07\\x0bOK\\xa0')\n"
     ]
    },
    {
     "data": {
      "text/plain": [
       "(79, 75)"
      ]
     },
     "execution_count": 166,
     "metadata": {},
     "output_type": "execute_result"
    }
   ],
   "source": [
    "# Lower and open\n",
    "protocol.send_command(0x0b, [rightSliderId, rightSliderBotPos])\n",
    "time.sleep(1)\n",
    "protocol.send_command(0x0b, [rightGripperId, rightGripperOpened])"
   ]
  },
  {
   "cell_type": "code",
   "execution_count": null,
   "metadata": {
    "collapsed": true
   },
   "outputs": [],
   "source": [
    "Vx = 0.0\n",
    "Vy = 0.0\n",
    "Wz = 3.1415926/2\n",
    "protocol.send_command(0x08, [Vx, Vy, Wz])\n",
    "\n",
    "time.sleep(3.3)\n",
    "\n",
    "Vx = 0.0\n",
    "Vy = 0.0\n",
    "Wz = 0.0\n",
    "protocol.send_command(0x08, [Vx, Vy, Wz])\n",
    "\n",
    "time.sleep(0.3)\n",
    "\n",
    "Vx = 0.0\n",
    "Vy = 0.1\n",
    "Wz = 0.0\n",
    "protocol.send_command(0x08, [Vx, Vy, Wz])\n",
    "\n",
    "time.sleep(4)\n",
    "\n",
    "Vx = 0.0\n",
    "Vy = 0.0\n",
    "Wz = 0.0\n",
    "protocol.send_command(0x08, [Vx, Vy, Wz])\n",
    "\n",
    "time.sleep(0.3)\n",
    "\n",
    "Vx = 0.1\n",
    "Vy = 0.0\n",
    "Wz = 0.0\n",
    "protocol.send_command(0x08, [Vx, Vy, Wz])\n",
    "\n",
    "time.sleep(4)\n",
    "\n",
    "Vx = 0.0\n",
    "Vy = 0.0\n",
    "Wz = 0.0\n",
    "protocol.send_command(0x08, [Vx, Vy, Wz])\n",
    "\n",
    "time.sleep(0.3)\n",
    "\n",
    "Vx = -0.1\n",
    "Vy = -0.1\n",
    "Wz = 0.0\n",
    "protocol.send_command(0x08, [Vx, Vy, Wz])\n",
    "\n",
    "time.sleep(4)\n",
    "\n",
    "Vx = 0.0\n",
    "Vy = 0.0\n",
    "Wz = 0.0\n",
    "protocol.send_command(0x08, [Vx, Vy, Wz])"
   ]
  }
 ],
 "metadata": {
  "kernelspec": {
   "display_name": "Python 3",
   "language": "python",
   "name": "python3"
  },
  "language_info": {
   "codemirror_mode": {
    "name": "ipython",
    "version": 3
   },
   "file_extension": ".py",
   "mimetype": "text/x-python",
   "name": "python",
   "nbconvert_exporter": "python",
   "pygments_lexer": "ipython3",
   "version": "3.6.1"
  },
  "toc": {
   "nav_menu": {},
   "number_sections": true,
   "sideBar": true,
   "skip_h1_title": false,
   "toc_cell": false,
   "toc_position": {},
   "toc_section_display": "block",
   "toc_window_display": false
  },
  "varInspector": {
   "cols": {
    "lenName": 16,
    "lenType": 16,
    "lenVar": 40
   },
   "kernels_config": {
    "python": {
     "delete_cmd_postfix": "",
     "delete_cmd_prefix": "del ",
     "library": "var_list.py",
     "varRefreshCmd": "print(var_dic_list())"
    },
    "r": {
     "delete_cmd_postfix": ") ",
     "delete_cmd_prefix": "rm(",
     "library": "var_list.r",
     "varRefreshCmd": "cat(var_dic_list()) "
    }
   },
   "types_to_exclude": [
    "module",
    "function",
    "builtin_function_or_method",
    "instance",
    "_Feature"
   ],
   "window_display": false
  }
 },
 "nbformat": 4,
 "nbformat_minor": 2
}
