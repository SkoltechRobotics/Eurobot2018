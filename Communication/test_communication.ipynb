{
 "cells": [
  {
   "cell_type": "code",
   "execution_count": null,
   "metadata": {
    "collapsed": true
   },
   "outputs": [],
   "source": [
    "# %load send_command.py\n",
    "from STMprotocol import STMprotocol\n",
    "import sys\n",
    "argv = \"send 2 COM8 3 1 0.1\" \n",
    "\n",
    "protocol = STMprotocol(argv[1])\n",
    "\n",
    "cmd = int(argv[2])\n",
    "\n",
    "parameters = []\n",
    "\n",
    "if cmd == 1:\n",
    "    args = protocol.send_command(cmd, b\"ECHO\")\n",
    "elif cmd == 3 or cmd == 9:\n",
    "    args = protocol.send_command(cmd, [int(argv[3]), argv[4]])\n",
    "elif cmd == 4 or cmd == 5 or cmd == 10:\n",
    "    args = protocol.send_command(cmd, [int(argv[3])])\n",
    "elif cmd == 11:\n",
    "    args = protocol.send_command(cmd, [int(argv[3]), int(argv[4])])\n",
    "else:\n",
    "    args = protocol.send_command(cmd, [float(argv[3]), float(argv[4]), float(argv[5])])\n",
    "\n",
    "print(args)\n"
   ]
  },
  {
   "cell_type": "code",
   "execution_count": null,
   "metadata": {
    "collapsed": true
   },
   "outputs": [],
   "source": []
  }
 ],
 "metadata": {
  "kernelspec": {
   "display_name": "Python 3",
   "language": "python",
   "name": "python3"
  },
  "language_info": {
   "codemirror_mode": {
    "name": "ipython",
    "version": 3
   },
   "file_extension": ".py",
   "mimetype": "text/x-python",
   "name": "python",
   "nbconvert_exporter": "python",
   "pygments_lexer": "ipython3",
   "version": "3.6.1"
  },
  "toc": {
   "nav_menu": {},
   "number_sections": true,
   "sideBar": true,
   "skip_h1_title": false,
   "toc_cell": false,
   "toc_position": {},
   "toc_section_display": "block",
   "toc_window_display": false
  },
  "varInspector": {
   "cols": {
    "lenName": 16,
    "lenType": 16,
    "lenVar": 40
   },
   "kernels_config": {
    "python": {
     "delete_cmd_postfix": "",
     "delete_cmd_prefix": "del ",
     "library": "var_list.py",
     "varRefreshCmd": "print(var_dic_list())"
    },
    "r": {
     "delete_cmd_postfix": ") ",
     "delete_cmd_prefix": "rm(",
     "library": "var_list.r",
     "varRefreshCmd": "cat(var_dic_list()) "
    }
   },
   "types_to_exclude": [
    "module",
    "function",
    "builtin_function_or_method",
    "instance",
    "_Feature"
   ],
   "window_display": false
  }
 },
 "nbformat": 4,
 "nbformat_minor": 2
}
