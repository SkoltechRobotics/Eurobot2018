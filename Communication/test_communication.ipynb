{
 "cells": [
  {
   "cell_type": "markdown",
   "metadata": {},
   "source": [
    "# Protocol definition"
   ]
  },
  {
   "cell_type": "code",
   "execution_count": 1,
   "metadata": {
    "collapsed": true
   },
   "outputs": [],
   "source": [
    "# %load STMprotocol.py\n",
    "import serial\n",
    "import struct\n",
    "import datetime\n",
    "import time\n",
    "\n",
    "class STMprotocol:\n",
    "    def __init__(self, serial_port):\n",
    "        self.ser = serial.Serial(serial_port, 115200, timeout=0.2)\n",
    "        self.pack_format = {\n",
    "            0x01: \"=BBBB\",\n",
    "            0x03: \"=Bf\",\n",
    "            0x04: \"=B\",\n",
    "            0x05: \"=B\",\n",
    "            0x06: \"=Bffff\",\n",
    "            0x07: \"=B\",\n",
    "            0x08: \"=fff\",\n",
    "            0x09: \"=\",\n",
    "            0x0a: \"=\",\n",
    "            0x0b: \"=BH\",\n",
    "            0x0c: \"=B\",\n",
    "            0x0d: \"=B\",\n",
    "            \n",
    "            0xa0: \"=fff\",\n",
    "            0xa1: \"=fff\",\n",
    "        }\n",
    "\n",
    "        self.unpack_format = {\n",
    "            0x01: \"=BBBB\",\n",
    "            0x03: \"=BB\",\n",
    "            0x04: \"=BB\",\n",
    "            0x05: \"=BB\",\n",
    "            0x06: \"=BB\",\n",
    "            0x07: \"=ffff\",\n",
    "            0x08: \"=BB\",\n",
    "            0x09: \"=fff\",\n",
    "            0x0a: \"=fff\",\n",
    "            0x0b: \"=BB\",\n",
    "            0x0c: \"=f\",\n",
    "            0x0d: \"=BB\",\n",
    "            \n",
    "            0xa0: \"=Bfff\",\n",
    "            0xa1: \"=BB\",\n",
    "        }\n",
    "\n",
    "    def send_command(self, cmd, args):\n",
    "        # Clear buffer\n",
    "        print(self.ser.read(self.ser.in_waiting))\n",
    "        \n",
    "        parameters = bytearray(struct.pack(self.pack_format[cmd], *args))\n",
    "        print(parameters)\n",
    "        msg_len = len(parameters) + 5\n",
    "        msg = bytearray([0xfa, 0xaf, msg_len, cmd]) + parameters\n",
    "        crc = sum(msg) % 256\n",
    "        msg += bytearray([crc])\n",
    "\n",
    "        print(\"send \", repr(msg))\n",
    "        self.ser.write(msg)\n",
    "\n",
    "        start_time = datetime.datetime.now()\n",
    "        time_threshold = datetime.timedelta(seconds=1)\n",
    "        dt = start_time - start_time\n",
    "        \n",
    "        time.sleep(0.001)\n",
    "        data = self.ser.read()[0]\n",
    "        while (data != 0xfa) and (dt < time_threshold):\n",
    "            data = self.ser.read()[0]\n",
    "\n",
    "            current_time = datetime.datetime.now()\n",
    "            dt = start_time - current_time\n",
    "\n",
    "        adr = self.ser.read()[0]\n",
    "        answer_len = self.ser.read()[0]\n",
    "        answer = bytearray(self.ser.read(answer_len - 3))\n",
    "        print(\"answer \", repr(bytearray([data, adr, answer_len]) + answer))\n",
    "\n",
    "        args = struct.unpack(self.unpack_format[cmd], answer[1:-1])\n",
    "        return args\n"
   ]
  },
  {
   "cell_type": "markdown",
   "metadata": {},
   "source": [
    "# Function of animation of output data"
   ]
  },
  {
   "cell_type": "code",
   "execution_count": 2,
   "metadata": {
    "run_control": {
     "marked": true
    }
   },
   "outputs": [],
   "source": [
    "import matplotlib.pyplot as plt\n",
    "from matplotlib.animation import FuncAnimation\n",
    "%matplotlib notebook\n",
    "class Output_ploter(object):\n",
    "    def __init__(self):\n",
    "        self.xdata = []\n",
    "        self.ydata = []\n",
    "    def time_plot(self, protocol, cmd, args, param, time_duration=10):\n",
    "        def generate_data():\n",
    "            while(1): \n",
    "                res = protocol.send_command(cmd, args)\n",
    "                yield res\n",
    "\n",
    "        fig, ax = plt.subplots()\n",
    "        ln, = ax.plot([])\n",
    "        start_time = time.time()\n",
    "        def init():\n",
    "            ax.set_xlim(0, time_duration)\n",
    "            return ln, \n",
    "\n",
    "        def update(frame):\n",
    "            self.xdata.append(time.time() - start_time)\n",
    "            self.ydata.append(frame[param])\n",
    "            ln.set_data(self.xdata, self.ydata)\n",
    "            if time_duration < self.xdata[-1]:\n",
    "                ax.set_xlim(self.xdata[-1] - time_duration, self.xdata[-1])\n",
    "            ax.set_ylim(min(self.ydata), max(self.ydata))\n",
    "            return ln, \n",
    "        ani = FuncAnimation(fig, update, frames=generate_data(),\n",
    "                        init_func=init, blit=True, interval=25)\n",
    "        return ani\n",
    "    def xy_plot(self, protocol, cmd, args, params, time_duration=10):\n",
    "        def generate_data():\n",
    "            while(1): \n",
    "                res = protocol.send_command(cmd, args)\n",
    "                yield res\n",
    "\n",
    "        fig, ax = plt.subplots()\n",
    "        ln, = ax.plot([])\n",
    "        start_time = time.time()\n",
    "        def init():\n",
    "            ax.set_xlim(0, time_duration)\n",
    "            return ln, \n",
    "\n",
    "        def update(frame):\n",
    "            self.xdata.append(frame[params[0]])\n",
    "            self.ydata.append(frame[params[1]])\n",
    "            ln.set_data(self.xdata, self.ydata)\n",
    "            ax.set_xlim(min(self.xdata), max(self.xdata))\n",
    "            ax.set_ylim(min(self.ydata), max(self.ydata))\n",
    "            return ln, \n",
    "        ani = FuncAnimation(fig, update, frames=generate_data(),\n",
    "                        init_func=init, blit=True, interval=25)\n",
    "        return ani"
   ]
  },
  {
   "cell_type": "markdown",
   "metadata": {},
   "source": [
    "# Work with STM"
   ]
  },
  {
   "cell_type": "markdown",
   "metadata": {},
   "source": [
    "## Start protocol"
   ]
  },
  {
   "cell_type": "code",
   "execution_count": 47,
   "metadata": {
    "collapsed": true
   },
   "outputs": [],
   "source": [
    "protocol = STMprotocol(\"COM10\")"
   ]
  },
  {
   "cell_type": "code",
   "execution_count": 46,
   "metadata": {},
   "outputs": [],
   "source": [
    "protocol.ser.close()"
   ]
  },
  {
   "cell_type": "markdown",
   "metadata": {},
   "source": [
    "## Test echo"
   ]
  },
  {
   "cell_type": "code",
   "execution_count": 48,
   "metadata": {},
   "outputs": [
    {
     "name": "stdout",
     "output_type": "stream",
     "text": [
      "b''\n",
      "bytearray(b'ECHO')\n",
      "send  bytearray(b'\\xfa\\xaf\\t\\x01ECHO\\xd2')\n",
      "answer  bytearray(b'\\xfa\\xfa\\t\\x01ECHO\\x1d')\n"
     ]
    },
    {
     "data": {
      "text/plain": [
       "(69, 67, 72, 79)"
      ]
     },
     "execution_count": 48,
     "metadata": {},
     "output_type": "execute_result"
    }
   ],
   "source": [
    "# Echo\n",
    "protocol.send_command(0x01, [ord(c) for c in 'ECHO'])"
   ]
  },
  {
   "cell_type": "markdown",
   "metadata": {},
   "source": [
    "## On-line plotting of output data"
   ]
  },
  {
   "cell_type": "code",
   "execution_count": 51,
   "metadata": {
    "run_control": {
     "marked": true
    }
   },
   "outputs": [
    {
     "data": {
      "application/javascript": [
       "/* Put everything inside the global mpl namespace */\n",
       "window.mpl = {};\n",
       "\n",
       "\n",
       "mpl.get_websocket_type = function() {\n",
       "    if (typeof(WebSocket) !== 'undefined') {\n",
       "        return WebSocket;\n",
       "    } else if (typeof(MozWebSocket) !== 'undefined') {\n",
       "        return MozWebSocket;\n",
       "    } else {\n",
       "        alert('Your browser does not have WebSocket support.' +\n",
       "              'Please try Chrome, Safari or Firefox ≥ 6. ' +\n",
       "              'Firefox 4 and 5 are also supported but you ' +\n",
       "              'have to enable WebSockets in about:config.');\n",
       "    };\n",
       "}\n",
       "\n",
       "mpl.figure = function(figure_id, websocket, ondownload, parent_element) {\n",
       "    this.id = figure_id;\n",
       "\n",
       "    this.ws = websocket;\n",
       "\n",
       "    this.supports_binary = (this.ws.binaryType != undefined);\n",
       "\n",
       "    if (!this.supports_binary) {\n",
       "        var warnings = document.getElementById(\"mpl-warnings\");\n",
       "        if (warnings) {\n",
       "            warnings.style.display = 'block';\n",
       "            warnings.textContent = (\n",
       "                \"This browser does not support binary websocket messages. \" +\n",
       "                    \"Performance may be slow.\");\n",
       "        }\n",
       "    }\n",
       "\n",
       "    this.imageObj = new Image();\n",
       "\n",
       "    this.context = undefined;\n",
       "    this.message = undefined;\n",
       "    this.canvas = undefined;\n",
       "    this.rubberband_canvas = undefined;\n",
       "    this.rubberband_context = undefined;\n",
       "    this.format_dropdown = undefined;\n",
       "\n",
       "    this.image_mode = 'full';\n",
       "\n",
       "    this.root = $('<div/>');\n",
       "    this._root_extra_style(this.root)\n",
       "    this.root.attr('style', 'display: inline-block');\n",
       "\n",
       "    $(parent_element).append(this.root);\n",
       "\n",
       "    this._init_header(this);\n",
       "    this._init_canvas(this);\n",
       "    this._init_toolbar(this);\n",
       "\n",
       "    var fig = this;\n",
       "\n",
       "    this.waiting = false;\n",
       "\n",
       "    this.ws.onopen =  function () {\n",
       "            fig.send_message(\"supports_binary\", {value: fig.supports_binary});\n",
       "            fig.send_message(\"send_image_mode\", {});\n",
       "            if (mpl.ratio != 1) {\n",
       "                fig.send_message(\"set_dpi_ratio\", {'dpi_ratio': mpl.ratio});\n",
       "            }\n",
       "            fig.send_message(\"refresh\", {});\n",
       "        }\n",
       "\n",
       "    this.imageObj.onload = function() {\n",
       "            if (fig.image_mode == 'full') {\n",
       "                // Full images could contain transparency (where diff images\n",
       "                // almost always do), so we need to clear the canvas so that\n",
       "                // there is no ghosting.\n",
       "                fig.context.clearRect(0, 0, fig.canvas.width, fig.canvas.height);\n",
       "            }\n",
       "            fig.context.drawImage(fig.imageObj, 0, 0);\n",
       "        };\n",
       "\n",
       "    this.imageObj.onunload = function() {\n",
       "        this.ws.close();\n",
       "    }\n",
       "\n",
       "    this.ws.onmessage = this._make_on_message_function(this);\n",
       "\n",
       "    this.ondownload = ondownload;\n",
       "}\n",
       "\n",
       "mpl.figure.prototype._init_header = function() {\n",
       "    var titlebar = $(\n",
       "        '<div class=\"ui-dialog-titlebar ui-widget-header ui-corner-all ' +\n",
       "        'ui-helper-clearfix\"/>');\n",
       "    var titletext = $(\n",
       "        '<div class=\"ui-dialog-title\" style=\"width: 100%; ' +\n",
       "        'text-align: center; padding: 3px;\"/>');\n",
       "    titlebar.append(titletext)\n",
       "    this.root.append(titlebar);\n",
       "    this.header = titletext[0];\n",
       "}\n",
       "\n",
       "\n",
       "\n",
       "mpl.figure.prototype._canvas_extra_style = function(canvas_div) {\n",
       "\n",
       "}\n",
       "\n",
       "\n",
       "mpl.figure.prototype._root_extra_style = function(canvas_div) {\n",
       "\n",
       "}\n",
       "\n",
       "mpl.figure.prototype._init_canvas = function() {\n",
       "    var fig = this;\n",
       "\n",
       "    var canvas_div = $('<div/>');\n",
       "\n",
       "    canvas_div.attr('style', 'position: relative; clear: both; outline: 0');\n",
       "\n",
       "    function canvas_keyboard_event(event) {\n",
       "        return fig.key_event(event, event['data']);\n",
       "    }\n",
       "\n",
       "    canvas_div.keydown('key_press', canvas_keyboard_event);\n",
       "    canvas_div.keyup('key_release', canvas_keyboard_event);\n",
       "    this.canvas_div = canvas_div\n",
       "    this._canvas_extra_style(canvas_div)\n",
       "    this.root.append(canvas_div);\n",
       "\n",
       "    var canvas = $('<canvas/>');\n",
       "    canvas.addClass('mpl-canvas');\n",
       "    canvas.attr('style', \"left: 0; top: 0; z-index: 0; outline: 0\")\n",
       "\n",
       "    this.canvas = canvas[0];\n",
       "    this.context = canvas[0].getContext(\"2d\");\n",
       "\n",
       "    var backingStore = this.context.backingStorePixelRatio ||\n",
       "\tthis.context.webkitBackingStorePixelRatio ||\n",
       "\tthis.context.mozBackingStorePixelRatio ||\n",
       "\tthis.context.msBackingStorePixelRatio ||\n",
       "\tthis.context.oBackingStorePixelRatio ||\n",
       "\tthis.context.backingStorePixelRatio || 1;\n",
       "\n",
       "    mpl.ratio = (window.devicePixelRatio || 1) / backingStore;\n",
       "\n",
       "    var rubberband = $('<canvas/>');\n",
       "    rubberband.attr('style', \"position: absolute; left: 0; top: 0; z-index: 1;\")\n",
       "\n",
       "    var pass_mouse_events = true;\n",
       "\n",
       "    canvas_div.resizable({\n",
       "        start: function(event, ui) {\n",
       "            pass_mouse_events = false;\n",
       "        },\n",
       "        resize: function(event, ui) {\n",
       "            fig.request_resize(ui.size.width, ui.size.height);\n",
       "        },\n",
       "        stop: function(event, ui) {\n",
       "            pass_mouse_events = true;\n",
       "            fig.request_resize(ui.size.width, ui.size.height);\n",
       "        },\n",
       "    });\n",
       "\n",
       "    function mouse_event_fn(event) {\n",
       "        if (pass_mouse_events)\n",
       "            return fig.mouse_event(event, event['data']);\n",
       "    }\n",
       "\n",
       "    rubberband.mousedown('button_press', mouse_event_fn);\n",
       "    rubberband.mouseup('button_release', mouse_event_fn);\n",
       "    // Throttle sequential mouse events to 1 every 20ms.\n",
       "    rubberband.mousemove('motion_notify', mouse_event_fn);\n",
       "\n",
       "    rubberband.mouseenter('figure_enter', mouse_event_fn);\n",
       "    rubberband.mouseleave('figure_leave', mouse_event_fn);\n",
       "\n",
       "    canvas_div.on(\"wheel\", function (event) {\n",
       "        event = event.originalEvent;\n",
       "        event['data'] = 'scroll'\n",
       "        if (event.deltaY < 0) {\n",
       "            event.step = 1;\n",
       "        } else {\n",
       "            event.step = -1;\n",
       "        }\n",
       "        mouse_event_fn(event);\n",
       "    });\n",
       "\n",
       "    canvas_div.append(canvas);\n",
       "    canvas_div.append(rubberband);\n",
       "\n",
       "    this.rubberband = rubberband;\n",
       "    this.rubberband_canvas = rubberband[0];\n",
       "    this.rubberband_context = rubberband[0].getContext(\"2d\");\n",
       "    this.rubberband_context.strokeStyle = \"#000000\";\n",
       "\n",
       "    this._resize_canvas = function(width, height) {\n",
       "        // Keep the size of the canvas, canvas container, and rubber band\n",
       "        // canvas in synch.\n",
       "        canvas_div.css('width', width)\n",
       "        canvas_div.css('height', height)\n",
       "\n",
       "        canvas.attr('width', width * mpl.ratio);\n",
       "        canvas.attr('height', height * mpl.ratio);\n",
       "        canvas.attr('style', 'width: ' + width + 'px; height: ' + height + 'px;');\n",
       "\n",
       "        rubberband.attr('width', width);\n",
       "        rubberband.attr('height', height);\n",
       "    }\n",
       "\n",
       "    // Set the figure to an initial 600x600px, this will subsequently be updated\n",
       "    // upon first draw.\n",
       "    this._resize_canvas(600, 600);\n",
       "\n",
       "    // Disable right mouse context menu.\n",
       "    $(this.rubberband_canvas).bind(\"contextmenu\",function(e){\n",
       "        return false;\n",
       "    });\n",
       "\n",
       "    function set_focus () {\n",
       "        canvas.focus();\n",
       "        canvas_div.focus();\n",
       "    }\n",
       "\n",
       "    window.setTimeout(set_focus, 100);\n",
       "}\n",
       "\n",
       "mpl.figure.prototype._init_toolbar = function() {\n",
       "    var fig = this;\n",
       "\n",
       "    var nav_element = $('<div/>')\n",
       "    nav_element.attr('style', 'width: 100%');\n",
       "    this.root.append(nav_element);\n",
       "\n",
       "    // Define a callback function for later on.\n",
       "    function toolbar_event(event) {\n",
       "        return fig.toolbar_button_onclick(event['data']);\n",
       "    }\n",
       "    function toolbar_mouse_event(event) {\n",
       "        return fig.toolbar_button_onmouseover(event['data']);\n",
       "    }\n",
       "\n",
       "    for(var toolbar_ind in mpl.toolbar_items) {\n",
       "        var name = mpl.toolbar_items[toolbar_ind][0];\n",
       "        var tooltip = mpl.toolbar_items[toolbar_ind][1];\n",
       "        var image = mpl.toolbar_items[toolbar_ind][2];\n",
       "        var method_name = mpl.toolbar_items[toolbar_ind][3];\n",
       "\n",
       "        if (!name) {\n",
       "            // put a spacer in here.\n",
       "            continue;\n",
       "        }\n",
       "        var button = $('<button/>');\n",
       "        button.addClass('ui-button ui-widget ui-state-default ui-corner-all ' +\n",
       "                        'ui-button-icon-only');\n",
       "        button.attr('role', 'button');\n",
       "        button.attr('aria-disabled', 'false');\n",
       "        button.click(method_name, toolbar_event);\n",
       "        button.mouseover(tooltip, toolbar_mouse_event);\n",
       "\n",
       "        var icon_img = $('<span/>');\n",
       "        icon_img.addClass('ui-button-icon-primary ui-icon');\n",
       "        icon_img.addClass(image);\n",
       "        icon_img.addClass('ui-corner-all');\n",
       "\n",
       "        var tooltip_span = $('<span/>');\n",
       "        tooltip_span.addClass('ui-button-text');\n",
       "        tooltip_span.html(tooltip);\n",
       "\n",
       "        button.append(icon_img);\n",
       "        button.append(tooltip_span);\n",
       "\n",
       "        nav_element.append(button);\n",
       "    }\n",
       "\n",
       "    var fmt_picker_span = $('<span/>');\n",
       "\n",
       "    var fmt_picker = $('<select/>');\n",
       "    fmt_picker.addClass('mpl-toolbar-option ui-widget ui-widget-content');\n",
       "    fmt_picker_span.append(fmt_picker);\n",
       "    nav_element.append(fmt_picker_span);\n",
       "    this.format_dropdown = fmt_picker[0];\n",
       "\n",
       "    for (var ind in mpl.extensions) {\n",
       "        var fmt = mpl.extensions[ind];\n",
       "        var option = $(\n",
       "            '<option/>', {selected: fmt === mpl.default_extension}).html(fmt);\n",
       "        fmt_picker.append(option)\n",
       "    }\n",
       "\n",
       "    // Add hover states to the ui-buttons\n",
       "    $( \".ui-button\" ).hover(\n",
       "        function() { $(this).addClass(\"ui-state-hover\");},\n",
       "        function() { $(this).removeClass(\"ui-state-hover\");}\n",
       "    );\n",
       "\n",
       "    var status_bar = $('<span class=\"mpl-message\"/>');\n",
       "    nav_element.append(status_bar);\n",
       "    this.message = status_bar[0];\n",
       "}\n",
       "\n",
       "mpl.figure.prototype.request_resize = function(x_pixels, y_pixels) {\n",
       "    // Request matplotlib to resize the figure. Matplotlib will then trigger a resize in the client,\n",
       "    // which will in turn request a refresh of the image.\n",
       "    this.send_message('resize', {'width': x_pixels, 'height': y_pixels});\n",
       "}\n",
       "\n",
       "mpl.figure.prototype.send_message = function(type, properties) {\n",
       "    properties['type'] = type;\n",
       "    properties['figure_id'] = this.id;\n",
       "    this.ws.send(JSON.stringify(properties));\n",
       "}\n",
       "\n",
       "mpl.figure.prototype.send_draw_message = function() {\n",
       "    if (!this.waiting) {\n",
       "        this.waiting = true;\n",
       "        this.ws.send(JSON.stringify({type: \"draw\", figure_id: this.id}));\n",
       "    }\n",
       "}\n",
       "\n",
       "\n",
       "mpl.figure.prototype.handle_save = function(fig, msg) {\n",
       "    var format_dropdown = fig.format_dropdown;\n",
       "    var format = format_dropdown.options[format_dropdown.selectedIndex].value;\n",
       "    fig.ondownload(fig, format);\n",
       "}\n",
       "\n",
       "\n",
       "mpl.figure.prototype.handle_resize = function(fig, msg) {\n",
       "    var size = msg['size'];\n",
       "    if (size[0] != fig.canvas.width || size[1] != fig.canvas.height) {\n",
       "        fig._resize_canvas(size[0], size[1]);\n",
       "        fig.send_message(\"refresh\", {});\n",
       "    };\n",
       "}\n",
       "\n",
       "mpl.figure.prototype.handle_rubberband = function(fig, msg) {\n",
       "    var x0 = msg['x0'] / mpl.ratio;\n",
       "    var y0 = (fig.canvas.height - msg['y0']) / mpl.ratio;\n",
       "    var x1 = msg['x1'] / mpl.ratio;\n",
       "    var y1 = (fig.canvas.height - msg['y1']) / mpl.ratio;\n",
       "    x0 = Math.floor(x0) + 0.5;\n",
       "    y0 = Math.floor(y0) + 0.5;\n",
       "    x1 = Math.floor(x1) + 0.5;\n",
       "    y1 = Math.floor(y1) + 0.5;\n",
       "    var min_x = Math.min(x0, x1);\n",
       "    var min_y = Math.min(y0, y1);\n",
       "    var width = Math.abs(x1 - x0);\n",
       "    var height = Math.abs(y1 - y0);\n",
       "\n",
       "    fig.rubberband_context.clearRect(\n",
       "        0, 0, fig.canvas.width, fig.canvas.height);\n",
       "\n",
       "    fig.rubberband_context.strokeRect(min_x, min_y, width, height);\n",
       "}\n",
       "\n",
       "mpl.figure.prototype.handle_figure_label = function(fig, msg) {\n",
       "    // Updates the figure title.\n",
       "    fig.header.textContent = msg['label'];\n",
       "}\n",
       "\n",
       "mpl.figure.prototype.handle_cursor = function(fig, msg) {\n",
       "    var cursor = msg['cursor'];\n",
       "    switch(cursor)\n",
       "    {\n",
       "    case 0:\n",
       "        cursor = 'pointer';\n",
       "        break;\n",
       "    case 1:\n",
       "        cursor = 'default';\n",
       "        break;\n",
       "    case 2:\n",
       "        cursor = 'crosshair';\n",
       "        break;\n",
       "    case 3:\n",
       "        cursor = 'move';\n",
       "        break;\n",
       "    }\n",
       "    fig.rubberband_canvas.style.cursor = cursor;\n",
       "}\n",
       "\n",
       "mpl.figure.prototype.handle_message = function(fig, msg) {\n",
       "    fig.message.textContent = msg['message'];\n",
       "}\n",
       "\n",
       "mpl.figure.prototype.handle_draw = function(fig, msg) {\n",
       "    // Request the server to send over a new figure.\n",
       "    fig.send_draw_message();\n",
       "}\n",
       "\n",
       "mpl.figure.prototype.handle_image_mode = function(fig, msg) {\n",
       "    fig.image_mode = msg['mode'];\n",
       "}\n",
       "\n",
       "mpl.figure.prototype.updated_canvas_event = function() {\n",
       "    // Called whenever the canvas gets updated.\n",
       "    this.send_message(\"ack\", {});\n",
       "}\n",
       "\n",
       "// A function to construct a web socket function for onmessage handling.\n",
       "// Called in the figure constructor.\n",
       "mpl.figure.prototype._make_on_message_function = function(fig) {\n",
       "    return function socket_on_message(evt) {\n",
       "        if (evt.data instanceof Blob) {\n",
       "            /* FIXME: We get \"Resource interpreted as Image but\n",
       "             * transferred with MIME type text/plain:\" errors on\n",
       "             * Chrome.  But how to set the MIME type?  It doesn't seem\n",
       "             * to be part of the websocket stream */\n",
       "            evt.data.type = \"image/png\";\n",
       "\n",
       "            /* Free the memory for the previous frames */\n",
       "            if (fig.imageObj.src) {\n",
       "                (window.URL || window.webkitURL).revokeObjectURL(\n",
       "                    fig.imageObj.src);\n",
       "            }\n",
       "\n",
       "            fig.imageObj.src = (window.URL || window.webkitURL).createObjectURL(\n",
       "                evt.data);\n",
       "            fig.updated_canvas_event();\n",
       "            fig.waiting = false;\n",
       "            return;\n",
       "        }\n",
       "        else if (typeof evt.data === 'string' && evt.data.slice(0, 21) == \"data:image/png;base64\") {\n",
       "            fig.imageObj.src = evt.data;\n",
       "            fig.updated_canvas_event();\n",
       "            fig.waiting = false;\n",
       "            return;\n",
       "        }\n",
       "\n",
       "        var msg = JSON.parse(evt.data);\n",
       "        var msg_type = msg['type'];\n",
       "\n",
       "        // Call the  \"handle_{type}\" callback, which takes\n",
       "        // the figure and JSON message as its only arguments.\n",
       "        try {\n",
       "            var callback = fig[\"handle_\" + msg_type];\n",
       "        } catch (e) {\n",
       "            console.log(\"No handler for the '\" + msg_type + \"' message type: \", msg);\n",
       "            return;\n",
       "        }\n",
       "\n",
       "        if (callback) {\n",
       "            try {\n",
       "                // console.log(\"Handling '\" + msg_type + \"' message: \", msg);\n",
       "                callback(fig, msg);\n",
       "            } catch (e) {\n",
       "                console.log(\"Exception inside the 'handler_\" + msg_type + \"' callback:\", e, e.stack, msg);\n",
       "            }\n",
       "        }\n",
       "    };\n",
       "}\n",
       "\n",
       "// from http://stackoverflow.com/questions/1114465/getting-mouse-location-in-canvas\n",
       "mpl.findpos = function(e) {\n",
       "    //this section is from http://www.quirksmode.org/js/events_properties.html\n",
       "    var targ;\n",
       "    if (!e)\n",
       "        e = window.event;\n",
       "    if (e.target)\n",
       "        targ = e.target;\n",
       "    else if (e.srcElement)\n",
       "        targ = e.srcElement;\n",
       "    if (targ.nodeType == 3) // defeat Safari bug\n",
       "        targ = targ.parentNode;\n",
       "\n",
       "    // jQuery normalizes the pageX and pageY\n",
       "    // pageX,Y are the mouse positions relative to the document\n",
       "    // offset() returns the position of the element relative to the document\n",
       "    var x = e.pageX - $(targ).offset().left;\n",
       "    var y = e.pageY - $(targ).offset().top;\n",
       "\n",
       "    return {\"x\": x, \"y\": y};\n",
       "};\n",
       "\n",
       "/*\n",
       " * return a copy of an object with only non-object keys\n",
       " * we need this to avoid circular references\n",
       " * http://stackoverflow.com/a/24161582/3208463\n",
       " */\n",
       "function simpleKeys (original) {\n",
       "  return Object.keys(original).reduce(function (obj, key) {\n",
       "    if (typeof original[key] !== 'object')\n",
       "        obj[key] = original[key]\n",
       "    return obj;\n",
       "  }, {});\n",
       "}\n",
       "\n",
       "mpl.figure.prototype.mouse_event = function(event, name) {\n",
       "    var canvas_pos = mpl.findpos(event)\n",
       "\n",
       "    if (name === 'button_press')\n",
       "    {\n",
       "        this.canvas.focus();\n",
       "        this.canvas_div.focus();\n",
       "    }\n",
       "\n",
       "    var x = canvas_pos.x * mpl.ratio;\n",
       "    var y = canvas_pos.y * mpl.ratio;\n",
       "\n",
       "    this.send_message(name, {x: x, y: y, button: event.button,\n",
       "                             step: event.step,\n",
       "                             guiEvent: simpleKeys(event)});\n",
       "\n",
       "    /* This prevents the web browser from automatically changing to\n",
       "     * the text insertion cursor when the button is pressed.  We want\n",
       "     * to control all of the cursor setting manually through the\n",
       "     * 'cursor' event from matplotlib */\n",
       "    event.preventDefault();\n",
       "    return false;\n",
       "}\n",
       "\n",
       "mpl.figure.prototype._key_event_extra = function(event, name) {\n",
       "    // Handle any extra behaviour associated with a key event\n",
       "}\n",
       "\n",
       "mpl.figure.prototype.key_event = function(event, name) {\n",
       "\n",
       "    // Prevent repeat events\n",
       "    if (name == 'key_press')\n",
       "    {\n",
       "        if (event.which === this._key)\n",
       "            return;\n",
       "        else\n",
       "            this._key = event.which;\n",
       "    }\n",
       "    if (name == 'key_release')\n",
       "        this._key = null;\n",
       "\n",
       "    var value = '';\n",
       "    if (event.ctrlKey && event.which != 17)\n",
       "        value += \"ctrl+\";\n",
       "    if (event.altKey && event.which != 18)\n",
       "        value += \"alt+\";\n",
       "    if (event.shiftKey && event.which != 16)\n",
       "        value += \"shift+\";\n",
       "\n",
       "    value += 'k';\n",
       "    value += event.which.toString();\n",
       "\n",
       "    this._key_event_extra(event, name);\n",
       "\n",
       "    this.send_message(name, {key: value,\n",
       "                             guiEvent: simpleKeys(event)});\n",
       "    return false;\n",
       "}\n",
       "\n",
       "mpl.figure.prototype.toolbar_button_onclick = function(name) {\n",
       "    if (name == 'download') {\n",
       "        this.handle_save(this, null);\n",
       "    } else {\n",
       "        this.send_message(\"toolbar_button\", {name: name});\n",
       "    }\n",
       "};\n",
       "\n",
       "mpl.figure.prototype.toolbar_button_onmouseover = function(tooltip) {\n",
       "    this.message.textContent = tooltip;\n",
       "};\n",
       "mpl.toolbar_items = [[\"Home\", \"Reset original view\", \"fa fa-home icon-home\", \"home\"], [\"Back\", \"Back to  previous view\", \"fa fa-arrow-left icon-arrow-left\", \"back\"], [\"Forward\", \"Forward to next view\", \"fa fa-arrow-right icon-arrow-right\", \"forward\"], [\"\", \"\", \"\", \"\"], [\"Pan\", \"Pan axes with left mouse, zoom with right\", \"fa fa-arrows icon-move\", \"pan\"], [\"Zoom\", \"Zoom to rectangle\", \"fa fa-square-o icon-check-empty\", \"zoom\"], [\"\", \"\", \"\", \"\"], [\"Download\", \"Download plot\", \"fa fa-floppy-o icon-save\", \"download\"]];\n",
       "\n",
       "mpl.extensions = [\"eps\", \"jpeg\", \"pdf\", \"png\", \"ps\", \"raw\", \"svg\", \"tif\"];\n",
       "\n",
       "mpl.default_extension = \"png\";var comm_websocket_adapter = function(comm) {\n",
       "    // Create a \"websocket\"-like object which calls the given IPython comm\n",
       "    // object with the appropriate methods. Currently this is a non binary\n",
       "    // socket, so there is still some room for performance tuning.\n",
       "    var ws = {};\n",
       "\n",
       "    ws.close = function() {\n",
       "        comm.close()\n",
       "    };\n",
       "    ws.send = function(m) {\n",
       "        //console.log('sending', m);\n",
       "        comm.send(m);\n",
       "    };\n",
       "    // Register the callback with on_msg.\n",
       "    comm.on_msg(function(msg) {\n",
       "        //console.log('receiving', msg['content']['data'], msg);\n",
       "        // Pass the mpl event to the overriden (by mpl) onmessage function.\n",
       "        ws.onmessage(msg['content']['data'])\n",
       "    });\n",
       "    return ws;\n",
       "}\n",
       "\n",
       "mpl.mpl_figure_comm = function(comm, msg) {\n",
       "    // This is the function which gets called when the mpl process\n",
       "    // starts-up an IPython Comm through the \"matplotlib\" channel.\n",
       "\n",
       "    var id = msg.content.data.id;\n",
       "    // Get hold of the div created by the display call when the Comm\n",
       "    // socket was opened in Python.\n",
       "    var element = $(\"#\" + id);\n",
       "    var ws_proxy = comm_websocket_adapter(comm)\n",
       "\n",
       "    function ondownload(figure, format) {\n",
       "        window.open(figure.imageObj.src);\n",
       "    }\n",
       "\n",
       "    var fig = new mpl.figure(id, ws_proxy,\n",
       "                           ondownload,\n",
       "                           element.get(0));\n",
       "\n",
       "    // Call onopen now - mpl needs it, as it is assuming we've passed it a real\n",
       "    // web socket which is closed, not our websocket->open comm proxy.\n",
       "    ws_proxy.onopen();\n",
       "\n",
       "    fig.parent_element = element.get(0);\n",
       "    fig.cell_info = mpl.find_output_cell(\"<div id='\" + id + \"'></div>\");\n",
       "    if (!fig.cell_info) {\n",
       "        console.error(\"Failed to find cell for figure\", id, fig);\n",
       "        return;\n",
       "    }\n",
       "\n",
       "    var output_index = fig.cell_info[2]\n",
       "    var cell = fig.cell_info[0];\n",
       "\n",
       "};\n",
       "\n",
       "mpl.figure.prototype.handle_close = function(fig, msg) {\n",
       "    var width = fig.canvas.width/mpl.ratio\n",
       "    fig.root.unbind('remove')\n",
       "\n",
       "    // Update the output cell to use the data from the current canvas.\n",
       "    fig.push_to_output();\n",
       "    var dataURL = fig.canvas.toDataURL();\n",
       "    // Re-enable the keyboard manager in IPython - without this line, in FF,\n",
       "    // the notebook keyboard shortcuts fail.\n",
       "    IPython.keyboard_manager.enable()\n",
       "    $(fig.parent_element).html('<img src=\"' + dataURL + '\" width=\"' + width + '\">');\n",
       "    fig.close_ws(fig, msg);\n",
       "}\n",
       "\n",
       "mpl.figure.prototype.close_ws = function(fig, msg){\n",
       "    fig.send_message('closing', msg);\n",
       "    // fig.ws.close()\n",
       "}\n",
       "\n",
       "mpl.figure.prototype.push_to_output = function(remove_interactive) {\n",
       "    // Turn the data on the canvas into data in the output cell.\n",
       "    var width = this.canvas.width/mpl.ratio\n",
       "    var dataURL = this.canvas.toDataURL();\n",
       "    this.cell_info[1]['text/html'] = '<img src=\"' + dataURL + '\" width=\"' + width + '\">';\n",
       "}\n",
       "\n",
       "mpl.figure.prototype.updated_canvas_event = function() {\n",
       "    // Tell IPython that the notebook contents must change.\n",
       "    IPython.notebook.set_dirty(true);\n",
       "    this.send_message(\"ack\", {});\n",
       "    var fig = this;\n",
       "    // Wait a second, then push the new image to the DOM so\n",
       "    // that it is saved nicely (might be nice to debounce this).\n",
       "    setTimeout(function () { fig.push_to_output() }, 1000);\n",
       "}\n",
       "\n",
       "mpl.figure.prototype._init_toolbar = function() {\n",
       "    var fig = this;\n",
       "\n",
       "    var nav_element = $('<div/>')\n",
       "    nav_element.attr('style', 'width: 100%');\n",
       "    this.root.append(nav_element);\n",
       "\n",
       "    // Define a callback function for later on.\n",
       "    function toolbar_event(event) {\n",
       "        return fig.toolbar_button_onclick(event['data']);\n",
       "    }\n",
       "    function toolbar_mouse_event(event) {\n",
       "        return fig.toolbar_button_onmouseover(event['data']);\n",
       "    }\n",
       "\n",
       "    for(var toolbar_ind in mpl.toolbar_items){\n",
       "        var name = mpl.toolbar_items[toolbar_ind][0];\n",
       "        var tooltip = mpl.toolbar_items[toolbar_ind][1];\n",
       "        var image = mpl.toolbar_items[toolbar_ind][2];\n",
       "        var method_name = mpl.toolbar_items[toolbar_ind][3];\n",
       "\n",
       "        if (!name) { continue; };\n",
       "\n",
       "        var button = $('<button class=\"btn btn-default\" href=\"#\" title=\"' + name + '\"><i class=\"fa ' + image + ' fa-lg\"></i></button>');\n",
       "        button.click(method_name, toolbar_event);\n",
       "        button.mouseover(tooltip, toolbar_mouse_event);\n",
       "        nav_element.append(button);\n",
       "    }\n",
       "\n",
       "    // Add the status bar.\n",
       "    var status_bar = $('<span class=\"mpl-message\" style=\"text-align:right; float: right;\"/>');\n",
       "    nav_element.append(status_bar);\n",
       "    this.message = status_bar[0];\n",
       "\n",
       "    // Add the close button to the window.\n",
       "    var buttongrp = $('<div class=\"btn-group inline pull-right\"></div>');\n",
       "    var button = $('<button class=\"btn btn-mini btn-primary\" href=\"#\" title=\"Stop Interaction\"><i class=\"fa fa-power-off icon-remove icon-large\"></i></button>');\n",
       "    button.click(function (evt) { fig.handle_close(fig, {}); } );\n",
       "    button.mouseover('Stop Interaction', toolbar_mouse_event);\n",
       "    buttongrp.append(button);\n",
       "    var titlebar = this.root.find($('.ui-dialog-titlebar'));\n",
       "    titlebar.prepend(buttongrp);\n",
       "}\n",
       "\n",
       "mpl.figure.prototype._root_extra_style = function(el){\n",
       "    var fig = this\n",
       "    el.on(\"remove\", function(){\n",
       "\tfig.close_ws(fig, {});\n",
       "    });\n",
       "}\n",
       "\n",
       "mpl.figure.prototype._canvas_extra_style = function(el){\n",
       "    // this is important to make the div 'focusable\n",
       "    el.attr('tabindex', 0)\n",
       "    // reach out to IPython and tell the keyboard manager to turn it's self\n",
       "    // off when our div gets focus\n",
       "\n",
       "    // location in version 3\n",
       "    if (IPython.notebook.keyboard_manager) {\n",
       "        IPython.notebook.keyboard_manager.register_events(el);\n",
       "    }\n",
       "    else {\n",
       "        // location in version 2\n",
       "        IPython.keyboard_manager.register_events(el);\n",
       "    }\n",
       "\n",
       "}\n",
       "\n",
       "mpl.figure.prototype._key_event_extra = function(event, name) {\n",
       "    var manager = IPython.notebook.keyboard_manager;\n",
       "    if (!manager)\n",
       "        manager = IPython.keyboard_manager;\n",
       "\n",
       "    // Check for shift+enter\n",
       "    if (event.shiftKey && event.which == 13) {\n",
       "        this.canvas_div.blur();\n",
       "        // select the cell after this one\n",
       "        var index = IPython.notebook.find_cell_index(this.cell_info[0]);\n",
       "        IPython.notebook.select(index + 1);\n",
       "    }\n",
       "}\n",
       "\n",
       "mpl.figure.prototype.handle_save = function(fig, msg) {\n",
       "    fig.ondownload(fig, null);\n",
       "}\n",
       "\n",
       "\n",
       "mpl.find_output_cell = function(html_output) {\n",
       "    // Return the cell and output element which can be found *uniquely* in the notebook.\n",
       "    // Note - this is a bit hacky, but it is done because the \"notebook_saving.Notebook\"\n",
       "    // IPython event is triggered only after the cells have been serialised, which for\n",
       "    // our purposes (turning an active figure into a static one), is too late.\n",
       "    var cells = IPython.notebook.get_cells();\n",
       "    var ncells = cells.length;\n",
       "    for (var i=0; i<ncells; i++) {\n",
       "        var cell = cells[i];\n",
       "        if (cell.cell_type === 'code'){\n",
       "            for (var j=0; j<cell.output_area.outputs.length; j++) {\n",
       "                var data = cell.output_area.outputs[j];\n",
       "                if (data.data) {\n",
       "                    // IPython >= 3 moved mimebundle to data attribute of output\n",
       "                    data = data.data;\n",
       "                }\n",
       "                if (data['text/html'] == html_output) {\n",
       "                    return [cell, data, j];\n",
       "                }\n",
       "            }\n",
       "        }\n",
       "    }\n",
       "}\n",
       "\n",
       "// Register the function which deals with the matplotlib target/channel.\n",
       "// The kernel may be null if the page has been refreshed.\n",
       "if (IPython.notebook.kernel != null) {\n",
       "    IPython.notebook.kernel.comm_manager.register_target('matplotlib', mpl.mpl_figure_comm);\n",
       "}\n"
      ],
      "text/plain": [
       "<IPython.core.display.Javascript object>"
      ]
     },
     "metadata": {},
     "output_type": "display_data"
    },
    {
     "data": {
      "text/html": [
       "<img src=\"data:image/png;base64,iVBORw0KGgoAAAANSUhEUgAAAyAAAAJYCAYAAACadoJwAAAgAElEQVR4nOy9eZQcxZn2G77f7Mdn5o/vO+eO79y5KTDCYAuMWbxhBgMem7EN2NjYHozNahtjzGKPnZIQSCAkECABYhFCgBYESAgQiFJrQyva933f99ba2tXq7or7R9Wb+WZURGRWdVZldvbzOyeP5aa6KrqqMjPe7XmEAAAAAAAAAAAAAAAAAAAAAAAAAAAAAAAAAAAAAAAAAAAAAAAAAAAAAAAAAAAAAAAAAAAAAAAAAAAAAAAAAAAAAAAAAAAAAAAAAAAAAAAAAAAAAAAAAAAAAAAAAAAAAAAAAAAAAAAAAAAAAAAAAAAAAAAAAAAAAAAAAAAAAAAAAAAAAAAAAAAAAAAAAAAAAAAAAAAAAAAAAAAAAAAAAAAAAAAAAAAAAAAAAAAAAAAAAAAAAAAAAAAAAAAAAAAAAAAAAAAAAAAAAAAAAAAAAAAAAAAAAAAAAAAAAAAAAAAAAAAAAAAAAAAAAAAAAAAAAAAAAAAAAAAAAAAAAAAAAAAAAAAAAAAAAAAAAAAAAAAAAAAAAAAAAAAAAAAAAAAAAAAAAAAAAAAAAAAAAAAAAAAAAAAAAAAAAAAAAAAAAAAAAAAAAAAAAAAAAAAAAAAAAAAAAAAAAAAAAAAAAAAAAAAAAAAAAAAAAAAAAAAAAAAAAAAAAAAAAAAAAAAAAAAAAAAAAAAAAAAAAAAAAAAAAAAAAAAAAAAAAAAAAAAAAAAAAAAAAAAAAAAAAAAAAAAAAAAAAAAAAAAAAAAAAAAAAAAAAAAAAAAAAAAAAAAAAAAAAAAAAAAAAAAAAAAAAAAAAAAAAAAAAAAAAAAAAAAAAAAAAAAAAAAAAAAAAAAAAAAAAAAAAAAAAAAAAAAAAAAAAAAAAAAAAAAAAAAAAAAAAAAAAAAAAAAAAACg5vxvIcTNQohvCiEuxoEDBw4cOHDgwJG645uisF/73wKADHCzEELiwIEDBw4cOHDgSP1xswAgA3xTCCGHDx8uFy1ahAMHDhw4cODAgSNlx/DhwykA+WbC+0YAYuFiIYRctGiRBAAAAAAA6WPRokUUgFyc8L4RgFhAAAIAAAAAkGIQgICsgQAEAAAAACDFIAABWQMBCAAAAABAikEAArIGAhAAAAAAgBSDAARkDQQgAAAAAAApBgEIyBoIQAAAAAAAUgwCEJA1EIAAAAAAAKQYBCAgayAAAQAAAABIMQhAQNZAAAIAAAAAkGIQgICsgQAEAAAAACDFIAABWQMBCAAAAABAikEAArIGAhAAAAAAgBSDAARkDQQgAAAAAAApBgEIyBoIQAAAAAAAUgwCEJA1EIAAAAAAAKQYBCAgayAAAQAAAABIMQhAQNZAAAIAAAAAkGIQgICsgQAEAAAAACDFIAABWQMBCAAAAABAikEAArIGAhAAAAAAgBSDAARkDQQgAAAAAAApBgEIyBoIQAAAAAAAUgwCEJA1EIAAAAAAAKQYBCAgayAAAQAAAABIMQhAQNZAAAIAAAAAkGIQgICsgQAEAAAAACDFIAABWQMBCAAAAABAikEAArIGAhAAAAAAgBSDAARkDQQgAAAAAAApBgEIyBoIQAAAAAAAUgwCEJA1EIAAAAAAAKQYBCAgayAAAQAAAABIMQhA2gffFUK8KoRYJIQ4IwofeIcYHmvi34UQQ4UQ9UKIRiHEaiHEfUKIz2ge+7+EEJ2FEBuLj91Y/P//q8zXJBCAAAAAAACkGAQg7YMhorC5XyiEWCHsQUU5j9XxOSHEbiHEUSFEbyHE3UKIUcXneUbz+JeL/+0NIcRdQojBxf//UhmvyUEAAgAAAACQYhCAtA/+TQjx98V/Py7sQUU5j9XRXwiRF0Jcrvz8ZSFEixDiPPazC4qPfV557PPFn19QxusSCEAAAAAAAFIMApD2RzlBRSUByDJRaKNS+UbxuR5jP+tV/NlZymPPKv788TJel0AAAgAAAACQYhCAtD+qHYCsFUIs1/z8wuJzjWM/myCE2Gt4nnohxPgyXpdAAAIAAAAAkGIQgLQ/qh2AfCiEOC0KsyCc+4vPxYOTFaIw7K5jcfG/2/icKHxx+XGzQAACAAAAAJBaEIC0LT4jhPiHiMffGZ6j2gHINaIwvzFPCHFF8XdvF0I0CCGaRLA9a5MQYrbheWYLfSsXp0dxfSUHAhAAAAAAgHSCAKRt0UEYNtyaY5rhOaodgAghxK1CiINsLSeFEPcIIfYJIZawx6ECAgAAAADQzkAA0rb4rBDitojHtYbnqEUAIkShAnOpEOKbQoh/FkL8kyhURkawx2AGBAAAAACgnYEApP1RqwBE5UfF57qN/ay3sKtg9argdRCAAAAAAACkGAQg7Y84A5DPiYKvx9+GPM+/CCFWCSG2CCH+kf38y8LuA3JhhDWqIAABAAAAAEgxCEDaBxcKIboVj2nCdyXvJoS4txWPHSJKA5R/FUIsFYUB8TuLv7dVFJzRv6ZZ2yvCd0K/s/i/svjzSkAAAgAAAACQYhCAtA9uE+Zh9a2teOwQURqAfFYI8Z4QYocQolEUZjzeFEKcY1jb3wghugohNhcfv7n4//8m6h+ngAAEAAAAACDFIAABWQMBCAAAAABAikEAArIGAhAAAAAAgBSDAARkDQQgAAAAAAApBgEIyBoIQAAAAAAAUgwCEJA1EIAAAAAAAKQYBCAgayAAAQAAAABIMQhAQNZAAAIAAAAAkGIQgICsgQAEAAAAACDFIAABWQMBCAAAAABAikEAArIGAhAAAAAAgBSDAARkDQQgAAAAAAApBgEIyBoIQAAAAAAAUgwCEJA1EIAAAAAAAKQYBCAga2Q+ADnZ2CxX7GyQ+Xw+6aUAAAAAAJQNAhCQNTIfgPzopZnScXNy2OwtSS8FAAAAAKBsEICArJHpACSfz0vHzUnHzckHRixJejkAAAAAAGWDAARkjUwHII1NLV4A8vvhC5NeDgAAAABA2SAAAVkj0wHIicYmLwC5ffD8pJcDAAAAAFA2CEBA1sh0ANJw4owXgNw8aE7SywEAAAAAKBsEICBrZDoA2Xf0tBeA3PjyrKSXAwAAAABQNghAQNbIdACy6/BJLwD5/vMzkl4OAAAAAEDZIAABWSPTAcjWA8e9AOSavtOSXg4AAAAAQNkgAAFZI9MByIb6Y14AcvmTk5NeDgAAAABA2SAAAVkj0wHI6t1HvADk0scnJb0cAAAAAICyQQACskamA5BlOw57AUin7uOTXg4AAAAAQNkgAAFZI9MByMKtB70ApGPXuqSXAwAAAABQNghAQNbIdAAye+MBLwBx3JxsacknvSQAAAAAgLJAAAKyRqYDkOnr9gUCkJONzUkvCQAAAACgLBCAgKyR6QBk8pq9gQDk0PHGpJcEAAAAAFAWCEBA1sh0ADJuxZ5AALKn4VTSSwIAAAAAKAsEICBrZDoAGbN0VyAA2bL/eNJLAgAAAAAoCwQgIGtkOgB5f9GOQACyds/RpJcEAAAAAFAWCEBA1sh0ADJi/rZAALJ0++GklwQAAAAAUBYIQEDWyHQAMmzO1kAAMnfTgaSXBAAAAABQFghAQNbIdADyxszNgQBk+rp9SS8JAAAAAKAsEICArJHpAGTg9I2BAGTCyj1JLwkAAAAAoCwQgICskekA5MUpGwIByEdLdyW9JAAAAACAskAAArJGpgOQfhPXBQKQdxdsT3pJAAAAAABlgQAEZI1MByB9xq0JBCDD5mxNekkAAAAAAGWBAARkjUwHII/nVgUCkEEzNiW9JAAAAACAskAAArJGpgOQ7h+tDAQgL07ZkPSSAAAAAADKAgEIyBqZDkC6frA8EIA8M2Ft0ksCAAAAACgLBCAga2Q6APnLqKWBAKTX2NVJLwkAAAAAoCwQgICskekA5IERSwIByMMfrkh6SQAAAAAAZYEABGSNTAcg97y1KBCA/HXUsqSXBAAAAABQFghAQNbIdADym6ELAgHIfe8sTnpJAAAAAABlgQAEZI1MByC3D54fCEB+O2xB0ksCAAAAACgLBCAga2Q6ALnltbmBAOTWN+YlvSQAAAAAgLJAAAKyRqYDkJ+9MjsQgPx84OyklwQAAAAAUBYIQEDWyHQA8uOXZgYCkBtenJn0kgAAAAAAygIBCMgamQ5Aftj/00AAcu1zM5JeEgAAAABAWSAAAVkj0wHI956dHghArnp6atJLAgAAAAAoCwQgIGtkOgC5+pmpgQDkm09MTnpJAAAAAABlgQAEZI1MByBX9JkSCEAufmxi0ksCAAAAACgLBCAga2Q6APl6708CAcgXHx6X9JIAAAAAAMoCAQjIGpkOQC7pOTEQgHy+y9iklwQAAAFaWvJy2Y7DsrGpJemlAAASYtuBE7L+yCnjf0cAArJGpgOQC7qPDwQgjpuTTc24yQMA0sMzE9ZKx83J3w5bkPRSAAAJsH7vUdmhc05+oVudPHi8UfsYBCAga2Q6ADmv27iSAOTY6aaklwUAAB43D5ojHTcnv9prUtJLAQAkwIj527w9yuyNB7SPQQACskamA5Bzuo4tCUAOHDud9LIAAMDjpwNmQSQDgHbM4JmbvT3KzA37tY9BANI++K4Q4lUhxCIhxBlR+MA7xPBYE/8uhBgqhKgXQjQKIVYLIe4TQnxGedylQojnhBDLhRDHhBB7hRCThRDfKfP1OJkNQPL5fEnw4bg5ufPwyaSXBgAAHte/UDBMvbDHhKSXAgBIgAHTNnp7lGnr9mkfgwCkfTBEFAKBhUKIFcIeVJTzWB2fE0LsFkIcFUL0FkLcLYQYVXyeZ5THvieE2C+EeEUI8VshxJ/Ya/6+jNfkZDYAaWxq0QYgm/YdS3ppAADgce1zM6DSB0A7pt/Edd4eZfKavdrHIABpH/ybEOLvi/9+XNiDinIeq6O/ECIvhLhc+fnLQogWIcR57GeXs9ci/lEIsU4IcUgI8TdlvC6R2QDk+OmmgPoV/XvVriNJLw0AADzIMPXch+qSXgoAIAF6j13t7VEmrkIAAgqUE1RUEoAsE0Js1Pz8G8XneizCc/QtPvb/LeN1icwGIIdPNHon9JcfneD9e9G2Q0kvDQAAPMgw9WzIhAPQLnnkwxXeHmXcit3axyAAaX9UOwBZKwozHSoXFp9rXITneEcI0SSE+GwZr0tkNgCpP3rKO6Evf3JyqMIEAAAkwdd6+Yap+Xw+6eUAAGrMX0Yt9a4BHy/bpX0MApD2R7UDkA+FEKdFYRaEc3/xuXTBCed8UZhBeT/Ca31OFL64/LhZZDQA2XX4pHdCU4+14+bklLX1SS8NAAA8vvKYb5h6Bj5FALQ77n17sXcN+HDJTu1jEIC0LT4jhPiHiMffGZ6j2gHINaIwAzJPCHFF8XdvF0I0iEJVQ9eeRfyLKChmNQghnAiv1aO4vpIjiwHI1gPHvRP6pldmh5Y3AQAgCTo94humnjrTnPRyAAA15q6hC7xrwPuLdmgfgwCkbdFBGDbcmmOa4TmqHYAIIcStQoiDbC0nhRD3CCH2CSGWGH7nH4UQM0ShenJVxNdpVxWQDfVHvRP6jsHzQ7MLAACQBB0fqvOuT0dPnUl6OQCAGnPLa3O9a8DIBdu1j0EA0rb4rBDitojHtYbnqEUAIkShAnOpEOKbQoh/FkL8kyhURkYYHjteFCokN1TwWpzMzoCs2nXEO6Hve8cvb46Yvy3ppQEAgJSy4FfUobMvE374RGPSSwIA1JifvDzLuwa8PU+/R0EA0v6oVQCi8qPic92m/PxvRGFupEUI8csYXiezAcjS7Ye9E7rrB8u9fw+dvSXppQEAgJRSyjPNQb+ifUdPJ70kAECN+UF/f071zTlbtY9BANL+iDMA+Zwo+Hr8bcjz/IsQYpUQYosotFoR/5coVESkEOJ3EdYThcwGIAu2HPRO6Cfq1nj/Hjh9Y9JLAwAAKWXQr8hxc3J3w8mklwQAqDHkBeS4OTlk1hbtYxCAtA8uFEJ0Kx7ThO9K3k0IcW8rHjtElAYo/yqEWCoKA+J3Fn9vqyg4o39N+f1+xd+fLoS4RXP832X9lQUyG4DM3njAO6FfnLLB+/fzn6xPemkAACClDPoVOW5Obj94IuklAQBqzDef8K0CXvt0s/YxCEDaB7cJ87D61lY8dogoDUA+K4R4TwixQxTkdPcKId4UQpyjWdc0y2tJIcS3o/6BjMwGINPX7Qu0XdG/nxq/JumlAQCAlFLK+iOnAgHI5v3Hk14SAKDGXMykuF+dvkn7GAQgIGtkNgD5ZPVe74T+YPEO79+Pfbwq6aUBAICUUsodh04EApAN9UeTXhIAoMac//A47xrw8lR9mzgCEJA1MhuAjFux2zuhJ67yg5GHRi9PemkAACCllHLTvmOBAGT17iNJLwkAUENUJbwXJuvbxBGAgKyR2QDko6W7vBP60/X75VnFE/zP7y5NemkAACCllHLtnqOBAGTFzoaklwQAqCGnm5oD14DnJiEAAe2DzAYg7y/y267mbT7olTj/8Fb2/lYAQNtk+Y6GwOZj8bZDSS8JAFBDGk6cCVwD+k5Yq30cAhCQNWIPQA4db0xFH/OI+dsCN/WLHp0gHTcn7xq6IOmlpZ6Wlrxcuv2wPN3UnPRSQEKcaW6Ry3c0yJaWfNJLqTn5fF6u2NkgTzZW//u/cOvBwOZjwZaDVXmdk43NcsXOBpnPp+/zPHUmXWvbeuB4KuWQTzc1t9tzMsvsaQgKUfQZpxfKQQACskasAcipM83y0scneW1PSTJsztZAW8PXe38iHTcnb3ltbqLragv0GrtaOm5O3jMc1aL2yh/fXiwdNycfz7U/0YY3Zm6WjpuTP3l5VtVfi8uFO25Ozt54oCqvc2PRadnkMZAkvxg4RzpuTr4yLXmPpg31x+RZnXPyC93qUheE3D54vrVFB7RNtuw/HrgG9B67Wvs4BCAga8QagKzc5bcTJO238fqnm721rN1zVH776YLRz00DZie6rrYAbVa+9Mj41GQlQW0hXfoba7AJTxsUfDluTjZXOds8jcmFVytx09KS957/vncWx/78raXjQ3XScXPyNymoTr+30G/dfX/RjqSXE+CC7uOl4+bkrW/MS3opIEZW7z4SuAb0NCh1IgABWSPWAIR7b5jKiLXilWkbvbVs2ndMfu/Z6dJxc/L6Fz5NdF1tAXqvHDcn64+eSno5IAEu6VnQpf/+8zOSXkrNufvNhd73/9Dxxqq+1iSm0Oe4OTllbX3sr3Gi0Xdbv/vNhbE/f2toZsHRzYPmJL0c+SarnD9Rly7PqHO6jpWOm5M/H4gkWpZYtO1Q4BrQ/aOV+schAAEZI9YAhA9+9xijP4lqxQuT1wfcha9/caZ03Jz8br/pia6rLXBFnymBAX7Q/vhiUbTh6memJr2UmnNHsdXFcXNyS5WNAccu3x3YfExatTf21zhw7LT3/LcPnh/787eGY6f94Oj6F2cmvRw5aMYmbz13pOi9OtPc4q3rRy8l/z6B+Ji1cX/gGtBt9Art4xCAgKwRawDy6nT/4t35/WT9NvpNXOetZe+RU/KmV2ZLx83JK5+akui62gKU/XbcnBw5f3vSywE1Jp/Pe7LVlz85Oenl1JxbXpvrff+XbD9c1dcavXhnYPMxbsXu2F9j+0Hf7DANVQZO/VF/APc7faclvRzZ/xM/cfWtPun57h855SslXftc+6tKZpnJa4JV0C4f6PdOCEBA1og1AOldt9o7iR4YsSSW56yUPuPWeGs5eLxR/ur1edJxc/JrvT5JdF1tgfO6+a6sTybcSgdqT2OTn229pOekpJdTc34+cLb3909bt6+qrzVywfbA5uPjZbtif411e32vkZ8OSNdMz7YDfnD0jd7JX5v5fcNxc/JEY1PSS5JSSrn3iB+oXdUOq5JZJrcsWAX966hl2schAAFZI9YA5M/vLk1Nr/HjuVXeWo6eOiN/M3SBdNyc/PKjExJdV9rhPdlp+BxB7Wk46WdbO3Ufn/Ryas6PX5rp/f0fLtlZ1dfiMweOm5OjF8f/eku3H/ae/7qUzcBxI8YLUvBd6zFmZeDzWL4jHcaQm5lS0jefSE9lBrQeLnzguDn5p5F6s2QEICBrxBqA3PbGPO8kSlqpo/tH/o3k1JlmeW9R2ea8buMSXVfa4T3ZjpuT33sWMzPtjXqWbe3YtS7p5dScH/b/1Pv7h87eUtXXIslfOt5dEH/LI5f6Tdv5vJgN4J7dZWziqnud318W+DzeW5gOJaxVu3ylpEt6Tkx6OSBG1CSEqXsEAQjIGrEGINe94N+4k1bq6PLBcm8tzS15+T/F6kyHzrnEb3Jphm8+KWDD+9W+2HogqEtfbSnatMFV4PpXWU6cq/U5bk6+M29b7K/Be8y//fTU2J+/NagDuKfOJGt+ev87iwPr6V2n92SoNdyw8kuPJF8pAvHBhQ8cNyfvfVsvlY0ABGSNWAMQ8g5w3Jy8IWFFEwo4zuqck1JK2W30Cm9tcPg2s1kxRXLcnNzTACne9gRvi3HcXE0cwdPEVc9M9f72xwya/HHBh54dNyeHzdka+2t8vGxXquYsOJ+sDg7gHjh2OtH1/HbYgsB60qIaNmO9L3F/TtexSS8HxAhX7HTcnPz9cH3bMwIQkDViC0Dy+bxnKJWGUv8DI5ZIx83Jcx8qtJD0/NifCTly6kyia0szK3Y2lAQg1XJnBulkCZsZcNzqe2Gkjcuf9BMpf35X348dF30nrA2814Nnbo79Nd5lg+5pa9/hwZHj5uS2AycSXQ+JldCRFhW48Sv3tOuqZJZ5anxQ+MBkyIkABGSN2AKQo0wm0HGTl7u9561F0nFzslOxXP30eP9GD3M9M/M2HywJQN6uQlsISC9zNh0IfP7trQL21V6TvL/9ziHVdefmyoGOm5ODZmyK/TWGzt7iPX+nlLXvvKuogK3adSTR9dw0YHbJ9e/46eSVsFS55rSoc4HW8+iYVYHP9s4h+qobAhCQNWILQLYorTtf7ZWsfCepXn3lsULGj7c6bD+YbJYtzUxZW19yA+41Nh190KA2qN+BapvxpY2vPOb74FRbtlbdfAyYtjH21xjA5kw6PpQuUQEeHDluTs7fkqzxKRcgoGNplb1govD2vG2BNR1sZ1XJLMPnVR3XLOCDAARkjdgCED4k57g5eWGPZOVuSZHrsscLgRA3SdxQfzTRtaUZVZPccXPyLkNJGGSTcSuC34E1e5LNSteaLz0y3vvb/7Nfdc3xHhod3Hy8MDn+oXduyuq46RLhUIfwp66tT3Q91/SdJh23IFZCa6qGMlm5vPZpUC1td8PJpJcEYuLBYrs4Hbe8Nlf7OAQgIGvEFoCoPapJZ9p+OajgZkya6cNYpm3FznRou6cR3hJBN+E0OBSD2vHB4qAufRoywLWEz7JRAqNa/GXU0sB7/eykdbG/Rq+xwTavpJWmOGpwlFsWvxN8OZCQyneKgUhaKsDqoPLmdlaVzDJ3v7kw8Nn+96tztI9DAAKyRmwByFtzgyVix83JlgQH5W56pdDLS7KTI+f7G+uFW5Mt86eZIbP8QO2qp6d6wWSSnyWoLeq5PHdT+xEhyOfzgez3uVVOpDygZD+fHr829tdQqyxpEuHorQRHI+cnW224uNh+d+eQ+fKC7uOtLTG1RHVob29VySzD/dMcNydvekVvYYAABGSN2AKQ5xU5ScdNdlCO3IypheLDJf4Q38wN+xNbV9p5aeoG7336Q3GQ33FzcschzM20F15X2j2mr9uX9JJqxpnmlpLrWDUrBvcMXxR4rSfq1sT+Gg+ODAY5+44mK3XLefjDFYG1vf5p/Cpg5XD+w+Ok4xa8GH7y8qxAFT1JVIf2Je2sKpllfj4wKHxw48v6uTMEICBrxBaAPKLcSBw32UE5Gib8/vMzpJRSjlvht4hNXrM3sXWlHa4W9vJUvz/70/UI2toLL07ZEDiPJ6zck/SSasaJxqaS69jeI9VTAbtraNB3omcVfEd+PzzY4rHzcHrmB/78brAFrRozMFHh1a+/jFoqO7/vV46OJayE5b4XdGhvT1XJrHP9izMDn+31Bg81BCAga8QWgNzz1qKSG/euBG905GZMhohTmbLP2OXJ9hmnGZ5pm77ON7+qhkEaSCeqN8VHS3clvaSa0XDiTMl1bO2e6olW/Frxnej+0crYX+NWpcVj075jsb9Gpaj3jWpUgKJy6kyzt45HPlwh35jpVwIXbzuU2LqklPKPbwcd2qe1o6pk1qG9Ch0/7P+p9nEIQEDWiC0AUcuIjpuTGxO80ZGbMclocm+D9xftSGxdaeevo/xM2/5jp71/V9sRGqSHx3NBadg0qADVin1HT5dcx6qZbf7FwDmB13po9PLYX4Pm4ehYvTs98wO3D54fWFu30SsSW8vhE43eOnrXrZYzN+z3/n/Ssyl3DglWysa3o6pk1vmPp6YEPttrn5uhfRwCEJA1YgtAuGoIHSt3Jac29a0+BTUTUpRYvO2Qt66oxnr5fF6u2NkgG06mZ2izXI6eOiNX7ToSWXqT5j7Of3iczOfzslNxEPOOwXpzpLZCw4kzqdp4VcqG+mNVdybvNjrYTtmeql87D58suY5VswWN5gzo6Pz+stDf2XbgRFltYde9EPS2SJOqmRqAPThiSWJr2d3gf/bPTlon64+eqmprXDmQqmMtqpJr9xyFz0grWLPniDx8Ivr7d9njkwKfrUn6GwEIyBqxBSDcvIuOJNWmvtbrE+m4Ofnr1wsKJqt3H/HW9cbMaIOOJEd65VNT2qQKVEtLXl5drAR9sDha1Ycykpf0LMiP0ublqmemVnGl1eVMc4uXZUpa5rM1zN5YqOJd/NjEqg5Gq3351XDnTiuqoarj5uTIKlaA1ODgz+8utT5+/d6jskPnnPxCtzq5/1i0YfJrlOTQvM3pUQG8Qel//+2w5DyHNu075q3jlWkbZT6fl19+dIJ03Jz81evJKmGRqEq1v5NT1hRalb/aa1Kq5JrbCjRrevmTk2VjU0uk3yG1NTquNtxrEYCArBFLALj4jj4AACAASURBVNLU3OIN75GKiOMmqzZ1SU+SUyzc0DazjcXLU6O5DfPe6WpnnavBweN+S0HXD6K1dvys2K7xH09NkVL6pX9ylG+LbKg/6r0PadD0rxQ+HF7NuYQ/KH35L07ZULXXShvr9x4N/O3VDsDU/u/731lsffyI+b5EclR1MvK2oGPG+vTMD3y3X/Dv/+UgvQlbLVi5q8Fbx9DZW6SUUn7/+RnScXPyB/31bTG1Qv2eVKsq+dR4X+43TZWytgKXlY5ace/YtS7w2V5ZvPeqIAABWSOWAISXqnkr1qRVyalNUVbh98MXSiml3HU4WF4Po6m5JeCI3BadZ7cdOOGt/9637RsbgtTDqA+VZEK/9Mj4ai61qkxgJpmPjmm7syzPsOHwam4O7hwS7Mt/ZkL83hRpZcXOhsDf7rjV8eYgaFaNjj+8Zb8Wc0fsqGIaFxWz+HR8sjo9KoBX9An2v99gUACqBQu3HiypMFCLnCkrXSvUOYFqBcXcM+bDJTur8hpZhrevfrwsvE2uuSVfcr25/Em97DMCEJA1YglAeHsTN9WJcgJWi/O6FSox9xUzirwaEEVpZen2w4GLwpY26DzLN1O/jthCQBuinxS1yMkoLWln+9YwYJovJ/zIh8kNubYWPhxezcFotd+8LVeNyoXPitFRjcFw4vIng9WJ3w1baH18f+a3FLUN5wvdghnWNKkAXtIz2P/+nb76/vda8Ol6f+h8THHG4pbXCufCN3p/kti6pJTyUmVOoFpVSa621W9ieKIOBPnTSL999flPwiWlj58ulf02fdcQgICsEUsAwi/cPIOSpHrO57uMlY6bk38aWeip5id6jzHhUpcDp28MXBSq2fJSLbjyV9TMIs3OUM/zX0b5F9Sog+xpgyt7RW1FSyM8u1ZNGc4blcHoh9tw0FYu8zYfLNkQRK0eVsJXewU3ltQyaqJ3nd/iEcW0r0WTYR29OD2ZbV5ldtxkTf8mrtrrrYOq978p+rRc9OiExNYlpZSdlPepWlVJLgt9X0g7ICiFe+6EtVNKKQNKk3Rc9vgk7WMRgICsEUsAwl3GebY5KfUcftMlVZnmwM/CN6F3KPKQbbEflt9Qow6Rk+rV3W8WMrE8oIw6VJc2bhrgy5C674WrDKWV/2HD4dWU4aS+dzr+OqrtvmflwpMpdNzyWvXmEtT2qFvfsFcqeRDav8IM64j50VQAq00+n5dnFxNFdFzYI7mN/kdLd3nroPnF+94pVAS+0C25CrDufapWVfJHbNj9+hf0fhTADA/grovw/m0/eKLk/LzYMG+JAARkjVgCEN6X/PEy/yKelHrO6SbfUIpnb8/pWriIh0k9Nrf48rN0pEk5Jiqk4uW4vqqVDX6jo8rRo2P8tp+k3YArhbd5hKkMpZl7WXtENfuz1bmE9pQJJRUgflRzI6ZWAMKCnQeLLZGOm5O9I2xCdRlWGrBOGn6dpuPzXcYmVmkdOX+7t46FWwvGg9yBPCklRN37VK2q5NXs3L+g+/g2W/VOCp7s+tIj4e8fF0gJC8IRgICsEUsA8uQ4XzmD91BHydBVA5714wZ6dLO/Z7j979UNokZVnEkTQ2dv8dYfZYaDOwHTDe6JOv+zbYva8EdOBZ2tH0jQZ6C13DXUNyOrpjHaN3p/EnjPkpRGrTXjmWABHf9hUKWJA1UB5+cDZ1sf/xv2HYjSTqjLsKZFVlnnOu+4ucTkX4fM8q+Xq3YVFIy6f7TS+9nJxmTWxQ0S6ahWVVKdyWmL1/wk+UH/YPU4zK9n+Y7SvUYng+ALAhCQNWIJQGhOoEPnwglHJ9JT48OHvasBv2DzgXOS5g0z1eMVHTomJqjoVSlctjXKjV03qN934jrvZ3saopufpQVVTKCa/fzVhgZiq53FVj19wtqCsgSv4H6xKCn+5Sr1/+fzpfMZPx0wy/o7XCAgSmVq7Z7SDGtaZJW58R8/DkT0N4kb3j68uSg60ocl15Jal+59qlZVsuNDwYCYKkEgGmr1eNZGuxWBbubsvG7jtI9FAAKyRiwBCM1LfOWxifIYqz4kJXnKZYH7smE90sO/edAc6+/zLCMdY6roPFstePXCcXOy/qg9gODZUqpe8SBm24ETtVh2rIxevDPwHpAsc1vkpwP84fCB06N52VQCKchFzcpnifcX+W2LJH3aoXN12m8am1pKrjNhYhHcuO/OIfZEipR6Va++KVE34sZ/vOV1+8FkrjP9NMkWrjq241Ay69rI3ic6wtTSKoFXwOl4b2E0A1tQ4OtK9fjNkDnY6ev2eY+l4K9jV323AgIQkDViCUCuL94Uv9N3mmxq9m+qXRJSHNrJPD+4FJ4qMaujpcV3v+XylaPa4IWYD5A7bk5uqLcrea1jJmzUpvHq9E2Rfz+N8AqO4+bkXUPbbjsRebQ4bk4+N6k67Y35fN4zFaXjRy8l581Qa7jR30+YGljDiTOxv9YxzYD4D/vb5024z9LPXgkPDGdtLB2q712XDlllbvx31dN+5jiqgVvccBM5+rwHzUj++qdrCa5GVbKedS/Q0Z48gOLgwh5BUYmwJCxv+aTK89ldxmofiwAEZI1YAhDSsqdMadRh72qxxeB6/l/Phbvack8T7oQ+fG4yil6tgRRc6Agrp/Ns6dvzCko5ur7otoTq6n17SPtdmuGbzyfHVae9UZcFJVPK9sCwOVsD1TL6dzWqf4eOl/b2f+/Z6dbf4a7mUdy5P1m9t+Q1un8ULkNeCxZs8dtP+PDugi3JCH48/KGvMHa6qdCu+ib7Pizf0ZDIunRtOr8YaK/iV8L6vaXtemHGmCCIOtMV5r/FFUS5KadueB0BCMgasQQg1LJBF6tOigt5rVmvyeRL6UsM2syuBs/05z/eYP9+LYLmftpQpYSnrK23Pn7mBj9bSipLb831M8JL2qAUsSop+6uIhoxp5Ft9/M1nFC+bStANBl/19NSqvFYa4fNffEO6bEf83/29moxzmBEfz7BeGWE4fgyTlqUjqcq0yoz1fvsJD/amhlynqgXJXJ/V2d8AvrfQb8mrpvmnjWmsTYeOalQluRN8OUEuKMC7P+j4Vh+7rw2vuF77nH+vamoulbxHAAKyRqsDEK44RZk1cm29LaHh1VW7/CoGH9b9xcA5oReFu98s3AjP6TpWrtnjP89LU9MxuFkOPKvIgwoTE1g5mIy4RrEbcFuTIs7n8/L8h4PzDGHzP2mGuyFH8bKphD0NpZviJM3hag0fROb9/zPWx6+Cp1Oo+nZIsEfVZceNJq09csH2ktcgie2k4e0nPNhLyqmdqqVffNgfAq5bvjvxwGjcit0ln+F/VaEqySWoycg3ipQsKKAqLjpuYX7MJv7CE558xo8qcBwEICBrtDoA2XagdHCZMrXVKBNHgSsfUSuRlFLeVmyputTgNJrP5+XFxT7MG1+eFdiMpWVwsxx4RsVxw40h+cA2qXdwc65P19sVPdKGLsMcpW8+rfBB3Wq1N/L2RTpMxlhZhAcd78zzs5PVEKHQDRfbkiOqH0QUczzeQklHWpTgePsJf99HLqiexLSNO4fMLwZ2/vd9ylp/Uz5uRTKBERdGoCOqsWw58Os/rxzvO5qM+ldbg+8XuJDH2j3m2aGXp/oJj9tYy/eJxlLPLQQgIGu0OgBZxOYG3ppb2Oz/Z79Cr3pSw6u8t5gPj/9uWKG6cUF3vc42b93qM25NQM43LYOb5UCzOXSEyW8On+v3O5Pz+7gVfpZy8pq2JUU8e+OBkhu3TYAg7fD+4mq1N/IZKDq+ZNClzyLPTFjr/d18fiIseK8E3Xv99d6fGB9/UDMzomvV4PANDh2/SYkQAw/w3mb/fmNmMu2uNw8qVMgvf9IPAuds8q8hHyxORoiEz6FcUExCVKMqyX2junzgC5jMT2gmp63BVd1uZAIWdZaKHlde4/OKR06Vil4gAAFZo9UByMRV/k16/Mo9Ukopr3uhoNYTNlBZLbjyC287ur84lG0y5eMDqNPX7ZMnG/2MY1oGN8uB1Ly8ICrEOVmneMXL8kllACuFB1R0hMmcppXmlqBnRLWG6XWyrZ83qLJkkd51vhISr6RWwztj2Y7DJe+1ra1K17IVps7VlwVUZxXVzcIGY2vF62zeht9HXpicjIHtjzUzgvw7QAm2WsOvyyQNzas0cRGoQjFX+KQqUm0Nrlb2CGsptH2fufJa5/eXef8+pDGARAACskarAxCexVq4tZApuemVwuxBWD9zteBDe7yf+K+j/BNc19d6TzEDcXaXsfL46SbZwjZ9nd+vjvNstcjn814fb9S/4dlJfjZm1+GTUkr9YHpboefHq7y1f61XQZ89TOY0rZxoDEq2/ver1Wlv5MH7F9n8TFimPSs8OmZV4Bygfz+ei9/TiFdq6bjIYnrIZ9Lo2Fk8T008nvP/HkpIJNUaq8I9hnjgWy2FtzCoZfW6F/xrhE6avNY8zwIDkrw3uWW3Bv5d4QaWfRL6PNoa89n5/Pa8bfLsLuFqoHz2id+v9mtMLxGAgKzR6gCE30S2Hii4x/7q9Xnepi8JJrFsGncw51kJdTAsn8/LS3pOKsmSU9tLUpLClcKrN3TcM9z+OffS6ODzi+q7bSwTRipgF3Qf73lotFVJWbX95sdVam/kFS8u+Xr8dGlPchbpNjooxUqeKH8ZFf/g9qwNpR4dto3lwq2l1Slbf7mUUnZlrTRXFrPn1frulMvT4/3qDK/uPPzhikTW8+2iF8lNbE6Mryupygw3lKU5gXO6xl+V/MuoggpYh86FhAP5YLVl89ZawhOfuWW7ve/T9ZaqO3/PebVy75FS02AEICBrtDoA6f7RSu+kOVbcpPx22AIv45YEXDWEK5fwcufhE8ESJx8I5fMenR5JVlK4UrgbPB23vDbX+jt8s9LYVMh48xaEtuaFchW7AZAE83/2s8ucphWejXfc6qjgSCnlWKb6819MxOCAJiOXRdQqKcneVmNuYiobcCZ1q/O6jTM+frpGjjXM2+fBEUuk4xba6H7QP9wHqZY8xjK+R0+d8Sq2D45MJtlDVVLeorb/2GlvjU+NT6YSwBNn9Hk6bk42t8SrTkUzkp2KM5Lfe3Z6m07a1Bq+75iytt5LgHXqblYSu/ftxd55zytdusomAhCQNVodgNAJdO5Ddd5JRgZ45xpmLThr9hzxApcwdh0+KbfsPx76OK7cNGuDr9xkyzBwv4spa/yghaoidxh67hubWuSS7YflmQpaVPYeOeVVjWwcO90kV+5qKEsOUaewc/0L9vajB4o3t45d/c+ND8oOTmg4VEdjU4tctuOwbDHchM80t3gbmgdGLPEkDqN6WuTzeblsx2F5stEsoVhLNimfZzVUcKQM+h7896tzvH/vCmn1qTWHjjeGZv8r4UHlHKCe+2qop3HZaxoutmW2uSQsHdPW2eWBSVa8U/fx2hmHMHYdPim3H4xmwpjP5+XKXQ2Rq2V80LmpucV7D347LJkheQo2fzfMTzZxmfkwV2tOw4kzcv1e+/fz+OkmuWJng/EaRpA/SYfOuUDCT6eU1BrofKchfApIzn94HKR4I8DVyuZuOhDoKKg/WlrRkFLKO4cUkrVfeWxioJtEPefqj56S/UeMRwACMkWrAxC6aHFVDp5FtF1cP15WCBS+/fTU0IvwnoZT8tyH6uRZncPbDvgmiit46NrFCNp8n9W5kI0jqA3ll4P01YN7hhfmRnp+XF6P+KHjjZ5U3+rdZofxfD7vqYqV0wLFKxd0hBmX/WZoaeVqQ72/8R04faPlt2sLve9P1OmzknzD/vwn6z0PmCv6hJu3SSnlS1ML35WfD0yHbO/KXQ2Bz7Ja3hx8cJ+bw23ad6wqr1cJp840y2/0LmSrJ62KV5mNlGhI+auaghq5ZX5A8fXi39Ohc874eO7JQ0eYZ8avi+2wX+01qexzYNfhk7Jj1zp5dpexkRI/9N35Qf8ZkTasasKDPlPTtbbadHyozktYEM2BOcBo3juNTS3e52kzf6W20DCFNfpOnv/wuEA7lm5QuTWQ9C5VV/lr6VqCQBCuVrZ8R0NgPnaOwcTyltfmSsfNyW/0/iTgQbRZOd+mrKmX/3rrcwhAQKZodQDy3X6FMi0f3ONZGlsGmZfgD4ZcTLlm/KvT7cOA/MRfvM1vURg0w1cTUYMYujlzCUYppbzqmUIbj0m+lQKUyx6fVFaWiA/7vm5xWefmRuUYiH26vrS//Cshfg6/HDS3ZHObhh5oHWTKd9MAfYAwb3NwdoUu9FE37lyTPQ1VELX/v1reHPwc6fy+n6FetcscJNcarjYT94AsBeE0DE7fm2rMs32w2A8o6DrjuObWGp2nx8j59qQEmZFe+dQULxiJ+rfwAOn9ReEStLw9KEp2njLsF/YovNff6ZucfLst0KDA5P53ovmn8OqzyT/qDHPNDjPspVaeS3pODMi27m6Ityqp+ndxl27TBhr4BFUkj8kZ6/2WSZOP0E+Kcr1XPTM1cO0lFUqibvluBCAgc7Q6ALmkZ8G4j8uCcilLW5aGD3zuabBnWPiFN2wgdBjTM1+xs8H7Oc9QLNtxOPA7pvYE6oM3qSddxtypo2QJiclr/EH5XhZ5XN77/6sy5DN5P+pXiuaKn+8y1hok/UjzHnAzv74T1kZ+/WpD1aPvP6/vT+YeDuNW7JG3vuFngqNA3wfHtVeoaoU6sMzdmuOEVwn7jPMzoDyQT5oxrMUy7oFlCjwvK5qV8h7tuOEbPJrPcFy9C7KUwc8mSvJCShkQX1CDqzC4L8RrIa8jpZR3FZ/fccPVuaQsFSu54cXk5rRsrVakHha1NYx7Y5kqtEdZYiksKULJsW/1mRzwdSnnfhMFtQVuLvNAeWdeMhLEbQlVRZLLbL9pqHJR1en7z88IyFKrCdIPFu9AAAIyR6sCkOaWvKct/z/v+kEBPxFtWRreqhU2C0EbgSgZstfYibyO9eHyFoZ5m4PmSrQBUDe0uk055yLmtTFifvSLNM8u2pyJuTliOcOAIxf4Ou60CQnLTFI1i6t2HDqePjPGJpY9NEk984rZrA37tS7HNq4pZmMdt6BokjQ8YHXcQqtgNfqyuTLRwOn+Zmf2xvRkQF+Y7A9rxj2wTFVAqoQ+NNqvApkCg0rhvkNUqXBcs+LYU+PXBL4DjltoL7RxdbGycuPLs7xraNTglc/MPRMh+cBnhnjixwT9zXQO6yqwtcI2bE7tVFETQNw9/TFDa+6+o6cDn+NRjfEcQdK73+03PbBJXbMnvsRIS0veU3yje3k9Sz6l5dqfZlSRmy37j3v//6Wpeh8hfn7ygH/lruD58/a8bQhAQOZoVQDCL9o808N7GW2947xkvy5kYI9nCDs9YlaVkFLKVwy9lDxzOmN9cHiTyv+qRGVY3zSpZJW7GeLBkM2dm+vj20zKVPiNilTJHNdeaSLndO4xwTODPcakw4yx4YSfPaRMtcowpdpVrjLbpayylYbWs7GaAWRSKosTrkXPzcimWnrZa82fRi711hW3OhVtikmsgAdkpkHSSuGJEmqPctycbDip34zy1lZvYxhiLsrnKuh9i2osyYfEu40OrzRd/4Kf6JgeMhwvpV+doZkDqtBQS1YtsbWakpqeqd1ThSc/TO+baippUzOjxNANL84MiKUs3X7Y+Dvl0nDSv6bSPGM+n/e8gJISBmhLqBLeXDrdVAnjM6Z8/k7t0Bg8czMCEJA5WhWAcLMibtLEe5VtveNk/BeWMeMXQjpslRWeId1xyFeTmGjwB5FSyiv6FNRuVJOusNadc4v9wY5bOj9ig2+QbRk/PstxVufo0ovPTfLfA26uZgv0qFXrziH+zYb3Knf9INoQZrXZcci/eX/J4JvAWxU27z/uDa1HNfDqyD7XNHjAcIUVOo5YsqaVwqWYxzOVpnEr9sT+WpVyY7Fv2nFz8uZB8Zrq3cCyzVIG+7rDVI3KhSdqSK3Kcc2Sx1wNiR7bJeScpPahu4YuCAQUUa4jPHHxh7fC7xFXszmWKKalPPsrpZ+QqobHRRjrLYaDYW24KjyT/ddRevPXDfX+6zmuvcWJz2ZwgZW5Mc5l8ICIV9Xob6fzAZihAP/sYqszr9SbBAz4PZe3ZC5SWl4HTNuIAARkjlYFILwv/YPF/pAiP5FsmR3eM0wu6jr4HEKUDFtfNi/C1TtsQ2Ff7VXIeN+qDASqg5IqZytu41F6n6UMbmw+32WsUQWMz3I4bk7WR1Qj4a62PNPKVcFUyHjqPjZsmc+XluaThjtCdzC0IvH5hX1HT8s/ltHLf+pM0MTxBouRVK3gmU/vuxBzRl5KGciSz2Tnd5QNZa2guTPHtZt8VQL1ZJNXBm9ltJ07lcB1/x8cuST0HCdVsk6PjPcSH/eFDEbzx0UVByF+wgK9KMpU5KPhuDn5RgTJbsr+kj+RmkGuJbxfX/U7ooD36ojS1/3Z5/qAIXnBhRQc115dpu/7HYPnB1p3o1SZosJV9obM2uL9nBI35z5UF6pU2d7h5ydBidN7DAH8+cX//oe3Fsl32bVmgXKteXbSOgQgIHO0KgDhfhv8Yqj235u4lSkN2R7HFaNMWSrOk2zzydW1uDLSqIVBVRfToCF5mnyhW6mnSQtTTtEFYjb45sO2mVSlN6P0VksppfueP1/D/QM+Wa2XLbWpwETd7NSKBcyd3bSZelhxvVf9HWyoAe8FFiOpWsFb6uiI6s9QDrTh+NIj4+XCrf77HKa2VCv48G45m8KokOQ1tWLyKlDckr+8vYvPmpiSGL9ikroXP+ZvSk0Ez+llAXEQ1YhVBzk5O65Z7IHzJdaOGkWw4iJWnZEyKPsapooYN3zgWlX8KldBj7cx3jNcf29Vr2G2Sh7fpE5iVfwJK+OrSvJ7LL+H8bmjtHkBpQ1dtwS1QOpMgNXkHlfFU1XHnqhbgwAEZI5WBSBvzPQ3RbzVit+0TRteKYNDiza9dN4bSYf7nr60LWXwBsCH+2yqFHSRVwfC/zLK7zdXN6Gnm5pL1tX5ffO6ODxIctzSnk9Cld60vU8cam/74sPj5OyN/s3VFCDxjZ3qadKpe7rc4PmQp+Pm5H5Ny8oDrJ0jn8977StnWXwWCN6OQUfSTuDkS8KPuFuCpOSSn5MCWdqhs7fE/lqVsHxHMHMctzzulYrxIN+YqkmL1sKHVvm/tx3QB5ZcsjOKQeIxZX6LV4ajVFLpvI+y+eabKQqowqCK6x+L11zeOluN4NoGd6WvU7xVqFIfJmNO0LXGcYPtrBxVJt0038ff17+MWhr4PZO0ayWMW+Hfsyev8e/ZPCtvSxICKW96JSiqIKXvJq8zAeaV9oc/XBFI6M5U3useY1YiAAGZo1UBSGBAk93Qpq3zW51sCkK8xG/rMed+ISQVqA6Lc3irwakzfnbcNLMipd9K9WelzYhn0tW2AH6DpyOq03aPMSsDv2f6+1XpzZERzQi55r+pvM6xye1e7PWpmrOttYSLCZg2K+QwS5Kj3NMirJVAzU46bvztN+XCN490LN8RrRpWDtwNmfeph3nv1IqPlM8+6kxPVNS2IH7NiCJFWw78OsWVAzcahDtoM3PdC596vfm2ygRXWnpq/Bqr07KKmlwJU846rlwLTZl/glePKZlULYWnKPBWVzXJU077ppT+ML3jmpWzeCWDDl2Sg29SH/lwhZy/JehvFBdccIK3//BrodqaBoKoogpSliq9cbiYSq+xq63tdZ3fX44ABGSOVgUgvM3nTLOvyMNbnd6zZA2vY6opth7z24tZ2Qt7TPB0+jtZ2mJMw5ZbDxz3fv7iFF8Wr8kyaM1nKVR1msMnfJULfkTpze/8/rLA7ww29Ez3USolfN02yMfimr7TAgOG/Q2yndw5fMC0oOP51y1l5CR4e15wHkK3WflZMRtF6mW8vzxMPYp7iHiBX8ItSDxDXs2giMtOR/ne1Jr+SuuiaQaoUkj9jFqb9jRUzweHD/xzyWOTUAQJZfx84Gwv23rlU2ZX820H/M/vxSkbrEZnKtx/KMp5U6+0LapiHionGv2ApftHhfkHvgm2zQRWA1v7C5eLj/Jdo2sPfVY6Pl62q+T91Uldq0pKvAJo8paoBP7d4N8/rnT5eE4vKQwKXK0xLaZEmK56Fri2TFwXqEJNWRMMgh8csQQBSDvhu0KIV4UQi4QQZ0ThA+8Qw2NN/LsQYqgQol4I0SiEWC2EuE8I8ZmQ37u6+HpSCHFOma9JtCoAoZNLlTaNYsAjpZ/RC8vmUFvEDS/ODGzE9hraCKgEfrYiN2nK8ttMqJ6ZYJbhrD/qPx+1RDhuNN+I+9/xfU0c16yzzisw/GYdBvWy3/DizIDEoukmwttthintNlHaPWoJH+AvbFZKhQ5omJiyUeUM4OoUp5LWwX9E+R44bqmUdBxcyxR/+Pf76fHpMKHkw9p0mHwzKuHCHoW5hN8NK7QbqhnoOOGqVrzVUvUAIHgl8nbWKmeCizW89ulmq8+Aitrq5rj2ti3u/u24Ofm9Z+2qSQfYxpbc7HkGeFqMA9ZRsMnblju8z+9rpkq9OtvnuPrqNFf8e/6T9XKdRa2rNfD7HL+v5vN5T2re1E4GCugSdXS90pkAb2Y+IS9P3RioiqkqnfcMX4QApJ0wRBQCgYVCiBXCHlSU81gdnxNC7BZCHBVC9BZC3C2EGFV8nmcsv/e3Qog1QojjIsEAhLKl6iCoTdKQcxWTbTQFKo1NLV571IMjlwR6Uk0bMNrcn/tQcOCYVyy4fj4323tyXFCv29aXzLOEvMUnijszl7h0XPOAt7rhCmttIPjFkJtMmVzkea+7WrUij5QwA8haobYj6b4HatBkmgvSwWeb6LgrZr+JcuGzSKabVBx8m3keHLHMBSUFd6jXbZhai24WrGOVRBhI4KLjQ3WBOTeTvwMXg6C2IJ04BsEdud+et80q86mizlk5rl3CmyedHNfsz0Poqmt8DmPs8tqaf5rMa6U0i5qYoMFjx/XV1FTenFM616iTOVfvpWpVKy54hfxN4AAAIABJREFUgkMNsqi16BqDGS8oQMkLLmTDW63VRMnq3X6CYPDMzYFzTm3JvmPwfAQg7YR/E0L8ffHfjwt7UFHOY3X0F0LkhRCXKz9/WQjRIoQ4z/B7XUShYvKsSDAAoZaAm5TMuM3UiUPGd45r7q/eUH8s8FxLtvs3utcNv2PyfDBlM3kptN/EdYHf4dl2tW2Bt3S9NHWD936EZf+k9BVt6DCZXKmBSlQzLMpa0eA4zc5QZldlyhp+8Qve/KmaEEUJpxZwXxPdxVpKrq9eaKUpRwGIe6jQ8yR986UNJz/iHEIluOtzY5PfmhhlqLgWUBWAH6aZiUo4p2sh2fGnkX6gflmxLevXEZ2wo8JlO4PtR6XBgeopwBMeTc361qhZiozy6MW+OmGYs70uQ2/znVCVCjt2rbO2K+mSVNWab4iCbT6GKxZGkVnnnlX/2U9/3eAtT5Qc+umAUkNaVR7YNqvXGh5gKoHq53Zv8drTsWtdZB+q9kjHroUEAZde7seSZap3GU8QvDNvm5xumZ29edAcBCDtkHKCikoCkGVCiI2an3+j+FyPaf7b/yeEOCGEuF0I0UMkGIB4GtdKVp4PP9paN8h7w3ELJUgd3Dxw7PLdgcFvk7mPSbWEDz5ygyg1kOAMY20LqgQuD44GzdgUUD8J2+TScBod3+qjV5n55aC5gcfphtlUeMWD/k6dyzmH9ySrA3B8LiANqNUAVTZTytKbAZeT1KlmcXiAQ60u53Qda9zo1QI+2FrNTRrJUf9m6ILUecDwigw3ADUpyJVLiyJbS/B2xji5c0jhu3XxYxNDDebUNsperBW14YS+osdbOsav3CPHLo/e4vQKM0mkwyYUMlEzVH3M0hqn891YtSuYEa4lXFBl39Hg9SGYhLIHu9y41XHNMzo84KHZAZ3c9xxFHpgPLvMqfmvxW/pKZxX6svasWquTtRV4goCbg/LK2to9wQSmmiBQ/z/nxpdnIQBph1Q7AFkrhFiu+fmFxecap/lvo4UQc0VhRqSHSCgAOdkYlJDjcEnXxyytG6QD77gFFRgd/Ea4endh2JiUaviwF+c2i3s5tVPcz9opeF+tWomxDUaqJVTeHham0U5lbTo6dtUbPV3/YrDlxOT8zdG9/6SaY2oJsP2dNFT5H5aB11pCmWM6hinte7zS1W104btpMqfUwR1t+e9tPXC8an9TGGrFTPd3x4FqRnleN708dRLwTesN7LyISx6UKz/xa9pPBxTU+qIE/+XwK6ZUF+adxNs9+01cF6jSmbLyXDFsxvp9AXGFsOtTL43ogc2tm1dXomxW1Y21lKVD87WEKy2qgdMw1i4V5sPEZ1sc1yxfzDf15FHkuDm5pyF4bVIr09WaSeISzyp8Ji5O88MsYWpX5ZXEeZuD99XJa4IJApsXzQ/6z0AA0g6pdgDyoRDitCjMgnDuLz6XGpz8QBRasy4t/v8eInoA8jlR+OLy42ZRYQDC26yemxRsszpjUZXi8FK1OntBkNJWh86+pC5JzF7YY4K2zE9Vg8ufLL3461qRbMoito0B/73hc7cGbqBhPfPXFOcq+KHLzOsed6LRPnTLNysU2P18YFAVSoXPPVCgR5AR19d7x+u5UCm0HjpeUVS79msGXMtpo+ASvvzzV5VJaslNr8wu+R7EOYQqZWHglJ6bKme8IpI0/LPgxn1xGbLx6ipPnNiUbFoDPyfDqhOqJDJv4VEzq4SaVJix3m/x+HiZvX2Pb4rpUNXxOMM0Mw2mWRYppdLvXmg34Zt30/2gWnDlRLXS+Z5lE6mySRnGN4kE8ABvMLv2qp+9OpjPz1GbF1a50JyfrsrHW4XS4geUNgKtcayNe4LFyFT9bBdYWhCv6TsNAUgb4zNCiH+IePyd4TmqHYBcIwozIPOEEFcUf/d2IUSDEKJJBNuz/kEIsUkIMYj9rIeIHoDQY0uOSgIQPouhGyD/PBscN0FtMuoNn0OtSjyTxKVxdZK3tFnTeXKQzOatb/j93AHHZ+XEt0njLdzqX5hHzt8u8/m810N/ncZ4iENVHH7ofB2+zgYa6QjLxOuUUqiF58IeE7S/w1sCVCM0ahXRleeT4AalKtRXmdvh6iLUUmf7+1ToO3flU1MCQWbcPhDlcH1Rspq7Tcctjcuzq6S29rVe/kxI0vAgkg9Um8w1y8UkRkEVsbM6h3vIlMOPmYgHN2/lRnAEv96+NTc4UK6bGZFSBja2q3YdiSyPLqVfnenIWt1sSnADNC1bNtNUHnBNLT5ONWarJQ+yGQjbWsNa1xazzbrjFtqqdHB1Q34fUf12eAadZLd1VfzWQu3QujknLt7SY0w0Fcb2Br/n8EDdJu6iVkcWKzMhnMufnIwApI3RQRg23JpjmuE5qh2ACCHErUKIg2wtJ4UQ9wgh9gkhlrDHPSqEOCSE+D/sZz1EQhUQXs5Xh5allN5GyaTaxDM5jmsecr2kZ+HCyKXteGZPdQyV0p9Z0A0AfqtPYePPdeptvZdTLA65/OJCmyBStjmrs11tiYZpSeHLcfWZXO5GTMeCEP+HQEBV9K/487v2TRT3G1ErMXe/WRyWNdxMa41aFVKrTTxooDYl3sq3KWRomRu+8XY2WzWv2ny3X2FNPHB9any8WWK+AafNJklgq0ITSUCbxLO7jA1syFXZ6EoxZTF5e86REAW1cqA2zGufm1HSjqGiXqP4zJZpU/zSVD/o3rz/uFyqBDE2SHjiu/2ml8yT6eAyrnToZrMI3cxLPp/3rodcBKAW0DVOFzAE26Ds1bapinqYSaWM5tg6dC6oTtF7rBrh6mYQqYp/95t6QZFKoNZLU6slVUJveyP5REQa4Wa/vErE27TfUOaauBLa8h0N1k6MS3pOQgDSxvisEOK2iMe1hueoRQAiRKECc6kQ4ptCiH8WQvyTKFRGRhT/++dEoVXrieLz0/Fc8TWvFIXh9HKpeAbE5JzKTxjH9Q29VFSnXd2QK++r5P2uvCSsG1b8QX+zapNOUtZ2g5m90Q8yRi8OBiefrvc3BaRIxOU0p1oygCT3eSXzD1HL2/l8Xp7VmUr5vvqPGgip6OQsHwuRobVp3d9nkDVOCsrK06GKEfDNGn1mNplNFVXPnVSQTAP8tYBkhWlj6Lj2+apK2N1Q2rpHgc/1MQ9gVwIlFq58aorcomjox4FJvY9XXuIcwuXv7TSmgKOToFVbOaJI1qreDurMmg06x255ba4nL2prw+Nyo3TYWgTVzRcRptZXLW61zA3a7gEqvE3QcQsJHx2quzrJX1+vVM554oTU3qiKH1cwwO/FpiQLVZ3jnoPKCqb2qZ2sHVptVedtlOv3HjUGMVIWEpEIQNoftQpAVH5UfK7biv//IhFexTleweuEBiBNzS1y1ob9cuKqvYGD2hIct5BdUwlTXeL91o6r19jnWU5+wwzLStONXdfPSsEJGdRJKeW4FX6JXW0bUKXyODrdbq6M1cfQx8zVhWhg3nFL+565WzANwuouTipjlOFTKWXo0Co3RVPnamz/TWXTvmOhKlOthbch6b47vJ3lk9WFdhZu9LZqV6lzOoeCw3veKpwX1Kv/tV7JzcBQi8TNg+aEbhYqhfevUxsBtX5FkZaWsjBIvCuCVGklkCTyr1+fF1Dai6sSxP/+gdP9oGaoRQmvNVxV3HT+dMAsaxVWyqBT96yN+wMbHqpyqvRUKjf871Pnpjj5fN6TI35gxBIv+LVVwbgCYJTPxSRv/g2NmVtraG7Jy6XbD4cq2P3M4izP70NvWwbxpQxWLOjQvTa1xF5UNPElufXzuo0LVKh1Mq5UxY8rIaKbmVMhmd7PdxkrJ6zcU7If0B2TVu0NVYMktuw/bnyeA5b7yfaD1bveSFloZ47i/TLNIKF7zGJy3F9JbKzd47dOqxYDHbvWIQBph8QZgHxOFHw9/jbkef5FCLFKCLFFCPGP7Gc/0hwjiq95txDihxHWqBIagPDhPNOha0ugSoPJCfYga/dwXH3Gi990VfUNylLrfDHI4FD333RqH4FB843Bli4uDak61U7QbHTz+bxXrTCpdKkqTTQvw/XDpQw6rfMb/DMh+u9vz/P7wxcXDcdsQ+ZS+t4pOpWtruw7cMZyI6ce1gu6jw81+6sULpVKh2oSOErT3mHKuKqc0cgpcs+FOF23y4GbXFFVLO42Fd13neZhomQ+N+47Js/qXOijj9McUMqgDG33j1YGVPhoXqW1cOdw3i7Brw+6ls9KoXa6mwfNsSrgSBn8/i7bcTiwVpMfUhflvOWu2rb5If5e9/x4lafEZ/K0kNJXpqNWHsc1y6RLaRaFiNv0lGYtwmSkbYG2TSVRhRvX0qETDaEZGxL24KpYfMZPJ7d8Tci9tVw2ahIPKjyBVc7x9d6fyNNNdvf4tXuOegk53fHlRydo38OtB47Ls7uMlR271kXyZykXqjJe9vgkTwDHRCCJyWZFeVuh2l6nSsPz5CWfBWou3vMQgLQPLhRCdCse04TvSt5NCHFvKx47RJQGKP8qhFgqCrMcdxZ/b6soOKN/LcJae4gqy/B+R6PCxI9rn5uhzYrz/mYd3PzPcfXl5NdZ28yaPcFNc5Q5j5sHlWaIKIPMh9pHLjBL0G40ZEWlDA4n8gDpFwMLr6FT4ZJScWSvW+1tRH6mZBj5YNsLk9dH6sWWUq9bH+YzQC0IOgdjm5srh5eUF4c4LVcKr37RoX7O6vCtlFK+ownKdOzXKPEMnO63QZgUh6rNuWzwVK3QxAUfhh0xv5DpLUcBjbcfxqVMRfD+6Ddmbrbe2ON4Dd6DzdudVIOw1sAFMVRBCxW1FYe3iz1vCCYoa31O17FSyuj+TPya9/LUjd614VKLuzmXFO4UoY3K5C5+o0UOthKuLcqPXx3yfOT1ogt8+HsdJg/MBVLo0FUBSCiFAnu+geVtXt1G+8PqjU2F5I+txbgS+PCzqcKjDteXc+gSXhyeHDMdusojl37WVQ1bC29hDPMa4lLFc5T7K9kNqIky7jd17HRToK2UB4LUCYEApH1wmzC3OW1txWOHiNIA5LNCiPeEEDuEEI1CiL1CiDdF9ICih6hyAEK9wD/oP0NOKpZV6Ziytt64IaXMqU6JSsrgRd0ULPCNn+p2bHt+WvOtmqDmDo3hkk3nnWcN1Ru9qXJyW8gNW+21p/Yq1WcjMEw9e4s3uH67Ya6G6Kv0fksZNArTbQ7VGyKHu4gfspSjeUmZWr/ihr93dKitdmppW0oZ8GixDfHrsoFcLpEqXbWEV33c95Z53wNyeY+LmZo2oLuUVhEbPKNnaguqFD50TSpRcc8LBIIA1setKlDFBZc4DhsQ5340expOBZMYBkO63w0LDlbzmbrHc+b5Ia6WNXLB9kAgY2rBpMDh6memRmrZMs2ccQnsOLiiT2Et3wgJoG1tTVEDNylLTVIdNyfrNdVAteLCX4O3VnJPInrv+XsdB1ED7A31x0r2AKaDt47pRGo4fD5xzNJd3nPwxJfums3b3eKaA+Pw72hY4kGtUHLofFATjLyy3tTcYgx0SRwEAQjIGqEBSKXZ1rDMKS83Oq6+XckmnUpVBp2DuL9BKx2a1LUaqcNgHJ4RV3uaeasPv0BSP69J8pZXNl6ZtlHeWxxI7PhQXeAGz4cfP1i8w1Nn+mF/u8SvrmLBWzxGaSQ4bVk1XUCjgytphQ3KV8p61g5Bh1oF683aFij7yNv51AwVh2f6aCPIN4dqG14tUNuNqGL2y0Hx9MkTXNmOlJj+8FbhfDn/4XGhv8+9I2yeEZXAFZ1oZoDeh7jmBUzDxjpZ5ziga+sf3lpkHUCVslREQtcqqMKrElLKyCZ2dayyO3nN3sBGzJRwomvT9S986g0s21q2/jpqmfec/JpHP+/QOSebY5A8pntBWEBjE00x+cPooGs/P3TCBbo5RZoJ4u8btbZ1YvcrquKbKuzlwg0rP10fT4shv06HBQcUKH/pkaAT/JiQdfH9QTVkm//M2p7DrmemmSYpzd0gqvTzLsPAOiXdEICArGENQJrYTa7z++WZHoVlTnm/uePqfTOeneRnUdRBM1uAQy0Avx9emhl9UGlLkNIe6Nhc3fmsxRJmukUKJyYJRv63D529JdDny9sRJilVC/qbw4ahueQuXdDDesbp5qebm+F9zTYVIL5RUY2U4mKRphVAdRvmmSWaWeE3WVsfvy4byA3SehmyzdVElcelGSfTjFGl8CoDtRTqvksmfsbMEm2eEZWgMyS1tc1UwnTDIGng/Y/x86dB7wdHLLEOoErp//2O62/MqS1PJ+AhZamDe1QTu2FKNpf3/+84pD//+TzL7V6V2dyyda+iAkU8UecnMWzDx1GhmRTTtZjwZOM1ibZmVoG0zbVI6QtW8EOt3kvpZ8V/PtC/3vLqCSVOdK2xd0R4f8tB/bzj4NQZX1o4zDCRkl/f7Recv+H3v4mrSivP/LuiSza2FgqMHDdc8MMm8kLGyOp9SpW3r+cy4GzOkxIgCEBA1rAGIK258YZtwnlWWXfxkVLKp8f7mfd9R4M3I7rJ6dqc6KajuzHzzSndyPsp7Q0cnmlUvUp4CXjlLr91K0w1Sm314LMuvAVMdWF/cKSvRGIzRFNbL6TUu6NzSGVJ17Zma4Xj8KymqnkeF3yTSIca5Oo2N1HNxPh7Tlm3fD4vz+tWyFbrgtpqw9vO+k1cJ/+r2Nf+g/7x9IATOtOzqAIEUvptLI4bPqdULlTx5AkHmgP7Tl9zpr0ceAWIb3iaW+J3n1bb6myzZlLqv9OU3TdJnZNkM1f8I/PXB0eYDWJ54mfn4ZORVMB4O5mubUiFWq0uVtzleSZZrUaXC0+gOa7ZRDLKPBGZ/6lCISo0c8IPdX5RSv31lreJkmu2Tp3Lq4rE5MvEE3BbNIqWlUKKZjzI0kHfHfV7zGXuPyrK3HP4tSmueRgOVxwMM2LlbcrqzI+uiiVlaXBp6rYg+WwEICBrWAOQbQf0uvhR4Nkc3U1oPpORVC+w3kmtaaUhVBlDzuctNxNdOwHPpKgzDtyLQ1VSMXlLPDTavzDS4CCH99qPWborMIA4iW18+FDv0u2HAxc5W3ZQN2hvkwOUUspOFuPIMAUtgjZJlXxfosIDCZJl7aj4k+iGZsOcpgkeVHK1LFKeCXO4rwabFc8LctC+JqaNN8EzofS3h/nHEC0tvnQrbUTjhDLsfK6AKoJh/f1RqdO4cxNRBqvLQVXC23rA/4x1g866qoKpt5zQVcps5znBB59PnWkOVA9Ns128msMHsRtO6r8zpqywTsGuUrial+Pq1aiklLKxqSXwWeggFbqwz58bhdKhqyrono8PIVMF8TqNOpfNtb0Sos74lYsuaaDC70tqW2DAUFdTUf8ju998RQlk44DmdBzXPMtKcGd7VfWr8/ul1Usp/WoZzX6q4jQEzaAhAAFZwxqArNhp70u28ciHwZuYCt+EmzYRXCVC7T02ZRVaQsrlPNigdic+M6G7SVH2W3WJ5co03AtFVbdQUUvLAVdnpr6jKt/wWRVdVo3QSUryQEoNzGxBlpSlgZCJO4fM115A44QbYFLfueMGs/M6qWWe3bYpNPF2M96OR0FNNW50Yahuuv/9arw94AT/flEfMx8sV6uQHN4+4Lj6Vr5KaWxq0X4/1RaG1qJWHDlU3fnFwHi8F9TWTm5YplO1IpEILlRBlTBT9lc11JRSRhIwoPeV5uR41XGMJhPNjey6jV4RmNcxZdRNQTQ3hW3tHBmv+jquOWnDAxVTiyUJm/w6JBOuehQ5rn6AWtc+l8/nPWU0ktjVSe7yDa2tEh4V/nxhfinlPa+fiDPJ2PLWQy49K2X4/oN7aNleo1IogKdgz/ZeU6uqrupnSqSSvDV1f/BrQk/W7j2nOL+JAARkDWsAMmujHyR8sLh0cNmGrXohZdDEz3FLS/FS2rMKqpMswW+GukFL3VwJ18vXXYAvelTvBGyajeASk7qbnjpct5dt3njpVR3+5hskm8oUNzjjfNkgBxg2nMpbA+ZbFKRoY+y48ZvkEbzq9OvX/RsQz7R6DtOsWhHmNE30MnxveVXLlEmtFqpMZpQe+0rQqYdxvwZT/7+6RseNry1KymAFiPtXlDOfEgVdCxpBfeomWfFyOaDIPe819H+rr8/bqW6ymOdJKbUO5lGM/khhkIIdVY3P9rc8UbcmMBu3yCB5Ta1KakWRJ2OGz92q/d2obKgPClaYvr+B935iaXuqlL5TuU3Zi7d88UBEDWb5LI7aqkiJtXO6jpWnzjRrBSdMCmKVYvOAag08gWaSL+eJIfW6HNaWSIkmOjZZ2oMr4bJiMEgHGUHqMCVEpTTPmHr3qaIQATce7jHG9zaiuUQEICBrWAOQcStKjfaiYpurkDLYEmO6+NkyPTQPwYfJpQxXLHl56saSCxb1LH++y9iSx0vpZ7/UPlD+N3J1KNvwvJSlviPNLXmvbYz3ZquVFK7SozMrIyiLpnqrkCSl2rKhboZUohqxUU++4xb8KqoBH/bjbX785qC7afOKm66fmOBzLLxcPoDdTFvbm14uqhqa7WbXGlRjLCmD8z/kKaODt8bFHRxxYQCu9x/3RoxvnNVKH7UMxdXuxX2Q+k5cFzgHdW7U39aIRNyukRTndGTeMSXPY9lIU+b3xmLrVpjnCG/VfXHKhkj3jSsNUr38tWxmiVFYoswZms7bLUqLow4KmGwKhNxcl95nx83JKUo7ny3hw+cB52w64LWZ8qSRbd6gEuL+bhP8ezDeUHUeMstveVVb1UyqUARt4KPcmyqBVOromLfZnHyz+WjpWlulLBUi4MlTrupF7yMCEJA1rAEIz3zbTj4dfKO/WVOG51UAx9X3s/KypoppxoQPzj9RV3oj180z0OyCSWr0SkOvdR9DpSPsbx+qGV6nTTNv8eCb4ZaWfEC6+BWLLCAN4f9RaRkzyQHym75udsPk8qrCW6Li9qggeH85N4rim2Ndv/6cTcFNvAka4Ffbevj31fYeVANeLaxbvtvrATcFzJWiax3kGwQutKDC27dobXFUJaQMni9cbY6LVNQfbb3zOv9bycCSoCzxFyPIEUdB3bQ3nLC3AV32eOnQsk3ow6TcpJN/VVErJzypwzOzBFf1Gzxzc8BHxKSGZxK9CHutclDbfE0KT7zFcbBBPIO8N2xzV7xSR1Uk3ebb5uHC245emLxeK6gSltwrF92cSRxw5UVdBUPK4PX8oDJ/cjDkXk7VvLDvWiWoAgaOm5PvaeTrCVs10pTAU89pfs5yaW36fQQgIGtYA5DXLE7kYQwOGVzmzqF8k825753CDfbch0pvsKa2KZOUHfG2xhHbNtAupfmmzdt1jrABXf6+6UrPvDRNVRi6wXEjQHXTw3uVexr06G3+ALrhdCnDJXonr/HL5ONWmOcnqMLiuOHKJ5XC5Uh1A+P5fN6Tf+TzAgu2hG+KpDS72PMWI10bSjVRA0DVwCoudOfUiPn++bJwq9lBns9R0WEbWi+Hnh/rNykDDDNYlaKbgSG6lKEGFgXeHjRw+kZ5PEQk4osaPybb94D3k/Pno82mqZWMD2RT4JLP6yu0xHzl3FL/Nh1kInn3m8Gh7nw+71VuTPLCUVGr7Kahdi7tPWK+3mjSNDTP4RUXunY7buncjFr94jQ1t3ifNYksOG5QfY3P2Gw90PrvfRTjyErgLUUmrxqaNzr/4XElCQvV/0hFnbfRVecqhScE6NCpRxKm5J6UwQoubzPrpJwDJplsmntEAAKyhjUAUeUYy+GdkD5g/t/pUIfI6CKuazUxDbnzYU5dCZ8HPmRI92vFsEvFlCEytYDYXFGlDL6v1Dp0T9Hw7QvdfDNCWtdXexXKuvzmrFY3CNUzgmMa2uWywLobcJgcIkFmXo4bv0QscQ8zxhu9eGfJZ2nKoPIA4p15Zjdr02Avdyqu1oC9Cf53ztq4P7DZ14kcVIrOI8c2mM3hmvl02DxjyoE8hTopRmWm1oZK4Rs71Q+IVzv3x+BPoVYNTO0XUgaFNfjMAE+ANJwIBns8EcPdu3UCDRw+D/EMS+DQua22dUpZWqFTZ0J0cNUsFWp5ba3BJDcfddxSZTNiFquU8BY/jkk2mMPnzPi9Qc2cbwkxtqTAgwbV1WvZ6yEJrnK5yDAbGAdU6bp5kF68ge6tOtNKVaqaw6sFdJTrVWZjx6ETJc//p5F6iWYppbxaaVvkLDLce3SS2Do5aKoAIwABWcMagPCWjHKzmeqmSYW3VXg3UUWy0VaZ4PKgfBPGL+4699KxGqlNVQ5PhcrpqhQfH0zmGciwoW1dDy/P8pIUom6zoGvV4tjaqUzzDTPW21VueEuFrQz9RdYzaxqMbS0UlF32+CSttK4pu8gHad+cYx5uvfzJwvv7368G3998Pu9tCHRmZdXkHaVq92TMm2FCF6BGbb+7jklW0hGXqRm19qlBId9gzt7YOslWKfWJAYJXLW2zMFFRh61N7RdSykB1hG9EbQaBJlnfMBdt3gLE25G+U1Rj0rVujVFkepuaW7wqpM4PhldpdWIV14aoe0WFB6gUHOmIopAX1qYrZdDslA8ev60kPMIqzlz4gQ4uTsJVCVt7jnEPFNsGu1LIx8RUOaIZF11gK6XZbFOVWHbccIWycuCfER22CpFN3EE3TB80efbPAZ3fDM3hIQABWcMagHBDvXLl/vgAms53Qe0Zd9zSPu7bNH4OhElla/1ev/z/mubizm821E704xBDM5PfAN/Q88zsR4rKlYquesPbtqj/nDZeXCnmRyEeECt36TcQUgb7bXnGNOyzUlWYdHApX8eNX6GJuJEFZbwyQ4ET//y5rCPPOA+ZtcX4/Da/BxrOvd7SP18N1HbGKM7UlaA739TstolLek4sOZ9NGedyyOfz3jCo2q4zkclZT9I4JZeLbgifiNqKFhW1bUlK6W3a/zIquBGsN1QlbK2efK6Bb3JtBq5SBrP4Hy/zkxGUhNElFnTV7i8blAOllPKIQW6UiGsomrd8pTOEAAAgAElEQVToOa5ZuOPjZeE+JzRzaDKXlTIY8PDvi3q94cHnW3NLr6dcdIIHNMR7TK2t3NlMlThnbnTQPbJD59IOBx5Ym/xX6Hv022HB75GuQqGrolTKAsWnLOz7aFqnlMHqOQWSJl8uutZxyX9SJ0QAArKGNQD57bBCBeKCCnT2TX2PBG93oENt2aCNvy57YvIn4BtwnXb4TE25nRyDTW1DpvI7KXGpA/RhG3rdzYxXZuh3KBvPqx1UFbqwh35eZS4btlarFTqZVSn1bWkc/p6aNu9c2cVx9YOxccAldnW926Zy97qQwFTKYFlfl7n9VbH6YlIdqhaqqEHc2XiCKoFX9PE3mVyKe/RifXsK/+xJsMH2+HKoP+pvvtXWtyhrKwfTTJeUwUqQzcgyKrrrkNeWNDLYlrSJZVC5SlMwKApuRHlbJT8PqFXOdP3g1wJeVaI2uC9rqtE8mUSGrCYpcCnNARVB1YZzH6prlZABF6lwXLOsL69Y6zw7pAy225r8JnjVg8/Nqf4WXBBDFxSdbGwOmHqq16woAVNUuNKUbcahUvh9Xp2r4tdkk6gKedmoCpQ8wKYjTlVA7kdDSakOnfXGwlLqKxeE6pMjpdn1XGcUSnsdBCAga1gDEPJ1sA3emZgbcpHl7Q50bFR0vH+mMd8iTEogPLuky9YH3FXnFzKPZPak69+U0p87UBVwTGX5sKyx7vf4xplulLre3K5sGFb1RpEyWOFR1Vd429uKnX7PfFgvPR8qVW+mBJ89oSPOAWmCS+xyEyvK8poyuGGa8lIG1Wl0SkR8EDlu0ysb/Lu+u+Gk8XNsLTcoxlhSmgM6Dm975MO3bxgUhcqBn6/qBnLZDv9ct7XVRcW2yYwqgR0VneEeGZ6q8128LYoLIOSW+UHRtHXBjaguwJHSF/YwJQhene4HE1y2lidNmpVqOK/I0awgVSqv1sya8PYw3QwE/xxa47nDW4gdNycHzdBfu4ZFOJ+4ga3JLZwHsLzlU3W2D0vOSRmUNFfvZaqRbWswVcrigifW1ColD9Jyy/Tvg05+WspgW3AnNowel/AF72IghSvH1Rtr2tonCVWZ0iQ3raukULs5AhCQNawBSGvMt5aGGErxCgYdqvSlTfrQZALIWxtGaeYVdO6q5HKs9v0TJp8Q6plXs4lhmVldRWV3g5+JoqwgDanxrAoP3HTtN7bZG9N/Ux3XVVTJUB07Fddhxy0djI2DC1iLlG7exbQpC9v0qI/R/Z3BbF68plc2+MzQoeONATd4NfPdGqjljxs4qsPSOvgQL88Cm0zdyoFn5NV2Rl4ZsMlSR4UHmOomW3Wjby18fom8MnTZTynNGXO+kVU3cBMNm1TeVqurLvDvGlcc4y2v6gY80NpZnOOja9xXNEPbYe9lXC2GvEVW3ehxuNeN7vqnrknn7aS+Hq8s9FPOg7AKuZTBYMZxg0Ekn9njSZZKsFXM44BXz9UAkAd+qu8OYTKs5Im2G5kh4bqYPJremutXF3lArKs4mRzMOarkLm8V5u8LtbJyGXtKOiIAAVnDGoC0Rp4vrOWF37ToWKyoZV1v0Sc3eW3wzb9O0USXzb/MYNxHmCR/7xyiNwLj7Q9UZeHoWsuaW4LDgLxs+9BoP6vCBxDV90tKezXDJKfbN0RX3iYbSaiuw63dPOjgcyZ/fndpQCeeDBR5Pzrv1ecBkkmuMeD4rMmoc0WoOOYboqKqrUU1hiwXnd/NxgibfO4gzqt/qppTJfCAW23RDGvlKZf/Yc7qKrYNZSXwwe3pxUD5IsPchOm81VVzCf4d4YEbF87QyQlzd3k+96czcCV0csBUMTlLUzEJk70dFqIiGBWqXNOhM3iUMlpwESVI4R5CumsTEUVZjgeQjhscjg9LspXDBBYIt7aaouOYZc6DB7UmMQ3TfCZPpvHvn2r6WCn88+YJH93Mzt4Q6X8pfRGHH79UmB80iaKQahjfi9A5+f/chgAEZAtrAEI3xDuHlC/PF5Y154PYdKg67Tb3WZNmP2/B0bU/6UqftgEyKYMeB8eZ4hbNBHxdGU4ztUwQPzFUdqjf9eZBcwI3MN77zm8YOsUWnqVXy8V8sI5vWHgwqPa+SxluCCVl8IJKRxwSkRyuK9/9o5VaR2H+veAtJIGbhGEDyYfadcErDyzjaPmJCvc+aWnJa7PncUA3P64mszPEjVjKoGrPtgMnvHaDew1S0eXATRfVlj7+fYhjgPZ+S3uS+t1rLbq5K5K6vWNw0MTTJGrBlXrUJI8pEDepBxLk6KyKSLxtkVXXGSKqVTuOqT2M4FXM1gT6JKoQ9h2J0l4VpU2LewjxjfdjSlY8iqDBQaWllX/uvPXQNNcSlVExDrSbuLSY4FMVoqhdk0vPq1AbuKraxj8PbiCqCxAqoS+bH+L3NjWYlDJoQMlntDhqSyJvIeNBpE5N6w/FQLrDXS8gAAGZwhiAhJlPhRGWnez8frA87rh+JpBQswYck9HhpBBlHD7USvr4pt5rgsue8rYEujh+q0/w4mgqrxI09K4GVtT3e9UzU41yuqp8p4rNr2CdYV2mCg9hUuzg8FK+f3Mt74Z26kyzXLztUEnGlFC/U1xCknTT+07US6mahv44YRsf/vq6GxGxp+FUSZY4ClsPHNdWjWhj3LFoyMmDbFPvtMqpM81y+Y4G61AvOWBzBTD+vpkyyDxAOt3U7AXSrfVxkNK/cevmwHhFjJtO6jh8ojE0IP79cL1PDr0WDQbrBk05m/Ydk3uPlFYSG06ckat2HZH5fF6rHGUauDVt/rkSkFrVe8NwfTRdywgyVFOrznwIv9/EdXLSqr3ecX1xdohXggdY2jr5NVqXRIlr3oa7kTtuqZcEEWXAnG/UddLqUgY9hLiho5r55xvmlbvMM1w0m6heS6MIakTl9VaYDUflpwNmae+T1OFgc5e/YzB1GQQDYt7qyVsUwyqh+XxertjZEOqfxL8Tx043WSXYo4i0qAqDpmu4rh2c2hm/cPdLCEBApjAGIK3N+IVJLdJcBT/UEvCVlhYwU6tRncbnw7auKJsY3gbCS/R0YVVNvcKqPyTnqirE0Abo/IfHGfukd4aolnQb7VeW1CH1QCsVu1Dfb3GclzLojszbwTi89YYOdTA2DJqpMWUqde1ApFDy++GFTTMfPOU3GT5gbjIS5H2/uva2lhbfCNKU3d975JTs9Mh42aFzeeZ4G/cdk2d1LmQDVXdjau0gNbpK+rYpO6vzxiHob7ufae5HCT6pEkg3V6pcxmFGacqeEjQ3QZ+/Dh4U2dpMwszmbGZ8BFU/z394XCABcKa5RV7Rp3A9+3DJTq2QgMmDRqcyJaVdNIFv0Hgl1OZ1IqWfgf3loOD7PUeTYFAPLtHL21ZUZakxITLlXFzCNDgeBQoI/n/23jtKjupc+91e637xnvt9a93v/nG8zj23wCAb2wQDxjbHCYwTPgZsMD4OxwYb7GMDNvFzSUJEgYzIOSeJKLJgNEqggLJQFspCEijnUdakfu8f3W/Vs3fvVN3VPT09+7dWrQWjnu6a7ura+03Pw4fJWd0kp45gckJNlDEskPHLx2dIrtaqop5r5o7B1iKcj3TNqmVBFbioBdjWhypSJ5U8QC6wfJ+4SvJFReEKq1bb9h5O1nCXlwlfl9+7e5I1GYPnXCgUEqPBsx8o78aQOgs+KG+5JipPIuk8rIjSoXtsg+WW7eMufSQEIIGmwhiAmBxxfTEZ7TCsBIWHms1FxSMVk9O6q79Wna1AUyzT5hqzeThvolMNInK3+5hMi3DzjH3feFPD89cpblzxsl4amKgo78i/i0ElS2zqBkaJyLqYMqh2Yvo8bew+0J4sIqaNq07YgF2TeREzedf4DAra+twZXiB+oqnKEclKY1natEaAFKg6JM9tMaeUNvgugQcVrBSp7T0Mug6jozB+j00KL5ypZX+UatTzEEyC6AzriMxVAwQzxrZkym8NLZUM/52mz55IboFEFTqsil41YoE2qEgUf5SEi05likieG1Or1HeMSVtItkI1xtaiWSikAbbO+A3VhnQHygePs1Q5XCIK6Jtgqrr58C2QhI5ivScJUdpCdswgs8kg3o9VdUGG3x/2qzFJs5o+TxUWdzjhprF0sD1NJvm0k/piai/OExSM4fsqrkWmdZfILACDapAdXd3JfcAkJMNcCnNBqvExoiZ9+B6sWyMnG5QXkesU7y/TPoUDnfNAkZMreSdf/lgIQAJNhTEAMRm6ZYGdsXVlS/YYwUMtt3NPui5DYiqJu0rlhUIhMfy65pUFkhmS2qvLYDsDlqlN/iG7DPMbjGnYFDclmCVTpRq5VeZizYLKg/G6LC62keCGxeWOTKRX5ELwfedDN2BqAocKTYZPut5xriaxTGPi5q1kzEzBF4LtKTsMQ5GcjTIZuWHfeZbsLWasf65sQFV/DswQ+7RgoGuwSWraVvG0OSXrjAI5a6nKVmcF/06TdPIZljZNBjcItnk2rhKhDwpiM+NjOACOYrnahMpH5z48TQoEOKlh+ltMpqtEaZLm3x6Trxmc9UBpUjQvVBWDMEjXVbu27T0stV7hMW3VdmmoHQfk1fsAtiCpyodEslM6BsNZ4YoVH6YqmisBQ+QWN0EpVm71Mqma+dxnmJVb9pa10krVXI1ceBbYy+ozA0ZV5bliAyteE5YVuxJQtMQ0N0FkFk24TJk74mH10+6YaD0XbvuK4nJRC4TNMDmJgp0FaqCG323++1TQk2br3kPGBCr7XJ0DZrdnlc751KueCAFIoKkwBiAmI6ss2HrB2ZEXD9W348SbWZKufNMgZRBAUha/2PMN0n4883HZi/OsaiUMtubgc+puFkTu9jUe0lWzjGgwdTVsZNRWJt6oqK9LZPdOIUrL3ijzZ6rkIF80LKYMtsRl2RwzWBEzGZDp5CtZKvpH9xWDQJOLsq0nmxnwhl0hiEieXVL7xQ+2dyW9wlFslv3UgT3HRw0YJbWPqZ9P1hYM9OnQ+TIQkfV7YEsktB1IN60cwLu8anxBwYXRi/XVtLM9rl00mrNJip9n8a4g8jNmPQ8kQXHmAAOOE28ep82C62SQicqzvbrXU7/vOmUqIqLnLCp5eJ1U29pjMk8kMisYIpxkMVUtfOD7PB/nGYJvm+EtMw+Uu3T+UlLSqRQUnGRYv6qtOqD4RrWCCDa55LxAURZuJ8aW3bcXmKWEB7+jF0i5QJmpYMUzl3klJ/+i2D5/o95XUBVLnZV5Y57dyJdI9tdZtXWvcYb1TI3wzvfuLq73346fCgFIoKkwBiATPMySXCSu1ZqNMm8U8VAHuNT+fgQ369iTi+oYphvMCVCBQP8NkxMsKtagUtfpBpMkW/tZtyZTxmDWkDedUVyulGJrcTnT0X9/msahmG9wttYSWzBIJN+g+TCpJql0dHUnn7VtYdYptrBJFGe+eOH43t3yYKPcYqQv+fMiphpLIlipUNu00FwuirO1j6iSodi2om5Ms7ZH4uZJHeZkbGpXpo0UkewTwgEntv/ohrF9wYqgLlNOVJ6p1IEtILoBc4azo6YgBYftTSab/D2JYrmVChMKUdwiZXa37S1muDmYPlN5fbV/HOHAvZ+y8Up+R2nFHGFx/Tap5FWCLUvvkv0m0t+nsoAVCT44SaHiCjyJSGt6iuiCN1N7oM1vxgfbGpIVn6peteDcJQdMmLDSzdsxauWAYXEKnr9EJUeduIJ6HlHcQtNX64MForSyzhVjnC1V58hQGt8kG60qn5mCcBaBwHsAz45979pnQgASaCqMAQhKP+rMd3xIhrQ1ZVFVoSSKy9ssVPdQxGTmhC0GKw2mRDw38JunZkkLh6kUbDK3sxkYHmVoW7G1AuEmEPutVfWev76k33QQpTcrtSWD4U0WZoxtszYMvmc6dM72OjdxHah6w4euPI6tcLwhvVCZj1AXDoRb7/73q/pBRc6EmmYAiORWMXUY9TpFWjqLNCy67UaxPPOgzgZg1eGWFn3bIIL960cP1LdarNpqdoo3zSwRyYpGLHv9ZE7KOvh+mlRruCqhmoEi2D4RxXqpaSJzBYK5zaIwRyRvuqNYbtNTna3x82bDTlMlkluEvnRT+d9o8lL4wzD9+2KbkcN7arXyzt3dZnEPNNkz9eGrG8ysqJtN23OZWmkRl7AIzmXx7JfpXsxtT0cPHFX2PL6Y5kuy4rrm84KTGCzxjTLNHIDrwITPxzvSNYGTZpzcRDUvk0wyqlVFsXmWh6jcOBCrOGoAarIEQFBFbsKyrcYgXHcP4Fb0f71+WAhAAk2FMQDBUr3JpdRFKqFXXt7lL9oXYaONcrNE5k08keyEitli08A4ggaLrsyW7bV4U/5bzaac21YuVdpWbK0uHV3dyaKNhyrNimVpdQF3ebfoNtmmmRTEFdgMUZx7o9hcaVDxMaUkIrof/CY4QOHKAauk8MKh+0yS+ZcR+kX7LIvxJYNZYmzFKBQKiYpR+vf7Zye5msbH1297LwkU1EwqtmCY2skQdT5HV12yedecbslG69yMsWJoyzK64KFwkyoVUbqZO8rSw84beD6w5QHRDYAi2EahS25gpYmPvYc6qFAoJC1FfOD/84CxSVXP5IVAJM9TYPbVFEyrGyEEM7mm9tUs6No9ieS+flRFQrg1SBd0+YCKf3yYZstMqoQIyrfrqo44Z8QtRaaZHp6RUufUssAVY567qpQ8JbNt8IwGV1ou9WyZwmQGJuLU88br2qR0h4+J4hZ6xaBYRUTJXBuv35j0URNLPqIC05T5RVwvOQFBpK/G8b3i3JufCwFIoKkwBiA+ikAuUJFJvclwqxBv4tUbOyov6crMEw0tYrhJNTlxY2uYyZEUQYM67Fc9ebB+gSVKN/XqoLjLkZuzHXiog6c4oI4ZF9OQOcIbdhwQ1smvqriGfTHLzIGjyVdFRd18R7E+A4s3bTYMY8flI0pyidz3rQZ+RG6/F5vsM4MbG/QTwQoCH7b3U0WnMMQSnScoAaIqpOACM3SmRdImJclZ0rM0WVJVDpNIbkXTmYH6crpDcYxINjQ1eTjg4Kltg8JB9i8e0yvp4CyJzrQNAy8+Fq1vox3gpaI7uJ2LxQbUeQ5d1ZKR52TS5AhvZNTqM342+Hgi2VDSNqDri+meYVI2QvB7XUmbku77eIIhmLFV+BiXip7O2V7Xz09k9rbIAstT/86gaueLbb4rT9BQtKOrO0lAuipcOH+JiVBOXHJ7Npozmrw41DZh04xil0ER8LhS0Kcm92ymm4ya4FFVsZifKy3FRJTMFf5iyAshAAk0FcYAxNVu4INtc8CLE5otYcuOy3vC5KaLDqZbDf3nZ0OmGzdepozIbMNjjrNkoUwtS7gw6tTFzn5QbtWI4vLBU9zo4AA+Zsave0ufGVeHUzs8ZFaJ3LMl3OP+mQGjksDMZ3HEYVVuhdBtgon0Q+I4vI2bBF31waRKw5iCRqS7Ow3yUERA3eRHcQv9cbjfAC225X0bpEN5YFPXiohCCi7QnDKK9fMUpiCbKK1WqnM1RKmEab9rWxPZY6wEVOpM3GV4n21/m+k+pQb1z0zVbzw4q6qrnhHJlVB1804k96vjvQnvH+pxZP+W5PdNw9C24F834Eskm+IhaiYWwfs1yr5WCrfZqspEieGjpQKAga1LKUoHtkTxYfI58qkAu+SodR0DppY6H9VBFybPmCy4pPLzBKsE63bsTxTKbPLZRPoBbwwQWBYepZtNPk9YeYvioqGmDlQNxBZXXp/UCrkpmEBUY2GUi8fkrGpujInY3w59OQQggabCGIDgl7VSJRuTFj1R2gaFvdE4E4FKUrpeepMZGwZOpmwEDt5hIDPSoMZhqpJwmVa3CeS/T21ZkjIhmooL64/bFs33V6blftxE4E3Y5PatZmtMN1sV2yaUSDaMOs0wnK8DN+6oDKIzzPuLIr1IRHT7mPTzxuBON3/ClQRdYIBeGS4zK/5scc6ENxWfv2500nriWlwZXJxuH7MsyXhd8PQsaQHC2RWfYIlB5a4oloNWBn0b1AqBKTNPlLYN4b/loaaELt93WQbtUV1KNXAkKm5W1LZGkw+MbdieiGiuQwlJFRKI4uJAPw6gHqGcC17LrOzzlVvlzLitTQarK3jNm9rmbJUuXXW0GkzzOaortA7MVptm+WxgoMX36SiWvYEYkyqhCkuR66rLOuNHVSCD4fkWmwO4Cw5KTbLaPux0yMXnCc4eoQmfLelFJA9/TygZC+Oaxd/l7u5C8vmYKtxsmGrbVxDJ9x4U5OC1+QvXjZaCBtW0UAe2cN06amkiHqEKnnASgtsFMal48V0jQgASaCqMAQhv9kxZIx9wEVm1VW7jwkWVH4NZa/ULq4IywajYgvMRpsFV7I/2MZhCIzP0drDNFJiUpTAb+qrGxRolGqNY3/9ucgpe4zFQry6UqAJmyggRmRdTBjcVJjUfHey98PnrRtNWUHfSfea/07Qu4N+Dmw5de5utZc7lgYBwsPHVW4uLxL7Dncm1cPGwD4zqaCZUyWueffjcoFZpscWqVpbebTWo1bVF2dyp+XzUjTFRKmCAbUtZh+R1oO+CrVdb5yiOoGIYH6a+eZvqHpH8/VLNIolSB/jv3DkxaUO8/KV5UuugOoyOqlwmJ3autP7H8PLzKhQKScCKbYdcgVWvD1vLKbd/mHxQsmJSDbMFtAzOLc00SJvawICaxUKiuHz+KYuilK3irfNqMVW0fIbeXfBzmJS9fFjruJ7zBCtSWGlzvS6qcbIUtylA4BZK0yzPaUqrrynRtGxzquyHc6EmpS2TWzvS3Z22zf7t1YVG+eMLlSQE3ksvue+1EIAEmgpjAMJfhGr6VE1mO0TygKIus7R9nz2bb3KD9ukJxwFHzLBMXK43EdIpoLjcwU2bcBxW1DmFq32qus2AKXOFfbCmeRaUP1y4frdV/QhxyZ2i/4hqnGei7WBHslH74/APqBudnTVBna6lA6smWK5/WtNmYzO2NC1qOv72anFjdUT/YnUQM3ovzPzY2PttQlUfQkUXDAwwKMtSZVIVtnTZe5s8K2ey1R56dOLGxRwVkK72mFHRgfcO3bwF85pjo4rfCT50syxEaSbcNLtjC6y6u9P5oz89NycZbD77gSnJ/eaL14+RKpDF+2u6AeFAESsGPpU5vhawRYs3y2q1z2Zi6eP0ngVTG+/ZHmIPmBiqZI4I1eow6FPb9HwMShnb/QODLZ5ZMc16uMQOfMijiqJT7qoV+N3hvz+K9aaOyAzodHhjXjFht3RTGiDgfZ7XIN0ahS2dfJiqx6Yq4TCN4AZRuRKjCRQOMK2nbCTM9wVMoFz54OshAAk0FcYApFoZRCKiUZbNPWYbk958yODhsK8uM4+Sejh0hjMOpuHFS8HvwWRoiOBN4K7SueDshG5G5VyDtjwOjaJ8MIPyx1GsryJ0dxeSjTsGbbb+bgb/3ikrt3sFLUT66gOCClI2N3YEN9d8o//yLeZF/oeajT1unFEBTZc152y9rmqA15NpRoBBoYO12/dLLU4bdx/MvDlQg8LVMBdzKbT1YCuSbTBc5bswZ8XvU9k5WCoJutY3IpKqZ6oy0IkGBSRfcLbD5iUyxvF9wkw4b+RNpmsm2VgGA2Q1sML3YujoZcl34NgbxiTByFkPTJHasaJYVqm6VNMChS0Y1xvmurhvHJ+LN1uqTKtNdtyloJcVk2qYj+/QfEOCyRecyfgDqKCpw/U+RrQMz2f9XCNSwcEjVrT+9FzxZ6pxpY/suQubMpov2MprMwPMixNukpXgorjc40oFrwNOnMxao+8iuAIG3dW1H8Vf+DCJjWDVBYNfFHDA94sDH5eXCs/t/OqJGUbvGTXZg6az8aNvhQAk0FQYAxBVZ7sScLBVna/gtoG/vjRP23utDm2pYFsUZvJwGNoE9myqBkE6dKZarsyZOkzGuAIedWDVlOHWtViYvFEQVT0MPTg4w6SDF1iTC/R3YVDWZpyG8IJxRP9UQcm2seZWCmz3QUNKHEjXDQnbVI583wciWQTg/ZXbks+CM7o+5ngIasJv3H2QCoVCsklBmWqcp3DN5CA88MnH31vLN1q2dklWJIpiuccZjTPVqorNj8UHdDbW9e0zJjEKBoM7rkpGcQsdaJdbcXCw1daXzveq3ysCCxj8v/LBJ1IrKLdeXP7SPGnzFMVyGxJ/b7DtFWc8TBtkVpU6sr9bWGLjbr3xKg4kV2tux5jaqHwGqLHqfL+mndIFKgWieIU6T+JSJUQ4AaK7N3ErKQYE7NekBu7cCqpeQ1nghJBtjsYF3jsnrajM6ysLOoEVk1AMo5PJRzEIbJu2JS10XlOmCtzbBg+0VVvTc8HWsbMcBqYMCrmYWuhUiWbc5wx6YmQIQAJNhTEAMfUQZ8GUXVdlRHUyiKiO9KgmY2v6d9NNHxkIC9KTHgZGmIXkYAN783XzCqayLAY8alsakdwKFMUtdKGmEkCUOqbiTVTnFK6Cg7QvzfrYeDNXMWXBGd4w/+qJGV46/51d3UlG7BwIcm0u77rBa8xKsbpOFLfQ1FXlwZ1tNiOLCRtuIjHo4Y29qZffBFbtWPABN03qAkxE3m1u2MLDh04hDCVYVZleVHlBQQpcqNUNTLUVVF7Uv+uoImGGVKe4hcpU2J6pGobpvuM6TG1KmHGfs26n5KmBG1wUilD/Pl3yxGWAp/6NG3cflEz4blYG7k0BDfpc3DHGPPSfBWyjwoSAzwZ832G7CIkLDOpRGVH1tHKpEiLsZaG7JnWqY9dAogv5okONzweurhxrSAj5gBK3efi+uOAAm49+juQCkVwB4OsfW20xiWdzVx8xO62Uc/LTlCDC9wWfB+8RqBrmKwiA9+zTDW146nA67qEGP9sSApBAU2EMQBJ98CpukqYhN8y2DXxjUdLDjKVtW68ykXlhTjIIlhvzzZCdvBsWKpOLqW5QERfyoZrMpEkBBmcWdIZo7Z3dklKOzs+CKM2A4Sb3acdzE8kL7tb18QsAACAASURBVKOTVluHj5GrDYspcyJUsXx00bHSgxlObkM5ZpCsDmLyOEE1tJ9CrzeasjHftciZ4gKlzkCobDQ41nOW16RwYoIDFpyxwNYi3Qb7As++YwyU+dAN0WK/vip7isOXaHyJWWY1s8wtSJUaybH5litL7JphQrlL3LhMUFpCXQkFxiQte9Pb8oAqDtHz8c7CjVQoFKRrBlsscY6AK02mfncEN0xz1u2UWkbV1jjc2GNw4vM6WZlnUA0zmbQihUKqauRSp9KB93js3Z+hzAm5VAkRm3wuJ2CwqoOJLhzCP8oy5+ZL4rFVhUgMtqxW6vWVBVxro7jco0YHCpNwC6pJeAKTaaOUuSFU5ORKjEkG2lYN5hZhTJb6+MgQyXsCUzuw+rlismvo860hAAk0FdoARNYHr7wcj/212PaBErs3jPwwMQbETLjNmZnI3ErArse27DNKt6Lq1Mc7zOZbbNbHPdWuGRVTxQANHtcanNr5JhfF5nYI3qwc0T/1xNA5hatgpvP2McucFRlmgGExZdCr4oH33OeBOv8fbkwXEcxSY5uMyeMErxO+qZsWVG6hOFvTQuFyuUa6YAaHj2NvGJN8Dqo5ogtup8LM6t5DHWWv8frctDXM1RLHYAaRD13rC34P1PYkzLBv3Zu2NuBnpSrOYfbXleVUsbkOq+D38C7N95ClN798y3ip+qfOO7lELxieJzBJyx5/41gqFApaJ272XzkLjBHxnoeVQ76WbLK5DLZVjlyw0apuZPJXwnkAkxx5VnTZ6ywmmtVU4TGYa1lYLuXKuFQJEXVAGOGgEoN7rI7yd8rlJ1LJ35f1+8XYkg61ABMAvp8rVvNY+AGVD1F6e8nGNIhGdUgi8Csa2Jok06JYPyeKFTO1lUt1dCcqN4o1gffEEwzzVmoVFEVr7nl5TAhAAk2FNgDBmQdbNtCFqRdZnanQ9VDqhs8Q3Ehjls+kpY9gu8mVI+YbbzbIsYoEo2tG5RqDNji2BpheDzcoJs8C3BRubis+z60aKUgV3MgPenOxpLi0fLN5461bTBm1QuRTieFqxNeGvCu9P2hYhcHLdkPFCVvxUOWEZ0oQblvTDfbbPGt0oLRnFMuVQh8lNkSXPSVKhxv5wKxeMmcz0J4BxSw0H7q/Hwfp1Q2NKaC82LAZJ/K7Fk2gVKxLEMCU0Wc4ufHj+6dI2VR1DgaHyDGhoWKSlv02+BoRFTfarIoVxcVglM39/gqtKNgOiN8xfqw6s6UD+8QfnbRa2oip1QwMANBXBlWjpmnaFythj8Y93GeonvmhwUzRB6yk2t5Dlyqh7jlVn5Qug5SvTpoXr1eX3LcNvFZ87jE6sEJjapXNk7nKvcgnuakLmLHCjnK4mLhQ39vEef2OiXJF90AHqWAyRpVt5u/u0QPTQXdOTprU8xicC+ND9RBTq6AoovHQq+NCABJoKrQBCLY36TbXWdA5NqvBA5uZoSKEyX2cMVVXfFxmscTK7S+ujRIP8rK7t2tGRZfNJJI3ZtjOgnCpNorN3hxYhl60vlhBUF3OTfQDAQCfagWRfjFlVNPIV0CZaramnQmvr4FKFlDnKExkbufT+TyYFmWTMzGRn5stwkOnfGD2FBdI1+a7UChInweCJntRLAsL6GQ/dWAfPh+63mebcACaRWJ1yOQMrJ77GkOlzwQOx5rEFJhujSsykmYaZ0tmZerCj9ekzZtAlzVu7+zWykfzBlp9z+8ZnyYhUAkJNyh7DxXvDTYlQQY9bG4Y+aEkDvDy7PLkzWc11xt+xrZERBYKhUJZu9GuDOZ3LOZwKqh7+YKqfSbTWiK3ihpiqmxKfxMk7KTKYSmpYUqkZMV2P/bF1O5aK3DNjmI/k1KcYWPlOazG49paKBQS00m1zZTFI3771CznmmdKHhKVz1th8Olyk8fEJx+YBFD/tq7ugtQi/cSb74YAJNBUaAMQbGtBidtKYO3034IrNA5a3/fuSm3QgD3UOnUbXXaNKO3RtvWXPjst3bzz46M4zTrqQAk9IrMKF4M94dieMujNdKNryjphdss0GIn+Jbxw+i4o3OJ14dOzpA3VTsO8BpG5DYeofFEdvRhaHpaVb5qwQqL+u+R8C/9masnDzRcfRw8cpW19MkkfEqWZLV/jzWugjB/FcsUFN5ib2g5ankXv6sugNHAUy5lpW0UKQZ8MDqJ1Ttc6DwoGhzux55pFAXRzGi9aPIBcYPCi9mDrSObVlJkCzLZzoKvzzCCSFW7U9g1E7g8vbtRRNhkTNjyPFsVyuwkq4f0O3jvd7JTNnwXhFqA/DPvA2U6lMzY0eXZUC95riMytszouAzNcn1ZG5HyQRrVJjfvIsDOmyiYmR3BTjS2x63cVN7rq2lcpPpV0F9yeyIaqtaZQKCSdBKZ1XUcytF/6fl9mEURhjxFU78Sq06A3FzvNS23trTgrOPOjHdL6o6vAIjj/yYdaBVQFPzCZN/ydCSEACTQV2gAkiySpi+9qVGOwevDIpNVaScFJjtK4SQaXTad0WW4G5x5Y9jWK7Znk7yiyoq4ZFVN/LfZ4mhZVHA7UKfsQyb3hnOX0HUzmv+WMuyYlZlnqoqpyn2YxZdR2NJe+PDsEf25Qa9lrYrYSqwqmaxIzUHyYBp9teu0XgJO7D9gqpspyPpphuFMVBUC6uwuShC7KRJvaEFQws82VxiiWM4dEdrdz3SYYv3+D3ixvpcEg1JRZ3n+4kyYs20rjlmyRDv4sjujvV43SJTmI5KoGb/Y4q65+R7BtyZZ0wQ0BK81hmwTeq7CtD+9R2GKGRoH4eA5oMVjnGRId2GqGXkPjl5S/9xwUnPXAlOQ95+/kkf3t98Gs8HnxhhCDNZvxKZE7yN5/uJPmfrxLe74oc2oLLtHwUlVOUjFVNk2Gfrr7gK/xqwvTHISLtgMdNL70mbMSk4+Ud15ge/GcdXaxD0ZVTbPdq/k6xu83Ciw8Pvkjud1QE3TaZNQxMfrqnPXaIXkT6gxMFMsVMyK5/etge5eU/Hm5dVIIQAJNhTYAGeNYwLKgM+RTtb1ZUhCzr6hoMVYjD2syAmSt/3+939w3jFkvVrA4yuIbQpQuaPy8rhkVUxac/Q2+aFDgUM/PNBCq08k/z1P6FJ2B+bAFRER2xRRVscykfkNUzEbxrIbOpA43C7hA46ZqnHJN8gA8HyZpWlt7Hr8nvuaBKHmsDj9jhg0H7HVgYIVD5gzOKOFz3a14h5hAbXys2qhZbltwhuaYLG+MG0ldy9IMS9sLg5sR3fE1z9Ybk6QlKsiMmF1s42QX+yiWJYUXOL7PjE62GqsiGCTgNTLMULXDVjDdPQM3mjaRDN6UnTx4nHT/0MlRo1iDeugGrKuBpUfZD8mVuEFM82AM3+90bao8k3P+I9OtVQcM8JZtNgd4ROZ7Os6RYMJF99z49w9z/P02UD5+hUM0g2nv7E7WOzx+9kjljuxZ4epFFKeziy7U7gObxDe2yXGHAe5nRi/ebJSHZs62tOpisu3ucSusxp4qeO/A50DUNkxMIL0x7v0QgASaCm0A4uMn4cuFmmwFZgCHz1in9e5AXwZdG0+hoB/844ybzWUXs7PcvqFrS0F+qmxQXeopJrWr3zscxYmK5lj9BrbSZwaMMm46DnV0JcOk3PuuZhtNYP8wHybDQwaH1dWFWg04Vm4xZxxxMdBVd3Ya+qnR/G/6allKk/t7+dANWROlLQe6jW1W47xPdh6gowaMon4DW8vahLBi4MryjTSYXjFscHf8jWOlLLCvhCbOBeFmVj3nsx8o95Vh8DNjjxScM+DNPYJBqa6laY+mdU49XCpJzFmGc8f+aZ6fUF3sGV81pDnrZB8dInmAH9s48Xu8WvmMeBOF7Zu63nRfpSL8nLHVQ9f+9pcX5xnf8z8/Xy7RXA3oTn24syuT6hRmf1VZbdwIfmPoe2XJE2z9spk5Yrufq5KAFQ38PPE6mwx+OOgFw+fv+t748pzlvTGxBjbLeLgc4POEK4hn3DXJW71LlU+3mSRjYoa/Q7iJX7Jxj1NZTu12QDq7upME2hUvz/eunBLJXQt8PKJUvdUqG96zW96bGgKQQFOhDUBws2lSMfJF11uv3oR1w30mN1KEh9OuGpFuVGxmc8wEUEXh40SHaRwPHXMmzzWj8qRBXcrkkK6ycfdB61A4UZrJ5L+V/x8HW3V0dRdo1pqdNH7JFhq/ZAtNXL7V2epiW/DU9wIVhdQMDw7ZqYZ3RMW2oyNLgdXVsAG19e2qilToJ4PY3INVkQEfPtl5QPsZ+Vy7zJOWwI5ZtXVvmarXM56tOdzPfOwNY6TWQzUw0klhM7p2SJd6ELYm6IztsC2i/+sLk2uRj2mrtpe1iZng75Ra2cKNB7+3GMii7800h6M6s0YjhsDVI92w9AbD9/hAeyct3tAmbZwxqOTBfV9FNQys8Hd011RHVzdNXbW97D2fsnJ77mpImIhZummPs7UWscnn4v1IDQiIKBlGvvSFuWWy78hdmkFxE8MN9yCTcMYrmtbFqZ7XmQtMEuqEPnRgle+6txbT+CVbaNaanRXL+FZCoVCgDze2JSILPrB6Iatkfs3iu4H3OE6e4lzF3kMd0vymLjliaulkeI9xzoNT5b2MQSabwdflQ1X5Q4uA7fsOS7OX4ydPDwFIoKnQBiBY+tZtErOAQ9e8gGLbyZvzNmgVo7BfUjWPYj6rkb9Ty7U6dCZhrnYP1dkcF1KdPKZpw86tPnn03XK/K1dTVKngPLENw6ptKabBvEKhkARJNodr7vnFYMDW88ybZz50rV1EqWysGmyi6dkVL1duDsaMX2JvH0TQDyWLFv9LnkPePIz7rdsnWN3evzm02LLyb4+VB284l8NtYq0OdSaUz1SVzojk96jVIC/rC3+u6uwPym3yUDe2ZaFCFEq1jl5sPh+U+mSJ8lNK2XbbPccHDJh4wP2qEe6ZMSJ5Q8r3Bd13pd5gu8tb8zdI16BLdQrv02p7Ivux8IGVJFUWXGcky+A1ssexKdYFFETyvQmratKAe6kVTtfCVwlZkhyMqVWs0VGFZXgoXVetw7+RAzxuT+T7vss76PMOo0zeC3zpprHS672z0P6e6ryBVJU6NSDG63PStFkhAAk0FdoABF1kXTdlF9iDzllcdfOOr8eKUag2YWpj0anfcPbigqf12Quicj1y3qDZUJUxXDMqpsWKh951ZnhZwcxO28EOb4OvStAtpoy6GJoWfGzNYlMpHboSu60VRZ1pMQURPGukqpvgQLXLm8CHLFlO3GBmyUS6BikZfi/PeXCqdd7kFEWtCMF5J26b88nAJt/P58sXclSi820hMXEluwcrniiJ+RioKG0AFSb0DxqraTPToVboUGEHZ9Eq4RmNf46v4SRu1rHPX1Wsqzf4ft82epl03aqtlCqmNr6Oru5kE8oHZsMxAcJ+EGiUipjk0nWgPDRu+rGldRcIQkhqgKUgHas6k1b4BQ46UPjAd04Tz39yFa9db7B11uS5wuAMIc9knK4oY9kqYrKsrt6nBMURcJ/iCqhxnTGtD5j83bj7oLTGT581OwQggaZCG4BgS1S15dlHNH2zePMct2SLFKTw5lLXP6ty/I1FGVBUkuF5gIstrqTYt8mHqyJxudJKpltcEN3gLlE6HGlqE8oCDjniBqQagysTkjyu8vfqgkVdcIgZXmx/UVEHV4nkShoODxOlqiV86FSZiNIBSHXeR8qIOZRMfMA5AZ0PA/Ibi/qUDZfUMcOtZRc+PUtqe3pKkY62Vc+WbS43tvMZtOdq1y8eK68MoB9OtS7MpmuDqz94HXV2gWcHBKq4MXRtzvge8/tnZkvzbDo57izo5I65muGq0K419PerDvX1plAoJMHC75+ZTS/MTCt38z+xB57oF4WeGVjF4qRLv4GtyYzUFo0yEUtGq+sCJwBcIiRE5qSTyZMHqz9c7UBZ7JmGyr4PWTLvDK6prve+kfgDVDixAqlLYu2HhMB1by3Wev/o/GkYlEU3JckwUYDBiCugLhQKklkuXhcMVtM+2XlA2ovNmTMnBCCBpkIbgGDfeLXoFhw015q0YptWXQQzpKYed1WejyjdSOmyrgwq+PDx4/vtFQlUzykUZIMg3Wba1Grw1VuL2UlbhcYXnGXBAUldWblabK0DunkEzqjj38mBwjGDRpcFEQj7J2CgcIUhy01U3o5hMvhKnkPx+nANTGcFA1yXkzeb1dlU23TgZ29qYVIXWpzNUa8RXqSv1FSP1miUXkwiCwj3busG2/kz/tyg7B4PKtjGhpLEHOyr6ljcpnk+JAGyZObPgKFYrAzaAkEfdJKwqviFCfQ8wSNPSd1K4b/h67e9l0m9CZUOMRuNcsW4+efK1WqNSeyphrkBvg6PtagSMqY5Ia6sqs+hkyPHIGBBFUEABmEmlTmVasxBexIUqUHxAZOPCicmL3p2tnTPu31Mui6cWEoiXPSsHJBixe7e8frnx3ZNnv/y/Tx5z8KHmuzAhO3a7fuTKu7nBrXS3LlzQwASaCq0AQjLlep0sLOiK/uqi71uM2NyX0Z4M4/DYlxqv1xxlUbwJsOHuklRUZ2ycZhVl8kybRD55ogmYJWybke6MUTTszw20Sq4mKoZN93np0qjHmjvTDa5OuM6RDc3xI71OrEADiz4MDlZowcLgso8rzgGCX3QbdhNYIUiCz5ePapZp6nVrBM2egM08xo6UQGbMSXD2Xud0RlLXepMIbOik6otFArJvUA1KORNA97fZOUyux8E+6mcdsdEKXlS7byFrm0zS8umqganc7XvCVChC4NFl8gGUWqa+AeoXLDq2cmDx0ly5NwCpzMeNCkb2YQpVFDt7yWQamYRBHW91Dmwm8RJsoID5c/PXOf+BTIH6o0OBplozvq0IbnD35kz731f+gywGp3INCudCKqkvA6sNh4HxoqmfQrCA+x8qO2rj0/GObB9SXLthJvGhgAk0HRoAxBb5jIrulKx2rLzlOam7JNh5RYPHP7k9oqrLXMQKMvIh2uAFFtG2g52KH9D+YbFpJLV79r8hp1REhCVoF6y+BhUygzNIDKDg3PsyqvKumIFxaX/j1KKLILAbVk6j4+BoKwVxUVpZx24kGHWPcvQuA+uIUemC+YJ/ver2eZ2bF4rDAaoD05YJQ3bY4COcwy69r1dII3899ZiFhENs0xO7H950ewuz4HXbwxKM1nQVeCwlUL9m3DuprPU94+iEYvW271bcFPA2dmjB6bPVSm6KgxXa375uHvAnT2Q+DjBYMhZb/Dz4c16FLeUKbvpYOd69qrYub89abvieygnO75+W1GOF++9HJzze6NKdLO6ock7CNG1IhKlHlHqc+u+o5UaCKqoXlo+YCDoqzDXCGCbE86PmmScOaj80k1jpaAeK5sm6W6XRC9RsTLH+ww8VINeHZx4Md1r1L0QGsSGACTQbGgDEFN2oBJ0A6zDlcVet/jbnLdN5ykPkJkHQnHDxYcrA32nok7h2rDgHADrvfueXxY4s4eHb09wFuYasn9EsnkSixao0qhYQbIZqhHJcpf83po2EERycBjFRWU1HRio4GYR+7JNimtZ0Ckl6TD1uPuA8xymTCBugPi792VNa9x2CMixTYHRDW1yS6JtTgzlYNEfA9uF8vge4CaDM4ooeak6Tt8FAS7fW7IY0nEge0T/4vUYxflUcnTKRqbZBR1qK6JOFrgnwIAAh8f3e8yncPsWm85hyxsHFyhismrrPm1CgatWrKTEnGMxnVPBgB6rrBwkqrNOmK1n00FdsqYS1mrkoF3oWlt7A1i5we+6SUUM7/OoIoWKntwOrH5HfFpbiYi+Vdp74LHLo6rEM3/p9SpXTXC2bsnGPUm19lu3TwgBSKDp0AYgaX+kvyeCiY+gH5dNd9QoX9d64KPPfoZiUIQbG5uaEbac8OFqiVKHw3SKNYjO8Xe/I9NcCdyahEc16iombA6+AzQbe8wSFwqFROZV3QDowIFglni1BcXYBhPFZhUjk6dCnr43RESHO9Pr0DQQT0Re7QQmdH4UKhOWlUvLsqkX+n1gX/X9mr5qXeB86QvuzYzJrR3vCQ9O8Ns82dAN5GPLoKo0g9VLDjjRzdxm7Egkb4g4E6r2klf9d5Su+34aqXETmCnGTXtPo6s4R7HffArf31himatXUVz0SSCSP+sn3v9Iq9hnMiFNWtwc5q1EsrcNilXw3KG6hqAiE7fFSpX0A5UrTGKVVecEr8NX0KDRwPs7zrGY1P9wreZK/NEDR0nX25+fL87tfFGZ2/GVN/6tEkioa4oJvm/yoSZX1cQmurKHACTQbJQFIKjUoBtIzQpmVznLq7o4o2IULxgou2rqV1X7o7GyMfgd+wZfLaH+1bHAqzMpaq+mis4N3JVprgTM8PDh6mGvBJu7uW5A/MoR85MbP244b3z7Q/Wpy9DJxeoEBxj8LKLYrC5z09vpe4XZV9NGuVIKBb2ZosqkCpRsGNtAOaOr7OD8AqPbKKmo9wSf3nkM0lEpCzeMpmpVFnTDvpjUUKtaOEzMvfk6F3ITGKzwYat0+aKqA+IQts5LRQWFKKI4u7BBLeGWOz50bXk6UAWos6s7Ebf40X3p33a4s4uOGVRU3fv1EzO1g95/HF4MZI6/UW5L40y2zv9GRZ2pIpKD87+9Ksu24nwKB9rqLGGlYFvkkFa/a8/UdtTo4HWNQbZqSMvgfCav86cpiS9sx8Vq+IsaIQgdmMyK4hY6sn+Ll5iG2i68XVEAVIUocI8TApBAs1EWgOTtiYDZYB4SVNurUDGKM5i6th4VtS0Hb8q3OVpaWCaWD1cPviqRiZkYXS+vbvHBTPMD7+kVNrKCKmN8+AzDZUWdJ0BYNQ0Xd1xoMeDUmdapYPvM45OLG2I2ndQFirjhiGKzapo6x8PgPINPW4gPOhlilVerkOSUNiCGzS8Gzaw4pBvmRylZ0/zMsYr5F0vcqgs7gplolKLGRdbXxdmGrj0Qs6Cq4g9ey6x0g21ZrtYYDG74MM3hZGGCYoa4+4D7M0YwkRPFLXT+I9W30OYFC5vw4TufgtUm9NdR7+8XPVsMiPsNbJUy5tziwjLq6mC+zf9GRRcQ4mekBqG6KgUGVNWov+E6rXpZmMiztbqeYFsSiq2YZmgwgcWHOmuGa8HuA2mCE5MLansUglXzKC6vpJjAxKpuvVG7QXgG6vxHpocAJNB0lAUgWGa+MwdPBKJ088gmUKqCjrrwEsntBKZMEffvsoeHVCJ3lKVVxRhbqwyRqpKzs8wwSGWL5lxsVYRK0d1sWco4T3RKSAy3N6DaEXq7sKjBZ69t9cr6YaXo763LnK7aOLwbxeYMtqmqxtWaoxxu01mwVWwYFFpwtf2o+CQKbh9TbgLKLSxHwuwGqoCZBjs5g81/Dwf/mIlWMVV48PufR8VJ971CJTV1SL69szsZZObEA14brl5unDHgoxpPB0at5PhIgiI4QBvFsjpgT4PVxyj2bwPCDeE1r6TtV6pUMiaIcBif74X9X9d7dXD7lM5VW0dSCSz5R9gSMzs1CTGUVa2Gbg/DPBWeJ8qjXbCeYMsku6Kr93AEPxM+VJNQrHjiTKLvjA56vESxn4oakdz9oV6LRERvzJOTUl8D+egQgASajbIABNsx1OHNSvmykmUaomQfdIpRurkCFXWwcP0uey87gm7BUdxCNztattRsrkuGVFciR3lIX+lEFxjo8FEL8zHs41azj7oBT8xAZ90QdXUXpA2iq91gDLhY8zWlw/SZcfb0JI3Eb6X4qBfhpmyvocpnotvS+sHoVG9u1lQWfUzNVMW50yEzZwKvd6yssHP5UQNG5eJTsRE26veMLwbHPINk8jJiCW/+e/B9cX1/UGDCdg/ICiYT3py3QaoE+iQsNiry4nlIfefFy7PlSq3vfApWCXmA/QvXjab2TnlNwOoyHnyNm9ov1YDChRqwmK5xIrklmNcXnI2rFpt3j0qhUEjaka4akU1xr6fByt63YfjbpOSFXRemvQxWVbCVy7ca/pHiJfat290qakRyx4LO00qdX0IRihCABJqNsgDEpnZUKaoGO1Y3DrR30px15dJ3PqVqVZoVB3N54N2EqsftUiHCTe57y7bQkFZ9CZfRKQfNtEjZVkqhUKDPQztZHu71OvZq+p8ZlqHEbDje4PnIMmiNQgi4udANLU9ZuV16HdPChFUrrBLp5iKqhYe9f/KQebj1MsiGVlJ5sbWlEekNRe9/t3zWYSxc26YB/u8ovi5fubVcTUvFNNzO7VuskFYtut58Ht40Gfid+/A0aeOALYM2k0wi+T7DG+M8KmcfKH40PlLLSGdXdzJ75LsxrRf4t6j3ChtqppnvCTpYlAQPTl7pqoFZZ2yIylu2sGo1coEcvGPllivsumpxpahtkTZcUtuNDM5G8VrnqiCpM0fcWcFg1XwatIdylc3VItfeKX/XfOdq0BftOE1yBAVYJq/Ylsw2XfbivBCABJqOsgAEXT5bFppl6LLwk5KU4ndLmwFVDlVSjCplka60OF8zrOrBUnqYMTSZCDHsQM2Hq8UB35dRizY5M6Y6c7eJnhJ/WTkT/pY83Ot1oMLYdUrLz+mKVj+RPAjIR5Y2ozNgA49qUc9OW1v2WAyajxlkVmVSlcyY791dfC0fJRxffAY+OYD+xtDKNuJsavnH4fqWCpZwRI+D4ZrMn2lWAzlTcWznbPQlz5tnXDBoRfEBrqb8PKde9C5NOwpXOH79xEzt77B/R7+BrdTdXZBadFwBPPb9R3GxxTAPVKM7DKzVza2Jr0Fl13dTXQ/2K9LneK+wgTLuyRph8BHCuUF1k6oTGbAlVUzw0Dpfu7ihVNUHC4XyKiV/J7/tmTG3obZF2tigqRL2FjDI48PV8sT3Xz5QBINIrxBIBK72Husoem/91JJoMv0tX7m1/G9Q52FRzCQEIIFmoywA8ZWhywKa6RCVZxlWagIHlqv7vEXm88KnZ0k3I9youszuzlEMKjtBWwAAIABJREFUgVwVEzTie2Peeq+M6VFKyVsns5kHl4C0X620/7HlJ35NbvnhTQ8O+qltUd8cOiFTlvh80D/XOQojaMplW5iw/xYHk3mzmocpnnr+to0GVxV8Fy8VrkKYWtt0gRUGG1NWFoMNl6kmUerHcMZdk6hQKJTNUOgoFArJd4BN4zrBxMu37cUHzBR2dRecr4EzSlv2HEpmY44eOMr5Wt1gIBnF6WxbtaiJGNyMvLdMX5lS4c8py6a6XuCG7d+f1AeGKijmwYdp+BiH1KO46JTO6AQZ0IfHd95RVV5EAYz5JcUthNuk+PrnylweSlQ6I14TSza6fYMaFXW2KYrdvjusesaHKmQjdV3MTg0H2R9EdbXXwQnQKDYnOlTQwV7XtoXVntZF6X7h2jcXhQAk0HSUBSCuG2olcKsJZ6c5+8hSjDqDJ52yksrFw2RFH8yWudrHOPvMh8tNVs1OYn+9KWPK5eJLS0pIOGCWh+Edg7MNPoZalWKSZ9Zl4qcpmwG1auKCM1FfvH6M5KKuM5/CVh+bzwhuQlDhBDeveaEG3TqOK/WTmyoYLtRsrApnSFHhRzcY/uw02fxKBxtLfmPoe5kUeFTjQ8zE3pWTyAW+zoVPz5LEKEytlXifm7NuZ3KPsiU8EBSx8PVhcIHmks9MXSNVEX3vF+gzkOf7mwc8axXFLfQHD2NFIrlKYdq0MYc7u6R2VHws9t7zuqZTKnTB1XwWPkE1RFVtjai8UpjFd8SF2hZpY4YjidPIYGDOxzmO9w/bvL+kmbcxCcKcncGYEoUufK9nNJDUBaFYmcH5p8HvLAkBSB/h+0KIx4UQc4UQHaL4gR+Rw2NN/LMQYpgQYqsQol0IsVQI8VchxKcMj/9HIcRDQoiPS4/fLIR4Rwjx/2V8XSE0AYjq0ZEH2HLV3tmdmABxmVMnV/j7ks8AZrFU1HIpqvm4brKqkZBrKBwzSM9MXUNXl6o4nxlgzpiqLsa4CC7IKbgjktudzvVYjCrFJC2rZvmI5ExPFJtnC0zgNYMKZNM0LUKoNsOZSR06t2vs01aVUqqBA2hdny+R3NJW6et+/27zZgarD1caPpfnSu2Oj3p857HamMXPRq3CzFqTfkdfnp3PjBkRSXKVKCusa9kjkgOxt+Zv8Ep4ILz549/PA9WPRdcu5wLlRR+emI+ISF7gHIaPsSJR8Trm+0sUu9UK0Zj1h/emcyaY/GEFLaycuhJQDAbiRCTNAupUmdJZtuIa8G1H0iALalukDaxIj1+S7V7c06zaKg98R7G7gobqabo1YYvBVFKdV7WBCS3f6xnXKl0QhYIgOEd5x5jlIQDpIzwrihv7OUKIxcIeVGR5rI5PCyE2CSH2CiGGCCH+JIR4tfQ8d2oe308UA451QogbhBC/F0L8byHEa0KIEzK8LnOSEIJeaJmYDOthawIP61ULarnv2He4THVI599hcq5F1MoKZt1dmwK1RGuSH2VQ9eLRSasTXXmboRa39nCLzJOgHb4iR68OnIGwDQVXixpQEelnXYiIVsP71W9ga5kUqguUQ7xjTPrfC9eXB264mbe1I+g2dNv2lhtl5oHOnBFBxTYfiVUdZ1vmTHAwGxXedLKh6JtgknDmYP+4G8ZYpUdVsJWOSN4IcgtYHqAnELYxjF5cXjEjkjc1V7+yIHkvfeU0WbggiouOxXmgimhUItOMQfYzDdZqg+1/vtKxRGmrYRQXDRptYGUL50yk9teS1xRWzH19XNLEWPE6wdkhnVqj2t6ZZ7vnT5XZShvoL5GH90492aCou0WxffaMSG4lv1TjxWSq4rraWhGU4+7/ul8SCYUPdOaX2EaI1bX7310ZApA+wj8JIf5L6b9vEfagIstjddwvhCgIIb6u/PxhIUS3EOIY+NmnhBCzhRDzhRD/V4bXsHGSEIL+8YJ7ky8hlhWrcWpF1DI1905ycLFfo9ChZpp08KA6921nGfLmNjA+3nYMeaqa/GyIdKzFgEh12cUhaNQerxYcitXdbPNCd3PWKRARyZ4svv2xCLYFcaBp2oihxKRNelRXgcKN6KOOOaAsYIuebmOCLX0vzKysEmCbMzEFCTrjNMzimjww0MgNq4GmCgPDgT5XgnAYWNeyUimoiPcceEKY3IxxA4KHT+83USqnGsXZJZRNqEalGHhvdZgjMjg3gr3tjcCyzel1k0WJiQVDjhowyimRjPfpCwyth6NKa4Mqe+wDz9t9odSqx9V8kxHdN4cW14BfPFZMjJxQSuL4tuzY+MVj7jWSwWz98s35G9XWEqwa8KHOIargjIcusVQoFLQtxT4GsgyuHS4Zf4RfQ2d+ia1yWDF8fPJHIQDpg2QJKioJQBYKIVZrfn5q6bluhp99p/Szs0r//1+FEP85w2vpSAIQzqL81eAYWw24IVi4fneyWeCsaKdGDlHnLaGCw+xE8gCXq8zMMr98jNXMFiDogzF09LJkA6LrL2VUKVaXd0g1cO9qLbOePETKiymRYv4Ipeyu7kKy+Pou7ghmsM4GRRPT+8abcZtfgm7YGlVsTB4YlYC+A7pNE0rfurK6JmySnlgNZGlronKPFSI/08/4tTTTi21Ur3xg3+Ti73V2dUsZ47wSHESylwt+z2ymnOc9nFYx+PDZeBClG7o8Wx7R7POe8SsSg8wj+7ulgZmtew/RMYNG0xH9862y5kFHV3fSguRK+CDXlwQ/fD8bTl5hZRGvWa52y0pI9vs/w2vOkSUBFb7vmtYpVvPj6+Rzg2RT3mrgtshTPKp2WFHe3Jbv2lNrUNKej1ta7Bv+/Yc7k/Y3XdsuUTrHxbLOOjU9Gx1d3UmSMYti6AWlz03nVYYD93hfHj59bQhA+iC1DkCWCyEWaX5+fOm5RsPPbi/97JtCiPdL/10QQswQxYClEpIApN+1RTnK3ykl5jxAI6EpK7dLijoMZ7CveaW4KTrHYxgMs8xd3QVJNUKVRFRBFasobqGJDlUqVUfd5+aPbSFEskxkXllTZv/hTlq8oS03J28duv5YHKpjAQGm7WBHxeeEG2geco/iFjrYrt+IHerocr7WazDUN2tNsQ0Bb/J5OsjrfAeQPMQebKZm+PxqywW/n5yF/duraVBgev/wfcJ+8lGOSqPafsnVT99WJ1+wQoMeQiZPGKLixmbi8q00fskWGr9kC01Zud36eKRQKNDiDW2ZWwttYDvgHWOWJ/dAX5MzZsueQ0alqJ6m7UAHLd2kFzow0dVdoHkf7/IOWPcf7qSF63dL1zLOBbHU+6gM6wWD68ahjq5ESMIkhctzGj++f4oky2tTj/PFNWeG4PfXdA9tVFCBkY/7HEbDRMWk4UpLEH6aYqbadjCt5rsCHKbtYEcyT+jLoY4uWrRev1ZhZRyTpCM++CQEIH2QWgcgbwkhDoviLAhyeem5FimPJSHENiHESCHEz4UQfxZCbBRCHBJCHOd4rU+L4oWLx69EKQCJ4hbasPtgkhW0VR6yonpoqBtzolSJiDNDOnM7FXUxkFxEV9v7y29pkTXjeTDRhGpaxRspW8sGm52dofE/8d3oNBLcCnEWDPWpw/l5ge0afHxmwKiqAizd9cHXom/rjS863wEE5y427K4s8PnLi+Y5JLy+1QBIVc/iqqfN3GsIDDe/OCttZXMF7jjgvmrrPjq9FMS6VGyygt8tzoDnmUSpBzgLN6R1abK51bVqBLKBA/6PTy5WSXUJCRf4PcCZHZPkMSbSbF5KleAzh8hcAe3KtUxS1Yp+16ZCBFGcj5SwOkOntln3BAvXp3NJ3OYdxcWZ1hCA9C4+JYptSj6HqZWp1gHIGaJYxZglipWNI4QQvxNCtAkhOoXcnvVu6fknKc9xjBCiSwjxiuO1biz9ftnBAci0VdutyjqVorqr82vgJoR7Y1mSVPcYFbXNBWXrPnAM2mGbRhS30FxDrzjCVZqrX1ngZSilzrFwS4WP10Ajoht6NumpVwtq9PPhq1BkAl1m31+5jfYf7kw+U5ObeKXofAcQ3DD7tteoYIZM3VSwGpDOpVv9HG2VFOaucWnAhLNMroFWbHubvXZn0oLi207jC24MedDXRx2okUDJWd4wRnG2/vKAHt3mEluDfYUE7obvAd5PTCqK3Bp62h0Tqe1A+vny/FU1+FQumd95qEo2MlgFj2K3aIwP6iwqqqK5jIxrBXqZcatWFBerziEA6V0cIQwbbs0xyfActQ5AhBDiAiHETjiXg0KIS0Sx0jEfHvdO6d8v0jzHNFGU8bXhrIC8MPPjxFTO1yjKBxzWemzy6rLSJ1E64MzZPs6U2hxzUXKy7UCHlJl1tbXgJiqKy51SdaCvh1rd0HGB0qalyg/3NnRzOejsmqWv2wXOBfFRbZVCdZlFxRFuy8gLbIHSSS7zpr+aoEqtACLce67bhPPCy7MjPopz+H3BwN/kG8LgrMtL8P0cksMGDLn/3ZVl14uPQ3QjgYPxXAHm+3KgOnCQ+e+txaFkky+QDZSpR8VI05wBVspN0q+Vcr3l+69Si86GesJJBdyQVwtXGFhQoFbJtCxgEIRKe5NWbAsBSC/jH4QQF3oePzQ8Rz0CECGKFZgvCyH+RQjxP4QQ/10UKyMvw2MeLT3/jzW//5oo+pBkJZkB4U2BapyUB5jNvmPM8sTBFdWReMD5l4/PkP4fB55VcAHYvu+wpJvtCihw8fFdgHio7eJhH9BZpSwyas2rsAIQZ5azDA02Ir96YkZZIIAbzKxeHy64KsZHte7BKJs4bskWqQ0qa1+6C5eJHM9BuRx9bWAAvvtAql7V1Z16J+hU0VhVjFuuzn8kzdKaQAnpy0FBzjVrgN48176ZVn2GTV9b0d9s4ik4Pz5QFro3gG2en4WWkzxNS/sqOtlVDFrX7/JTJcQ1BjPUpvkxlO3NIl/tg5qAs8GCKHm3PtYLFi9IAj5Hi7UPqoTyhAwqmrUCWwV5fiiKW2jmRztCANIHqVcAovKT0nNdCD+7qPSzP2keP0sIsaGC1zlJCEGfvrAYgKBTrUvmLgtq7yu7Fv8OMpSqWghXYmx66dgWsrntkBRU2IbPiIiGQ/k9ivV9+ipYHdLNQ6j8RfEpUdW/ehtoRsdIcxWGLGClnA5mb1Hs5/hrAxeY0Ys3JdnJY68fQ10GN/tKQUGECZo5CQ6wdVrwvqjXP4NyrndqMq2q1LZPMI0Vnd+AiafLKwgXVO6Hr0Wwiq1efPRUH3el4JAyHnkr5vVFcJD5b68W1zZMYO3Y5+d5haaop5TWsWMGjaZuw/0DB8XzbvFBZSuXTHMWf4tGhB3k+fA15rSBbZu79rdLyovvr/QTJcgbnCvCoGv+J7tDANIHyTMA+bQozmv8J8fz/E8hxBIhxFohxH+Dn/8/QogDomh6+H/Az08RxWrJkx7nqHKSEIL+5eonKIpbpDJnHj2qDLrZXv7SvKSfk+c9iGS1ECKikwcXqw22Ngo1g4Xl8bUOjwE0ZvK5gROlWZjzH51eFjDpMEk2VpvJ7ym4ooNtQ9j2ZvJcqBQsQUdx9cO42C721vwNiR57LRZlWzatUCgksxCXVSHHif46eL3j3/maplf6TmXjwtnRnz5kzo7ifBUP7kdxi1MFCuWrMaufVTnGBSoa8ZGn03q94JkkPo7VzPAEKoOFTvg7d+PbH3pfxwxuUvmwBe5/gWrjAjA+NM2MZCGLr1Qe95ue5CcPTZXe8zxU3vD9W7djf03XMl8weXTy4PHS/TIEIH2D44UQg0rHJJG6kg8SQlxWxWOfFeUByj8KIRaI4oD4RaXfWyeKzuhf1Zwbq2NNE0L8RQhxkygOrG8TQvyz/5+YcJIQgs4f/HzZTVWnUV0NHFD87pnZZQsBUXqD+d7dxZkKDlJsxnLqBgwDEpey0EhlIXGVsInSLMzZD04tUxLSoape+QzWNzKq8zyR3JqTt8GV6lZf7eI5bXU684HtC3lf60SyodTrc+UgAIeNsxiyqWDbEW7o0fGd/U4QdUBebX/UgX4pp5YqgUf0dw+/6mZ5ojh/GWo0muNDV3lqdFS1n7MtFdZANk5MfB+KiS9swTFVMFSwjZMPW7vy1ZCEmgn3BF1iICu+Ff/DnWkHwrVv9q62RIZNF/nYaTBMzQLeJxetb6PHJ2efCcobFEvgfRLvb0IA0je4UJiH1ddV8dhnRXkA8g+iOL+xXgjRLoTYIoR4TghxtOX8/l0IMU8U5Xt3CSFGCCE+4/WXlXOSEIL++sBrZTdVl8NxVk6/Ix0qP6qU5btqRKqFrrYnfQEGvk2oN4y7Mhj94exCFPuZoqF6EM+x2Ib1cVh3/+HOMlfc3sZVI4qL6WcGpCpeLrnZakCflyhuof6vV7d4ohkZmhvm0U+sYst2frQtFWV4eGLl7uvo7I6iC3jd6RZqrP7NWrMzybTZqo1o8smVDJP7swrLyfLh41uQlTnrdkmvEcX5z/XUA77v8XEFuDQHqkOdPcwiY8ugPxEft48pd9pmBkASCo0PsxjXmcA2YpuKF/rL2M61kWEVLz7ykLHH9uGpq7ZLLa1bPDoiagEKFeCxue1QCEACTcdJQgj6+3Ojyi54NWtbLdx+xO0e6oZSVeLhli3bAvz01DQDvHTTHsn0bJcjQ6JmTH0yYCipyHMstrag26DHeOf+du3sS29CNX4kkg33tnv2UfuiSiVX2xaIm9QjS27gRw0YlauZHLNiS9rvrbqzYya0GjlJ06A7L9bH3zhWW6EYpwzjH+shPIFtXXz4iil8SxkgtbWsVAr219uCr0ZHlRutRXWur6K2zaoiIT6gpLzPdxgNAHHDm8cMFCYSbLLzqEL56KTKEx49CXpiYAW+GjAgbF20SWrJ2384/zXBh+3QsorHrv3tIQAJNB0nCSFo2NsTyi748UvyHRLlgd8vgbLR9WDGdHFJlvTEm8dRoVCgI0obRJtjLJZQF29oo5vfkX1BbOAm0NeXA3XD+e9gN2kdqLK0qe2g10avkcHFlCtGtbxpY4AZxX7utzawKsFHrVpcsJf3gffk88Z2Jl8HZh0494CGgFxtNHn5oDLVKx98oq1I2n6HD5tqFnL2g3L/NrfA5Mn6XQek1+g3sLVXzk6cVGoT4sPlNB/w58f3y2ILPvLTKks3lRuk6tocGRx0xvVqag6CHdhGPGWl+fkw8fLSrN43F0WUemhlSXy4QNndl2d/nMxs+rSW1ordB9rLrq8oLrrXhwAk0GycJISg8ZOnl13wM3OWfrzkhbllr3FLS9r/fukLqSY39o3bpDTVoTH0RXCZu+Fm1LeVhM3dTrx5nJdcsTqj4rPRa2TQXbvtYLGHP34tex+1L5gxjOIWeqpK5ZjFG9rKrsFqZjBs2NoeMLBy+WjYeG9ZWskYvbioi9/Z1Z1cZ5cbzBVXQnXm4YmpcMNAy3cNHXr5+NF9fpUMlCuN4lQGNU/Q5C2KW+jrt+XrbF8vWK2Ij7yH9fsyqtw0/38Wb4y1oFLEh63ajlVcHHqes87Ped2GrwQ6CmL01oAW5ymrkS5HUKHv8ckf0Z+e63mfrj2HOsquL15bQwASaDZOEkLQnDlzpIGnKM6/f1rt51c3ZugSjrK9ts0KlqBnr90pvYZrM7xsc5rJOulmP3dYDJK4D960ySOSB7TR4dS20WtksN2K5Vf/onhK5MmUlXK/9YgPqjOH0rXp1Ervfd/hTmOQg/KfLhlbG9iP/tb8DUREktfAPeNXaH9vK/QZY1VrsMVxG1vK+DjfIsCAoKs3L/Z5ow6729TpGhmeU4jiYibWZzYt4AdXPNiAkysiZ2ZoCVR79F3tWyiMMqQ1rYbkISOLbcS2mRJ11qE3Mhi6G/ISccH74J1jlycdDqdmqIjlzYH2zrL7bL/SjFIIQALNxklCCJo7d26ZzravMZMvePPVbZAweGg7mGYBbJuiN+eBB8Xq7YniyFED3C1VmMnyveHgEDbPEFz9irma8RwMCeJm0fY3NTL3ji9XGcOqUN4s2Si3O1QbLGAvNB+18ljADbE6PI/yzNX4j2BrBUvOToRsJwclKhjgs09BFBdNQk1gYMOHrywytulFce2ysCjz21vbHHFeprdWcRoV9OQgKp8J8UHNUP/EIl1NRPQoSMPjGrdq676q/hYiuY3YNrOptir3Ru4Yk1aSbMIvWcD74PVvLU58ir5/d8/J5KNiGR9ckQkBSKDZSAIQLj/ysSdnmUwsP/Px0MTUDRYzsRtBiu7vrWbVDtU46K8v+WfjN7Wlr/FtT2NALAObNpcIVmjQmE5nDtcbwHadNSXfiV8/UcwaoTt6XqjZxmrNodT2iW8Ora0hpElI4QKNoWMlYFWNVeuegfauBaCMpcIVTzQHtLkz69RZLrEo1CH3QRbYdV7VwFLfUdxCN76df5tXPUDzTZsJayA7XInrN7C4PqiqWD50KJW2Kx0qZdhuiW3IeST45kMb8QszzbMdqFTo8gtpVHD/kFdyAf3Jrnh5Pn2n9N3ryeqpTrac14kQgASajSQAQQWpI/rn38+PWRg+UB0Ih/WwR/0uy2Z99GJwm162lf78vH8P56796bCXb8YD5U35uA4G6VWw9I3zKraNXiOj8/z4acm/5Yy7JuX+eu2d8s24WnMoHAyP4ha6ckRtJU5NXjY/uq9o5Jel9UPHapDzfaSkboOBPM/p6PhaycsDzUdVtS5EnbGIYrtABKJ+9/NWS2OwetBb1X7YKyiKazMr05fBCkRnV3cy8J9VFOEoMIt0qZQ9PzOtgnOLT17fAWwjfnqqeT5Omt3z8LtqRNDzJH5tYW7Pi4bHjeAWXygUyu6z3xhaTO6FACTQbCQByEuwQa7FEJY6UBzFLTRs+trk39HDYx5IHdqUj9AUauyHm5N2IJ+ZjoPtaanzLE8lJJTV5eNmSzvV6MXpkCC6tFc7TN1T6HTnuXXP9z3MCnpIVGsOhVUvV9YwD3hzry5op9ySz0KHplXczvjbUp+7qyWOPzd03ra5M2O7QtYNMlYqPzeodupUZ96bOrS/OU/fftbo4N8wHO6PgerBBNK+w530+evKDXF9YDXDKG6hdxZutD52BFTBUQ3OpdLowxqo6Nr8hP72alEopBaJxXqBgRyK11QL+pOxB49vZbdW4D05iovWBUQhAAk0H0kAMn112k9ai3Ya1NzmAyUBscSKw8e2Gyuqe7Qu2pRsvnjI0EZ3d5pp+NkjfiVXnIHgY0ir2ZsCzw8rTC/2UinEEbPTxZRVXHwc4avhtDvSlpTNbdXNa2zdK7cRrbC4B+cBnzsOa3d1F5IFxjY/5MMO0IznVkX+PH7q6E3/+aPlyne2PnJdZs42M4JMhfmn03NSsNFxPvxN01fnq+JXLySDzF46MNyo4BzB1r2HvKTedbCfUxQXxUVsYOLtdLiXdeZgpIcJFZPgBFE6+9KT6k7Vgp5H1cqxIxwUngH+ZHlWWCqhH8yyRXEL/ev9xUp5CEACzUYSgGxuSzdnP7gn/yEs1NzWbXjQ1RwrB7a2EAxURi7YSL96YgZFcVqydMH9n796ws+ZHKsYfNjmOaatTs+v/+upXG1vzc6qQ/9E5GXIWA3nPjwtt6zhTmi7O/7GsTXPBv6wlM3G6hAaTd02ujpX4v2gtHXDyA+po6s7CW5c7WVswoaHazhcXRhxhssGzqrkNUCqA92SP9pW/ZBvT8AtjXkE3AEZTHJhm+/1ljZaHdjq5/I+wtk/bvfxEUnxAe9ntlnJXzxWXBd7s6gBeh7Z2s2ywm1xXP2I4nwrLJWgKpKeV5pJCQFIoNlIApDu7gJ9blBxg3H+I/lns1dqZDzfXpCWr4dBn/hrc9JsxzOWm80MRQUk0XX3zLIeW2rv8XUmf0YxxoviFrp3vDkbgypFOOTPng29DVwE2ECv1uaKbFCZR/sAqqvVw42eN5PfhfkYVPaqthWvC6p4/V9fSB/BTIirN53bMvCYsGyr9XewHS6K08F3Fygq0f/12mUXWRLaZ2PYqHAV5wvXje6VRoqNDM6woYKUrYqtg9sXv3KrW0Ti3aVpmzAnvHx9p1ygZKtNdCGvmbOeBDsobM7zWdH5k9nW9HqALX5RnIokhAAk0GwkAQgR0R9Km71qM7M6dCo6Yz5MN+Ivz05nUDAYsfWlY1VlxOxPMsvosRqR6lRtAgfJfbLAaHz3y8dnlG3eexvjYOZm3JItVCik7US1MlfkTcN5OSiTdHcXEpUhW7tRXnBFDjOP2EowbonZPMwXVHFBY0IM7nXcOqpcFpurWiZOuUU2yXvF05elq7uQZI1d51UNPOxeK3f7esBiHL1VRriRwfs3CpjY2pd08DD73151B9Pvr9xW9j07eXA+kuVyAsKsxvj124pqX794zK/S34hs3XuI+l3bSkf2TxUY80DnT/ZkD89onnDTWOl8Lnq2mCwLAUig2ZACkEMdXbRw/e6atKbg0HeScV2eZlzfmJduzLBUPmK2eZOjyhBypod7Jl0c7uyixRvavDONeI582EzVsOqDw6Wz1lTvgtsTqMZXqFk+6M1sbQy+FAoFWryhLTdDtr2HOujDjf6feTVc9Ozssg0HSjnnoYTDVbw/PTdHyvC69P51stgulbFvDH1PenwWP489hzpo6aY9NX3f+Vo50N47qx9ExSB54frddLgzGBDmDbaQ4lBzVsW0rtJn1N7pnuPASgsfec5YHj2w1HJpkQPmyqWqxtfb2Nx2iD7ZWXt/Mtueox6wOhsfnIwIAUig2ZACkFpSKBQk+cIoll1Zsb0HHbdtmWqsMAybvpa+d3dxkMxlDlUpeI582FrEPt5xQFp0+L9ZQaq3gUIFb8xbT7sPpD3IQ0Zla2PoC1xaKu9/4brRyc94LsTXe8YFzuAMenNx8nm45mVwA8bH0k17rL/zXRjU7M2VvEDfBGcL0RtjWA3VxlDRkY/v5CjE4GqB7e4uVDxs3xfQJWJqZZTqi1pp5nm+EIAEmo26BSBERCcqkf3stWklAHtl0cvA1rKxfHNaYXhyyhqt6lCe4DkvZwYqAAAgAElEQVTy8dwMc4sYtp3hkFu1crI9heq8vVEjAxtIQcfzQqFA+w530pGlzYDLwMwXrkr84rEZyUDlyYPdvektC8uD6bWO1oZ/vf996fEfrO2dlbxA3wQruCjJO8KzlbASUICBjx/dl98sBvpY6ED/np4erm5EUFqej2oNb6vl1CHvSucz4I1ie10IQALNRl0DkG+DekgUy47I2Ct71YgFyX+PXmzORqAR26OTVie9rlmcbbOAcqI+5Vo0O8QjDxfcngArTsOnr5Xe/8cm907jt1py3VtpReJwZ5d0/Qy3BK5Z4KrETx6amlz/PrLSumvZpbp0HiiSRXELLdlor5gEAo3E7LXpzODlL6WCBbWcS1q1tVx8xSWRnQWXmzuar7qEKfoiOn+yag1vq4Xv4xgsE4UAJNB81DUAOQs07tUNzKw16eLAuuVR3ELvLjUP6q7bsT953IMTViVOprWShP1grV1KWAVVSvDYUSMn6FqzAmZannj/o7KAJCAzBAa9dx9op/veXam99qvhx/cXv1PfuXNiUl25xsNfBD87Plwuyb9+Yqb0+HU78hsGDQRqDV7zvyl5RkVxC43PQQzCBLbh8vHLx/MbBmdRDZNIh9qmHJBBry4+erpDQU3UsihQCEACzUZdAxB1A7Nqa6rVvwAGyrmVJIrtfeboBH3v+JVJi9fFwz6oyfnrNm227FlnV7c2AOmtQ7JrwXn3oYmrpKAxT2nEZuHucSuS92dT28FEde0L142mrpyEHn72SLEqgfNVD05w+3NgZpQP16D/78FnI4rzGaIPBOrFqq1pxZYD9yiWZxHzBv21+MhTApzFTX58v175DSudb83vnf5TtQTbin0rwbXmO3dOlM6HZYFDABJoNuoagPz5+TnSFwsVLZZuSv0RfgJmXDY34K0wY3Hn2OU196TQeZnYWsSIqGzwPoqr97PoKTYqAd9EyB719OBeI4LGlau27qPjbyzKK/oaX/qAwXqWz2LvoQ7pd44ozanYuOR5WTP/YHtQagr0HjBhhaIgc9bVruVmBxiP8vHn5/NTo/qJxmsIQSNEl89PX0TXItfTHkLfv3uydD6s0hYCkECzUdcAJH5NNj/DTAOaqLGaVRTLg+oqeHP/e+sy+mzJqfnyl+bV5Px15XRbixgR0eevk11N+13bWpNzqwfo4n37mGXy4rY8LG4qz05L/Wyw1/jOsctze42Lni13NPdp70IPlyhuoc+DUpeJK1+enylgCQQaCZzJQ7fpWs4yqYF+FOcnQEGUupx/c6heVe8l8D6pZaDVW9mq+JM1wn3th/fKYh9s+BoCkECzUdcARDU/27m/Pfk3U3bKNhCGzta3tCxJNlQ+PfCVoN6sotgtRfolxVTo+BvH1uTc6oH6fqOp3syPdvT06TUcI2Z/krw/6DyeZ7B2qcbJ17fFD1XpTrzZbY6Gpl15uTkHAvXiUEe5F1UU52tsp4JeSXzYTAOzwm2dp9yiV757bLJchQ3IqNfEsTf0/H0N2wOjuIVemvUxEYUAJNB81DUAuR+GcKNY9irYtjfNrnOrShTbDdVwyPt6UBxi2bq8QUlDPlzu0V+9VZbU++qt79bk3OoB3qyvf2sxPQcShgvX73Y/QR9j5IKN2qDaNeydhatfWSBdX1+51S3By5x+x0Tp/Fzc+PaHyeNNG55AoFEpFFJPDDxq2fNfKBTKXu/Gtz/M7flZsMWU2EJPra17e3a2oVHpV+qciOIWOnVIz6/P5zw4Vbpe3pxXnN0JAUig2ahrAIItKVHcIrn97oFSNbaGLN9sVqRo70yHvK+BjdgNI/O7wSO6DJqtRYyI6FuKosVpd0ysybnVg+7udDHt//pCenzyR5Bd653eJrVk3JJy35gzDL3alXLtm4uk5/95Bg8cnLU63cMc7e+t6Wbm9F58HQf6LmpLbN4JAR39BrZKr8eqRnnw15Kc8GcNrb14f3CJTPRVTh6cGv997+5878+VcK4id85zpiEACTQbdQ1A3pi3XvpiYa+lqTy+epu5bIwbYmxFGfxObQyXdNms+Z/YM/+qe/QP783PhKon4KH6K0fMp3vHpxWtDbsP9vSpNRxTVpZ7beTtRjz4nSXS88evLfT+3QufTqVIfczR7hmfqnr96/29+zoO9E1OUsxw1URYLfhiSRyFD1Y1ygNs7dTNLvzlRXuAEkiljKO4hc41yBnXk/MfnS5dL9yyGwKQQLNR1wAEncT7DZRviLrNfRTLSlk62PsAJULzzDCpYLk2iu0tYkTl7tF5mlD1BJxBvPSFuTSkNZ3p2QXzPIEic9aV+8a8PPvjXF/jzrHLped/ZJK/ISSasfksvA9PTPvJz89QaQkEGgVshYziFjqyDkPHJypBz6MZvqMu0OxUV+H47VP2GZGA3PL026dq4yGWhV8+PkO6XrjNOwQggWajrgEIOtHqhljVzX0UF/0TbPDv4Jf2rnEravUn0HE3yNmsFVvsrUdqOTVPCdae4ITSUP0fhn0gzd2E8n45H24s941Z6bhesvLghFVKuX6z9+/eMDKd6TA5KSNPT12TPL5WZp+BQC05Q6lIf8FD/a1a1DlAVjXKAxR2aTtY3krGm2uTTG+AJFPKS16oz17IhiqtPrckxBMCkECzUdcAZPnmVHP7SzeVD80dq5Sqo9htdvaFUkYesxgPvJdfiVvly7eMl87vI0uLGFF5NuOiZ/MzoeoJTin9/Rc8PSuZu2kE6cJGBKWlo7iFjrthTO4eME+8/5H0GraZKRU0SvS5Ll8ESc9GWKgDgayc9YCsMHTyYLf6W7V8c6g8B5hnFRQroFv3lA+Zc3tRI7QWNSrYvp2lhbVWXACtsVGcykSHACTQbNQ1ANnUlkrt6tR6Th5c3p/rGhDkisQP7knNe/Iscat8Y6hcwne1iKk3k0t7+cbt67e9l1RyLinduOuRReyN4PVeq/I+KpFlrURhRcPnukTZ5b+92vMLdSCQFbW//uu3udXfqkWtuuTpSI4VUN1axGtqnu7rzcaAN9JB/VrNj2bhomdnS9cLJzlDABJoNuoagOw/nMrmfmNo+Y1f7c+NYrcrKQ8VYpbpqSlravUnlC0mLgnHPw6XjeJq5VFSL1i69WePTKPfleZuTh4c+ot17D7QLn32972bf2Xu1TlpUJBVQhJFIa72uC5HgfFknlKigUC9+O1TckKoHq1JZyrGclnaJF1gBVRt7ywUCokC1xU5mh82G6jul6dAQKWoewYWeAkBSKDZqGsAgu7LOtnP08CXgI/2zm7rc37l1vHJJph/Z/j0tbX5A4joR/fJi8kOR4sYq5Dwcd1bi2t2bvWAK01nPzCF/u2x6UnwFyhHVXabstLuGVMJ7yxMvUZ++Xi2+aL3lqWiEIPedF+XKCJxx5j83NwDgXrBvhl8nPXAlJq/5tmKr8PEHI1Ih0MFVBVEOdgu+zYF9Dw0Ma0iPVnD5KUvf35+jnaPEQKQQLNR1wCEKB1i/sE9k8v+Dduo+HDNFnDV5Aug787OobVAHSrXDf4h1yhGcUNGLa3ZudUD7qH+wT2Tk4VV91kGZOOzI/u30N5D+fsNjAevkYEZDTjnrNuV/O6tHtfl1FWprPBDE1dVesqBQI9x5cvzpftxPdTczn9Ebvua8dGO3J57xAefJM/7geJJtbntUPJvd40NCQMT2MY6YvYnPX06dJmStOQukBCABJqNugcg3Cp1tibzdLYyIHjUgFHO52OjvyPB4fa1OetrcepEVD5UfrDd3nM/8A3ZKO7uGip01YPzSgHY6XdOpO/dXWxHO+fB3i0tXEtYtrhWQRp6jTzx/keZfnc1DMn7bFBQVnhYDauMgUCtGKDcj+shu/rrJ2RVI5d3VBZGLkgroO+v3Cb924oteyu+N/Ql8D0ctWhTT58OXaEEyZ1dxS6QEIAEmo26ByBXjShWBHRu5T97RK4ufG6Q2zzpO3eWt22NXLCxFqdORJTMPfDR0WVvEbvpbdko7uGJtRuQrwccgH39tveSgfSsrT99Cd583F+D+Q8ioh37DtPnBrXSEf1baNnmPZl+t72zm742pCgROsGjLWTPoY7EVM3lfxMINCI3K8ad/zF8Ts1fU10zsn5PbaC0vbq24L+N+KDnM/uNyic7D9BRA0bRUQNGNYShLu+R1CRsCEACzUbdA5COrm5atL6NujRypGqm6FiNV4iKrm1r9OLaZTH+9Jzcn+lqEbtt9DLp8c9M7fke02pgVa9TbhmfCAD0dmnhWnKoo4sWrt+tvd7zYnPbIVq3Y39Fv9t2oCOTN8m2vYdp7fbKXisQ6GlU4856DGercyd5fn86urqT9mM1EYTtmWM+zG/wvRnZsPtgQwQfRLK7PfqlhQAk0GzUPQCx8XslU3TizW6NdnUoPIpb6N2lW2p2jugeffRAd4vYPeNXSOeWtxN2vfnDsKJCxwk3jaVjBhUXvstenNfTpxUIBAJOVOPO/q9nm5uqBFWIxKWcmJWLni3ek/sNbKUD7alqJMpmT1+d39xJoLZgmyD61IQAJNBsNFQAolYXTrnFLe+qKoxEcQtNWrHN+XuVEr+WZic+7+F/gQobUZyvBnxPwKZNHHxEcfCECAQCvYOnpqyR7sc3vV1734erFSGS3Qfac33+YdPXJs+NrZTo88NmdoHGZ9Cbi5PP7V/+ntoVhAAk0Gw0VACC1QX1y2fiPEWVKopbaNrq/OVOmevfSm8Ox93gbhF7UlnwxvbyUviVI+aXvd+6eZ5AIBBoNF6c9bF077p9zLKav6Y6+J7FLNSHtdv3J8+N/jxYfW+U9qKAmxtGfph8bmhXEAKQQLPRUAEI9j5GcQt9+3a3v8TPFWfbKC6XI8yTIaOWasujJlSnalWppLeBFSA+bhtd+0U8EAgEquWt+Ruke9cD79XeeA43lD5zg1kpFAr0jaFFQZAzwFgRBVBqIQEeqA2DQSjhzHvfT34eApBAs9FQAQiWHtWbqQl1cD2KW2hBjjKHKnfBEONXb3U7T78COu21Do7qwXVvLS57v2ul8BQIBAJ5MubDzdK9qx7ytJi0+uy1bmXHSsAqy8ZStYPVlI7sn3/QE6gdQ1rT6+WnD6US9yEACTQbDRWADFYkEn8I0b8JVmXCo5b9rjjE+I2h7hYxNePW2+VL1c+oXot4IBAIVMvkFduke9fzM9fV/DVReev4G8fW5DVGL04DKzbTuxgEQwK9h6GgnInKZiEACTQbDRWA3D5Glqw9S2NWqMIKIHis2uovK5qVJ97/KO3PvGOi8/G4MERxC63etq9m51YPhiqywlHcQi/M7N3KXoFAoG+A3hhR3EKvz62daS1z37srk9f7yq1uYZVKaDvYQZ8ZMIqiuIUueaG4np9fak/+lkcrc6BxwC6LC59OjTJDABJoNhoqALl3/EppcTj34WnO31E11qM4X511leEw0/H9u93u1hOWb5XObWMvHwZUZYWjuIXemFf7RTwQCASqZfGGNune1VoH5+tHJq1OXq+WwcC5JUGWE24aS13dhcQjyyeRF2gccB/0p+dSo8wQgASajYYKQPBGHcUt9PNHpzt/h2Vh8ail4gfOdPzoPneL2LTV26Vz27U/XwnGeqPKCkdxC41e3LuVvQKBQN9g9bZ90r0LZWtrBUr/+iStKgU3rgs+2U2nDnmXoriFfv3EzJq9ZiB/Hngv/RzRKDMEIIFmo6ECENQt971xXvFyuSzs1r35Gj0hIxdsTF7nnAenOh8/Z51c8s9bgrHeYAsaH5Nr6LsSCAQCebFx90Hp3jXjo9ob9KESYi2rEXM/3pW8zv3vrkwc0i95vjHW94AfD09ME7H9X089tkIAEmg2GioAeX6mLFmL/Y8mrlFMnqI4f6MnBFVUfvaIu0VMLfn3djWS4WB6xUdvV/YKBAJ9g90H2qV7Vy0VE5kRUDU//xF3Vb9SOru66bgbxlAUt9BPHpoKm9jau70H8uPxyWmSDz22QgASaDYaKgB5dc56aXG4eNgHzt/p/3q5L8X+w501O8dJoKKCChUmVm7Zmzz+mEFu5/RG5+XZH5e93x9u7N3KXoFAoG9wqKNLunet2FI7wRIGlRD//cnatkP9+fnymcghrUtr+pqBfMGWPfzsQgASaDYaKgB5G9qbfEvHqndIFLfQ4c7atTnN+GhH8jq/ecpdofl4x4Hk8V9qAjnE1+euL3u/P+rlyl6BQKBvUCgU6Ij+6b3rk50Hav6arYs2ZUqqVYPq9B7FLfTQxFU1fc1Avjw7Le0yuHvciuTnIQAJNBsNFYCoJlF/fWme83dufPvDshtud3ft2pzmf7I7eZ2Lnp3tfPzmtkPJ408d4jYubHTeWbix7P3e3Fa7mZtAIBDIk8+XZiOiuIW27T1c89d7d+mW5PUue9G9plXD+l0Hyu7Pz82ovddJID9wZujhiauTn4cAJNBsNFQAMlGRrL1qxALn79zSIhvjHTVgVE3PcemmPclr/cfwOc7H79qf9hyffufEmp5bPRirBIlR3EJtBzt6+rQCgUDAi5MHj0vuXftq2K7LvL8ybdu95hX3mlYtp985Ubo/v71gY81fM5AfL0EV66kpa5KfhwAk0Gw0VAAyffUO6caJChAmblOM8Wo9Z7Fm+/5M2awD7Z3J431kexsdNUiM4hbq6Oru6dMKBAIBL75+23vJvauzDveumdC2O+jNxTV/vRtGyl0BQaWwd4GiBWjyGwKQQLPRUAHInHW7pBunz80aXUOjuIWOu2FMTc8RZRyvBI1uE51d3cnjz/MwVmx0VF+TowfWtuIUCAQCefLduyZRFLdQv4GtdXm9eSCPe0vLkpq/HrZ8RXELza+D0lcgP3DO8vW5qclvCEACzUZDBSCqZO1Nb7tv1ve9K7unnzx4XE3Pcce+w8lr/e1Vd4WGiOgzA0ZRFNdeAaUeqL4mx9Y44AsEAoE8OeuBKXVJVjG4rt05dnnNX2//4U46euCo5DXXbN9f89cM5Aeqpo1atCn5eQhAAs1GQwUgKFkbxS00ZJRbPvDBCbIz91dvre2g9/7DaUvVwDf89NV56LHWCij1YNF6OUj8yq3je/qUAoFAwJufPzq9rvcuXNcenFAfRap/e2x68po799fOFyuQPyj08u7SLcnPQwASaDYaKgBBydoobqHbxyxz/s5jk1dLv/ONoe/V9BwLhQL94J7JFMUt9Nqc9e5fIKJ/f3ImRXELPTJptfvBDc7yzXKQeNodE3v6lAKBQMCboaW5wT895xYRyYNDHV3J4Pu01dvr8po8R3D6nRNrqgoZyJ+PdxygzwwYRf0GttKWPanCZAhAAs1GQwUgW/Yckja394xf4fwdNO2pl9LU/sOdtHTTHu/HH+roosUb2nq9CzqRPIQfxS105r29f7A+EAj0Hbq7C7RofRu1d9ZPPGP3gXZatbV+fkmFQoEWb2ijPYeCQmFvZP2uA2Xy9iEACTQbDRWAoGStb7l62PS10u/84J7JdTjTvouqM98Mg/WBQCAQCDQyIQAJNBsNFYCgZG0Ut9Bjk90tSy/MlJ1ff3z/lDqcad9l6165StUMg/WBQCAQCDQyIQAJNBsNFYCgZK1qwmMCNbOjuIV++tDUOpxp36XtQIf0fv+hCQbrA4FAIBBoZEIA0jf4vhDicSHEXCFEhyh+4Efk8FgT/yyEGCaE2CqEaBdCLBVC/FUI8SnNY/+p9HprhBCHhBDrhBDDhRCfzfiaTEMFIESpZG0Ut9Dw6Wudj39j3nppQ3z+o9Nrf5J9mIPtXdL7fflLbjPGQCAQCAQClRMCkL7Bs6IYCMwRQiwW9qAiy2N1fFoIsUkIsVcIMUQI8SchxKul57lTeez/XXrsTiHELUKIi4QQfxdCtAkhdgsh/t8Mr8s0XADCkrVR3EIvzfrY+fiRCzZKG+JfPxFagmpJV3dBer/7v+4nRRwIBAKBQKAyQgDSN/gnIcR/Kf33LcIeVGR5rI77hRAFIcTXlZ8/LIToFkIcAz/7c+n5z1Iee17p51dkeF2m4QKQL900Ntncvuohc9u6aJO0Ib7w6Vl1OMu+DVapbn6n9s6+gUAgEAj0ZUIA0vfIElRUEoAsFEKs1vz81NJz3Qw/61/62ZcNj/1jhtdlGi4A+cqt45PN7VvzNzgfP27JljCTUGeOGZRWqe4YU3tn30AgEAgE+jIhAOl71DoAWS6EWKT5+fGl5xoNP/tK6WczRLFi8k9CiG+L4vzJCiHE/8jwukzDBSDfHDoh2dyOWrTJ+fgJy7dKAcglLzTO39KsHH9jWqWql7NvIBAIBAJ9lRCA9D1qHYC8JYQ4LIqzIMjlpedSg5M/CyF2lf6Nj8lCiP/l8VqfFsULF49fiQYLQL5716Rkczv2w83Ox7+/cpsUgFzx8vw6nGXf5su3pFWqp6e6lcoCgUAgEAhUTghAehefEkL8V8/jPxueo9YByBmiOAMySwjxzdLv/k4UB8s7RXl71lmiWBW5SghxthDi2tJjpwoh/k/Ha90o5MAlORopAPnRfe8nm9sJy7c6Hz999Q4pALnmlQV1OMu+zb/8/b3k/X55tlsoIBAIBAKBQOWEAKR3cYQwbLg1xyTDc9Q6ABFCiAtEUdmKz+WgEOISIcQ2IcR8eNw5ohiUHKf8/vdLv/c3x+v0igrITx+ammxup6zc7nz8B2t3SgHIgDeCKlOtOe2Oicn7PXLBxp4+nUAgEAgEmpoQgPQu/kEIcaHn8UPDc9QjABGiWIH5shDiX0RxluO/i2Jl5GV4zERR9AjRsVcI0VLB6zbcDMgvHpuRbG5nfrTD+fh5H++SApAbRn5Yh7Ps23z/7snJ+z1+yZaePp1AIBAIBJqaEID0PeoVgKj8pPRcF8LPVpQOlU8JIQ4IIcZU8DoNF4D89qlZyeZ2zrpdzscv3tAmBSC3tARZ2Frz4/unJO/31FXuKlUgEAgEAoHKCQFI3yPPAOTToujr8Z8cz/M/hRBLhBBrhRD/DX4+UhSrIqcqj/9Z6XVv8ThHlYYLQP4w7INkc7tw/W7n45dt3iMFIENHL6vDWfZtzn14WvJ+z/3YHSQGAoFAIBConBCA9A2OF0IMKh2TROpKPkgIcVkVj31WlAco/yiEWCCKA+IXlX5vnSi2VH1V+f1/EUJ0CCH2CSGGiqLvxwOi6MS+ufRcWWm4AOSyF+clm9ulm/Y4H79q6z4pALl73Io6nGXfBtvklm12f0aBQCAQCAQqJwQgfYMLhXlYfV0Vj31WlAcg/yCEeE0IsV4UA4ktQojnhBBHG87t+NLj14liMMKPjzz/NpWGC0CuGrEg2dyu2rrX+fi12/dLAcgD762sw1n2bbBN7uMdB3r6dAKBQCAQaGpCABJoNhouABnwxqJkc7tux37n49fvOiAFII9OWl2Hs+zbXAxtctv2Hu7p0wkEAoFAoKkJAUig2Wi4AOTGtz9MNrcbdh90Pn7LnkNSAPLUlGCMV2sueX5u8n7vO9zZ06cTCAQCgUBTEwKQQLPRcAHIkNalyeZ2655Dzsdv33dYCkCGz1hXh7Ps21zx8vzk/e7qLvT06QQCgUAg0NSEACTQbDRcADLmw80UxS30jaHveW1u2w50SAFIcOauPcNnrKMobqFzHpza06cSCAQCgUDTEwKQQLPRcAEIEdGKLXtpz6EOr8fuP9wpBSCvz11f47MLFAoF+nBjGx1s7+rpUwkEAoFAoOkJAUig2WjIACQLhzu7pABk5IKNPX1KgUAgEAgEArkRApBAs9HrA5Cu7oIUgIxevKmnTykQCAQCgUAgN0IAEmg2en0AQkR0RP80AHl36ZaePp1AIBAIBAKB3AgBSKDZaIoApN/A1iQAmbxiW0+fTiAQCAQCgUBuhAAk0Gw0RQDy+etGJwHI9NU7evp0AoFAIBAIBHIjBCCBZqMpApBjbxiTBCBz1u3s6dMJBAKBQCAQyI0QgASajaYIQE68eVwSgCz4ZHdPn04gEAgEAoFAboQAJNBsNEUAcsot45MAZMnGPT19OoFAIBAIBAK5EQKQQLPRFAHIqUPeTQKQVVv39vTpBAKBQCAQCORGCEACzUZTBCDfHDohCUDW7djf06cTCAQCgUAgkBshAAk0G00RgJx+58QkANm4+2BPn04gEAgEAoFAboQAJNBsNEUA8v27JycByLa9h3v6dAKBQCAQCARyIwQggWajKQKQM+99PwlAdh9o7+nTCQQCgUAgEMiNEIAEmo2mCEDOfmBKEoDsP9zZ06cTCAQCgUAgkBshAAk0G00RgJz78LQkAGnv7O7p0wkEAoFA4P9v795jJS0LO47/KIjgtRFSJVR3abRi4i7EeIlrDNRU0qQ3k2pNtsYbitrUXowWXE08tqxEY1VSoVsvSHSN2tCI6VbRaIsXFlGXJpBoDJfQ1AvYiES8gOA5/vG8xz3Mzpx9z5yZOc888/kkT5Z5z3POPskzO8z3zDvvwMQIEFrTRIC8YN/BXwfI8vLyVi8HAGBiBAitaSJAdr//2pVt5x9Yefye/9zqpQAATJQAoTVNBMiLP3jdyrbzD6yc/ubPbPVSAAAmSoDQmiYC5NzLv7ay7fwDKzvectVWLwUAYKIECK1pIkDe+183rWw7/8DKiz943VYvBQBgogQIrWkiQJaXl1du+L+7Vu657/6tXgoAwEQJEFrTRIAAALRKgNAaAQIAUDEBQmsECABAxQQIrREgAAAVEyC0RoAAAFRMgNAaAQIAUDEBQmsECABAxQQIrREgAAAVEyC0RoAAAFRMgNAaAQIAUDEBQmsECABAxQQIrREgAAAVEyC0RoAAAFRMgNAaAQIAUDEBQmsECABAxQQIrREgAAAVEyC0RoAAAFRMgNAaAQIAUDEBQmsECABAxQQIrREgAAAVEyC0RoAAAFRMgNAaAQIAUDEBQmsECABAxQQIrREgAAAVEyC0RoAAAFRMgNAaAQIAUDEBQmsECABAxQQIrREgAAAVEyC0RoAAAFRMgNAaAQIAUDEBQmsECEuWx4EAAAqGSURBVABAxQQIrREgAAAVEyCL4Zwk70tyKMkvUjZ8+5B5D0ny6iSfTvKdJD9L8s0k70jymxv4+45NckGSm5Pc2/15QXd8M3P7ECAAABUTIIvh8pQn999IcmNGB8iTkywn+WKSPUlekeRfktyX5KYkj+j5913a/R2XdT/jQ93tSzY5tw8BAgBQMQGyGE5N8uDuvy/M6AA5OcnOIcdf3n3P63r8XTtSIubigeMXd8d3jDm3LwECAFAxAbJ41guQUR7efc8Heszd2809beD4ad3xC8ec25cAAQComABZPOMEyBO777mox9zPJrl9xNfuSHLVmHP7EiAAABUTIItnnAD5cMopUWf0mHtjypvdh7m++/o4c4c5JeWOu3bsjgABAKiWAJkvxyQ5oec4fsTP2GiAnNfNf3fP+bckOTjiawdTrnI1ztxhlrq1HTEECABAnQTIfNmeEU+4h4yrR/yMjQTI85Lcn+RAkuN6rtErIAAAjCRA5svDkry05/iDET+jb4Cck+SelEvynriBNXoPCAAAIwmQxdMnQM5K+RDCr6f/Z3+selvWv7LV3jHn9iVAAAAqJkAWz9EC5BlJ7k45/elRR/lZpyQ5PcmD1hw7I+t/tsfOMef2JUAAAComQBbDziRv7sbVKRv+zu72X62Zty3JnSmffP76JC8aGM8d+LmXZ3jM7MvhTzc/t/tzpTs+aCNz+xAgAAAVEyCL4aUZ/Wb129bMO3udecPe2H55hgfIcUn2JLk1yb3dn3sy/I3sG5nbhwABAKiYAKE1AgQAoGIChNYIEACAigkQWiNAAAAqJkBojQABAKiYAKE1AgQAoGIChNYIEACAigkQWiNAAAAqJkBojQABAKiYAKE1AgQAoGIChNYIEACAigkQWiNAAAAqJkBojQABAKiYAKE1AgQAoGIChNYIEACAigkQWiNAAAAqJkBojQABAKiYAKE1AgQAoGIChNYIEACAigkQWiNAAAAqJkBojQABAKiYAKE1AgQAoGIChNYIEACAigkQWiNAAAAqJkBojQABAKiYAKE1AgQAoGIChNYIEACAigkQWiNAAAAqJkBojQABAKiYAKE1AgQAoGIChNYIEACAigkQWiNAAAAqJkBojQABAKiYAKE1AgQAoGIChNYIEACAigkQWiNAAAAqJkBojQABAKiYAKE1AgQAoGIChNYIEACAigkQWiNAAAAqJkBojQABAKiYAKE1AgQAoGIChNYIEACAigkQWiNAAAAqJkBojQABAKiYAKE1AgQAoGIChNYIEACAigkQWiNAAAAqJkBojQABAKiYAKE1AgQAoGIChNYIEACAigkQWiNAAAAqJkBojQABAKiYAKE1AgQAoGIChNYIEACAigkQWiNAAAAqJkBojQABAKiYAKE1AgQAoGIChNbsSrKyf//+lUOHDhmGYRiGYRiVjf37968GyK4tft4IE7E75Q5tGIZhGIZh1D12BxpwUsqdeVfKy3rG+mM12HZXsBbDfhv227DfxmLs965u7ScFWDhPSXkAe8pWL4SZsN+LxX4vFvu9WOw3MLc8gC0W+71Y7Pdisd+LxX4Dc8sD2GKx34vFfi8W+71Y7DcwtzyALRb7vVjs92Kx34vFfgNz65QkS92ftM9+Lxb7vVjs92Kx3wAAAAAAAAAAAAAAAAAAAAAAAADwa09K8vEkNyX5SZIfJ/mfJH+d5Pgh8x+T5JIk/5vk3iTfT/IfSR43i8WyaRvZ71OTvC/JrUl+nuS2JB9O8rszWiuT95yUzwVYSfL4ga8dm+SCJDen/Nu+ubt97CwXyESN2u+nJnlPkhuS3J3k9iRfSPL7s14gE7Xev+9x5gFMzTlJPpfkH5O8KslfJvlokuUkVw7MfUJKcNyW5C1JXp7kDUmuSHLGbJbLJvXd70cl+V6SHya5MMm5SS5KcleSHyX57dktmQl5UJJvpYTnsCcel3bHL0vyiiQf6m5fMsM1Mjnr7fcVSf4/yb4k5yV5XZIbu3mvme0ymZCj/fve6DyALfHelAenJ3a3j0nytZTflj98qxbF1Azu92u62388MO/PuuN/O7ulMSFvTHJHknfnyCceO1Ii9OKB77m4O75jFgtkotbb72clefDA/BOTfDvJnUmOm8UCmaj19nuceQBb4vUpD07P6G6vvmS7+oT0hAw/RYv5NLjfF3S3nzow75nd8fNmtzQm4HFJfprkZSmfjDz4xGNvd+y0ge87rTt+4fSXyAQdbb9H+adurlc450vf/R73fgEwNQ9JcnKSbUlekOQHKafgnNh9/R0pD1bPTvKl7r+Xk1yb8qSU+XK0/X56yh5fm/Lb0lOTnJXkUMpvSR8x4/WyOZ9M8tWUVzKXcuQTj8+mvA9gmDuSXDXNxTFxR9vvUT6W5L4kD5vaypiGvvs97v0CYGqWcvhNaSspp1uduebrV3bHf5DkU0n+POU0ne+mvEHZKRrzZSnr73dS9vfOgXlfTHLSzFbJJPxhkl/m8KtZSznyiceNKXE5zPXd15kPffZ7mCelXHzg36e2Mqah736Pe78AmKrfSbkCyguT/GuSa5Kcvebrn095sLp64PtOT3J/kn+b+gqZpKPtd1JOt/tMyhtU/yTJm1LehP6VJA+d1ULZlBOS3JLk/WuOLeXIJx63JDk44mccTLkiFvXru9+DHpnkmyn/vrdNa3FMXN/9Hvd+ATBzf5fkFym/FUvKpXZXUq6GNOialNM0mF+D+/2nKadiDL6ydU7K/eDvZ7c0NuGtKa9inbzm2FK8AtKqvvu91okpp9Xek+T3prk4Jq7vfo9zvwDYEo9OeXDa293e193+oyFzr0h58sr8Gtzv/075jegwP05yYBaLYlNOSXlSeVGS7WvGe1L2+qwc/vwe7wGZfxvZ71XHp+ztfSm/dGB+9N3vce4XAFtme8qD06Xd7XO7268eMve6JN+ZzbKYku154H5/uxuDjkm5ioonpPU7Mw98/86w8ZNu7tuy/lWw9obabWS/k3Kp3StT3hfwFzNdKZPQd783er8AmInfGnF89apXL+lun5zyxPMbeeA14p+WcjWsD0xrgUxU3/3+VMq+Dl7h7PlxWdZ58cgkzxsyPp7Dv0xYfUXzjKz/OSA7Z7BeNmcj+/0ba46/auYrZRL67vdG7hcAM/PJlPN//yHJK1M+2Xz1DedfzgNj42+649ckeW3KeaV3pVwZ67GzWzKb0He/d6WcVnd3krenfO7HP6dcJef7SR4z01UzSUsZfu736mmWl6W84nlZd3vfLBfHxC3lyP1+Vw5f1e5FQ8ajZ7tEJmgp/d7b0XcewFS8MOVKR9/N4SecX0/5YLrBT8pNyv+crk85p/TOJJ9IuaIS82Ej+70z5f09t3Vzb0/ykbhKzrxbyvAnHscl2ZPk1pTQvLW77VOx59tSjtzvq7P+KTlnz3KBTNRSBAgAAAAAAAAAAAAAAAAAAAAAAAAAAAAAAAAAAAAAAAAAAAAAAAAAAAAAAAAAAAAAAAAAAAAAAAAAAAAAAAAAAAAAAAAAAAAAAAAAAAAAAAAAAAAAAAAAAAAAAAAAAAAAAAAAAAAAAAAAAAAAAAAAAAAAAAAAAAAAAAAAAAAAE/YrptLob38QtbQAAAAASUVORK5CYII=\" width=\"640\">"
      ],
      "text/plain": [
       "<IPython.core.display.HTML object>"
      ]
     },
     "metadata": {},
     "output_type": "display_data"
    }
   ],
   "source": [
    "ploter = Output_ploter()\n",
    "ani = ploter.plot(protocol, 0x07, [4], 3, 10)"
   ]
  },
  {
   "cell_type": "code",
   "execution_count": 45,
   "metadata": {},
   "outputs": [
    {
     "name": "stdout",
     "output_type": "stream",
     "text": [
      "[0.20304346084594727, 0.277057409286499, 0.3410665988922119, 0.35806870460510254, 0.4060704708099365, 0.4606771469116211, 0.5196771621704102, 0.5296766757965088, 0.5862014293670654, 0.6492025852203369, 0.7072100639343262, 0.7772276401519775, 0.8322253227233887, 0.8892457485198975, 0.9427549839019775, 0.9532525539398193, 0.9992587566375732, 1.065274715423584, 1.0792698860168457, 1.1262784004211426, 1.181286334991455, 1.2387940883636475, 1.2532930374145508, 1.3032987117767334, 1.3683133125305176, 1.4253103733062744, 1.4843354225158691, 1.5033411979675293, 1.5483429431915283, 1.6053509712219238, 1.6283509731292725, 1.6803691387176514, 1.7363710403442383, 1.7543919086456299, 1.802391767501831, 1.859407663345337, 1.9164068698883057, 1.9754154682159424, 2.035412549972534, 2.101430892944336, 2.1554648876190186, 2.212465286254883, 2.270475149154663, 2.281472682952881, 2.334472894668579, 2.387493371963501, 2.4054927825927734, 2.4545059204101562, 2.509507179260254, 2.566027879714966, 2.580028772354126, 2.6260428428649902, 2.683555841445923, 2.7035534381866455, 2.76159930229187, 2.818598747253418, 2.831599473953247, 2.8816211223602295, 2.949126958847046, 3.0046379566192627, 3.0626425743103027, 3.0786445140838623, 3.1316428184509277, 3.185656785964966, 3.2426652908325195, 3.253166437149048, 3.321209192276001, 3.3282108306884766, 3.3807318210601807, 3.443232536315918, 3.4577414989471436, 3.5087335109710693, 3.5367319583892822, 3.5817415714263916, 3.641749382019043, 3.6597559452056885, 3.7147583961486816, 3.776768684387207, 3.8412771224975586, 3.859285593032837, 3.9082837104797363, 3.9692933559417725, 3.980294942855835, 4.031293153762817, 4.05380392074585, 4.099310398101807, 4.165318965911865, 4.2253258228302, 4.2653303146362305, 4.312331676483154, 4.328330993652344, 4.3960182666778564, 4.406018495559692, 4.461578130722046, 4.518578052520752, 4.53658127784729, 4.583594560623169, 4.641610622406006, 4.695616722106934, 4.704625368118286, 4.76265287399292, 4.818652629852295, 4.829651117324829, 4.879690170288086, 4.935689449310303, 4.953705310821533, 4.997711420059204, 5.003711938858032, 5.064372539520264, 5.078375816345215, 5.126370906829834, 5.18189263343811, 5.234893560409546, 5.2569310665130615, 5.304969310760498, 5.364945650100708, 5.379945516586304, 5.43694806098938, 5.453959226608276, 5.506983041763306, 5.565610647201538, 5.580610275268555, 5.630609750747681, 5.694189786911011, 5.704192638397217, 5.764241695404053, 5.780242681503296, 5.847249507904053, 5.8592634201049805, 5.908264636993408, 5.965264320373535, 5.98326563835144, 6.031265020370483, 6.055351972579956, 6.112360954284668, 6.128367900848389, 6.181402683258057, 6.2034008502960205, 6.254405498504639, 6.316313982009888, 6.328311920166016, 6.3593244552612305, 6.405326843261719, 6.468351602554321, 6.483349561691284, 6.5323498249053955, 6.591398239135742, 6.647952556610107, 6.6544575691223145, 6.710459232330322, 6.768496513366699, 6.784498691558838, 6.83449912071228, 6.861515760421753, 6.915516376495361, 6.928516864776611, 6.981532573699951, 7.044545650482178, 7.061555862426758, 7.110556364059448, 7.1295552253723145, 7.182574510574341, 7.204572916030884, 7.254109859466553, 7.3115715980529785, 7.329554796218872, 7.359586715698242, 7.406586170196533, 7.428583145141602, 7.479599237442017, 7.537605285644531, 7.561617374420166, 7.611620187759399, 7.675649642944336, 7.736657619476318, 7.753165006637573, 7.799672365188599, 7.857694387435913, 7.914692401885986, 7.97570276260376, 8.052209615707397, 8.07970905303955, 8.131713390350342, 8.197726964950562, 8.205748319625854, 8.253244161605835, 8.278773069381714, 8.327773332595825, 8.383811235427856, 8.447812557220459, 8.455815076828003, 8.515823602676392, 8.530821800231934, 8.575833082199097, 8.642343044281006, 8.657884120941162, 8.701885223388672, 8.766903400421143, 8.781906366348267, 8.845912456512451, 8.858930826187134, 8.909924030303955, 8.937923669815063, 8.983940601348877, 9.044448852539062, 9.055452346801758, 9.078961372375488, 9.125960350036621, 9.156968832015991, 9.206971168518066, 9.231972694396973, 9.281984567642212, 9.34553050994873, 9.359039068222046, 9.410038471221924, 9.469059944152832, 9.483053922653198, 9.530054569244385, 9.593059778213501, 9.612060308456421, 9.660073041915894, 9.679076671600342, 9.726075172424316, 9.78608751296997, 9.803088188171387, 9.855091571807861, 9.915098428726196, 9.928098440170288, 9.982116460800171, 10.003117561340332, 10.06012487411499, 10.079124927520752, 10.131125450134277, 10.1546311378479, 10.20414113998413, 10.261152744293213, 10.318152904510498, 10.328151941299438, 10.379169940948486, 10.443183898925781, 10.453684329986572, 10.512192964553833, 10.52819037437439, 10.577202796936035, 10.634209394454956, 10.693226337432861, 10.706225395202637, 10.759851217269897, 10.829848766326904, 10.86112666130066, 10.8781259059906, 10.903127193450928, 10.957643032073975, 11.024641275405884, 11.088659286499023, 11.145683288574219, 11.158697605133057, 11.17869758605957, 11.22569751739502, 11.288708686828613, 11.350717782974243, 11.401721239089966, 11.457784414291382, 11.488790273666382, 11.544292211532593, 11.55879807472229, 11.609797716140747, 11.663811445236206, 11.678809881210327, 11.703810691833496, 11.73481011390686, 11.754318237304688, 11.781830310821533, 11.803829908370972, 11.828829288482666, 11.861903429031372, 11.878905296325684, 11.90493130683899, 11.968978881835938, 11.983994722366333, 12.003987550735474, 12.058987140655518, 12.07899260520935, 12.131994009017944, 12.193997144699097, 12.203997373580933, 12.258018016815186, 12.325014114379883, 12.392037630081177, 12.410026788711548, 12.43002986907959, 12.478068113327026, 12.542608499526978, 12.559115886688232, 12.57811450958252, 12.63211989402771, 12.69112515449524, 12.704124450683594, 12.755128383636475, 12.81296181678772, 12.872968673706055, 12.87896728515625, 12.93096923828125, 12.956477165222168, 13.001987218856812, 13.029983520507812, 13.10499906539917, 13.16001033782959, 13.180013656616211, 13.227010726928711, 13.288025856018066, 13.34903073310852, 13.40706753730774, 13.46299147605896, 13.485989332199097, 13.503988981246948, 13.557998657226562, 13.616057395935059, 13.671007633209229, 13.68202519416809, 13.735015869140625, 13.75651478767395, 13.812023639678955, 13.830021381378174, 13.893031358718872, 13.905029296875, 13.954041719436646, 13.979042053222656, 14.027045011520386, 14.088064908981323, 14.146064519882202, 14.206072568893433, 14.264090061187744, 14.321086406707764, 14.329087018966675, 14.378098726272583, 14.437093257904053, 14.453619241714478, 14.50612211227417, 14.529124975204468, 14.578139543533325, 14.640141725540161, 14.654650211334229, 14.705158710479736, 14.764178991317749, 14.816170930862427, 14.82817006111145, 14.876184940338135, 14.939185619354248, 14.953697919845581, 15.004205226898193, 15.028208494186401, 15.075222969055176, 15.137222290039062, 15.158239364624023, 15.179242372512817, 15.223239660263062, 15.228239297866821, 15.283253192901611, 15.340252161026001, 15.358267068862915, 15.406269788742065, 15.46527624130249, 15.520281076431274, 15.52928376197815, 15.563295125961304, 15.61928391456604, 15.629302978515625, 15.678301572799683, 15.731304407119751, 15.78930926322937, 15.854813814163208, 15.880334854125977, 15.922337055206299, 15.928323030471802, 15.987338066101074, 16.00334358215332, 16.05334496498108, 16.11235237121582, 16.164366006851196, 16.221367359161377, 16.23236632347107, 16.280380964279175, 16.303375005722046, 16.356878995895386, 16.37940216064453, 16.430394172668457, 16.486395835876465, 16.503395795822144, 16.554898738861084, 16.621405601501465, 16.630404233932495, 16.692416191101074, 16.703415155410767, 16.753421545028687, 16.807428121566772, 16.87243628501892, 16.87944221496582, 16.92543649673462, 16.99605131149292, 17.016048431396484, 17.06355905532837, 17.079559087753296, 17.13555669784546, 17.196577787399292, 17.2065691947937, 17.2575740814209, 17.318594455718994, 17.328582763671875, 17.380592823028564, 17.43859314918518, 17.453600645065308, 17.50262975692749, 17.55864119529724, 17.57864284515381, 17.63364028930664, 17.654645442962646, 17.704650402069092, 17.769660472869873, 17.78366231918335, 17.831663846969604, 17.89067769050598, 17.90867853164673, 17.95768165588379, 18.0116925239563, 18.038686752319336, 18.086698293685913, 18.1056969165802, 18.1527042388916, 18.21570873260498, 18.23470664024353, 18.281724452972412, 18.34473180770874, 18.353729963302612, 18.406737565994263, 18.46075201034546, 18.47874903678894, 18.5247483253479, 18.58879280090332, 18.610802173614502, 18.667802333831787, 18.68280339241028, 18.735801935195923, 18.75780701637268, 18.814831018447876, 18.830813884735107, 18.88583278656006, 18.95033311843872, 19.019840478897095, 19.032841205596924, 19.0818510055542, 19.137852668762207, 19.157857656478882, 19.202863216400146, 19.264877796173096, 19.318877935409546, 19.378907203674316, 19.43290114402771, 19.453913688659668, 19.505921602249146, 19.564942598342896, 19.578940391540527, 19.62595558166504, 19.660542011260986, 19.710541248321533, 19.774072647094727, 19.835070371627808, 19.900110006332397, 19.956140756607056, 19.978147268295288, 20.030147314071655, 20.09317946434021, 20.110177516937256, 20.157202005386353, 20.215211629867554, 20.23522114753723, 20.283241510391235, 20.33924674987793, 20.39526653289795, 20.407268047332764, 20.459304571151733, 20.518312454223633, 20.530301094055176, 20.594021797180176, 20.608017921447754, 20.658533573150635, 20.678541660308838, 20.737541437149048, 20.753063678741455, 20.80157732963562, 20.85610818862915, 20.90862512588501, 20.929625749588013, 20.984643936157227, 21.00564479827881, 21.052162408828735, 21.107688665390015, 21.12967801094055, 21.17770791053772, 21.235697746276855, 21.25422739982605, 21.3027126789093, 21.365699291229248, 21.380698442459106, 21.43569803237915, 21.454227685928345, 21.49976897239685, 21.560837268829346, 21.57882022857666, 21.626848220825195, 21.68585205078125, 21.70485234260559, 21.75536274909973, 21.819886207580566, 21.83088731765747, 21.883917570114136, 21.94446611404419, 21.95446515083313, 22.008970022201538, 22.102991819381714, 22.164044857025146, 22.217045545578003, 22.235044240951538, 22.281057357788086, 22.338058948516846, 22.396084308624268, 22.40710473060608, 22.465128898620605, 22.484126806259155, 22.530128479003906, 22.58514094352722, 22.647674083709717, 22.65367364883423, 22.71318292617798, 22.737186193466187, 22.78719711303711, 22.847716093063354, 22.85371494293213, 22.915225744247437, 22.92922592163086, 22.99232244491577, 23.05282688140869, 23.110331535339355, 23.128329753875732, 23.178345918655396, 23.203346252441406, 23.249852657318115, 23.315361499786377, 23.329363584518433, 23.384398937225342, 23.41439652442932, 23.46409249305725, 23.483093738555908, 23.503064155578613, 23.547072172164917, 23.554571628570557, 23.613587856292725, 23.62958788871765, 23.679481983184814, 23.7404887676239, 23.75399160385132, 23.829494953155518, 23.898512840270996, 23.965563535690308, 23.986560344696045, 24.031561851501465, 24.067575931549072, 24.116578340530396, 24.14157772064209, 24.197592735290527, 24.20358896255493, 24.257625341415405, 24.28060746192932, 24.332607984542847, 24.385624170303345, 24.409623384475708, 24.46163582801819, 24.486634016036987, 24.534636735916138, 24.592668771743774, 24.608670234680176, 24.65719437599182, 24.67970609664917, 24.728678941726685, 24.75318455696106, 24.78368592262268, 24.82969045639038, 24.85569167137146, 24.906699895858765, 24.929701328277588, 24.980709314346313, 25.004725694656372, 25.0492160320282, 25.104620456695557, 25.157625198364258, 25.221633911132812, 25.233629941940308, 25.28564739227295, 25.339649438858032, 25.362662076950073, 25.412663459777832, 25.43866205215454, 25.485702514648438, 25.54270076751709, 25.561710834503174, 25.61571216583252, 25.67272186279297, 25.678726196289062, 25.738749027252197, 25.753742218017578, 25.80573606491089, 25.864750623703003, 25.931755304336548, 25.953251838684082, 26.001760005950928, 26.06298017501831, 26.078980445861816, 26.1289803981781, 26.195992469787598, 26.20599365234375, 26.25649642944336, 26.312017917633057, 26.32901644706726, 26.378921270370483, 26.434918642044067, 26.49095129966736, 26.50393843650818, 26.558934688568115, 26.579952001571655, 26.630940914154053, 26.693964958190918, 26.705965280532837, 26.760972261428833, 26.781975984573364, 26.82697343826294, 26.88799524307251, 26.951502084732056, 27.015008449554443, 27.03500986099243, 27.08002281188965, 27.10401940345764, 27.153055667877197, 27.207676649093628, 27.268187522888184, 27.282188892364502, 27.335191011428833, 27.388234853744507, 27.411198377609253, 27.459706783294678, 27.523212432861328, 27.528213500976562, 27.584233045578003, 27.60622501373291, 27.654728412628174, 27.71479558944702, 27.72979736328125, 27.78196358680725, 27.839959621429443, 27.859970331192017, 27.878077745437622, 27.92707324028015, 27.987587690353394, 28.04659366607666, 28.060594081878662, 28.110600233078003, 28.129599571228027, 28.17861270904541, 28.204615116119385, 28.247119903564453, 28.25412082672119, 28.313633918762207, 28.328630208969116, 28.37964367866516, 28.440645217895508, 28.454651594161987, 28.498658895492554, 28.553664207458496, 28.609670639038086, 28.666463613510132, 28.690462827682495, 28.73646330833435, 28.758491277694702, 28.81550097465515, 28.829497814178467, 28.85950231552124, 28.90751051902771, 28.929508686065674, 28.99051809310913, 29.014517545700073, 29.069531440734863, 29.079533338546753, 29.135535717010498, 29.194544315338135, 29.205545663833618, 29.256049156188965, 29.278557300567627, 29.32555842399597, 29.38057851791382, 29.40657138824463, 29.457574605941772, 29.525582790374756, 29.585617303848267, 29.6396222114563, 29.657122135162354, 29.708638906478882, 29.761637926101685, 29.823636531829834, 29.82863688468933, 29.887680292129517, 29.946663856506348, 29.957161903381348, 30.00766897201538, 30.07667851448059, 30.13468599319458, 30.16269302368164, 30.211693286895752, 30.230695009231567, 30.27670192718506, 30.342700481414795, 30.35870623588562, 30.411712408065796, 30.46673345565796, 30.48472762107849, 30.537726402282715, 30.55422878265381, 30.604740142822266, 30.672745943069458, 30.67974615097046, 30.739748239517212, 30.7547607421875, 30.800770044326782, 30.858271837234497, 30.879780769348145, 30.937782526016235, 30.95478844642639, 31.0087947845459, 31.036796808242798, 31.08481240272522, 31.11582040786743, 31.165833950042725, 31.22581958770752, 31.290835857391357, 31.314833879470825, 31.36784815788269, 31.37884783744812, 31.427847862243652, 31.487868309020996, 31.503869771957397, 31.555873155593872, 31.578876733779907, 31.628875970840454, 31.690885543823242, 31.707886219024658, 31.75639009475708, 31.82390069961548, 31.828899383544922, 31.8899347782135, 31.90893316268921, 31.928934574127197, 31.983952283859253, 32.04294776916504, 32.0619695186615, 32.113969802856445, 32.16697907447815, 32.18900513648987, 32.24097752571106, 32.26798868179321, 32.32198929786682, 32.33099412918091, 32.37999939918518, 32.44499492645264, 32.45399880409241, 32.50900435447693, 32.531007051467896, 32.57901906967163, 32.64202427864075, 32.660526514053345, 32.70805382728577, 32.771602392196655, 32.78261184692383, 32.845601081848145, 32.858108043670654, 32.90811610221863, 32.92911744117737, 32.976125955581665, 33.00412678718567, 33.065146923065186, 33.07813882827759, 33.126137495040894, 33.19014835357666, 33.20414662361145, 33.2566556930542, 33.313164472579956, 33.32916498184204, 33.39217472076416, 33.40917420387268, 33.42817401885986, 33.4751935005188, 33.50519418716431, 33.55719995498657, 33.61620807647705, 33.628209829330444, 33.67627263069153, 33.743274211883545, 33.75778269767761, 33.820287227630615, 33.83028745651245, 33.85431909561157, 33.89932918548584, 33.95583915710449, 33.9863440990448, 34.031343936920166, 34.053353786468506, 34.109365940093994, 34.12836575508118, 34.17838096618652, 34.23937940597534, 34.297393798828125, 34.30639171600342, 34.3568959236145, 34.41240572929382, 34.46644902229309, 34.5234272480011, 34.59044313430786, 34.646950244903564, 34.65495038032532, 34.7024564743042, 34.728455781936646, 34.77547574043274, 34.83447241783142, 34.85499143600464, 34.90449547767639, 34.928494691848755, 34.989522218704224, 35.00452208518982, 35.061041593551636, 35.11654877662659, 35.129549980163574, 35.18057322502136, 35.20556688308716, 35.25457978248596, 35.31758785247803, 35.32964205741882, 35.380603075027466, 35.44260382652283, 35.45461893081665, 35.50762939453125, 35.570443630218506, 35.5794460773468, 35.603440046310425, 35.654987812042236, 35.71551203727722, 35.73750138282776, 35.78810524940491, 35.803107500076294, 35.852134704589844, 35.91668963432312, 35.93469190597534, 35.98073077201843, 36.03772974014282, 36.053751945495605, 36.102765798568726, 36.16128158569336, 36.17879581451416, 36.22880268096924, 36.28785228729248, 36.34485673904419, 36.358861446380615, 36.40387463569641, 36.46390509605408, 36.52090311050415, 36.53190588951111, 36.58094263076782, 36.644935846328735, 36.6544394493103, 36.70596385002136, 36.762977838516235, 36.81997609138489, 36.833974838256836, 36.890820026397705, 36.906827449798584, 36.95332598686218, 37.0114061832428, 37.035407304763794, 37.053916215896606, 37.110454082489014, 37.13146996498108, 37.17850637435913, 37.243513345718384, 37.25401306152344, 37.30351948738098, 37.36353898048401, 37.418537616729736, 37.436537742614746, 37.485551595687866, 37.552563428878784, 37.61557221412659, 37.62957167625427, 37.684595346450806, 37.70359921455383, 37.75259876251221, 37.81061935424805, 37.86865258216858, 37.88265252113342, 37.90665316581726, 37.95615577697754, 37.98166036605835, 38.027666091918945, 38.078675746917725, 38.145676374435425, 38.15519070625305, 38.205694913864136, 38.268718957901, 38.282719373703, 38.3337197303772, 38.39974880218506, 38.45674991607666, 38.51075792312622, 38.567805767059326, 38.58080530166626, 38.63180613517761, 38.68983030319214, 38.70383048057556, 38.761335134506226, 38.79084277153015, 38.8498592376709, 38.906853914260864, 38.96350884437561, 39.018507957458496, 39.02850699424744, 39.084038496017456, 39.10403847694397, 39.166054487228394, 39.18206310272217, 39.233057260513306, 39.28807282447815, 39.34957695007324, 39.407084941864014, 39.43008804321289, 39.47509407997131, 39.535096168518066, 39.59910535812378, 39.66711711883545, 39.72511863708496, 39.78213715553284, 39.804134368896484, 39.85464358329773, 39.88015127182007, 39.9271514415741, 39.99218702316284, 40.00517201423645, 40.05368208885193, 40.12019443511963, 40.143194913864136, 40.190207719802856, 40.20320677757263, 40.273221492767334, 40.330239057540894, 40.38390803337097, 40.43790674209595, 40.493481159210205, 40.50342893600464, 40.55893683433533, 40.62246823310852, 40.68248796463013, 40.73848795890808, 40.75549578666687, 40.80050468444824, 40.8305025100708, 40.871508836746216, 40.88051462173462, 40.94550919532776, 40.95401477813721, 41.012523889541626, 41.03052473068237, 41.07653594017029, 41.104533433914185, 41.15204119682312, 41.20955181121826, 41.26956129074097, 41.280561447143555, 41.35207390785217, 41.412585496902466, 41.471617221832275, 41.47961759567261, 41.53561758995056, 41.598628520965576, 41.65513753890991, 41.720521211624146, 41.72952437400818, 41.782546520233154, 41.80353879928589, 41.85155129432678, 41.918564558029175, 41.93756341934204, 42.00959634780884, 42.034584045410156, 42.05309581756592, 42.11560678482056, 42.13062357902527, 42.153106689453125, 42.237616300582886, 42.25361943244934, 42.28662943840027, 42.30462980270386, 42.35915231704712, 42.37865948677063, 42.430657386779785, 42.488672494888306, 42.50367045402527, 42.55818033218384, 42.62868595123291, 42.65419578552246, 42.71769976615906, 42.730700969696045, 42.75571155548096, 42.77972364425659, 42.832722425460815, 42.8537323474884, 42.884740591049194, 42.90674829483032, 42.95874500274658, 42.98176646232605, 43.00677490234375, 43.05777335166931, 43.078784465789795, 43.10880494117737, 43.16479730606079, 43.179800033569336, 43.20779800415039, 43.229798316955566, 43.25380778312683, 43.31281495094299, 43.32981491088867, 43.35632562637329, 43.37883758544922, 43.40883803367615, 43.46885347366333, 43.48485279083252, 43.50385642051697, 43.552870988845825, 43.57887601852417, 43.640878438949585, 43.6563937664032, 43.71590280532837, 43.73390293121338, 43.755403995513916, 43.81891942024231, 43.82991981506348, 43.85892295837402]\n"
     ]
    }
   ],
   "source": [
    "print(ploter.xdata)"
   ]
  },
  {
   "cell_type": "code",
   "execution_count": 44,
   "metadata": {},
   "outputs": [
    {
     "name": "stdout",
     "output_type": "stream",
     "text": [
      "b''\n",
      "bytearray(b'\\x01\\xcd\\xcc\\xcc=')\n",
      "send  bytearray(b'\\xfa\\xaf\\n\\x03\\x01\\xcd\\xcc\\xcc=Y')\n",
      "answer  bytearray(b'\\xfa\\xfa\\x07\\x03OK\\x98')\n"
     ]
    },
    {
     "data": {
      "text/plain": [
       "(79, 75)"
      ]
     },
     "execution_count": 44,
     "metadata": {},
     "output_type": "execute_result"
    }
   ],
   "source": [
    "# Set duty cycle of particular PWM channel\n",
    "channel = 1\n",
    "dutyCycle = 0.1\n",
    "protocol.send_command(0x03, [channel, dutyCycle])"
   ]
  },
  {
   "cell_type": "code",
   "execution_count": 14,
   "metadata": {},
   "outputs": [
    {
     "name": "stdout",
     "output_type": "stream",
     "text": [
      "b''\n",
      "bytearray(b'')\n",
      "send  bytearray(b'\\xfa\\xaf\\x05\\t\\xb7')\n",
      "answer  bytearray(b'\\xfa\\xfa\\x11\\tp\\x8e\\xe7\\xbc\\xe6t\\xe4<yc\\xae?\\xf2')\n"
     ]
    },
    {
     "data": {
      "text/plain": [
       "(-0.028266161680221558, 0.027887772768735886, 1.3624106645584106)"
      ]
     },
     "execution_count": 14,
     "metadata": {},
     "output_type": "execute_result"
    },
    {
     "name": "stdout",
     "output_type": "stream",
     "text": [
      "b''\n",
      "bytearray(b'')\n",
      "send  bytearray(b'\\xfa\\xaf\\x05\\t\\xb7')\n"
     ]
    }
   ],
   "source": [
    "protocol.send_command(0x09, [])"
   ]
  },
  {
   "cell_type": "code",
   "execution_count": null,
   "metadata": {
    "collapsed": true
   },
   "outputs": [],
   "source": [
    "# Set direction bit for particular motor\n",
    "channel = 1\n",
    "protocol.send_command(0x04, [channel])"
   ]
  },
  {
   "cell_type": "code",
   "execution_count": null,
   "metadata": {
    "collapsed": true
   },
   "outputs": [],
   "source": [
    "# Reset direction bit for particular motor\n",
    "channel = 1\n",
    "protocol.send_command(0x05, [channel]);"
   ]
  },
  {
   "cell_type": "code",
   "execution_count": 52,
   "metadata": {},
   "outputs": [
    {
     "name": "stdout",
     "output_type": "stream",
     "text": [
      "b''\n",
      "bytearray(b'\\x04\\x00\\x00\\x00\\x00\\x00\\x00\\x00\\x00\\x00\\x00\\x00\\x00\\x00\\x00\\x00\\x00')\n",
      "send  bytearray(b'\\xfa\\xaf\\x16\\x06\\x04\\x00\\x00\\x00\\x00\\x00\\x00\\x00\\x00\\x00\\x00\\x00\\x00\\x00\\x00\\x00\\x00\\xc9')\n",
      "answer  bytearray(b'\\xfa\\xfa\\x07\\x06OK\\x9b')\n"
     ]
    },
    {
     "data": {
      "text/plain": [
       "(79, 75)"
      ]
     },
     "execution_count": 52,
     "metadata": {},
     "output_type": "execute_result"
    }
   ],
   "source": [
    "# Set speed of all motors to 0\n",
    "\n",
    "protocol.send_command(0x06, [4, 0, 0, 0, 0])"
   ]
  },
  {
   "cell_type": "code",
   "execution_count": 50,
   "metadata": {},
   "outputs": [
    {
     "name": "stdout",
     "output_type": "stream",
     "text": [
      "b''\n",
      "bytearray(b'\\x04\\x00\\x00\\x00\\x00\\x00\\x00\\x00\\x00\\x00\\x00\\x00\\x00\\x00\\x00@A')\n",
      "send  bytearray(b'\\xfa\\xaf\\x16\\x06\\x04\\x00\\x00\\x00\\x00\\x00\\x00\\x00\\x00\\x00\\x00\\x00\\x00\\x00\\x00@AJ')\n",
      "answer  bytearray(b'\\xfa\\xfa\\x07\\x06OK\\x9b')\n"
     ]
    },
    {
     "data": {
      "text/plain": [
       "(79, 75)"
      ]
     },
     "execution_count": 50,
     "metadata": {},
     "output_type": "execute_result"
    }
   ],
   "source": [
    "# Set speed of all motors in rad/s\n",
    "\n",
    "protocol.send_command(0x06, [4, 0, 0, 0, 12])"
   ]
  },
  {
   "cell_type": "code",
   "execution_count": null,
   "metadata": {
    "collapsed": true
   },
   "outputs": [],
   "source": [
    "# Read speed of all wheels in rad/s\n",
    "numberOfmotors = 4\n",
    "protocol.send_command(0x07, [numberOfmotors])"
   ]
  },
  {
   "cell_type": "code",
   "execution_count": 8,
   "metadata": {},
   "outputs": [
    {
     "name": "stdout",
     "output_type": "stream",
     "text": [
      "b''\n",
      "bytearray(b'\\x00\\x00\\x00\\x00\\x00\\x00\\x00\\x00V\\x0e\\xc9?')\n",
      "send  bytearray(b'\\xfa\\xaf\\x11\\x08\\x00\\x00\\x00\\x00\\x00\\x00\\x00\\x00V\\x0e\\xc9?.')\n",
      "answer  bytearray(b'\\xfa\\xfa\\x07\\x08OK\\x9d')\n"
     ]
    },
    {
     "data": {
      "text/plain": [
       "(79, 75)"
      ]
     },
     "execution_count": 8,
     "metadata": {},
     "output_type": "execute_result"
    }
   ],
   "source": [
    "# Set robot speed in its own coordinate system\n",
    "Vx = 0.0\n",
    "Vy = 0.0\n",
    "Wz = 3.1415\n",
    "protocol.send_command(0x08, [Vx, Vy, Wz])"
   ]
  },
  {
   "cell_type": "code",
   "execution_count": 20,
   "metadata": {},
   "outputs": [
    {
     "name": "stdout",
     "output_type": "stream",
     "text": [
      "b''\n",
      "bytearray(b'\\x00\\x00\\x00\\x00\\x00\\x00\\x00\\x00\\x00\\x00\\x00\\x00')\n",
      "send  bytearray(b'\\xfa\\xaf\\x11\\x08\\x00\\x00\\x00\\x00\\x00\\x00\\x00\\x00\\x00\\x00\\x00\\x00\\xc2')\n",
      "answer  bytearray(b'\\xfa\\xfa\\x07\\x08OK\\x9d')\n"
     ]
    },
    {
     "data": {
      "text/plain": [
       "(79, 75)"
      ]
     },
     "execution_count": 20,
     "metadata": {},
     "output_type": "execute_result"
    }
   ],
   "source": [
    "# Set robot speed in its own coordinate system\n",
    "Vx = 0.0\n",
    "Vy = 0.0\n",
    "Wz = 0.0\n",
    "\n",
    "protocol.send_command(0x08, [Vx, Vy, Wz])"
   ]
  },
  {
   "cell_type": "code",
   "execution_count": null,
   "metadata": {
    "collapsed": true
   },
   "outputs": [],
   "source": [
    "# Read robot speed in its own coordinate system\n",
    "protocol.send_command(0x09, [])"
   ]
  },
  {
   "cell_type": "code",
   "execution_count": null,
   "metadata": {
    "collapsed": true
   },
   "outputs": [],
   "source": [
    "# Read robot coord in its own coordinate system\n",
    "protocol.send_command(0x0a, [])"
   ]
  },
  {
   "cell_type": "code",
   "execution_count": 169,
   "metadata": {},
   "outputs": [
    {
     "name": "stdout",
     "output_type": "stream",
     "text": [
      "b''\n",
      "bytearray(b'\\x02\\xff\\x00')\n",
      "send  bytearray(b'\\xfa\\xaf\\x08\\x0b\\x02\\xff\\x00\\xbd')\n",
      "answer  bytearray(b'\\xfa\\xfa\\x07\\x0bOK\\xa0')\n"
     ]
    },
    {
     "data": {
      "text/plain": [
       "(79, 75)"
      ]
     },
     "execution_count": 169,
     "metadata": {},
     "output_type": "execute_result"
    }
   ],
   "source": [
    "# Move servo of particular id (first parameter), to specified angle (second parameter) \n",
    "servoId = 2\n",
    "angle = 255\n",
    "protocol.send_command(0x0b, [servoId, angle])"
   ]
  },
  {
   "cell_type": "code",
   "execution_count": 168,
   "metadata": {},
   "outputs": [
    {
     "name": "stdout",
     "output_type": "stream",
     "text": [
      "b''\n",
      "bytearray(b'\\x02')\n",
      "send  bytearray(b'\\xfa\\xaf\\x06\\x0c\\x02\\xbd')\n",
      "answer  bytearray(b'\\xfa\\xfa\\t\\x0c\\x00\\x00\\x00\\x00\\t')\n"
     ]
    },
    {
     "data": {
      "text/plain": [
       "(0.0,)"
      ]
     },
     "execution_count": 168,
     "metadata": {},
     "output_type": "execute_result"
    }
   ],
   "source": [
    "# Get angle of particular servo\n",
    "servoId = 2\n",
    "protocol.send_command(0x0c, [servoId])"
   ]
  },
  {
   "cell_type": "code",
   "execution_count": 21,
   "metadata": {},
   "outputs": [
    {
     "name": "stdout",
     "output_type": "stream",
     "text": [
      "b''\n",
      "bytearray(b'\\x00')\n",
      "send  bytearray(b'\\xfa\\xaf\\x06\\r\\x00\\xbc')\n",
      "answer  bytearray(b'\\xfa\\xfa\\x07\\rOK\\xa2')\n"
     ]
    },
    {
     "data": {
      "text/plain": [
       "(79, 75)"
      ]
     },
     "execution_count": 21,
     "metadata": {},
     "output_type": "execute_result"
    }
   ],
   "source": [
    "# Turn on/off forward kinematics calculations\n",
    "status = 0\n",
    "protocol.send_command(0x0D, [status])"
   ]
  },
  {
   "cell_type": "code",
   "execution_count": null,
   "metadata": {
    "collapsed": true
   },
   "outputs": [],
   "source": [
    "# Get status\n",
    "protocol.send_command(0xa0, [1, 1, 1])"
   ]
  },
  {
   "cell_type": "code",
   "execution_count": 81,
   "metadata": {
    "collapsed": true
   },
   "outputs": [],
   "source": [
    "# Parameters for right manipulator\n",
    "rightSliderId = 1\n",
    "rightGripperId = 16\n",
    "\n",
    "rightSliderUpPos = 45\n",
    "rightSliderBotPos = 300\n",
    "rightGripperOpened = 40\n",
    "rightGripperClosed = 150"
   ]
  },
  {
   "cell_type": "code",
   "execution_count": 158,
   "metadata": {},
   "outputs": [
    {
     "name": "stdout",
     "output_type": "stream",
     "text": [
      "b''\n",
      "bytearray(b'\\x10(\\x00')\n",
      "send  bytearray(b'\\xfa\\xaf\\x08\\x0b\\x10(\\x00\\xf4')\n",
      "answer  bytearray(b'\\xfa\\xfa\\x07\\x0bOK\\xa0')\n",
      "b''\n",
      "bytearray(b'\\x01,\\x01')\n",
      "send  bytearray(b'\\xfa\\xaf\\x08\\x0b\\x01,\\x01\\xea')\n",
      "answer  bytearray(b'\\xfa\\xfa\\x07\\x0bOK\\xa0')\n"
     ]
    },
    {
     "data": {
      "text/plain": [
       "(79, 75)"
      ]
     },
     "execution_count": 158,
     "metadata": {},
     "output_type": "execute_result"
    }
   ],
   "source": [
    "# Open and lower manipulator\n",
    "protocol.send_command(0x0b, [rightGripperId, rightGripperOpened])\n",
    "time.sleep(0.5)\n",
    "protocol.send_command(0x0b, [rightSliderId, rightSliderBotPos])"
   ]
  },
  {
   "cell_type": "code",
   "execution_count": 159,
   "metadata": {},
   "outputs": [
    {
     "name": "stdout",
     "output_type": "stream",
     "text": [
      "b''\n",
      "bytearray(b'\\x10\\x96\\x00')\n",
      "send  bytearray(b'\\xfa\\xaf\\x08\\x0b\\x10\\x96\\x00b')\n",
      "answer  bytearray(b'\\xfa\\xfa\\x07\\x0bOK\\xa0')\n",
      "b''\n",
      "bytearray(b'\\x01-\\x00')\n",
      "send  bytearray(b'\\xfa\\xaf\\x08\\x0b\\x01-\\x00\\xea')\n",
      "answer  bytearray(b'\\xfa\\xfa\\x07\\x0bOK\\xa0')\n"
     ]
    },
    {
     "data": {
      "text/plain": [
       "(79, 75)"
      ]
     },
     "execution_count": 159,
     "metadata": {},
     "output_type": "execute_result"
    }
   ],
   "source": [
    "# Close and lift manipulator\n",
    "protocol.send_command(0x0b, [rightGripperId, rightGripperClosed])\n",
    "time.sleep(0.5)\n",
    "protocol.send_command(0x0b, [rightSliderId, rightSliderUpPos])"
   ]
  },
  {
   "cell_type": "code",
   "execution_count": 160,
   "metadata": {},
   "outputs": [
    {
     "name": "stdout",
     "output_type": "stream",
     "text": [
      "b''\n",
      "bytearray(b'\\x10(\\x00')\n",
      "send  bytearray(b'\\xfa\\xaf\\x08\\x0b\\x10(\\x00\\xf4')\n",
      "answer  bytearray(b'\\xfa\\xfa\\x07\\x0bOK\\xa0')\n",
      "b''\n",
      "bytearray(b'\\x01,\\x01')\n",
      "send  bytearray(b'\\xfa\\xaf\\x08\\x0b\\x01,\\x01\\xea')\n",
      "answer  bytearray(b'\\xfa\\xfa\\x07\\x0bOK\\xa0')\n"
     ]
    },
    {
     "data": {
      "text/plain": [
       "(79, 75)"
      ]
     },
     "execution_count": 160,
     "metadata": {},
     "output_type": "execute_result"
    }
   ],
   "source": [
    "# Open and lower manipulator\n",
    "protocol.send_command(0x0b, [rightGripperId, rightGripperOpened])\n",
    "time.sleep(0.5)\n",
    "protocol.send_command(0x0b, [rightSliderId, rightSliderBotPos])"
   ]
  },
  {
   "cell_type": "code",
   "execution_count": 161,
   "metadata": {},
   "outputs": [
    {
     "name": "stdout",
     "output_type": "stream",
     "text": [
      "b''\n",
      "bytearray(b'\\x10\\x96\\x00')\n",
      "send  bytearray(b'\\xfa\\xaf\\x08\\x0b\\x10\\x96\\x00b')\n",
      "answer  bytearray(b'\\xfa\\xfa\\x07\\x0bOK\\xa0')\n",
      "b''\n",
      "bytearray(b'\\x01-\\x00')\n",
      "send  bytearray(b'\\xfa\\xaf\\x08\\x0b\\x01-\\x00\\xea')\n",
      "answer  bytearray(b'\\xfa\\xfa\\x07\\x0bOK\\xa0')\n"
     ]
    },
    {
     "data": {
      "text/plain": [
       "(79, 75)"
      ]
     },
     "execution_count": 161,
     "metadata": {},
     "output_type": "execute_result"
    }
   ],
   "source": [
    "# Close and lift manipulator\n",
    "protocol.send_command(0x0b, [rightGripperId, rightGripperClosed])\n",
    "time.sleep(0.5)\n",
    "protocol.send_command(0x0b, [rightSliderId, rightSliderUpPos])"
   ]
  },
  {
   "cell_type": "code",
   "execution_count": 162,
   "metadata": {},
   "outputs": [
    {
     "name": "stdout",
     "output_type": "stream",
     "text": [
      "b''\n",
      "bytearray(b'\\x10(\\x00')\n",
      "send  bytearray(b'\\xfa\\xaf\\x08\\x0b\\x10(\\x00\\xf4')\n",
      "answer  bytearray(b'\\xfa\\xfa\\x07\\x0bOK\\xa0')\n",
      "b''\n",
      "bytearray(b'\\x01,\\x01')\n",
      "send  bytearray(b'\\xfa\\xaf\\x08\\x0b\\x01,\\x01\\xea')\n",
      "answer  bytearray(b'\\xfa\\xfa\\x07\\x0bOK\\xa0')\n"
     ]
    },
    {
     "data": {
      "text/plain": [
       "(79, 75)"
      ]
     },
     "execution_count": 162,
     "metadata": {},
     "output_type": "execute_result"
    }
   ],
   "source": [
    "# Open and lower manipulator\n",
    "protocol.send_command(0x0b, [rightGripperId, rightGripperOpened])\n",
    "time.sleep(0.5)\n",
    "protocol.send_command(0x0b, [rightSliderId, rightSliderBotPos])"
   ]
  },
  {
   "cell_type": "code",
   "execution_count": 167,
   "metadata": {},
   "outputs": [
    {
     "name": "stdout",
     "output_type": "stream",
     "text": [
      "b''\n",
      "bytearray(b'\\x10\\x96\\x00')\n",
      "send  bytearray(b'\\xfa\\xaf\\x08\\x0b\\x10\\x96\\x00b')\n",
      "answer  bytearray(b'\\xfa\\xfa\\x07\\x0bOK\\xa0')\n",
      "b''\n",
      "bytearray(b'\\x01-\\x00')\n",
      "send  bytearray(b'\\xfa\\xaf\\x08\\x0b\\x01-\\x00\\xea')\n",
      "answer  bytearray(b'\\xfa\\xfa\\x07\\x0bOK\\xa0')\n"
     ]
    },
    {
     "data": {
      "text/plain": [
       "(79, 75)"
      ]
     },
     "execution_count": 167,
     "metadata": {},
     "output_type": "execute_result"
    }
   ],
   "source": [
    "# Close and lift manipulator\n",
    "protocol.send_command(0x0b, [rightGripperId, rightGripperClosed])\n",
    "time.sleep(0.5)\n",
    "protocol.send_command(0x0b, [rightSliderId, rightSliderUpPos])"
   ]
  },
  {
   "cell_type": "code",
   "execution_count": 166,
   "metadata": {},
   "outputs": [
    {
     "name": "stdout",
     "output_type": "stream",
     "text": [
      "b''\n",
      "bytearray(b'\\x01,\\x01')\n",
      "send  bytearray(b'\\xfa\\xaf\\x08\\x0b\\x01,\\x01\\xea')\n",
      "answer  bytearray(b'\\xfa\\xfa\\x07\\x0bOK\\xa0')\n",
      "b''\n",
      "bytearray(b'\\x10(\\x00')\n",
      "send  bytearray(b'\\xfa\\xaf\\x08\\x0b\\x10(\\x00\\xf4')\n",
      "answer  bytearray(b'\\xfa\\xfa\\x07\\x0bOK\\xa0')\n"
     ]
    },
    {
     "data": {
      "text/plain": [
       "(79, 75)"
      ]
     },
     "execution_count": 166,
     "metadata": {},
     "output_type": "execute_result"
    }
   ],
   "source": [
    "# Lower and open\n",
    "protocol.send_command(0x0b, [rightSliderId, rightSliderBotPos])\n",
    "time.sleep(1)\n",
    "protocol.send_command(0x0b, [rightGripperId, rightGripperOpened])"
   ]
  },
  {
   "cell_type": "code",
   "execution_count": null,
   "metadata": {
    "collapsed": true
   },
   "outputs": [],
   "source": [
    "Vx = 0.0\n",
    "Vy = 0.0\n",
    "Wz = 3.1415926/2\n",
    "protocol.send_command(0x08, [Vx, Vy, Wz])\n",
    "\n",
    "time.sleep(3.3)\n",
    "\n",
    "Vx = 0.0\n",
    "Vy = 0.0\n",
    "Wz = 0.0\n",
    "protocol.send_command(0x08, [Vx, Vy, Wz])\n",
    "\n",
    "time.sleep(0.3)\n",
    "\n",
    "Vx = 0.0\n",
    "Vy = 0.1\n",
    "Wz = 0.0\n",
    "protocol.send_command(0x08, [Vx, Vy, Wz])\n",
    "\n",
    "time.sleep(4)\n",
    "\n",
    "Vx = 0.0\n",
    "Vy = 0.0\n",
    "Wz = 0.0\n",
    "protocol.send_command(0x08, [Vx, Vy, Wz])\n",
    "\n",
    "time.sleep(0.3)\n",
    "\n",
    "Vx = 0.1\n",
    "Vy = 0.0\n",
    "Wz = 0.0\n",
    "protocol.send_command(0x08, [Vx, Vy, Wz])\n",
    "\n",
    "time.sleep(4)\n",
    "\n",
    "Vx = 0.0\n",
    "Vy = 0.0\n",
    "Wz = 0.0\n",
    "protocol.send_command(0x08, [Vx, Vy, Wz])\n",
    "\n",
    "time.sleep(0.3)\n",
    "\n",
    "Vx = -0.1\n",
    "Vy = -0.1\n",
    "Wz = 0.0\n",
    "protocol.send_command(0x08, [Vx, Vy, Wz])\n",
    "\n",
    "time.sleep(4)\n",
    "\n",
    "Vx = 0.0\n",
    "Vy = 0.0\n",
    "Wz = 0.0\n",
    "protocol.send_command(0x08, [Vx, Vy, Wz])"
   ]
  }
 ],
 "metadata": {
  "kernelspec": {
   "display_name": "Python 3",
   "language": "python",
   "name": "python3"
  },
  "language_info": {
   "codemirror_mode": {
    "name": "ipython",
    "version": 3
   },
   "file_extension": ".py",
   "mimetype": "text/x-python",
   "name": "python",
   "nbconvert_exporter": "python",
   "pygments_lexer": "ipython3",
   "version": "3.5.2"
  },
  "toc": {
   "nav_menu": {},
   "number_sections": true,
   "sideBar": true,
   "skip_h1_title": false,
   "toc_cell": false,
   "toc_position": {},
   "toc_section_display": "block",
   "toc_window_display": false
  },
  "varInspector": {
   "cols": {
    "lenName": 16,
    "lenType": 16,
    "lenVar": 40
   },
   "kernels_config": {
    "python": {
     "delete_cmd_postfix": "",
     "delete_cmd_prefix": "del ",
     "library": "var_list.py",
     "varRefreshCmd": "print(var_dic_list())"
    },
    "r": {
     "delete_cmd_postfix": ") ",
     "delete_cmd_prefix": "rm(",
     "library": "var_list.r",
     "varRefreshCmd": "cat(var_dic_list()) "
    }
   },
   "types_to_exclude": [
    "module",
    "function",
    "builtin_function_or_method",
    "instance",
    "_Feature"
   ],
   "window_display": false
  }
 },
 "nbformat": 4,
 "nbformat_minor": 2
}
