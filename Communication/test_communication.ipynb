{
 "cells": [
  {
   "cell_type": "code",
   "execution_count": 1,
   "metadata": {
    "collapsed": true
   },
   "outputs": [],
   "source": [
    "# %load STMprotocol.py\n",
    "import serial\n",
    "import struct\n",
    "import datetime\n",
    "import time\n",
    "\n",
    "class STMprotocol:\n",
    "    def __init__(self, serial_port):\n",
    "        self.ser = serial.Serial(serial_port, 115200, timeout=0.2)\n",
    "        self.pack_format = {\n",
    "            0x01: \"=BBBB\",\n",
    "            0x03: \"=Bf\",\n",
    "            0x04: \"=B\",\n",
    "            0x05: \"=B\",\n",
    "            0x06: \"=Bffff\",\n",
    "            0x07: \"=B\",\n",
    "            0x08: \"=fff\",\n",
    "            0x09: \"=\",\n",
    "            0x0a: \"=\",\n",
    "            0x0b: \"=BH\",\n",
    "            0x0c: \"=B\",\n",
    "            0x0d: \"=B\",\n",
    "            \n",
    "            0xa0: \"=fff\",\n",
    "            0xa1: \"=fff\",\n",
    "        }\n",
    "\n",
    "        self.unpack_format = {\n",
    "            0x01: \"=BBBB\",\n",
    "            0x03: \"=BB\",\n",
    "            0x04: \"=BB\",\n",
    "            0x05: \"=BB\",\n",
    "            0x06: \"=BB\",\n",
    "            0x07: \"=ffff\",\n",
    "            0x08: \"=BB\",\n",
    "            0x09: \"=fff\",\n",
    "            0x0a: \"=fff\",\n",
    "            0x0b: \"=BB\",\n",
    "            0x0c: \"=f\",\n",
    "            0x0d: \"=BB\",\n",
    "            \n",
    "            0xa0: \"=Bfff\",\n",
    "            0xa1: \"=BB\",\n",
    "        }\n",
    "\n",
    "    def send_command(self, cmd, args):\n",
    "        # Clear buffer\n",
    "        print(self.ser.read(self.ser.in_waiting))\n",
    "        \n",
    "        parameters = bytearray(struct.pack(self.pack_format[cmd], *args))\n",
    "        print(parameters)\n",
    "        msg_len = len(parameters) + 5\n",
    "        msg = bytearray([0xfa, 0xaf, msg_len, cmd]) + parameters\n",
    "        crc = sum(msg) % 256\n",
    "        msg += bytearray([crc])\n",
    "\n",
    "        print(\"send \", repr(msg))\n",
    "        self.ser.write(msg)\n",
    "\n",
    "        start_time = datetime.datetime.now()\n",
    "        time_threshold = datetime.timedelta(seconds=1)\n",
    "        dt = start_time - start_time\n",
    "        \n",
    "        time.sleep(0.001)\n",
    "        data = self.ser.read()[0]\n",
    "        while (data != 0xfa) and (dt < time_threshold):\n",
    "            data = self.ser.read()[0]\n",
    "\n",
    "            current_time = datetime.datetime.now()\n",
    "            dt = start_time - current_time\n",
    "\n",
    "        adr = self.ser.read()[0]\n",
    "        answer_len = self.ser.read()[0]\n",
    "        answer = bytearray(self.ser.read(answer_len - 3))\n",
    "        print(\"answer \", repr(bytearray([data, adr, answer_len]) + answer))\n",
    "\n",
    "        args = struct.unpack(self.unpack_format[cmd], answer[1:-1])\n",
    "        return args\n"
   ]
  },
  {
   "cell_type": "code",
   "execution_count": 2,
   "metadata": {
    "collapsed": true
   },
   "outputs": [],
   "source": [
    "protocol = STMprotocol(\"COM5\")"
   ]
  },
  {
   "cell_type": "code",
   "execution_count": 3,
   "metadata": {},
   "outputs": [
    {
     "name": "stdout",
     "output_type": "stream",
     "text": [
      "b''\n",
      "bytearray(b'ECHO')\n",
      "send  bytearray(b'\\xfa\\xaf\\t\\x01ECHO\\xd2')\n",
      "answer  bytearray(b'\\xfa\\xfa\\t\\x01ECHO\\x1d')\n"
     ]
    },
    {
     "data": {
      "text/plain": [
       "(69, 67, 72, 79)"
      ]
     },
     "execution_count": 3,
     "metadata": {},
     "output_type": "execute_result"
    }
   ],
   "source": [
    "# Echo\n",
    "protocol.send_command(0x01, [ord(c) for c in 'ECHO'])"
   ]
  },
  {
   "cell_type": "code",
   "execution_count": null,
   "metadata": {
    "collapsed": true
   },
   "outputs": [],
   "source": [
    "# Set duty cycle of particular PWM channel\n",
    "channel = 1\n",
    "dutyCycle = 0.1\n",
    "protocol.send_command(0x03, [channel, dutyCycle])"
   ]
  },
  {
   "cell_type": "code",
   "execution_count": null,
   "metadata": {
    "collapsed": true
   },
   "outputs": [],
   "source": [
    "# Set direction bit for particular motor\n",
    "channel = 1\n",
    "protocol.send_command(0x04, [channel])"
   ]
  },
  {
   "cell_type": "code",
   "execution_count": null,
   "metadata": {
    "collapsed": true
   },
   "outputs": [],
   "source": [
    "# Reset direction bit for particular motor\n",
    "channel = 1\n",
    "protocol.send_command(0x05, [channel]);"
   ]
  },
  {
   "cell_type": "code",
   "execution_count": null,
   "metadata": {
    "collapsed": true
   },
   "outputs": [],
   "source": [
    "# Set speed of all motors to 0\n",
    "\n",
    "protocol.send_command(0x06, [4, 0, 0, 0, 0])"
   ]
  },
  {
   "cell_type": "code",
   "execution_count": null,
   "metadata": {
    "collapsed": true
   },
   "outputs": [],
   "source": [
    "# Set speed of all motors in rad/s\n",
    "\n",
    "protocol.send_command(0x06, [4, 6, 6, 6, 6])"
   ]
  },
  {
   "cell_type": "code",
   "execution_count": null,
   "metadata": {
    "collapsed": true
   },
   "outputs": [],
   "source": [
    "# Read speed of all wheels in rad/s\n",
    "numberOfmotors = 4\n",
    "protocol.send_command(0x07, [numberOfmotors])"
   ]
  },
  {
   "cell_type": "code",
   "execution_count": null,
   "metadata": {
    "collapsed": true
   },
   "outputs": [],
   "source": [
    "# Set robot speed in its own coordinate system\n",
    "Vx = 0.0\n",
    "Vy = 0.0\n",
    "Wz = 3.1415/2\n",
    "protocol.send_command(0x08, [Vx, Vy, Wz])"
   ]
  },
  {
   "cell_type": "code",
   "execution_count": null,
   "metadata": {
    "collapsed": true
   },
   "outputs": [],
   "source": [
    "# Set robot speed in its own coordinate system\n",
    "Vx = 0.0\n",
    "Vy = 0.0\n",
    "Wz = 0.0\n",
    "\n",
    "protocol.send_command(0x08, [Vx, Vy, Wz])"
   ]
  },
  {
   "cell_type": "code",
   "execution_count": null,
   "metadata": {
    "collapsed": true
   },
   "outputs": [],
   "source": [
    "# Read robot speed in its own coordinate system\n",
    "protocol.send_command(0x09, [])"
   ]
  },
  {
   "cell_type": "code",
   "execution_count": null,
   "metadata": {
    "collapsed": true
   },
   "outputs": [],
   "source": [
    "# Read robot coord in its own coordinate system\n",
    "protocol.send_command(0x0a, [])"
   ]
  },
  {
   "cell_type": "code",
   "execution_count": 169,
   "metadata": {},
   "outputs": [
    {
     "name": "stdout",
     "output_type": "stream",
     "text": [
      "b''\n",
      "bytearray(b'\\x02\\xff\\x00')\n",
      "send  bytearray(b'\\xfa\\xaf\\x08\\x0b\\x02\\xff\\x00\\xbd')\n",
      "answer  bytearray(b'\\xfa\\xfa\\x07\\x0bOK\\xa0')\n"
     ]
    },
    {
     "data": {
      "text/plain": [
       "(79, 75)"
      ]
     },
     "execution_count": 169,
     "metadata": {},
     "output_type": "execute_result"
    }
   ],
   "source": [
    "# Move servo of particular id (first parameter), to specified angle (second parameter) \n",
    "servoId = 2\n",
    "angle = 255\n",
    "protocol.send_command(0x0b, [servoId, angle])"
   ]
  },
  {
   "cell_type": "code",
   "execution_count": 168,
   "metadata": {},
   "outputs": [
    {
     "name": "stdout",
     "output_type": "stream",
     "text": [
      "b''\n",
      "bytearray(b'\\x02')\n",
      "send  bytearray(b'\\xfa\\xaf\\x06\\x0c\\x02\\xbd')\n",
      "answer  bytearray(b'\\xfa\\xfa\\t\\x0c\\x00\\x00\\x00\\x00\\t')\n"
     ]
    },
    {
     "data": {
      "text/plain": [
       "(0.0,)"
      ]
     },
     "execution_count": 168,
     "metadata": {},
     "output_type": "execute_result"
    }
   ],
   "source": [
    "# Get angle of particular servo\n",
    "servoId = 2\n",
    "protocol.send_command(0x0c, [servoId])"
   ]
  },
  {
   "cell_type": "code",
   "execution_count": null,
   "metadata": {
    "collapsed": true
   },
   "outputs": [],
   "source": [
    "# Turn on/off forward kinematics calculations\n",
    "status = 1\n",
    "protocol.send_command(0x0D, [status])"
   ]
  },
  {
   "cell_type": "code",
   "execution_count": null,
   "metadata": {
    "collapsed": true
   },
   "outputs": [],
   "source": [
    "# Get status\n",
    "protocol.send_command(0xa0, [1, 1, 1])"
   ]
  },
  {
   "cell_type": "code",
   "execution_count": 81,
   "metadata": {
    "collapsed": true
   },
   "outputs": [],
   "source": [
    "# Parameters for right manipulator\n",
    "rightSliderId = 1\n",
    "rightGripperId = 16\n",
    "\n",
    "rightSliderUpPos = 45\n",
    "rightSliderBotPos = 300\n",
    "rightGripperOpened = 40\n",
    "rightGripperClosed = 150"
   ]
  },
  {
   "cell_type": "code",
   "execution_count": 158,
   "metadata": {},
   "outputs": [
    {
     "name": "stdout",
     "output_type": "stream",
     "text": [
      "b''\n",
      "bytearray(b'\\x10(\\x00')\n",
      "send  bytearray(b'\\xfa\\xaf\\x08\\x0b\\x10(\\x00\\xf4')\n",
      "answer  bytearray(b'\\xfa\\xfa\\x07\\x0bOK\\xa0')\n",
      "b''\n",
      "bytearray(b'\\x01,\\x01')\n",
      "send  bytearray(b'\\xfa\\xaf\\x08\\x0b\\x01,\\x01\\xea')\n",
      "answer  bytearray(b'\\xfa\\xfa\\x07\\x0bOK\\xa0')\n"
     ]
    },
    {
     "data": {
      "text/plain": [
       "(79, 75)"
      ]
     },
     "execution_count": 158,
     "metadata": {},
     "output_type": "execute_result"
    }
   ],
   "source": [
    "# Open and lower manipulator\n",
    "protocol.send_command(0x0b, [rightGripperId, rightGripperOpened])\n",
    "time.sleep(0.5)\n",
    "protocol.send_command(0x0b, [rightSliderId, rightSliderBotPos])"
   ]
  },
  {
   "cell_type": "code",
   "execution_count": 159,
   "metadata": {},
   "outputs": [
    {
     "name": "stdout",
     "output_type": "stream",
     "text": [
      "b''\n",
      "bytearray(b'\\x10\\x96\\x00')\n",
      "send  bytearray(b'\\xfa\\xaf\\x08\\x0b\\x10\\x96\\x00b')\n",
      "answer  bytearray(b'\\xfa\\xfa\\x07\\x0bOK\\xa0')\n",
      "b''\n",
      "bytearray(b'\\x01-\\x00')\n",
      "send  bytearray(b'\\xfa\\xaf\\x08\\x0b\\x01-\\x00\\xea')\n",
      "answer  bytearray(b'\\xfa\\xfa\\x07\\x0bOK\\xa0')\n"
     ]
    },
    {
     "data": {
      "text/plain": [
       "(79, 75)"
      ]
     },
     "execution_count": 159,
     "metadata": {},
     "output_type": "execute_result"
    }
   ],
   "source": [
    "# Close and lift manipulator\n",
    "protocol.send_command(0x0b, [rightGripperId, rightGripperClosed])\n",
    "time.sleep(0.5)\n",
    "protocol.send_command(0x0b, [rightSliderId, rightSliderUpPos])"
   ]
  },
  {
   "cell_type": "code",
   "execution_count": 160,
   "metadata": {},
   "outputs": [
    {
     "name": "stdout",
     "output_type": "stream",
     "text": [
      "b''\n",
      "bytearray(b'\\x10(\\x00')\n",
      "send  bytearray(b'\\xfa\\xaf\\x08\\x0b\\x10(\\x00\\xf4')\n",
      "answer  bytearray(b'\\xfa\\xfa\\x07\\x0bOK\\xa0')\n",
      "b''\n",
      "bytearray(b'\\x01,\\x01')\n",
      "send  bytearray(b'\\xfa\\xaf\\x08\\x0b\\x01,\\x01\\xea')\n",
      "answer  bytearray(b'\\xfa\\xfa\\x07\\x0bOK\\xa0')\n"
     ]
    },
    {
     "data": {
      "text/plain": [
       "(79, 75)"
      ]
     },
     "execution_count": 160,
     "metadata": {},
     "output_type": "execute_result"
    }
   ],
   "source": [
    "# Open and lower manipulator\n",
    "protocol.send_command(0x0b, [rightGripperId, rightGripperOpened])\n",
    "time.sleep(0.5)\n",
    "protocol.send_command(0x0b, [rightSliderId, rightSliderBotPos])"
   ]
  },
  {
   "cell_type": "code",
   "execution_count": 161,
   "metadata": {},
   "outputs": [
    {
     "name": "stdout",
     "output_type": "stream",
     "text": [
      "b''\n",
      "bytearray(b'\\x10\\x96\\x00')\n",
      "send  bytearray(b'\\xfa\\xaf\\x08\\x0b\\x10\\x96\\x00b')\n",
      "answer  bytearray(b'\\xfa\\xfa\\x07\\x0bOK\\xa0')\n",
      "b''\n",
      "bytearray(b'\\x01-\\x00')\n",
      "send  bytearray(b'\\xfa\\xaf\\x08\\x0b\\x01-\\x00\\xea')\n",
      "answer  bytearray(b'\\xfa\\xfa\\x07\\x0bOK\\xa0')\n"
     ]
    },
    {
     "data": {
      "text/plain": [
       "(79, 75)"
      ]
     },
     "execution_count": 161,
     "metadata": {},
     "output_type": "execute_result"
    }
   ],
   "source": [
    "# Close and lift manipulator\n",
    "protocol.send_command(0x0b, [rightGripperId, rightGripperClosed])\n",
    "time.sleep(0.5)\n",
    "protocol.send_command(0x0b, [rightSliderId, rightSliderUpPos])"
   ]
  },
  {
   "cell_type": "code",
   "execution_count": 162,
   "metadata": {},
   "outputs": [
    {
     "name": "stdout",
     "output_type": "stream",
     "text": [
      "b''\n",
      "bytearray(b'\\x10(\\x00')\n",
      "send  bytearray(b'\\xfa\\xaf\\x08\\x0b\\x10(\\x00\\xf4')\n",
      "answer  bytearray(b'\\xfa\\xfa\\x07\\x0bOK\\xa0')\n",
      "b''\n",
      "bytearray(b'\\x01,\\x01')\n",
      "send  bytearray(b'\\xfa\\xaf\\x08\\x0b\\x01,\\x01\\xea')\n",
      "answer  bytearray(b'\\xfa\\xfa\\x07\\x0bOK\\xa0')\n"
     ]
    },
    {
     "data": {
      "text/plain": [
       "(79, 75)"
      ]
     },
     "execution_count": 162,
     "metadata": {},
     "output_type": "execute_result"
    }
   ],
   "source": [
    "# Open and lower manipulator\n",
    "protocol.send_command(0x0b, [rightGripperId, rightGripperOpened])\n",
    "time.sleep(0.5)\n",
    "protocol.send_command(0x0b, [rightSliderId, rightSliderBotPos])"
   ]
  },
  {
   "cell_type": "code",
   "execution_count": 167,
   "metadata": {},
   "outputs": [
    {
     "name": "stdout",
     "output_type": "stream",
     "text": [
      "b''\n",
      "bytearray(b'\\x10\\x96\\x00')\n",
      "send  bytearray(b'\\xfa\\xaf\\x08\\x0b\\x10\\x96\\x00b')\n",
      "answer  bytearray(b'\\xfa\\xfa\\x07\\x0bOK\\xa0')\n",
      "b''\n",
      "bytearray(b'\\x01-\\x00')\n",
      "send  bytearray(b'\\xfa\\xaf\\x08\\x0b\\x01-\\x00\\xea')\n",
      "answer  bytearray(b'\\xfa\\xfa\\x07\\x0bOK\\xa0')\n"
     ]
    },
    {
     "data": {
      "text/plain": [
       "(79, 75)"
      ]
     },
     "execution_count": 167,
     "metadata": {},
     "output_type": "execute_result"
    }
   ],
   "source": [
    "# Close and lift manipulator\n",
    "protocol.send_command(0x0b, [rightGripperId, rightGripperClosed])\n",
    "time.sleep(0.5)\n",
    "protocol.send_command(0x0b, [rightSliderId, rightSliderUpPos])"
   ]
  },
  {
   "cell_type": "code",
   "execution_count": 166,
   "metadata": {},
   "outputs": [
    {
     "name": "stdout",
     "output_type": "stream",
     "text": [
      "b''\n",
      "bytearray(b'\\x01,\\x01')\n",
      "send  bytearray(b'\\xfa\\xaf\\x08\\x0b\\x01,\\x01\\xea')\n",
      "answer  bytearray(b'\\xfa\\xfa\\x07\\x0bOK\\xa0')\n",
      "b''\n",
      "bytearray(b'\\x10(\\x00')\n",
      "send  bytearray(b'\\xfa\\xaf\\x08\\x0b\\x10(\\x00\\xf4')\n",
      "answer  bytearray(b'\\xfa\\xfa\\x07\\x0bOK\\xa0')\n"
     ]
    },
    {
     "data": {
      "text/plain": [
       "(79, 75)"
      ]
     },
     "execution_count": 166,
     "metadata": {},
     "output_type": "execute_result"
    }
   ],
   "source": [
    "# Lower and open\n",
    "protocol.send_command(0x0b, [rightSliderId, rightSliderBotPos])\n",
    "time.sleep(1)\n",
    "protocol.send_command(0x0b, [rightGripperId, rightGripperOpened])"
   ]
  },
  {
   "cell_type": "code",
   "execution_count": null,
   "metadata": {
    "collapsed": true
   },
   "outputs": [],
   "source": [
    "Vx = 0.0\n",
    "Vy = 0.0\n",
    "Wz = 3.1415926/2\n",
    "protocol.send_command(0x08, [Vx, Vy, Wz])\n",
    "\n",
    "time.sleep(3.3)\n",
    "\n",
    "Vx = 0.0\n",
    "Vy = 0.0\n",
    "Wz = 0.0\n",
    "protocol.send_command(0x08, [Vx, Vy, Wz])\n",
    "\n",
    "time.sleep(0.3)\n",
    "\n",
    "Vx = 0.0\n",
    "Vy = 0.1\n",
    "Wz = 0.0\n",
    "protocol.send_command(0x08, [Vx, Vy, Wz])\n",
    "\n",
    "time.sleep(4)\n",
    "\n",
    "Vx = 0.0\n",
    "Vy = 0.0\n",
    "Wz = 0.0\n",
    "protocol.send_command(0x08, [Vx, Vy, Wz])\n",
    "\n",
    "time.sleep(0.3)\n",
    "\n",
    "Vx = 0.1\n",
    "Vy = 0.0\n",
    "Wz = 0.0\n",
    "protocol.send_command(0x08, [Vx, Vy, Wz])\n",
    "\n",
    "time.sleep(4)\n",
    "\n",
    "Vx = 0.0\n",
    "Vy = 0.0\n",
    "Wz = 0.0\n",
    "protocol.send_command(0x08, [Vx, Vy, Wz])\n",
    "\n",
    "time.sleep(0.3)\n",
    "\n",
    "Vx = -0.1\n",
    "Vy = -0.1\n",
    "Wz = 0.0\n",
    "protocol.send_command(0x08, [Vx, Vy, Wz])\n",
    "\n",
    "time.sleep(4)\n",
    "\n",
    "Vx = 0.0\n",
    "Vy = 0.0\n",
    "Wz = 0.0\n",
    "protocol.send_command(0x08, [Vx, Vy, Wz])"
   ]
  }
 ],
 "metadata": {
  "kernelspec": {
   "display_name": "Python 3",
   "language": "python",
   "name": "python3"
  },
  "language_info": {
   "codemirror_mode": {
    "name": "ipython",
    "version": 3
   },
   "file_extension": ".py",
   "mimetype": "text/x-python",
   "name": "python",
   "nbconvert_exporter": "python",
   "pygments_lexer": "ipython3",
   "version": "3.6.2"
  },
  "toc": {
   "nav_menu": {},
   "number_sections": true,
   "sideBar": true,
   "skip_h1_title": false,
   "toc_cell": false,
   "toc_position": {},
   "toc_section_display": "block",
   "toc_window_display": false
  },
  "varInspector": {
   "cols": {
    "lenName": 16,
    "lenType": 16,
    "lenVar": 40
   },
   "kernels_config": {
    "python": {
     "delete_cmd_postfix": "",
     "delete_cmd_prefix": "del ",
     "library": "var_list.py",
     "varRefreshCmd": "print(var_dic_list())"
    },
    "r": {
     "delete_cmd_postfix": ") ",
     "delete_cmd_prefix": "rm(",
     "library": "var_list.r",
     "varRefreshCmd": "cat(var_dic_list()) "
    }
   },
   "types_to_exclude": [
    "module",
    "function",
    "builtin_function_or_method",
    "instance",
    "_Feature"
   ],
   "window_display": false
  }
 },
 "nbformat": 4,
 "nbformat_minor": 2
}
