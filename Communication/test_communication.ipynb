{
 "cells": [
  {
   "cell_type": "markdown",
   "metadata": {},
   "source": [
    "# Protocol definition"
   ]
  },
  {
   "cell_type": "code",
   "execution_count": 1,
   "metadata": {
    "collapsed": true
   },
   "outputs": [],
   "source": [
    "# %load STMprotocol.py\n",
    "import serial\n",
    "import struct\n",
    "import datetime\n",
    "import time\n",
    "\n",
    "class STMprotocol:\n",
    "    def __init__(self, serial_port):\n",
    "        self.ser = serial.Serial(serial_port, 64000, timeout=0.2)\n",
    "        self.pack_format = {\n",
    "            0x01: \"=BBBB\",\n",
    "            0x03: \"=Bf\",\n",
    "            0x04: \"=B\",\n",
    "            0x05: \"=B\",\n",
    "            0x06: \"=Bffff\",\n",
    "            0x07: \"=B\",\n",
    "            0x08: \"=fff\",\n",
    "            0x09: \"=\",\n",
    "            0x0a: \"=\",\n",
    "            0x0b: \"=BH\",\n",
    "            0x0c: \"=B\",\n",
    "            0x0d: \"=B\",\n",
    "            0x0e: \"=fff\",\n",
    "            0x0f: \"=\",            \n",
    "            0xa0: \"=fff\",\n",
    "            0xa1: \"=fff\",\n",
    "            0xb0: \"=B\",\n",
    "            0xb1: \"=B\",\n",
    "            0xa2: \"=ffffff\",\n",
    "\n",
    "        }\n",
    "\n",
    "        self.unpack_format = {\n",
    "            0x01: \"=BBBB\",\n",
    "            0x03: \"=BB\",\n",
    "            0x04: \"=BB\",\n",
    "            0x05: \"=BB\",\n",
    "            0x06: \"=BB\",\n",
    "            0x07: \"=ffff\",\n",
    "            0x08: \"=BB\",\n",
    "            0x09: \"=fff\",\n",
    "            0x0a: \"=fff\",\n",
    "            0x0b: \"=BB\",\n",
    "            0x0c: \"=f\",\n",
    "            0x0d: \"=BB\",\n",
    "            0x0e: \"=BB\",\n",
    "            0x0f: \"=fff\",\n",
    "            0xa0: \"=Bfff\",\n",
    "            0xa1: \"=BB\",\n",
    "            0xb0: \"=BB\",\n",
    "            0xb1: \"=BB\",\n",
    "            0xa2: \"=BB\",\n",
    "        }\n",
    "\n",
    "    def send_command(self, cmd, args):\n",
    "        # Clear buffer\n",
    "        print(self.ser.read(self.ser.in_waiting))\n",
    "        \n",
    "        parameters = bytearray(struct.pack(self.pack_format[cmd], *args))\n",
    "        print(parameters)\n",
    "        msg_len = len(parameters) + 5\n",
    "        msg = bytearray([0xfa, 0xaf, msg_len, cmd]) + parameters\n",
    "        crc = sum(msg) % 256\n",
    "        msg += bytearray([crc])\n",
    "\n",
    "        print(\"send \", repr(msg))\n",
    "        self.ser.write(msg)\n",
    "\n",
    "        start_time = datetime.datetime.now()\n",
    "        time_threshold = datetime.timedelta(seconds=1)\n",
    "        dt = start_time - start_time\n",
    "        \n",
    "        time.sleep(0.001)\n",
    "        data = self.ser.read()[0]\n",
    "        while (data != 0xfa) and (dt < time_threshold):\n",
    "            data = self.ser.read()[0]\n",
    "\n",
    "            current_time = datetime.datetime.now()\n",
    "            dt = start_time - current_time\n",
    "\n",
    "        adr = self.ser.read()[0]\n",
    "        answer_len = self.ser.read()[0]\n",
    "        answer = bytearray(self.ser.read(answer_len - 3))\n",
    "        print(\"answer \", repr(bytearray([data, adr, answer_len]) + answer))\n",
    "\n",
    "        args = struct.unpack(self.unpack_format[cmd], answer[1:-1])\n",
    "        return args\n"
   ]
  },
  {
   "cell_type": "markdown",
   "metadata": {},
   "source": [
    "# Function of animation of output data"
   ]
  },
  {
   "cell_type": "code",
   "execution_count": 2,
   "metadata": {
    "collapsed": true,
    "run_control": {
     "marked": true
    }
   },
   "outputs": [],
   "source": [
    "import matplotlib.pyplot as plt\n",
    "from matplotlib.animation import FuncAnimation\n",
    "%matplotlib notebook\n",
    "class Output_ploter(object):\n",
    "    def __init__(self):\n",
    "        self.xdata = []\n",
    "        self.ydata = []\n",
    "    def time_plot(self, protocol, cmd, args, param, time_duration=10):\n",
    "        def generate_data():\n",
    "            while(1): \n",
    "                res = protocol.send_command(cmd, args)\n",
    "                yield res\n",
    "\n",
    "        fig, ax = plt.subplots()\n",
    "        ln, = ax.plot([])\n",
    "        start_time = time.time()\n",
    "        def init():\n",
    "            ax.set_xlim(0, time_duration)\n",
    "            return ln, \n",
    "\n",
    "        def update(frame):\n",
    "            self.xdata.append(time.time() - start_time)\n",
    "            self.ydata.append(frame[param])\n",
    "            ln.set_data(self.xdata, self.ydata)\n",
    "            if time_duration < self.xdata[-1]:\n",
    "                ax.set_xlim(self.xdata[-1] - time_duration, self.xdata[-1])\n",
    "            ax.set_ylim(min(self.ydata), max(self.ydata))\n",
    "            return ln, \n",
    "        ani = FuncAnimation(fig, update, frames=generate_data(),\n",
    "                        init_func=init, blit=True, interval=25)\n",
    "        return ani\n",
    "    def xy_plot(self, protocol, cmd, args, params, time_duration=10):\n",
    "        def generate_data():\n",
    "            while(1): \n",
    "                res = protocol.send_command(cmd, args)\n",
    "                yield res\n",
    "\n",
    "        fig, ax = plt.subplots()\n",
    "        ln, = ax.plot([])\n",
    "        start_time = time.time()\n",
    "        def init():\n",
    "            ax.set_xlim(0, time_duration)\n",
    "            return ln, \n",
    "\n",
    "        def update(frame):\n",
    "            self.xdata.append(frame[params[0]])\n",
    "            self.ydata.append(frame[params[1]])\n",
    "            ln.set_data(self.xdata, self.ydata)\n",
    "            ax.set_xlim(min(self.xdata), max(self.xdata))\n",
    "            ax.set_ylim(min(self.ydata), max(self.ydata))\n",
    "            return ln, \n",
    "        ani = FuncAnimation(fig, update, frames=generate_data(),\n",
    "                        init_func=init, blit=True, interval=25)\n",
    "        return ani\n",
    "    def qxy_plot(self, protocol, cmd, args, params, time_duration=10):\n",
    "        def generate_data():\n",
    "            while(1): \n",
    "                res = protocol.send_command(cmd, args)\n",
    "                yield res\n",
    "\n",
    "        fig, ax = plt.subplots()\n",
    "        ln, = ax.plot([])\n",
    "        start_time = time.time()\n",
    "        def init():\n",
    "            ax.set_xlim(0, time_duration)\n",
    "            return ln, \n",
    "\n",
    "        def update(frame):\n",
    "            self.xdata.append(frame[params[0]])\n",
    "            self.ydata.append(frame[params[1]])\n",
    "            ln.set_data(self.xdata, self.ydata)\n",
    "            ax.set_xlim(min(self.xdata), max(self.xdata))\n",
    "            ax.set_ylim(min(self.ydata), max(self.ydata))\n",
    "            return ln, \n",
    "        ani = FuncAnimation(fig, update, frames=generate_data(),\n",
    "                        init_func=init, blit=True, interval=25)\n",
    "        return ani"
   ]
  },
  {
   "cell_type": "markdown",
   "metadata": {},
   "source": [
    "# Work with STM"
   ]
  },
  {
   "cell_type": "markdown",
   "metadata": {},
   "source": [
    "## Start protocol"
   ]
  },
  {
   "cell_type": "code",
   "execution_count": 139,
   "metadata": {
    "collapsed": true
   },
   "outputs": [],
   "source": [
    "protocol = STMprotocol(\"COM5\")"
   ]
  },
  {
   "cell_type": "code",
   "execution_count": 138,
   "metadata": {
    "collapsed": true
   },
   "outputs": [],
   "source": [
    "protocol.ser.close()"
   ]
  },
  {
   "cell_type": "markdown",
   "metadata": {},
   "source": [
    "## Test echo"
   ]
  },
  {
   "cell_type": "code",
   "execution_count": 140,
   "metadata": {},
   "outputs": [
    {
     "name": "stdout",
     "output_type": "stream",
     "text": [
      "b''\n",
      "bytearray(b'ECHO')\n",
      "send  bytearray(b'\\xfa\\xaf\\t\\x01ECHO\\xd2')\n",
      "answer  bytearray(b'\\xfa\\xfa\\t\\x01ECHO\\x1d')\n"
     ]
    },
    {
     "data": {
      "text/plain": [
       "(69, 67, 72, 79)"
      ]
     },
     "execution_count": 140,
     "metadata": {},
     "output_type": "execute_result"
    }
   ],
   "source": [
    "# Echo\n",
    "protocol.send_command(0x01, [ord(c) for c in 'ECHO'])"
   ]
  },
  {
   "cell_type": "markdown",
   "metadata": {},
   "source": [
    "## On-line plotting of output data"
   ]
  },
  {
   "cell_type": "markdown",
   "metadata": {},
   "source": [
    "## Time plotter"
   ]
  },
  {
   "cell_type": "code",
   "execution_count": 5,
   "metadata": {
    "run_control": {
     "marked": true
    }
   },
   "outputs": [
    {
     "data": {
      "application/javascript": [
       "/* Put everything inside the global mpl namespace */\n",
       "window.mpl = {};\n",
       "\n",
       "\n",
       "mpl.get_websocket_type = function() {\n",
       "    if (typeof(WebSocket) !== 'undefined') {\n",
       "        return WebSocket;\n",
       "    } else if (typeof(MozWebSocket) !== 'undefined') {\n",
       "        return MozWebSocket;\n",
       "    } else {\n",
       "        alert('Your browser does not have WebSocket support.' +\n",
       "              'Please try Chrome, Safari or Firefox ≥ 6. ' +\n",
       "              'Firefox 4 and 5 are also supported but you ' +\n",
       "              'have to enable WebSockets in about:config.');\n",
       "    };\n",
       "}\n",
       "\n",
       "mpl.figure = function(figure_id, websocket, ondownload, parent_element) {\n",
       "    this.id = figure_id;\n",
       "\n",
       "    this.ws = websocket;\n",
       "\n",
       "    this.supports_binary = (this.ws.binaryType != undefined);\n",
       "\n",
       "    if (!this.supports_binary) {\n",
       "        var warnings = document.getElementById(\"mpl-warnings\");\n",
       "        if (warnings) {\n",
       "            warnings.style.display = 'block';\n",
       "            warnings.textContent = (\n",
       "                \"This browser does not support binary websocket messages. \" +\n",
       "                    \"Performance may be slow.\");\n",
       "        }\n",
       "    }\n",
       "\n",
       "    this.imageObj = new Image();\n",
       "\n",
       "    this.context = undefined;\n",
       "    this.message = undefined;\n",
       "    this.canvas = undefined;\n",
       "    this.rubberband_canvas = undefined;\n",
       "    this.rubberband_context = undefined;\n",
       "    this.format_dropdown = undefined;\n",
       "\n",
       "    this.image_mode = 'full';\n",
       "\n",
       "    this.root = $('<div/>');\n",
       "    this._root_extra_style(this.root)\n",
       "    this.root.attr('style', 'display: inline-block');\n",
       "\n",
       "    $(parent_element).append(this.root);\n",
       "\n",
       "    this._init_header(this);\n",
       "    this._init_canvas(this);\n",
       "    this._init_toolbar(this);\n",
       "\n",
       "    var fig = this;\n",
       "\n",
       "    this.waiting = false;\n",
       "\n",
       "    this.ws.onopen =  function () {\n",
       "            fig.send_message(\"supports_binary\", {value: fig.supports_binary});\n",
       "            fig.send_message(\"send_image_mode\", {});\n",
       "            if (mpl.ratio != 1) {\n",
       "                fig.send_message(\"set_dpi_ratio\", {'dpi_ratio': mpl.ratio});\n",
       "            }\n",
       "            fig.send_message(\"refresh\", {});\n",
       "        }\n",
       "\n",
       "    this.imageObj.onload = function() {\n",
       "            if (fig.image_mode == 'full') {\n",
       "                // Full images could contain transparency (where diff images\n",
       "                // almost always do), so we need to clear the canvas so that\n",
       "                // there is no ghosting.\n",
       "                fig.context.clearRect(0, 0, fig.canvas.width, fig.canvas.height);\n",
       "            }\n",
       "            fig.context.drawImage(fig.imageObj, 0, 0);\n",
       "        };\n",
       "\n",
       "    this.imageObj.onunload = function() {\n",
       "        fig.ws.close();\n",
       "    }\n",
       "\n",
       "    this.ws.onmessage = this._make_on_message_function(this);\n",
       "\n",
       "    this.ondownload = ondownload;\n",
       "}\n",
       "\n",
       "mpl.figure.prototype._init_header = function() {\n",
       "    var titlebar = $(\n",
       "        '<div class=\"ui-dialog-titlebar ui-widget-header ui-corner-all ' +\n",
       "        'ui-helper-clearfix\"/>');\n",
       "    var titletext = $(\n",
       "        '<div class=\"ui-dialog-title\" style=\"width: 100%; ' +\n",
       "        'text-align: center; padding: 3px;\"/>');\n",
       "    titlebar.append(titletext)\n",
       "    this.root.append(titlebar);\n",
       "    this.header = titletext[0];\n",
       "}\n",
       "\n",
       "\n",
       "\n",
       "mpl.figure.prototype._canvas_extra_style = function(canvas_div) {\n",
       "\n",
       "}\n",
       "\n",
       "\n",
       "mpl.figure.prototype._root_extra_style = function(canvas_div) {\n",
       "\n",
       "}\n",
       "\n",
       "mpl.figure.prototype._init_canvas = function() {\n",
       "    var fig = this;\n",
       "\n",
       "    var canvas_div = $('<div/>');\n",
       "\n",
       "    canvas_div.attr('style', 'position: relative; clear: both; outline: 0');\n",
       "\n",
       "    function canvas_keyboard_event(event) {\n",
       "        return fig.key_event(event, event['data']);\n",
       "    }\n",
       "\n",
       "    canvas_div.keydown('key_press', canvas_keyboard_event);\n",
       "    canvas_div.keyup('key_release', canvas_keyboard_event);\n",
       "    this.canvas_div = canvas_div\n",
       "    this._canvas_extra_style(canvas_div)\n",
       "    this.root.append(canvas_div);\n",
       "\n",
       "    var canvas = $('<canvas/>');\n",
       "    canvas.addClass('mpl-canvas');\n",
       "    canvas.attr('style', \"left: 0; top: 0; z-index: 0; outline: 0\")\n",
       "\n",
       "    this.canvas = canvas[0];\n",
       "    this.context = canvas[0].getContext(\"2d\");\n",
       "\n",
       "    var backingStore = this.context.backingStorePixelRatio ||\n",
       "\tthis.context.webkitBackingStorePixelRatio ||\n",
       "\tthis.context.mozBackingStorePixelRatio ||\n",
       "\tthis.context.msBackingStorePixelRatio ||\n",
       "\tthis.context.oBackingStorePixelRatio ||\n",
       "\tthis.context.backingStorePixelRatio || 1;\n",
       "\n",
       "    mpl.ratio = (window.devicePixelRatio || 1) / backingStore;\n",
       "\n",
       "    var rubberband = $('<canvas/>');\n",
       "    rubberband.attr('style', \"position: absolute; left: 0; top: 0; z-index: 1;\")\n",
       "\n",
       "    var pass_mouse_events = true;\n",
       "\n",
       "    canvas_div.resizable({\n",
       "        start: function(event, ui) {\n",
       "            pass_mouse_events = false;\n",
       "        },\n",
       "        resize: function(event, ui) {\n",
       "            fig.request_resize(ui.size.width, ui.size.height);\n",
       "        },\n",
       "        stop: function(event, ui) {\n",
       "            pass_mouse_events = true;\n",
       "            fig.request_resize(ui.size.width, ui.size.height);\n",
       "        },\n",
       "    });\n",
       "\n",
       "    function mouse_event_fn(event) {\n",
       "        if (pass_mouse_events)\n",
       "            return fig.mouse_event(event, event['data']);\n",
       "    }\n",
       "\n",
       "    rubberband.mousedown('button_press', mouse_event_fn);\n",
       "    rubberband.mouseup('button_release', mouse_event_fn);\n",
       "    // Throttle sequential mouse events to 1 every 20ms.\n",
       "    rubberband.mousemove('motion_notify', mouse_event_fn);\n",
       "\n",
       "    rubberband.mouseenter('figure_enter', mouse_event_fn);\n",
       "    rubberband.mouseleave('figure_leave', mouse_event_fn);\n",
       "\n",
       "    canvas_div.on(\"wheel\", function (event) {\n",
       "        event = event.originalEvent;\n",
       "        event['data'] = 'scroll'\n",
       "        if (event.deltaY < 0) {\n",
       "            event.step = 1;\n",
       "        } else {\n",
       "            event.step = -1;\n",
       "        }\n",
       "        mouse_event_fn(event);\n",
       "    });\n",
       "\n",
       "    canvas_div.append(canvas);\n",
       "    canvas_div.append(rubberband);\n",
       "\n",
       "    this.rubberband = rubberband;\n",
       "    this.rubberband_canvas = rubberband[0];\n",
       "    this.rubberband_context = rubberband[0].getContext(\"2d\");\n",
       "    this.rubberband_context.strokeStyle = \"#000000\";\n",
       "\n",
       "    this._resize_canvas = function(width, height) {\n",
       "        // Keep the size of the canvas, canvas container, and rubber band\n",
       "        // canvas in synch.\n",
       "        canvas_div.css('width', width)\n",
       "        canvas_div.css('height', height)\n",
       "\n",
       "        canvas.attr('width', width * mpl.ratio);\n",
       "        canvas.attr('height', height * mpl.ratio);\n",
       "        canvas.attr('style', 'width: ' + width + 'px; height: ' + height + 'px;');\n",
       "\n",
       "        rubberband.attr('width', width);\n",
       "        rubberband.attr('height', height);\n",
       "    }\n",
       "\n",
       "    // Set the figure to an initial 600x600px, this will subsequently be updated\n",
       "    // upon first draw.\n",
       "    this._resize_canvas(600, 600);\n",
       "\n",
       "    // Disable right mouse context menu.\n",
       "    $(this.rubberband_canvas).bind(\"contextmenu\",function(e){\n",
       "        return false;\n",
       "    });\n",
       "\n",
       "    function set_focus () {\n",
       "        canvas.focus();\n",
       "        canvas_div.focus();\n",
       "    }\n",
       "\n",
       "    window.setTimeout(set_focus, 100);\n",
       "}\n",
       "\n",
       "mpl.figure.prototype._init_toolbar = function() {\n",
       "    var fig = this;\n",
       "\n",
       "    var nav_element = $('<div/>')\n",
       "    nav_element.attr('style', 'width: 100%');\n",
       "    this.root.append(nav_element);\n",
       "\n",
       "    // Define a callback function for later on.\n",
       "    function toolbar_event(event) {\n",
       "        return fig.toolbar_button_onclick(event['data']);\n",
       "    }\n",
       "    function toolbar_mouse_event(event) {\n",
       "        return fig.toolbar_button_onmouseover(event['data']);\n",
       "    }\n",
       "\n",
       "    for(var toolbar_ind in mpl.toolbar_items) {\n",
       "        var name = mpl.toolbar_items[toolbar_ind][0];\n",
       "        var tooltip = mpl.toolbar_items[toolbar_ind][1];\n",
       "        var image = mpl.toolbar_items[toolbar_ind][2];\n",
       "        var method_name = mpl.toolbar_items[toolbar_ind][3];\n",
       "\n",
       "        if (!name) {\n",
       "            // put a spacer in here.\n",
       "            continue;\n",
       "        }\n",
       "        var button = $('<button/>');\n",
       "        button.addClass('ui-button ui-widget ui-state-default ui-corner-all ' +\n",
       "                        'ui-button-icon-only');\n",
       "        button.attr('role', 'button');\n",
       "        button.attr('aria-disabled', 'false');\n",
       "        button.click(method_name, toolbar_event);\n",
       "        button.mouseover(tooltip, toolbar_mouse_event);\n",
       "\n",
       "        var icon_img = $('<span/>');\n",
       "        icon_img.addClass('ui-button-icon-primary ui-icon');\n",
       "        icon_img.addClass(image);\n",
       "        icon_img.addClass('ui-corner-all');\n",
       "\n",
       "        var tooltip_span = $('<span/>');\n",
       "        tooltip_span.addClass('ui-button-text');\n",
       "        tooltip_span.html(tooltip);\n",
       "\n",
       "        button.append(icon_img);\n",
       "        button.append(tooltip_span);\n",
       "\n",
       "        nav_element.append(button);\n",
       "    }\n",
       "\n",
       "    var fmt_picker_span = $('<span/>');\n",
       "\n",
       "    var fmt_picker = $('<select/>');\n",
       "    fmt_picker.addClass('mpl-toolbar-option ui-widget ui-widget-content');\n",
       "    fmt_picker_span.append(fmt_picker);\n",
       "    nav_element.append(fmt_picker_span);\n",
       "    this.format_dropdown = fmt_picker[0];\n",
       "\n",
       "    for (var ind in mpl.extensions) {\n",
       "        var fmt = mpl.extensions[ind];\n",
       "        var option = $(\n",
       "            '<option/>', {selected: fmt === mpl.default_extension}).html(fmt);\n",
       "        fmt_picker.append(option)\n",
       "    }\n",
       "\n",
       "    // Add hover states to the ui-buttons\n",
       "    $( \".ui-button\" ).hover(\n",
       "        function() { $(this).addClass(\"ui-state-hover\");},\n",
       "        function() { $(this).removeClass(\"ui-state-hover\");}\n",
       "    );\n",
       "\n",
       "    var status_bar = $('<span class=\"mpl-message\"/>');\n",
       "    nav_element.append(status_bar);\n",
       "    this.message = status_bar[0];\n",
       "}\n",
       "\n",
       "mpl.figure.prototype.request_resize = function(x_pixels, y_pixels) {\n",
       "    // Request matplotlib to resize the figure. Matplotlib will then trigger a resize in the client,\n",
       "    // which will in turn request a refresh of the image.\n",
       "    this.send_message('resize', {'width': x_pixels, 'height': y_pixels});\n",
       "}\n",
       "\n",
       "mpl.figure.prototype.send_message = function(type, properties) {\n",
       "    properties['type'] = type;\n",
       "    properties['figure_id'] = this.id;\n",
       "    this.ws.send(JSON.stringify(properties));\n",
       "}\n",
       "\n",
       "mpl.figure.prototype.send_draw_message = function() {\n",
       "    if (!this.waiting) {\n",
       "        this.waiting = true;\n",
       "        this.ws.send(JSON.stringify({type: \"draw\", figure_id: this.id}));\n",
       "    }\n",
       "}\n",
       "\n",
       "\n",
       "mpl.figure.prototype.handle_save = function(fig, msg) {\n",
       "    var format_dropdown = fig.format_dropdown;\n",
       "    var format = format_dropdown.options[format_dropdown.selectedIndex].value;\n",
       "    fig.ondownload(fig, format);\n",
       "}\n",
       "\n",
       "\n",
       "mpl.figure.prototype.handle_resize = function(fig, msg) {\n",
       "    var size = msg['size'];\n",
       "    if (size[0] != fig.canvas.width || size[1] != fig.canvas.height) {\n",
       "        fig._resize_canvas(size[0], size[1]);\n",
       "        fig.send_message(\"refresh\", {});\n",
       "    };\n",
       "}\n",
       "\n",
       "mpl.figure.prototype.handle_rubberband = function(fig, msg) {\n",
       "    var x0 = msg['x0'] / mpl.ratio;\n",
       "    var y0 = (fig.canvas.height - msg['y0']) / mpl.ratio;\n",
       "    var x1 = msg['x1'] / mpl.ratio;\n",
       "    var y1 = (fig.canvas.height - msg['y1']) / mpl.ratio;\n",
       "    x0 = Math.floor(x0) + 0.5;\n",
       "    y0 = Math.floor(y0) + 0.5;\n",
       "    x1 = Math.floor(x1) + 0.5;\n",
       "    y1 = Math.floor(y1) + 0.5;\n",
       "    var min_x = Math.min(x0, x1);\n",
       "    var min_y = Math.min(y0, y1);\n",
       "    var width = Math.abs(x1 - x0);\n",
       "    var height = Math.abs(y1 - y0);\n",
       "\n",
       "    fig.rubberband_context.clearRect(\n",
       "        0, 0, fig.canvas.width, fig.canvas.height);\n",
       "\n",
       "    fig.rubberband_context.strokeRect(min_x, min_y, width, height);\n",
       "}\n",
       "\n",
       "mpl.figure.prototype.handle_figure_label = function(fig, msg) {\n",
       "    // Updates the figure title.\n",
       "    fig.header.textContent = msg['label'];\n",
       "}\n",
       "\n",
       "mpl.figure.prototype.handle_cursor = function(fig, msg) {\n",
       "    var cursor = msg['cursor'];\n",
       "    switch(cursor)\n",
       "    {\n",
       "    case 0:\n",
       "        cursor = 'pointer';\n",
       "        break;\n",
       "    case 1:\n",
       "        cursor = 'default';\n",
       "        break;\n",
       "    case 2:\n",
       "        cursor = 'crosshair';\n",
       "        break;\n",
       "    case 3:\n",
       "        cursor = 'move';\n",
       "        break;\n",
       "    }\n",
       "    fig.rubberband_canvas.style.cursor = cursor;\n",
       "}\n",
       "\n",
       "mpl.figure.prototype.handle_message = function(fig, msg) {\n",
       "    fig.message.textContent = msg['message'];\n",
       "}\n",
       "\n",
       "mpl.figure.prototype.handle_draw = function(fig, msg) {\n",
       "    // Request the server to send over a new figure.\n",
       "    fig.send_draw_message();\n",
       "}\n",
       "\n",
       "mpl.figure.prototype.handle_image_mode = function(fig, msg) {\n",
       "    fig.image_mode = msg['mode'];\n",
       "}\n",
       "\n",
       "mpl.figure.prototype.updated_canvas_event = function() {\n",
       "    // Called whenever the canvas gets updated.\n",
       "    this.send_message(\"ack\", {});\n",
       "}\n",
       "\n",
       "// A function to construct a web socket function for onmessage handling.\n",
       "// Called in the figure constructor.\n",
       "mpl.figure.prototype._make_on_message_function = function(fig) {\n",
       "    return function socket_on_message(evt) {\n",
       "        if (evt.data instanceof Blob) {\n",
       "            /* FIXME: We get \"Resource interpreted as Image but\n",
       "             * transferred with MIME type text/plain:\" errors on\n",
       "             * Chrome.  But how to set the MIME type?  It doesn't seem\n",
       "             * to be part of the websocket stream */\n",
       "            evt.data.type = \"image/png\";\n",
       "\n",
       "            /* Free the memory for the previous frames */\n",
       "            if (fig.imageObj.src) {\n",
       "                (window.URL || window.webkitURL).revokeObjectURL(\n",
       "                    fig.imageObj.src);\n",
       "            }\n",
       "\n",
       "            fig.imageObj.src = (window.URL || window.webkitURL).createObjectURL(\n",
       "                evt.data);\n",
       "            fig.updated_canvas_event();\n",
       "            fig.waiting = false;\n",
       "            return;\n",
       "        }\n",
       "        else if (typeof evt.data === 'string' && evt.data.slice(0, 21) == \"data:image/png;base64\") {\n",
       "            fig.imageObj.src = evt.data;\n",
       "            fig.updated_canvas_event();\n",
       "            fig.waiting = false;\n",
       "            return;\n",
       "        }\n",
       "\n",
       "        var msg = JSON.parse(evt.data);\n",
       "        var msg_type = msg['type'];\n",
       "\n",
       "        // Call the  \"handle_{type}\" callback, which takes\n",
       "        // the figure and JSON message as its only arguments.\n",
       "        try {\n",
       "            var callback = fig[\"handle_\" + msg_type];\n",
       "        } catch (e) {\n",
       "            console.log(\"No handler for the '\" + msg_type + \"' message type: \", msg);\n",
       "            return;\n",
       "        }\n",
       "\n",
       "        if (callback) {\n",
       "            try {\n",
       "                // console.log(\"Handling '\" + msg_type + \"' message: \", msg);\n",
       "                callback(fig, msg);\n",
       "            } catch (e) {\n",
       "                console.log(\"Exception inside the 'handler_\" + msg_type + \"' callback:\", e, e.stack, msg);\n",
       "            }\n",
       "        }\n",
       "    };\n",
       "}\n",
       "\n",
       "// from http://stackoverflow.com/questions/1114465/getting-mouse-location-in-canvas\n",
       "mpl.findpos = function(e) {\n",
       "    //this section is from http://www.quirksmode.org/js/events_properties.html\n",
       "    var targ;\n",
       "    if (!e)\n",
       "        e = window.event;\n",
       "    if (e.target)\n",
       "        targ = e.target;\n",
       "    else if (e.srcElement)\n",
       "        targ = e.srcElement;\n",
       "    if (targ.nodeType == 3) // defeat Safari bug\n",
       "        targ = targ.parentNode;\n",
       "\n",
       "    // jQuery normalizes the pageX and pageY\n",
       "    // pageX,Y are the mouse positions relative to the document\n",
       "    // offset() returns the position of the element relative to the document\n",
       "    var x = e.pageX - $(targ).offset().left;\n",
       "    var y = e.pageY - $(targ).offset().top;\n",
       "\n",
       "    return {\"x\": x, \"y\": y};\n",
       "};\n",
       "\n",
       "/*\n",
       " * return a copy of an object with only non-object keys\n",
       " * we need this to avoid circular references\n",
       " * http://stackoverflow.com/a/24161582/3208463\n",
       " */\n",
       "function simpleKeys (original) {\n",
       "  return Object.keys(original).reduce(function (obj, key) {\n",
       "    if (typeof original[key] !== 'object')\n",
       "        obj[key] = original[key]\n",
       "    return obj;\n",
       "  }, {});\n",
       "}\n",
       "\n",
       "mpl.figure.prototype.mouse_event = function(event, name) {\n",
       "    var canvas_pos = mpl.findpos(event)\n",
       "\n",
       "    if (name === 'button_press')\n",
       "    {\n",
       "        this.canvas.focus();\n",
       "        this.canvas_div.focus();\n",
       "    }\n",
       "\n",
       "    var x = canvas_pos.x * mpl.ratio;\n",
       "    var y = canvas_pos.y * mpl.ratio;\n",
       "\n",
       "    this.send_message(name, {x: x, y: y, button: event.button,\n",
       "                             step: event.step,\n",
       "                             guiEvent: simpleKeys(event)});\n",
       "\n",
       "    /* This prevents the web browser from automatically changing to\n",
       "     * the text insertion cursor when the button is pressed.  We want\n",
       "     * to control all of the cursor setting manually through the\n",
       "     * 'cursor' event from matplotlib */\n",
       "    event.preventDefault();\n",
       "    return false;\n",
       "}\n",
       "\n",
       "mpl.figure.prototype._key_event_extra = function(event, name) {\n",
       "    // Handle any extra behaviour associated with a key event\n",
       "}\n",
       "\n",
       "mpl.figure.prototype.key_event = function(event, name) {\n",
       "\n",
       "    // Prevent repeat events\n",
       "    if (name == 'key_press')\n",
       "    {\n",
       "        if (event.which === this._key)\n",
       "            return;\n",
       "        else\n",
       "            this._key = event.which;\n",
       "    }\n",
       "    if (name == 'key_release')\n",
       "        this._key = null;\n",
       "\n",
       "    var value = '';\n",
       "    if (event.ctrlKey && event.which != 17)\n",
       "        value += \"ctrl+\";\n",
       "    if (event.altKey && event.which != 18)\n",
       "        value += \"alt+\";\n",
       "    if (event.shiftKey && event.which != 16)\n",
       "        value += \"shift+\";\n",
       "\n",
       "    value += 'k';\n",
       "    value += event.which.toString();\n",
       "\n",
       "    this._key_event_extra(event, name);\n",
       "\n",
       "    this.send_message(name, {key: value,\n",
       "                             guiEvent: simpleKeys(event)});\n",
       "    return false;\n",
       "}\n",
       "\n",
       "mpl.figure.prototype.toolbar_button_onclick = function(name) {\n",
       "    if (name == 'download') {\n",
       "        this.handle_save(this, null);\n",
       "    } else {\n",
       "        this.send_message(\"toolbar_button\", {name: name});\n",
       "    }\n",
       "};\n",
       "\n",
       "mpl.figure.prototype.toolbar_button_onmouseover = function(tooltip) {\n",
       "    this.message.textContent = tooltip;\n",
       "};\n",
       "mpl.toolbar_items = [[\"Home\", \"Reset original view\", \"fa fa-home icon-home\", \"home\"], [\"Back\", \"Back to  previous view\", \"fa fa-arrow-left icon-arrow-left\", \"back\"], [\"Forward\", \"Forward to next view\", \"fa fa-arrow-right icon-arrow-right\", \"forward\"], [\"\", \"\", \"\", \"\"], [\"Pan\", \"Pan axes with left mouse, zoom with right\", \"fa fa-arrows icon-move\", \"pan\"], [\"Zoom\", \"Zoom to rectangle\", \"fa fa-square-o icon-check-empty\", \"zoom\"], [\"\", \"\", \"\", \"\"], [\"Download\", \"Download plot\", \"fa fa-floppy-o icon-save\", \"download\"]];\n",
       "\n",
       "mpl.extensions = [\"eps\", \"jpeg\", \"pdf\", \"png\", \"ps\", \"raw\", \"svg\", \"tif\"];\n",
       "\n",
       "mpl.default_extension = \"png\";var comm_websocket_adapter = function(comm) {\n",
       "    // Create a \"websocket\"-like object which calls the given IPython comm\n",
       "    // object with the appropriate methods. Currently this is a non binary\n",
       "    // socket, so there is still some room for performance tuning.\n",
       "    var ws = {};\n",
       "\n",
       "    ws.close = function() {\n",
       "        comm.close()\n",
       "    };\n",
       "    ws.send = function(m) {\n",
       "        //console.log('sending', m);\n",
       "        comm.send(m);\n",
       "    };\n",
       "    // Register the callback with on_msg.\n",
       "    comm.on_msg(function(msg) {\n",
       "        //console.log('receiving', msg['content']['data'], msg);\n",
       "        // Pass the mpl event to the overriden (by mpl) onmessage function.\n",
       "        ws.onmessage(msg['content']['data'])\n",
       "    });\n",
       "    return ws;\n",
       "}\n",
       "\n",
       "mpl.mpl_figure_comm = function(comm, msg) {\n",
       "    // This is the function which gets called when the mpl process\n",
       "    // starts-up an IPython Comm through the \"matplotlib\" channel.\n",
       "\n",
       "    var id = msg.content.data.id;\n",
       "    // Get hold of the div created by the display call when the Comm\n",
       "    // socket was opened in Python.\n",
       "    var element = $(\"#\" + id);\n",
       "    var ws_proxy = comm_websocket_adapter(comm)\n",
       "\n",
       "    function ondownload(figure, format) {\n",
       "        window.open(figure.imageObj.src);\n",
       "    }\n",
       "\n",
       "    var fig = new mpl.figure(id, ws_proxy,\n",
       "                           ondownload,\n",
       "                           element.get(0));\n",
       "\n",
       "    // Call onopen now - mpl needs it, as it is assuming we've passed it a real\n",
       "    // web socket which is closed, not our websocket->open comm proxy.\n",
       "    ws_proxy.onopen();\n",
       "\n",
       "    fig.parent_element = element.get(0);\n",
       "    fig.cell_info = mpl.find_output_cell(\"<div id='\" + id + \"'></div>\");\n",
       "    if (!fig.cell_info) {\n",
       "        console.error(\"Failed to find cell for figure\", id, fig);\n",
       "        return;\n",
       "    }\n",
       "\n",
       "    var output_index = fig.cell_info[2]\n",
       "    var cell = fig.cell_info[0];\n",
       "\n",
       "};\n",
       "\n",
       "mpl.figure.prototype.handle_close = function(fig, msg) {\n",
       "    var width = fig.canvas.width/mpl.ratio\n",
       "    fig.root.unbind('remove')\n",
       "\n",
       "    // Update the output cell to use the data from the current canvas.\n",
       "    fig.push_to_output();\n",
       "    var dataURL = fig.canvas.toDataURL();\n",
       "    // Re-enable the keyboard manager in IPython - without this line, in FF,\n",
       "    // the notebook keyboard shortcuts fail.\n",
       "    IPython.keyboard_manager.enable()\n",
       "    $(fig.parent_element).html('<img src=\"' + dataURL + '\" width=\"' + width + '\">');\n",
       "    fig.close_ws(fig, msg);\n",
       "}\n",
       "\n",
       "mpl.figure.prototype.close_ws = function(fig, msg){\n",
       "    fig.send_message('closing', msg);\n",
       "    // fig.ws.close()\n",
       "}\n",
       "\n",
       "mpl.figure.prototype.push_to_output = function(remove_interactive) {\n",
       "    // Turn the data on the canvas into data in the output cell.\n",
       "    var width = this.canvas.width/mpl.ratio\n",
       "    var dataURL = this.canvas.toDataURL();\n",
       "    this.cell_info[1]['text/html'] = '<img src=\"' + dataURL + '\" width=\"' + width + '\">';\n",
       "}\n",
       "\n",
       "mpl.figure.prototype.updated_canvas_event = function() {\n",
       "    // Tell IPython that the notebook contents must change.\n",
       "    IPython.notebook.set_dirty(true);\n",
       "    this.send_message(\"ack\", {});\n",
       "    var fig = this;\n",
       "    // Wait a second, then push the new image to the DOM so\n",
       "    // that it is saved nicely (might be nice to debounce this).\n",
       "    setTimeout(function () { fig.push_to_output() }, 1000);\n",
       "}\n",
       "\n",
       "mpl.figure.prototype._init_toolbar = function() {\n",
       "    var fig = this;\n",
       "\n",
       "    var nav_element = $('<div/>')\n",
       "    nav_element.attr('style', 'width: 100%');\n",
       "    this.root.append(nav_element);\n",
       "\n",
       "    // Define a callback function for later on.\n",
       "    function toolbar_event(event) {\n",
       "        return fig.toolbar_button_onclick(event['data']);\n",
       "    }\n",
       "    function toolbar_mouse_event(event) {\n",
       "        return fig.toolbar_button_onmouseover(event['data']);\n",
       "    }\n",
       "\n",
       "    for(var toolbar_ind in mpl.toolbar_items){\n",
       "        var name = mpl.toolbar_items[toolbar_ind][0];\n",
       "        var tooltip = mpl.toolbar_items[toolbar_ind][1];\n",
       "        var image = mpl.toolbar_items[toolbar_ind][2];\n",
       "        var method_name = mpl.toolbar_items[toolbar_ind][3];\n",
       "\n",
       "        if (!name) { continue; };\n",
       "\n",
       "        var button = $('<button class=\"btn btn-default\" href=\"#\" title=\"' + name + '\"><i class=\"fa ' + image + ' fa-lg\"></i></button>');\n",
       "        button.click(method_name, toolbar_event);\n",
       "        button.mouseover(tooltip, toolbar_mouse_event);\n",
       "        nav_element.append(button);\n",
       "    }\n",
       "\n",
       "    // Add the status bar.\n",
       "    var status_bar = $('<span class=\"mpl-message\" style=\"text-align:right; float: right;\"/>');\n",
       "    nav_element.append(status_bar);\n",
       "    this.message = status_bar[0];\n",
       "\n",
       "    // Add the close button to the window.\n",
       "    var buttongrp = $('<div class=\"btn-group inline pull-right\"></div>');\n",
       "    var button = $('<button class=\"btn btn-mini btn-primary\" href=\"#\" title=\"Stop Interaction\"><i class=\"fa fa-power-off icon-remove icon-large\"></i></button>');\n",
       "    button.click(function (evt) { fig.handle_close(fig, {}); } );\n",
       "    button.mouseover('Stop Interaction', toolbar_mouse_event);\n",
       "    buttongrp.append(button);\n",
       "    var titlebar = this.root.find($('.ui-dialog-titlebar'));\n",
       "    titlebar.prepend(buttongrp);\n",
       "}\n",
       "\n",
       "mpl.figure.prototype._root_extra_style = function(el){\n",
       "    var fig = this\n",
       "    el.on(\"remove\", function(){\n",
       "\tfig.close_ws(fig, {});\n",
       "    });\n",
       "}\n",
       "\n",
       "mpl.figure.prototype._canvas_extra_style = function(el){\n",
       "    // this is important to make the div 'focusable\n",
       "    el.attr('tabindex', 0)\n",
       "    // reach out to IPython and tell the keyboard manager to turn it's self\n",
       "    // off when our div gets focus\n",
       "\n",
       "    // location in version 3\n",
       "    if (IPython.notebook.keyboard_manager) {\n",
       "        IPython.notebook.keyboard_manager.register_events(el);\n",
       "    }\n",
       "    else {\n",
       "        // location in version 2\n",
       "        IPython.keyboard_manager.register_events(el);\n",
       "    }\n",
       "\n",
       "}\n",
       "\n",
       "mpl.figure.prototype._key_event_extra = function(event, name) {\n",
       "    var manager = IPython.notebook.keyboard_manager;\n",
       "    if (!manager)\n",
       "        manager = IPython.keyboard_manager;\n",
       "\n",
       "    // Check for shift+enter\n",
       "    if (event.shiftKey && event.which == 13) {\n",
       "        this.canvas_div.blur();\n",
       "        event.shiftKey = false;\n",
       "        // Send a \"J\" for go to next cell\n",
       "        event.which = 74;\n",
       "        event.keyCode = 74;\n",
       "        manager.command_mode();\n",
       "        manager.handle_keydown(event);\n",
       "    }\n",
       "}\n",
       "\n",
       "mpl.figure.prototype.handle_save = function(fig, msg) {\n",
       "    fig.ondownload(fig, null);\n",
       "}\n",
       "\n",
       "\n",
       "mpl.find_output_cell = function(html_output) {\n",
       "    // Return the cell and output element which can be found *uniquely* in the notebook.\n",
       "    // Note - this is a bit hacky, but it is done because the \"notebook_saving.Notebook\"\n",
       "    // IPython event is triggered only after the cells have been serialised, which for\n",
       "    // our purposes (turning an active figure into a static one), is too late.\n",
       "    var cells = IPython.notebook.get_cells();\n",
       "    var ncells = cells.length;\n",
       "    for (var i=0; i<ncells; i++) {\n",
       "        var cell = cells[i];\n",
       "        if (cell.cell_type === 'code'){\n",
       "            for (var j=0; j<cell.output_area.outputs.length; j++) {\n",
       "                var data = cell.output_area.outputs[j];\n",
       "                if (data.data) {\n",
       "                    // IPython >= 3 moved mimebundle to data attribute of output\n",
       "                    data = data.data;\n",
       "                }\n",
       "                if (data['text/html'] == html_output) {\n",
       "                    return [cell, data, j];\n",
       "                }\n",
       "            }\n",
       "        }\n",
       "    }\n",
       "}\n",
       "\n",
       "// Register the function which deals with the matplotlib target/channel.\n",
       "// The kernel may be null if the page has been refreshed.\n",
       "if (IPython.notebook.kernel != null) {\n",
       "    IPython.notebook.kernel.comm_manager.register_target('matplotlib', mpl.mpl_figure_comm);\n",
       "}\n"
      ],
      "text/plain": [
       "<IPython.core.display.Javascript object>"
      ]
     },
     "metadata": {},
     "output_type": "display_data"
    },
    {
     "data": {
      "text/html": [
       "<img src=\"data:image/png;base64,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\" width=\"640\">"
      ],
      "text/plain": [
       "<IPython.core.display.HTML object>"
      ]
     },
     "metadata": {},
     "output_type": "display_data"
    }
   ],
   "source": [
    "ploter = Output_ploter()\n",
    "ani = ploter.time_plot(protocol, 0x07, [4], 3, 10)"
   ]
  },
  {
   "cell_type": "markdown",
   "metadata": {},
   "source": [
    "## XY plotter"
   ]
  },
  {
   "cell_type": "code",
   "execution_count": null,
   "metadata": {
    "collapsed": true
   },
   "outputs": [],
   "source": [
    "ploter = Output_ploter()\n",
    "ani = ploter.xy_plot(protocol, 0x0F, [], [0,1], 10)"
   ]
  },
  {
   "cell_type": "code",
   "execution_count": null,
   "metadata": {
    "collapsed": true
   },
   "outputs": [],
   "source": [
    "print(ploter.xdata)"
   ]
  },
  {
   "cell_type": "markdown",
   "metadata": {},
   "source": [
    "## Debug low level commands"
   ]
  },
  {
   "cell_type": "code",
   "execution_count": 6,
   "metadata": {},
   "outputs": [
    {
     "name": "stdout",
     "output_type": "stream",
     "text": [
      "b''\n",
      "bytearray(b'\\x01\\xcd\\xcc\\xcc=')\n",
      "send  bytearray(b'\\xfa\\xaf\\n\\x03\\x01\\xcd\\xcc\\xcc=Y')\n",
      "answer  bytearray(b'\\xfa\\xfa\\x07\\x03OK\\x98')\n"
     ]
    },
    {
     "data": {
      "text/plain": [
       "(79, 75)"
      ]
     },
     "execution_count": 6,
     "metadata": {},
     "output_type": "execute_result"
    }
   ],
   "source": [
    "# Set duty cycle of particular PWM channel\n",
    "channel = 1\n",
    "dutyCycle = 0.1\n",
    "protocol.send_command(0x03, [channel, dutyCycle])"
   ]
  },
  {
   "cell_type": "code",
   "execution_count": null,
   "metadata": {
    "collapsed": true
   },
   "outputs": [],
   "source": [
    "protocol.send_command(0x0F, [])"
   ]
  },
  {
   "cell_type": "code",
   "execution_count": null,
   "metadata": {
    "collapsed": true
   },
   "outputs": [],
   "source": [
    "# Set direction bit for particular motor\n",
    "channel = 1\n",
    "protocol.send_command(0x04, [channel])"
   ]
  },
  {
   "cell_type": "code",
   "execution_count": null,
   "metadata": {
    "collapsed": true
   },
   "outputs": [],
   "source": [
    "# Reset direction bit for particular motor\n",
    "channel = 1\n",
    "protocol.send_command(0x05, [channel]);"
   ]
  },
  {
   "cell_type": "code",
   "execution_count": null,
   "metadata": {
    "collapsed": true
   },
   "outputs": [],
   "source": [
    "# Set speed of all motors in rad/s\n",
    "\n",
    "protocol.send_command(0x06, [4, 0, 0, 0, 12])"
   ]
  },
  {
   "cell_type": "code",
   "execution_count": null,
   "metadata": {
    "collapsed": true
   },
   "outputs": [],
   "source": [
    "# Read speed of all wheels in rad/s\n",
    "numberOfmotors = 4\n",
    "protocol.send_command(0x07, [numberOfmotors])"
   ]
  },
  {
   "cell_type": "markdown",
   "metadata": {},
   "source": [
    "## Set and get Robot's speed in its own coordinate system"
   ]
  },
  {
   "cell_type": "code",
   "execution_count": null,
   "metadata": {
    "collapsed": true
   },
   "outputs": [],
   "source": [
    "# Set robot speed in its own coordinate system\n",
    "Vx = 0.1\n",
    "Vy = 0.1\n",
    "Wz = 0.7\n",
    "protocol.send_command(0x08, [Vx, Vy, Wz])"
   ]
  },
  {
   "cell_type": "code",
   "execution_count": null,
   "metadata": {
    "collapsed": true
   },
   "outputs": [],
   "source": [
    "# Set robot speed to 0 in its own coordinate system\n",
    "Vx = 0.0\n",
    "Vy = 0.0\n",
    "Wz = 0.0\n",
    "\n",
    "protocol.send_command(0x08, [Vx, Vy, Wz])"
   ]
  },
  {
   "cell_type": "code",
   "execution_count": null,
   "metadata": {
    "collapsed": true
   },
   "outputs": [],
   "source": [
    "# Read robot speed in its own coordinate system\n",
    "protocol.send_command(0x09, [])"
   ]
  },
  {
   "cell_type": "markdown",
   "metadata": {},
   "source": [
    "## Read Robot's coordinates' increments (robot coordinate system)"
   ]
  },
  {
   "cell_type": "code",
   "execution_count": 5,
   "metadata": {},
   "outputs": [
    {
     "name": "stdout",
     "output_type": "stream",
     "text": [
      "b''\n",
      "bytearray(b'')\n",
      "send  bytearray(b'\\xfa\\xaf\\x05\\n\\xb8')\n",
      "answer  bytearray(b'\\xfa\\xfa\\x11\\n\\xd8\\xfa\\xa2\\xbd\\xc1\\x7f\\x7f\\xb9\\x8f\\x8c\\x1b=+')\n"
     ]
    },
    {
     "data": {
      "text/plain": [
       "(-0.07958000898361206, -0.0002436628710711375, 0.037975843995809555)"
      ]
     },
     "execution_count": 5,
     "metadata": {},
     "output_type": "execute_result"
    }
   ],
   "source": [
    "# Read robot coord in its own coordinate system\n",
    "protocol.send_command(0x0a, [])"
   ]
  },
  {
   "cell_type": "markdown",
   "metadata": {},
   "source": [
    "## Set Command for manipulator"
   ]
  },
  {
   "cell_type": "code",
   "execution_count": 291,
   "metadata": {},
   "outputs": [
    {
     "name": "stdout",
     "output_type": "stream",
     "text": [
      "b''\n",
      "bytearray(b'\\x02')\n",
      "send  bytearray(b'\\xfa\\xaf\\x06\\xb0\\x02a')\n",
      "answer  bytearray(b'\\xfa\\xfa\\x07\\xb0OKE')\n",
      "b''\n",
      "bytearray(b'\\x00')\n",
      "send  bytearray(b'\\xfa\\xaf\\x06\\xb0\\x00_')\n",
      "answer  bytearray(b'\\xfa\\xfa\\x07\\xb0OKE')\n"
     ]
    },
    {
     "data": {
      "text/plain": [
       "(79, 75)"
      ]
     },
     "execution_count": 291,
     "metadata": {},
     "output_type": "execute_result"
    }
   ],
   "source": [
    "# Take cube\n",
    "protocol.send_command(0xB0, [2])\n",
    "protocol.send_command(0xB0, [0])"
   ]
  },
  {
   "cell_type": "code",
   "execution_count": 201,
   "metadata": {},
   "outputs": [
    {
     "name": "stdout",
     "output_type": "stream",
     "text": [
      "b''\n",
      "bytearray(b'\\x02')\n",
      "send  bytearray(b'\\xfa\\xaf\\x06\\xb1\\x02b')\n",
      "answer  bytearray(b'\\xfa\\xfa\\x07\\xb1OKF')\n"
     ]
    },
    {
     "data": {
      "text/plain": [
       "(79, 75)"
      ]
     },
     "execution_count": 201,
     "metadata": {},
     "output_type": "execute_result"
    }
   ],
   "source": [
    "# Unload tower\n",
    "protocol.send_command(0xB1, [2])\n",
    "#protocol.send_command(0xB1, [0])"
   ]
  },
  {
   "cell_type": "markdown",
   "metadata": {},
   "source": [
    "## Set and get Robot's global coordinates "
   ]
  },
  {
   "cell_type": "code",
   "execution_count": null,
   "metadata": {
    "collapsed": true
   },
   "outputs": [],
   "source": [
    "# Set robot global coord\n",
    "x = 0\n",
    "y = 0\n",
    "alpha = 0\n",
    "protocol.send_command(0x0E, [x, y, alpha])"
   ]
  },
  {
   "cell_type": "code",
   "execution_count": null,
   "metadata": {
    "collapsed": true
   },
   "outputs": [],
   "source": [
    "# Get robot global coord\n",
    "protocol.send_command(0x0F, [])"
   ]
  },
  {
   "cell_type": "markdown",
   "metadata": {},
   "source": [
    "## Set and get angle of particular servo motor (dynamixel)"
   ]
  },
  {
   "cell_type": "code",
   "execution_count": 80,
   "metadata": {},
   "outputs": [
    {
     "name": "stdout",
     "output_type": "stream",
     "text": [
      "b''\n",
      "bytearray(b'\\x02\\t\\x01')\n",
      "send  bytearray(b'\\xfa\\xaf\\x08\\x0b\\x02\\t\\x01\\xc8')\n",
      "answer  bytearray(b'\\xfa\\xfa\\x07\\x0bOK\\xa0')\n"
     ]
    },
    {
     "data": {
      "text/plain": [
       "(79, 75)"
      ]
     },
     "execution_count": 80,
     "metadata": {},
     "output_type": "execute_result"
    }
   ],
   "source": [
    "# Move servo of particular id (first parameter), to specified angle (second parameter) \n",
    "servoId = 2\n",
    "angle = 265\n",
    "protocol.send_command(0x0b, [servoId, angle])"
   ]
  },
  {
   "cell_type": "code",
   "execution_count": 78,
   "metadata": {},
   "outputs": [
    {
     "name": "stdout",
     "output_type": "stream",
     "text": [
      "b''\n",
      "bytearray(b'\\x02')\n",
      "send  bytearray(b'\\xfa\\xaf\\x06\\x0c\\x02\\xbd')\n",
      "answer  bytearray(b'\\xfa\\xfa\\t\\x0c\\xc2\\x06\\xfbB\\x0e')\n"
     ]
    },
    {
     "data": {
      "text/plain": [
       "(125.51319885253906,)"
      ]
     },
     "execution_count": 78,
     "metadata": {},
     "output_type": "execute_result"
    }
   ],
   "source": [
    "# Get angle of particular servo\n",
    "servoId = 2\n",
    "protocol.send_command(0x0c, [servoId])"
   ]
  },
  {
   "cell_type": "markdown",
   "metadata": {},
   "source": [
    "## Odometry movement"
   ]
  },
  {
   "cell_type": "code",
   "execution_count": 175,
   "metadata": {},
   "outputs": [
    {
     "name": "stdout",
     "output_type": "stream",
     "text": [
      "b''\n",
      "bytearray(b'\\x00\\x00\\x00\\x00\\x00\\x00\\x00\\x00\\x96C\\x8b<\\x00\\x00\\x80?\\x00\\x00\\x80?\\x00\\x00@@')\n",
      "send  bytearray(b'\\xfa\\xaf\\x1d\\xa2\\x00\\x00\\x00\\x00\\x00\\x00\\x00\\x00\\x96C\\x8b<\\x00\\x00\\x80?\\x00\\x00\\x80?\\x00\\x00@@\\x06')\n",
      "answer  bytearray(b'\\xfa\\xfa\\x07\\xa2OK7')\n"
     ]
    },
    {
     "data": {
      "text/plain": [
       "(79, 75)"
      ]
     },
     "execution_count": 175,
     "metadata": {},
     "output_type": "execute_result"
    }
   ],
   "source": [
    "deltaX = 0.0\n",
    "deltaY = 0.0\n",
    "deltaW = 0.017\n",
    "\n",
    "speedX = 1.0\n",
    "speedY = 1.0\n",
    "speedW = 3.0\n",
    "\n",
    "protocol.send_command( 0xa2, [deltaX, deltaY, deltaW, speedX, speedY, speedW])"
   ]
  },
  {
   "cell_type": "code",
   "execution_count": 164,
   "metadata": {},
   "outputs": [
    {
     "name": "stdout",
     "output_type": "stream",
     "text": [
      "b''\n",
      "bytearray(b'\\xee\\xeb\\xc0\\xbd\\x00\\x00\\x00\\x00\\xc3\\xf5\\xc8\\xbf\\xecQ\\xb8=\\x00\\x00\\x00\\x00\\x00\\x00\\xc0?')\n",
      "send  bytearray(b'\\xfa\\xaf\\x1d\\xa2\\xee\\xeb\\xc0\\xbd\\x00\\x00\\x00\\x00\\xc3\\xf5\\xc8\\xbf\\xecQ\\xb8=\\x00\\x00\\x00\\x00\\x00\\x00\\xc0?.')\n",
      "answer  bytearray(b'\\xfa\\xfa\\x07\\xa2OK7')\n"
     ]
    },
    {
     "data": {
      "text/plain": [
       "(79, 75)"
      ]
     },
     "execution_count": 164,
     "metadata": {},
     "output_type": "execute_result"
    }
   ],
   "source": [
    "radius = 0.06\n",
    "\n",
    "deltaY = 0.0\n",
    "deltaW = -3.14/2\n",
    "deltaX = deltaW * radius\n",
    "\n",
    "speedW = 1.5\n",
    "speedX = speedW * radius\n",
    "speedY = 0.0\n",
    "\n",
    "protocol.send_command( 0xa2, [deltaX, deltaY, deltaW, speedX, speedY, speedW])"
   ]
  },
  {
   "cell_type": "markdown",
   "metadata": {},
   "source": [
    "## Turn on and off forward kinematics calculations"
   ]
  },
  {
   "cell_type": "code",
   "execution_count": null,
   "metadata": {
    "collapsed": true
   },
   "outputs": [],
   "source": [
    "# Turn on/off forward kinematics calculations\n",
    "status = 1\n",
    "protocol.send_command(0x0D, [status])"
   ]
  },
  {
   "cell_type": "markdown",
   "metadata": {},
   "source": [
    "## Get robot's status"
   ]
  },
  {
   "cell_type": "code",
   "execution_count": null,
   "metadata": {
    "collapsed": true
   },
   "outputs": [],
   "source": [
    "# Get status\n",
    "protocol.send_command(0xa0, [1, 1, 1])"
   ]
  },
  {
   "cell_type": "markdown",
   "metadata": {},
   "source": [
    "## Demo with manipulator"
   ]
  },
  {
   "cell_type": "code",
   "execution_count": null,
   "metadata": {
    "collapsed": true
   },
   "outputs": [],
   "source": [
    "# Parameters for right manipulator\n",
    "rightSliderId = 1\n",
    "rightGripperId = 16\n",
    "\n",
    "rightSliderUpPos = 45\n",
    "rightSliderBotPos = 300\n",
    "rightGripperOpened = 40\n",
    "rightGripperClosed = 150"
   ]
  },
  {
   "cell_type": "code",
   "execution_count": null,
   "metadata": {
    "collapsed": true
   },
   "outputs": [],
   "source": [
    "# Open and lower manipulator\n",
    "protocol.send_command(0x0b, [rightGripperId, rightGripperOpened])\n",
    "time.sleep(0.5)\n",
    "protocol.send_command(0x0b, [rightSliderId, rightSliderBotPos])"
   ]
  },
  {
   "cell_type": "code",
   "execution_count": null,
   "metadata": {
    "collapsed": true
   },
   "outputs": [],
   "source": [
    "# Close and lift manipulator\n",
    "protocol.send_command(0x0b, [rightGripperId, rightGripperClosed])\n",
    "time.sleep(0.5)\n",
    "protocol.send_command(0x0b, [rightSliderId, rightSliderUpPos])"
   ]
  },
  {
   "cell_type": "code",
   "execution_count": null,
   "metadata": {
    "collapsed": true
   },
   "outputs": [],
   "source": [
    "# Open and lower manipulator\n",
    "protocol.send_command(0x0b, [rightGripperId, rightGripperOpened])\n",
    "time.sleep(0.5)\n",
    "protocol.send_command(0x0b, [rightSliderId, rightSliderBotPos])"
   ]
  },
  {
   "cell_type": "code",
   "execution_count": null,
   "metadata": {
    "collapsed": true
   },
   "outputs": [],
   "source": [
    "# Close and lift manipulator\n",
    "protocol.send_command(0x0b, [rightGripperId, rightGripperClosed])\n",
    "time.sleep(0.5)\n",
    "protocol.send_command(0x0b, [rightSliderId, rightSliderUpPos])"
   ]
  },
  {
   "cell_type": "code",
   "execution_count": null,
   "metadata": {
    "collapsed": true
   },
   "outputs": [],
   "source": [
    "# Open and lower manipulator\n",
    "protocol.send_command(0x0b, [rightGripperId, rightGripperOpened])\n",
    "time.sleep(0.5)\n",
    "protocol.send_command(0x0b, [rightSliderId, rightSliderBotPos])"
   ]
  },
  {
   "cell_type": "code",
   "execution_count": null,
   "metadata": {
    "collapsed": true
   },
   "outputs": [],
   "source": [
    "# Close and lift manipulator\n",
    "protocol.send_command(0x0b, [rightGripperId, rightGripperClosed])\n",
    "time.sleep(0.5)\n",
    "protocol.send_command(0x0b, [rightSliderId, rightSliderUpPos])"
   ]
  },
  {
   "cell_type": "code",
   "execution_count": null,
   "metadata": {
    "collapsed": true
   },
   "outputs": [],
   "source": [
    "# Lower and open\n",
    "protocol.send_command(0x0b, [rightSliderId, rightSliderBotPos])\n",
    "time.sleep(1)\n",
    "protocol.send_command(0x0b, [rightGripperId, rightGripperOpened])"
   ]
  },
  {
   "cell_type": "markdown",
   "metadata": {},
   "source": [
    "## Demo with Robot's motion"
   ]
  },
  {
   "cell_type": "code",
   "execution_count": null,
   "metadata": {
    "collapsed": true
   },
   "outputs": [],
   "source": [
    "\n",
    "#Vx = 0.0\n",
    "#Vy = 0.0\n",
    "#Wz = 3.1415926/2\n",
    "#protocol.send_command(0x08, [Vx, Vy, Wz])\n",
    "\n",
    "#time.sleep(4)\n",
    "\n",
    "Vx = 0.0\n",
    "Vy = 0.0\n",
    "Wz = 0.0\n",
    "protocol.send_command(0x08, [Vx, Vy, Wz])\n",
    "\n",
    "time.sleep(0.3)"
   ]
  },
  {
   "cell_type": "code",
   "execution_count": null,
   "metadata": {
    "collapsed": true
   },
   "outputs": [],
   "source": [
    "Vx = 0.0\n",
    "Vy = 0.1\n",
    "Wz = 0.0\n",
    "protocol.send_command(0x08, [Vx, Vy, Wz])\n",
    "\n",
    "time.sleep(4)\n",
    "\n",
    "Vx = 0.0\n",
    "Vy = 0.0\n",
    "Wz = 0.0\n",
    "protocol.send_command(0x08, [Vx, Vy, Wz])\n",
    "\n",
    "time.sleep(0.3)"
   ]
  },
  {
   "cell_type": "code",
   "execution_count": null,
   "metadata": {
    "collapsed": true
   },
   "outputs": [],
   "source": [
    "Vx = 0.1 / 2 ** 0.5\n",
    "Vy = -0.1 / 2 ** 0.5\n",
    "Wz = 0.0\n",
    "protocol.send_command(0x08, [Vx, Vy, Wz])\n",
    "\n",
    "time.sleep(4)\n",
    "\n",
    "Vx = 0.0\n",
    "Vy = 0.0\n",
    "Wz = 0.0\n",
    "protocol.send_command(0x08, [Vx, Vy, Wz])\n",
    "\n",
    "time.sleep(0.3)\n"
   ]
  },
  {
   "cell_type": "code",
   "execution_count": null,
   "metadata": {
    "collapsed": true
   },
   "outputs": [],
   "source": [
    "Vx = -0.1\n",
    "Vy = -0.1\n",
    "Wz = 0.0\n",
    "protocol.send_command(0x08, [Vx, Vy, Wz])\n",
    "\n",
    "time.sleep(4)\n",
    "\n",
    "Vx = 0.0\n",
    "Vy = 0.0\n",
    "Wz = 0.0\n",
    "protocol.send_command(0x08, [Vx, Vy, Wz])"
   ]
  }
 ],
 "metadata": {
  "kernelspec": {
   "display_name": "Python 3",
   "language": "python",
   "name": "python3"
  },
  "language_info": {
   "codemirror_mode": {
    "name": "ipython",
    "version": 3
   },
   "file_extension": ".py",
   "mimetype": "text/x-python",
   "name": "python",
   "nbconvert_exporter": "python",
   "pygments_lexer": "ipython3",
   "version": "3.6.2"
  },
  "toc": {
   "nav_menu": {},
   "number_sections": true,
   "sideBar": true,
   "skip_h1_title": false,
   "toc_cell": false,
   "toc_position": {},
   "toc_section_display": "block",
   "toc_window_display": false
  },
  "varInspector": {
   "cols": {
    "lenName": 16,
    "lenType": 16,
    "lenVar": 40
   },
   "kernels_config": {
    "python": {
     "delete_cmd_postfix": "",
     "delete_cmd_prefix": "del ",
     "library": "var_list.py",
     "varRefreshCmd": "print(var_dic_list())"
    },
    "r": {
     "delete_cmd_postfix": ") ",
     "delete_cmd_prefix": "rm(",
     "library": "var_list.r",
     "varRefreshCmd": "cat(var_dic_list()) "
    }
   },
   "types_to_exclude": [
    "module",
    "function",
    "builtin_function_or_method",
    "instance",
    "_Feature"
   ],
   "window_display": false
  }
 },
 "nbformat": 4,
 "nbformat_minor": 2
}
