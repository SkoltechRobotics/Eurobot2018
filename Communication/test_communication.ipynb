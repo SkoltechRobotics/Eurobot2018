{
 "cells": [
  {
   "cell_type": "markdown",
   "metadata": {},
   "source": [
    "# Protocol definition"
   ]
  },
  {
   "cell_type": "code",
   "execution_count": 1,
   "metadata": {
    "collapsed": true
   },
   "outputs": [],
   "source": [
    "# %load STMprotocol.py\n",
    "import serial\n",
    "import struct\n",
    "import datetime\n",
    "import time\n",
    "\n",
    "class STMprotocol:\n",
    "    def __init__(self, serial_port):\n",
    "        self.ser = serial.Serial(serial_port, 115200, timeout=0.2)\n",
    "        self.pack_format = {\n",
    "            0x01: \"=BBBB\",\n",
    "            0x03: \"=Bf\",\n",
    "            0x04: \"=B\",\n",
    "            0x05: \"=B\",\n",
    "            0x06: \"=Bffff\",\n",
    "            0x07: \"=B\",\n",
    "            0x08: \"=fff\",\n",
    "            0x09: \"=\",\n",
    "            0x0a: \"=\",\n",
    "            0x0b: \"=BH\",\n",
    "            0x0c: \"=B\",\n",
    "            0x0d: \"=B\",\n",
    "            0x0e: \"=fff\",\n",
    "            0x0f: \"=\",            \n",
    "            0xa0: \"=fff\",\n",
    "            0xa1: \"=fff\",\n",
    "\n",
    "        }\n",
    "\n",
    "        self.unpack_format = {\n",
    "            0x01: \"=BBBB\",\n",
    "            0x03: \"=BB\",\n",
    "            0x04: \"=BB\",\n",
    "            0x05: \"=BB\",\n",
    "            0x06: \"=BB\",\n",
    "            0x07: \"=ffff\",\n",
    "            0x08: \"=BB\",\n",
    "            0x09: \"=fff\",\n",
    "            0x0a: \"=fff\",\n",
    "            0x0b: \"=BB\",\n",
    "            0x0c: \"=f\",\n",
    "            0x0d: \"=BB\",\n",
    "            0x0e: \"=BB\",\n",
    "            0x0f: \"=fff\",\n",
    "            0xa0: \"=Bfff\",\n",
    "            0xa1: \"=BB\",\n",
    "        }\n",
    "\n",
    "    def send_command(self, cmd, args):\n",
    "        # Clear buffer\n",
    "        print(self.ser.read(self.ser.in_waiting))\n",
    "        \n",
    "        parameters = bytearray(struct.pack(self.pack_format[cmd], *args))\n",
    "        print(parameters)\n",
    "        msg_len = len(parameters) + 5\n",
    "        msg = bytearray([0xfa, 0xaf, msg_len, cmd]) + parameters\n",
    "        crc = sum(msg) % 256\n",
    "        msg += bytearray([crc])\n",
    "\n",
    "        print(\"send \", repr(msg))\n",
    "        self.ser.write(msg)\n",
    "\n",
    "        start_time = datetime.datetime.now()\n",
    "        time_threshold = datetime.timedelta(seconds=1)\n",
    "        dt = start_time - start_time\n",
    "        \n",
    "        time.sleep(0.001)\n",
    "        data = self.ser.read()[0]\n",
    "        while (data != 0xfa) and (dt < time_threshold):\n",
    "            data = self.ser.read()[0]\n",
    "\n",
    "            current_time = datetime.datetime.now()\n",
    "            dt = start_time - current_time\n",
    "\n",
    "        adr = self.ser.read()[0]\n",
    "        answer_len = self.ser.read()[0]\n",
    "        answer = bytearray(self.ser.read(answer_len - 3))\n",
    "        print(\"answer \", repr(bytearray([data, adr, answer_len]) + answer))\n",
    "\n",
    "        args = struct.unpack(self.unpack_format[cmd], answer[1:-1])\n",
    "        return args\n"
   ]
  },
  {
   "cell_type": "markdown",
   "metadata": {},
   "source": [
    "# Function of animation of output data"
   ]
  },
  {
   "cell_type": "code",
   "execution_count": 2,
   "metadata": {
    "collapsed": true,
    "run_control": {
     "marked": true
    }
   },
   "outputs": [],
   "source": [
    "import matplotlib.pyplot as plt\n",
    "from matplotlib.animation import FuncAnimation\n",
    "%matplotlib notebook\n",
    "class Output_ploter(object):\n",
    "    def __init__(self):\n",
    "        self.xdata = []\n",
    "        self.ydata = []\n",
    "    def time_plot(self, protocol, cmd, args, param, time_duration=10):\n",
    "        def generate_data():\n",
    "            while(1): \n",
    "                res = protocol.send_command(cmd, args)\n",
    "                yield res\n",
    "\n",
    "        fig, ax = plt.subplots()\n",
    "        ln, = ax.plot([])\n",
    "        start_time = time.time()\n",
    "        def init():\n",
    "            ax.set_xlim(0, time_duration)\n",
    "            return ln, \n",
    "\n",
    "        def update(frame):\n",
    "            self.xdata.append(time.time() - start_time)\n",
    "            self.ydata.append(frame[param])\n",
    "            ln.set_data(self.xdata, self.ydata)\n",
    "            if time_duration < self.xdata[-1]:\n",
    "                ax.set_xlim(self.xdata[-1] - time_duration, self.xdata[-1])\n",
    "            ax.set_ylim(min(self.ydata), max(self.ydata))\n",
    "            return ln, \n",
    "        ani = FuncAnimation(fig, update, frames=generate_data(),\n",
    "                        init_func=init, blit=True, interval=25)\n",
    "        return ani\n",
    "    def xy_plot(self, protocol, cmd, args, params, time_duration=10):\n",
    "        def generate_data():\n",
    "            while(1): \n",
    "                res = protocol.send_command(cmd, args)\n",
    "                yield res\n",
    "\n",
    "        fig, ax = plt.subplots()\n",
    "        ln, = ax.plot([])\n",
    "        start_time = time.time()\n",
    "        def init():\n",
    "            ax.set_xlim(0, time_duration)\n",
    "            return ln, \n",
    "\n",
    "        def update(frame):\n",
    "            self.xdata.append(frame[params[0]])\n",
    "            self.ydata.append(frame[params[1]])\n",
    "            ln.set_data(self.xdata, self.ydata)\n",
    "            ax.set_xlim(min(self.xdata), max(self.xdata))\n",
    "            ax.set_ylim(min(self.ydata), max(self.ydata))\n",
    "            return ln, \n",
    "        ani = FuncAnimation(fig, update, frames=generate_data(),\n",
    "                        init_func=init, blit=True, interval=25)\n",
    "        return ani\n",
    "    def qxy_plot(self, protocol, cmd, args, params, time_duration=10):\n",
    "        def generate_data():\n",
    "            while(1): \n",
    "                res = protocol.send_command(cmd, args)\n",
    "                yield res\n",
    "\n",
    "        fig, ax = plt.subplots()\n",
    "        ln, = ax.plot([])\n",
    "        start_time = time.time()\n",
    "        def init():\n",
    "            ax.set_xlim(0, time_duration)\n",
    "            return ln, \n",
    "\n",
    "        def update(frame):\n",
    "            self.xdata.append(frame[params[0]])\n",
    "            self.ydata.append(frame[params[1]])\n",
    "            ln.set_data(self.xdata, self.ydata)\n",
    "            ax.set_xlim(min(self.xdata), max(self.xdata))\n",
    "            ax.set_ylim(min(self.ydata), max(self.ydata))\n",
    "            return ln, \n",
    "        ani = FuncAnimation(fig, update, frames=generate_data(),\n",
    "                        init_func=init, blit=True, interval=25)\n",
    "        return ani"
   ]
  },
  {
   "cell_type": "markdown",
   "metadata": {},
   "source": [
    "# Work with STM"
   ]
  },
  {
   "cell_type": "markdown",
   "metadata": {},
   "source": [
    "## Start protocol"
   ]
  },
  {
   "cell_type": "code",
   "execution_count": 4,
   "metadata": {},
   "outputs": [],
   "source": [
    "protocol = STMprotocol(\"COM17\")"
   ]
  },
  {
   "cell_type": "code",
   "execution_count": null,
   "metadata": {
    "collapsed": true
   },
   "outputs": [],
   "source": [
    "protocol.ser.close()"
   ]
  },
  {
   "cell_type": "markdown",
   "metadata": {},
   "source": [
    "## Test echo"
   ]
  },
  {
   "cell_type": "code",
   "execution_count": 79,
   "metadata": {},
   "outputs": [
    {
     "name": "stdout",
     "output_type": "stream",
     "text": [
      "b''\n",
      "bytearray(b'ECHO')\n",
      "send  bytearray(b'\\xfa\\xaf\\t\\x01ECHO\\xd2')\n",
      "answer  bytearray(b'\\xfa\\xfa\\t\\x01ECHO\\x1d')\n"
     ]
    },
    {
     "data": {
      "text/plain": [
       "(69, 67, 72, 79)"
      ]
     },
     "execution_count": 79,
     "metadata": {},
     "output_type": "execute_result"
    }
   ],
   "source": [
    "# Echo\n",
    "\n",
    "protocol.send_command(0x01, [ord(c) for c in 'ECHO'])"
   ]
  },
  {
   "cell_type": "markdown",
   "metadata": {},
   "source": [
    "## On-line plotting of output data"
   ]
  },
  {
   "cell_type": "markdown",
   "metadata": {},
   "source": [
    "## Time plotter"
   ]
  },
  {
   "cell_type": "code",
   "execution_count": null,
   "metadata": {
    "run_control": {
     "marked": true
    }
   },
   "outputs": [],
   "source": [
    "ploter = Output_ploter()\n",
    "ani = ploter.time_plot(protocol, 0x07, [4], 3, 10)"
   ]
  },
  {
   "cell_type": "markdown",
   "metadata": {},
   "source": [
    "## XY plotter"
   ]
  },
  {
   "cell_type": "code",
   "execution_count": null,
   "metadata": {},
   "outputs": [],
   "source": [
    "ploter = Output_ploter()\n",
    "ani = ploter.xy_plot(protocol, 0x0F, [], [0,1], 10)"
   ]
  },
  {
   "cell_type": "code",
   "execution_count": null,
   "metadata": {},
   "outputs": [],
   "source": [
    "print(ploter.xdata)"
   ]
  },
  {
   "cell_type": "markdown",
   "metadata": {},
   "source": [
    "## Debug low level commands"
   ]
  },
  {
   "cell_type": "code",
   "execution_count": 116,
   "metadata": {},
   "outputs": [
    {
     "name": "stdout",
     "output_type": "stream",
     "text": [
      "b''\n",
      "bytearray(b'\\x01\\xcd\\xcc\\xcc=')\n",
      "send  bytearray(b'\\xfa\\xaf\\n\\x03\\x01\\xcd\\xcc\\xcc=Y')\n",
      "answer  bytearray(b'\\xfa\\xfa\\x07\\x03OK\\x98')\n"
     ]
    },
    {
     "data": {
      "text/plain": [
       "(79, 75)"
      ]
     },
     "execution_count": 116,
     "metadata": {},
     "output_type": "execute_result"
    }
   ],
   "source": [
    "# Set duty cycle of particular PWM channel\n",
    "channel = 1\n",
    "dutyCycle = 0.1\n",
    "protocol.send_command(0x03, [channel, dutyCycle])"
   ]
  },
  {
   "cell_type": "code",
   "execution_count": null,
   "metadata": {},
   "outputs": [],
   "source": [
    "protocol.send_command(0x0F, [])"
   ]
  },
  {
   "cell_type": "code",
   "execution_count": 127,
   "metadata": {},
   "outputs": [
    {
     "name": "stdout",
     "output_type": "stream",
     "text": [
      "b''\n",
      "bytearray(b'\\x01')\n",
      "send  bytearray(b'\\xfa\\xaf\\x06\\x04\\x01\\xb4')\n",
      "answer  bytearray(b'\\xfa\\xfa\\x07\\x04OK\\x99')\n"
     ]
    },
    {
     "data": {
      "text/plain": [
       "(79, 75)"
      ]
     },
     "execution_count": 127,
     "metadata": {},
     "output_type": "execute_result"
    }
   ],
   "source": [
    "# Set direction bit for particular motor\n",
    "channel = 1\n",
    "protocol.send_command(0x04, [channel])"
   ]
  },
  {
   "cell_type": "code",
   "execution_count": null,
   "metadata": {},
   "outputs": [],
   "source": [
    "# Reset direction bit for particular motor\n",
    "channel = 1\n",
    "protocol.send_command(0x05, [channel]);"
   ]
  },
  {
   "cell_type": "code",
   "execution_count": null,
   "metadata": {},
   "outputs": [],
   "source": [
    "# Set speed of all motors in rad/s\n",
    "\n",
    "protocol.send_command(0x06, [4, 0, 0, 0, 12])"
   ]
  },
  {
   "cell_type": "code",
   "execution_count": null,
   "metadata": {},
   "outputs": [],
   "source": [
    "# Read speed of all wheels in rad/s\n",
    "numberOfmotors = 4\n",
    "protocol.send_command(0x07, [numberOfmotors])"
   ]
  },
  {
   "cell_type": "markdown",
   "metadata": {},
   "source": [
    "## Set and get Robot's speed in its own coordinate system"
   ]
  },
  {
   "cell_type": "code",
   "execution_count": null,
   "metadata": {},
   "outputs": [],
   "source": [
    "# Set robot speed in its own coordinate system\n",
    "Vx = 0.1\n",
    "Vy = 0.1\n",
    "Wz = 0.7\n",
    "protocol.send_command(0x08, [Vx, Vy, Wz])"
   ]
  },
  {
   "cell_type": "code",
   "execution_count": null,
   "metadata": {},
   "outputs": [],
   "source": [
    "# Set robot speed to 0 in its own coordinate system\n",
    "Vx = 0.0\n",
    "Vy = 0.0\n",
    "Wz = 0.0\n",
    "\n",
    "protocol.send_command(0x08, [Vx, Vy, Wz])"
   ]
  },
  {
   "cell_type": "code",
   "execution_count": null,
   "metadata": {},
   "outputs": [],
   "source": [
    "# Read robot speed in its own coordinate system\n",
    "protocol.send_command(0x09, [])"
   ]
  },
  {
   "cell_type": "markdown",
   "metadata": {},
   "source": [
    "## Read Robot's coordinates' increments (robot coordinate system)"
   ]
  },
  {
   "cell_type": "code",
   "execution_count": null,
   "metadata": {},
   "outputs": [],
   "source": [
    "# Read robot coord in its own coordinate system\n",
    "protocol.send_command(0x0a, [])"
   ]
  },
  {
   "cell_type": "markdown",
   "metadata": {},
   "source": [
    "## Set and get Robot's global coordinates "
   ]
  },
  {
   "cell_type": "code",
   "execution_count": null,
   "metadata": {},
   "outputs": [],
   "source": [
    "# Set robot global coord\n",
    "x = 0\n",
    "y = 0\n",
    "alpha = 0\n",
    "protocol.send_command(0x0E, [x, y, alpha])"
   ]
  },
  {
   "cell_type": "code",
   "execution_count": null,
   "metadata": {},
   "outputs": [],
   "source": [
    "# Get robot global coord\n",
    "protocol.send_command(0x0F, [])"
   ]
  },
  {
   "cell_type": "markdown",
   "metadata": {},
   "source": [
    "## Set and get angle of particular servo motor (dynamixel)"
   ]
  },
  {
   "cell_type": "code",
   "execution_count": null,
   "metadata": {},
   "outputs": [],
   "source": [
    "# Move servo of particular id (first parameter), to specified angle (second parameter) \n",
    "servoId = 2\n",
    "angle = 300\n",
    "protocol.send_command(0x0b, [servoId, angle])"
   ]
  },
  {
   "cell_type": "code",
   "execution_count": null,
   "metadata": {},
   "outputs": [],
   "source": [
    "# Get angle of particular servo\n",
    "servoId = 2\n",
    "protocol.send_command(0x0c, [servoId])"
   ]
  },
  {
   "cell_type": "markdown",
   "metadata": {},
   "source": [
    "## Turn on and off forward kinematics calculations"
   ]
  },
  {
   "cell_type": "code",
   "execution_count": null,
   "metadata": {},
   "outputs": [],
   "source": [
    "# Turn on/off forward kinematics calculations\n",
    "status = 1\n",
    "protocol.send_command(0x0D, [status])"
   ]
  },
  {
   "cell_type": "markdown",
   "metadata": {},
   "source": [
    "## Get robot's status"
   ]
  },
  {
   "cell_type": "code",
   "execution_count": null,
   "metadata": {},
   "outputs": [],
   "source": [
    "# Get status\n",
    "protocol.send_command(0xa0, [1, 1, 1])"
   ]
  },
  {
   "cell_type": "markdown",
   "metadata": {},
   "source": [
    "## Demo with manipulator"
   ]
  },
  {
   "cell_type": "code",
   "execution_count": null,
   "metadata": {
    "collapsed": true
   },
   "outputs": [],
   "source": [
    "# Parameters for right manipulator\n",
    "rightSliderId = 1\n",
    "rightGripperId = 16\n",
    "\n",
    "rightSliderUpPos = 45\n",
    "rightSliderBotPos = 300\n",
    "rightGripperOpened = 40\n",
    "rightGripperClosed = 150"
   ]
  },
  {
   "cell_type": "code",
   "execution_count": null,
   "metadata": {},
   "outputs": [],
   "source": [
    "# Open and lower manipulator\n",
    "protocol.send_command(0x0b, [rightGripperId, rightGripperOpened])\n",
    "time.sleep(0.5)\n",
    "protocol.send_command(0x0b, [rightSliderId, rightSliderBotPos])"
   ]
  },
  {
   "cell_type": "code",
   "execution_count": null,
   "metadata": {},
   "outputs": [],
   "source": [
    "# Close and lift manipulator\n",
    "protocol.send_command(0x0b, [rightGripperId, rightGripperClosed])\n",
    "time.sleep(0.5)\n",
    "protocol.send_command(0x0b, [rightSliderId, rightSliderUpPos])"
   ]
  },
  {
   "cell_type": "code",
   "execution_count": null,
   "metadata": {},
   "outputs": [],
   "source": [
    "# Open and lower manipulator\n",
    "protocol.send_command(0x0b, [rightGripperId, rightGripperOpened])\n",
    "time.sleep(0.5)\n",
    "protocol.send_command(0x0b, [rightSliderId, rightSliderBotPos])"
   ]
  },
  {
   "cell_type": "code",
   "execution_count": null,
   "metadata": {},
   "outputs": [],
   "source": [
    "# Close and lift manipulator\n",
    "protocol.send_command(0x0b, [rightGripperId, rightGripperClosed])\n",
    "time.sleep(0.5)\n",
    "protocol.send_command(0x0b, [rightSliderId, rightSliderUpPos])"
   ]
  },
  {
   "cell_type": "code",
   "execution_count": null,
   "metadata": {},
   "outputs": [],
   "source": [
    "# Open and lower manipulator\n",
    "protocol.send_command(0x0b, [rightGripperId, rightGripperOpened])\n",
    "time.sleep(0.5)\n",
    "protocol.send_command(0x0b, [rightSliderId, rightSliderBotPos])"
   ]
  },
  {
   "cell_type": "code",
   "execution_count": null,
   "metadata": {},
   "outputs": [],
   "source": [
    "# Close and lift manipulator\n",
    "protocol.send_command(0x0b, [rightGripperId, rightGripperClosed])\n",
    "time.sleep(0.5)\n",
    "protocol.send_command(0x0b, [rightSliderId, rightSliderUpPos])"
   ]
  },
  {
   "cell_type": "code",
   "execution_count": null,
   "metadata": {},
   "outputs": [],
   "source": [
    "# Lower and open\n",
    "protocol.send_command(0x0b, [rightSliderId, rightSliderBotPos])\n",
    "time.sleep(1)\n",
    "protocol.send_command(0x0b, [rightGripperId, rightGripperOpened])"
   ]
  },
  {
   "cell_type": "markdown",
   "metadata": {},
   "source": [
    "## Demo with Robot's motion"
   ]
  },
  {
   "cell_type": "code",
   "execution_count": null,
   "metadata": {},
   "outputs": [],
   "source": [
    "\n",
    "#Vx = 0.0\n",
    "#Vy = 0.0\n",
    "#Wz = 3.1415926/2\n",
    "#protocol.send_command(0x08, [Vx, Vy, Wz])\n",
    "\n",
    "#time.sleep(4)\n",
    "\n",
    "Vx = 0.0\n",
    "Vy = 0.0\n",
    "Wz = 0.0\n",
    "protocol.send_command(0x08, [Vx, Vy, Wz])\n",
    "\n",
    "time.sleep(0.3)"
   ]
  },
  {
   "cell_type": "code",
   "execution_count": null,
   "metadata": {},
   "outputs": [],
   "source": [
    "Vx = 0.0\n",
    "Vy = 0.1\n",
    "Wz = 0.0\n",
    "protocol.send_command(0x08, [Vx, Vy, Wz])\n",
    "\n",
    "time.sleep(4)\n",
    "\n",
    "Vx = 0.0\n",
    "Vy = 0.0\n",
    "Wz = 0.0\n",
    "protocol.send_command(0x08, [Vx, Vy, Wz])\n",
    "\n",
    "time.sleep(0.3)"
   ]
  },
  {
   "cell_type": "code",
   "execution_count": null,
   "metadata": {},
   "outputs": [],
   "source": [
    "Vx = 0.1 / 2 ** 0.5\n",
    "Vy = -0.1 / 2 ** 0.5\n",
    "Wz = 0.0\n",
    "protocol.send_command(0x08, [Vx, Vy, Wz])\n",
    "\n",
    "time.sleep(4)\n",
    "\n",
    "Vx = 0.0\n",
    "Vy = 0.0\n",
    "Wz = 0.0\n",
    "protocol.send_command(0x08, [Vx, Vy, Wz])\n",
    "\n",
    "time.sleep(0.3)\n"
   ]
  },
  {
   "cell_type": "code",
   "execution_count": null,
   "metadata": {},
   "outputs": [],
   "source": [
    "Vx = -0.1\n",
    "Vy = -0.1\n",
    "Wz = 0.0\n",
    "protocol.send_command(0x08, [Vx, Vy, Wz])\n",
    "\n",
    "time.sleep(4)\n",
    "\n",
    "Vx = 0.0\n",
    "Vy = 0.0\n",
    "Wz = 0.0\n",
    "protocol.send_command(0x08, [Vx, Vy, Wz])"
   ]
  }
 ],
 "metadata": {
  "kernelspec": {
   "display_name": "Python 3",
   "language": "python",
   "name": "python3"
  },
  "language_info": {
   "codemirror_mode": {
    "name": "ipython",
    "version": 3
   },
   "file_extension": ".py",
   "mimetype": "text/x-python",
   "name": "python",
   "nbconvert_exporter": "python",
   "pygments_lexer": "ipython3",
   "version": "3.6.2"
  },
  "toc": {
   "nav_menu": {},
   "number_sections": true,
   "sideBar": true,
   "skip_h1_title": false,
   "toc_cell": false,
   "toc_position": {},
   "toc_section_display": "block",
   "toc_window_display": false
  },
  "varInspector": {
   "cols": {
    "lenName": 16,
    "lenType": 16,
    "lenVar": 40
   },
   "kernels_config": {
    "python": {
     "delete_cmd_postfix": "",
     "delete_cmd_prefix": "del ",
     "library": "var_list.py",
     "varRefreshCmd": "print(var_dic_list())"
    },
    "r": {
     "delete_cmd_postfix": ") ",
     "delete_cmd_prefix": "rm(",
     "library": "var_list.r",
     "varRefreshCmd": "cat(var_dic_list()) "
    }
   },
   "types_to_exclude": [
    "module",
    "function",
    "builtin_function_or_method",
    "instance",
    "_Feature"
   ],
   "window_display": false
  }
 },
 "nbformat": 4,
 "nbformat_minor": 2
}
