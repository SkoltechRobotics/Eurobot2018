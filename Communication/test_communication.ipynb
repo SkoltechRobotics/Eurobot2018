{
 "cells": [
  {
   "cell_type": "code",
   "execution_count": null,
   "metadata": {
    "collapsed": true
   },
   "outputs": [],
   "source": [
    "# %load STMprotocol.py\n",
    "import serial\n",
    "import struct\n",
    "import datetime\n",
    "\n",
    "\n",
    "class STMprotocol:\n",
    "    def __init__(self, serial_port):\n",
    "        self.ser = serial.Serial(serial_port, 115200, timeout=0.2)\n",
    "        self.pack_format = {\n",
    "            0x01: \"BBBB\",\n",
    "            0x03: \"Bf\",\n",
    "            0x04: \"B\",\n",
    "            0x05: \"B\",\n",
    "            0x09: \"Bf\",\n",
    "            0x0a: \"B\",\n",
    "            0x0b: \"BH\",\n",
    "            0xa0: \"fff\",\n",
    "            0xa1: \"fff\"\n",
    "            0xb0: \"B\"\n",
    "            0xb1: \"B\"\n",
    "            0xc0: \"BB\"\n",
    "        }\n",
    "\n",
    "        self.unpack_format = {\n",
    "            0x01: \"BBBB\",\n",
    "            0x03: \"BB\",\n",
    "            0x04: \"BB\",\n",
    "            0x05: \"BB\",\n",
    "            0x09: \"BB\",\n",
    "            0x0a: \"f\",\n",
    "            0x0b: \"BB\",\n",
    "            0xa0: \"Bfff\",\n",
    "            0xa1: \"BB\"\n",
    "            0xb0: \"BB\"\n",
    "            0xb1: \"BB\"\n",
    "            0xc0: \"BB\"\n",
    "        }\n",
    "\n",
    "    def send_command(self, cmd, args):\n",
    "        parameters = bytearray(struct.pack(self.format, *args))\n",
    "        msg_len = len(parameters) + 5\n",
    "        msg = bytearray([0xfa, 0xaf, msg_len, cmd]) + parameters\n",
    "        crc = sum(msg) % 256\n",
    "        msg += bytearray([crc])\n",
    "\n",
    "        print(\"send \", repr(msg))\n",
    "        ser.write(msg)\n",
    "\n",
    "        start_time = datetime.datetime.now()\n",
    "        time_threshold = datetime.timedelta(seconds=1)\n",
    "        dt = start_time - start_time\n",
    "\n",
    "        data = ser.read()[0]\n",
    "        while (data != 0xfa) and (dt < time_threshold):\n",
    "            data = ser.read()[0]\n",
    "\n",
    "            current_time = datetime.datetime.now()\n",
    "            dt = start_time - current_time\n",
    "\n",
    "        adr = ser.read()[0]\n",
    "        answer_len = ser.read()[0]\n",
    "        answer = bytearray(ser.read(answer_len - 3))\n",
    "        print(\"answer \", repr(bytearray([data, adr, answer_len]) + answer))\n",
    "\n",
    "        args = struct.unpack(self.unpack_format, answer[1:-1])\n",
    "        return args\n"
   ]
  },
  {
   "cell_type": "code",
   "execution_count": null,
   "metadata": {
    "collapsed": true
   },
   "outputs": [],
   "source": [
    "# %load send_command.py\n",
    "# from STMprotocol import STMprotocol\n",
    "argv = \"send 2 COM8 3 1 0.1\" \n",
    "\n",
    "protocol = STMprotocol(argv[1])\n",
    "\n",
    "cmd = int(argv[2])\n",
    "\n",
    "parameters = []\n",
    "\n",
    "if cmd == 1:\n",
    "    args = protocol.send_command(cmd, b\"ECHO\")\n",
    "elif cmd == 3 or cmd == 9:\n",
    "    args = protocol.send_command(cmd, [int(argv[3]), argv[4]])\n",
    "elif cmd == 4 or cmd == 5 or cmd == 10:\n",
    "    args = protocol.send_command(cmd, [int(argv[3])])\n",
    "elif cmd == 11:\n",
    "    args = protocol.send_command(cmd, [int(argv[3]), int(argv[4])])\n",
    "else:\n",
    "    args = protocol.send_command(cmd, [float(argv[3]), float(argv[4]), float(argv[5])])\n",
    "\n",
    "print(args)\n"
   ]
  }
 ],
 "metadata": {
  "kernelspec": {
   "display_name": "Python 3",
   "language": "python",
   "name": "python3"
  },
  "language_info": {
   "codemirror_mode": {
    "name": "ipython",
    "version": 3
   },
   "file_extension": ".py",
   "mimetype": "text/x-python",
   "name": "python",
   "nbconvert_exporter": "python",
   "pygments_lexer": "ipython3",
   "version": "3.6.1"
  },
  "toc": {
   "nav_menu": {},
   "number_sections": true,
   "sideBar": true,
   "skip_h1_title": false,
   "toc_cell": false,
   "toc_position": {},
   "toc_section_display": "block",
   "toc_window_display": false
  },
  "varInspector": {
   "cols": {
    "lenName": 16,
    "lenType": 16,
    "lenVar": 40
   },
   "kernels_config": {
    "python": {
     "delete_cmd_postfix": "",
     "delete_cmd_prefix": "del ",
     "library": "var_list.py",
     "varRefreshCmd": "print(var_dic_list())"
    },
    "r": {
     "delete_cmd_postfix": ") ",
     "delete_cmd_prefix": "rm(",
     "library": "var_list.r",
     "varRefreshCmd": "cat(var_dic_list()) "
    }
   },
   "types_to_exclude": [
    "module",
    "function",
    "builtin_function_or_method",
    "instance",
    "_Feature"
   ],
   "window_display": false
  }
 },
 "nbformat": 4,
 "nbformat_minor": 2
}
