{
 "cells": [
  {
   "cell_type": "code",
   "execution_count": 1,
   "metadata": {
    "collapsed": true
   },
   "outputs": [],
   "source": [
    "import sys\n",
    "sys.path.insert(0, r\"C:\\Users\\Sergey\\OneDrive\\Skoltech\\Eurobot\\Communication\\ros-eurobot-2018\\eurobot\\scripts\\stm_node\")\n",
    "import STMprotocol"
   ]
  },
  {
   "cell_type": "code",
   "execution_count": 2,
   "metadata": {
    "collapsed": true
   },
   "outputs": [],
   "source": [
    "protocol = STMprotocol.STMprotocol(\"COM5\")"
   ]
  },
  {
   "cell_type": "code",
   "execution_count": 3,
   "metadata": {},
   "outputs": [
    {
     "data": {
      "text/plain": [
       "(True, (69, 67, 72, 79))"
      ]
     },
     "execution_count": 3,
     "metadata": {},
     "output_type": "execute_result"
    }
   ],
   "source": [
    "protocol.pure_send_command(0x01, [ord(c) for c in 'ECHO'])"
   ]
  },
  {
   "cell_type": "code",
   "execution_count": 4,
   "metadata": {},
   "outputs": [
    {
     "data": {
      "text/plain": [
       "(True, (79, 75))"
      ]
     },
     "execution_count": 4,
     "metadata": {},
     "output_type": "execute_result"
    }
   ],
   "source": [
    "protocol.pure_send_command(0x0d, [1])"
   ]
  },
  {
   "cell_type": "code",
   "execution_count": null,
   "metadata": {},
   "outputs": [],
   "source": [
    "%%time\n",
    "import time\n",
    "import random\n",
    "numberOfCommands = 0\n",
    "\n",
    "for i in range(10000):\n",
    "    protocol.send_command(0x0f, [])\n",
    "    numberOfCommands += 1;\n",
    "    #time.sleep(0.01);\n",
    "    if i % 100 == 0:\n",
    "        protocol.send_command(0x08, [random.uniform(0, 0.3), random.uniform(0, 0.3), random.uniform(0, 3.14)])\n",
    "        numberOfCommands += 1\n",
    "print(numberOfCommands)\n",
    "      "
   ]
  },
  {
   "cell_type": "code",
   "execution_count": null,
   "metadata": {},
   "outputs": [],
   "source": [
    "print(numberOfCommands)"
   ]
  },
  {
   "cell_type": "code",
   "execution_count": null,
   "metadata": {},
   "outputs": [],
   "source": [
    "protocol.pure_send_command(0x0f, [])"
   ]
  },
  {
   "cell_type": "code",
   "execution_count": 12,
   "metadata": {},
   "outputs": [
    {
     "name": "stdout",
     "output_type": "stream",
     "text": [
      "5000\n",
      "5000\n",
      "Wall time: 24.3 s\n"
     ]
    }
   ],
   "source": [
    "%%time\n",
    "import time\n",
    "import random\n",
    "numberOfCommands = 0\n",
    "\n",
    "cmds = [(0x01, [ord(c) for c in 'ECHO']), (0x06, [4, 0, 0, 0, 0]), (0x0b, [11, 14]), (0x08, [random.uniform(0.0, 0.4), random.uniform(0.0, 0.4), random.uniform(0.0, 3.14)]), \n",
    "        (0x0D, [1]), (0x0f, [])]\n",
    "\n",
    "protocol.n_commands = 0\n",
    "for i in range(5000):\n",
    "    cmd = cmds[random.randint(0, len(cmds) - 1)]\n",
    "    protocol.send_command(*cmd)\n",
    "    #time.sleep(0.01);\n",
    "    numberOfCommands += 1\n",
    "    \n",
    "print(protocol.n_commands)\n",
    "print(numberOfCommands)"
   ]
  },
  {
   "cell_type": "code",
   "execution_count": null,
   "metadata": {},
   "outputs": [],
   "source": [
    "print(numberOfCommands)"
   ]
  },
  {
   "cell_type": "code",
   "execution_count": null,
   "metadata": {
    "collapsed": true
   },
   "outputs": [],
   "source": [
    "random.uniform (0.0, 0.1)"
   ]
  },
  {
   "cell_type": "code",
   "execution_count": 9,
   "metadata": {},
   "outputs": [
    {
     "data": {
      "text/plain": [
       "4.8"
      ]
     },
     "execution_count": 9,
     "metadata": {},
     "output_type": "execute_result"
    }
   ],
   "source": [
    "24000 / 5000"
   ]
  },
  {
   "cell_type": "code",
   "execution_count": 10,
   "metadata": {},
   "outputs": [
    {
     "data": {
      "text/plain": [
       "208.33333333333334"
      ]
     },
     "execution_count": 10,
     "metadata": {},
     "output_type": "execute_result"
    }
   ],
   "source": [
    "5000 / 24"
   ]
  },
  {
   "cell_type": "code",
   "execution_count": null,
   "metadata": {
    "collapsed": true
   },
   "outputs": [],
   "source": []
  }
 ],
 "metadata": {
  "kernelspec": {
   "display_name": "Python 3",
   "language": "python",
   "name": "python3"
  },
  "language_info": {
   "codemirror_mode": {
    "name": "ipython",
    "version": 3
   },
   "file_extension": ".py",
   "mimetype": "text/x-python",
   "name": "python",
   "nbconvert_exporter": "python",
   "pygments_lexer": "ipython3",
   "version": "3.5.2"
  },
  "toc": {
   "nav_menu": {},
   "number_sections": true,
   "sideBar": true,
   "skip_h1_title": false,
   "toc_cell": false,
   "toc_position": {},
   "toc_section_display": "block",
   "toc_window_display": false
  }
 },
 "nbformat": 4,
 "nbformat_minor": 2
}
