{
 "cells": [
  {
   "cell_type": "code",
   "execution_count": 1,
   "metadata": {
    "collapsed": true
   },
   "outputs": [],
   "source": [
    "from functools import reduce"
   ]
  },
  {
   "cell_type": "markdown",
   "metadata": {},
   "source": [
    "# Search all sequences of picking cubes"
   ]
  },
  {
   "cell_type": "code",
   "execution_count": 6,
   "metadata": {
    "collapsed": true
   },
   "outputs": [],
   "source": [
    "def check_safety(towers_cubes, n):\n",
    "    global Allowed_seq_3\n",
    "    n_tr = 0\n",
    "    for tower in towers_cubes:\n",
    "        if len(tower) > 3 and tower[-3:] in Allowed_seq_3[8:]:\n",
    "            n_tr += 1\n",
    "    return n_tr >= n\n",
    "\n",
    "def check_tower(tower_cubes):\n",
    "    global Allowed_seq_1\n",
    "    global Allowed_seq_2\n",
    "    global Allowed_seq_3\n",
    "    n = len(tower_cubes)\n",
    "    if n == 1:\n",
    "        return tower_cubes in Allowed_seq_1\n",
    "    elif n == 2:\n",
    "        return tower_cubes in Allowed_seq_2\n",
    "    elif n < 6:\n",
    "        return tower_cubes[-3:] in Allowed_seq_3\n",
    "    else:\n",
    "        return False\n",
    "\n",
    "def pick(remain_cubes, n_cubes):\n",
    "    if n_cubes == 4:\n",
    "        for i in range(3):\n",
    "            picked_cubes = [[], [], []]\n",
    "            picked_cubes[i] = [4]\n",
    "            yield remain_cubes, picked_cubes, [i]\n",
    "    elif n_cubes == 1:\n",
    "        for i in range(len(remain_cubes)):\n",
    "            for j in range(3):\n",
    "                picked_cubes = [[], [], []]\n",
    "                picked_cubes[j] = [remain_cubes[i]]\n",
    "                yield remain_cubes[:i] + remain_cubes[i + 1:], picked_cubes, [j]\n",
    "    elif n_cubes == 2:\n",
    "        for i in range(4):\n",
    "            picked = [i, (i + 1) % 4]\n",
    "            if all([(x in remain_cubes) for x in picked]):\n",
    "                yield list(set(remain_cubes) - set(picked)), [[picked[0]], [picked[1]], []], [0, 1]\n",
    "                yield list(set(remain_cubes) - set(picked)), [[], [picked[0]], [picked[1]]], [1, 2]\n",
    "        for i in range(4):\n",
    "            picked = [i, (i + 2) % 4]\n",
    "            if all([(x in remain_cubes) for x in picked]):\n",
    "                yield list(set(remain_cubes) - set(picked)), [[picked[0]], [], [picked[1]]], [0, 2]\n",
    "    elif n_cubes == 3:\n",
    "        yield [3], [[0], [1], [2]], [0, 1, 2]\n",
    "        yield [0], [[1], [2], [3]], [0, 1, 2]\n",
    "        yield [1], [[2], [3], [0]], [0, 1, 2]\n",
    "        yield [2], [[3], [0], [1]], [0, 1, 2]\n",
    "        \n",
    "        \n",
    "def get_one(towers_cubes=[[], [], []], picking_seq=[], remain_cubes=[0, 1, 2, 3], n_heap=0, strat=None):\n",
    "    if n_heap == 3:\n",
    "        \n",
    "        yield towers_cubes, picking_seq\n",
    "    \n",
    "    elif strat is None:\n",
    "        yield from get_one(towers_cubes, picking_seq, remain_cubes, n_heap, [3, 4, 1])\n",
    "        yield from get_one(towers_cubes, picking_seq, remain_cubes, n_heap, [2, 1, 4, 1])\n",
    "        yield from get_one(towers_cubes, picking_seq, remain_cubes, n_heap, [2, 2, 4])\n",
    "        yield from get_one(towers_cubes, picking_seq, remain_cubes, n_heap, [1, 2, 4, 1])\n",
    "        yield from get_one(towers_cubes, picking_seq, remain_cubes, n_heap, [1, 1, 1, 4, 1])\n",
    "            \n",
    "    elif strat == []:\n",
    "        if check_safety(towers_cubes, n_heap + 1):\n",
    "            yield from get_one(towers_cubes, picking_seq, [0, 1, 2, 3], n_heap + 1)\n",
    "        \n",
    "    else:\n",
    "        for remain_cubes, picked_cubes, towers in pick(remain_cubes, strat[0]):\n",
    "            new_towers_cubes = [towers_cubes[i] + picked_cubes[i] for i in range(3)]\n",
    "            if all([check_tower(new_towers_cubes[x]) for x in towers]):\n",
    "                yield from get_one(new_towers_cubes, picking_seq + [picked_cubes], remain_cubes, n_heap, strat[1:])"
   ]
  },
  {
   "cell_type": "code",
   "execution_count": null,
   "metadata": {
    "collapsed": true
   },
   "outputs": [],
   "source": [
    "def find_optimal_sequence(self, key):\n",
    "    # dynamic searching of optimal piking sequence\n",
    "    seqs = [{((), (), ()): []}, {}, {}, {}]\n",
    "    for i in range(3):\n",
    "        for last_picked_cubes, last_seq in seqs[i].items():\n",
    "            for new_picked_cubes, new_seq in self.pick_one_heap(last_picked_cubes, last_seq):\n",
    "                if self.check_safety(new_picked_cubes, i + 1):\n",
    "                    old_value = seqs[i + 1].get(new_picked_cubes)\n",
    "                    if old_value is None:\n",
    "                        seqs[i + 1][new_picked_cubes] = new_seq\n",
    "                    else:\n",
    "                        seqs[i + 1][new_picked_cubes] = min(new_seq, seqs[i + 1][new_picked_cubes], key=key)\n",
    "    return min(seqs[3].values(), key=key)"
   ]
  },
  {
   "cell_type": "markdown",
   "metadata": {},
   "source": [
    "## Search allowed cubes sequences "
   ]
  },
  {
   "cell_type": "code",
   "execution_count": 7,
   "metadata": {
    "collapsed": true
   },
   "outputs": [],
   "source": [
    "plan = [1, 0, 2]\n",
    "\n",
    "def allowed_cubes_seq(n, plan):\n",
    "    all_cubes = list(range(5))\n",
    "    oth = list(set(all_cubes) - set(plan))\n",
    "    sds = [plan[0], plan[2]]\n",
    "    cnt = plan[1]\n",
    "\n",
    "    if n == 1:\n",
    "        return [\n",
    "            [oth[0]],\n",
    "            [oth[1]],\n",
    "            [sds[0]],\n",
    "            [sds[1]]\n",
    "        ]\n",
    "    if n == 2:\n",
    "        return [\n",
    "            [oth[0], sds[0]],\n",
    "            [oth[1], sds[0]],\n",
    "            [oth[0], sds[1]],\n",
    "            [oth[1], sds[1]],\n",
    "            [oth[0], oth[1]],\n",
    "            [oth[1], oth[0]],\n",
    "            [sds[1], cnt],\n",
    "            [sds[0], cnt]\n",
    "        ]\n",
    "    if n == 3:\n",
    "        return [\n",
    "            [oth[0], sds[0], cnt],\n",
    "            [oth[1], sds[0], cnt],\n",
    "            [oth[0], sds[1], cnt],\n",
    "            [oth[1], sds[1], cnt],\n",
    "            [oth[0], oth[1], sds[0]],\n",
    "            [oth[0], oth[1], sds[1]],\n",
    "            [oth[1], oth[0], sds[0]],\n",
    "            [oth[1], oth[0], sds[1]],\n",
    "            [cnt, sds[0], oth[0]],\n",
    "            [cnt, sds[0], oth[1]],\n",
    "            [cnt, sds[1], oth[0]],\n",
    "            [cnt, sds[1], oth[1]],\n",
    "            [sds[0], oth[0], oth[1]],\n",
    "            [sds[1], oth[0], oth[1]],\n",
    "            [sds[0], oth[1], oth[0]],\n",
    "            [sds[1], oth[1], oth[0]],\n",
    "            [sds[1], cnt, sds[0]],\n",
    "            [sds[0], cnt, sds[1]]\n",
    "        ]\n",
    "    else:\n",
    "        return None\n",
    "    \n",
    "def allowed_all_seq(plan):\n",
    "    global Allowed_seq_1\n",
    "    global Allowed_seq_2\n",
    "    global Allowed_seq_3\n",
    "    Allowed_seq_1 = allowed_cubes_seq(1, plan)\n",
    "    Allowed_seq_2 = allowed_cubes_seq(2, plan)\n",
    "    Allowed_seq_3 = allowed_cubes_seq(3, plan)    \n"
   ]
  },
  {
   "cell_type": "code",
   "execution_count": 8,
   "metadata": {
    "scrolled": true
   },
   "outputs": [
    {
     "data": {
      "text/plain": [
       "[[[0], [], []],\n",
       " [[1], [], []],\n",
       " [[2], [], []],\n",
       " [[4], [], []],\n",
       " [[3], [], []],\n",
       " [[], [0], []],\n",
       " [[], [1], []],\n",
       " [[], [2], []],\n",
       " [[], [4], []],\n",
       " [[], [3], []],\n",
       " [[], [], [0]],\n",
       " [[], [], [1]],\n",
       " [[], [], [2]],\n",
       " [[], [], [4]],\n",
       " [[], [], [3]]]"
      ]
     },
     "execution_count": 8,
     "metadata": {},
     "output_type": "execute_result"
    }
   ],
   "source": [
    "allowed_all_seq([0, 1, 2])\n",
    "# len([x[0] for x in get_one()])\n",
    "[x[1] for x in get_one()][0]"
   ]
  },
  {
   "cell_type": "markdown",
   "metadata": {},
   "source": [
    "# Search all picking sequenes for all plans"
   ]
  },
  {
   "cell_type": "code",
   "execution_count": 39,
   "metadata": {
    "collapsed": true
   },
   "outputs": [],
   "source": [
    "def permutations(array, n=None, perm = []):\n",
    "    if n == None:\n",
    "        n = len(array)\n",
    "    if n == 0:\n",
    "        yield perm\n",
    "    else:\n",
    "        for i in range(len(array)):\n",
    "            yield from permutations(array[:i] + array[i + 1:], n - 1, perm + [array[i]])\n",
    "\n",
    "def all_plans():\n",
    "    yield from permutations(list(range(5)), 3)"
   ]
  },
  {
   "cell_type": "code",
   "execution_count": 40,
   "metadata": {},
   "outputs": [
    {
     "ename": "ValueError",
     "evalue": "min() arg is an empty sequence",
     "output_type": "error",
     "traceback": [
      "\u001b[1;31m---------------------------------------------------------------------------\u001b[0m",
      "\u001b[1;31mValueError\u001b[0m                                Traceback (most recent call last)",
      "\u001b[1;32m<ipython-input-40-6a63aa265a17>\u001b[0m in \u001b[0;36m<module>\u001b[1;34m()\u001b[0m\n\u001b[0;32m      1\u001b[0m \u001b[1;32mfor\u001b[0m \u001b[0mplan\u001b[0m \u001b[1;32min\u001b[0m \u001b[0mall_plans\u001b[0m\u001b[1;33m(\u001b[0m\u001b[1;33m)\u001b[0m\u001b[1;33m:\u001b[0m\u001b[1;33m\u001b[0m\u001b[0m\n\u001b[0;32m      2\u001b[0m     \u001b[0mallowed_all_seq\u001b[0m\u001b[1;33m(\u001b[0m\u001b[0mplan\u001b[0m\u001b[1;33m)\u001b[0m\u001b[1;33m\u001b[0m\u001b[0m\n\u001b[1;32m----> 3\u001b[1;33m     \u001b[0mprint\u001b[0m\u001b[1;33m(\u001b[0m\u001b[1;34m\"plan =\"\u001b[0m\u001b[1;33m,\u001b[0m \u001b[0mplan\u001b[0m\u001b[1;33m,\u001b[0m \u001b[1;34m\", min len =\"\u001b[0m\u001b[1;33m,\u001b[0m \u001b[0mmin\u001b[0m\u001b[1;33m(\u001b[0m\u001b[1;33m[\u001b[0m\u001b[0mlen\u001b[0m\u001b[1;33m(\u001b[0m\u001b[0mx\u001b[0m\u001b[1;33m[\u001b[0m\u001b[1;36m1\u001b[0m\u001b[1;33m]\u001b[0m\u001b[1;33m)\u001b[0m \u001b[1;32mfor\u001b[0m \u001b[0mx\u001b[0m \u001b[1;32min\u001b[0m \u001b[0mget_one\u001b[0m\u001b[1;33m(\u001b[0m\u001b[1;33m)\u001b[0m\u001b[1;33m]\u001b[0m\u001b[1;33m)\u001b[0m\u001b[1;33m)\u001b[0m\u001b[1;33m\u001b[0m\u001b[0m\n\u001b[0m",
      "\u001b[1;31mValueError\u001b[0m: min() arg is an empty sequence"
     ]
    }
   ],
   "source": [
    "for plan in all_plans():\n",
    "    allowed_all_seq(plan)\n",
    "    print(\"plan =\", plan, \", min len =\", min([len(x[1]) for x in get_one()]))"
   ]
  },
  {
   "cell_type": "code",
   "execution_count": 5,
   "metadata": {},
   "outputs": [
    {
     "data": {
      "text/plain": [
       "[(1, 2)]"
      ]
     },
     "execution_count": 5,
     "metadata": {},
     "output_type": "execute_result"
    }
   ],
   "source": [
    "a = {1:2}\n",
    "list(a.items())"
   ]
  },
  {
   "cell_type": "markdown",
   "metadata": {},
   "source": [
    "# Calculating movement time during cubes picking"
   ]
  },
  {
   "cell_type": "code",
   "execution_count": 7,
   "metadata": {
    "collapsed": true
   },
   "outputs": [],
   "source": [
    "def picking_places_and_states(picking_seq):\n",
    "    places = []\n",
    "    states = []\n",
    "    for i, pick in enumerate(picking_seq):\n",
    "        n = sum(map(lambda x: len(x), pick))\n",
    "        for j, cube in enumerate(pick):\n",
    "            if cube != []:\n",
    "                if cube[0] == 4:\n",
    "                    state = 1\n",
    "                    place = places[-1]\n",
    "                elif len(states) != 0 and states[-1] == 1 and n == 1:\n",
    "                    place = places[-1] = (cube[0] - j - 1) % 4\n",
    "                    state = 2\n",
    "                else:\n",
    "                    place = (cube[0] - j + 1) % 4\n",
    "                    state = 0\n",
    "                break\n",
    "        places.append(place)\n",
    "        states.append(state)\n",
    "    return places, states\n",
    "    "
   ]
  },
  {
   "cell_type": "code",
   "execution_count": 8,
   "metadata": {},
   "outputs": [
    {
     "name": "stdout",
     "output_type": "stream",
     "text": [
      "sequence  [[1], [2], [3]] \t place  2 state  0\n",
      "sequence  [[], [4], []] \t place  3 state  1\n",
      "sequence  [[0], [], []] \t place  3 state  2\n",
      "sequence  [[], [3], [0]] \t place  3 state  0\n",
      "sequence  [[], [], [1]] \t place  0 state  0\n",
      "sequence  [[], [], [4]] \t place  3 state  1\n",
      "sequence  [[], [], [2]] \t place  3 state  2\n",
      "sequence  [[3], [0], []] \t place  0 state  0\n",
      "sequence  [[], [1], []] \t place  1 state  0\n",
      "sequence  [[4], [], []] \t place  1 state  1\n",
      "sequence  [[2], [], []] \t place  1 state  2\n"
     ]
    }
   ],
   "source": [
    "allowed_all_seq([3, 0, 1])\n",
    "seq = sorted([x[1] for x in get_one()], key = lambda x: len(x))[0]\n",
    "places, states = picking_places_and_states(seq)\n",
    "for i in range(len(places)):\n",
    "    print(\"sequence \", seq[i], \"\\t place \", places[i], \"state \", states[i])"
   ]
  },
  {
   "cell_type": "code",
   "execution_count": 9,
   "metadata": {
    "collapsed": true
   },
   "outputs": [],
   "source": [
    "def dif_point(x1, x2, n):\n",
    "    return min((x1 - x2) % n,(x1 - x2) % n)\n",
    "\n",
    "def rotation_time(places, states, start_points=None):\n",
    "    if not start_points is None:\n",
    "        time = dif_point(start_points[0], places[0], 4)\n",
    "        n_start = 1\n",
    "    else:\n",
    "        time = 0\n",
    "        n_start = 0\n",
    "    for i in range(len(places)):\n",
    "        if i != 0 and not (states[i] == 0 and states[i - 1] != 0):\n",
    "            time += min((places[i] - places[i - 1]) % 4,(places[i - 1] - places[i]) % 4)\n",
    "        elif i != 0 and states[i] == 0 and states[i - 1] != 0 and not start_points is None:\n",
    "            time += dif_point(start_points[n_start], places[i], 4)\n",
    "            n_start += 1\n",
    "    return time\n",
    "\n",
    "def move_time(places, states):\n",
    "    time = 0\n",
    "    for i in range(len(places)):\n",
    "        if i != 0 and (states[i] == 1 and states[i - 1] == 0 or states[i] == 2 and states[i - 1] == 1):\n",
    "            time += 1\n",
    "    return time"
   ]
  },
  {
   "cell_type": "code",
   "execution_count": 10,
   "metadata": {},
   "outputs": [
    {
     "name": "stdout",
     "output_type": "stream",
     "text": [
      "rotation time  4 move time  6\n"
     ]
    }
   ],
   "source": [
    "print(\"rotation time \", rotation_time(places, states), \"move time \", move_time(places, states))"
   ]
  },
  {
   "cell_type": "markdown",
   "metadata": {},
   "source": [
    "## Start points"
   ]
  },
  {
   "cell_type": "code",
   "execution_count": 11,
   "metadata": {
    "collapsed": true
   },
   "outputs": [],
   "source": [
    "# start_points = [3, 2, 3]\n",
    "start_points = [2, 3, 0]"
   ]
  },
  {
   "cell_type": "markdown",
   "metadata": {},
   "source": [
    "# Choosing the most effective picking sequence"
   ]
  },
  {
   "cell_type": "markdown",
   "metadata": {},
   "source": [
    "## Rotate time with start points"
   ]
  },
  {
   "cell_type": "code",
   "execution_count": 12,
   "metadata": {},
   "outputs": [
    {
     "name": "stdout",
     "output_type": "stream",
     "text": [
      "plan = [0, 1, 2] min rotate time = 5 max rotate time = 16\n",
      "plan = [0, 1, 3] min rotate time = 4 max rotate time = 17\n",
      "plan = [0, 1, 4] min rotate time = 2 max rotate time = 17\n",
      "plan = [0, 2, 1] min rotate time = 5 max rotate time = 17\n",
      "plan = [0, 2, 3] min rotate time = 5 max rotate time = 17\n",
      "plan = [0, 2, 4] min rotate time = 5 max rotate time = 19\n",
      "plan = [0, 3, 1] min rotate time = 4 max rotate time = 18\n",
      "plan = [0, 3, 2] min rotate time = 6 max rotate time = 14\n",
      "plan = [0, 3, 4] min rotate time = 4 max rotate time = 17\n",
      "plan = [0, 4, 1] min rotate time = 3 max rotate time = 18\n",
      "plan = [0, 4, 2] min rotate time = 3 max rotate time = 18\n",
      "plan = [0, 4, 3] min rotate time = 5 max rotate time = 18\n",
      "plan = [1, 0, 2] min rotate time = 1 max rotate time = 15\n",
      "plan = [1, 0, 3] min rotate time = 4 max rotate time = 15\n",
      "plan = [1, 0, 4] min rotate time = 3 max rotate time = 17\n",
      "plan = [1, 2, 0] min rotate time = 5 max rotate time = 17\n",
      "plan = [1, 2, 3] min rotate time = 5 max rotate time = 15\n",
      "plan = [1, 2, 4] min rotate time = 4 max rotate time = 19\n",
      "plan = [1, 3, 0] min rotate time = 4 max rotate time = 18\n",
      "plan = [1, 3, 2] min rotate time = 3 max rotate time = 16\n",
      "plan = [1, 3, 4] min rotate time = 5 max rotate time = 18\n",
      "plan = [1, 4, 0] min rotate time = 3 max rotate time = 18\n",
      "plan = [1, 4, 2] min rotate time = 5 max rotate time = 18\n",
      "plan = [1, 4, 3] min rotate time = 4 max rotate time = 17\n",
      "plan = [2, 0, 1] min rotate time = 1 max rotate time = 15\n",
      "plan = [2, 0, 3] min rotate time = 3 max rotate time = 19\n",
      "plan = [2, 0, 4] min rotate time = 5 max rotate time = 17\n",
      "plan = [2, 1, 0] min rotate time = 5 max rotate time = 16\n",
      "plan = [2, 1, 3] min rotate time = 3 max rotate time = 19\n",
      "plan = [2, 1, 4] min rotate time = 4 max rotate time = 19\n",
      "plan = [2, 3, 0] min rotate time = 6 max rotate time = 14\n",
      "plan = [2, 3, 1] min rotate time = 3 max rotate time = 16\n",
      "plan = [2, 3, 4] min rotate time = 3 max rotate time = 19\n",
      "plan = [2, 4, 0] min rotate time = 3 max rotate time = 18\n",
      "plan = [2, 4, 1] min rotate time = 5 max rotate time = 18\n",
      "plan = [2, 4, 3] min rotate time = 5 max rotate time = 18\n",
      "plan = [3, 0, 1] min rotate time = 4 max rotate time = 15\n",
      "plan = [3, 0, 2] min rotate time = 3 max rotate time = 19\n",
      "plan = [3, 0, 4] min rotate time = 1 max rotate time = 16\n",
      "plan = [3, 1, 0] min rotate time = 4 max rotate time = 17\n",
      "plan = [3, 1, 2] min rotate time = 3 max rotate time = 19\n",
      "plan = [3, 1, 4] min rotate time = 7 max rotate time = 18\n",
      "plan = [3, 2, 0] min rotate time = 5 max rotate time = 17\n",
      "plan = [3, 2, 1] min rotate time = 5 max rotate time = 15\n",
      "plan = [3, 2, 4] min rotate time = 3 max rotate time = 17\n",
      "plan = [3, 4, 0] min rotate time = 5 max rotate time = 18\n",
      "plan = [3, 4, 1] min rotate time = 4 max rotate time = 17\n",
      "plan = [3, 4, 2] min rotate time = 5 max rotate time = 18\n",
      "plan = [4, 0, 1] min rotate time = 3 max rotate time = 17\n",
      "plan = [4, 0, 2] min rotate time = 5 max rotate time = 17\n",
      "plan = [4, 0, 3] min rotate time = 1 max rotate time = 16\n",
      "plan = [4, 1, 0] min rotate time = 2 max rotate time = 17\n",
      "plan = [4, 1, 2] min rotate time = 4 max rotate time = 19\n",
      "plan = [4, 1, 3] min rotate time = 7 max rotate time = 18\n",
      "plan = [4, 2, 0] min rotate time = 5 max rotate time = 19\n",
      "plan = [4, 2, 1] min rotate time = 4 max rotate time = 19\n",
      "plan = [4, 2, 3] min rotate time = 3 max rotate time = 17\n",
      "plan = [4, 3, 0] min rotate time = 4 max rotate time = 17\n",
      "plan = [4, 3, 1] min rotate time = 5 max rotate time = 18\n",
      "plan = [4, 3, 2] min rotate time = 3 max rotate time = 19\n"
     ]
    }
   ],
   "source": [
    "time = lambda x: rotation_time(*picking_places_and_states(x), start_points=start_points)\n",
    "for plan in all_plans():\n",
    "    allowed_all_seq(plan)\n",
    "    seqs = [x[1] for x in get_one()]\n",
    "    print(\"plan =\", plan, \"min rotate time =\", time(min(seqs, key = time)),\n",
    "          \"max rotate time =\", time(max(seqs, key = time)))"
   ]
  },
  {
   "cell_type": "code",
   "execution_count": 13,
   "metadata": {},
   "outputs": [
    {
     "name": "stdout",
     "output_type": "stream",
     "text": [
      "sequence  [[1], [], [3]] \t place  2 state  0\n",
      "sequence  [[0], [], []] \t place  1 state  0\n",
      "sequence  [[], [], [4]] \t place  3 state  1\n",
      "sequence  [[], [], [2]] \t place  3 state  2\n",
      "sequence  [[2], [3], [0]] \t place  3 state  0\n",
      "sequence  [[4], [], []] \t place  3 state  1\n",
      "sequence  [[], [1], []] \t place  3 state  2\n",
      "sequence  [[], [0], [1]] \t place  0 state  0\n",
      "sequence  [[], [2], []] \t place  2 state  0\n",
      "sequence  [[], [4], []] \t place  2 state  1\n",
      "sequence  [[3], [], []] \t place  2 state  2\n",
      "5\n"
     ]
    }
   ],
   "source": [
    "allowed_all_seq([4, 2, 0])\n",
    "seqs = [x[1] for x in get_one()]\n",
    "seq = min(seqs, key = time)\n",
    "places, states = picking_places_and_states(seq)\n",
    "for i in range(len(places)):\n",
    "    print(\"sequence \", seq[i], \"\\t place \", places[i], \"state \", states[i])\n",
    "    \n",
    "print(time(seq))"
   ]
  },
  {
   "cell_type": "markdown",
   "metadata": {
    "collapsed": true
   },
   "source": [
    "## Linear combination of rotate time, picking number and move forward time"
   ]
  },
  {
   "cell_type": "code",
   "execution_count": 14,
   "metadata": {
    "collapsed": true
   },
   "outputs": [],
   "source": [
    "def general_time(seq, k_r=1, k_m=1, k_p=1, start_points=None):\n",
    "    places, states = picking_places_and_states(seq)\n",
    "    t_r = rotation_time(places, states, start_points)\n",
    "    t_m = move_time(places, states)\n",
    "    t_p = len(seq)\n",
    "    return t_r * k_r + t_m * k_m + t_p * k_p"
   ]
  },
  {
   "cell_type": "code",
   "execution_count": 50,
   "metadata": {},
   "outputs": [
    {
     "name": "stdout",
     "output_type": "stream",
     "text": [
      "plan = [0, 1, 2] min time = 59 max time = 102\n",
      "plan = [0, 1, 3] min time = 59 max time = 111\n",
      "plan = [0, 1, 4] min time = 47 max time = 108\n",
      "plan = [0, 2, 1] min time = 59 max time = 111\n",
      "plan = [0, 2, 3] min time = 53 max time = 111\n",
      "plan = [0, 2, 4] min time = 58 max time = 117\n",
      "plan = [0, 3, 1] min time = 59 max time = 111\n",
      "plan = [0, 3, 2] min time = 61 max time = 102\n",
      "plan = [0, 3, 4] min time = 47 max time = 111\n",
      "plan = [0, 4, 1] min time = 49 max time = 114\n",
      "plan = [0, 4, 2] min time = 43 max time = 111\n",
      "plan = [0, 4, 3] min time = 54 max time = 114\n",
      "plan = [1, 0, 2] min time = 56 max time = 111\n",
      "plan = [1, 0, 3] min time = 56 max time = 102\n",
      "plan = [1, 0, 4] min time = 51 max time = 108\n",
      "plan = [1, 2, 0] min time = 59 max time = 111\n",
      "plan = [1, 2, 3] min time = 59 max time = 102\n",
      "plan = [1, 2, 4] min time = 51 max time = 111\n",
      "plan = [1, 3, 0] min time = 59 max time = 111\n",
      "plan = [1, 3, 2] min time = 61 max time = 111\n",
      "plan = [1, 3, 4] min time = 62 max time = 117\n",
      "plan = [1, 4, 0] min time = 49 max time = 114\n",
      "plan = [1, 4, 2] min time = 49 max time = 114\n",
      "plan = [1, 4, 3] min time = 48 max time = 108\n",
      "plan = [2, 0, 1] min time = 56 max time = 111\n",
      "plan = [2, 0, 3] min time = 56 max time = 111\n",
      "plan = [2, 0, 4] min time = 62 max time = 117\n",
      "plan = [2, 1, 0] min time = 59 max time = 102\n",
      "plan = [2, 1, 3] min time = 58 max time = 111\n",
      "plan = [2, 1, 4] min time = 49 max time = 108\n",
      "plan = [2, 3, 0] min time = 61 max time = 102\n",
      "plan = [2, 3, 1] min time = 61 max time = 111\n",
      "plan = [2, 3, 4] min time = 53 max time = 111\n",
      "plan = [2, 4, 0] min time = 43 max time = 111\n",
      "plan = [2, 4, 1] min time = 49 max time = 114\n",
      "plan = [2, 4, 3] min time = 52 max time = 114\n",
      "plan = [3, 0, 1] min time = 56 max time = 102\n",
      "plan = [3, 0, 2] min time = 56 max time = 111\n",
      "plan = [3, 0, 4] min time = 45 max time = 111\n",
      "plan = [3, 1, 0] min time = 59 max time = 111\n",
      "plan = [3, 1, 2] min time = 58 max time = 111\n",
      "plan = [3, 1, 4] min time = 56 max time = 111\n",
      "plan = [3, 2, 0] min time = 53 max time = 111\n",
      "plan = [3, 2, 1] min time = 59 max time = 102\n",
      "plan = [3, 2, 4] min time = 45 max time = 108\n",
      "plan = [3, 4, 0] min time = 54 max time = 114\n",
      "plan = [3, 4, 1] min time = 48 max time = 108\n",
      "plan = [3, 4, 2] min time = 52 max time = 114\n",
      "plan = [4, 0, 1] min time = 51 max time = 108\n",
      "plan = [4, 0, 2] min time = 62 max time = 117\n",
      "plan = [4, 0, 3] min time = 45 max time = 111\n",
      "plan = [4, 1, 0] min time = 47 max time = 108\n",
      "plan = [4, 1, 2] min time = 49 max time = 108\n",
      "plan = [4, 1, 3] min time = 56 max time = 111\n",
      "plan = [4, 2, 0] min time = 58 max time = 117\n",
      "plan = [4, 2, 1] min time = 51 max time = 111\n",
      "plan = [4, 2, 3] min time = 45 max time = 108\n",
      "plan = [4, 3, 0] min time = 47 max time = 111\n",
      "plan = [4, 3, 1] min time = 62 max time = 117\n",
      "plan = [4, 3, 2] min time = 53 max time = 111\n"
     ]
    }
   ],
   "source": [
    "operation_times = []\n",
    "k_r = 3\n",
    "k_m = 2\n",
    "k_p = 2\n",
    "time = lambda x: general_time(x, k_r, k_m, k_p, start_points)\n",
    "for plan in all_plans():\n",
    "    allowed_all_seq(plan)\n",
    "    seqs = [x[1] for x in get_one()]\n",
    "    operation_times.append(time(min(seqs, key=time)))\n",
    "    print(\"plan =\", plan, \"min time =\", time(min(seqs, key=time)),\n",
    "          \"max time =\", time(max(seqs, key=time)))"
   ]
  },
  {
   "cell_type": "code",
   "execution_count": 49,
   "metadata": {},
   "outputs": [
    {
     "name": "stdout",
     "output_type": "stream",
     "text": [
      "[[0], [], []]\n",
      "[[1], [], []]\n",
      "[[2], [], []]\n",
      "[[4], [], []]\n",
      "[[], [3], []]\n",
      "[[], [2], [3]]\n",
      "[[], [1], []]\n",
      "[[], [], [4]]\n",
      "[[], [0], []]\n",
      "[[], [], [0]]\n",
      "[[3], [], [1]]\n",
      "[[], [4], []]\n",
      "[[], [], [2]]\n",
      "time =  13\n"
     ]
    }
   ],
   "source": [
    "allowed_all_seq([0, 1, 2])\n",
    "seqs = [x[1] for x in get_one()]\n",
    "time = lambda x: general_time(x, 0, 0, 1, start_points)\n",
    "seq = min(seqs, key=time)\n",
    "for i in seq:\n",
    "    print(i)\n",
    "print(\"time = \", time(seq))"
   ]
  },
  {
   "cell_type": "code",
   "execution_count": 16,
   "metadata": {
    "collapsed": true
   },
   "outputs": [],
   "source": [
    "from matplotlib import pyplot as plt\n",
    "%matplotlib inline"
   ]
  },
  {
   "cell_type": "code",
   "execution_count": 17,
   "metadata": {},
   "outputs": [
    {
     "data": {
      "image/png": "[encoded data removed]",
      "text/plain": [
       "<matplotlib.figure.Figure at 0x1d198f20da0>"
      ]
     },
     "metadata": {},
     "output_type": "display_data"
    }
   ],
   "source": [
    "plt.hist(operation_times);"
   ]
  },
  {
   "cell_type": "code",
   "execution_count": 18,
   "metadata": {},
   "outputs": [
    {
     "data": {
      "text/plain": [
       "42.8"
      ]
     },
     "execution_count": 18,
     "metadata": {},
     "output_type": "execute_result"
    }
   ],
   "source": [
    "sum(operation_times) / len(operation_times)"
   ]
  },
  {
   "cell_type": "markdown",
   "metadata": {},
   "source": [
    "# Simple picking"
   ]
  },
  {
   "cell_type": "code",
   "execution_count": 19,
   "metadata": {
    "collapsed": true
   },
   "outputs": [],
   "source": [
    "def simple_pick(remain_cubes, n_cubes):\n",
    "    if n_cubes == 4:\n",
    "        yield remain_cubes, [4]\n",
    "    elif n_cubes == 1:\n",
    "        for i in range(len(remain_cubes)):\n",
    "            yield remain_cubes[:i] + remain_cubes[i + 1:], [remain_cubes[i]]\n",
    "\n",
    "def simple_get_one_cube(tower_cubes=[], picking_seq=[], remain_cubes=[], strat=None):\n",
    "    if strat==None:\n",
    "        yield from simple_get_one_cube(tower_cubes, picking_seq, [0, 1, 2, 3], [1, 1, 1, 1, 4])\n",
    "        yield from simple_get_one_cube(tower_cubes, picking_seq, [0, 1, 2, 3], [1, 1, 1, 4, 1])\n",
    "    elif len(strat) > 0:\n",
    "        for remain_cubes, picked_cubes in simple_pick(remain_cubes, strat[0]):\n",
    "            new_tower_cubes = tower_cubes + picked_cubes\n",
    "            if check_tower(new_tower_cubes):\n",
    "                yield from simple_get_one_cube(new_tower_cubes, picking_seq + picked_cubes, remain_cubes, strat[1:])\n",
    "    elif strat == []:\n",
    "        yield tower_cubes, picking_seq\n",
    "    \n",
    "    "
   ]
  },
  {
   "cell_type": "code",
   "execution_count": 20,
   "metadata": {},
   "outputs": [
    {
     "name": "stdout",
     "output_type": "stream",
     "text": [
      "plan = [0, 1, 2] [0, 1, 2, 3, 4]\n",
      "plan = [0, 1, 3] [0, 1, 3, 2, 4]\n",
      "plan = [0, 1, 4] [2, 3, 0, 1, 4]\n",
      "plan = [0, 2, 1] [0, 2, 1, 3, 4]\n",
      "plan = [0, 2, 3] [0, 2, 3, 1, 4]\n",
      "plan = [0, 2, 4] [1, 3, 0, 2, 4]\n",
      "plan = [0, 3, 1] [0, 3, 1, 2, 4]\n",
      "plan = [0, 3, 2] [0, 3, 2, 1, 4]\n",
      "plan = [0, 3, 4] [1, 2, 0, 3, 4]\n",
      "plan = [0, 4, 1] [2, 3, 0, 4, 1]\n",
      "plan = [0, 4, 2] [1, 3, 0, 4, 2]\n",
      "plan = [0, 4, 3] [1, 2, 0, 4, 3]\n",
      "plan = [1, 0, 2] [1, 0, 2, 3, 4]\n",
      "plan = [1, 0, 3] [1, 0, 3, 2, 4]\n",
      "plan = [1, 0, 4] [2, 3, 1, 0, 4]\n",
      "plan = [1, 2, 0] [0, 2, 1, 3, 4]\n",
      "plan = [1, 2, 3] [0, 1, 2, 3, 4]\n",
      "plan = [1, 2, 4] [0, 3, 1, 2, 4]\n",
      "plan = [1, 3, 0] [0, 3, 1, 2, 4]\n",
      "plan = [1, 3, 2] [0, 1, 3, 2, 4]\n",
      "plan = [1, 3, 4] [0, 2, 1, 3, 4]\n",
      "plan = [1, 4, 0] [2, 3, 0, 4, 1]\n",
      "plan = [1, 4, 2] [0, 3, 1, 4, 2]\n",
      "plan = [1, 4, 3] [0, 2, 1, 4, 3]\n",
      "plan = [2, 0, 1] [1, 0, 2, 3, 4]\n",
      "plan = [2, 0, 3] [1, 2, 0, 3, 4]\n",
      "plan = [2, 0, 4] [1, 3, 2, 0, 4]\n",
      "plan = [2, 1, 0] [0, 1, 2, 3, 4]\n",
      "plan = [2, 1, 3] [0, 2, 1, 3, 4]\n",
      "plan = [2, 1, 4] [0, 3, 2, 1, 4]\n",
      "plan = [2, 3, 0] [0, 3, 2, 1, 4]\n",
      "plan = [2, 3, 1] [0, 1, 3, 2, 4]\n",
      "plan = [2, 3, 4] [0, 1, 2, 3, 4]\n",
      "plan = [2, 4, 0] [1, 3, 0, 4, 2]\n",
      "plan = [2, 4, 1] [0, 3, 1, 4, 2]\n",
      "plan = [2, 4, 3] [0, 1, 2, 4, 3]\n",
      "plan = [3, 0, 1] [1, 0, 3, 2, 4]\n",
      "plan = [3, 0, 2] [1, 2, 0, 3, 4]\n",
      "plan = [3, 0, 4] [1, 2, 3, 0, 4]\n",
      "plan = [3, 1, 0] [0, 1, 3, 2, 4]\n",
      "plan = [3, 1, 2] [0, 2, 1, 3, 4]\n",
      "plan = [3, 1, 4] [0, 2, 3, 1, 4]\n",
      "plan = [3, 2, 0] [0, 2, 3, 1, 4]\n",
      "plan = [3, 2, 1] [0, 1, 2, 3, 4]\n",
      "plan = [3, 2, 4] [0, 1, 3, 2, 4]\n",
      "plan = [3, 4, 0] [1, 2, 0, 4, 3]\n",
      "plan = [3, 4, 1] [0, 2, 1, 4, 3]\n",
      "plan = [3, 4, 2] [0, 1, 2, 4, 3]\n",
      "plan = [4, 0, 1] [2, 3, 1, 0, 4]\n",
      "plan = [4, 0, 2] [1, 3, 2, 0, 4]\n",
      "plan = [4, 0, 3] [1, 2, 3, 0, 4]\n",
      "plan = [4, 1, 0] [2, 3, 0, 1, 4]\n",
      "plan = [4, 1, 2] [0, 3, 2, 1, 4]\n",
      "plan = [4, 1, 3] [0, 2, 3, 1, 4]\n",
      "plan = [4, 2, 0] [1, 3, 0, 2, 4]\n",
      "plan = [4, 2, 1] [0, 3, 1, 2, 4]\n",
      "plan = [4, 2, 3] [0, 1, 3, 2, 4]\n",
      "plan = [4, 3, 0] [1, 2, 0, 3, 4]\n",
      "plan = [4, 3, 1] [0, 2, 1, 3, 4]\n",
      "plan = [4, 3, 2] [0, 1, 2, 3, 4]\n"
     ]
    }
   ],
   "source": [
    "for plan in all_plans():\n",
    "    allowed_all_seq(plan)\n",
    "    print(\"plan =\", plan, [x[1] for x in simple_get_one_cube()][0])"
   ]
  },
  {
   "cell_type": "code",
   "execution_count": 21,
   "metadata": {
    "collapsed": true
   },
   "outputs": [],
   "source": [
    "def simple_picking_places_and_states(picking_seq):\n",
    "    places = []\n",
    "    states = []\n",
    "    for i, pick in enumerate(picking_seq):\n",
    "        cube = pick\n",
    "        if cube == 4:\n",
    "            state = 1\n",
    "            place = places[-1]\n",
    "        elif len(states) != 0 and states[-1] == 1:\n",
    "            place = places[-1] = (cube - 2) % 4\n",
    "            state = 2\n",
    "        else:\n",
    "            place = (cube) % 4\n",
    "            state = 0\n",
    "        places.append(place)\n",
    "        states.append(state)\n",
    "    return places, states\n",
    "\n",
    "def simple_rotation_time(places, states, start_point=None):\n",
    "    if start_point is None:\n",
    "        time = 0\n",
    "    else:\n",
    "        time = dif_point(start_point, places[0], 4)\n",
    "    for i in range(1, len(places)):\n",
    "        time += min((places[i] - places[i - 1]) % 4,(places[i - 1] - places[i]) % 4)\n",
    "    return time\n",
    "\n",
    "def simple_move_time(places, states):\n",
    "    time = 0\n",
    "    for i in range(len(places)):\n",
    "        if i != 0 and (states[i] == 1 and states[i - 1] == 0 or states[i] == 2 and states[i - 1] == 1):\n",
    "            time += 1\n",
    "    return time\n",
    "\n",
    "def simple_time(seq, k_r=1, k_m=1, k_p=1, start_point=None):\n",
    "    time = 0\n",
    "    places, states = simple_picking_places_and_states(seq)\n",
    "    t_r = simple_rotation_time(places, states, start_point)\n",
    "    t_m = simple_move_time(places, states)\n",
    "    t_p = len(seq)\n",
    "    time += t_r * k_r + t_m * k_m + t_p * k_p\n",
    "    return time"
   ]
  },
  {
   "cell_type": "code",
   "execution_count": 22,
   "metadata": {},
   "outputs": [
    {
     "name": "stdout",
     "output_type": "stream",
     "text": [
      "sequence  1 \t place  1 state  0\n",
      "sequence  0 \t place  0 state  0\n",
      "sequence  2 \t place  2 state  0\n",
      "sequence  3 \t place  3 state  0\n",
      "sequence  4 \t place  3 state  1\n",
      "10\n"
     ]
    }
   ],
   "source": [
    "allowed_all_seq([1, 0, 2])\n",
    "seq = sorted([x[1] for x in simple_get_one_cube()], key = lambda x: len(x))[0]\n",
    "places, states = simple_picking_places_and_states(seq)\n",
    "for i in range(len(places)):\n",
    "    print(\"sequence \", seq[i], \"\\t place \", places[i], \"state \", states[i])\n",
    "print(simple_time(seq))"
   ]
  },
  {
   "cell_type": "code",
   "execution_count": 23,
   "metadata": {},
   "outputs": [
    {
     "name": "stdout",
     "output_type": "stream",
     "text": [
      "plan = [0, 1, 2] min time = 54 max time = 74\n",
      "plan = [0, 1, 3] min time = 60 max time = 82\n",
      "plan = [0, 1, 4] min time = 60 max time = 72\n",
      "plan = [0, 2, 1] min time = 62 max time = 84\n",
      "plan = [0, 2, 3] min time = 62 max time = 84\n",
      "plan = [0, 2, 4] min time = 70 max time = 82\n",
      "plan = [0, 3, 1] min time = 62 max time = 82\n",
      "plan = [0, 3, 2] min time = 56 max time = 74\n",
      "plan = [0, 3, 4] min time = 60 max time = 72\n",
      "plan = [0, 4, 1] min time = 62 max time = 78\n",
      "plan = [0, 4, 2] min time = 64 max time = 76\n",
      "plan = [0, 4, 3] min time = 66 max time = 78\n",
      "plan = [1, 0, 2] min time = 62 max time = 82\n",
      "plan = [1, 0, 3] min time = 56 max time = 76\n",
      "plan = [1, 0, 4] min time = 58 max time = 72\n",
      "plan = [1, 2, 0] min time = 62 max time = 84\n",
      "plan = [1, 2, 3] min time = 56 max time = 76\n",
      "plan = [1, 2, 4] min time = 62 max time = 74\n",
      "plan = [1, 3, 0] min time = 62 max time = 82\n",
      "plan = [1, 3, 2] min time = 62 max time = 82\n",
      "plan = [1, 3, 4] min time = 68 max time = 80\n",
      "plan = [1, 4, 0] min time = 62 max time = 78\n",
      "plan = [1, 4, 2] min time = 64 max time = 80\n",
      "plan = [1, 4, 3] min time = 62 max time = 74\n",
      "plan = [2, 0, 1] min time = 62 max time = 82\n",
      "plan = [2, 0, 3] min time = 62 max time = 82\n",
      "plan = [2, 0, 4] min time = 70 max time = 82\n",
      "plan = [2, 1, 0] min time = 54 max time = 74\n",
      "plan = [2, 1, 3] min time = 60 max time = 82\n",
      "plan = [2, 1, 4] min time = 60 max time = 74\n",
      "plan = [2, 3, 0] min time = 56 max time = 74\n",
      "plan = [2, 3, 1] min time = 62 max time = 82\n",
      "plan = [2, 3, 4] min time = 64 max time = 76\n",
      "plan = [2, 4, 0] min time = 64 max time = 76\n",
      "plan = [2, 4, 1] min time = 64 max time = 80\n",
      "plan = [2, 4, 3] min time = 66 max time = 82\n",
      "plan = [3, 0, 1] min time = 56 max time = 76\n",
      "plan = [3, 0, 2] min time = 62 max time = 82\n",
      "plan = [3, 0, 4] min time = 66 max time = 72\n",
      "plan = [3, 1, 0] min time = 60 max time = 82\n",
      "plan = [3, 1, 2] min time = 60 max time = 82\n",
      "plan = [3, 1, 4] min time = 68 max time = 80\n",
      "plan = [3, 2, 0] min time = 62 max time = 84\n",
      "plan = [3, 2, 1] min time = 56 max time = 76\n",
      "plan = [3, 2, 4] min time = 62 max time = 76\n",
      "plan = [3, 4, 0] min time = 66 max time = 78\n",
      "plan = [3, 4, 1] min time = 62 max time = 74\n",
      "plan = [3, 4, 2] min time = 66 max time = 82\n",
      "plan = [4, 0, 1] min time = 58 max time = 72\n",
      "plan = [4, 0, 2] min time = 70 max time = 82\n",
      "plan = [4, 0, 3] min time = 66 max time = 72\n",
      "plan = [4, 1, 0] min time = 60 max time = 72\n",
      "plan = [4, 1, 2] min time = 60 max time = 74\n",
      "plan = [4, 1, 3] min time = 68 max time = 80\n",
      "plan = [4, 2, 0] min time = 70 max time = 82\n",
      "plan = [4, 2, 1] min time = 62 max time = 74\n",
      "plan = [4, 2, 3] min time = 62 max time = 76\n",
      "plan = [4, 3, 0] min time = 60 max time = 72\n",
      "plan = [4, 3, 1] min time = 68 max time = 80\n",
      "plan = [4, 3, 2] min time = 64 max time = 76\n"
     ]
    }
   ],
   "source": [
    "operation_times = []\n",
    "operation_times = []\n",
    "k_r = 2\n",
    "k_m = 2\n",
    "k_p = 2\n",
    "for plan in all_plans():\n",
    "    allowed_all_seq(plan)\n",
    "    seqs = [x[1] for x in simple_get_one_cube()]\n",
    "    min_time = 0\n",
    "    max_time = 0\n",
    "    for start_point in start_points:\n",
    "        time = lambda x: simple_time(x, k_r, k_m, k_p, start_point) \n",
    "        min_time += time(min(seqs, key=time))\n",
    "        max_time += time(max(seqs, key=time))\n",
    "        \n",
    "    operation_times.append(min_time)\n",
    "    print(\"plan =\", plan, \"min time =\", min_time, \"max time =\", max_time)"
   ]
  },
  {
   "cell_type": "markdown",
   "metadata": {
    "collapsed": true
   },
   "source": [
    "# Library of trajectory sequence"
   ]
  },
  {
   "cell_type": "code",
   "execution_count": 8,
   "metadata": {},
   "outputs": [
    {
     "name": "stdout",
     "output_type": "stream",
     "text": [
      "[[0], [1], []]\n",
      "[[3], [], []]\n",
      "[[4], [], []]\n",
      "[[2], [], []]\n",
      "[[], [3], [0]]\n",
      "[[], [], [1]]\n",
      "[[], [4], []]\n",
      "[[], [2], []]\n",
      "[[0], [1], [2]]\n",
      "[[], [], [4]]\n",
      "[[], [], [3]]\n",
      "38\n"
     ]
    }
   ],
   "source": [
    "# %load test.py\n",
    "from cubesequence import *\n",
    "\n",
    "optimizer = CubePickingOptimizer()\n",
    "optimizer.set_plan([2, 4, 3])\n",
    "time = optimizer.get_fun_time(k_r=1, k_m=2, k_p=2)\n",
    "seq = optimizer.find_optimal_sequence(time)\n",
    "for s in seq:\n",
    "    print(s)\n",
    "print(time(seq))\n"
   ]
  },
  {
   "cell_type": "code",
   "execution_count": 11,
   "metadata": {},
   "outputs": [
    {
     "name": "stdout",
     "output_type": "stream",
     "text": [
      "0 0 0\n",
      "1 1 1\n",
      "2 0 3\n",
      "3 0 4\n",
      "4 0 2\n",
      "5 1 3\n",
      "6 2 0\n",
      "7 2 1\n",
      "8 1 4\n",
      "9 1 2\n",
      "10 0 0\n",
      "11 1 1\n",
      "12 2 2\n",
      "13 2 4\n",
      "14 2 3\n"
     ]
    }
   ],
   "source": [
    "n = 0\n",
    "for i in range(len(seq)):\n",
    "    for j in range(3):\n",
    "        if seq[i][j]:\n",
    "            print(n, j, seq[i][j][0])\n",
    "            n += 1"
   ]
  },
  {
   "cell_type": "code",
   "execution_count": null,
   "metadata": {
    "collapsed": true
   },
   "outputs": [],
   "source": []
  }
 ],
 "metadata": {
  "kernelspec": {
   "display_name": "Python 3",
   "language": "python",
   "name": "python3"
  },
  "language_info": {
   "codemirror_mode": {
    "name": "ipython",
    "version": 3
   },
   "file_extension": ".py",
   "mimetype": "text/x-python",
   "name": "python",
   "nbconvert_exporter": "python",
   "pygments_lexer": "ipython3",
   "version": "3.6.1"
  },
  "notify_time": "5",
  "toc": {
   "nav_menu": {},
   "number_sections": true,
   "sideBar": true,
   "skip_h1_title": false,
   "toc_cell": false,
   "toc_position": {},
   "toc_section_display": "block",
   "toc_window_display": false
  },
  "varInspector": {
   "cols": {
    "lenName": 16,
    "lenType": 16,
    "lenVar": 40
   },
   "kernels_config": {
    "python": {
     "delete_cmd_postfix": "",
     "delete_cmd_prefix": "del ",
     "library": "var_list.py",
     "varRefreshCmd": "print(var_dic_list())"
    },
    "r": {
     "delete_cmd_postfix": ") ",
     "delete_cmd_prefix": "rm(",
     "library": "var_list.r",
     "varRefreshCmd": "cat(var_dic_list()) "
    }
   },
   "types_to_exclude": [
    "module",
    "function",
    "builtin_function_or_method",
    "instance",
    "_Feature"
   ],
   "window_display": false
  }
 },
 "nbformat": 4,
 "nbformat_minor": 2
}
