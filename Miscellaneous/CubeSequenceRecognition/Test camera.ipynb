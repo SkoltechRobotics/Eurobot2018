{
 "cells": [
  {
   "cell_type": "code",
   "execution_count": 3,
   "metadata": {
    "collapsed": true
   },
   "outputs": [],
   "source": [
    "import time\n",
    "import numpy as np\n",
    "import cv2\n",
    "import matplotlib.pyplot as plt\n",
    "import datetime\n",
    "%matplotlib inline"
   ]
  },
  {
   "cell_type": "code",
   "execution_count": 18,
   "metadata": {},
   "outputs": [],
   "source": [
    "class camera(object):\n",
    "    def __init__(self):\n",
    "        self.cap = cv2.VideoCapture(1)\n",
    "        self.cap.set(cv2.CAP_PROP_FRAME_WIDTH, 1600)\n",
    "        self.cap.set(cv2.CAP_PROP_FRAME_HEIGHT, 1200)\n",
    "        for i in range(3):\n",
    "            ret, frame = self.cap.read()\n",
    "            \n",
    "    def show_img(self):\n",
    "        while(1):\n",
    "            ret, frame = self.cap.read()\n",
    "            cv2.imshow('frame',frame)\n",
    "\n",
    "            if cv2.waitKey(1) & 0xFF == ord('q'):\n",
    "                break\n",
    "        cv2.destroyAllWindows()\n",
    "    def make_img(self):\n",
    "        ret, frame = self.cap.read()\n",
    "        plt.subplots(1, 1, figsize=(6, 4), dpi=300)\n",
    "        plt.imshow(cv2.cvtColor(frame, cv2.COLOR_RGB2BGR))\n",
    "    def save_img(self, plan):\n",
    "        ret, frame = self.cap.read()\n",
    "        name = \"imgs/\" + datetime.datetime.now().strftime(\"%Y%m%d%H%M%S\") + str(\n",
    "            plan[0]) + str(plan[1]) + str(plan[2]) + \".png\"\n",
    "        ret, frame = self.cap.read()\n",
    "        cv2.imwrite(name, frame)\n",
    "    def release(self):\n",
    "        self.cap.release()"
   ]
  },
  {
   "cell_type": "code",
   "execution_count": 19,
   "metadata": {},
   "outputs": [],
   "source": [
    "cam = camera()"
   ]
  },
  {
   "cell_type": "code",
   "execution_count": 20,
   "metadata": {},
   "outputs": [],
   "source": [
    "cam.save_img([0, 1, 2])"
   ]
  },
  {
   "cell_type": "code",
   "execution_count": 17,
   "metadata": {
    "collapsed": true
   },
   "outputs": [],
   "source": [
    "cam.release()"
   ]
  },
  {
   "cell_type": "code",
   "execution_count": null,
   "metadata": {
    "collapsed": true
   },
   "outputs": [],
   "source": []
  }
 ],
 "metadata": {
  "kernelspec": {
   "display_name": "Python 3",
   "language": "python",
   "name": "python3"
  },
  "language_info": {
   "codemirror_mode": {
    "name": "ipython",
    "version": 3
   },
   "file_extension": ".py",
   "mimetype": "text/x-python",
   "name": "python",
   "nbconvert_exporter": "python",
   "pygments_lexer": "ipython3",
   "version": "3.6.1"
  },
  "toc": {
   "nav_menu": {},
   "number_sections": true,
   "sideBar": true,
   "skip_h1_title": false,
   "toc_cell": false,
   "toc_position": {},
   "toc_section_display": "block",
   "toc_window_display": false
  },
  "varInspector": {
   "cols": {
    "lenName": 16,
    "lenType": 16,
    "lenVar": 40
   },
   "kernels_config": {
    "python": {
     "delete_cmd_postfix": "",
     "delete_cmd_prefix": "del ",
     "library": "var_list.py",
     "varRefreshCmd": "print(var_dic_list())"
    },
    "r": {
     "delete_cmd_postfix": ") ",
     "delete_cmd_prefix": "rm(",
     "library": "var_list.r",
     "varRefreshCmd": "cat(var_dic_list()) "
    }
   },
   "types_to_exclude": [
    "module",
    "function",
    "builtin_function_or_method",
    "instance",
    "_Feature"
   ],
   "window_display": false
  }
 },
 "nbformat": 4,
 "nbformat_minor": 2
}
